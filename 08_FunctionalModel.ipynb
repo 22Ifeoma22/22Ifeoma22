{
  "cells": [
    {
      "cell_type": "markdown",
      "metadata": {
        "id": "view-in-github",
        "colab_type": "text"
      },
      "source": [
        "<a href=\"https://colab.research.google.com/github/22Ifeoma22/22Ifeoma22/blob/main/08_FunctionalModel.ipynb\" target=\"_parent\"><img src=\"https://colab.research.google.com/assets/colab-badge.svg\" alt=\"Open In Colab\"/></a>"
      ]
    },
    {
      "cell_type": "markdown",
      "metadata": {
        "id": "nZDb-PLLuLLu"
      },
      "source": [
        "### Heart Disease classification"
      ]
    },
    {
      "cell_type": "markdown",
      "metadata": {
        "id": "oGptGYhFuLLv"
      },
      "source": [
        "### Importing Libraries"
      ]
    },
    {
      "cell_type": "code",
      "execution_count": 3,
      "metadata": {
        "id": "k-2tP-_GuLLw"
      },
      "outputs": [],
      "source": [
        "from datetime import datetime\n",
        "\n",
        "import numpy as np\n",
        "import pandas as pd\n",
        "\n",
        "import matplotlib.pyplot as plt\n",
        "import seaborn as sns\n",
        "\n",
        "from sklearn.model_selection import train_test_split\n",
        "from sklearn.preprocessing import StandardScaler\n",
        "from sklearn.metrics import accuracy_score, precision_score, recall_score\n",
        "\n",
        "import tensorflow as tf\n",
        "\n",
        "from tensorflow import keras\n",
        "from tensorflow.keras import layers"
      ]
    },
    {
      "cell_type": "markdown",
      "metadata": {
        "id": "H6wC69VEuLLx"
      },
      "source": [
        "### Understanding the dataset"
      ]
    },
    {
      "cell_type": "markdown",
      "metadata": {
        "id": "c4zZf1AauLLx"
      },
      "source": [
        "Dataset : https://www.kaggle.com/ronitf/heart-disease-uci"
      ]
    },
    {
      "cell_type": "markdown",
      "metadata": {
        "id": "ilxtWGrkuLLx"
      },
      "source": [
        "Columns:\n",
        "    - age: age in years\n",
        "    - sex: (1 = male; 0 = female)\n",
        "    - cp: chest pain type\n",
        "    - trestbps: resting blood pressure (in mm Hg on admission to the hospital)\n",
        "    - chol: serum cholestoral in mg/dl\n",
        "    - fbs: (fasting blood sugar &gt; 120 mg/dl) (1 = true; 0 = false)\n",
        "    - restecg: resting electrocardiographic results\n",
        "    - thalach: maximum heart rate achieved\n",
        "    - exang: exercise induced angina (1 = yes; 0 = no)\n",
        "    - oldpeak: ST depression induced by exercise relative to rest\n",
        "    - slope: the slope of the peak exercise ST segment\n",
        "    - ca: number of major vessels (0-3) colored by flourosopy\n",
        "    - thal: 3 = normal; 6 = fixed defect; 7 = reversable defect"
      ]
    },
    {
      "cell_type": "code",
      "execution_count": 4,
      "metadata": {
        "colab": {
          "base_uri": "https://localhost:8080/",
          "height": 206
        },
        "id": "D5w6-Id8uLLx",
        "outputId": "b5279688-22ef-437b-b926-a752638202b2"
      },
      "outputs": [
        {
          "output_type": "execute_result",
          "data": {
            "text/plain": [
              "     age  sex  cp  trestbps  chol  fbs  restecg  thalach  exang  oldpeak  \\\n",
              "10    54    1   0       140   239    0        1      160      0      1.2   \n",
              "97    52    1   0       108   233    1        1      147      0      0.1   \n",
              "88    54    0   2       110   214    0        1      158      0      1.6   \n",
              "226   62    1   1       120   281    0        0      103      0      1.4   \n",
              "14    58    0   3       150   283    1        0      162      0      1.0   \n",
              "\n",
              "     slope  ca  thal  target  \n",
              "10       2   0     2       1  \n",
              "97       2   3     3       1  \n",
              "88       1   0     2       1  \n",
              "226      1   1     3       0  \n",
              "14       2   0     2       1  "
            ],
            "text/html": [
              "\n",
              "  <div id=\"df-f420e5da-d607-4543-b39a-68898fea7626\" class=\"colab-df-container\">\n",
              "    <div>\n",
              "<style scoped>\n",
              "    .dataframe tbody tr th:only-of-type {\n",
              "        vertical-align: middle;\n",
              "    }\n",
              "\n",
              "    .dataframe tbody tr th {\n",
              "        vertical-align: top;\n",
              "    }\n",
              "\n",
              "    .dataframe thead th {\n",
              "        text-align: right;\n",
              "    }\n",
              "</style>\n",
              "<table border=\"1\" class=\"dataframe\">\n",
              "  <thead>\n",
              "    <tr style=\"text-align: right;\">\n",
              "      <th></th>\n",
              "      <th>age</th>\n",
              "      <th>sex</th>\n",
              "      <th>cp</th>\n",
              "      <th>trestbps</th>\n",
              "      <th>chol</th>\n",
              "      <th>fbs</th>\n",
              "      <th>restecg</th>\n",
              "      <th>thalach</th>\n",
              "      <th>exang</th>\n",
              "      <th>oldpeak</th>\n",
              "      <th>slope</th>\n",
              "      <th>ca</th>\n",
              "      <th>thal</th>\n",
              "      <th>target</th>\n",
              "    </tr>\n",
              "  </thead>\n",
              "  <tbody>\n",
              "    <tr>\n",
              "      <th>10</th>\n",
              "      <td>54</td>\n",
              "      <td>1</td>\n",
              "      <td>0</td>\n",
              "      <td>140</td>\n",
              "      <td>239</td>\n",
              "      <td>0</td>\n",
              "      <td>1</td>\n",
              "      <td>160</td>\n",
              "      <td>0</td>\n",
              "      <td>1.2</td>\n",
              "      <td>2</td>\n",
              "      <td>0</td>\n",
              "      <td>2</td>\n",
              "      <td>1</td>\n",
              "    </tr>\n",
              "    <tr>\n",
              "      <th>97</th>\n",
              "      <td>52</td>\n",
              "      <td>1</td>\n",
              "      <td>0</td>\n",
              "      <td>108</td>\n",
              "      <td>233</td>\n",
              "      <td>1</td>\n",
              "      <td>1</td>\n",
              "      <td>147</td>\n",
              "      <td>0</td>\n",
              "      <td>0.1</td>\n",
              "      <td>2</td>\n",
              "      <td>3</td>\n",
              "      <td>3</td>\n",
              "      <td>1</td>\n",
              "    </tr>\n",
              "    <tr>\n",
              "      <th>88</th>\n",
              "      <td>54</td>\n",
              "      <td>0</td>\n",
              "      <td>2</td>\n",
              "      <td>110</td>\n",
              "      <td>214</td>\n",
              "      <td>0</td>\n",
              "      <td>1</td>\n",
              "      <td>158</td>\n",
              "      <td>0</td>\n",
              "      <td>1.6</td>\n",
              "      <td>1</td>\n",
              "      <td>0</td>\n",
              "      <td>2</td>\n",
              "      <td>1</td>\n",
              "    </tr>\n",
              "    <tr>\n",
              "      <th>226</th>\n",
              "      <td>62</td>\n",
              "      <td>1</td>\n",
              "      <td>1</td>\n",
              "      <td>120</td>\n",
              "      <td>281</td>\n",
              "      <td>0</td>\n",
              "      <td>0</td>\n",
              "      <td>103</td>\n",
              "      <td>0</td>\n",
              "      <td>1.4</td>\n",
              "      <td>1</td>\n",
              "      <td>1</td>\n",
              "      <td>3</td>\n",
              "      <td>0</td>\n",
              "    </tr>\n",
              "    <tr>\n",
              "      <th>14</th>\n",
              "      <td>58</td>\n",
              "      <td>0</td>\n",
              "      <td>3</td>\n",
              "      <td>150</td>\n",
              "      <td>283</td>\n",
              "      <td>1</td>\n",
              "      <td>0</td>\n",
              "      <td>162</td>\n",
              "      <td>0</td>\n",
              "      <td>1.0</td>\n",
              "      <td>2</td>\n",
              "      <td>0</td>\n",
              "      <td>2</td>\n",
              "      <td>1</td>\n",
              "    </tr>\n",
              "  </tbody>\n",
              "</table>\n",
              "</div>\n",
              "    <div class=\"colab-df-buttons\">\n",
              "\n",
              "  <div class=\"colab-df-container\">\n",
              "    <button class=\"colab-df-convert\" onclick=\"convertToInteractive('df-f420e5da-d607-4543-b39a-68898fea7626')\"\n",
              "            title=\"Convert this dataframe to an interactive table.\"\n",
              "            style=\"display:none;\">\n",
              "\n",
              "  <svg xmlns=\"http://www.w3.org/2000/svg\" height=\"24px\" viewBox=\"0 -960 960 960\">\n",
              "    <path d=\"M120-120v-720h720v720H120Zm60-500h600v-160H180v160Zm220 220h160v-160H400v160Zm0 220h160v-160H400v160ZM180-400h160v-160H180v160Zm440 0h160v-160H620v160ZM180-180h160v-160H180v160Zm440 0h160v-160H620v160Z\"/>\n",
              "  </svg>\n",
              "    </button>\n",
              "\n",
              "  <style>\n",
              "    .colab-df-container {\n",
              "      display:flex;\n",
              "      gap: 12px;\n",
              "    }\n",
              "\n",
              "    .colab-df-convert {\n",
              "      background-color: #E8F0FE;\n",
              "      border: none;\n",
              "      border-radius: 50%;\n",
              "      cursor: pointer;\n",
              "      display: none;\n",
              "      fill: #1967D2;\n",
              "      height: 32px;\n",
              "      padding: 0 0 0 0;\n",
              "      width: 32px;\n",
              "    }\n",
              "\n",
              "    .colab-df-convert:hover {\n",
              "      background-color: #E2EBFA;\n",
              "      box-shadow: 0px 1px 2px rgba(60, 64, 67, 0.3), 0px 1px 3px 1px rgba(60, 64, 67, 0.15);\n",
              "      fill: #174EA6;\n",
              "    }\n",
              "\n",
              "    .colab-df-buttons div {\n",
              "      margin-bottom: 4px;\n",
              "    }\n",
              "\n",
              "    [theme=dark] .colab-df-convert {\n",
              "      background-color: #3B4455;\n",
              "      fill: #D2E3FC;\n",
              "    }\n",
              "\n",
              "    [theme=dark] .colab-df-convert:hover {\n",
              "      background-color: #434B5C;\n",
              "      box-shadow: 0px 1px 3px 1px rgba(0, 0, 0, 0.15);\n",
              "      filter: drop-shadow(0px 1px 2px rgba(0, 0, 0, 0.3));\n",
              "      fill: #FFFFFF;\n",
              "    }\n",
              "  </style>\n",
              "\n",
              "    <script>\n",
              "      const buttonEl =\n",
              "        document.querySelector('#df-f420e5da-d607-4543-b39a-68898fea7626 button.colab-df-convert');\n",
              "      buttonEl.style.display =\n",
              "        google.colab.kernel.accessAllowed ? 'block' : 'none';\n",
              "\n",
              "      async function convertToInteractive(key) {\n",
              "        const element = document.querySelector('#df-f420e5da-d607-4543-b39a-68898fea7626');\n",
              "        const dataTable =\n",
              "          await google.colab.kernel.invokeFunction('convertToInteractive',\n",
              "                                                    [key], {});\n",
              "        if (!dataTable) return;\n",
              "\n",
              "        const docLinkHtml = 'Like what you see? Visit the ' +\n",
              "          '<a target=\"_blank\" href=https://colab.research.google.com/notebooks/data_table.ipynb>data table notebook</a>'\n",
              "          + ' to learn more about interactive tables.';\n",
              "        element.innerHTML = '';\n",
              "        dataTable['output_type'] = 'display_data';\n",
              "        await google.colab.output.renderOutput(dataTable, element);\n",
              "        const docLink = document.createElement('div');\n",
              "        docLink.innerHTML = docLinkHtml;\n",
              "        element.appendChild(docLink);\n",
              "      }\n",
              "    </script>\n",
              "  </div>\n",
              "\n",
              "\n",
              "<div id=\"df-5df09f2d-01e2-4651-a318-c8674a3b6673\">\n",
              "  <button class=\"colab-df-quickchart\" onclick=\"quickchart('df-5df09f2d-01e2-4651-a318-c8674a3b6673')\"\n",
              "            title=\"Suggest charts\"\n",
              "            style=\"display:none;\">\n",
              "\n",
              "<svg xmlns=\"http://www.w3.org/2000/svg\" height=\"24px\"viewBox=\"0 0 24 24\"\n",
              "     width=\"24px\">\n",
              "    <g>\n",
              "        <path d=\"M19 3H5c-1.1 0-2 .9-2 2v14c0 1.1.9 2 2 2h14c1.1 0 2-.9 2-2V5c0-1.1-.9-2-2-2zM9 17H7v-7h2v7zm4 0h-2V7h2v10zm4 0h-2v-4h2v4z\"/>\n",
              "    </g>\n",
              "</svg>\n",
              "  </button>\n",
              "\n",
              "<style>\n",
              "  .colab-df-quickchart {\n",
              "      --bg-color: #E8F0FE;\n",
              "      --fill-color: #1967D2;\n",
              "      --hover-bg-color: #E2EBFA;\n",
              "      --hover-fill-color: #174EA6;\n",
              "      --disabled-fill-color: #AAA;\n",
              "      --disabled-bg-color: #DDD;\n",
              "  }\n",
              "\n",
              "  [theme=dark] .colab-df-quickchart {\n",
              "      --bg-color: #3B4455;\n",
              "      --fill-color: #D2E3FC;\n",
              "      --hover-bg-color: #434B5C;\n",
              "      --hover-fill-color: #FFFFFF;\n",
              "      --disabled-bg-color: #3B4455;\n",
              "      --disabled-fill-color: #666;\n",
              "  }\n",
              "\n",
              "  .colab-df-quickchart {\n",
              "    background-color: var(--bg-color);\n",
              "    border: none;\n",
              "    border-radius: 50%;\n",
              "    cursor: pointer;\n",
              "    display: none;\n",
              "    fill: var(--fill-color);\n",
              "    height: 32px;\n",
              "    padding: 0;\n",
              "    width: 32px;\n",
              "  }\n",
              "\n",
              "  .colab-df-quickchart:hover {\n",
              "    background-color: var(--hover-bg-color);\n",
              "    box-shadow: 0 1px 2px rgba(60, 64, 67, 0.3), 0 1px 3px 1px rgba(60, 64, 67, 0.15);\n",
              "    fill: var(--button-hover-fill-color);\n",
              "  }\n",
              "\n",
              "  .colab-df-quickchart-complete:disabled,\n",
              "  .colab-df-quickchart-complete:disabled:hover {\n",
              "    background-color: var(--disabled-bg-color);\n",
              "    fill: var(--disabled-fill-color);\n",
              "    box-shadow: none;\n",
              "  }\n",
              "\n",
              "  .colab-df-spinner {\n",
              "    border: 2px solid var(--fill-color);\n",
              "    border-color: transparent;\n",
              "    border-bottom-color: var(--fill-color);\n",
              "    animation:\n",
              "      spin 1s steps(1) infinite;\n",
              "  }\n",
              "\n",
              "  @keyframes spin {\n",
              "    0% {\n",
              "      border-color: transparent;\n",
              "      border-bottom-color: var(--fill-color);\n",
              "      border-left-color: var(--fill-color);\n",
              "    }\n",
              "    20% {\n",
              "      border-color: transparent;\n",
              "      border-left-color: var(--fill-color);\n",
              "      border-top-color: var(--fill-color);\n",
              "    }\n",
              "    30% {\n",
              "      border-color: transparent;\n",
              "      border-left-color: var(--fill-color);\n",
              "      border-top-color: var(--fill-color);\n",
              "      border-right-color: var(--fill-color);\n",
              "    }\n",
              "    40% {\n",
              "      border-color: transparent;\n",
              "      border-right-color: var(--fill-color);\n",
              "      border-top-color: var(--fill-color);\n",
              "    }\n",
              "    60% {\n",
              "      border-color: transparent;\n",
              "      border-right-color: var(--fill-color);\n",
              "    }\n",
              "    80% {\n",
              "      border-color: transparent;\n",
              "      border-right-color: var(--fill-color);\n",
              "      border-bottom-color: var(--fill-color);\n",
              "    }\n",
              "    90% {\n",
              "      border-color: transparent;\n",
              "      border-bottom-color: var(--fill-color);\n",
              "    }\n",
              "  }\n",
              "</style>\n",
              "\n",
              "  <script>\n",
              "    async function quickchart(key) {\n",
              "      const quickchartButtonEl =\n",
              "        document.querySelector('#' + key + ' button');\n",
              "      quickchartButtonEl.disabled = true;  // To prevent multiple clicks.\n",
              "      quickchartButtonEl.classList.add('colab-df-spinner');\n",
              "      try {\n",
              "        const charts = await google.colab.kernel.invokeFunction(\n",
              "            'suggestCharts', [key], {});\n",
              "      } catch (error) {\n",
              "        console.error('Error during call to suggestCharts:', error);\n",
              "      }\n",
              "      quickchartButtonEl.classList.remove('colab-df-spinner');\n",
              "      quickchartButtonEl.classList.add('colab-df-quickchart-complete');\n",
              "    }\n",
              "    (() => {\n",
              "      let quickchartButtonEl =\n",
              "        document.querySelector('#df-5df09f2d-01e2-4651-a318-c8674a3b6673 button');\n",
              "      quickchartButtonEl.style.display =\n",
              "        google.colab.kernel.accessAllowed ? 'block' : 'none';\n",
              "    })();\n",
              "  </script>\n",
              "</div>\n",
              "    </div>\n",
              "  </div>\n"
            ],
            "application/vnd.google.colaboratory.intrinsic+json": {
              "type": "dataframe",
              "summary": "{\n  \"name\": \"df\",\n  \"rows\": 5,\n  \"fields\": [\n    {\n      \"column\": \"age\",\n      \"properties\": {\n        \"dtype\": \"number\",\n        \"std\": 4,\n        \"min\": 52,\n        \"max\": 62,\n        \"num_unique_values\": 4,\n        \"samples\": [\n          52,\n          58,\n          54\n        ],\n        \"semantic_type\": \"\",\n        \"description\": \"\"\n      }\n    },\n    {\n      \"column\": \"sex\",\n      \"properties\": {\n        \"dtype\": \"number\",\n        \"std\": 0,\n        \"min\": 0,\n        \"max\": 1,\n        \"num_unique_values\": 2,\n        \"samples\": [\n          0,\n          1\n        ],\n        \"semantic_type\": \"\",\n        \"description\": \"\"\n      }\n    },\n    {\n      \"column\": \"cp\",\n      \"properties\": {\n        \"dtype\": \"number\",\n        \"std\": 1,\n        \"min\": 0,\n        \"max\": 3,\n        \"num_unique_values\": 4,\n        \"samples\": [\n          2,\n          3\n        ],\n        \"semantic_type\": \"\",\n        \"description\": \"\"\n      }\n    },\n    {\n      \"column\": \"trestbps\",\n      \"properties\": {\n        \"dtype\": \"number\",\n        \"std\": 18,\n        \"min\": 108,\n        \"max\": 150,\n        \"num_unique_values\": 5,\n        \"samples\": [\n          108,\n          150\n        ],\n        \"semantic_type\": \"\",\n        \"description\": \"\"\n      }\n    },\n    {\n      \"column\": \"chol\",\n      \"properties\": {\n        \"dtype\": \"number\",\n        \"std\": 30,\n        \"min\": 214,\n        \"max\": 283,\n        \"num_unique_values\": 5,\n        \"samples\": [\n          233,\n          283\n        ],\n        \"semantic_type\": \"\",\n        \"description\": \"\"\n      }\n    },\n    {\n      \"column\": \"fbs\",\n      \"properties\": {\n        \"dtype\": \"number\",\n        \"std\": 0,\n        \"min\": 0,\n        \"max\": 1,\n        \"num_unique_values\": 2,\n        \"samples\": [\n          1,\n          0\n        ],\n        \"semantic_type\": \"\",\n        \"description\": \"\"\n      }\n    },\n    {\n      \"column\": \"restecg\",\n      \"properties\": {\n        \"dtype\": \"number\",\n        \"std\": 0,\n        \"min\": 0,\n        \"max\": 1,\n        \"num_unique_values\": 2,\n        \"samples\": [\n          0,\n          1\n        ],\n        \"semantic_type\": \"\",\n        \"description\": \"\"\n      }\n    },\n    {\n      \"column\": \"thalach\",\n      \"properties\": {\n        \"dtype\": \"number\",\n        \"std\": 24,\n        \"min\": 103,\n        \"max\": 162,\n        \"num_unique_values\": 5,\n        \"samples\": [\n          147,\n          162\n        ],\n        \"semantic_type\": \"\",\n        \"description\": \"\"\n      }\n    },\n    {\n      \"column\": \"exang\",\n      \"properties\": {\n        \"dtype\": \"number\",\n        \"std\": 0,\n        \"min\": 0,\n        \"max\": 0,\n        \"num_unique_values\": 1,\n        \"samples\": [\n          0\n        ],\n        \"semantic_type\": \"\",\n        \"description\": \"\"\n      }\n    },\n    {\n      \"column\": \"oldpeak\",\n      \"properties\": {\n        \"dtype\": \"number\",\n        \"std\": 0.5813776741499453,\n        \"min\": 0.1,\n        \"max\": 1.6,\n        \"num_unique_values\": 5,\n        \"samples\": [\n          0.1\n        ],\n        \"semantic_type\": \"\",\n        \"description\": \"\"\n      }\n    },\n    {\n      \"column\": \"slope\",\n      \"properties\": {\n        \"dtype\": \"number\",\n        \"std\": 0,\n        \"min\": 1,\n        \"max\": 2,\n        \"num_unique_values\": 2,\n        \"samples\": [\n          1\n        ],\n        \"semantic_type\": \"\",\n        \"description\": \"\"\n      }\n    },\n    {\n      \"column\": \"ca\",\n      \"properties\": {\n        \"dtype\": \"number\",\n        \"std\": 1,\n        \"min\": 0,\n        \"max\": 3,\n        \"num_unique_values\": 3,\n        \"samples\": [\n          0\n        ],\n        \"semantic_type\": \"\",\n        \"description\": \"\"\n      }\n    },\n    {\n      \"column\": \"thal\",\n      \"properties\": {\n        \"dtype\": \"number\",\n        \"std\": 0,\n        \"min\": 2,\n        \"max\": 3,\n        \"num_unique_values\": 2,\n        \"samples\": [\n          3\n        ],\n        \"semantic_type\": \"\",\n        \"description\": \"\"\n      }\n    },\n    {\n      \"column\": \"target\",\n      \"properties\": {\n        \"dtype\": \"number\",\n        \"std\": 0,\n        \"min\": 0,\n        \"max\": 1,\n        \"num_unique_values\": 2,\n        \"samples\": [\n          0\n        ],\n        \"semantic_type\": \"\",\n        \"description\": \"\"\n      }\n    }\n  ]\n}"
            }
          },
          "metadata": {},
          "execution_count": 4
        }
      ],
      "source": [
        "df = pd.read_csv(\"/content/sample_data/heart.csv\")\n",
        "\n",
        "df.sample(5)"
      ]
    },
    {
      "cell_type": "code",
      "execution_count": 5,
      "metadata": {
        "colab": {
          "base_uri": "https://localhost:8080/"
        },
        "id": "t32zeHhXuLLy",
        "outputId": "f6646de0-2831-44ae-cac7-4f77528e7e26"
      },
      "outputs": [
        {
          "output_type": "execute_result",
          "data": {
            "text/plain": [
              "(303, 14)"
            ]
          },
          "metadata": {},
          "execution_count": 5
        }
      ],
      "source": [
        "df.shape"
      ]
    },
    {
      "cell_type": "code",
      "execution_count": null,
      "metadata": {
        "id": "FBkoaEl4uLLy",
        "outputId": "c2c2abf7-f02f-44be-e246-242245a595f8"
      },
      "outputs": [
        {
          "data": {
            "text/plain": [
              "age         0\n",
              "sex         0\n",
              "cp          0\n",
              "trestbps    0\n",
              "chol        0\n",
              "fbs         0\n",
              "restecg     0\n",
              "thalach     0\n",
              "exang       0\n",
              "oldpeak     0\n",
              "slope       0\n",
              "ca          0\n",
              "thal        0\n",
              "target      0\n",
              "dtype: int64"
            ]
          },
          "execution_count": 5,
          "metadata": {},
          "output_type": "execute_result"
        }
      ],
      "source": [
        "df.isna().sum()"
      ]
    },
    {
      "cell_type": "code",
      "execution_count": 6,
      "metadata": {
        "colab": {
          "base_uri": "https://localhost:8080/",
          "height": 488
        },
        "id": "6D3z6rySuLLy",
        "outputId": "4466a6d4-a9cf-4ca9-873b-9a3749ce9602"
      },
      "outputs": [
        {
          "output_type": "execute_result",
          "data": {
            "text/plain": [
              "          count        mean        std    min    25%    50%    75%    max\n",
              "age       303.0   54.366337   9.082101   29.0   47.5   55.0   61.0   77.0\n",
              "sex       303.0    0.683168   0.466011    0.0    0.0    1.0    1.0    1.0\n",
              "cp        303.0    0.966997   1.032052    0.0    0.0    1.0    2.0    3.0\n",
              "trestbps  303.0  131.623762  17.538143   94.0  120.0  130.0  140.0  200.0\n",
              "chol      303.0  246.264026  51.830751  126.0  211.0  240.0  274.5  564.0\n",
              "fbs       303.0    0.148515   0.356198    0.0    0.0    0.0    0.0    1.0\n",
              "restecg   303.0    0.528053   0.525860    0.0    0.0    1.0    1.0    2.0\n",
              "thalach   303.0  149.646865  22.905161   71.0  133.5  153.0  166.0  202.0\n",
              "exang     303.0    0.326733   0.469794    0.0    0.0    0.0    1.0    1.0\n",
              "oldpeak   303.0    1.039604   1.161075    0.0    0.0    0.8    1.6    6.2\n",
              "slope     303.0    1.399340   0.616226    0.0    1.0    1.0    2.0    2.0\n",
              "ca        303.0    0.729373   1.022606    0.0    0.0    0.0    1.0    4.0\n",
              "thal      303.0    2.313531   0.612277    0.0    2.0    2.0    3.0    3.0\n",
              "target    303.0    0.544554   0.498835    0.0    0.0    1.0    1.0    1.0"
            ],
            "text/html": [
              "\n",
              "  <div id=\"df-0d0bcd79-4074-4da5-9e6b-a5c126ca93b4\" class=\"colab-df-container\">\n",
              "    <div>\n",
              "<style scoped>\n",
              "    .dataframe tbody tr th:only-of-type {\n",
              "        vertical-align: middle;\n",
              "    }\n",
              "\n",
              "    .dataframe tbody tr th {\n",
              "        vertical-align: top;\n",
              "    }\n",
              "\n",
              "    .dataframe thead th {\n",
              "        text-align: right;\n",
              "    }\n",
              "</style>\n",
              "<table border=\"1\" class=\"dataframe\">\n",
              "  <thead>\n",
              "    <tr style=\"text-align: right;\">\n",
              "      <th></th>\n",
              "      <th>count</th>\n",
              "      <th>mean</th>\n",
              "      <th>std</th>\n",
              "      <th>min</th>\n",
              "      <th>25%</th>\n",
              "      <th>50%</th>\n",
              "      <th>75%</th>\n",
              "      <th>max</th>\n",
              "    </tr>\n",
              "  </thead>\n",
              "  <tbody>\n",
              "    <tr>\n",
              "      <th>age</th>\n",
              "      <td>303.0</td>\n",
              "      <td>54.366337</td>\n",
              "      <td>9.082101</td>\n",
              "      <td>29.0</td>\n",
              "      <td>47.5</td>\n",
              "      <td>55.0</td>\n",
              "      <td>61.0</td>\n",
              "      <td>77.0</td>\n",
              "    </tr>\n",
              "    <tr>\n",
              "      <th>sex</th>\n",
              "      <td>303.0</td>\n",
              "      <td>0.683168</td>\n",
              "      <td>0.466011</td>\n",
              "      <td>0.0</td>\n",
              "      <td>0.0</td>\n",
              "      <td>1.0</td>\n",
              "      <td>1.0</td>\n",
              "      <td>1.0</td>\n",
              "    </tr>\n",
              "    <tr>\n",
              "      <th>cp</th>\n",
              "      <td>303.0</td>\n",
              "      <td>0.966997</td>\n",
              "      <td>1.032052</td>\n",
              "      <td>0.0</td>\n",
              "      <td>0.0</td>\n",
              "      <td>1.0</td>\n",
              "      <td>2.0</td>\n",
              "      <td>3.0</td>\n",
              "    </tr>\n",
              "    <tr>\n",
              "      <th>trestbps</th>\n",
              "      <td>303.0</td>\n",
              "      <td>131.623762</td>\n",
              "      <td>17.538143</td>\n",
              "      <td>94.0</td>\n",
              "      <td>120.0</td>\n",
              "      <td>130.0</td>\n",
              "      <td>140.0</td>\n",
              "      <td>200.0</td>\n",
              "    </tr>\n",
              "    <tr>\n",
              "      <th>chol</th>\n",
              "      <td>303.0</td>\n",
              "      <td>246.264026</td>\n",
              "      <td>51.830751</td>\n",
              "      <td>126.0</td>\n",
              "      <td>211.0</td>\n",
              "      <td>240.0</td>\n",
              "      <td>274.5</td>\n",
              "      <td>564.0</td>\n",
              "    </tr>\n",
              "    <tr>\n",
              "      <th>fbs</th>\n",
              "      <td>303.0</td>\n",
              "      <td>0.148515</td>\n",
              "      <td>0.356198</td>\n",
              "      <td>0.0</td>\n",
              "      <td>0.0</td>\n",
              "      <td>0.0</td>\n",
              "      <td>0.0</td>\n",
              "      <td>1.0</td>\n",
              "    </tr>\n",
              "    <tr>\n",
              "      <th>restecg</th>\n",
              "      <td>303.0</td>\n",
              "      <td>0.528053</td>\n",
              "      <td>0.525860</td>\n",
              "      <td>0.0</td>\n",
              "      <td>0.0</td>\n",
              "      <td>1.0</td>\n",
              "      <td>1.0</td>\n",
              "      <td>2.0</td>\n",
              "    </tr>\n",
              "    <tr>\n",
              "      <th>thalach</th>\n",
              "      <td>303.0</td>\n",
              "      <td>149.646865</td>\n",
              "      <td>22.905161</td>\n",
              "      <td>71.0</td>\n",
              "      <td>133.5</td>\n",
              "      <td>153.0</td>\n",
              "      <td>166.0</td>\n",
              "      <td>202.0</td>\n",
              "    </tr>\n",
              "    <tr>\n",
              "      <th>exang</th>\n",
              "      <td>303.0</td>\n",
              "      <td>0.326733</td>\n",
              "      <td>0.469794</td>\n",
              "      <td>0.0</td>\n",
              "      <td>0.0</td>\n",
              "      <td>0.0</td>\n",
              "      <td>1.0</td>\n",
              "      <td>1.0</td>\n",
              "    </tr>\n",
              "    <tr>\n",
              "      <th>oldpeak</th>\n",
              "      <td>303.0</td>\n",
              "      <td>1.039604</td>\n",
              "      <td>1.161075</td>\n",
              "      <td>0.0</td>\n",
              "      <td>0.0</td>\n",
              "      <td>0.8</td>\n",
              "      <td>1.6</td>\n",
              "      <td>6.2</td>\n",
              "    </tr>\n",
              "    <tr>\n",
              "      <th>slope</th>\n",
              "      <td>303.0</td>\n",
              "      <td>1.399340</td>\n",
              "      <td>0.616226</td>\n",
              "      <td>0.0</td>\n",
              "      <td>1.0</td>\n",
              "      <td>1.0</td>\n",
              "      <td>2.0</td>\n",
              "      <td>2.0</td>\n",
              "    </tr>\n",
              "    <tr>\n",
              "      <th>ca</th>\n",
              "      <td>303.0</td>\n",
              "      <td>0.729373</td>\n",
              "      <td>1.022606</td>\n",
              "      <td>0.0</td>\n",
              "      <td>0.0</td>\n",
              "      <td>0.0</td>\n",
              "      <td>1.0</td>\n",
              "      <td>4.0</td>\n",
              "    </tr>\n",
              "    <tr>\n",
              "      <th>thal</th>\n",
              "      <td>303.0</td>\n",
              "      <td>2.313531</td>\n",
              "      <td>0.612277</td>\n",
              "      <td>0.0</td>\n",
              "      <td>2.0</td>\n",
              "      <td>2.0</td>\n",
              "      <td>3.0</td>\n",
              "      <td>3.0</td>\n",
              "    </tr>\n",
              "    <tr>\n",
              "      <th>target</th>\n",
              "      <td>303.0</td>\n",
              "      <td>0.544554</td>\n",
              "      <td>0.498835</td>\n",
              "      <td>0.0</td>\n",
              "      <td>0.0</td>\n",
              "      <td>1.0</td>\n",
              "      <td>1.0</td>\n",
              "      <td>1.0</td>\n",
              "    </tr>\n",
              "  </tbody>\n",
              "</table>\n",
              "</div>\n",
              "    <div class=\"colab-df-buttons\">\n",
              "\n",
              "  <div class=\"colab-df-container\">\n",
              "    <button class=\"colab-df-convert\" onclick=\"convertToInteractive('df-0d0bcd79-4074-4da5-9e6b-a5c126ca93b4')\"\n",
              "            title=\"Convert this dataframe to an interactive table.\"\n",
              "            style=\"display:none;\">\n",
              "\n",
              "  <svg xmlns=\"http://www.w3.org/2000/svg\" height=\"24px\" viewBox=\"0 -960 960 960\">\n",
              "    <path d=\"M120-120v-720h720v720H120Zm60-500h600v-160H180v160Zm220 220h160v-160H400v160Zm0 220h160v-160H400v160ZM180-400h160v-160H180v160Zm440 0h160v-160H620v160ZM180-180h160v-160H180v160Zm440 0h160v-160H620v160Z\"/>\n",
              "  </svg>\n",
              "    </button>\n",
              "\n",
              "  <style>\n",
              "    .colab-df-container {\n",
              "      display:flex;\n",
              "      gap: 12px;\n",
              "    }\n",
              "\n",
              "    .colab-df-convert {\n",
              "      background-color: #E8F0FE;\n",
              "      border: none;\n",
              "      border-radius: 50%;\n",
              "      cursor: pointer;\n",
              "      display: none;\n",
              "      fill: #1967D2;\n",
              "      height: 32px;\n",
              "      padding: 0 0 0 0;\n",
              "      width: 32px;\n",
              "    }\n",
              "\n",
              "    .colab-df-convert:hover {\n",
              "      background-color: #E2EBFA;\n",
              "      box-shadow: 0px 1px 2px rgba(60, 64, 67, 0.3), 0px 1px 3px 1px rgba(60, 64, 67, 0.15);\n",
              "      fill: #174EA6;\n",
              "    }\n",
              "\n",
              "    .colab-df-buttons div {\n",
              "      margin-bottom: 4px;\n",
              "    }\n",
              "\n",
              "    [theme=dark] .colab-df-convert {\n",
              "      background-color: #3B4455;\n",
              "      fill: #D2E3FC;\n",
              "    }\n",
              "\n",
              "    [theme=dark] .colab-df-convert:hover {\n",
              "      background-color: #434B5C;\n",
              "      box-shadow: 0px 1px 3px 1px rgba(0, 0, 0, 0.15);\n",
              "      filter: drop-shadow(0px 1px 2px rgba(0, 0, 0, 0.3));\n",
              "      fill: #FFFFFF;\n",
              "    }\n",
              "  </style>\n",
              "\n",
              "    <script>\n",
              "      const buttonEl =\n",
              "        document.querySelector('#df-0d0bcd79-4074-4da5-9e6b-a5c126ca93b4 button.colab-df-convert');\n",
              "      buttonEl.style.display =\n",
              "        google.colab.kernel.accessAllowed ? 'block' : 'none';\n",
              "\n",
              "      async function convertToInteractive(key) {\n",
              "        const element = document.querySelector('#df-0d0bcd79-4074-4da5-9e6b-a5c126ca93b4');\n",
              "        const dataTable =\n",
              "          await google.colab.kernel.invokeFunction('convertToInteractive',\n",
              "                                                    [key], {});\n",
              "        if (!dataTable) return;\n",
              "\n",
              "        const docLinkHtml = 'Like what you see? Visit the ' +\n",
              "          '<a target=\"_blank\" href=https://colab.research.google.com/notebooks/data_table.ipynb>data table notebook</a>'\n",
              "          + ' to learn more about interactive tables.';\n",
              "        element.innerHTML = '';\n",
              "        dataTable['output_type'] = 'display_data';\n",
              "        await google.colab.output.renderOutput(dataTable, element);\n",
              "        const docLink = document.createElement('div');\n",
              "        docLink.innerHTML = docLinkHtml;\n",
              "        element.appendChild(docLink);\n",
              "      }\n",
              "    </script>\n",
              "  </div>\n",
              "\n",
              "\n",
              "<div id=\"df-d7560a56-ddad-4931-8ed0-5b727714b86f\">\n",
              "  <button class=\"colab-df-quickchart\" onclick=\"quickchart('df-d7560a56-ddad-4931-8ed0-5b727714b86f')\"\n",
              "            title=\"Suggest charts\"\n",
              "            style=\"display:none;\">\n",
              "\n",
              "<svg xmlns=\"http://www.w3.org/2000/svg\" height=\"24px\"viewBox=\"0 0 24 24\"\n",
              "     width=\"24px\">\n",
              "    <g>\n",
              "        <path d=\"M19 3H5c-1.1 0-2 .9-2 2v14c0 1.1.9 2 2 2h14c1.1 0 2-.9 2-2V5c0-1.1-.9-2-2-2zM9 17H7v-7h2v7zm4 0h-2V7h2v10zm4 0h-2v-4h2v4z\"/>\n",
              "    </g>\n",
              "</svg>\n",
              "  </button>\n",
              "\n",
              "<style>\n",
              "  .colab-df-quickchart {\n",
              "      --bg-color: #E8F0FE;\n",
              "      --fill-color: #1967D2;\n",
              "      --hover-bg-color: #E2EBFA;\n",
              "      --hover-fill-color: #174EA6;\n",
              "      --disabled-fill-color: #AAA;\n",
              "      --disabled-bg-color: #DDD;\n",
              "  }\n",
              "\n",
              "  [theme=dark] .colab-df-quickchart {\n",
              "      --bg-color: #3B4455;\n",
              "      --fill-color: #D2E3FC;\n",
              "      --hover-bg-color: #434B5C;\n",
              "      --hover-fill-color: #FFFFFF;\n",
              "      --disabled-bg-color: #3B4455;\n",
              "      --disabled-fill-color: #666;\n",
              "  }\n",
              "\n",
              "  .colab-df-quickchart {\n",
              "    background-color: var(--bg-color);\n",
              "    border: none;\n",
              "    border-radius: 50%;\n",
              "    cursor: pointer;\n",
              "    display: none;\n",
              "    fill: var(--fill-color);\n",
              "    height: 32px;\n",
              "    padding: 0;\n",
              "    width: 32px;\n",
              "  }\n",
              "\n",
              "  .colab-df-quickchart:hover {\n",
              "    background-color: var(--hover-bg-color);\n",
              "    box-shadow: 0 1px 2px rgba(60, 64, 67, 0.3), 0 1px 3px 1px rgba(60, 64, 67, 0.15);\n",
              "    fill: var(--button-hover-fill-color);\n",
              "  }\n",
              "\n",
              "  .colab-df-quickchart-complete:disabled,\n",
              "  .colab-df-quickchart-complete:disabled:hover {\n",
              "    background-color: var(--disabled-bg-color);\n",
              "    fill: var(--disabled-fill-color);\n",
              "    box-shadow: none;\n",
              "  }\n",
              "\n",
              "  .colab-df-spinner {\n",
              "    border: 2px solid var(--fill-color);\n",
              "    border-color: transparent;\n",
              "    border-bottom-color: var(--fill-color);\n",
              "    animation:\n",
              "      spin 1s steps(1) infinite;\n",
              "  }\n",
              "\n",
              "  @keyframes spin {\n",
              "    0% {\n",
              "      border-color: transparent;\n",
              "      border-bottom-color: var(--fill-color);\n",
              "      border-left-color: var(--fill-color);\n",
              "    }\n",
              "    20% {\n",
              "      border-color: transparent;\n",
              "      border-left-color: var(--fill-color);\n",
              "      border-top-color: var(--fill-color);\n",
              "    }\n",
              "    30% {\n",
              "      border-color: transparent;\n",
              "      border-left-color: var(--fill-color);\n",
              "      border-top-color: var(--fill-color);\n",
              "      border-right-color: var(--fill-color);\n",
              "    }\n",
              "    40% {\n",
              "      border-color: transparent;\n",
              "      border-right-color: var(--fill-color);\n",
              "      border-top-color: var(--fill-color);\n",
              "    }\n",
              "    60% {\n",
              "      border-color: transparent;\n",
              "      border-right-color: var(--fill-color);\n",
              "    }\n",
              "    80% {\n",
              "      border-color: transparent;\n",
              "      border-right-color: var(--fill-color);\n",
              "      border-bottom-color: var(--fill-color);\n",
              "    }\n",
              "    90% {\n",
              "      border-color: transparent;\n",
              "      border-bottom-color: var(--fill-color);\n",
              "    }\n",
              "  }\n",
              "</style>\n",
              "\n",
              "  <script>\n",
              "    async function quickchart(key) {\n",
              "      const quickchartButtonEl =\n",
              "        document.querySelector('#' + key + ' button');\n",
              "      quickchartButtonEl.disabled = true;  // To prevent multiple clicks.\n",
              "      quickchartButtonEl.classList.add('colab-df-spinner');\n",
              "      try {\n",
              "        const charts = await google.colab.kernel.invokeFunction(\n",
              "            'suggestCharts', [key], {});\n",
              "      } catch (error) {\n",
              "        console.error('Error during call to suggestCharts:', error);\n",
              "      }\n",
              "      quickchartButtonEl.classList.remove('colab-df-spinner');\n",
              "      quickchartButtonEl.classList.add('colab-df-quickchart-complete');\n",
              "    }\n",
              "    (() => {\n",
              "      let quickchartButtonEl =\n",
              "        document.querySelector('#df-d7560a56-ddad-4931-8ed0-5b727714b86f button');\n",
              "      quickchartButtonEl.style.display =\n",
              "        google.colab.kernel.accessAllowed ? 'block' : 'none';\n",
              "    })();\n",
              "  </script>\n",
              "</div>\n",
              "    </div>\n",
              "  </div>\n"
            ],
            "application/vnd.google.colaboratory.intrinsic+json": {
              "type": "dataframe",
              "summary": "{\n  \"name\": \"df\",\n  \"rows\": 14,\n  \"fields\": [\n    {\n      \"column\": \"count\",\n      \"properties\": {\n        \"dtype\": \"number\",\n        \"std\": 0.0,\n        \"min\": 303.0,\n        \"max\": 303.0,\n        \"num_unique_values\": 1,\n        \"samples\": [\n          303.0\n        ],\n        \"semantic_type\": \"\",\n        \"description\": \"\"\n      }\n    },\n    {\n      \"column\": \"mean\",\n      \"properties\": {\n        \"dtype\": \"number\",\n        \"std\": 77.66715456234161,\n        \"min\": 0.1485148514851485,\n        \"max\": 246.26402640264027,\n        \"num_unique_values\": 14,\n        \"samples\": [\n          1.0396039603960396\n        ],\n        \"semantic_type\": \"\",\n        \"description\": \"\"\n      }\n    },\n    {\n      \"column\": \"std\",\n      \"properties\": {\n        \"dtype\": \"number\",\n        \"std\": 14.601099749666268,\n        \"min\": 0.35619787492797644,\n        \"max\": 51.83075098793003,\n        \"num_unique_values\": 14,\n        \"samples\": [\n          1.1610750220686348\n        ],\n        \"semantic_type\": \"\",\n        \"description\": \"\"\n      }\n    },\n    {\n      \"column\": \"min\",\n      \"properties\": {\n        \"dtype\": \"number\",\n        \"std\": 42.31722170402085,\n        \"min\": 0.0,\n        \"max\": 126.0,\n        \"num_unique_values\": 5,\n        \"samples\": [\n          0.0\n        ],\n        \"semantic_type\": \"\",\n        \"description\": \"\"\n      }\n    },\n    {\n      \"column\": \"25%\",\n      \"properties\": {\n        \"dtype\": \"number\",\n        \"std\": 67.9705010352948,\n        \"min\": 0.0,\n        \"max\": 211.0,\n        \"num_unique_values\": 7,\n        \"samples\": [\n          47.5\n        ],\n        \"semantic_type\": \"\",\n        \"description\": \"\"\n      }\n    },\n    {\n      \"column\": \"50%\",\n      \"properties\": {\n        \"dtype\": \"number\",\n        \"std\": 76.67719262030833,\n        \"min\": 0.0,\n        \"max\": 240.0,\n        \"num_unique_values\": 8,\n        \"samples\": [\n          1.0\n        ],\n        \"semantic_type\": \"\",\n        \"description\": \"\"\n      }\n    },\n    {\n      \"column\": \"75%\",\n      \"properties\": {\n        \"dtype\": \"number\",\n        \"std\": 85.75358673176672,\n        \"min\": 0.0,\n        \"max\": 274.5,\n        \"num_unique_values\": 9,\n        \"samples\": [\n          1.6\n        ],\n        \"semantic_type\": \"\",\n        \"description\": \"\"\n      }\n    },\n    {\n      \"column\": \"max\",\n      \"properties\": {\n        \"dtype\": \"number\",\n        \"std\": 157.76377388883787,\n        \"min\": 1.0,\n        \"max\": 564.0,\n        \"num_unique_values\": 9,\n        \"samples\": [\n          6.2\n        ],\n        \"semantic_type\": \"\",\n        \"description\": \"\"\n      }\n    }\n  ]\n}"
            }
          },
          "metadata": {},
          "execution_count": 6
        }
      ],
      "source": [
        "df.describe().T"
      ]
    },
    {
      "cell_type": "code",
      "execution_count": 7,
      "metadata": {
        "colab": {
          "base_uri": "https://localhost:8080/"
        },
        "id": "y-492lOnuLLy",
        "outputId": "f9d62b59-f04b-42ef-c361-3ab22eb318f5"
      },
      "outputs": [
        {
          "output_type": "execute_result",
          "data": {
            "text/plain": [
              "sex\n",
              "1    207\n",
              "0     96\n",
              "Name: count, dtype: int64"
            ]
          },
          "metadata": {},
          "execution_count": 7
        }
      ],
      "source": [
        "df['sex'].value_counts()"
      ]
    },
    {
      "cell_type": "code",
      "execution_count": 14,
      "metadata": {
        "colab": {
          "base_uri": "https://localhost:8080/"
        },
        "id": "oTps8UYUuLLy",
        "outputId": "d6a4be7c-2000-4d6e-e3b2-7af32c540c79"
      },
      "outputs": [
        {
          "output_type": "execute_result",
          "data": {
            "text/plain": [
              "cp\n",
              "0    143\n",
              "2     87\n",
              "1     50\n",
              "3     23\n",
              "Name: count, dtype: int64"
            ]
          },
          "metadata": {},
          "execution_count": 14
        }
      ],
      "source": [
        "df['cp'].value_counts()"
      ]
    },
    {
      "cell_type": "markdown",
      "metadata": {
        "id": "s7W73Y6GuLLz"
      },
      "source": [
        "### Data VIsualization"
      ]
    },
    {
      "cell_type": "markdown",
      "metadata": {
        "id": "Frwf9nOZuLLz"
      },
      "source": [
        "#### 1) Sex"
      ]
    },
    {
      "cell_type": "code",
      "execution_count": 15,
      "metadata": {
        "colab": {
          "base_uri": "https://localhost:8080/",
          "height": 211
        },
        "id": "nbb7NPrquLLz",
        "outputId": "f05edd7e-15c7-4e3f-ddab-4dd43e034add"
      },
      "outputs": [
        {
          "output_type": "error",
          "ename": "TypeError",
          "evalue": "countplot() got multiple values for argument 'data'",
          "traceback": [
            "\u001b[0;31m---------------------------------------------------------------------------\u001b[0m",
            "\u001b[0;31mTypeError\u001b[0m                                 Traceback (most recent call last)",
            "\u001b[0;32m<ipython-input-15-a65e6bc89c94>\u001b[0m in \u001b[0;36m<cell line: 1>\u001b[0;34m()\u001b[0m\n\u001b[0;32m----> 1\u001b[0;31m \u001b[0msns\u001b[0m\u001b[0;34m.\u001b[0m\u001b[0mcountplot\u001b[0m\u001b[0;34m(\u001b[0m\u001b[0;34m'sex'\u001b[0m\u001b[0;34m,\u001b[0m \u001b[0mhue\u001b[0m \u001b[0;34m=\u001b[0m \u001b[0;34m'target'\u001b[0m\u001b[0;34m,\u001b[0m \u001b[0mdata\u001b[0m \u001b[0;34m=\u001b[0m \u001b[0mdf\u001b[0m\u001b[0;34m)\u001b[0m\u001b[0;34m\u001b[0m\u001b[0;34m\u001b[0m\u001b[0m\n\u001b[0m\u001b[1;32m      2\u001b[0m \u001b[0;34m\u001b[0m\u001b[0m\n\u001b[1;32m      3\u001b[0m \u001b[0mplt\u001b[0m\u001b[0;34m.\u001b[0m\u001b[0mtitle\u001b[0m\u001b[0;34m(\u001b[0m\u001b[0;34m'Heart Disease Frequency for Gender'\u001b[0m\u001b[0;34m)\u001b[0m\u001b[0;34m\u001b[0m\u001b[0;34m\u001b[0m\u001b[0m\n\u001b[1;32m      4\u001b[0m \u001b[0mplt\u001b[0m\u001b[0;34m.\u001b[0m\u001b[0mlegend\u001b[0m\u001b[0;34m(\u001b[0m\u001b[0;34m[\u001b[0m\u001b[0;34m\"No Disease\"\u001b[0m\u001b[0;34m,\u001b[0m \u001b[0;34m\"Yes Disease\"\u001b[0m\u001b[0;34m]\u001b[0m\u001b[0;34m)\u001b[0m\u001b[0;34m\u001b[0m\u001b[0;34m\u001b[0m\u001b[0m\n\u001b[1;32m      5\u001b[0m \u001b[0;34m\u001b[0m\u001b[0m\n",
            "\u001b[0;31mTypeError\u001b[0m: countplot() got multiple values for argument 'data'"
          ]
        }
      ],
      "source": [
        "sns.countplot('sex', hue = 'target', data = df)\n",
        "\n",
        "plt.title('Heart Disease Frequency for Gender')\n",
        "plt.legend([\"No Disease\", \"Yes Disease\"])\n",
        "\n",
        "plt.xlabel('Gender (0 = Female, 1 = Male)')\n",
        "plt.ylabel('Frequency')\n",
        "\n",
        "plt.show()"
      ]
    },
    {
      "cell_type": "code",
      "source": [
        "import seaborn as sns\n",
        "import matplotlib.pyplot as plt\n",
        "\n",
        "sns.countplot(x='sex', hue='target', data=df)\n",
        "\n",
        "plt.title('Heart Disease Frequency for Gender')\n",
        "plt.legend([\"No Disease\", \"Yes Disease\"])\n",
        "plt.xlabel('Gender (0 = Female, 1 = Male)')\n",
        "plt.ylabel('Frequency')\n",
        "\n",
        "plt.show()\n"
      ],
      "metadata": {
        "colab": {
          "base_uri": "https://localhost:8080/",
          "height": 472
        },
        "id": "0H5t1niixW9z",
        "outputId": "3e0b045c-9cfe-48ee-9ed9-6858fc06965a"
      },
      "execution_count": 16,
      "outputs": [
        {
          "output_type": "display_data",
          "data": {
            "text/plain": [
              "<Figure size 640x480 with 1 Axes>"
            ],
            "image/png": "[encoded data removed]"
          },
          "metadata": {}
        }
      ]
    },
    {
      "cell_type": "markdown",
      "metadata": {
        "id": "VRRFioCYuLLz"
      },
      "source": [
        "#### 2) Age"
      ]
    },
    {
      "cell_type": "code",
      "source": [
        "import seaborn as sns\n",
        "import matplotlib.pyplot as plt\n",
        "\n",
        "plt.figure(figsize=(20, 8))\n",
        "sns.countplot(x='age', hue='target', data=df)\n",
        "\n",
        "plt.title('Heart Disease Frequency for Age')\n",
        "plt.legend([\"No Disease\", \"Yes Disease\"])\n",
        "plt.xlabel('Age')\n",
        "plt.ylabel('Frequency')\n",
        "\n",
        "plt.show()\n"
      ],
      "metadata": {
        "colab": {
          "base_uri": "https://localhost:8080/",
          "height": 401
        },
        "id": "M-H1hUUBxySW",
        "outputId": "e0d69345-c816-45cb-eeb0-f01ccf5c4259"
      },
      "execution_count": 18,
      "outputs": [
        {
          "output_type": "display_data",
          "data": {
            "text/plain": [
              "<Figure size 2000x800 with 1 Axes>"
            ],
            "image/png": "[encoded data removed]"
          },
          "metadata": {}
        }
      ]
    },
    {
      "cell_type": "code",
      "execution_count": 19,
      "metadata": {
        "colab": {
          "base_uri": "https://localhost:8080/",
          "height": 710
        },
        "id": "kX6rupN6uLLz",
        "outputId": "d625b9f7-832d-46e1-c41e-39b55c90001e"
      },
      "outputs": [
        {
          "output_type": "display_data",
          "data": {
            "text/plain": [
              "<Figure size 1000x800 with 1 Axes>"
            ],
            "image/png": "[encoded data removed]"
          },
          "metadata": {}
        }
      ],
      "source": [
        "plt.figure(figsize = (10, 8))\n",
        "\n",
        "plt.scatter(df['age'], df['chol'], s = 200)\n",
        "\n",
        "plt.xlabel('Age', fontsize = 20)\n",
        "plt.ylabel('Cholestrol', fontsize = 20)\n",
        "plt.show()"
      ]
    },
    {
      "cell_type": "markdown",
      "metadata": {
        "id": "JCvZXo7auLLz"
      },
      "source": [
        "### Splitting the data"
      ]
    },
    {
      "cell_type": "code",
      "execution_count": null,
      "metadata": {
        "id": "6-22Qcy1uLL0"
      },
      "outputs": [],
      "source": [
        "features = df.drop('target', axis=1)\n",
        "\n",
        "target = df[['target']]"
      ]
    },
    {
      "cell_type": "code",
      "execution_count": null,
      "metadata": {
        "id": "xhQCJe_5uLL0",
        "outputId": "3cbd46d8-9cb7-46fb-e5d3-66cba72e697f"
      },
      "outputs": [
        {
          "data": {
            "text/html": [
              "<div>\n",
              "<style scoped>\n",
              "    .dataframe tbody tr th:only-of-type {\n",
              "        vertical-align: middle;\n",
              "    }\n",
              "\n",
              "    .dataframe tbody tr th {\n",
              "        vertical-align: top;\n",
              "    }\n",
              "\n",
              "    .dataframe thead th {\n",
              "        text-align: right;\n",
              "    }\n",
              "</style>\n",
              "<table border=\"1\" class=\"dataframe\">\n",
              "  <thead>\n",
              "    <tr style=\"text-align: right;\">\n",
              "      <th></th>\n",
              "      <th>age</th>\n",
              "      <th>sex</th>\n",
              "      <th>cp</th>\n",
              "      <th>trestbps</th>\n",
              "      <th>chol</th>\n",
              "      <th>fbs</th>\n",
              "      <th>restecg</th>\n",
              "      <th>thalach</th>\n",
              "      <th>exang</th>\n",
              "      <th>oldpeak</th>\n",
              "      <th>slope</th>\n",
              "      <th>ca</th>\n",
              "      <th>thal</th>\n",
              "    </tr>\n",
              "  </thead>\n",
              "  <tbody>\n",
              "    <tr>\n",
              "      <td>145</td>\n",
              "      <td>70</td>\n",
              "      <td>1</td>\n",
              "      <td>1</td>\n",
              "      <td>156</td>\n",
              "      <td>245</td>\n",
              "      <td>0</td>\n",
              "      <td>0</td>\n",
              "      <td>143</td>\n",
              "      <td>0</td>\n",
              "      <td>0.0</td>\n",
              "      <td>2</td>\n",
              "      <td>0</td>\n",
              "      <td>2</td>\n",
              "    </tr>\n",
              "    <tr>\n",
              "      <td>30</td>\n",
              "      <td>41</td>\n",
              "      <td>0</td>\n",
              "      <td>1</td>\n",
              "      <td>105</td>\n",
              "      <td>198</td>\n",
              "      <td>0</td>\n",
              "      <td>1</td>\n",
              "      <td>168</td>\n",
              "      <td>0</td>\n",
              "      <td>0.0</td>\n",
              "      <td>2</td>\n",
              "      <td>1</td>\n",
              "      <td>2</td>\n",
              "    </tr>\n",
              "    <tr>\n",
              "      <td>117</td>\n",
              "      <td>56</td>\n",
              "      <td>1</td>\n",
              "      <td>3</td>\n",
              "      <td>120</td>\n",
              "      <td>193</td>\n",
              "      <td>0</td>\n",
              "      <td>0</td>\n",
              "      <td>162</td>\n",
              "      <td>0</td>\n",
              "      <td>1.9</td>\n",
              "      <td>1</td>\n",
              "      <td>0</td>\n",
              "      <td>3</td>\n",
              "    </tr>\n",
              "    <tr>\n",
              "      <td>90</td>\n",
              "      <td>48</td>\n",
              "      <td>1</td>\n",
              "      <td>2</td>\n",
              "      <td>124</td>\n",
              "      <td>255</td>\n",
              "      <td>1</td>\n",
              "      <td>1</td>\n",
              "      <td>175</td>\n",
              "      <td>0</td>\n",
              "      <td>0.0</td>\n",
              "      <td>2</td>\n",
              "      <td>2</td>\n",
              "      <td>2</td>\n",
              "    </tr>\n",
              "    <tr>\n",
              "      <td>260</td>\n",
              "      <td>66</td>\n",
              "      <td>0</td>\n",
              "      <td>0</td>\n",
              "      <td>178</td>\n",
              "      <td>228</td>\n",
              "      <td>1</td>\n",
              "      <td>1</td>\n",
              "      <td>165</td>\n",
              "      <td>1</td>\n",
              "      <td>1.0</td>\n",
              "      <td>1</td>\n",
              "      <td>2</td>\n",
              "      <td>3</td>\n",
              "    </tr>\n",
              "  </tbody>\n",
              "</table>\n",
              "</div>"
            ],
            "text/plain": [
              "     age  sex  cp  trestbps  chol  fbs  restecg  thalach  exang  oldpeak  \\\n",
              "145   70    1   1       156   245    0        0      143      0      0.0   \n",
              "30    41    0   1       105   198    0        1      168      0      0.0   \n",
              "117   56    1   3       120   193    0        0      162      0      1.9   \n",
              "90    48    1   2       124   255    1        1      175      0      0.0   \n",
              "260   66    0   0       178   228    1        1      165      1      1.0   \n",
              "\n",
              "     slope  ca  thal  \n",
              "145      2   0     2  \n",
              "30       2   1     2  \n",
              "117      1   0     3  \n",
              "90       2   2     2  \n",
              "260      1   2     3  "
            ]
          },
          "execution_count": 17,
          "metadata": {},
          "output_type": "execute_result"
        }
      ],
      "source": [
        "features.sample(5)"
      ]
    },
    {
      "cell_type": "code",
      "execution_count": null,
      "metadata": {
        "id": "UVOqCNXDuLL0",
        "outputId": "620a7932-20ee-4183-b404-43f9641db483"
      },
      "outputs": [
        {
          "data": {
            "text/html": [
              "<div>\n",
              "<style scoped>\n",
              "    .dataframe tbody tr th:only-of-type {\n",
              "        vertical-align: middle;\n",
              "    }\n",
              "\n",
              "    .dataframe tbody tr th {\n",
              "        vertical-align: top;\n",
              "    }\n",
              "\n",
              "    .dataframe thead th {\n",
              "        text-align: right;\n",
              "    }\n",
              "</style>\n",
              "<table border=\"1\" class=\"dataframe\">\n",
              "  <thead>\n",
              "    <tr style=\"text-align: right;\">\n",
              "      <th></th>\n",
              "      <th>target</th>\n",
              "    </tr>\n",
              "  </thead>\n",
              "  <tbody>\n",
              "    <tr>\n",
              "      <td>299</td>\n",
              "      <td>0</td>\n",
              "    </tr>\n",
              "    <tr>\n",
              "      <td>26</td>\n",
              "      <td>1</td>\n",
              "    </tr>\n",
              "    <tr>\n",
              "      <td>2</td>\n",
              "      <td>1</td>\n",
              "    </tr>\n",
              "    <tr>\n",
              "      <td>254</td>\n",
              "      <td>0</td>\n",
              "    </tr>\n",
              "    <tr>\n",
              "      <td>87</td>\n",
              "      <td>1</td>\n",
              "    </tr>\n",
              "    <tr>\n",
              "      <td>142</td>\n",
              "      <td>1</td>\n",
              "    </tr>\n",
              "    <tr>\n",
              "      <td>138</td>\n",
              "      <td>1</td>\n",
              "    </tr>\n",
              "    <tr>\n",
              "      <td>243</td>\n",
              "      <td>0</td>\n",
              "    </tr>\n",
              "    <tr>\n",
              "      <td>218</td>\n",
              "      <td>0</td>\n",
              "    </tr>\n",
              "    <tr>\n",
              "      <td>177</td>\n",
              "      <td>0</td>\n",
              "    </tr>\n",
              "  </tbody>\n",
              "</table>\n",
              "</div>"
            ],
            "text/plain": [
              "     target\n",
              "299       0\n",
              "26        1\n",
              "2         1\n",
              "254       0\n",
              "87        1\n",
              "142       1\n",
              "138       1\n",
              "243       0\n",
              "218       0\n",
              "177       0"
            ]
          },
          "execution_count": 18,
          "metadata": {},
          "output_type": "execute_result"
        }
      ],
      "source": [
        "target.sample(10)"
      ]
    },
    {
      "cell_type": "code",
      "execution_count": null,
      "metadata": {
        "id": "AK_VUZB9uLL0",
        "outputId": "2cefe20e-0e3a-4f1f-8dfe-8b3190b2ad46"
      },
      "outputs": [
        {
          "data": {
            "text/html": [
              "<div>\n",
              "<style scoped>\n",
              "    .dataframe tbody tr th:only-of-type {\n",
              "        vertical-align: middle;\n",
              "    }\n",
              "\n",
              "    .dataframe tbody tr th {\n",
              "        vertical-align: top;\n",
              "    }\n",
              "\n",
              "    .dataframe thead th {\n",
              "        text-align: right;\n",
              "    }\n",
              "</style>\n",
              "<table border=\"1\" class=\"dataframe\">\n",
              "  <thead>\n",
              "    <tr style=\"text-align: right;\">\n",
              "      <th></th>\n",
              "      <th>sex</th>\n",
              "      <th>fbs</th>\n",
              "      <th>exang</th>\n",
              "      <th>cp</th>\n",
              "      <th>ca</th>\n",
              "      <th>slope</th>\n",
              "      <th>thal</th>\n",
              "      <th>restecg</th>\n",
              "    </tr>\n",
              "  </thead>\n",
              "  <tbody>\n",
              "    <tr>\n",
              "      <td>0</td>\n",
              "      <td>1</td>\n",
              "      <td>1</td>\n",
              "      <td>0</td>\n",
              "      <td>3</td>\n",
              "      <td>0</td>\n",
              "      <td>0</td>\n",
              "      <td>1</td>\n",
              "      <td>0</td>\n",
              "    </tr>\n",
              "    <tr>\n",
              "      <td>1</td>\n",
              "      <td>1</td>\n",
              "      <td>0</td>\n",
              "      <td>0</td>\n",
              "      <td>2</td>\n",
              "      <td>0</td>\n",
              "      <td>0</td>\n",
              "      <td>2</td>\n",
              "      <td>1</td>\n",
              "    </tr>\n",
              "    <tr>\n",
              "      <td>2</td>\n",
              "      <td>0</td>\n",
              "      <td>0</td>\n",
              "      <td>0</td>\n",
              "      <td>1</td>\n",
              "      <td>0</td>\n",
              "      <td>2</td>\n",
              "      <td>2</td>\n",
              "      <td>0</td>\n",
              "    </tr>\n",
              "    <tr>\n",
              "      <td>3</td>\n",
              "      <td>1</td>\n",
              "      <td>0</td>\n",
              "      <td>0</td>\n",
              "      <td>1</td>\n",
              "      <td>0</td>\n",
              "      <td>2</td>\n",
              "      <td>2</td>\n",
              "      <td>1</td>\n",
              "    </tr>\n",
              "    <tr>\n",
              "      <td>4</td>\n",
              "      <td>0</td>\n",
              "      <td>0</td>\n",
              "      <td>1</td>\n",
              "      <td>0</td>\n",
              "      <td>0</td>\n",
              "      <td>2</td>\n",
              "      <td>2</td>\n",
              "      <td>1</td>\n",
              "    </tr>\n",
              "  </tbody>\n",
              "</table>\n",
              "</div>"
            ],
            "text/plain": [
              "   sex  fbs  exang  cp  ca  slope  thal  restecg\n",
              "0    1    1      0   3   0      0     1        0\n",
              "1    1    0      0   2   0      0     2        1\n",
              "2    0    0      0   1   0      2     2        0\n",
              "3    1    0      0   1   0      2     2        1\n",
              "4    0    0      1   0   0      2     2        1"
            ]
          },
          "execution_count": 19,
          "metadata": {},
          "output_type": "execute_result"
        }
      ],
      "source": [
        "categorical_features = features[['sex', 'fbs', 'exang', 'cp', 'ca', 'slope', 'thal', 'restecg']].copy()\n",
        "\n",
        "categorical_features.head()"
      ]
    },
    {
      "cell_type": "code",
      "execution_count": null,
      "metadata": {
        "id": "os7ytp2yuLL0",
        "outputId": "6bf09c93-96a4-403d-da71-9f6e0123021a"
      },
      "outputs": [
        {
          "data": {
            "text/html": [
              "<div>\n",
              "<style scoped>\n",
              "    .dataframe tbody tr th:only-of-type {\n",
              "        vertical-align: middle;\n",
              "    }\n",
              "\n",
              "    .dataframe tbody tr th {\n",
              "        vertical-align: top;\n",
              "    }\n",
              "\n",
              "    .dataframe thead th {\n",
              "        text-align: right;\n",
              "    }\n",
              "</style>\n",
              "<table border=\"1\" class=\"dataframe\">\n",
              "  <thead>\n",
              "    <tr style=\"text-align: right;\">\n",
              "      <th></th>\n",
              "      <th>age</th>\n",
              "      <th>trestbps</th>\n",
              "      <th>chol</th>\n",
              "      <th>thalach</th>\n",
              "      <th>oldpeak</th>\n",
              "    </tr>\n",
              "  </thead>\n",
              "  <tbody>\n",
              "    <tr>\n",
              "      <td>0</td>\n",
              "      <td>63</td>\n",
              "      <td>145</td>\n",
              "      <td>233</td>\n",
              "      <td>150</td>\n",
              "      <td>2.3</td>\n",
              "    </tr>\n",
              "    <tr>\n",
              "      <td>1</td>\n",
              "      <td>37</td>\n",
              "      <td>130</td>\n",
              "      <td>250</td>\n",
              "      <td>187</td>\n",
              "      <td>3.5</td>\n",
              "    </tr>\n",
              "    <tr>\n",
              "      <td>2</td>\n",
              "      <td>41</td>\n",
              "      <td>130</td>\n",
              "      <td>204</td>\n",
              "      <td>172</td>\n",
              "      <td>1.4</td>\n",
              "    </tr>\n",
              "    <tr>\n",
              "      <td>3</td>\n",
              "      <td>56</td>\n",
              "      <td>120</td>\n",
              "      <td>236</td>\n",
              "      <td>178</td>\n",
              "      <td>0.8</td>\n",
              "    </tr>\n",
              "    <tr>\n",
              "      <td>4</td>\n",
              "      <td>57</td>\n",
              "      <td>120</td>\n",
              "      <td>354</td>\n",
              "      <td>163</td>\n",
              "      <td>0.6</td>\n",
              "    </tr>\n",
              "  </tbody>\n",
              "</table>\n",
              "</div>"
            ],
            "text/plain": [
              "   age  trestbps  chol  thalach  oldpeak\n",
              "0   63       145   233      150      2.3\n",
              "1   37       130   250      187      3.5\n",
              "2   41       130   204      172      1.4\n",
              "3   56       120   236      178      0.8\n",
              "4   57       120   354      163      0.6"
            ]
          },
          "execution_count": 20,
          "metadata": {},
          "output_type": "execute_result"
        }
      ],
      "source": [
        "numeric_features = features[['age', 'trestbps', 'chol', 'thalach', 'oldpeak']].copy()\n",
        "\n",
        "numeric_features.head()"
      ]
    },
    {
      "cell_type": "code",
      "execution_count": null,
      "metadata": {
        "id": "j-DsT3yLuLL0",
        "outputId": "f407171f-38c1-4b14-c947-d4b94e3f02f0"
      },
      "outputs": [
        {
          "data": {
            "text/html": [
              "<div>\n",
              "<style scoped>\n",
              "    .dataframe tbody tr th:only-of-type {\n",
              "        vertical-align: middle;\n",
              "    }\n",
              "\n",
              "    .dataframe tbody tr th {\n",
              "        vertical-align: top;\n",
              "    }\n",
              "\n",
              "    .dataframe thead th {\n",
              "        text-align: right;\n",
              "    }\n",
              "</style>\n",
              "<table border=\"1\" class=\"dataframe\">\n",
              "  <thead>\n",
              "    <tr style=\"text-align: right;\">\n",
              "      <th></th>\n",
              "      <th>age</th>\n",
              "      <th>trestbps</th>\n",
              "      <th>chol</th>\n",
              "      <th>thalach</th>\n",
              "      <th>oldpeak</th>\n",
              "    </tr>\n",
              "  </thead>\n",
              "  <tbody>\n",
              "    <tr>\n",
              "      <td>count</td>\n",
              "      <td>3.030000e+02</td>\n",
              "      <td>3.030000e+02</td>\n",
              "      <td>3.030000e+02</td>\n",
              "      <td>3.030000e+02</td>\n",
              "      <td>3.030000e+02</td>\n",
              "    </tr>\n",
              "    <tr>\n",
              "      <td>mean</td>\n",
              "      <td>5.825923e-17</td>\n",
              "      <td>-7.146832e-16</td>\n",
              "      <td>-9.828955e-17</td>\n",
              "      <td>-5.203025e-16</td>\n",
              "      <td>-3.140136e-16</td>\n",
              "    </tr>\n",
              "    <tr>\n",
              "      <td>std</td>\n",
              "      <td>1.001654e+00</td>\n",
              "      <td>1.001654e+00</td>\n",
              "      <td>1.001654e+00</td>\n",
              "      <td>1.001654e+00</td>\n",
              "      <td>1.001654e+00</td>\n",
              "    </tr>\n",
              "    <tr>\n",
              "      <td>min</td>\n",
              "      <td>-2.797624e+00</td>\n",
              "      <td>-2.148802e+00</td>\n",
              "      <td>-2.324160e+00</td>\n",
              "      <td>-3.439267e+00</td>\n",
              "      <td>-8.968617e-01</td>\n",
              "    </tr>\n",
              "    <tr>\n",
              "      <td>25%</td>\n",
              "      <td>-7.572802e-01</td>\n",
              "      <td>-6.638668e-01</td>\n",
              "      <td>-6.814943e-01</td>\n",
              "      <td>-7.061105e-01</td>\n",
              "      <td>-8.968617e-01</td>\n",
              "    </tr>\n",
              "    <tr>\n",
              "      <td>50%</td>\n",
              "      <td>6.988599e-02</td>\n",
              "      <td>-9.273778e-02</td>\n",
              "      <td>-1.210553e-01</td>\n",
              "      <td>1.466343e-01</td>\n",
              "      <td>-2.067053e-01</td>\n",
              "    </tr>\n",
              "    <tr>\n",
              "      <td>75%</td>\n",
              "      <td>7.316189e-01</td>\n",
              "      <td>4.783913e-01</td>\n",
              "      <td>5.456738e-01</td>\n",
              "      <td>7.151309e-01</td>\n",
              "      <td>4.834512e-01</td>\n",
              "    </tr>\n",
              "    <tr>\n",
              "      <td>max</td>\n",
              "      <td>2.496240e+00</td>\n",
              "      <td>3.905165e+00</td>\n",
              "      <td>6.140401e+00</td>\n",
              "      <td>2.289429e+00</td>\n",
              "      <td>4.451851e+00</td>\n",
              "    </tr>\n",
              "  </tbody>\n",
              "</table>\n",
              "</div>"
            ],
            "text/plain": [
              "                age      trestbps          chol       thalach       oldpeak\n",
              "count  3.030000e+02  3.030000e+02  3.030000e+02  3.030000e+02  3.030000e+02\n",
              "mean   5.825923e-17 -7.146832e-16 -9.828955e-17 -5.203025e-16 -3.140136e-16\n",
              "std    1.001654e+00  1.001654e+00  1.001654e+00  1.001654e+00  1.001654e+00\n",
              "min   -2.797624e+00 -2.148802e+00 -2.324160e+00 -3.439267e+00 -8.968617e-01\n",
              "25%   -7.572802e-01 -6.638668e-01 -6.814943e-01 -7.061105e-01 -8.968617e-01\n",
              "50%    6.988599e-02 -9.273778e-02 -1.210553e-01  1.466343e-01 -2.067053e-01\n",
              "75%    7.316189e-01  4.783913e-01  5.456738e-01  7.151309e-01  4.834512e-01\n",
              "max    2.496240e+00  3.905165e+00  6.140401e+00  2.289429e+00  4.451851e+00"
            ]
          },
          "execution_count": 21,
          "metadata": {},
          "output_type": "execute_result"
        }
      ],
      "source": [
        "standardScaler = StandardScaler()\n",
        "\n",
        "numeric_features = pd.DataFrame(standardScaler.fit_transform(numeric_features),\n",
        "                                columns=numeric_features.columns,\n",
        "                                index=numeric_features.index)\n",
        "\n",
        "numeric_features.describe()"
      ]
    },
    {
      "cell_type": "code",
      "execution_count": null,
      "metadata": {
        "id": "KmVisY6WuLL0",
        "outputId": "5c484616-d6a8-44d6-d04c-cd83484add36"
      },
      "outputs": [
        {
          "data": {
            "text/html": [
              "<div>\n",
              "<style scoped>\n",
              "    .dataframe tbody tr th:only-of-type {\n",
              "        vertical-align: middle;\n",
              "    }\n",
              "\n",
              "    .dataframe tbody tr th {\n",
              "        vertical-align: top;\n",
              "    }\n",
              "\n",
              "    .dataframe thead th {\n",
              "        text-align: right;\n",
              "    }\n",
              "</style>\n",
              "<table border=\"1\" class=\"dataframe\">\n",
              "  <thead>\n",
              "    <tr style=\"text-align: right;\">\n",
              "      <th></th>\n",
              "      <th>age</th>\n",
              "      <th>trestbps</th>\n",
              "      <th>chol</th>\n",
              "      <th>thalach</th>\n",
              "      <th>oldpeak</th>\n",
              "      <th>sex</th>\n",
              "      <th>fbs</th>\n",
              "      <th>exang</th>\n",
              "      <th>cp</th>\n",
              "      <th>ca</th>\n",
              "      <th>slope</th>\n",
              "      <th>thal</th>\n",
              "      <th>restecg</th>\n",
              "    </tr>\n",
              "  </thead>\n",
              "  <tbody>\n",
              "    <tr>\n",
              "      <td>0</td>\n",
              "      <td>0.952197</td>\n",
              "      <td>0.763956</td>\n",
              "      <td>-0.256334</td>\n",
              "      <td>0.015443</td>\n",
              "      <td>1.087338</td>\n",
              "      <td>1</td>\n",
              "      <td>1</td>\n",
              "      <td>0</td>\n",
              "      <td>3</td>\n",
              "      <td>0</td>\n",
              "      <td>0</td>\n",
              "      <td>1</td>\n",
              "      <td>0</td>\n",
              "    </tr>\n",
              "    <tr>\n",
              "      <td>1</td>\n",
              "      <td>-1.915313</td>\n",
              "      <td>-0.092738</td>\n",
              "      <td>0.072199</td>\n",
              "      <td>1.633471</td>\n",
              "      <td>2.122573</td>\n",
              "      <td>1</td>\n",
              "      <td>0</td>\n",
              "      <td>0</td>\n",
              "      <td>2</td>\n",
              "      <td>0</td>\n",
              "      <td>0</td>\n",
              "      <td>2</td>\n",
              "      <td>1</td>\n",
              "    </tr>\n",
              "    <tr>\n",
              "      <td>2</td>\n",
              "      <td>-1.474158</td>\n",
              "      <td>-0.092738</td>\n",
              "      <td>-0.816773</td>\n",
              "      <td>0.977514</td>\n",
              "      <td>0.310912</td>\n",
              "      <td>0</td>\n",
              "      <td>0</td>\n",
              "      <td>0</td>\n",
              "      <td>1</td>\n",
              "      <td>0</td>\n",
              "      <td>2</td>\n",
              "      <td>2</td>\n",
              "      <td>0</td>\n",
              "    </tr>\n",
              "    <tr>\n",
              "      <td>3</td>\n",
              "      <td>0.180175</td>\n",
              "      <td>-0.663867</td>\n",
              "      <td>-0.198357</td>\n",
              "      <td>1.239897</td>\n",
              "      <td>-0.206705</td>\n",
              "      <td>1</td>\n",
              "      <td>0</td>\n",
              "      <td>0</td>\n",
              "      <td>1</td>\n",
              "      <td>0</td>\n",
              "      <td>2</td>\n",
              "      <td>2</td>\n",
              "      <td>1</td>\n",
              "    </tr>\n",
              "    <tr>\n",
              "      <td>4</td>\n",
              "      <td>0.290464</td>\n",
              "      <td>-0.663867</td>\n",
              "      <td>2.082050</td>\n",
              "      <td>0.583939</td>\n",
              "      <td>-0.379244</td>\n",
              "      <td>0</td>\n",
              "      <td>0</td>\n",
              "      <td>1</td>\n",
              "      <td>0</td>\n",
              "      <td>0</td>\n",
              "      <td>2</td>\n",
              "      <td>2</td>\n",
              "      <td>1</td>\n",
              "    </tr>\n",
              "  </tbody>\n",
              "</table>\n",
              "</div>"
            ],
            "text/plain": [
              "        age  trestbps      chol   thalach   oldpeak  sex  fbs  exang  cp  ca  \\\n",
              "0  0.952197  0.763956 -0.256334  0.015443  1.087338    1    1      0   3   0   \n",
              "1 -1.915313 -0.092738  0.072199  1.633471  2.122573    1    0      0   2   0   \n",
              "2 -1.474158 -0.092738 -0.816773  0.977514  0.310912    0    0      0   1   0   \n",
              "3  0.180175 -0.663867 -0.198357  1.239897 -0.206705    1    0      0   1   0   \n",
              "4  0.290464 -0.663867  2.082050  0.583939 -0.379244    0    0      1   0   0   \n",
              "\n",
              "   slope  thal  restecg  \n",
              "0      0     1        0  \n",
              "1      0     2        1  \n",
              "2      2     2        0  \n",
              "3      2     2        1  \n",
              "4      2     2        1  "
            ]
          },
          "execution_count": 22,
          "metadata": {},
          "output_type": "execute_result"
        }
      ],
      "source": [
        "processed_features = pd.concat([numeric_features, categorical_features], axis=1,\n",
        "                               sort=False)\n",
        "\n",
        "processed_features.head()"
      ]
    },
    {
      "cell_type": "markdown",
      "metadata": {
        "id": "QgdeB0hsuLL1"
      },
      "source": [
        "### Splitting dataset into training and testing data"
      ]
    },
    {
      "cell_type": "code",
      "execution_count": null,
      "metadata": {
        "id": "WR5K94xnuLL1"
      },
      "outputs": [],
      "source": [
        "from sklearn.model_selection import train_test_split\n",
        "\n",
        "x_train, x_test, y_train, y_test = train_test_split(processed_features,\n",
        "                                                    target,\n",
        "                                                    test_size = 0.2,\n",
        "                                                    random_state=1)"
      ]
    },
    {
      "cell_type": "code",
      "execution_count": null,
      "metadata": {
        "id": "DfkLTRvRuLL1",
        "outputId": "3f2fcac5-996c-43c2-d246-3b0330ab4b8d"
      },
      "outputs": [
        {
          "data": {
            "text/plain": [
              "((242, 13), (242, 1))"
            ]
          },
          "execution_count": 25,
          "metadata": {},
          "output_type": "execute_result"
        }
      ],
      "source": [
        "x_train.shape, y_train.shape"
      ]
    },
    {
      "cell_type": "code",
      "execution_count": null,
      "metadata": {
        "id": "qVaLPGDuuLL1",
        "outputId": "63a697ba-8683-4d9f-bef2-16bf4c046a47"
      },
      "outputs": [
        {
          "data": {
            "text/plain": [
              "((61, 13), (61, 1))"
            ]
          },
          "execution_count": 26,
          "metadata": {},
          "output_type": "execute_result"
        }
      ],
      "source": [
        "x_test.shape, y_test.shape"
      ]
    },
    {
      "cell_type": "code",
      "execution_count": null,
      "metadata": {
        "id": "Mj9vI6GJuLL1"
      },
      "outputs": [],
      "source": [
        "x_train, x_val, y_train, y_val = train_test_split(x_train,\n",
        "                                                  y_train,\n",
        "                                                  test_size=0.15,\n",
        "                                                  random_state=10)"
      ]
    },
    {
      "cell_type": "code",
      "execution_count": null,
      "metadata": {
        "id": "kvE7OCX2uLL1",
        "outputId": "6e2ed569-6627-4388-fd93-6bc39771d422"
      },
      "outputs": [
        {
          "data": {
            "text/plain": [
              "((205, 13), (37, 13), (61, 13))"
            ]
          },
          "execution_count": 28,
          "metadata": {},
          "output_type": "execute_result"
        }
      ],
      "source": [
        "x_train.shape, x_val.shape, x_test.shape"
      ]
    },
    {
      "cell_type": "code",
      "execution_count": null,
      "metadata": {
        "id": "P3jgfnB_uLL2",
        "outputId": "5df77afb-7289-47f6-eed5-9856e89ae0f6"
      },
      "outputs": [
        {
          "data": {
            "text/plain": [
              "((205, 1), (37, 1), (61, 1))"
            ]
          },
          "execution_count": 29,
          "metadata": {},
          "output_type": "execute_result"
        }
      ],
      "source": [
        "y_train.shape, y_val.shape, y_test.shape"
      ]
    },
    {
      "cell_type": "markdown",
      "metadata": {
        "id": "0yGmzIIPuLL2"
      },
      "source": [
        "### Building the model"
      ]
    },
    {
      "cell_type": "code",
      "execution_count": null,
      "metadata": {
        "id": "RtdAtBDbuLL2"
      },
      "outputs": [],
      "source": [
        "def build_model():\n",
        "\n",
        "    inputs = tf.keras.Input(shape=(x_train.shape[1],))\n",
        "\n",
        "    dense_layer1 = layers.Dense(12, activation='relu')\n",
        "    x = dense_layer1(inputs)\n",
        "\n",
        "    dropout_layer = layers.Dropout(0.3)\n",
        "    x = dropout_layer(x)\n",
        "\n",
        "    dense_layer2 = layers.Dense(8, activation='relu')\n",
        "    x = dense_layer2(x)\n",
        "\n",
        "    predictions_layer = layers.Dense(1, activation='sigmoid')\n",
        "    predictions = predictions_layer(x)\n",
        "\n",
        "    model = tf.keras.Model(inputs=inputs, outputs=predictions)\n",
        "\n",
        "    model.summary()\n",
        "\n",
        "    model.compile(optimizer=tf.keras.optimizers.Adam(0.001),\n",
        "                  loss=tf.keras.losses.BinaryCrossentropy(),\n",
        "                  metrics=['accuracy',\n",
        "                           tf.keras.metrics.Precision(0.5),\n",
        "                           tf.keras.metrics.Recall(0.5),])\n",
        "    return model"
      ]
    },
    {
      "cell_type": "code",
      "execution_count": null,
      "metadata": {
        "id": "SRDoOX5EuLL2",
        "outputId": "a5b39634-8581-490d-de35-18f9aaece2d2"
      },
      "outputs": [
        {
          "name": "stdout",
          "output_type": "stream",
          "text": [
            "Model: \"model\"\n",
            "_________________________________________________________________\n",
            "Layer (type)                 Output Shape              Param #   \n",
            "=================================================================\n",
            "input_1 (InputLayer)         [(None, 13)]              0         \n",
            "_________________________________________________________________\n",
            "dense (Dense)                (None, 12)                168       \n",
            "_________________________________________________________________\n",
            "dropout (Dropout)            (None, 12)                0         \n",
            "_________________________________________________________________\n",
            "dense_1 (Dense)              (None, 8)                 104       \n",
            "_________________________________________________________________\n",
            "dense_2 (Dense)              (None, 1)                 9         \n",
            "=================================================================\n",
            "Total params: 281\n",
            "Trainable params: 281\n",
            "Non-trainable params: 0\n",
            "_________________________________________________________________\n"
          ]
        }
      ],
      "source": [
        "model = build_model()"
      ]
    },
    {
      "cell_type": "code",
      "execution_count": null,
      "metadata": {
        "id": "Cx9FmXWruLL2",
        "outputId": "dc24f57c-ab1f-4584-d10e-873a0f4e2fac"
      },
      "outputs": [
        {
          "data": {
            "image/png": "[encoded data removed]",
            "text/plain": [
              "<IPython.core.display.Image object>"
            ]
          },
          "execution_count": 32,
          "metadata": {},
          "output_type": "execute_result"
        }
      ],
      "source": [
        "keras.utils.plot_model(model, show_shapes=True)"
      ]
    },
    {
      "cell_type": "code",
      "execution_count": null,
      "metadata": {
        "id": "oH6JR7u6uLL2",
        "outputId": "9031e6cc-26ca-4d6f-9a58-ff29b9ef8e58"
      },
      "outputs": [
        {
          "data": {
            "text/plain": [
              "<ShuffleDataset shapes: ((None, 13), (None, 1)), types: (tf.float64, tf.int64)>"
            ]
          },
          "execution_count": 33,
          "metadata": {},
          "output_type": "execute_result"
        }
      ],
      "source": [
        "dataset_train = tf.data.Dataset.from_tensor_slices((x_train.values, y_train.values))\n",
        "dataset_train = dataset_train.batch(16)\n",
        "\n",
        "dataset_train.shuffle(128)"
      ]
    },
    {
      "cell_type": "code",
      "execution_count": null,
      "metadata": {
        "id": "1k_IGjfmuLL3"
      },
      "outputs": [],
      "source": [
        "num_epochs = 100"
      ]
    },
    {
      "cell_type": "code",
      "execution_count": null,
      "metadata": {
        "id": "8rNpwv82uLL7"
      },
      "outputs": [],
      "source": [
        "dataset_val = tf.data.Dataset.from_tensor_slices((x_val.values, y_val.values))\n",
        "dataset_val = dataset_val.batch(16)"
      ]
    },
    {
      "cell_type": "code",
      "execution_count": null,
      "metadata": {
        "id": "l-hIFOw9uLL7",
        "outputId": "8a7b9df0-757c-4f46-e60a-e0202f46a3c2"
      },
      "outputs": [
        {
          "name": "stdout",
          "output_type": "stream",
          "text": [
            "Model: \"model_3\"\n",
            "_________________________________________________________________\n",
            "Layer (type)                 Output Shape              Param #   \n",
            "=================================================================\n",
            "input_4 (InputLayer)         [(None, 13)]              0         \n",
            "_________________________________________________________________\n",
            "dense_9 (Dense)              (None, 12)                168       \n",
            "_________________________________________________________________\n",
            "dropout_3 (Dropout)          (None, 12)                0         \n",
            "_________________________________________________________________\n",
            "dense_10 (Dense)             (None, 8)                 104       \n",
            "_________________________________________________________________\n",
            "dense_11 (Dense)             (None, 1)                 9         \n",
            "=================================================================\n",
            "Total params: 281\n",
            "Trainable params: 281\n",
            "Non-trainable params: 0\n",
            "_________________________________________________________________\n",
            "Train for 13 steps, validate for 3 steps\n",
            "Epoch 1/100\n",
            "13/13 [==============================] - 2s 120ms/step - loss: 0.6648 - accuracy: 0.6390 - precision_3: 0.6282 - recall_3: 0.8596 - val_loss: 0.6747 - val_accuracy: 0.6486 - val_precision_3: 0.6207 - val_recall_3: 0.9000\n",
            "Epoch 2/100\n",
            "13/13 [==============================] - 0s 6ms/step - loss: 0.6408 - accuracy: 0.6732 - precision_3: 0.6556 - recall_3: 0.8684 - val_loss: 0.6650 - val_accuracy: 0.6486 - val_precision_3: 0.6207 - val_recall_3: 0.9000\n",
            "Epoch 3/100\n",
            "13/13 [==============================] - 0s 6ms/step - loss: 0.6254 - accuracy: 0.6829 - precision_3: 0.6788 - recall_3: 0.8158 - val_loss: 0.6573 - val_accuracy: 0.6757 - val_precision_3: 0.6429 - val_recall_3: 0.9000\n",
            "Epoch 4/100\n",
            "13/13 [==============================] - 0s 6ms/step - loss: 0.6082 - accuracy: 0.7220 - precision_3: 0.7143 - recall_3: 0.8333 - val_loss: 0.6504 - val_accuracy: 0.7027 - val_precision_3: 0.6800 - val_recall_3: 0.8500\n",
            "Epoch 5/100\n",
            "13/13 [==============================] - 0s 5ms/step - loss: 0.6028 - accuracy: 0.7171 - precision_3: 0.7154 - recall_3: 0.8158 - val_loss: 0.6425 - val_accuracy: 0.7297 - val_precision_3: 0.7083 - val_recall_3: 0.8500\n",
            "Epoch 6/100\n",
            "13/13 [==============================] - 0s 4ms/step - loss: 0.5674 - accuracy: 0.7512 - precision_3: 0.7520 - recall_3: 0.8246 - val_loss: 0.6338 - val_accuracy: 0.7568 - val_precision_3: 0.7391 - val_recall_3: 0.8500\n",
            "Epoch 7/100\n",
            "13/13 [==============================] - 0s 5ms/step - loss: 0.5879 - accuracy: 0.7268 - precision_3: 0.7339 - recall_3: 0.7982 - val_loss: 0.6248 - val_accuracy: 0.7568 - val_precision_3: 0.7391 - val_recall_3: 0.8500\n",
            "Epoch 8/100\n",
            "13/13 [==============================] - 0s 4ms/step - loss: 0.5826 - accuracy: 0.6927 - precision_3: 0.7217 - recall_3: 0.7281 - val_loss: 0.6158 - val_accuracy: 0.7027 - val_precision_3: 0.7143 - val_recall_3: 0.7500\n",
            "Epoch 9/100\n",
            "13/13 [==============================] - 0s 5ms/step - loss: 0.5355 - accuracy: 0.7707 - precision_3: 0.7724 - recall_3: 0.8333 - val_loss: 0.6077 - val_accuracy: 0.7027 - val_precision_3: 0.7143 - val_recall_3: 0.7500\n",
            "Epoch 10/100\n",
            "13/13 [==============================] - 0s 5ms/step - loss: 0.5370 - accuracy: 0.7902 - precision_3: 0.7934 - recall_3: 0.8421 - val_loss: 0.6023 - val_accuracy: 0.6757 - val_precision_3: 0.7000 - val_recall_3: 0.7000\n",
            "Epoch 11/100\n",
            "13/13 [==============================] - 0s 6ms/step - loss: 0.5607 - accuracy: 0.7366 - precision_3: 0.7586 - recall_3: 0.7719 - val_loss: 0.5979 - val_accuracy: 0.7027 - val_precision_3: 0.7143 - val_recall_3: 0.7500\n",
            "Epoch 12/100\n",
            "13/13 [==============================] - 0s 5ms/step - loss: 0.5188 - accuracy: 0.7659 - precision_3: 0.7705 - recall_3: 0.8246 - val_loss: 0.5939 - val_accuracy: 0.7027 - val_precision_3: 0.7143 - val_recall_3: 0.7500\n",
            "Epoch 13/100\n",
            "13/13 [==============================] - 0s 4ms/step - loss: 0.5030 - accuracy: 0.7756 - precision_3: 0.7881 - recall_3: 0.8158 - val_loss: 0.5896 - val_accuracy: 0.7297 - val_precision_3: 0.7273 - val_recall_3: 0.8000\n",
            "Epoch 14/100\n",
            "13/13 [==============================] - 0s 4ms/step - loss: 0.4871 - accuracy: 0.7951 - precision_3: 0.8051 - recall_3: 0.8333 - val_loss: 0.5851 - val_accuracy: 0.7027 - val_precision_3: 0.7143 - val_recall_3: 0.7500\n",
            "Epoch 15/100\n",
            "13/13 [==============================] - 0s 4ms/step - loss: 0.4744 - accuracy: 0.8098 - precision_3: 0.8151 - recall_3: 0.8509 - val_loss: 0.5818 - val_accuracy: 0.7297 - val_precision_3: 0.7273 - val_recall_3: 0.8000\n",
            "Epoch 16/100\n",
            "13/13 [==============================] - 0s 4ms/step - loss: 0.4648 - accuracy: 0.8049 - precision_3: 0.7846 - recall_3: 0.8947 - val_loss: 0.5800 - val_accuracy: 0.7568 - val_precision_3: 0.7391 - val_recall_3: 0.8500\n",
            "Epoch 17/100\n",
            "13/13 [==============================] - 0s 4ms/step - loss: 0.4942 - accuracy: 0.7756 - precision_3: 0.7931 - recall_3: 0.8070 - val_loss: 0.5783 - val_accuracy: 0.7568 - val_precision_3: 0.7391 - val_recall_3: 0.8500\n",
            "Epoch 18/100\n",
            "13/13 [==============================] - 0s 4ms/step - loss: 0.4571 - accuracy: 0.8195 - precision_3: 0.8080 - recall_3: 0.8860 - val_loss: 0.5765 - val_accuracy: 0.7568 - val_precision_3: 0.7391 - val_recall_3: 0.8500\n",
            "Epoch 19/100\n",
            "13/13 [==============================] - 0s 6ms/step - loss: 0.4970 - accuracy: 0.7707 - precision_3: 0.7815 - recall_3: 0.8158 - val_loss: 0.5745 - val_accuracy: 0.7568 - val_precision_3: 0.7391 - val_recall_3: 0.8500\n",
            "Epoch 20/100\n",
            "13/13 [==============================] - 0s 8ms/step - loss: 0.4558 - accuracy: 0.7951 - precision_3: 0.8000 - recall_3: 0.8421 - val_loss: 0.5718 - val_accuracy: 0.7568 - val_precision_3: 0.7391 - val_recall_3: 0.8500\n",
            "Epoch 21/100\n",
            "13/13 [==============================] - 0s 7ms/step - loss: 0.4720 - accuracy: 0.7805 - precision_3: 0.8000 - recall_3: 0.8070 - val_loss: 0.5700 - val_accuracy: 0.7568 - val_precision_3: 0.7391 - val_recall_3: 0.8500\n",
            "Epoch 22/100\n",
            "13/13 [==============================] - 0s 5ms/step - loss: 0.4712 - accuracy: 0.7902 - precision_3: 0.8198 - recall_3: 0.7982 - val_loss: 0.5669 - val_accuracy: 0.7568 - val_precision_3: 0.7391 - val_recall_3: 0.8500\n",
            "Epoch 23/100\n",
            "13/13 [==============================] - 0s 4ms/step - loss: 0.4428 - accuracy: 0.8000 - precision_3: 0.8230 - recall_3: 0.8158 - val_loss: 0.5645 - val_accuracy: 0.7568 - val_precision_3: 0.7391 - val_recall_3: 0.8500\n",
            "Epoch 24/100\n",
            "13/13 [==============================] - 0s 4ms/step - loss: 0.4463 - accuracy: 0.8098 - precision_3: 0.7953 - recall_3: 0.8860 - val_loss: 0.5636 - val_accuracy: 0.7838 - val_precision_3: 0.7727 - val_recall_3: 0.8500\n",
            "Epoch 25/100\n",
            "13/13 [==============================] - 0s 5ms/step - loss: 0.4212 - accuracy: 0.8439 - precision_3: 0.8306 - recall_3: 0.9035 - val_loss: 0.5631 - val_accuracy: 0.7838 - val_precision_3: 0.7727 - val_recall_3: 0.8500\n",
            "Epoch 26/100\n",
            "13/13 [==============================] - 0s 12ms/step - loss: 0.4253 - accuracy: 0.8000 - precision_3: 0.8017 - recall_3: 0.8509 - val_loss: 0.5640 - val_accuracy: 0.7838 - val_precision_3: 0.7727 - val_recall_3: 0.8500\n",
            "Epoch 27/100\n",
            "13/13 [==============================] - 0s 13ms/step - loss: 0.4289 - accuracy: 0.8146 - precision_3: 0.8115 - recall_3: 0.8684 - val_loss: 0.5648 - val_accuracy: 0.7838 - val_precision_3: 0.7727 - val_recall_3: 0.8500\n",
            "Epoch 28/100\n",
            "13/13 [==============================] - 0s 5ms/step - loss: 0.3875 - accuracy: 0.8390 - precision_3: 0.8403 - recall_3: 0.8772 - val_loss: 0.5669 - val_accuracy: 0.7838 - val_precision_3: 0.7727 - val_recall_3: 0.8500\n",
            "Epoch 29/100\n",
            "13/13 [==============================] - 0s 5ms/step - loss: 0.4270 - accuracy: 0.8341 - precision_3: 0.8333 - recall_3: 0.8772 - val_loss: 0.5650 - val_accuracy: 0.7838 - val_precision_3: 0.7727 - val_recall_3: 0.8500\n",
            "Epoch 30/100\n",
            "13/13 [==============================] - 0s 5ms/step - loss: 0.3989 - accuracy: 0.8341 - precision_3: 0.8226 - recall_3: 0.8947 - val_loss: 0.5632 - val_accuracy: 0.7838 - val_precision_3: 0.7727 - val_recall_3: 0.8500\n",
            "Epoch 31/100\n",
            "13/13 [==============================] - 0s 4ms/step - loss: 0.4154 - accuracy: 0.8341 - precision_3: 0.8125 - recall_3: 0.9123 - val_loss: 0.5619 - val_accuracy: 0.7568 - val_precision_3: 0.7391 - val_recall_3: 0.8500\n"
          ]
        },
        {
          "name": "stdout",
          "output_type": "stream",
          "text": [
            "Epoch 32/100\n",
            "13/13 [==============================] - 0s 10ms/step - loss: 0.3917 - accuracy: 0.8390 - precision_3: 0.8462 - recall_3: 0.8684 - val_loss: 0.5606 - val_accuracy: 0.7568 - val_precision_3: 0.7391 - val_recall_3: 0.8500\n",
            "Epoch 33/100\n",
            "13/13 [==============================] - 0s 5ms/step - loss: 0.3858 - accuracy: 0.8439 - precision_3: 0.8475 - recall_3: 0.8772 - val_loss: 0.5608 - val_accuracy: 0.7568 - val_precision_3: 0.7391 - val_recall_3: 0.8500\n",
            "Epoch 34/100\n",
            "13/13 [==============================] - 0s 6ms/step - loss: 0.4214 - accuracy: 0.8244 - precision_3: 0.8145 - recall_3: 0.8860 - val_loss: 0.5588 - val_accuracy: 0.7568 - val_precision_3: 0.7391 - val_recall_3: 0.8500\n",
            "Epoch 35/100\n",
            "13/13 [==============================] - 0s 21ms/step - loss: 0.4124 - accuracy: 0.8293 - precision_3: 0.8264 - recall_3: 0.8772 - val_loss: 0.5516 - val_accuracy: 0.7568 - val_precision_3: 0.7391 - val_recall_3: 0.8500\n",
            "Epoch 36/100\n",
            "13/13 [==============================] - 0s 5ms/step - loss: 0.3645 - accuracy: 0.8829 - precision_3: 0.8814 - recall_3: 0.9123 - val_loss: 0.5496 - val_accuracy: 0.7568 - val_precision_3: 0.7391 - val_recall_3: 0.8500\n",
            "Epoch 37/100\n",
            "13/13 [==============================] - 0s 5ms/step - loss: 0.3965 - accuracy: 0.8439 - precision_3: 0.8417 - recall_3: 0.8860 - val_loss: 0.5489 - val_accuracy: 0.7568 - val_precision_3: 0.7391 - val_recall_3: 0.8500\n",
            "Epoch 38/100\n",
            "13/13 [==============================] - 0s 4ms/step - loss: 0.3813 - accuracy: 0.8488 - precision_3: 0.8320 - recall_3: 0.9123 - val_loss: 0.5481 - val_accuracy: 0.7568 - val_precision_3: 0.7391 - val_recall_3: 0.8500\n",
            "Epoch 39/100\n",
            "13/13 [==============================] - 0s 4ms/step - loss: 0.3481 - accuracy: 0.8683 - precision_3: 0.8595 - recall_3: 0.9123 - val_loss: 0.5481 - val_accuracy: 0.7568 - val_precision_3: 0.7391 - val_recall_3: 0.8500\n",
            "Epoch 40/100\n",
            "13/13 [==============================] - 0s 4ms/step - loss: 0.3998 - accuracy: 0.8585 - precision_3: 0.8455 - recall_3: 0.9123 - val_loss: 0.5440 - val_accuracy: 0.7568 - val_precision_3: 0.7391 - val_recall_3: 0.8500\n",
            "Epoch 41/100\n",
            "13/13 [==============================] - 0s 4ms/step - loss: 0.3479 - accuracy: 0.8537 - precision_3: 0.8443 - recall_3: 0.9035 - val_loss: 0.5439 - val_accuracy: 0.7568 - val_precision_3: 0.7391 - val_recall_3: 0.8500\n",
            "Epoch 42/100\n",
            "13/13 [==============================] - 0s 4ms/step - loss: 0.4030 - accuracy: 0.8293 - precision_3: 0.8319 - recall_3: 0.8684 - val_loss: 0.5451 - val_accuracy: 0.7568 - val_precision_3: 0.7391 - val_recall_3: 0.8500\n",
            "Epoch 43/100\n",
            "13/13 [==============================] - 0s 4ms/step - loss: 0.3492 - accuracy: 0.8488 - precision_3: 0.8430 - recall_3: 0.8947 - val_loss: 0.5464 - val_accuracy: 0.7568 - val_precision_3: 0.7391 - val_recall_3: 0.8500\n",
            "Epoch 44/100\n",
            "13/13 [==============================] - 0s 5ms/step - loss: 0.3877 - accuracy: 0.8341 - precision_3: 0.8279 - recall_3: 0.8860 - val_loss: 0.5470 - val_accuracy: 0.7568 - val_precision_3: 0.7391 - val_recall_3: 0.8500\n",
            "Epoch 45/100\n",
            "13/13 [==============================] - 0s 4ms/step - loss: 0.3787 - accuracy: 0.8488 - precision_3: 0.8430 - recall_3: 0.8947 - val_loss: 0.5463 - val_accuracy: 0.7568 - val_precision_3: 0.7391 - val_recall_3: 0.8500\n",
            "Epoch 46/100\n",
            "13/13 [==============================] - 0s 5ms/step - loss: 0.3632 - accuracy: 0.8683 - precision_3: 0.8655 - recall_3: 0.9035 - val_loss: 0.5475 - val_accuracy: 0.7568 - val_precision_3: 0.7391 - val_recall_3: 0.8500\n",
            "Epoch 47/100\n",
            "13/13 [==============================] - 0s 4ms/step - loss: 0.3675 - accuracy: 0.8585 - precision_3: 0.8295 - recall_3: 0.9386 - val_loss: 0.5464 - val_accuracy: 0.7568 - val_precision_3: 0.7391 - val_recall_3: 0.8500\n",
            "Epoch 48/100\n",
            "13/13 [==============================] - 0s 5ms/step - loss: 0.3398 - accuracy: 0.8634 - precision_3: 0.8468 - recall_3: 0.9211 - val_loss: 0.5441 - val_accuracy: 0.7568 - val_precision_3: 0.7391 - val_recall_3: 0.8500\n",
            "Epoch 49/100\n",
            "13/13 [==============================] - 0s 4ms/step - loss: 0.3800 - accuracy: 0.8293 - precision_3: 0.8319 - recall_3: 0.8684 - val_loss: 0.5427 - val_accuracy: 0.7568 - val_precision_3: 0.7391 - val_recall_3: 0.8500\n",
            "Epoch 50/100\n",
            "13/13 [==============================] - 0s 4ms/step - loss: 0.3675 - accuracy: 0.8585 - precision_3: 0.8512 - recall_3: 0.9035 - val_loss: 0.5419 - val_accuracy: 0.7568 - val_precision_3: 0.7391 - val_recall_3: 0.8500\n",
            "Epoch 51/100\n",
            "13/13 [==============================] - 0s 5ms/step - loss: 0.3481 - accuracy: 0.8634 - precision_3: 0.8644 - recall_3: 0.8947 - val_loss: 0.5411 - val_accuracy: 0.7568 - val_precision_3: 0.7391 - val_recall_3: 0.8500\n",
            "Epoch 52/100\n",
            "13/13 [==============================] - 0s 4ms/step - loss: 0.3472 - accuracy: 0.8439 - precision_3: 0.8417 - recall_3: 0.8860 - val_loss: 0.5405 - val_accuracy: 0.7568 - val_precision_3: 0.7391 - val_recall_3: 0.8500\n",
            "Epoch 53/100\n",
            "13/13 [==============================] - 0s 4ms/step - loss: 0.3131 - accuracy: 0.8780 - precision_3: 0.8678 - recall_3: 0.9211 - val_loss: 0.5407 - val_accuracy: 0.7568 - val_precision_3: 0.7391 - val_recall_3: 0.8500\n",
            "Epoch 54/100\n",
            "13/13 [==============================] - 0s 4ms/step - loss: 0.3370 - accuracy: 0.8634 - precision_3: 0.8468 - recall_3: 0.9211 - val_loss: 0.5438 - val_accuracy: 0.7568 - val_precision_3: 0.7391 - val_recall_3: 0.8500\n",
            "Epoch 55/100\n",
            "13/13 [==============================] - 0s 5ms/step - loss: 0.3474 - accuracy: 0.8683 - precision_3: 0.8595 - recall_3: 0.9123 - val_loss: 0.5439 - val_accuracy: 0.7568 - val_precision_3: 0.7391 - val_recall_3: 0.8500\n",
            "Epoch 56/100\n",
            "13/13 [==============================] - 0s 4ms/step - loss: 0.3354 - accuracy: 0.8439 - precision_3: 0.8417 - recall_3: 0.8860 - val_loss: 0.5447 - val_accuracy: 0.7568 - val_precision_3: 0.7391 - val_recall_3: 0.8500\n",
            "Epoch 57/100\n",
            "13/13 [==============================] - 0s 4ms/step - loss: 0.3300 - accuracy: 0.8732 - precision_3: 0.8729 - recall_3: 0.9035 - val_loss: 0.5463 - val_accuracy: 0.7568 - val_precision_3: 0.7391 - val_recall_3: 0.8500\n",
            "Epoch 58/100\n",
            "13/13 [==============================] - 0s 4ms/step - loss: 0.3589 - accuracy: 0.8537 - precision_3: 0.8443 - recall_3: 0.9035 - val_loss: 0.5456 - val_accuracy: 0.7568 - val_precision_3: 0.7391 - val_recall_3: 0.8500\n",
            "Epoch 59/100\n",
            "13/13 [==============================] - 0s 4ms/step - loss: 0.3347 - accuracy: 0.8780 - precision_3: 0.8678 - recall_3: 0.9211 - val_loss: 0.5439 - val_accuracy: 0.7568 - val_precision_3: 0.7391 - val_recall_3: 0.8500\n",
            "Epoch 60/100\n",
            "13/13 [==============================] - 0s 4ms/step - loss: 0.3383 - accuracy: 0.8732 - precision_3: 0.8667 - recall_3: 0.9123 - val_loss: 0.5406 - val_accuracy: 0.7568 - val_precision_3: 0.7391 - val_recall_3: 0.8500\n",
            "Epoch 61/100\n",
            "13/13 [==============================] - 0s 5ms/step - loss: 0.3256 - accuracy: 0.8780 - precision_3: 0.8739 - recall_3: 0.9123 - val_loss: 0.5352 - val_accuracy: 0.7568 - val_precision_3: 0.7391 - val_recall_3: 0.8500\n",
            "Epoch 62/100\n",
            "13/13 [==============================] - 0s 5ms/step - loss: 0.3747 - accuracy: 0.8634 - precision_3: 0.8644 - recall_3: 0.8947 - val_loss: 0.5327 - val_accuracy: 0.7568 - val_precision_3: 0.7391 - val_recall_3: 0.8500\n",
            "Epoch 63/100\n",
            "13/13 [==============================] - 0s 5ms/step - loss: 0.3540 - accuracy: 0.8634 - precision_3: 0.8644 - recall_3: 0.8947 - val_loss: 0.5312 - val_accuracy: 0.7568 - val_precision_3: 0.7391 - val_recall_3: 0.8500\n",
            "Epoch 64/100\n",
            "13/13 [==============================] - 0s 5ms/step - loss: 0.3672 - accuracy: 0.8683 - precision_3: 0.8655 - recall_3: 0.9035 - val_loss: 0.5298 - val_accuracy: 0.7568 - val_precision_3: 0.7391 - val_recall_3: 0.8500\n",
            "Epoch 65/100\n",
            "13/13 [==============================] - 0s 5ms/step - loss: 0.3499 - accuracy: 0.8634 - precision_3: 0.8583 - recall_3: 0.9035 - val_loss: 0.5281 - val_accuracy: 0.7568 - val_precision_3: 0.7391 - val_recall_3: 0.8500\n",
            "Epoch 66/100\n",
            "13/13 [==============================] - 0s 5ms/step - loss: 0.3371 - accuracy: 0.8537 - precision_3: 0.8387 - recall_3: 0.9123 - val_loss: 0.5248 - val_accuracy: 0.7568 - val_precision_3: 0.7391 - val_recall_3: 0.8500\n",
            "Epoch 67/100\n"
          ]
        },
        {
          "name": "stdout",
          "output_type": "stream",
          "text": [
            "13/13 [==============================] - 0s 5ms/step - loss: 0.3331 - accuracy: 0.8732 - precision_3: 0.8607 - recall_3: 0.9211 - val_loss: 0.5229 - val_accuracy: 0.7568 - val_precision_3: 0.7391 - val_recall_3: 0.8500\n",
            "Epoch 68/100\n",
            "13/13 [==============================] - 0s 7ms/step - loss: 0.3471 - accuracy: 0.8537 - precision_3: 0.8281 - recall_3: 0.9298 - val_loss: 0.5227 - val_accuracy: 0.7568 - val_precision_3: 0.7391 - val_recall_3: 0.8500\n",
            "Epoch 69/100\n",
            "13/13 [==============================] - 0s 5ms/step - loss: 0.2875 - accuracy: 0.8976 - precision_3: 0.8780 - recall_3: 0.9474 - val_loss: 0.5256 - val_accuracy: 0.7568 - val_precision_3: 0.7391 - val_recall_3: 0.8500\n",
            "Epoch 70/100\n",
            "13/13 [==============================] - 0s 4ms/step - loss: 0.3239 - accuracy: 0.8537 - precision_3: 0.8387 - recall_3: 0.9123 - val_loss: 0.5291 - val_accuracy: 0.7568 - val_precision_3: 0.7391 - val_recall_3: 0.8500\n",
            "Epoch 71/100\n",
            "13/13 [==============================] - 0s 5ms/step - loss: 0.3301 - accuracy: 0.8780 - precision_3: 0.8618 - recall_3: 0.9298 - val_loss: 0.5331 - val_accuracy: 0.7568 - val_precision_3: 0.7391 - val_recall_3: 0.8500\n",
            "Epoch 72/100\n",
            "13/13 [==============================] - 0s 4ms/step - loss: 0.3356 - accuracy: 0.8634 - precision_3: 0.8413 - recall_3: 0.9298 - val_loss: 0.5327 - val_accuracy: 0.7568 - val_precision_3: 0.7391 - val_recall_3: 0.8500\n",
            "Epoch 73/100\n",
            "13/13 [==============================] - 0s 5ms/step - loss: 0.3280 - accuracy: 0.8732 - precision_3: 0.8607 - recall_3: 0.9211 - val_loss: 0.5339 - val_accuracy: 0.7568 - val_precision_3: 0.7391 - val_recall_3: 0.8500\n",
            "Epoch 74/100\n",
            "13/13 [==============================] - 0s 5ms/step - loss: 0.3084 - accuracy: 0.8780 - precision_3: 0.8618 - recall_3: 0.9298 - val_loss: 0.5362 - val_accuracy: 0.7568 - val_precision_3: 0.7391 - val_recall_3: 0.8500\n",
            "Epoch 75/100\n",
            "13/13 [==============================] - 0s 5ms/step - loss: 0.3313 - accuracy: 0.8537 - precision_3: 0.8387 - recall_3: 0.9123 - val_loss: 0.5385 - val_accuracy: 0.7568 - val_precision_3: 0.7391 - val_recall_3: 0.8500\n",
            "Epoch 76/100\n",
            "13/13 [==============================] - 0s 8ms/step - loss: 0.3063 - accuracy: 0.8829 - precision_3: 0.8629 - recall_3: 0.9386 - val_loss: 0.5378 - val_accuracy: 0.7568 - val_precision_3: 0.7391 - val_recall_3: 0.8500\n",
            "Epoch 77/100\n",
            "13/13 [==============================] - 0s 5ms/step - loss: 0.3156 - accuracy: 0.8732 - precision_3: 0.8729 - recall_3: 0.9035 - val_loss: 0.5356 - val_accuracy: 0.7568 - val_precision_3: 0.7391 - val_recall_3: 0.8500\n",
            "Epoch 78/100\n",
            "13/13 [==============================] - 0s 5ms/step - loss: 0.3286 - accuracy: 0.8683 - precision_3: 0.8537 - recall_3: 0.9211 - val_loss: 0.5356 - val_accuracy: 0.7568 - val_precision_3: 0.7391 - val_recall_3: 0.8500\n",
            "Epoch 79/100\n",
            "13/13 [==============================] - 0s 6ms/step - loss: 0.3274 - accuracy: 0.8634 - precision_3: 0.8525 - recall_3: 0.9123 - val_loss: 0.5361 - val_accuracy: 0.7568 - val_precision_3: 0.7391 - val_recall_3: 0.8500\n",
            "Epoch 80/100\n",
            "13/13 [==============================] - 0s 4ms/step - loss: 0.2968 - accuracy: 0.8732 - precision_3: 0.8548 - recall_3: 0.9298 - val_loss: 0.5393 - val_accuracy: 0.7568 - val_precision_3: 0.7391 - val_recall_3: 0.8500\n",
            "Epoch 81/100\n",
            "13/13 [==============================] - 0s 12ms/step - loss: 0.3159 - accuracy: 0.8829 - precision_3: 0.8629 - recall_3: 0.9386 - val_loss: 0.5393 - val_accuracy: 0.7568 - val_precision_3: 0.7391 - val_recall_3: 0.8500\n",
            "Epoch 82/100\n",
            "13/13 [==============================] - 0s 6ms/step - loss: 0.3149 - accuracy: 0.8683 - precision_3: 0.8537 - recall_3: 0.9211 - val_loss: 0.5362 - val_accuracy: 0.7568 - val_precision_3: 0.7391 - val_recall_3: 0.8500\n",
            "Epoch 83/100\n",
            "13/13 [==============================] - 0s 6ms/step - loss: 0.3094 - accuracy: 0.8780 - precision_3: 0.8560 - recall_3: 0.9386 - val_loss: 0.5362 - val_accuracy: 0.7568 - val_precision_3: 0.7391 - val_recall_3: 0.8500\n",
            "Epoch 84/100\n",
            "13/13 [==============================] - 0s 5ms/step - loss: 0.3094 - accuracy: 0.8878 - precision_3: 0.8640 - recall_3: 0.9474 - val_loss: 0.5350 - val_accuracy: 0.7568 - val_precision_3: 0.7391 - val_recall_3: 0.8500\n",
            "Epoch 85/100\n",
            "13/13 [==============================] - 0s 5ms/step - loss: 0.2973 - accuracy: 0.8780 - precision_3: 0.8678 - recall_3: 0.9211 - val_loss: 0.5363 - val_accuracy: 0.7568 - val_precision_3: 0.7391 - val_recall_3: 0.8500\n",
            "Epoch 86/100\n",
            "13/13 [==============================] - 0s 4ms/step - loss: 0.2957 - accuracy: 0.9024 - precision_3: 0.8852 - recall_3: 0.9474 - val_loss: 0.5374 - val_accuracy: 0.7568 - val_precision_3: 0.7391 - val_recall_3: 0.8500\n",
            "Epoch 87/100\n",
            "13/13 [==============================] - 0s 6ms/step - loss: 0.2890 - accuracy: 0.8927 - precision_3: 0.8710 - recall_3: 0.9474 - val_loss: 0.5411 - val_accuracy: 0.7568 - val_precision_3: 0.7391 - val_recall_3: 0.8500\n",
            "Epoch 88/100\n",
            "13/13 [==============================] - 0s 4ms/step - loss: 0.2898 - accuracy: 0.8878 - precision_3: 0.8824 - recall_3: 0.9211 - val_loss: 0.5389 - val_accuracy: 0.7297 - val_precision_3: 0.7083 - val_recall_3: 0.8500\n",
            "Epoch 89/100\n",
            "13/13 [==============================] - 0s 5ms/step - loss: 0.2950 - accuracy: 0.8878 - precision_3: 0.8640 - recall_3: 0.9474 - val_loss: 0.5383 - val_accuracy: 0.7297 - val_precision_3: 0.7083 - val_recall_3: 0.8500\n",
            "Epoch 90/100\n",
            "13/13 [==============================] - 0s 4ms/step - loss: 0.2953 - accuracy: 0.8976 - precision_3: 0.8780 - recall_3: 0.9474 - val_loss: 0.5367 - val_accuracy: 0.7297 - val_precision_3: 0.7083 - val_recall_3: 0.8500\n",
            "Epoch 91/100\n",
            "13/13 [==============================] - 0s 5ms/step - loss: 0.3275 - accuracy: 0.8683 - precision_3: 0.8537 - recall_3: 0.9211 - val_loss: 0.5321 - val_accuracy: 0.7297 - val_precision_3: 0.7083 - val_recall_3: 0.8500\n",
            "Epoch 92/100\n",
            "13/13 [==============================] - 0s 5ms/step - loss: 0.3184 - accuracy: 0.8585 - precision_3: 0.8571 - recall_3: 0.8947 - val_loss: 0.5312 - val_accuracy: 0.7297 - val_precision_3: 0.7083 - val_recall_3: 0.8500\n",
            "Epoch 93/100\n",
            "13/13 [==============================] - 0s 5ms/step - loss: 0.2925 - accuracy: 0.8976 - precision_3: 0.8780 - recall_3: 0.9474 - val_loss: 0.5343 - val_accuracy: 0.7297 - val_precision_3: 0.7083 - val_recall_3: 0.8500\n",
            "Epoch 94/100\n",
            "13/13 [==============================] - 0s 6ms/step - loss: 0.3274 - accuracy: 0.8537 - precision_3: 0.8281 - recall_3: 0.9298 - val_loss: 0.5345 - val_accuracy: 0.7297 - val_precision_3: 0.7083 - val_recall_3: 0.8500\n",
            "Epoch 95/100\n",
            "13/13 [==============================] - 0s 6ms/step - loss: 0.3172 - accuracy: 0.8732 - precision_3: 0.8667 - recall_3: 0.9123 - val_loss: 0.5332 - val_accuracy: 0.7297 - val_precision_3: 0.7083 - val_recall_3: 0.8500\n",
            "Epoch 96/100\n",
            "13/13 [==============================] - 0s 7ms/step - loss: 0.2839 - accuracy: 0.8780 - precision_3: 0.8618 - recall_3: 0.9298 - val_loss: 0.5335 - val_accuracy: 0.7297 - val_precision_3: 0.7083 - val_recall_3: 0.8500\n",
            "Epoch 97/100\n",
            "13/13 [==============================] - 0s 11ms/step - loss: 0.2827 - accuracy: 0.9024 - precision_3: 0.8852 - recall_3: 0.9474 - val_loss: 0.5331 - val_accuracy: 0.7297 - val_precision_3: 0.7083 - val_recall_3: 0.8500\n",
            "Epoch 98/100\n",
            "13/13 [==============================] - 0s 13ms/step - loss: 0.2950 - accuracy: 0.8829 - precision_3: 0.8689 - recall_3: 0.9298 - val_loss: 0.5329 - val_accuracy: 0.7297 - val_precision_3: 0.7083 - val_recall_3: 0.8500\n",
            "Epoch 99/100\n",
            "13/13 [==============================] - 0s 11ms/step - loss: 0.3217 - accuracy: 0.8488 - precision_3: 0.8268 - recall_3: 0.9211 - val_loss: 0.5324 - val_accuracy: 0.7297 - val_precision_3: 0.7083 - val_recall_3: 0.8500\n",
            "Epoch 100/100\n",
            "13/13 [==============================] - 0s 13ms/step - loss: 0.2972 - accuracy: 0.8878 - precision_3: 0.8824 - recall_3: 0.9211 - val_loss: 0.5319 - val_accuracy: 0.7297 - val_precision_3: 0.7083 - val_recall_3: 0.8500\n"
          ]
        }
      ],
      "source": [
        "model = build_model()\n",
        "\n",
        "training_history = model.fit(dataset_train, epochs=num_epochs, validation_data=dataset_val)"
      ]
    },
    {
      "cell_type": "markdown",
      "metadata": {
        "id": "YVYzuwQQuLL7"
      },
      "source": [
        "### Plotting accuracy"
      ]
    },
    {
      "cell_type": "code",
      "execution_count": null,
      "metadata": {
        "id": "en54bh59uLL8",
        "outputId": "13e2f79b-7f51-4eac-d01a-2a899e49c422"
      },
      "outputs": [
        {
          "data": {
            "text/plain": [
              "dict_keys(['loss', 'accuracy', 'precision_3', 'recall_3', 'val_loss', 'val_accuracy', 'val_precision_3', 'val_recall_3'])"
            ]
          },
          "execution_count": 43,
          "metadata": {},
          "output_type": "execute_result"
        }
      ],
      "source": [
        "training_history.history.keys()"
      ]
    },
    {
      "cell_type": "code",
      "execution_count": null,
      "metadata": {
        "scrolled": false,
        "id": "b2nzq4RhuLL8",
        "outputId": "81b892cb-f5a1-4177-a3be-0a8756cf904c"
      },
      "outputs": [
        {
          "data": {
            "text/plain": [
              "<matplotlib.legend.Legend at 0x13dedfa90>"
            ]
          },
          "execution_count": 44,
          "metadata": {},
          "output_type": "execute_result"
        },
        {
          "data": {
            "image/png": "[encoded data removed]",
            "text/plain": [
              "<Figure size 1008x576 with 2 Axes>"
            ]
          },
          "metadata": {
            "needs_background": "light"
          },
          "output_type": "display_data"
        }
      ],
      "source": [
        "train_acc = training_history.history['accuracy']\n",
        "train_loss = training_history.history['loss']\n",
        "\n",
        "precision = training_history.history['precision_3']\n",
        "recall = training_history.history['recall_3']\n",
        "\n",
        "epochs_range = range(num_epochs)\n",
        "\n",
        "plt.figure(figsize=(14, 8))\n",
        "\n",
        "plt.subplot(1, 2, 1)\n",
        "\n",
        "plt.plot(epochs_range, train_acc, label='Training Accuracy')\n",
        "plt.plot(epochs_range, train_loss, label='Training Loss')\n",
        "\n",
        "plt.title('Accuracy and Loss')\n",
        "plt.legend()\n",
        "\n",
        "plt.subplot(1, 2, 2)\n",
        "\n",
        "plt.plot(epochs_range, precision, label='Precision')\n",
        "plt.plot(epochs_range, recall, label='Recall')\n",
        "\n",
        "plt.title('Precision and Recall')\n",
        "plt.legend()"
      ]
    },
    {
      "cell_type": "markdown",
      "metadata": {
        "id": "JhyqQJnluLL8"
      },
      "source": [
        "### Model evaluation"
      ]
    },
    {
      "cell_type": "code",
      "execution_count": null,
      "metadata": {
        "id": "Y4atn20QuLL8",
        "outputId": "73ba7e70-4457-4a80-e55a-15f1cedbf874"
      },
      "outputs": [
        {
          "name": "stdout",
          "output_type": "stream",
          "text": [
            "61/61 [==============================] - 0s 124us/sample - loss: 0.6122 - accuracy: 0.7213 - precision_3: 0.6944 - recall_3: 0.8065\n"
          ]
        },
        {
          "data": {
            "text/plain": [
              "loss           0.612176\n",
              "accuracy       0.721311\n",
              "precision_3    0.694444\n",
              "recall_3       0.806452\n",
              "dtype: float64"
            ]
          },
          "execution_count": 47,
          "metadata": {},
          "output_type": "execute_result"
        }
      ],
      "source": [
        "score = model.evaluate(x_test, y_test)\n",
        "\n",
        "score_df = pd.Series(score, index = model.metrics_names)\n",
        "\n",
        "score_df"
      ]
    },
    {
      "cell_type": "markdown",
      "metadata": {
        "id": "igjyMOVxuLL9"
      },
      "source": [
        "### Prediction"
      ]
    },
    {
      "cell_type": "code",
      "execution_count": null,
      "metadata": {
        "id": "NdOigSMwuLL9",
        "outputId": "a15055a2-425a-48c3-850d-3360c1fa20d5"
      },
      "outputs": [
        {
          "data": {
            "text/plain": [
              "array([[0.00197199],\n",
              "       [0.81554806],\n",
              "       [0.01283713],\n",
              "       [0.01124453],\n",
              "       [0.01313632],\n",
              "       [0.00781236],\n",
              "       [0.00609795],\n",
              "       [0.2748118 ],\n",
              "       [0.00384647],\n",
              "       [0.9806064 ]], dtype=float32)"
            ]
          },
          "execution_count": 48,
          "metadata": {},
          "output_type": "execute_result"
        }
      ],
      "source": [
        "y_pred = model.predict(x_test)\n",
        "\n",
        "y_pred[:10]"
      ]
    },
    {
      "cell_type": "code",
      "execution_count": null,
      "metadata": {
        "id": "GhwpnvEwuLL9"
      },
      "outputs": [],
      "source": [
        "y_pred = np.where(y_pred>=0.5, 1, y_pred)\n",
        "\n",
        "y_pred = np.where(y_pred<0.5, 0, y_pred)"
      ]
    },
    {
      "cell_type": "code",
      "execution_count": null,
      "metadata": {
        "id": "c4xRfkd4uLL-",
        "outputId": "96576dec-06e9-46e4-b670-896f43a3c794"
      },
      "outputs": [
        {
          "data": {
            "text/plain": [
              "array([[0.],\n",
              "       [1.],\n",
              "       [0.],\n",
              "       [0.],\n",
              "       [0.],\n",
              "       [0.],\n",
              "       [0.],\n",
              "       [0.],\n",
              "       [0.],\n",
              "       [1.]], dtype=float32)"
            ]
          },
          "execution_count": 50,
          "metadata": {},
          "output_type": "execute_result"
        }
      ],
      "source": [
        "y_pred[:10]"
      ]
    },
    {
      "cell_type": "code",
      "execution_count": null,
      "metadata": {
        "id": "jq72BMTuuLL-"
      },
      "outputs": [],
      "source": [
        "pred_results = pd.DataFrame({'y_test': y_test.values.flatten(),\n",
        "                             'y_pred': y_pred.flatten().astype('int32') }, index = range(len(y_pred)))"
      ]
    },
    {
      "cell_type": "code",
      "execution_count": null,
      "metadata": {
        "id": "sBG0FxJquLL-",
        "outputId": "2f2dd8c4-40e2-40bd-a7d1-52f26836e27e"
      },
      "outputs": [
        {
          "data": {
            "text/html": [
              "<div>\n",
              "<style scoped>\n",
              "    .dataframe tbody tr th:only-of-type {\n",
              "        vertical-align: middle;\n",
              "    }\n",
              "\n",
              "    .dataframe tbody tr th {\n",
              "        vertical-align: top;\n",
              "    }\n",
              "\n",
              "    .dataframe thead th {\n",
              "        text-align: right;\n",
              "    }\n",
              "</style>\n",
              "<table border=\"1\" class=\"dataframe\">\n",
              "  <thead>\n",
              "    <tr style=\"text-align: right;\">\n",
              "      <th></th>\n",
              "      <th>y_test</th>\n",
              "      <th>y_pred</th>\n",
              "    </tr>\n",
              "  </thead>\n",
              "  <tbody>\n",
              "    <tr>\n",
              "      <td>13</td>\n",
              "      <td>0</td>\n",
              "      <td>1</td>\n",
              "    </tr>\n",
              "    <tr>\n",
              "      <td>12</td>\n",
              "      <td>0</td>\n",
              "      <td>1</td>\n",
              "    </tr>\n",
              "    <tr>\n",
              "      <td>49</td>\n",
              "      <td>1</td>\n",
              "      <td>1</td>\n",
              "    </tr>\n",
              "    <tr>\n",
              "      <td>53</td>\n",
              "      <td>1</td>\n",
              "      <td>1</td>\n",
              "    </tr>\n",
              "    <tr>\n",
              "      <td>42</td>\n",
              "      <td>1</td>\n",
              "      <td>0</td>\n",
              "    </tr>\n",
              "    <tr>\n",
              "      <td>2</td>\n",
              "      <td>0</td>\n",
              "      <td>0</td>\n",
              "    </tr>\n",
              "    <tr>\n",
              "      <td>30</td>\n",
              "      <td>1</td>\n",
              "      <td>1</td>\n",
              "    </tr>\n",
              "    <tr>\n",
              "      <td>48</td>\n",
              "      <td>0</td>\n",
              "      <td>1</td>\n",
              "    </tr>\n",
              "    <tr>\n",
              "      <td>5</td>\n",
              "      <td>0</td>\n",
              "      <td>0</td>\n",
              "    </tr>\n",
              "    <tr>\n",
              "      <td>40</td>\n",
              "      <td>1</td>\n",
              "      <td>1</td>\n",
              "    </tr>\n",
              "  </tbody>\n",
              "</table>\n",
              "</div>"
            ],
            "text/plain": [
              "    y_test  y_pred\n",
              "13       0       1\n",
              "12       0       1\n",
              "49       1       1\n",
              "53       1       1\n",
              "42       1       0\n",
              "2        0       0\n",
              "30       1       1\n",
              "48       0       1\n",
              "5        0       0\n",
              "40       1       1"
            ]
          },
          "execution_count": 52,
          "metadata": {},
          "output_type": "execute_result"
        }
      ],
      "source": [
        "pred_results.sample(10)"
      ]
    },
    {
      "cell_type": "code",
      "execution_count": null,
      "metadata": {
        "id": "yCCyc8EhuLL-",
        "outputId": "c260d9cc-0462-4cea-d671-33fbc5c1048b"
      },
      "outputs": [
        {
          "data": {
            "text/html": [
              "<div>\n",
              "<style scoped>\n",
              "    .dataframe tbody tr th:only-of-type {\n",
              "        vertical-align: middle;\n",
              "    }\n",
              "\n",
              "    .dataframe tbody tr th {\n",
              "        vertical-align: top;\n",
              "    }\n",
              "\n",
              "    .dataframe thead th {\n",
              "        text-align: right;\n",
              "    }\n",
              "</style>\n",
              "<table border=\"1\" class=\"dataframe\">\n",
              "  <thead>\n",
              "    <tr style=\"text-align: right;\">\n",
              "      <th>y_test</th>\n",
              "      <th>0</th>\n",
              "      <th>1</th>\n",
              "    </tr>\n",
              "    <tr>\n",
              "      <th>y_pred</th>\n",
              "      <th></th>\n",
              "      <th></th>\n",
              "    </tr>\n",
              "  </thead>\n",
              "  <tbody>\n",
              "    <tr>\n",
              "      <td>0</td>\n",
              "      <td>19</td>\n",
              "      <td>6</td>\n",
              "    </tr>\n",
              "    <tr>\n",
              "      <td>1</td>\n",
              "      <td>11</td>\n",
              "      <td>25</td>\n",
              "    </tr>\n",
              "  </tbody>\n",
              "</table>\n",
              "</div>"
            ],
            "text/plain": [
              "y_test   0   1\n",
              "y_pred        \n",
              "0       19   6\n",
              "1       11  25"
            ]
          },
          "execution_count": 53,
          "metadata": {},
          "output_type": "execute_result"
        }
      ],
      "source": [
        "pd.crosstab(pred_results.y_pred, pred_results.y_test)"
      ]
    },
    {
      "cell_type": "code",
      "execution_count": null,
      "metadata": {
        "id": "zSd14Hc1uLL_",
        "outputId": "74e121e3-a096-4a5a-fb48-47f4be0136a8"
      },
      "outputs": [
        {
          "data": {
            "text/plain": [
              "0.7213114754098361"
            ]
          },
          "execution_count": 54,
          "metadata": {},
          "output_type": "execute_result"
        }
      ],
      "source": [
        "accuracy_score(y_test, y_pred)"
      ]
    },
    {
      "cell_type": "code",
      "execution_count": null,
      "metadata": {
        "id": "hu8m7H3XuLL_",
        "outputId": "12b10735-a198-4f3f-ae57-f4a559dea357"
      },
      "outputs": [
        {
          "data": {
            "text/plain": [
              "0.6944444444444444"
            ]
          },
          "execution_count": 55,
          "metadata": {},
          "output_type": "execute_result"
        }
      ],
      "source": [
        "precision_score(y_test, y_pred)"
      ]
    },
    {
      "cell_type": "code",
      "execution_count": null,
      "metadata": {
        "id": "ZdJyCC7huLL_",
        "outputId": "818a7192-38c3-4029-8348-5c1f79c7bb64"
      },
      "outputs": [
        {
          "data": {
            "text/plain": [
              "0.8064516129032258"
            ]
          },
          "execution_count": 56,
          "metadata": {},
          "output_type": "execute_result"
        }
      ],
      "source": [
        "recall_score(y_test, y_pred)"
      ]
    },
    {
      "cell_type": "code",
      "execution_count": null,
      "metadata": {
        "id": "sOAPWcTjuLL_"
      },
      "outputs": [],
      "source": []
    }
  ],
  "metadata": {
    "kernelspec": {
      "display_name": "Python 3",
      "language": "python",
      "name": "python3"
    },
    "language_info": {
      "codemirror_mode": {
        "name": "ipython",
        "version": 3
      },
      "file_extension": ".py",
      "mimetype": "text/x-python",
      "name": "python",
      "nbconvert_exporter": "python",
      "pygments_lexer": "ipython3",
      "version": "3.7.4"
    },
    "colab": {
      "provenance": [],
      "include_colab_link": true
    }
  },
  "nbformat": 4,
  "nbformat_minor": 0
}