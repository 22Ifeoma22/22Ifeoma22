{
  "cells": [
    {
      "cell_type": "markdown",
      "metadata": {
        "id": "view-in-github",
        "colab_type": "text"
      },
      "source": [
        "<a href=\"https://colab.research.google.com/github/22Ifeoma22/22Ifeoma22/blob/main/CNNFromScratch.ipynb\" target=\"_parent\"><img src=\"https://colab.research.google.com/assets/colab-badge.svg\" alt=\"Open In Colab\"/></a>"
      ]
    },
    {
      "cell_type": "markdown",
      "metadata": {
        "id": "-BJ8PckjMVTh"
      },
      "source": [
        "<b>Summary:</b> Using cifar dataset from torchvission of pytorch to create CNN classifier from scratch"
      ]
    },
    {
      "cell_type": "code",
      "execution_count": 2,
      "metadata": {
        "collapsed": true,
        "id": "W3ILOuJyMVTi"
      },
      "outputs": [],
      "source": [
        "import torch\n",
        "import torchvision\n",
        "import torchvision.transforms as transforms"
      ]
    },
    {
      "cell_type": "markdown",
      "metadata": {
        "id": "KKJWlPHcMVTi"
      },
      "source": [
        "#### Download the CIFAR dataset from the Pytorch library\n",
        "The torchvision module contains a number of datasets which are meant to help Pytorch users practice building models with them. We use one of these datasets here. The datasets are available in torchvision.datasets.\n",
        "\n",
        "By specifying <b>train = True</b> we will load the training data from the dataset"
      ]
    },
    {
      "cell_type": "code",
      "execution_count": 3,
      "metadata": {
        "id": "CBNER_xUMVTi",
        "outputId": "a37f5260-e545-4aa1-d3e9-340dffad77e8",
        "colab": {
          "base_uri": "https://localhost:8080/"
        }
      },
      "outputs": [
        {
          "output_type": "stream",
          "name": "stdout",
          "text": [
            "Downloading https://www.cs.toronto.edu/~kriz/cifar-10-python.tar.gz to ./datasets/cifar-10-python.tar.gz\n"
          ]
        },
        {
          "output_type": "stream",
          "name": "stderr",
          "text": [
            "100%|██████████| 170498071/170498071 [00:02<00:00, 75570536.90it/s]\n"
          ]
        },
        {
          "output_type": "stream",
          "name": "stdout",
          "text": [
            "Extracting ./datasets/cifar-10-python.tar.gz to ./datasets\n"
          ]
        }
      ],
      "source": [
        "trainset = torchvision.datasets.CIFAR10(root='./datasets',\n",
        "                                        train=True,\n",
        "                                        download=True,\n",
        "                                        transform=transforms.ToTensor())"
      ]
    },
    {
      "cell_type": "code",
      "execution_count": 4,
      "metadata": {
        "scrolled": true,
        "id": "Y8mAafzsMVTj",
        "outputId": "d2d21574-bae8-4a36-bdeb-b5c847d71981",
        "colab": {
          "base_uri": "https://localhost:8080/"
        }
      },
      "outputs": [
        {
          "output_type": "execute_result",
          "data": {
            "text/plain": [
              "Dataset CIFAR10\n",
              "    Number of datapoints: 50000\n",
              "    Root location: ./datasets\n",
              "    Split: Train\n",
              "    StandardTransform\n",
              "Transform: ToTensor()"
            ]
          },
          "metadata": {},
          "execution_count": 4
        }
      ],
      "source": [
        "trainset"
      ]
    },
    {
      "cell_type": "markdown",
      "metadata": {
        "id": "KHK7AaeNMVTj"
      },
      "source": [
        "### Data Loaders\n",
        "Data loader combines a dataset and provides single or multi-process iterators over the dataset\n",
        "* <b>batch_size</b> = how many samples per batch to load (default: 1).<br>\n",
        "* <b>shuffle = True</b>, to have the data reshuffled at every epoch <br>\n",
        "* <b>num_workers= 2</b>, 2 subprocesses will be used for data loading.\n",
        "0 means that the data will be loaded in the main process. (default: 0)"
      ]
    },
    {
      "cell_type": "code",
      "execution_count": 8,
      "metadata": {
        "collapsed": true,
        "id": "28SyyXI1MVTj"
      },
      "outputs": [],
      "source": [
        "trainloader = torch.utils.data.DataLoader(trainset,\n",
        "                                          batch_size=8,\n",
        "                                          shuffle=True,\n",
        "                                          num_workers=2)"
      ]
    },
    {
      "cell_type": "markdown",
      "metadata": {
        "id": "GGfNqALeMVTj"
      },
      "source": [
        "#### Load the CIFAR test dataset\n",
        "We specify <b>train=False</b> in this case"
      ]
    },
    {
      "cell_type": "code",
      "execution_count": 9,
      "metadata": {
        "id": "FDPV37WAMVTj",
        "outputId": "33dbe72b-aa9d-4a2b-b506-da4f959da031",
        "colab": {
          "base_uri": "https://localhost:8080/"
        }
      },
      "outputs": [
        {
          "output_type": "stream",
          "name": "stdout",
          "text": [
            "Files already downloaded and verified\n"
          ]
        }
      ],
      "source": [
        "testset = torchvision.datasets.CIFAR10(root='./datasets',\n",
        "                                       train=False,\n",
        "                                       download=True,\n",
        "                                       transform=transforms.ToTensor())"
      ]
    },
    {
      "cell_type": "code",
      "execution_count": 10,
      "metadata": {
        "id": "w5UEu_naMVTj",
        "outputId": "e4ad2d9c-7293-4928-d7a7-89308297c038",
        "colab": {
          "base_uri": "https://localhost:8080/"
        }
      },
      "outputs": [
        {
          "output_type": "execute_result",
          "data": {
            "text/plain": [
              "Dataset CIFAR10\n",
              "    Number of datapoints: 10000\n",
              "    Root location: ./datasets\n",
              "    Split: Test\n",
              "    StandardTransform\n",
              "Transform: ToTensor()"
            ]
          },
          "metadata": {},
          "execution_count": 10
        }
      ],
      "source": [
        "testset"
      ]
    },
    {
      "cell_type": "markdown",
      "metadata": {
        "id": "fWNp5b6YMVTk"
      },
      "source": [
        "#### Use a DataLoader to prepare our test data"
      ]
    },
    {
      "cell_type": "code",
      "execution_count": 11,
      "metadata": {
        "collapsed": true,
        "id": "EJBn3c9yMVTk"
      },
      "outputs": [],
      "source": [
        "testloader = torch.utils.data.DataLoader(testset,\n",
        "                                         batch_size=8,\n",
        "                                         shuffle=False,\n",
        "                                         num_workers=2)"
      ]
    },
    {
      "cell_type": "markdown",
      "metadata": {
        "id": "1rQAXCcgMVTk"
      },
      "source": [
        "#### Create a tuple containing the unique labels in our dataset"
      ]
    },
    {
      "cell_type": "code",
      "execution_count": 12,
      "metadata": {
        "collapsed": true,
        "id": "tZwV6L01MVTk"
      },
      "outputs": [],
      "source": [
        "labels = ('plane', 'car', 'bird', 'cat','deer',\n",
        "          'dog', 'frog', 'horse', 'ship', 'truck')"
      ]
    },
    {
      "cell_type": "markdown",
      "metadata": {
        "id": "X82fNAwcMVTk"
      },
      "source": [
        "## Examining the datasets\n",
        "We will view some of the images in the datasets for which we first need to import Matplotlib and Numpy"
      ]
    },
    {
      "cell_type": "code",
      "execution_count": 16,
      "metadata": {
        "collapsed": true,
        "id": "wmiT-wm9MVTk"
      },
      "outputs": [],
      "source": [
        "import matplotlib.pyplot as plt\n",
        "import numpy as np"
      ]
    },
    {
      "cell_type": "markdown",
      "metadata": {
        "id": "5OgnP-JiMVTk"
      },
      "source": [
        "#### Get a batch from the training data\n",
        "The DataLoader object divides the dataset into batches. Here we examine the first batch of the training data set"
      ]
    },
    {
      "cell_type": "code",
      "source": [
        "images_batch, labels_batch = next(iter(trainloader)) # Use next() instead of .next()"
      ],
      "metadata": {
        "id": "b2eFY8fYJjKg"
      },
      "execution_count": 19,
      "outputs": []
    },
    {
      "cell_type": "markdown",
      "metadata": {
        "id": "qNQZDkQ5MVTk"
      },
      "source": [
        "#### Check out the shape of this batch of images\n",
        "The first dimension gives the number of images. The next dimension represents the number of channels. The last two give the image size"
      ]
    },
    {
      "cell_type": "code",
      "execution_count": 20,
      "metadata": {
        "id": "3sXoUeUdMVTk",
        "outputId": "fd874048-ddff-4e77-a5d4-3e28ea0ae7f1",
        "colab": {
          "base_uri": "https://localhost:8080/"
        }
      },
      "outputs": [
        {
          "output_type": "execute_result",
          "data": {
            "text/plain": [
              "torch.Size([8, 3, 32, 32])"
            ]
          },
          "metadata": {},
          "execution_count": 20
        }
      ],
      "source": [
        "images_batch.shape"
      ]
    },
    {
      "cell_type": "markdown",
      "metadata": {
        "id": "lyGaHHfuMVTk"
      },
      "source": [
        "#### Create a grid to display the batch of images\n",
        "torchvision is a module which contains datasets, model architectures and image transformation tools. Here, we use one of its utilities to create a grid of images from our batch"
      ]
    },
    {
      "cell_type": "code",
      "execution_count": 21,
      "metadata": {
        "collapsed": true,
        "id": "FE_XbBKSMVTk"
      },
      "outputs": [],
      "source": [
        "img = torchvision.utils.make_grid(images_batch)"
      ]
    },
    {
      "cell_type": "markdown",
      "metadata": {
        "id": "cjKIvzm-MVTl"
      },
      "source": [
        "#### Examine the shape\n",
        "The grid effectively contains all the 8 images placed side by side with padding of 2 pixels between the images and at the edges of the grid"
      ]
    },
    {
      "cell_type": "code",
      "execution_count": 23,
      "metadata": {
        "id": "_TlGVRIvMVTl",
        "outputId": "f3ffaa83-fb5b-4218-886b-947cd2a176e6",
        "colab": {
          "base_uri": "https://localhost:8080/"
        }
      },
      "outputs": [
        {
          "output_type": "execute_result",
          "data": {
            "text/plain": [
              "torch.Size([3, 36, 274])"
            ]
          },
          "metadata": {},
          "execution_count": 23
        }
      ],
      "source": [
        "img.shape"
      ]
    },
    {
      "cell_type": "markdown",
      "metadata": {
        "id": "H26DDF_7MVTl"
      },
      "source": [
        "#### Transposing the image\n",
        "We will use np.transpose to change the shape of image tensor<br>\n",
        "<b>.imshow()</b> needs a 2D array, or a 3D array with the third dimension being of size 3 or 4 only (For RGB or RGBA), so we will shift first axis to last<br>\n",
        "Ref - https://matplotlib.org/api/pyplot_api.html#matplotlib.pyplot.imshow"
      ]
    },
    {
      "cell_type": "code",
      "execution_count": 24,
      "metadata": {
        "id": "uI6Gu9e9MVTl",
        "outputId": "268fe36e-85fc-4919-9877-d90cd4bf0afe",
        "colab": {
          "base_uri": "https://localhost:8080/"
        }
      },
      "outputs": [
        {
          "output_type": "execute_result",
          "data": {
            "text/plain": [
              "torch.Size([36, 274, 3])"
            ]
          },
          "metadata": {},
          "execution_count": 24
        }
      ],
      "source": [
        "np.transpose(img, (1,2,0)).shape"
      ]
    },
    {
      "cell_type": "code",
      "execution_count": 25,
      "metadata": {
        "id": "xjxSCYOLMVTl",
        "outputId": "4bdb5adf-c6db-4a51-bdd8-185d24c0a7a9",
        "colab": {
          "base_uri": "https://localhost:8080/",
          "height": 102
        }
      },
      "outputs": [
        {
          "output_type": "display_data",
          "data": {
            "text/plain": [
              "<Figure size 640x480 with 1 Axes>"
            ],
            "image/png": "[encoded data removed]"
          },
          "metadata": {}
        }
      ],
      "source": [
        "plt.imshow(np.transpose(img, (1,2,0)))\n",
        "plt.axis('off')\n",
        "plt.show()"
      ]
    },
    {
      "cell_type": "code",
      "execution_count": 26,
      "metadata": {
        "collapsed": true,
        "id": "ewp7c9T4MVTl"
      },
      "outputs": [],
      "source": [
        "import torch.nn as nn"
      ]
    },
    {
      "cell_type": "markdown",
      "metadata": {
        "id": "9njwC2IbMVTl"
      },
      "source": [
        "#### Configuring the neural network\n",
        "* The input size will be the 3 channels of the images\n",
        "* The first convolution will produce 16 channels\n",
        "* The second convolution produces 32 channels\n",
        "* The final output will have a size equal to the number of classes for the prediction\n",
        "* The convolving kernel will have a size of 5"
      ]
    },
    {
      "cell_type": "code",
      "execution_count": 27,
      "metadata": {
        "collapsed": true,
        "id": "BcucrwAQMVTl"
      },
      "outputs": [],
      "source": [
        "in_size = 3\n",
        "hid1_size = 16\n",
        "hid2_size = 32\n",
        "out_size = len(labels)\n",
        "k_conv_size = 5"
      ]
    },
    {
      "cell_type": "markdown",
      "metadata": {
        "id": "lqU7z1hxMVTl"
      },
      "source": [
        "### Define the Convolutional Neural Network\n",
        "\n",
        "<b>Conv2d: </b>Applies a 2D convolution over an input signal composed of several input planes.<br>\n",
        "Parameters<br>\n",
        "in_channels (int) – Number of channels in the input image<br>\n",
        "out_channels (int) – Number of channels produced by the convolution<br>\n",
        "kernel_size (int or tuple) – Size of the convolving kernel<br>\n",
        "\n",
        "<b>BatchNorm2d: </b>Applies Batch Normalization over a 4D input (a mini-batch of 2D inputs with additional channel dimension) as described in the paper Batch Normalization: Accelerating Deep Network Training by Reducing Internal Covariate Shift .\n",
        "Parameters<br>\n",
        "num_features – C from an expected input of size (N,C,H,W)\n",
        "\n",
        "<b>ReLU: </b>Activation function\n",
        "\n",
        "<b>Maxpool2d: </b>\n",
        "Parameters:<br>\n",
        "kernel_size – the size of the window to take a max over\n",
        "\n",
        "<b>Linear: </b>\n",
        "Parameter:<br>\n",
        "\n",
        "in_features:\n",
        "All the operations above used 4D Tensors of shape => torch.Size([8, 32, 5, 5]), where 8 are number of images per batch<br>\n",
        "Now for fully connected layers(linear layers) we need to transform them in 1D Tensors<br>\n",
        "So to the in_features of fully connected layer we will give **32\\*5\\*5** (hid2_size X k_conv_size X k_conv_size)\n",
        "\n",
        "out_features:<br>\n",
        "num_classes = since we are using Cifar10 we have 10 labels  "
      ]
    },
    {
      "cell_type": "code",
      "execution_count": 28,
      "metadata": {
        "collapsed": true,
        "id": "CyzqTx3CMVTl"
      },
      "outputs": [],
      "source": [
        "class ConvNet(nn.Module):\n",
        "\n",
        "    def __init__(self):\n",
        "        super(ConvNet, self).__init__()\n",
        "\n",
        "        self.layer1 = nn.Sequential(\n",
        "            nn.Conv2d(in_size, hid1_size, k_conv_size ),\n",
        "            nn.BatchNorm2d(hid1_size),\n",
        "            nn.ReLU(),\n",
        "            nn.MaxPool2d(kernel_size=2))\n",
        "\n",
        "        self.layer2 = nn.Sequential(\n",
        "            nn.Conv2d(hid1_size, hid2_size, k_conv_size),\n",
        "            nn.BatchNorm2d(hid2_size),\n",
        "            nn.ReLU(),\n",
        "            nn.MaxPool2d(kernel_size=2))\n",
        "\n",
        "        self.fc = nn.Linear(hid2_size *  k_conv_size * k_conv_size, out_size)\n",
        "\n",
        "    def forward(self, x):\n",
        "        out = self.layer1(x)\n",
        "        out = self.layer2(out)\n",
        "        out = out.reshape(out.size(0), -1)\n",
        "        out = self.fc(out)\n",
        "\n",
        "        return out"
      ]
    },
    {
      "cell_type": "code",
      "execution_count": 29,
      "metadata": {
        "collapsed": true,
        "id": "xEbdtw0FMVTl"
      },
      "outputs": [],
      "source": [
        "model = ConvNet()"
      ]
    },
    {
      "cell_type": "markdown",
      "metadata": {
        "id": "EavfpYPVMVTl"
      },
      "source": [
        "#### Define the Learning Rate, Loss Function and Optimizer"
      ]
    },
    {
      "cell_type": "code",
      "execution_count": 30,
      "metadata": {
        "collapsed": true,
        "id": "SfbBbMsUMVTm"
      },
      "outputs": [],
      "source": [
        "learning_rate = 0.001\n",
        "\n",
        "criterion = nn.CrossEntropyLoss()\n",
        "\n",
        "optimizer = torch.optim.Adam(model.parameters(),\n",
        "                             lr=learning_rate)"
      ]
    },
    {
      "cell_type": "markdown",
      "metadata": {
        "id": "riP2KzuxMVTm"
      },
      "source": [
        "#### Training the model\n",
        "\n",
        "<b>Forward Pass: </b>\n",
        "Predict Output from train data and then compute loss using CrossEntropyLoss() defined above\n",
        "\n",
        "<b>Backward Pass: </b>\n",
        "Firstly zero all the gradient variables and then back propogate<br>\n",
        "We are using Adam optimizer to optimize our model at every step\n"
      ]
    },
    {
      "cell_type": "code",
      "execution_count": 31,
      "metadata": {
        "id": "D-z1rv3wMVTm",
        "outputId": "ff971961-6a51-43e2-c159-295f548b1137",
        "colab": {
          "base_uri": "https://localhost:8080/"
        }
      },
      "outputs": [
        {
          "output_type": "stream",
          "name": "stdout",
          "text": [
            "Epoch [1/5], Step [2000/6250], Loss: 1.5493\n",
            "Epoch [1/5], Step [4000/6250], Loss: 1.1814\n",
            "Epoch [1/5], Step [6000/6250], Loss: 1.3660\n",
            "Epoch [2/5], Step [2000/6250], Loss: 0.5744\n",
            "Epoch [2/5], Step [4000/6250], Loss: 0.6609\n",
            "Epoch [2/5], Step [6000/6250], Loss: 0.8602\n",
            "Epoch [3/5], Step [2000/6250], Loss: 0.7466\n",
            "Epoch [3/5], Step [4000/6250], Loss: 1.0629\n",
            "Epoch [3/5], Step [6000/6250], Loss: 0.8654\n",
            "Epoch [4/5], Step [2000/6250], Loss: 2.0269\n",
            "Epoch [4/5], Step [4000/6250], Loss: 0.4376\n",
            "Epoch [4/5], Step [6000/6250], Loss: 1.2226\n",
            "Epoch [5/5], Step [2000/6250], Loss: 0.6627\n",
            "Epoch [5/5], Step [4000/6250], Loss: 1.2006\n",
            "Epoch [5/5], Step [6000/6250], Loss: 0.5500\n"
          ]
        }
      ],
      "source": [
        "total_step = len(trainloader)\n",
        "num_epochs = 5\n",
        "\n",
        "\n",
        "for epoch in range(num_epochs):\n",
        "    for i, (images, labels) in enumerate(trainloader):\n",
        "\n",
        "        outputs = model(images)\n",
        "        loss = criterion(outputs, labels)\n",
        "\n",
        "        optimizer.zero_grad()\n",
        "        loss.backward()\n",
        "        optimizer.step()\n",
        "\n",
        "        if (i+1) % 2000 == 0:\n",
        "            print ('Epoch [{}/{}], Step [{}/{}], Loss: {:.4f}'\n",
        "                   .format(epoch+1, num_epochs, i+1, total_step, loss.item()))\n"
      ]
    },
    {
      "cell_type": "markdown",
      "metadata": {
        "id": "yZCGYBGTMVTm"
      },
      "source": [
        "#### Evaluate the model\n",
        "model.eval() sets our model in evaluation(test) mode <br>\n",
        "We will use test data to check accuracy of our model"
      ]
    },
    {
      "cell_type": "code",
      "execution_count": 32,
      "metadata": {
        "id": "Miu5xetxMVTm",
        "outputId": "2d875e62-8ccd-43db-f34d-f308a7497648",
        "colab": {
          "base_uri": "https://localhost:8080/"
        }
      },
      "outputs": [
        {
          "output_type": "stream",
          "name": "stdout",
          "text": [
            "Accuracy of the model on the 10000 test images: 67.45%\n"
          ]
        }
      ],
      "source": [
        "model.eval()\n",
        "with torch.no_grad():\n",
        "    correct = 0\n",
        "    total = 0\n",
        "    for images, labels in testloader:\n",
        "\n",
        "        outputs = model(images)\n",
        "        _, predicted = torch.max(outputs.data, 1)\n",
        "        total += labels.size(0)\n",
        "        correct += (predicted == labels).sum().item()\n",
        "\n",
        "    print('Accuracy of the model on the 10000 test images: {}%'\\\n",
        "          .format(100 * correct / total))\n"
      ]
    },
    {
      "cell_type": "code",
      "execution_count": null,
      "metadata": {
        "collapsed": true,
        "id": "F8tMJOSrMVTo"
      },
      "outputs": [],
      "source": []
    },
    {
      "cell_type": "code",
      "execution_count": null,
      "metadata": {
        "collapsed": true,
        "id": "MDqT5nhUMVTo"
      },
      "outputs": [],
      "source": []
    },
    {
      "cell_type": "code",
      "execution_count": null,
      "metadata": {
        "collapsed": true,
        "id": "Mu0X_67FMVTo"
      },
      "outputs": [],
      "source": []
    }
  ],
  "metadata": {
    "kernelspec": {
      "display_name": "Python 3",
      "language": "python",
      "name": "python3"
    },
    "language_info": {
      "codemirror_mode": {
        "name": "ipython",
        "version": 3
      },
      "file_extension": ".py",
      "mimetype": "text/x-python",
      "name": "python",
      "nbconvert_exporter": "python",
      "pygments_lexer": "ipython3",
      "version": "3.6.4"
    },
    "colab": {
      "provenance": [],
      "include_colab_link": true
    }
  },
  "nbformat": 4,
  "nbformat_minor": 0
}