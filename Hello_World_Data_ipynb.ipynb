{
  "nbformat": 4,
  "nbformat_minor": 0,
  "metadata": {
    "colab": {
      "provenance": [],
      "authorship_tag": "ABX9TyPMNKC1RrMKWyTUm9HwbIXA",
      "include_colab_link": true
    },
    "kernelspec": {
      "name": "python3",
      "display_name": "Python 3"
    },
    "language_info": {
      "name": "python"
    }
  },
  "cells": [
    {
      "cell_type": "markdown",
      "metadata": {
        "id": "view-in-github",
        "colab_type": "text"
      },
      "source": [
        "<a href=\"https://colab.research.google.com/github/22Ifeoma22/22Ifeoma22/blob/main/Hello_World_Data_ipynb.ipynb\" target=\"_parent\"><img src=\"https://colab.research.google.com/assets/colab-badge.svg\" alt=\"Open In Colab\"/></a>"
      ]
    },
    {
      "cell_type": "markdown",
      "source": [
        "# New section"
      ],
      "metadata": {
        "id": "DrDMgmf20A8L"
      }
    },
    {
      "cell_type": "code",
      "source": [],
      "metadata": {
        "id": "iKvc02f_1IQ-"
      },
      "execution_count": 2,
      "outputs": []
    },
    {
      "cell_type": "markdown",
      "source": [
        "Ingest Data"
      ],
      "metadata": {
        "id": "1yq_L8bt1L3s"
      }
    },
    {
      "cell_type": "code",
      "source": [
        "!wget https://raw.githubusercontent.com/22Ifeoma22/22Ifeoma22/main/Old%20ManSea%20Book"
      ],
      "metadata": {
        "colab": {
          "base_uri": "https://localhost:8080/"
        },
        "id": "Qs0SaiZf0Ydh",
        "outputId": "1643b88c-1c0f-4fb7-c800-0e1beacc88e4"
      },
      "execution_count": 9,
      "outputs": [
        {
          "output_type": "stream",
          "name": "stdout",
          "text": [
            "--2023-09-07 18:16:43--  https://raw.githubusercontent.com/22Ifeoma22/22Ifeoma22/main/Old%20ManSea%20Book\n",
            "Resolving raw.githubusercontent.com (raw.githubusercontent.com)... 185.199.110.133, 185.199.111.133, 185.199.108.133, ...\n",
            "Connecting to raw.githubusercontent.com (raw.githubusercontent.com)|185.199.110.133|:443... connected.\n",
            "HTTP request sent, awaiting response... 200 OK\n",
            "Length: 134521 (131K) [text/plain]\n",
            "Saving to: ‘Old ManSea Book.2’\n",
            "\n",
            "\rOld ManSea Book.2     0%[                    ]       0  --.-KB/s               \rOld ManSea Book.2   100%[===================>] 131.37K  --.-KB/s    in 0.02s   \n",
            "\n",
            "2023-09-07 18:16:44 (8.36 MB/s) - ‘Old ManSea Book.2’ saved [134521/134521]\n",
            "\n"
          ]
        }
      ]
    },
    {
      "cell_type": "code",
      "source": [
        "!head Old\\ ManSea\\ Book"
      ],
      "metadata": {
        "colab": {
          "base_uri": "https://localhost:8080/"
        },
        "id": "B1wt3hhq1WbD",
        "outputId": "d0fff8fc-ed09-4386-c39d-72841cb09bfa"
      },
      "execution_count": 12,
      "outputs": [
        {
          "output_type": "stream",
          "name": "stdout",
          "text": [
            "THE OLD MAN AND THE SEA\n",
            "\n",
            "\n",
            "\n",
            "\n",
            "He was an old man who fished alone in a skiff in the Gulf Stream and he\n",
            "had gone eighty-four days now without taking a fish.  In the first\n",
            "forty days a boy had been with him.  But after forty days without a\n",
            "fish the boy's parents had told him that the old man was now definitely\n",
            "and finally _salao_, which is the worst form of unlucky, and the boy\n"
          ]
        }
      ]
    },
    {
      "cell_type": "code",
      "source": [
        "! tail Old\\ ManSea\\ Book"
      ],
      "metadata": {
        "colab": {
          "base_uri": "https://localhost:8080/"
        },
        "id": "DUeHV6Tt1xsK",
        "outputId": "9a100bf1-6505-4af2-da93-7e58f4df0875"
      },
      "execution_count": 13,
      "outputs": [
        {
          "output_type": "stream",
          "name": "stdout",
          "text": [
            "had happened.\n",
            "\n",
            "\"I didn't know sharks had such handsome, beautifully formed tails.\"\n",
            "\n",
            "\"I didn't either,\" her male companion said.\n",
            "\n",
            "Up the road, in his shack, the old man was sleeping again.  He was\n",
            "still sleeping on his face and the boy was sitting by him watching him.\n",
            "The old man was dreaming about the lions.\n",
            "\n"
          ]
        }
      ]
    }
  ]
}