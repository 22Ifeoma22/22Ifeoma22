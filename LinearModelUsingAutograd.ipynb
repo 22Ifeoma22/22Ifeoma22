{
  "cells": [
    {
      "cell_type": "markdown",
      "metadata": {
        "id": "view-in-github",
        "colab_type": "text"
      },
      "source": [
        "<a href=\"https://colab.research.google.com/github/22Ifeoma22/22Ifeoma22/blob/main/LinearModelUsingAutograd.ipynb\" target=\"_parent\"><img src=\"https://colab.research.google.com/assets/colab-badge.svg\" alt=\"Open In Colab\"/></a>"
      ]
    },
    {
      "cell_type": "code",
      "execution_count": 11,
      "metadata": {
        "collapsed": true,
        "id": "4ytxqV66_k4l"
      },
      "outputs": [],
      "source": [
        "import numpy as np\n",
        "import matplotlib.pyplot as plt"
      ]
    },
    {
      "cell_type": "markdown",
      "metadata": {
        "id": "nb7QS7g5_k4m"
      },
      "source": [
        "#### Creating Dataset\n",
        "A simple dataset using numpy arrays"
      ]
    },
    {
      "cell_type": "code",
      "execution_count": 12,
      "metadata": {
        "collapsed": true,
        "id": "zZYyKSt1_k4m"
      },
      "outputs": [],
      "source": [
        "x_train = np.array ([[3.3], [4.4], [5.5], [6.71], [6.93], [4.168],\n",
        "                    [9.779], [6.182], [7.59], [2.167], [7.042] ,\n",
        "                    [10.791], [5.313], [7.997], [3.1]],\n",
        "                    dtype = np.float32)\n",
        "\n",
        "y_train = np.array ([[1.7], [2.76], [2.09], [3.19], [1.694], [1.573],\n",
        "                    [3.366], [2.596], [2.53], [1.221], [2.827] ,\n",
        "                    [3.465], [1.65], [2.904], [1.3]],\n",
        "                    dtype = np.float32)"
      ]
    },
    {
      "cell_type": "markdown",
      "metadata": {
        "id": "JmNhHprk_k4m"
      },
      "source": [
        "#### View the data\n",
        "There seems to be some relationship which can be plotted between x_train and y_train. A regression line can be drawn to represent the relationship"
      ]
    },
    {
      "cell_type": "code",
      "execution_count": 13,
      "metadata": {
        "colab": {
          "base_uri": "https://localhost:8080/",
          "height": 430
        },
        "id": "gSsnYyOW_k4m",
        "outputId": "5a109f29-d308-4f43-dc0b-432ece4abf29"
      },
      "outputs": [
        {
          "output_type": "display_data",
          "data": {
            "text/plain": [
              "<Figure size 640x480 with 1 Axes>"
            ],
            "image/png": "[encoded data removed]"
          },
          "metadata": {}
        }
      ],
      "source": [
        "plt.plot(x_train, y_train, 'ro', label = 'Original data')\n",
        "\n",
        "plt.show()"
      ]
    },
    {
      "cell_type": "code",
      "execution_count": 14,
      "metadata": {
        "collapsed": true,
        "id": "DgrxSJig_k4n"
      },
      "outputs": [],
      "source": [
        "import torch"
      ]
    },
    {
      "cell_type": "markdown",
      "metadata": {
        "id": "c662f63U_k4n"
      },
      "source": [
        "#### Converting data to pytorch tensors\n",
        "By defualt requires_grad = False"
      ]
    },
    {
      "cell_type": "code",
      "execution_count": 15,
      "metadata": {
        "colab": {
          "base_uri": "https://localhost:8080/"
        },
        "id": "bgP5RVYc_k4n",
        "outputId": "6caa6d83-0e57-465c-a484-85a33c712ecd"
      },
      "outputs": [
        {
          "output_type": "stream",
          "name": "stdout",
          "text": [
            "requires_grad for X_train:  False\n",
            "requires_grad for Y_train:  False\n"
          ]
        }
      ],
      "source": [
        "X_train = torch.from_numpy(x_train)\n",
        "Y_train = torch.from_numpy(y_train)\n",
        "\n",
        "print('requires_grad for X_train: ', X_train.requires_grad)\n",
        "print('requires_grad for Y_train: ', Y_train.requires_grad)"
      ]
    },
    {
      "cell_type": "markdown",
      "metadata": {
        "id": "sv9k4_1u_k4n"
      },
      "source": [
        "#### Set the details for our neural network\n",
        "Input, output and hidden layer sizes plus the learning rate"
      ]
    },
    {
      "cell_type": "code",
      "execution_count": 16,
      "metadata": {
        "collapsed": true,
        "id": "HMW-We7Z_k4n"
      },
      "outputs": [],
      "source": [
        "input_size = 1\n",
        "hidden_size = 100\n",
        "output_size = 1\n",
        "learning_rate = 1e-6"
      ]
    },
    {
      "cell_type": "markdown",
      "metadata": {
        "id": "xFsdEwyG_k4n"
      },
      "source": [
        "#### Create random Tensors for weights.<br>\n",
        "Setting requires_grad=True indicates that we want to compute gradients with respect to these Tensors during the backward pass"
      ]
    },
    {
      "cell_type": "code",
      "execution_count": 17,
      "metadata": {
        "colab": {
          "base_uri": "https://localhost:8080/"
        },
        "id": "VQLBFYDW_k4o",
        "outputId": "2b082d6e-29ac-499c-d7bd-caa28790287c"
      },
      "outputs": [
        {
          "output_type": "execute_result",
          "data": {
            "text/plain": [
              "torch.Size([1, 100])"
            ]
          },
          "metadata": {},
          "execution_count": 17
        }
      ],
      "source": [
        "w1 = torch.rand(input_size,\n",
        "                hidden_size,\n",
        "\n",
        "                requires_grad=True)\n",
        "w1.shape"
      ]
    },
    {
      "cell_type": "code",
      "execution_count": 18,
      "metadata": {
        "colab": {
          "base_uri": "https://localhost:8080/"
        },
        "id": "NhXmWOVe_k4o",
        "outputId": "bfa0d9b1-52d3-4b78-ff85-262df98fe0d6"
      },
      "outputs": [
        {
          "output_type": "execute_result",
          "data": {
            "text/plain": [
              "torch.Size([100, 1])"
            ]
          },
          "metadata": {},
          "execution_count": 18
        }
      ],
      "source": [
        "w2 = torch.rand(hidden_size,\n",
        "                output_size,\n",
        "\n",
        "                requires_grad=True)\n",
        "w2.shape"
      ]
    },
    {
      "cell_type": "markdown",
      "metadata": {
        "id": "N4d0TVdn_k4o"
      },
      "source": [
        "## Training\n",
        "\n",
        "#### Foward Pass:\n",
        "* Predicting Y with input data X\n",
        "* finding (matrix X matrix) using .mm function, finding product of X_train and w1\n",
        "* clamping all negative elements to one using clamp(min=0), similar to Relu Function\n",
        "* again doing mat product of clamped data with second weight w2\n",
        "\n",
        "#### Finding Loss:\n",
        "* Finding difference between Y_train and Y_pred by squaring the difference and then summing out, similar to nn.MSELoss\n",
        "\n",
        "\n",
        "#### For the loss_backward() function call:\n",
        "* backward pass will compute the gradient of loss with respect to all Tensors with requires_grad=True.\n",
        "* After this call w1.grad and w2.grad will be Tensors holding the gradient of the loss with respect to w1 and w2 respectively.\n",
        "\n",
        "#### Manually updating the weights\n",
        "* weights have requires_grad=True, but we don't need to track this in autograd. So will wrap it in torch.no_grad\n",
        "* reducing weight with multiple of learning rate and gradient\n",
        "* manually zero the weight gradients after updating weights"
      ]
    },
    {
      "cell_type": "code",
      "execution_count": 19,
      "metadata": {
        "colab": {
          "base_uri": "https://localhost:8080/"
        },
        "id": "vm7Buqoo_k4o",
        "outputId": "1986f7bc-e638-4124-e66c-0235f35ff4ae"
      },
      "outputs": [
        {
          "output_type": "stream",
          "name": "stdout",
          "text": [
            "50 4998.53369140625\n",
            "100 162.6100311279297\n",
            "150 9.292095184326172\n",
            "200 3.8444888591766357\n",
            "250 3.64056134223938\n",
            "300 3.6329257488250732\n"
          ]
        }
      ],
      "source": [
        "for iter in range(1, 301):\n",
        "\n",
        "    y_pred = X_train.mm(w1).clamp(min=0).mm(w2)\n",
        "    loss = (y_pred - Y_train).pow(2).sum()\n",
        "\n",
        "    if iter % 50 ==0:\n",
        "        print(iter, loss.item())\n",
        "\n",
        "    loss.backward()\n",
        "\n",
        "    with torch.no_grad():\n",
        "        w1 -= learning_rate * w1.grad\n",
        "        w2 -= learning_rate * w2.grad\n",
        "        w1.grad.zero_()\n",
        "        w2.grad.zero_()"
      ]
    },
    {
      "cell_type": "code",
      "execution_count": 20,
      "metadata": {
        "colab": {
          "base_uri": "https://localhost:8080/"
        },
        "id": "eQKIGwDb_k4o",
        "outputId": "8c94812f-190b-4379-939d-465b9f8ef0fc"
      },
      "outputs": [
        {
          "output_type": "stream",
          "name": "stdout",
          "text": [
            "w1:  tensor([[ 4.3790e-01,  2.2215e-01,  7.6341e-01,  9.3982e-01, -9.2791e-03,\n",
            "          2.9251e-02, -1.0558e-02,  1.6615e-01,  1.1881e-01, -2.1839e-02,\n",
            "         -3.1475e-04,  3.4709e-02,  2.0883e-01,  7.4622e-01, -1.2495e-02,\n",
            "          1.3519e-01,  4.5951e-01,  2.4541e-02,  7.7496e-03, -1.1659e-03,\n",
            "         -1.2742e-03,  1.4379e-01, -1.9394e-02,  4.9754e-01, -2.0973e-02,\n",
            "          5.9035e-01,  3.9784e-01, -1.3393e-04,  4.9035e-01,  3.6519e-01,\n",
            "          5.4854e-01, -1.0704e-03, -1.7996e-03,  9.1057e-01, -2.4548e-05,\n",
            "          3.6088e-01, -1.4215e-03,  2.8782e-01,  5.5802e-01,  1.3038e-01,\n",
            "          1.8780e-01,  7.8565e-01,  7.3883e-01, -8.4382e-04,  4.0819e-01,\n",
            "          7.9339e-03, -1.8273e-02, -7.1284e-03,  7.6539e-01,  2.9185e-01,\n",
            "          3.0628e-01,  3.2692e-01,  8.0438e-01,  2.2413e-01, -3.1254e-03,\n",
            "          5.4429e-01,  7.0311e-01,  3.8188e-01,  1.9791e-02, -9.0671e-03,\n",
            "          1.1177e+00,  7.2961e-02,  4.7873e-02,  1.0040e+00,  1.3289e-01,\n",
            "         -6.6202e-04,  5.1704e-01,  4.7810e-01, -7.2137e-03,  6.6667e-01,\n",
            "         -8.0712e-03,  3.4382e-01,  3.7092e-02,  6.0416e-01,  1.9119e-01,\n",
            "          3.9574e-02, -1.2274e-03,  4.7609e-01,  3.1398e-01,  3.7309e-01,\n",
            "          6.1120e-02,  3.1517e-01,  7.2628e-01,  8.8577e-01,  3.1922e-01,\n",
            "          8.4312e-01,  2.0621e-01,  1.0444e-01,  5.8948e-02,  2.5794e-01,\n",
            "          2.9474e-01,  1.0860e-01,  6.6032e-02,  2.7551e-01,  3.6357e-03,\n",
            "          2.6881e-01, -7.2754e-05, -2.1920e-04, -4.8089e-04,  7.8030e-02]],\n",
            "       requires_grad=True)\n",
            "w2:  tensor([[ 0.4314],\n",
            "        [-0.0048],\n",
            "        [-0.1262],\n",
            "        [-0.5534],\n",
            "        [ 0.8045],\n",
            "        [ 0.6819],\n",
            "        [ 0.5606],\n",
            "        [ 0.0453],\n",
            "        [ 0.6460],\n",
            "        [ 0.9583],\n",
            "        [ 0.7007],\n",
            "        [ 0.6572],\n",
            "        [ 0.4460],\n",
            "        [ 0.0335],\n",
            "        [ 0.9158],\n",
            "        [ 0.0528],\n",
            "        [ 0.0824],\n",
            "        [ 0.0225],\n",
            "        [ 0.6167],\n",
            "        [ 0.3616],\n",
            "        [ 0.5362],\n",
            "        [ 0.1886],\n",
            "        [ 0.8560],\n",
            "        [-0.1011],\n",
            "        [ 0.8089],\n",
            "        [ 0.0694],\n",
            "        [ 0.5125],\n",
            "        [ 0.7718],\n",
            "        [ 0.1556],\n",
            "        [ 0.4865],\n",
            "        [ 0.3994],\n",
            "        [ 0.5496],\n",
            "        [ 0.5428],\n",
            "        [-0.4788],\n",
            "        [ 0.0493],\n",
            "        [ 0.2557],\n",
            "        [ 0.7876],\n",
            "        [ 0.4567],\n",
            "        [-0.1275],\n",
            "        [ 0.2734],\n",
            "        [ 0.4114],\n",
            "        [-0.1725],\n",
            "        [-0.3045],\n",
            "        [ 0.5217],\n",
            "        [ 0.3181],\n",
            "        [ 0.1022],\n",
            "        [ 0.8178],\n",
            "        [ 0.8107],\n",
            "        [-0.2867],\n",
            "        [ 0.0152],\n",
            "        [ 0.2895],\n",
            "        [ 0.1487],\n",
            "        [-0.0060],\n",
            "        [ 0.5086],\n",
            "        [ 0.4818],\n",
            "        [ 0.3888],\n",
            "        [-0.0118],\n",
            "        [ 0.4134],\n",
            "        [ 0.1572],\n",
            "        [ 0.3170],\n",
            "        [-0.6377],\n",
            "        [ 0.0847],\n",
            "        [ 0.3018],\n",
            "        [-0.3966],\n",
            "        [ 0.2316],\n",
            "        [ 0.6333],\n",
            "        [ 0.3311],\n",
            "        [ 0.1417],\n",
            "        [ 0.5965],\n",
            "        [-0.3943],\n",
            "        [ 0.9120],\n",
            "        [-0.0697],\n",
            "        [ 0.1030],\n",
            "        [ 0.0922],\n",
            "        [ 0.4210],\n",
            "        [ 0.7388],\n",
            "        [ 0.3029],\n",
            "        [-0.2233],\n",
            "        [ 0.4347],\n",
            "        [ 0.2785],\n",
            "        [ 0.1620],\n",
            "        [ 0.1866],\n",
            "        [ 0.0532],\n",
            "        [-0.1683],\n",
            "        [ 0.3862],\n",
            "        [-0.1396],\n",
            "        [ 0.5783],\n",
            "        [-0.0068],\n",
            "        [ 0.2532],\n",
            "        [ 0.1630],\n",
            "        [ 0.5835],\n",
            "        [ 0.2716],\n",
            "        [ 0.4741],\n",
            "        [ 0.5595],\n",
            "        [ 0.7802],\n",
            "        [ 0.3246],\n",
            "        [ 0.3659],\n",
            "        [ 0.3262],\n",
            "        [ 0.4374],\n",
            "        [-0.0215]], requires_grad=True)\n"
          ]
        }
      ],
      "source": [
        "print ('w1: ', w1)\n",
        "print ('w2: ', w2)"
      ]
    },
    {
      "cell_type": "markdown",
      "metadata": {
        "id": "Je1yuCB0_k4o"
      },
      "source": [
        "#### Checking the output"
      ]
    },
    {
      "cell_type": "markdown",
      "metadata": {
        "id": "zhbOWTv3_k4o"
      },
      "source": [
        "Converting data into a tensor"
      ]
    },
    {
      "cell_type": "code",
      "execution_count": 21,
      "metadata": {
        "colab": {
          "base_uri": "https://localhost:8080/"
        },
        "id": "hhNHe5YE_k4o",
        "outputId": "e7bf8d2e-41d6-4e53-fdbe-df94c7fa8093"
      },
      "outputs": [
        {
          "output_type": "execute_result",
          "data": {
            "text/plain": [
              "tensor([[ 3.3000],\n",
              "        [ 4.4000],\n",
              "        [ 5.5000],\n",
              "        [ 6.7100],\n",
              "        [ 6.9300],\n",
              "        [ 4.1680],\n",
              "        [ 9.7790],\n",
              "        [ 6.1820],\n",
              "        [ 7.5900],\n",
              "        [ 2.1670],\n",
              "        [ 7.0420],\n",
              "        [10.7910],\n",
              "        [ 5.3130],\n",
              "        [ 7.9970],\n",
              "        [ 3.1000]])"
            ]
          },
          "metadata": {},
          "execution_count": 21
        }
      ],
      "source": [
        "x_train_tensor = torch.from_numpy(x_train)\n",
        "x_train_tensor"
      ]
    },
    {
      "cell_type": "markdown",
      "metadata": {
        "id": "h5VxkCmX_k4o"
      },
      "source": [
        "#### Get the predicted values using the weights\n",
        "Using final weights calculated from our training in order to get the predicted values"
      ]
    },
    {
      "cell_type": "code",
      "execution_count": 22,
      "metadata": {
        "colab": {
          "base_uri": "https://localhost:8080/"
        },
        "id": "tRBvkudO_k4p",
        "outputId": "9a56098f-345a-42ce-a543-57deaa663596"
      },
      "outputs": [
        {
          "output_type": "execute_result",
          "data": {
            "text/plain": [
              "tensor([[1.2137],\n",
              "        [1.6182],\n",
              "        [2.0228],\n",
              "        [2.4678],\n",
              "        [2.5487],\n",
              "        [1.5329],\n",
              "        [3.5965],\n",
              "        [2.2736],\n",
              "        [2.7914],\n",
              "        [0.7970],\n",
              "        [2.5899],\n",
              "        [3.9687],\n",
              "        [1.9540],\n",
              "        [2.9411],\n",
              "        [1.1401]], grad_fn=<MmBackward0>)"
            ]
          },
          "metadata": {},
          "execution_count": 22
        }
      ],
      "source": [
        "predicted_in_tensor = x_train_tensor.mm(w1).clamp(min=0).mm(w2)\n",
        "predicted_in_tensor"
      ]
    },
    {
      "cell_type": "markdown",
      "metadata": {
        "id": "S1JyctE8_k4p"
      },
      "source": [
        "#### Convert the prediction to a numpy array\n",
        "This will be used to plot the regression line in a plot"
      ]
    },
    {
      "cell_type": "code",
      "execution_count": 23,
      "metadata": {
        "colab": {
          "base_uri": "https://localhost:8080/"
        },
        "id": "v9qxncat_k4p",
        "outputId": "330d6a36-c49b-4102-d25c-7e5a2d81cb86"
      },
      "outputs": [
        {
          "output_type": "execute_result",
          "data": {
            "text/plain": [
              "array([[1.2136699 ],\n",
              "       [1.6182262 ],\n",
              "       [2.0227838 ],\n",
              "       [2.4677942 ],\n",
              "       [2.548706  ],\n",
              "       [1.5329013 ],\n",
              "       [3.5965087 ],\n",
              "       [2.2736068 ],\n",
              "       [2.7914405 ],\n",
              "       [0.79697657],\n",
              "       [2.5898976 ],\n",
              "       [3.9687004 ],\n",
              "       [1.9540079 ],\n",
              "       [2.9411263 ],\n",
              "       [1.1401141 ]], dtype=float32)"
            ]
          },
          "metadata": {},
          "execution_count": 23
        }
      ],
      "source": [
        "predicted = predicted_in_tensor.detach().numpy()\n",
        "predicted"
      ]
    },
    {
      "cell_type": "markdown",
      "metadata": {
        "id": "jShsSgJb_k4p"
      },
      "source": [
        "#### Plotting\n",
        "Our training has produced a rather accurate regression line"
      ]
    },
    {
      "cell_type": "code",
      "execution_count": 24,
      "metadata": {
        "colab": {
          "base_uri": "https://localhost:8080/",
          "height": 430
        },
        "id": "S0noimv4_k4p",
        "outputId": "c1b0c5b1-febf-46bb-b9af-58c27c79abb0"
      },
      "outputs": [
        {
          "output_type": "display_data",
          "data": {
            "text/plain": [
              "<Figure size 640x480 with 1 Axes>"
            ],
            "image/png": "[encoded data removed]"
          },
          "metadata": {}
        }
      ],
      "source": [
        "plt.plot(x_train, y_train, 'ro', label = 'Original data')\n",
        "\n",
        "plt.plot(x_train, predicted, label = 'Fitted line ')\n",
        "\n",
        "plt.legend()\n",
        "\n",
        "plt.show()"
      ]
    },
    {
      "cell_type": "code",
      "execution_count": 24,
      "metadata": {
        "collapsed": true,
        "id": "Q_9KxJ1T_k4p"
      },
      "outputs": [],
      "source": []
    },
    {
      "cell_type": "code",
      "execution_count": 24,
      "metadata": {
        "collapsed": true,
        "id": "nTPsB1D3_k4p"
      },
      "outputs": [],
      "source": []
    }
  ],
  "metadata": {
    "kernelspec": {
      "display_name": "Python 3",
      "language": "python",
      "name": "python3"
    },
    "language_info": {
      "codemirror_mode": {
        "name": "ipython",
        "version": 3
      },
      "file_extension": ".py",
      "mimetype": "text/x-python",
      "name": "python",
      "nbconvert_exporter": "python",
      "pygments_lexer": "ipython3",
      "version": "3.6.4"
    },
    "colab": {
      "provenance": [],
      "include_colab_link": true
    }
  },
  "nbformat": 4,
  "nbformat_minor": 0
}