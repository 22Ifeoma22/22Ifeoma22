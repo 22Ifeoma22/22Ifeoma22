{
  "nbformat": 4,
  "nbformat_minor": 0,
  "metadata": {
    "colab": {
      "provenance": [],
      "authorship_tag": "ABX9TyNbFQCgCba41CrG6Uqbq8oJ",
      "include_colab_link": true
    },
    "kernelspec": {
      "name": "python3",
      "display_name": "Python 3"
    },
    "language_info": {
      "name": "python"
    }
  },
  "cells": [
    {
      "cell_type": "markdown",
      "metadata": {
        "id": "view-in-github",
        "colab_type": "text"
      },
      "source": [
        "<a href=\"https://colab.research.google.com/github/22Ifeoma22/22Ifeoma22/blob/main/TF2_0_LinearClassification.ipynb\" target=\"_parent\"><img src=\"https://colab.research.google.com/assets/colab-badge.svg\" alt=\"Open In Colab\"/></a>"
      ]
    },
    {
      "cell_type": "code",
      "execution_count": 1,
      "metadata": {
        "id": "Gl24_oMyCMxq"
      },
      "outputs": [],
      "source": [
        "\n",
        "import tensorflow as tf"
      ]
    },
    {
      "cell_type": "code",
      "source": [
        "# Load in the data\n",
        "from sklearn.datasets import load_breast_cancer"
      ],
      "metadata": {
        "id": "3W772XVfibt3"
      },
      "execution_count": 2,
      "outputs": []
    },
    {
      "cell_type": "code",
      "source": [
        "# load  the data\n",
        "data = load_breast_cancer()"
      ],
      "metadata": {
        "id": "UlHmwkyAilD1"
      },
      "execution_count": 3,
      "outputs": []
    },
    {
      "cell_type": "code",
      "source": [
        "# cheack the type of data\n",
        "type(data)"
      ],
      "metadata": {
        "colab": {
          "base_uri": "https://localhost:8080/",
          "height": 186
        },
        "id": "h2CK6U9mituC",
        "outputId": "a285c715-b90f-48c4-fee6-a7e727e652f4"
      },
      "execution_count": 4,
      "outputs": [
        {
          "output_type": "execute_result",
          "data": {
            "text/plain": [
              "sklearn.utils._bunch.Bunch"
            ],
            "text/html": [
              "<div style=\"max-width:800px; border: 1px solid var(--colab-border-color);\"><style>\n",
              "      pre.function-repr-contents {\n",
              "        overflow-x: auto;\n",
              "        padding: 8px 12px;\n",
              "        max-height: 500px;\n",
              "      }\n",
              "\n",
              "      pre.function-repr-contents.function-repr-contents-collapsed {\n",
              "        cursor: pointer;\n",
              "        max-height: 100px;\n",
              "      }\n",
              "    </style>\n",
              "    <pre style=\"white-space: initial; background:\n",
              "         var(--colab-secondary-surface-color); padding: 8px 12px;\n",
              "         border-bottom: 1px solid var(--colab-border-color);\"><b>sklearn.utils._bunch.Bunch</b><br/>def __init__(**kwargs)</pre><pre class=\"function-repr-contents function-repr-contents-collapsed\" style=\"\"><a class=\"filepath\" style=\"display:none\" href=\"#\">/usr/local/lib/python3.10/dist-packages/sklearn/utils/_bunch.py</a>Container object exposing keys as attributes.\n",
              "\n",
              "Bunch objects are sometimes used as an output for functions and methods.\n",
              "They extend dictionaries by enabling values to be accessed by key,\n",
              "`bunch[&quot;value_key&quot;]`, or by an attribute, `bunch.value_key`.\n",
              "\n",
              "Examples\n",
              "--------\n",
              "&gt;&gt;&gt; from sklearn.utils import Bunch\n",
              "&gt;&gt;&gt; b = Bunch(a=1, b=2)\n",
              "&gt;&gt;&gt; b[&#x27;b&#x27;]\n",
              "2\n",
              "&gt;&gt;&gt; b.b\n",
              "2\n",
              "&gt;&gt;&gt; b.a = 3\n",
              "&gt;&gt;&gt; b[&#x27;a&#x27;]\n",
              "3\n",
              "&gt;&gt;&gt; b.c = 6\n",
              "&gt;&gt;&gt; b[&#x27;c&#x27;]\n",
              "6</pre>\n",
              "      <script>\n",
              "      if (google.colab.kernel.accessAllowed && google.colab.files && google.colab.files.view) {\n",
              "        for (const element of document.querySelectorAll('.filepath')) {\n",
              "          element.style.display = 'block'\n",
              "          element.onclick = (event) => {\n",
              "            event.preventDefault();\n",
              "            event.stopPropagation();\n",
              "            google.colab.files.view(element.textContent, 1);\n",
              "          };\n",
              "        }\n",
              "      }\n",
              "      for (const element of document.querySelectorAll('.function-repr-contents')) {\n",
              "        element.onclick = (event) => {\n",
              "          event.preventDefault();\n",
              "          event.stopPropagation();\n",
              "          element.classList.toggle('function-repr-contents-collapsed');\n",
              "        };\n",
              "      }\n",
              "      </script>\n",
              "      </div>"
            ]
          },
          "metadata": {},
          "execution_count": 4
        }
      ]
    },
    {
      "cell_type": "code",
      "source": [
        "# note: it is a Bunch object\n",
        "# this basically acts like a dictionary where you can treat the keys like attributes\n",
        "data.keys()\n"
      ],
      "metadata": {
        "colab": {
          "base_uri": "https://localhost:8080/"
        },
        "id": "Ey6uUJo9i52z",
        "outputId": "ac778bb8-6893-4d0d-8723-687f02c31641"
      },
      "execution_count": 5,
      "outputs": [
        {
          "output_type": "execute_result",
          "data": {
            "text/plain": [
              "dict_keys(['data', 'target', 'frame', 'target_names', 'DESCR', 'feature_names', 'filename', 'data_module'])"
            ]
          },
          "metadata": {},
          "execution_count": 5
        }
      ]
    },
    {
      "cell_type": "code",
      "source": [
        "# data (attribute) means the input data\n",
        "data.data.shape\n",
        "# it has 569 samples, 30 features"
      ],
      "metadata": {
        "colab": {
          "base_uri": "https://localhost:8080/"
        },
        "id": "QTbHNG32jS5F",
        "outputId": "9e32e940-74f2-4452-bcf5-b55bf113c520"
      },
      "execution_count": 6,
      "outputs": [
        {
          "output_type": "execute_result",
          "data": {
            "text/plain": [
              "(569, 30)"
            ]
          },
          "metadata": {},
          "execution_count": 6
        }
      ]
    },
    {
      "cell_type": "code",
      "source": [
        "# targets\n",
        "data.target\n",
        "# note how the targets are just 0s and 1s\n",
        "#normally, when you have k targets, they are labelled 0...k-1"
      ],
      "metadata": {
        "colab": {
          "base_uri": "https://localhost:8080/"
        },
        "id": "h3s9ANEBjzvE",
        "outputId": "21069328-b8c5-4f0b-eb95-f9c2aae21b49"
      },
      "execution_count": 7,
      "outputs": [
        {
          "output_type": "execute_result",
          "data": {
            "text/plain": [
              "array([0, 0, 0, 0, 0, 0, 0, 0, 0, 0, 0, 0, 0, 0, 0, 0, 0, 0, 0, 1, 1, 1,\n",
              "       0, 0, 0, 0, 0, 0, 0, 0, 0, 0, 0, 0, 0, 0, 0, 1, 0, 0, 0, 0, 0, 0,\n",
              "       0, 0, 1, 0, 1, 1, 1, 1, 1, 0, 0, 1, 0, 0, 1, 1, 1, 1, 0, 1, 0, 0,\n",
              "       1, 1, 1, 1, 0, 1, 0, 0, 1, 0, 1, 0, 0, 1, 1, 1, 0, 0, 1, 0, 0, 0,\n",
              "       1, 1, 1, 0, 1, 1, 0, 0, 1, 1, 1, 0, 0, 1, 1, 1, 1, 0, 1, 1, 0, 1,\n",
              "       1, 1, 1, 1, 1, 1, 1, 0, 0, 0, 1, 0, 0, 1, 1, 1, 0, 0, 1, 0, 1, 0,\n",
              "       0, 1, 0, 0, 1, 1, 0, 1, 1, 0, 1, 1, 1, 1, 0, 1, 1, 1, 1, 1, 1, 1,\n",
              "       1, 1, 0, 1, 1, 1, 1, 0, 0, 1, 0, 1, 1, 0, 0, 1, 1, 0, 0, 1, 1, 1,\n",
              "       1, 0, 1, 1, 0, 0, 0, 1, 0, 1, 0, 1, 1, 1, 0, 1, 1, 0, 0, 1, 0, 0,\n",
              "       0, 0, 1, 0, 0, 0, 1, 0, 1, 0, 1, 1, 0, 1, 0, 0, 0, 0, 1, 1, 0, 0,\n",
              "       1, 1, 1, 0, 1, 1, 1, 1, 1, 0, 0, 1, 1, 0, 1, 1, 0, 0, 1, 0, 1, 1,\n",
              "       1, 1, 0, 1, 1, 1, 1, 1, 0, 1, 0, 0, 0, 0, 0, 0, 0, 0, 0, 0, 0, 0,\n",
              "       0, 0, 1, 1, 1, 1, 1, 1, 0, 1, 0, 1, 1, 0, 1, 1, 0, 1, 0, 0, 1, 1,\n",
              "       1, 1, 1, 1, 1, 1, 1, 1, 1, 1, 1, 0, 1, 1, 0, 1, 0, 1, 1, 1, 1, 1,\n",
              "       1, 1, 1, 1, 1, 1, 1, 1, 1, 0, 1, 1, 1, 0, 1, 0, 1, 1, 1, 1, 0, 0,\n",
              "       0, 1, 1, 1, 1, 0, 1, 0, 1, 0, 1, 1, 1, 0, 1, 1, 1, 1, 1, 1, 1, 0,\n",
              "       0, 0, 1, 1, 1, 1, 1, 1, 1, 1, 1, 1, 1, 0, 0, 1, 0, 0, 0, 1, 0, 0,\n",
              "       1, 1, 1, 1, 1, 0, 1, 1, 1, 1, 1, 0, 1, 1, 1, 0, 1, 1, 0, 0, 1, 1,\n",
              "       1, 1, 1, 1, 0, 1, 1, 1, 1, 1, 1, 1, 0, 1, 1, 1, 1, 1, 0, 1, 1, 0,\n",
              "       1, 1, 1, 1, 1, 1, 1, 1, 1, 1, 1, 1, 0, 1, 0, 0, 1, 0, 1, 1, 1, 1,\n",
              "       1, 0, 1, 1, 0, 1, 0, 1, 1, 0, 1, 0, 1, 1, 1, 1, 1, 1, 1, 1, 0, 0,\n",
              "       1, 1, 1, 1, 1, 1, 0, 1, 1, 1, 1, 1, 1, 1, 1, 1, 1, 0, 1, 1, 1, 1,\n",
              "       1, 1, 1, 0, 1, 0, 1, 1, 0, 1, 1, 1, 1, 1, 0, 0, 1, 0, 1, 0, 1, 1,\n",
              "       1, 1, 1, 0, 1, 1, 0, 1, 0, 1, 0, 0, 1, 1, 1, 0, 1, 1, 1, 1, 1, 1,\n",
              "       1, 1, 1, 1, 1, 0, 1, 0, 0, 1, 1, 1, 1, 1, 1, 1, 1, 1, 1, 1, 1, 1,\n",
              "       1, 1, 1, 1, 1, 1, 1, 1, 1, 1, 1, 1, 0, 0, 0, 0, 0, 0, 1])"
            ]
          },
          "metadata": {},
          "execution_count": 7
        }
      ]
    },
    {
      "cell_type": "code",
      "source": [
        "# their meaning is not lost\n",
        "data.target_names"
      ],
      "metadata": {
        "colab": {
          "base_uri": "https://localhost:8080/"
        },
        "id": "B_argtzxkbDP",
        "outputId": "5b637717-72a9-4551-a9b5-66796a502ee5"
      },
      "execution_count": 8,
      "outputs": [
        {
          "output_type": "execute_result",
          "data": {
            "text/plain": [
              "array(['malignant', 'benign'], dtype='<U9')"
            ]
          },
          "metadata": {},
          "execution_count": 8
        }
      ]
    },
    {
      "cell_type": "code",
      "source": [
        "# there are also 569 corresponding targets- legnth of x equals length of y\n",
        "data.target.shape"
      ],
      "metadata": {
        "colab": {
          "base_uri": "https://localhost:8080/"
        },
        "id": "GkmmeR_5krz-",
        "outputId": "b7b8cdad-9ae5-4a1c-9a51-150ac05082a0"
      },
      "execution_count": 9,
      "outputs": [
        {
          "output_type": "execute_result",
          "data": {
            "text/plain": [
              "(569,)"
            ]
          },
          "metadata": {},
          "execution_count": 9
        }
      ]
    },
    {
      "cell_type": "code",
      "source": [
        "# you can also determine the meaning of each feature\n",
        "data.feature_names"
      ],
      "metadata": {
        "colab": {
          "base_uri": "https://localhost:8080/"
        },
        "id": "42agMObGk9hi",
        "outputId": "3de1885f-3205-42c8-fbf7-8ece67c13337"
      },
      "execution_count": 11,
      "outputs": [
        {
          "output_type": "execute_result",
          "data": {
            "text/plain": [
              "array(['mean radius', 'mean texture', 'mean perimeter', 'mean area',\n",
              "       'mean smoothness', 'mean compactness', 'mean concavity',\n",
              "       'mean concave points', 'mean symmetry', 'mean fractal dimension',\n",
              "       'radius error', 'texture error', 'perimeter error', 'area error',\n",
              "       'smoothness error', 'compactness error', 'concavity error',\n",
              "       'concave points error', 'symmetry error',\n",
              "       'fractal dimension error', 'worst radius', 'worst texture',\n",
              "       'worst perimeter', 'worst area', 'worst smoothness',\n",
              "       'worst compactness', 'worst concavity', 'worst concave points',\n",
              "       'worst symmetry', 'worst fractal dimension'], dtype='<U23')"
            ]
          },
          "metadata": {},
          "execution_count": 11
        }
      ]
    },
    {
      "cell_type": "code",
      "source": [
        "# normally we would put all of our imports at the top\n",
        "# but this lets us tell a story\n",
        "\n",
        "from sklearn.model_selection import train_test_split\n",
        "\n",
        "# split the data into train and test sets\n",
        "# this lets us stimulate how our model will perform in the future\n",
        "\n",
        "X_train, X_test ,  y_train, y_test = train_test_split(data.data,data.target, test_size=0.33)\n",
        "N, D =X_train.shape"
      ],
      "metadata": {
        "id": "VgHCjqnplYsN"
      },
      "execution_count": 12,
      "outputs": []
    },
    {
      "cell_type": "code",
      "source": [
        "# Scale the data\n",
        "# you ll learn why scaling is needed in a later course\n",
        "from sklearn.preprocessing import StandardScaler\n",
        "\n",
        "scaler = StandardScaler()\n",
        "X_train =  scaler.fit_transform(X_train)\n",
        "X_train = scaler.transform(X_train)\n"
      ],
      "metadata": {
        "id": "GRqIiHzEmxJi"
      },
      "execution_count": 13,
      "outputs": []
    },
    {
      "cell_type": "code",
      "source": [
        "import tensorflow as tf\n",
        "\n",
        "# Define the model\n",
        "model = tf.keras.models.Sequential([\n",
        "    tf.keras.layers.Input(shape=(D,)),\n",
        "    tf.keras.layers.Dense(1, activation='sigmoid')\n",
        "])\n",
        "\n",
        "# Alternatively, you can do:\n",
        "# model = tf.keras.models.Sequential()\n",
        "# model.add(tf.keras.layers.Dense(1, input_shape=(D,), activation='sigmoid'))\n",
        "\n",
        "# Compile the model\n",
        "model.compile(optimizer='adam',\n",
        "              loss='binary_crossentropy',\n",
        "              metrics=['accuracy'])\n",
        "\n",
        "# Train the model\n",
        "r = model.fit(X_train, y_train, validation_data=(X_test, y_test), epochs=100)\n",
        "\n",
        "# Evaluate the model - evaluate() returns loss and accuracy\n",
        "print(\"Train score:\", model.evaluate(X_train, y_train))\n",
        "print(\"Test score:\", model.evaluate(X_test, y_test))\n"
      ],
      "metadata": {
        "colab": {
          "base_uri": "https://localhost:8080/"
        },
        "id": "MOfZ8ouotB0C",
        "outputId": "03d2ede6-ed85-4747-f2dc-d6e2576ccdce"
      },
      "execution_count": 19,
      "outputs": [
        {
          "output_type": "stream",
          "name": "stdout",
          "text": [
            "Epoch 1/100\n",
            "12/12 [==============================] - 1s 25ms/step - loss: 11.2056 - accuracy: 0.6929 - val_loss: 192.2759 - val_accuracy: 0.4149\n",
            "Epoch 2/100\n",
            "12/12 [==============================] - 0s 6ms/step - loss: 9.4930 - accuracy: 0.7454 - val_loss: 198.7170 - val_accuracy: 0.4149\n",
            "Epoch 3/100\n",
            "12/12 [==============================] - 0s 5ms/step - loss: 8.2675 - accuracy: 0.7612 - val_loss: 204.0184 - val_accuracy: 0.4149\n",
            "Epoch 4/100\n",
            "12/12 [==============================] - 0s 5ms/step - loss: 7.4762 - accuracy: 0.7743 - val_loss: 209.7699 - val_accuracy: 0.4149\n",
            "Epoch 5/100\n",
            "12/12 [==============================] - 0s 5ms/step - loss: 6.7937 - accuracy: 0.7795 - val_loss: 215.0827 - val_accuracy: 0.4149\n",
            "Epoch 6/100\n",
            "12/12 [==============================] - 0s 6ms/step - loss: 6.2686 - accuracy: 0.7900 - val_loss: 219.9467 - val_accuracy: 0.4149\n",
            "Epoch 7/100\n",
            "12/12 [==============================] - 0s 5ms/step - loss: 5.7500 - accuracy: 0.7953 - val_loss: 224.2123 - val_accuracy: 0.4149\n",
            "Epoch 8/100\n",
            "12/12 [==============================] - 0s 6ms/step - loss: 5.2846 - accuracy: 0.7979 - val_loss: 229.1376 - val_accuracy: 0.4149\n",
            "Epoch 9/100\n",
            "12/12 [==============================] - 0s 6ms/step - loss: 4.8589 - accuracy: 0.8005 - val_loss: 232.7614 - val_accuracy: 0.4149\n",
            "Epoch 10/100\n",
            "12/12 [==============================] - 0s 7ms/step - loss: 4.5264 - accuracy: 0.8084 - val_loss: 237.4615 - val_accuracy: 0.4149\n",
            "Epoch 11/100\n",
            "12/12 [==============================] - 0s 5ms/step - loss: 4.1397 - accuracy: 0.8189 - val_loss: 240.8249 - val_accuracy: 0.4149\n",
            "Epoch 12/100\n",
            "12/12 [==============================] - 0s 6ms/step - loss: 3.8211 - accuracy: 0.8268 - val_loss: 244.0992 - val_accuracy: 0.4149\n",
            "Epoch 13/100\n",
            "12/12 [==============================] - 0s 7ms/step - loss: 3.5353 - accuracy: 0.8320 - val_loss: 246.8106 - val_accuracy: 0.4149\n",
            "Epoch 14/100\n",
            "12/12 [==============================] - 0s 8ms/step - loss: 3.2715 - accuracy: 0.8451 - val_loss: 249.7560 - val_accuracy: 0.4149\n",
            "Epoch 15/100\n",
            "12/12 [==============================] - 0s 7ms/step - loss: 3.0533 - accuracy: 0.8556 - val_loss: 251.7532 - val_accuracy: 0.4149\n",
            "Epoch 16/100\n",
            "12/12 [==============================] - 0s 5ms/step - loss: 2.8605 - accuracy: 0.8609 - val_loss: 254.3517 - val_accuracy: 0.4149\n",
            "Epoch 17/100\n",
            "12/12 [==============================] - 0s 5ms/step - loss: 2.7112 - accuracy: 0.8688 - val_loss: 256.3426 - val_accuracy: 0.4149\n",
            "Epoch 18/100\n",
            "12/12 [==============================] - 0s 6ms/step - loss: 2.5430 - accuracy: 0.8714 - val_loss: 258.3750 - val_accuracy: 0.4149\n",
            "Epoch 19/100\n",
            "12/12 [==============================] - 0s 6ms/step - loss: 2.4039 - accuracy: 0.8766 - val_loss: 260.6046 - val_accuracy: 0.4149\n",
            "Epoch 20/100\n",
            "12/12 [==============================] - 0s 6ms/step - loss: 2.2533 - accuracy: 0.8793 - val_loss: 261.6655 - val_accuracy: 0.4149\n",
            "Epoch 21/100\n",
            "12/12 [==============================] - 0s 6ms/step - loss: 2.1328 - accuracy: 0.8845 - val_loss: 263.0528 - val_accuracy: 0.4149\n",
            "Epoch 22/100\n",
            "12/12 [==============================] - 0s 6ms/step - loss: 2.0255 - accuracy: 0.8871 - val_loss: 265.0547 - val_accuracy: 0.4149\n",
            "Epoch 23/100\n",
            "12/12 [==============================] - 0s 6ms/step - loss: 1.9250 - accuracy: 0.8924 - val_loss: 266.5099 - val_accuracy: 0.4149\n",
            "Epoch 24/100\n",
            "12/12 [==============================] - 0s 7ms/step - loss: 1.8189 - accuracy: 0.9003 - val_loss: 267.3508 - val_accuracy: 0.4149\n",
            "Epoch 25/100\n",
            "12/12 [==============================] - 0s 7ms/step - loss: 1.7248 - accuracy: 0.9029 - val_loss: 268.3893 - val_accuracy: 0.4149\n",
            "Epoch 26/100\n",
            "12/12 [==============================] - 0s 7ms/step - loss: 1.6460 - accuracy: 0.9055 - val_loss: 269.7070 - val_accuracy: 0.4149\n",
            "Epoch 27/100\n",
            "12/12 [==============================] - 0s 6ms/step - loss: 1.5767 - accuracy: 0.9108 - val_loss: 270.4903 - val_accuracy: 0.4149\n",
            "Epoch 28/100\n",
            "12/12 [==============================] - 0s 5ms/step - loss: 1.4838 - accuracy: 0.9160 - val_loss: 270.7628 - val_accuracy: 0.4149\n",
            "Epoch 29/100\n",
            "12/12 [==============================] - 0s 6ms/step - loss: 1.4403 - accuracy: 0.9186 - val_loss: 271.9715 - val_accuracy: 0.4149\n",
            "Epoch 30/100\n",
            "12/12 [==============================] - 0s 5ms/step - loss: 1.3633 - accuracy: 0.9213 - val_loss: 272.3501 - val_accuracy: 0.4149\n",
            "Epoch 31/100\n",
            "12/12 [==============================] - 0s 6ms/step - loss: 1.3204 - accuracy: 0.9213 - val_loss: 272.3825 - val_accuracy: 0.4149\n",
            "Epoch 32/100\n",
            "12/12 [==============================] - 0s 6ms/step - loss: 1.2586 - accuracy: 0.9160 - val_loss: 272.6474 - val_accuracy: 0.4149\n",
            "Epoch 33/100\n",
            "12/12 [==============================] - 0s 6ms/step - loss: 1.2179 - accuracy: 0.9160 - val_loss: 273.2140 - val_accuracy: 0.4149\n",
            "Epoch 34/100\n",
            "12/12 [==============================] - 0s 6ms/step - loss: 1.1656 - accuracy: 0.9186 - val_loss: 272.9343 - val_accuracy: 0.4149\n",
            "Epoch 35/100\n",
            "12/12 [==============================] - 0s 7ms/step - loss: 1.1168 - accuracy: 0.9186 - val_loss: 273.7756 - val_accuracy: 0.4149\n",
            "Epoch 36/100\n",
            "12/12 [==============================] - 0s 7ms/step - loss: 1.0907 - accuracy: 0.9186 - val_loss: 273.9738 - val_accuracy: 0.4149\n",
            "Epoch 37/100\n",
            "12/12 [==============================] - 0s 7ms/step - loss: 1.0387 - accuracy: 0.9186 - val_loss: 273.0314 - val_accuracy: 0.4149\n",
            "Epoch 38/100\n",
            "12/12 [==============================] - 0s 8ms/step - loss: 1.0133 - accuracy: 0.9239 - val_loss: 273.2820 - val_accuracy: 0.4149\n",
            "Epoch 39/100\n",
            "12/12 [==============================] - 0s 7ms/step - loss: 0.9610 - accuracy: 0.9265 - val_loss: 273.1819 - val_accuracy: 0.4149\n",
            "Epoch 40/100\n",
            "12/12 [==============================] - 0s 6ms/step - loss: 0.9222 - accuracy: 0.9291 - val_loss: 272.8349 - val_accuracy: 0.4149\n",
            "Epoch 41/100\n",
            "12/12 [==============================] - 0s 7ms/step - loss: 0.8947 - accuracy: 0.9318 - val_loss: 272.1785 - val_accuracy: 0.4149\n",
            "Epoch 42/100\n",
            "12/12 [==============================] - 0s 5ms/step - loss: 0.8649 - accuracy: 0.9291 - val_loss: 271.2455 - val_accuracy: 0.4149\n",
            "Epoch 43/100\n",
            "12/12 [==============================] - 0s 6ms/step - loss: 0.8305 - accuracy: 0.9318 - val_loss: 270.5790 - val_accuracy: 0.4149\n",
            "Epoch 44/100\n",
            "12/12 [==============================] - 0s 6ms/step - loss: 0.8079 - accuracy: 0.9344 - val_loss: 269.3952 - val_accuracy: 0.4149\n",
            "Epoch 45/100\n",
            "12/12 [==============================] - 0s 6ms/step - loss: 0.7832 - accuracy: 0.9370 - val_loss: 268.6258 - val_accuracy: 0.4149\n",
            "Epoch 46/100\n",
            "12/12 [==============================] - 0s 8ms/step - loss: 0.7673 - accuracy: 0.9318 - val_loss: 267.9147 - val_accuracy: 0.4149\n",
            "Epoch 47/100\n",
            "12/12 [==============================] - 0s 6ms/step - loss: 0.7358 - accuracy: 0.9344 - val_loss: 266.6422 - val_accuracy: 0.4149\n",
            "Epoch 48/100\n",
            "12/12 [==============================] - 0s 6ms/step - loss: 0.7162 - accuracy: 0.9344 - val_loss: 266.0941 - val_accuracy: 0.4149\n",
            "Epoch 49/100\n",
            "12/12 [==============================] - 0s 6ms/step - loss: 0.6938 - accuracy: 0.9344 - val_loss: 263.8165 - val_accuracy: 0.4149\n",
            "Epoch 50/100\n",
            "12/12 [==============================] - 0s 8ms/step - loss: 0.6769 - accuracy: 0.9370 - val_loss: 262.2603 - val_accuracy: 0.4149\n",
            "Epoch 51/100\n",
            "12/12 [==============================] - 0s 7ms/step - loss: 0.6602 - accuracy: 0.9370 - val_loss: 261.0075 - val_accuracy: 0.4149\n",
            "Epoch 52/100\n",
            "12/12 [==============================] - 0s 6ms/step - loss: 0.6392 - accuracy: 0.9370 - val_loss: 259.2713 - val_accuracy: 0.4149\n",
            "Epoch 53/100\n",
            "12/12 [==============================] - 0s 5ms/step - loss: 0.6187 - accuracy: 0.9318 - val_loss: 258.1720 - val_accuracy: 0.4149\n",
            "Epoch 54/100\n",
            "12/12 [==============================] - 0s 6ms/step - loss: 0.6035 - accuracy: 0.9344 - val_loss: 255.9363 - val_accuracy: 0.4149\n",
            "Epoch 55/100\n",
            "12/12 [==============================] - 0s 5ms/step - loss: 0.5875 - accuracy: 0.9344 - val_loss: 254.6976 - val_accuracy: 0.4149\n",
            "Epoch 56/100\n",
            "12/12 [==============================] - 0s 5ms/step - loss: 0.5742 - accuracy: 0.9344 - val_loss: 251.7505 - val_accuracy: 0.4149\n",
            "Epoch 57/100\n",
            "12/12 [==============================] - 0s 5ms/step - loss: 0.5592 - accuracy: 0.9318 - val_loss: 250.5726 - val_accuracy: 0.4149\n",
            "Epoch 58/100\n",
            "12/12 [==============================] - 0s 8ms/step - loss: 0.5483 - accuracy: 0.9318 - val_loss: 248.8168 - val_accuracy: 0.4149\n",
            "Epoch 59/100\n",
            "12/12 [==============================] - 0s 7ms/step - loss: 0.5304 - accuracy: 0.9318 - val_loss: 246.1713 - val_accuracy: 0.4149\n",
            "Epoch 60/100\n",
            "12/12 [==============================] - 0s 9ms/step - loss: 0.5159 - accuracy: 0.9318 - val_loss: 244.4525 - val_accuracy: 0.4149\n",
            "Epoch 61/100\n",
            "12/12 [==============================] - 0s 12ms/step - loss: 0.5074 - accuracy: 0.9318 - val_loss: 242.1519 - val_accuracy: 0.4149\n",
            "Epoch 62/100\n",
            "12/12 [==============================] - 0s 10ms/step - loss: 0.4950 - accuracy: 0.9370 - val_loss: 240.2832 - val_accuracy: 0.4149\n",
            "Epoch 63/100\n",
            "12/12 [==============================] - 0s 8ms/step - loss: 0.4886 - accuracy: 0.9370 - val_loss: 237.7431 - val_accuracy: 0.4149\n",
            "Epoch 64/100\n",
            "12/12 [==============================] - 0s 8ms/step - loss: 0.4778 - accuracy: 0.9344 - val_loss: 235.6645 - val_accuracy: 0.4149\n",
            "Epoch 65/100\n",
            "12/12 [==============================] - 0s 9ms/step - loss: 0.4698 - accuracy: 0.9370 - val_loss: 233.7739 - val_accuracy: 0.4149\n",
            "Epoch 66/100\n",
            "12/12 [==============================] - 0s 8ms/step - loss: 0.4548 - accuracy: 0.9423 - val_loss: 231.6170 - val_accuracy: 0.4149\n",
            "Epoch 67/100\n",
            "12/12 [==============================] - 0s 8ms/step - loss: 0.4505 - accuracy: 0.9370 - val_loss: 229.0188 - val_accuracy: 0.4149\n",
            "Epoch 68/100\n",
            "12/12 [==============================] - 0s 8ms/step - loss: 0.4416 - accuracy: 0.9370 - val_loss: 226.0302 - val_accuracy: 0.4149\n",
            "Epoch 69/100\n",
            "12/12 [==============================] - 0s 8ms/step - loss: 0.4368 - accuracy: 0.9370 - val_loss: 223.3625 - val_accuracy: 0.4149\n",
            "Epoch 70/100\n",
            "12/12 [==============================] - 0s 8ms/step - loss: 0.4252 - accuracy: 0.9370 - val_loss: 220.8674 - val_accuracy: 0.4149\n",
            "Epoch 71/100\n",
            "12/12 [==============================] - 0s 10ms/step - loss: 0.4187 - accuracy: 0.9370 - val_loss: 218.3227 - val_accuracy: 0.4149\n",
            "Epoch 72/100\n",
            "12/12 [==============================] - 0s 16ms/step - loss: 0.4121 - accuracy: 0.9370 - val_loss: 216.5340 - val_accuracy: 0.4149\n",
            "Epoch 73/100\n",
            "12/12 [==============================] - 0s 7ms/step - loss: 0.4006 - accuracy: 0.9423 - val_loss: 213.7601 - val_accuracy: 0.4149\n",
            "Epoch 74/100\n",
            "12/12 [==============================] - 0s 8ms/step - loss: 0.3908 - accuracy: 0.9370 - val_loss: 211.0025 - val_accuracy: 0.4149\n",
            "Epoch 75/100\n",
            "12/12 [==============================] - 0s 9ms/step - loss: 0.3886 - accuracy: 0.9370 - val_loss: 208.9458 - val_accuracy: 0.4149\n",
            "Epoch 76/100\n",
            "12/12 [==============================] - 0s 8ms/step - loss: 0.3805 - accuracy: 0.9396 - val_loss: 206.2864 - val_accuracy: 0.4149\n",
            "Epoch 77/100\n",
            "12/12 [==============================] - 0s 9ms/step - loss: 0.3794 - accuracy: 0.9370 - val_loss: 204.5859 - val_accuracy: 0.4149\n",
            "Epoch 78/100\n",
            "12/12 [==============================] - 0s 8ms/step - loss: 0.3761 - accuracy: 0.9396 - val_loss: 202.3673 - val_accuracy: 0.4149\n",
            "Epoch 79/100\n",
            "12/12 [==============================] - 0s 12ms/step - loss: 0.3615 - accuracy: 0.9396 - val_loss: 200.3995 - val_accuracy: 0.4149\n",
            "Epoch 80/100\n",
            "12/12 [==============================] - 0s 11ms/step - loss: 0.3571 - accuracy: 0.9370 - val_loss: 197.9541 - val_accuracy: 0.4149\n",
            "Epoch 81/100\n",
            "12/12 [==============================] - 0s 9ms/step - loss: 0.3446 - accuracy: 0.9370 - val_loss: 195.2984 - val_accuracy: 0.4149\n",
            "Epoch 82/100\n",
            "12/12 [==============================] - 0s 8ms/step - loss: 0.3456 - accuracy: 0.9396 - val_loss: 192.8969 - val_accuracy: 0.4149\n",
            "Epoch 83/100\n",
            "12/12 [==============================] - 0s 7ms/step - loss: 0.3338 - accuracy: 0.9423 - val_loss: 190.3969 - val_accuracy: 0.4149\n",
            "Epoch 84/100\n",
            "12/12 [==============================] - 0s 8ms/step - loss: 0.3274 - accuracy: 0.9423 - val_loss: 188.7582 - val_accuracy: 0.4149\n",
            "Epoch 85/100\n",
            "12/12 [==============================] - 0s 9ms/step - loss: 0.3278 - accuracy: 0.9396 - val_loss: 185.9467 - val_accuracy: 0.4149\n",
            "Epoch 86/100\n",
            "12/12 [==============================] - 0s 8ms/step - loss: 0.3185 - accuracy: 0.9423 - val_loss: 184.3401 - val_accuracy: 0.4149\n",
            "Epoch 87/100\n",
            "12/12 [==============================] - 0s 8ms/step - loss: 0.3159 - accuracy: 0.9396 - val_loss: 182.3240 - val_accuracy: 0.4149\n",
            "Epoch 88/100\n",
            "12/12 [==============================] - 0s 11ms/step - loss: 0.3085 - accuracy: 0.9449 - val_loss: 181.1669 - val_accuracy: 0.4149\n",
            "Epoch 89/100\n",
            "12/12 [==============================] - 0s 11ms/step - loss: 0.3054 - accuracy: 0.9423 - val_loss: 178.2835 - val_accuracy: 0.4149\n",
            "Epoch 90/100\n",
            "12/12 [==============================] - 0s 7ms/step - loss: 0.2996 - accuracy: 0.9396 - val_loss: 176.5160 - val_accuracy: 0.4149\n",
            "Epoch 91/100\n",
            "12/12 [==============================] - 0s 6ms/step - loss: 0.2920 - accuracy: 0.9396 - val_loss: 175.0237 - val_accuracy: 0.4149\n",
            "Epoch 92/100\n",
            "12/12 [==============================] - 0s 5ms/step - loss: 0.2870 - accuracy: 0.9396 - val_loss: 173.0674 - val_accuracy: 0.4149\n",
            "Epoch 93/100\n",
            "12/12 [==============================] - 0s 5ms/step - loss: 0.2898 - accuracy: 0.9423 - val_loss: 170.4377 - val_accuracy: 0.4149\n",
            "Epoch 94/100\n",
            "12/12 [==============================] - 0s 5ms/step - loss: 0.2772 - accuracy: 0.9396 - val_loss: 168.9287 - val_accuracy: 0.4149\n",
            "Epoch 95/100\n",
            "12/12 [==============================] - 0s 6ms/step - loss: 0.2743 - accuracy: 0.9396 - val_loss: 166.6031 - val_accuracy: 0.4149\n",
            "Epoch 96/100\n",
            "12/12 [==============================] - 0s 6ms/step - loss: 0.2717 - accuracy: 0.9423 - val_loss: 165.3079 - val_accuracy: 0.4149\n",
            "Epoch 97/100\n",
            "12/12 [==============================] - 0s 5ms/step - loss: 0.2754 - accuracy: 0.9423 - val_loss: 163.6032 - val_accuracy: 0.4149\n",
            "Epoch 98/100\n",
            "12/12 [==============================] - 0s 5ms/step - loss: 0.2652 - accuracy: 0.9449 - val_loss: 162.0261 - val_accuracy: 0.4149\n",
            "Epoch 99/100\n",
            "12/12 [==============================] - 0s 6ms/step - loss: 0.2654 - accuracy: 0.9475 - val_loss: 160.8732 - val_accuracy: 0.4149\n",
            "Epoch 100/100\n",
            "12/12 [==============================] - 0s 7ms/step - loss: 0.2593 - accuracy: 0.9475 - val_loss: 159.6012 - val_accuracy: 0.4149\n",
            "12/12 [==============================] - 0s 2ms/step - loss: 0.2482 - accuracy: 0.9475\n",
            "Train score: [0.24817222356796265, 0.9475065469741821]\n",
            "6/6 [==============================] - 0s 3ms/step - loss: 159.6012 - accuracy: 0.4149\n",
            "Test score: [159.60122680664062, 0.41489362716674805]\n"
          ]
        }
      ]
    },
    {
      "cell_type": "code",
      "source": [
        "# Plot what's returned by model.fit()\n",
        "import matplotlib.pyplot as plt\n",
        "plt.plot(r.history['accuracy'], label='acc')\n",
        "plt.plot(r.history['val_accuracy'], label='val_loss')\n",
        "plt.legend()"
      ],
      "metadata": {
        "colab": {
          "base_uri": "https://localhost:8080/",
          "height": 447
        },
        "id": "8ebcIz12tan5",
        "outputId": "0494b337-1047-4aa7-cacf-7c6385c21613"
      },
      "execution_count": 22,
      "outputs": [
        {
          "output_type": "execute_result",
          "data": {
            "text/plain": [
              "<matplotlib.legend.Legend at 0x7eb9a6de39d0>"
            ]
          },
          "metadata": {},
          "execution_count": 22
        },
        {
          "output_type": "display_data",
          "data": {
            "text/plain": [
              "<Figure size 640x480 with 1 Axes>"
            ],
            "image/png": "[encoded data removed]"
          },
          "metadata": {}
        }
      ]
    },
    {
      "cell_type": "code",
      "source": [
        "# Plot the accuracy too\n",
        "plt.plot(r.history['accuracy'], label='acc')\n",
        "plt.plot(r.history['val_accuracy'], label='val_acc')\n",
        "plt.legend()"
      ],
      "metadata": {
        "colab": {
          "base_uri": "https://localhost:8080/",
          "height": 447
        },
        "id": "ntH1R_GVuqqp",
        "outputId": "4a87f09a-dde7-4251-93fb-38ebfa3e37f6"
      },
      "execution_count": 21,
      "outputs": [
        {
          "output_type": "execute_result",
          "data": {
            "text/plain": [
              "<matplotlib.legend.Legend at 0x7eb9a649d660>"
            ]
          },
          "metadata": {},
          "execution_count": 21
        },
        {
          "output_type": "display_data",
          "data": {
            "text/plain": [
              "<Figure size 640x480 with 1 Axes>"
            ],
            "image/png": "[encoded data removed]"
          },
          "metadata": {}
        }
      ]
    },
    {
      "cell_type": "code",
      "source": [],
      "metadata": {
        "id": "qo4pohBnvkAQ"
      },
      "execution_count": null,
      "outputs": []
    }
  ]
}