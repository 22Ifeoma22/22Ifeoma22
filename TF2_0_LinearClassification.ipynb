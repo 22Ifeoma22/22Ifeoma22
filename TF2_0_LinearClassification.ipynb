{
  "nbformat": 4,
  "nbformat_minor": 0,
  "metadata": {
    "colab": {
      "provenance": [],
      "authorship_tag": "ABX9TyNmr5FdvM071Ns59Nf2/tfa",
      "include_colab_link": true
    },
    "kernelspec": {
      "name": "python3",
      "display_name": "Python 3"
    },
    "language_info": {
      "name": "python"
    }
  },
  "cells": [
    {
      "cell_type": "markdown",
      "metadata": {
        "id": "view-in-github",
        "colab_type": "text"
      },
      "source": [
        "<a href=\"https://colab.research.google.com/github/22Ifeoma22/22Ifeoma22/blob/main/TF2_0_LinearClassification.ipynb\" target=\"_parent\"><img src=\"https://colab.research.google.com/assets/colab-badge.svg\" alt=\"Open In Colab\"/></a>"
      ]
    },
    {
      "cell_type": "code",
      "execution_count": 2,
      "metadata": {
        "id": "Gl24_oMyCMxq"
      },
      "outputs": [],
      "source": [
        "\n",
        "import tensorflow as tf"
      ]
    },
    {
      "cell_type": "code",
      "source": [
        "# Load in the data\n",
        "from sklearn.datasets import load_breast_cancer"
      ],
      "metadata": {
        "id": "3W772XVfibt3"
      },
      "execution_count": 3,
      "outputs": []
    },
    {
      "cell_type": "code",
      "source": [
        "# load  the data\n",
        "data = load_breast_cancer()"
      ],
      "metadata": {
        "id": "UlHmwkyAilD1"
      },
      "execution_count": 4,
      "outputs": []
    },
    {
      "cell_type": "code",
      "source": [
        "# cheack the type of data\n",
        "type(data)"
      ],
      "metadata": {
        "colab": {
          "base_uri": "https://localhost:8080/",
          "height": 186
        },
        "id": "h2CK6U9mituC",
        "outputId": "bcdab670-c862-40b1-b302-796e4194f794"
      },
      "execution_count": 5,
      "outputs": [
        {
          "output_type": "execute_result",
          "data": {
            "text/plain": [
              "sklearn.utils._bunch.Bunch"
            ],
            "text/html": [
              "<div style=\"max-width:800px; border: 1px solid var(--colab-border-color);\"><style>\n",
              "      pre.function-repr-contents {\n",
              "        overflow-x: auto;\n",
              "        padding: 8px 12px;\n",
              "        max-height: 500px;\n",
              "      }\n",
              "\n",
              "      pre.function-repr-contents.function-repr-contents-collapsed {\n",
              "        cursor: pointer;\n",
              "        max-height: 100px;\n",
              "      }\n",
              "    </style>\n",
              "    <pre style=\"white-space: initial; background:\n",
              "         var(--colab-secondary-surface-color); padding: 8px 12px;\n",
              "         border-bottom: 1px solid var(--colab-border-color);\"><b>sklearn.utils._bunch.Bunch</b><br/>def __init__(**kwargs)</pre><pre class=\"function-repr-contents function-repr-contents-collapsed\" style=\"\"><a class=\"filepath\" style=\"display:none\" href=\"#\">/usr/local/lib/python3.10/dist-packages/sklearn/utils/_bunch.py</a>Container object exposing keys as attributes.\n",
              "\n",
              "Bunch objects are sometimes used as an output for functions and methods.\n",
              "They extend dictionaries by enabling values to be accessed by key,\n",
              "`bunch[&quot;value_key&quot;]`, or by an attribute, `bunch.value_key`.\n",
              "\n",
              "Examples\n",
              "--------\n",
              "&gt;&gt;&gt; from sklearn.utils import Bunch\n",
              "&gt;&gt;&gt; b = Bunch(a=1, b=2)\n",
              "&gt;&gt;&gt; b[&#x27;b&#x27;]\n",
              "2\n",
              "&gt;&gt;&gt; b.b\n",
              "2\n",
              "&gt;&gt;&gt; b.a = 3\n",
              "&gt;&gt;&gt; b[&#x27;a&#x27;]\n",
              "3\n",
              "&gt;&gt;&gt; b.c = 6\n",
              "&gt;&gt;&gt; b[&#x27;c&#x27;]\n",
              "6</pre>\n",
              "      <script>\n",
              "      if (google.colab.kernel.accessAllowed && google.colab.files && google.colab.files.view) {\n",
              "        for (const element of document.querySelectorAll('.filepath')) {\n",
              "          element.style.display = 'block'\n",
              "          element.onclick = (event) => {\n",
              "            event.preventDefault();\n",
              "            event.stopPropagation();\n",
              "            google.colab.files.view(element.textContent, 1);\n",
              "          };\n",
              "        }\n",
              "      }\n",
              "      for (const element of document.querySelectorAll('.function-repr-contents')) {\n",
              "        element.onclick = (event) => {\n",
              "          event.preventDefault();\n",
              "          event.stopPropagation();\n",
              "          element.classList.toggle('function-repr-contents-collapsed');\n",
              "        };\n",
              "      }\n",
              "      </script>\n",
              "      </div>"
            ]
          },
          "metadata": {},
          "execution_count": 5
        }
      ]
    },
    {
      "cell_type": "code",
      "source": [
        "# note: it is a Bunch object\n",
        "# this basically acts like a dictionary where you can treat the keys like attributes\n",
        "data.keys()\n"
      ],
      "metadata": {
        "colab": {
          "base_uri": "https://localhost:8080/"
        },
        "id": "Ey6uUJo9i52z",
        "outputId": "0ea38044-7326-479f-b348-2262a227cac5"
      },
      "execution_count": 6,
      "outputs": [
        {
          "output_type": "execute_result",
          "data": {
            "text/plain": [
              "dict_keys(['data', 'target', 'frame', 'target_names', 'DESCR', 'feature_names', 'filename', 'data_module'])"
            ]
          },
          "metadata": {},
          "execution_count": 6
        }
      ]
    },
    {
      "cell_type": "code",
      "source": [
        "# data (attribute) means the input data\n",
        "data.data.shape\n",
        "# it has 569 samples, 30 features"
      ],
      "metadata": {
        "colab": {
          "base_uri": "https://localhost:8080/"
        },
        "id": "QTbHNG32jS5F",
        "outputId": "770bc27d-0943-4545-ef16-3379b32c488d"
      },
      "execution_count": 7,
      "outputs": [
        {
          "output_type": "execute_result",
          "data": {
            "text/plain": [
              "(569, 30)"
            ]
          },
          "metadata": {},
          "execution_count": 7
        }
      ]
    },
    {
      "cell_type": "code",
      "source": [
        "# targets\n",
        "data.target\n",
        "# note how the targets are just 0s and 1s\n",
        "#normally, when you have k targets, they are labelled 0...k-1"
      ],
      "metadata": {
        "colab": {
          "base_uri": "https://localhost:8080/"
        },
        "id": "h3s9ANEBjzvE",
        "outputId": "367f7426-e90d-4926-ca21-0f4189585032"
      },
      "execution_count": 8,
      "outputs": [
        {
          "output_type": "execute_result",
          "data": {
            "text/plain": [
              "array([0, 0, 0, 0, 0, 0, 0, 0, 0, 0, 0, 0, 0, 0, 0, 0, 0, 0, 0, 1, 1, 1,\n",
              "       0, 0, 0, 0, 0, 0, 0, 0, 0, 0, 0, 0, 0, 0, 0, 1, 0, 0, 0, 0, 0, 0,\n",
              "       0, 0, 1, 0, 1, 1, 1, 1, 1, 0, 0, 1, 0, 0, 1, 1, 1, 1, 0, 1, 0, 0,\n",
              "       1, 1, 1, 1, 0, 1, 0, 0, 1, 0, 1, 0, 0, 1, 1, 1, 0, 0, 1, 0, 0, 0,\n",
              "       1, 1, 1, 0, 1, 1, 0, 0, 1, 1, 1, 0, 0, 1, 1, 1, 1, 0, 1, 1, 0, 1,\n",
              "       1, 1, 1, 1, 1, 1, 1, 0, 0, 0, 1, 0, 0, 1, 1, 1, 0, 0, 1, 0, 1, 0,\n",
              "       0, 1, 0, 0, 1, 1, 0, 1, 1, 0, 1, 1, 1, 1, 0, 1, 1, 1, 1, 1, 1, 1,\n",
              "       1, 1, 0, 1, 1, 1, 1, 0, 0, 1, 0, 1, 1, 0, 0, 1, 1, 0, 0, 1, 1, 1,\n",
              "       1, 0, 1, 1, 0, 0, 0, 1, 0, 1, 0, 1, 1, 1, 0, 1, 1, 0, 0, 1, 0, 0,\n",
              "       0, 0, 1, 0, 0, 0, 1, 0, 1, 0, 1, 1, 0, 1, 0, 0, 0, 0, 1, 1, 0, 0,\n",
              "       1, 1, 1, 0, 1, 1, 1, 1, 1, 0, 0, 1, 1, 0, 1, 1, 0, 0, 1, 0, 1, 1,\n",
              "       1, 1, 0, 1, 1, 1, 1, 1, 0, 1, 0, 0, 0, 0, 0, 0, 0, 0, 0, 0, 0, 0,\n",
              "       0, 0, 1, 1, 1, 1, 1, 1, 0, 1, 0, 1, 1, 0, 1, 1, 0, 1, 0, 0, 1, 1,\n",
              "       1, 1, 1, 1, 1, 1, 1, 1, 1, 1, 1, 0, 1, 1, 0, 1, 0, 1, 1, 1, 1, 1,\n",
              "       1, 1, 1, 1, 1, 1, 1, 1, 1, 0, 1, 1, 1, 0, 1, 0, 1, 1, 1, 1, 0, 0,\n",
              "       0, 1, 1, 1, 1, 0, 1, 0, 1, 0, 1, 1, 1, 0, 1, 1, 1, 1, 1, 1, 1, 0,\n",
              "       0, 0, 1, 1, 1, 1, 1, 1, 1, 1, 1, 1, 1, 0, 0, 1, 0, 0, 0, 1, 0, 0,\n",
              "       1, 1, 1, 1, 1, 0, 1, 1, 1, 1, 1, 0, 1, 1, 1, 0, 1, 1, 0, 0, 1, 1,\n",
              "       1, 1, 1, 1, 0, 1, 1, 1, 1, 1, 1, 1, 0, 1, 1, 1, 1, 1, 0, 1, 1, 0,\n",
              "       1, 1, 1, 1, 1, 1, 1, 1, 1, 1, 1, 1, 0, 1, 0, 0, 1, 0, 1, 1, 1, 1,\n",
              "       1, 0, 1, 1, 0, 1, 0, 1, 1, 0, 1, 0, 1, 1, 1, 1, 1, 1, 1, 1, 0, 0,\n",
              "       1, 1, 1, 1, 1, 1, 0, 1, 1, 1, 1, 1, 1, 1, 1, 1, 1, 0, 1, 1, 1, 1,\n",
              "       1, 1, 1, 0, 1, 0, 1, 1, 0, 1, 1, 1, 1, 1, 0, 0, 1, 0, 1, 0, 1, 1,\n",
              "       1, 1, 1, 0, 1, 1, 0, 1, 0, 1, 0, 0, 1, 1, 1, 0, 1, 1, 1, 1, 1, 1,\n",
              "       1, 1, 1, 1, 1, 0, 1, 0, 0, 1, 1, 1, 1, 1, 1, 1, 1, 1, 1, 1, 1, 1,\n",
              "       1, 1, 1, 1, 1, 1, 1, 1, 1, 1, 1, 1, 0, 0, 0, 0, 0, 0, 1])"
            ]
          },
          "metadata": {},
          "execution_count": 8
        }
      ]
    },
    {
      "cell_type": "code",
      "source": [
        "# their meaning is not lost\n",
        "data.target_names"
      ],
      "metadata": {
        "colab": {
          "base_uri": "https://localhost:8080/"
        },
        "id": "B_argtzxkbDP",
        "outputId": "cdc1a757-bfa2-4079-a293-16a328f6089d"
      },
      "execution_count": 9,
      "outputs": [
        {
          "output_type": "execute_result",
          "data": {
            "text/plain": [
              "array(['malignant', 'benign'], dtype='<U9')"
            ]
          },
          "metadata": {},
          "execution_count": 9
        }
      ]
    },
    {
      "cell_type": "code",
      "source": [
        "# there are also 569 corresponding targets- legnth of x equals length of y\n",
        "data.target.shape"
      ],
      "metadata": {
        "colab": {
          "base_uri": "https://localhost:8080/"
        },
        "id": "GkmmeR_5krz-",
        "outputId": "72353b37-a89a-461f-ae00-9ad30d458220"
      },
      "execution_count": 10,
      "outputs": [
        {
          "output_type": "execute_result",
          "data": {
            "text/plain": [
              "(569,)"
            ]
          },
          "metadata": {},
          "execution_count": 10
        }
      ]
    },
    {
      "cell_type": "code",
      "source": [
        "# you can also determine the meaning of each feature\n",
        "data.feature_names"
      ],
      "metadata": {
        "colab": {
          "base_uri": "https://localhost:8080/"
        },
        "id": "42agMObGk9hi",
        "outputId": "80a8e2a9-33db-4fde-b9b6-efa72a611d9d"
      },
      "execution_count": 11,
      "outputs": [
        {
          "output_type": "execute_result",
          "data": {
            "text/plain": [
              "array(['mean radius', 'mean texture', 'mean perimeter', 'mean area',\n",
              "       'mean smoothness', 'mean compactness', 'mean concavity',\n",
              "       'mean concave points', 'mean symmetry', 'mean fractal dimension',\n",
              "       'radius error', 'texture error', 'perimeter error', 'area error',\n",
              "       'smoothness error', 'compactness error', 'concavity error',\n",
              "       'concave points error', 'symmetry error',\n",
              "       'fractal dimension error', 'worst radius', 'worst texture',\n",
              "       'worst perimeter', 'worst area', 'worst smoothness',\n",
              "       'worst compactness', 'worst concavity', 'worst concave points',\n",
              "       'worst symmetry', 'worst fractal dimension'], dtype='<U23')"
            ]
          },
          "metadata": {},
          "execution_count": 11
        }
      ]
    },
    {
      "cell_type": "code",
      "source": [
        "# normally we would put all of our imports at the top\n",
        "# but this lets us tell a story\n",
        "\n",
        "from sklearn.model_selection import train_test_split\n",
        "\n",
        "# split the data into train and test sets\n",
        "# this lets us stimulate how our model will perform in the future\n",
        "\n",
        "X_train, X_test ,  y_train, y_test = train_test_split(data.data,data.target, test_size=0.33)\n",
        "N, D =X_train.shape"
      ],
      "metadata": {
        "id": "VgHCjqnplYsN"
      },
      "execution_count": 12,
      "outputs": []
    },
    {
      "cell_type": "code",
      "source": [
        "# Scale the data\n",
        "# you ll learn why scaling is needed in a later course\n",
        "from sklearn.preprocessing import StandardScaler\n",
        "\n",
        "scaler = StandardScaler()\n",
        "X_train =  scaler.fit_transform(X_train)\n",
        "X_train = scaler.transform(X_train)\n"
      ],
      "metadata": {
        "id": "GRqIiHzEmxJi"
      },
      "execution_count": 13,
      "outputs": []
    },
    {
      "cell_type": "code",
      "source": [
        "import tensorflow as tf\n",
        "\n",
        "# Define the model\n",
        "model = tf.keras.models.Sequential([\n",
        "    tf.keras.layers.Input(shape=(D,)),\n",
        "    tf.keras.layers.Dense(1, activation='sigmoid')\n",
        "])\n",
        "\n",
        "# Alternatively, you can do:\n",
        "# model = tf.keras.models.Sequential()\n",
        "# model.add(tf.keras.layers.Dense(1, input_shape=(D,), activation='sigmoid'))\n",
        "\n",
        "# Compile the model\n",
        "model.compile(optimizer='adam',\n",
        "              loss='binary_crossentropy',\n",
        "              metrics=['accuracy'])\n",
        "\n",
        "# Train the model\n",
        "r = model.fit(X_train, y_train, validation_data=(X_test, y_test), epochs=100)\n",
        "\n",
        "# Evaluate the model - evaluate() returns loss and accuracy\n",
        "print(\"Train score:\", model.evaluate(X_train, y_train))\n",
        "print(\"Test score:\", model.evaluate(X_test, y_test))\n"
      ],
      "metadata": {
        "colab": {
          "base_uri": "https://localhost:8080/"
        },
        "id": "MOfZ8ouotB0C",
        "outputId": "f4719312-e696-4c30-bdd7-116647b3ef0c"
      },
      "execution_count": 14,
      "outputs": [
        {
          "output_type": "stream",
          "name": "stdout",
          "text": [
            "Epoch 1/100\n",
            "12/12 [==============================] - 1s 22ms/step - loss: 52.1008 - accuracy: 0.5381 - val_loss: 262.6773 - val_accuracy: 0.6064\n",
            "Epoch 2/100\n",
            "12/12 [==============================] - 0s 6ms/step - loss: 48.8689 - accuracy: 0.5433 - val_loss: 259.6156 - val_accuracy: 0.6064\n",
            "Epoch 3/100\n",
            "12/12 [==============================] - 0s 6ms/step - loss: 45.7431 - accuracy: 0.5459 - val_loss: 257.2950 - val_accuracy: 0.6064\n",
            "Epoch 4/100\n",
            "12/12 [==============================] - 0s 6ms/step - loss: 42.8820 - accuracy: 0.5564 - val_loss: 253.3150 - val_accuracy: 0.6064\n",
            "Epoch 5/100\n",
            "12/12 [==============================] - 0s 6ms/step - loss: 39.8974 - accuracy: 0.5696 - val_loss: 249.6882 - val_accuracy: 0.6064\n",
            "Epoch 6/100\n",
            "12/12 [==============================] - 0s 4ms/step - loss: 36.9771 - accuracy: 0.5748 - val_loss: 245.6872 - val_accuracy: 0.6064\n",
            "Epoch 7/100\n",
            "12/12 [==============================] - 0s 4ms/step - loss: 34.2624 - accuracy: 0.5801 - val_loss: 242.8504 - val_accuracy: 0.6064\n",
            "Epoch 8/100\n",
            "12/12 [==============================] - 0s 6ms/step - loss: 31.6827 - accuracy: 0.5774 - val_loss: 239.8811 - val_accuracy: 0.6064\n",
            "Epoch 9/100\n",
            "12/12 [==============================] - 0s 6ms/step - loss: 29.3762 - accuracy: 0.5853 - val_loss: 235.9692 - val_accuracy: 0.6064\n",
            "Epoch 10/100\n",
            "12/12 [==============================] - 0s 5ms/step - loss: 26.8511 - accuracy: 0.5932 - val_loss: 232.9237 - val_accuracy: 0.6064\n",
            "Epoch 11/100\n",
            "12/12 [==============================] - 0s 7ms/step - loss: 24.4385 - accuracy: 0.6089 - val_loss: 228.5339 - val_accuracy: 0.6064\n",
            "Epoch 12/100\n",
            "12/12 [==============================] - 0s 5ms/step - loss: 22.2729 - accuracy: 0.6168 - val_loss: 223.1202 - val_accuracy: 0.6064\n",
            "Epoch 13/100\n",
            "12/12 [==============================] - 0s 6ms/step - loss: 20.0845 - accuracy: 0.6220 - val_loss: 217.0496 - val_accuracy: 0.6064\n",
            "Epoch 14/100\n",
            "12/12 [==============================] - 0s 5ms/step - loss: 18.1888 - accuracy: 0.6430 - val_loss: 211.5109 - val_accuracy: 0.6064\n",
            "Epoch 15/100\n",
            "12/12 [==============================] - 0s 6ms/step - loss: 16.1927 - accuracy: 0.6745 - val_loss: 205.6254 - val_accuracy: 0.6064\n",
            "Epoch 16/100\n",
            "12/12 [==============================] - 0s 6ms/step - loss: 14.4517 - accuracy: 0.6824 - val_loss: 202.6488 - val_accuracy: 0.6064\n",
            "Epoch 17/100\n",
            "12/12 [==============================] - 0s 6ms/step - loss: 13.0404 - accuracy: 0.7008 - val_loss: 196.8976 - val_accuracy: 0.6064\n",
            "Epoch 18/100\n",
            "12/12 [==============================] - 0s 6ms/step - loss: 11.9037 - accuracy: 0.7113 - val_loss: 190.7624 - val_accuracy: 0.6064\n",
            "Epoch 19/100\n",
            "12/12 [==============================] - 0s 6ms/step - loss: 10.7417 - accuracy: 0.7323 - val_loss: 184.9935 - val_accuracy: 0.6064\n",
            "Epoch 20/100\n",
            "12/12 [==============================] - 0s 6ms/step - loss: 9.6948 - accuracy: 0.7428 - val_loss: 179.0307 - val_accuracy: 0.6064\n",
            "Epoch 21/100\n",
            "12/12 [==============================] - 0s 4ms/step - loss: 8.7102 - accuracy: 0.7480 - val_loss: 173.7341 - val_accuracy: 0.6064\n",
            "Epoch 22/100\n",
            "12/12 [==============================] - 0s 5ms/step - loss: 7.8076 - accuracy: 0.7559 - val_loss: 168.9281 - val_accuracy: 0.6064\n",
            "Epoch 23/100\n",
            "12/12 [==============================] - 0s 6ms/step - loss: 7.0325 - accuracy: 0.7769 - val_loss: 162.9431 - val_accuracy: 0.6064\n",
            "Epoch 24/100\n",
            "12/12 [==============================] - 0s 6ms/step - loss: 6.3695 - accuracy: 0.7927 - val_loss: 156.8395 - val_accuracy: 0.6064\n",
            "Epoch 25/100\n",
            "12/12 [==============================] - 0s 6ms/step - loss: 5.7926 - accuracy: 0.7953 - val_loss: 153.1511 - val_accuracy: 0.6064\n",
            "Epoch 26/100\n",
            "12/12 [==============================] - 0s 5ms/step - loss: 5.2765 - accuracy: 0.8031 - val_loss: 147.8894 - val_accuracy: 0.6064\n",
            "Epoch 27/100\n",
            "12/12 [==============================] - 0s 6ms/step - loss: 4.8340 - accuracy: 0.8136 - val_loss: 144.2217 - val_accuracy: 0.6064\n",
            "Epoch 28/100\n",
            "12/12 [==============================] - 0s 4ms/step - loss: 4.4158 - accuracy: 0.8215 - val_loss: 142.2531 - val_accuracy: 0.6064\n",
            "Epoch 29/100\n",
            "12/12 [==============================] - 0s 6ms/step - loss: 4.1340 - accuracy: 0.8268 - val_loss: 138.3185 - val_accuracy: 0.6064\n",
            "Epoch 30/100\n",
            "12/12 [==============================] - 0s 4ms/step - loss: 3.7948 - accuracy: 0.8373 - val_loss: 135.7544 - val_accuracy: 0.6064\n",
            "Epoch 31/100\n",
            "12/12 [==============================] - 0s 6ms/step - loss: 3.5655 - accuracy: 0.8451 - val_loss: 133.1413 - val_accuracy: 0.6064\n",
            "Epoch 32/100\n",
            "12/12 [==============================] - 0s 6ms/step - loss: 3.2855 - accuracy: 0.8504 - val_loss: 129.8791 - val_accuracy: 0.6064\n",
            "Epoch 33/100\n",
            "12/12 [==============================] - 0s 6ms/step - loss: 3.0899 - accuracy: 0.8583 - val_loss: 127.2619 - val_accuracy: 0.6064\n",
            "Epoch 34/100\n",
            "12/12 [==============================] - 0s 8ms/step - loss: 2.8757 - accuracy: 0.8661 - val_loss: 124.9922 - val_accuracy: 0.6064\n",
            "Epoch 35/100\n",
            "12/12 [==============================] - 0s 6ms/step - loss: 2.7118 - accuracy: 0.8714 - val_loss: 120.9249 - val_accuracy: 0.6064\n",
            "Epoch 36/100\n",
            "12/12 [==============================] - 0s 6ms/step - loss: 2.5475 - accuracy: 0.8714 - val_loss: 118.2515 - val_accuracy: 0.6064\n",
            "Epoch 37/100\n",
            "12/12 [==============================] - 0s 7ms/step - loss: 2.4283 - accuracy: 0.8740 - val_loss: 114.5196 - val_accuracy: 0.6064\n",
            "Epoch 38/100\n",
            "12/12 [==============================] - 0s 10ms/step - loss: 2.2885 - accuracy: 0.8793 - val_loss: 110.0923 - val_accuracy: 0.6064\n",
            "Epoch 39/100\n",
            "12/12 [==============================] - 0s 14ms/step - loss: 2.1824 - accuracy: 0.8845 - val_loss: 108.3982 - val_accuracy: 0.6064\n",
            "Epoch 40/100\n",
            "12/12 [==============================] - 0s 13ms/step - loss: 2.0783 - accuracy: 0.8845 - val_loss: 105.1157 - val_accuracy: 0.6064\n",
            "Epoch 41/100\n",
            "12/12 [==============================] - 0s 7ms/step - loss: 2.0136 - accuracy: 0.8898 - val_loss: 103.6487 - val_accuracy: 0.6064\n",
            "Epoch 42/100\n",
            "12/12 [==============================] - 0s 8ms/step - loss: 1.9139 - accuracy: 0.8898 - val_loss: 101.2252 - val_accuracy: 0.6064\n",
            "Epoch 43/100\n",
            "12/12 [==============================] - 0s 12ms/step - loss: 1.8368 - accuracy: 0.8950 - val_loss: 98.1265 - val_accuracy: 0.6064\n",
            "Epoch 44/100\n",
            "12/12 [==============================] - 0s 9ms/step - loss: 1.7465 - accuracy: 0.8976 - val_loss: 93.8158 - val_accuracy: 0.6064\n",
            "Epoch 45/100\n",
            "12/12 [==============================] - 0s 12ms/step - loss: 1.6885 - accuracy: 0.9003 - val_loss: 91.2306 - val_accuracy: 0.6064\n",
            "Epoch 46/100\n",
            "12/12 [==============================] - 0s 14ms/step - loss: 1.6154 - accuracy: 0.9055 - val_loss: 88.4518 - val_accuracy: 0.6064\n",
            "Epoch 47/100\n",
            "12/12 [==============================] - 0s 10ms/step - loss: 1.5511 - accuracy: 0.9055 - val_loss: 85.4159 - val_accuracy: 0.6064\n",
            "Epoch 48/100\n",
            "12/12 [==============================] - 0s 8ms/step - loss: 1.5022 - accuracy: 0.9108 - val_loss: 83.1796 - val_accuracy: 0.6064\n",
            "Epoch 49/100\n",
            "12/12 [==============================] - 0s 8ms/step - loss: 1.4532 - accuracy: 0.9160 - val_loss: 80.3289 - val_accuracy: 0.6064\n",
            "Epoch 50/100\n",
            "12/12 [==============================] - 0s 8ms/step - loss: 1.4204 - accuracy: 0.9160 - val_loss: 78.6925 - val_accuracy: 0.6064\n",
            "Epoch 51/100\n",
            "12/12 [==============================] - 0s 7ms/step - loss: 1.3922 - accuracy: 0.9186 - val_loss: 76.5406 - val_accuracy: 0.6064\n",
            "Epoch 52/100\n",
            "12/12 [==============================] - 0s 7ms/step - loss: 1.3573 - accuracy: 0.9213 - val_loss: 74.4336 - val_accuracy: 0.6064\n",
            "Epoch 53/100\n",
            "12/12 [==============================] - 0s 7ms/step - loss: 1.3371 - accuracy: 0.9186 - val_loss: 71.5890 - val_accuracy: 0.6064\n",
            "Epoch 54/100\n",
            "12/12 [==============================] - 0s 12ms/step - loss: 1.2992 - accuracy: 0.9213 - val_loss: 69.2490 - val_accuracy: 0.6064\n",
            "Epoch 55/100\n",
            "12/12 [==============================] - 0s 8ms/step - loss: 1.2721 - accuracy: 0.9213 - val_loss: 66.5135 - val_accuracy: 0.6064\n",
            "Epoch 56/100\n",
            "12/12 [==============================] - 0s 9ms/step - loss: 1.2448 - accuracy: 0.9239 - val_loss: 64.2269 - val_accuracy: 0.6064\n",
            "Epoch 57/100\n",
            "12/12 [==============================] - 0s 14ms/step - loss: 1.2280 - accuracy: 0.9213 - val_loss: 61.4634 - val_accuracy: 0.6064\n",
            "Epoch 58/100\n",
            "12/12 [==============================] - 0s 8ms/step - loss: 1.1961 - accuracy: 0.9213 - val_loss: 59.0819 - val_accuracy: 0.6064\n",
            "Epoch 59/100\n",
            "12/12 [==============================] - 0s 8ms/step - loss: 1.1772 - accuracy: 0.9239 - val_loss: 57.5618 - val_accuracy: 0.6064\n",
            "Epoch 60/100\n",
            "12/12 [==============================] - 0s 7ms/step - loss: 1.1560 - accuracy: 0.9239 - val_loss: 54.8512 - val_accuracy: 0.6064\n",
            "Epoch 61/100\n",
            "12/12 [==============================] - 0s 8ms/step - loss: 1.1397 - accuracy: 0.9239 - val_loss: 52.6794 - val_accuracy: 0.6064\n",
            "Epoch 62/100\n",
            "12/12 [==============================] - 0s 8ms/step - loss: 1.1214 - accuracy: 0.9213 - val_loss: 51.4837 - val_accuracy: 0.6064\n",
            "Epoch 63/100\n",
            "12/12 [==============================] - 0s 8ms/step - loss: 1.1017 - accuracy: 0.9239 - val_loss: 50.2195 - val_accuracy: 0.6064\n",
            "Epoch 64/100\n",
            "12/12 [==============================] - 0s 8ms/step - loss: 1.0849 - accuracy: 0.9239 - val_loss: 49.1157 - val_accuracy: 0.6064\n",
            "Epoch 65/100\n",
            "12/12 [==============================] - 0s 7ms/step - loss: 1.0777 - accuracy: 0.9265 - val_loss: 47.1986 - val_accuracy: 0.6064\n",
            "Epoch 66/100\n",
            "12/12 [==============================] - 0s 7ms/step - loss: 1.0559 - accuracy: 0.9239 - val_loss: 46.6244 - val_accuracy: 0.6064\n",
            "Epoch 67/100\n",
            "12/12 [==============================] - 0s 10ms/step - loss: 1.0461 - accuracy: 0.9239 - val_loss: 46.0929 - val_accuracy: 0.6064\n",
            "Epoch 68/100\n",
            "12/12 [==============================] - 0s 7ms/step - loss: 1.0319 - accuracy: 0.9239 - val_loss: 44.9781 - val_accuracy: 0.6064\n",
            "Epoch 69/100\n",
            "12/12 [==============================] - 0s 7ms/step - loss: 1.0123 - accuracy: 0.9239 - val_loss: 44.2689 - val_accuracy: 0.6064\n",
            "Epoch 70/100\n",
            "12/12 [==============================] - 0s 7ms/step - loss: 1.0034 - accuracy: 0.9239 - val_loss: 43.0690 - val_accuracy: 0.6064\n",
            "Epoch 71/100\n",
            "12/12 [==============================] - 0s 8ms/step - loss: 0.9881 - accuracy: 0.9239 - val_loss: 42.5629 - val_accuracy: 0.6064\n",
            "Epoch 72/100\n",
            "12/12 [==============================] - 0s 7ms/step - loss: 0.9805 - accuracy: 0.9239 - val_loss: 42.3813 - val_accuracy: 0.6064\n",
            "Epoch 73/100\n",
            "12/12 [==============================] - 0s 6ms/step - loss: 0.9844 - accuracy: 0.9239 - val_loss: 41.8858 - val_accuracy: 0.6064\n",
            "Epoch 74/100\n",
            "12/12 [==============================] - 0s 5ms/step - loss: 0.9518 - accuracy: 0.9239 - val_loss: 40.8941 - val_accuracy: 0.6064\n",
            "Epoch 75/100\n",
            "12/12 [==============================] - 0s 5ms/step - loss: 0.9333 - accuracy: 0.9265 - val_loss: 41.3617 - val_accuracy: 0.6064\n",
            "Epoch 76/100\n",
            "12/12 [==============================] - 0s 6ms/step - loss: 0.9238 - accuracy: 0.9265 - val_loss: 42.0540 - val_accuracy: 0.6064\n",
            "Epoch 77/100\n",
            "12/12 [==============================] - 0s 7ms/step - loss: 0.9235 - accuracy: 0.9318 - val_loss: 41.8023 - val_accuracy: 0.6064\n",
            "Epoch 78/100\n",
            "12/12 [==============================] - 0s 7ms/step - loss: 0.8994 - accuracy: 0.9318 - val_loss: 41.0695 - val_accuracy: 0.6064\n",
            "Epoch 79/100\n",
            "12/12 [==============================] - 0s 7ms/step - loss: 0.9007 - accuracy: 0.9265 - val_loss: 40.1118 - val_accuracy: 0.6064\n",
            "Epoch 80/100\n",
            "12/12 [==============================] - 0s 8ms/step - loss: 0.8810 - accuracy: 0.9318 - val_loss: 40.4665 - val_accuracy: 0.6064\n",
            "Epoch 81/100\n",
            "12/12 [==============================] - 0s 7ms/step - loss: 0.8620 - accuracy: 0.9291 - val_loss: 41.1416 - val_accuracy: 0.6064\n",
            "Epoch 82/100\n",
            "12/12 [==============================] - 0s 8ms/step - loss: 0.8617 - accuracy: 0.9318 - val_loss: 41.6572 - val_accuracy: 0.6064\n",
            "Epoch 83/100\n",
            "12/12 [==============================] - 0s 7ms/step - loss: 0.8459 - accuracy: 0.9344 - val_loss: 42.1640 - val_accuracy: 0.6064\n",
            "Epoch 84/100\n",
            "12/12 [==============================] - 0s 8ms/step - loss: 0.8327 - accuracy: 0.9370 - val_loss: 42.2672 - val_accuracy: 0.6064\n",
            "Epoch 85/100\n",
            "12/12 [==============================] - 0s 7ms/step - loss: 0.8263 - accuracy: 0.9344 - val_loss: 42.4918 - val_accuracy: 0.6064\n",
            "Epoch 86/100\n",
            "12/12 [==============================] - 0s 9ms/step - loss: 0.8189 - accuracy: 0.9344 - val_loss: 41.8871 - val_accuracy: 0.6064\n",
            "Epoch 87/100\n",
            "12/12 [==============================] - 0s 8ms/step - loss: 0.8134 - accuracy: 0.9396 - val_loss: 42.4379 - val_accuracy: 0.6064\n",
            "Epoch 88/100\n",
            "12/12 [==============================] - 0s 10ms/step - loss: 0.8039 - accuracy: 0.9423 - val_loss: 41.9884 - val_accuracy: 0.6064\n",
            "Epoch 89/100\n",
            "12/12 [==============================] - 0s 9ms/step - loss: 0.7980 - accuracy: 0.9449 - val_loss: 42.6088 - val_accuracy: 0.6064\n",
            "Epoch 90/100\n",
            "12/12 [==============================] - 0s 8ms/step - loss: 0.7993 - accuracy: 0.9449 - val_loss: 42.9763 - val_accuracy: 0.6064\n",
            "Epoch 91/100\n",
            "12/12 [==============================] - 0s 8ms/step - loss: 0.7857 - accuracy: 0.9423 - val_loss: 44.4444 - val_accuracy: 0.6064\n",
            "Epoch 92/100\n",
            "12/12 [==============================] - 0s 12ms/step - loss: 0.7822 - accuracy: 0.9423 - val_loss: 43.2633 - val_accuracy: 0.6064\n",
            "Epoch 93/100\n",
            "12/12 [==============================] - 0s 9ms/step - loss: 0.7824 - accuracy: 0.9396 - val_loss: 44.1534 - val_accuracy: 0.6064\n",
            "Epoch 94/100\n",
            "12/12 [==============================] - 0s 8ms/step - loss: 0.7685 - accuracy: 0.9423 - val_loss: 44.1739 - val_accuracy: 0.6064\n",
            "Epoch 95/100\n",
            "12/12 [==============================] - 0s 9ms/step - loss: 0.7634 - accuracy: 0.9449 - val_loss: 44.5608 - val_accuracy: 0.6064\n",
            "Epoch 96/100\n",
            "12/12 [==============================] - 0s 8ms/step - loss: 0.7590 - accuracy: 0.9449 - val_loss: 44.5099 - val_accuracy: 0.6064\n",
            "Epoch 97/100\n",
            "12/12 [==============================] - 0s 11ms/step - loss: 0.7515 - accuracy: 0.9475 - val_loss: 45.4571 - val_accuracy: 0.6064\n",
            "Epoch 98/100\n",
            "12/12 [==============================] - 0s 11ms/step - loss: 0.7466 - accuracy: 0.9449 - val_loss: 45.9790 - val_accuracy: 0.6064\n",
            "Epoch 99/100\n",
            "12/12 [==============================] - 0s 8ms/step - loss: 0.7403 - accuracy: 0.9449 - val_loss: 46.2856 - val_accuracy: 0.6064\n",
            "Epoch 100/100\n",
            "12/12 [==============================] - 0s 9ms/step - loss: 0.7378 - accuracy: 0.9475 - val_loss: 47.4663 - val_accuracy: 0.6064\n",
            "12/12 [==============================] - 0s 2ms/step - loss: 0.7305 - accuracy: 0.9475\n",
            "Train score: [0.7305248975753784, 0.9475065469741821]\n",
            "6/6 [==============================] - 0s 3ms/step - loss: 47.4663 - accuracy: 0.6064\n",
            "Test score: [47.46630859375, 0.6063829660415649]\n"
          ]
        }
      ]
    },
    {
      "cell_type": "code",
      "source": [
        "# Plot what's returned by model.fit()\n",
        "import matplotlib.pyplot as plt\n",
        "plt.plot(r.history['accuracy'], label='acc')\n",
        "plt.plot(r.history['val_accuracy'], label='val_loss')\n",
        "plt.legend()"
      ],
      "metadata": {
        "colab": {
          "base_uri": "https://localhost:8080/",
          "height": 447
        },
        "id": "8ebcIz12tan5",
        "outputId": "53db9af6-1d65-4ef0-f50f-5b439661b4d9"
      },
      "execution_count": 15,
      "outputs": [
        {
          "output_type": "execute_result",
          "data": {
            "text/plain": [
              "<matplotlib.legend.Legend at 0x7d183470fd60>"
            ]
          },
          "metadata": {},
          "execution_count": 15
        },
        {
          "output_type": "display_data",
          "data": {
            "text/plain": [
              "<Figure size 640x480 with 1 Axes>"
            ],
            "image/png": "[encoded data removed]"
          },
          "metadata": {}
        }
      ]
    },
    {
      "cell_type": "code",
      "source": [
        "# Plot the accuracy too\n",
        "plt.plot(r.history['accuracy'], label='acc')\n",
        "plt.plot(r.history['val_accuracy'], label='val_acc')\n",
        "plt.legend()"
      ],
      "metadata": {
        "colab": {
          "base_uri": "https://localhost:8080/",
          "height": 447
        },
        "id": "ntH1R_GVuqqp",
        "outputId": "989b7479-f3f5-43b1-dc28-8e7b6f92bb60"
      },
      "execution_count": 16,
      "outputs": [
        {
          "output_type": "execute_result",
          "data": {
            "text/plain": [
              "<matplotlib.legend.Legend at 0x7d1846b5a500>"
            ]
          },
          "metadata": {},
          "execution_count": 16
        },
        {
          "output_type": "display_data",
          "data": {
            "text/plain": [
              "<Figure size 640x480 with 1 Axes>"
            ],
            "image/png": "[encoded data removed]"
          },
          "metadata": {}
        }
      ]
    },
    {
      "cell_type": "markdown",
      "source": [
        "#Part 2: Making Predictions"
      ],
      "metadata": {
        "id": "kLU-vEYNMiDe"
      }
    },
    {
      "cell_type": "code",
      "source": [
        "# Make predictions\n",
        "P = model.predict(X_test)\n",
        "print(P) # they are outputs of the sigmoid, interpreted as probabilities p(y = 1/ x)"
      ],
      "metadata": {
        "colab": {
          "base_uri": "https://localhost:8080/"
        },
        "id": "aT_9WoNXMmhW",
        "outputId": "6596351a-6a0e-4723-d8ae-be4a8d2c85d7"
      },
      "execution_count": 17,
      "outputs": [
        {
          "output_type": "stream",
          "name": "stdout",
          "text": [
            "6/6 [==============================] - 0s 2ms/step\n",
            "[[1.        ]\n",
            " [0.9999947 ]\n",
            " [1.        ]\n",
            " [1.        ]\n",
            " [1.        ]\n",
            " [1.        ]\n",
            " [1.        ]\n",
            " [1.        ]\n",
            " [1.        ]\n",
            " [1.        ]\n",
            " [1.        ]\n",
            " [1.        ]\n",
            " [1.        ]\n",
            " [1.        ]\n",
            " [1.        ]\n",
            " [1.        ]\n",
            " [1.        ]\n",
            " [1.        ]\n",
            " [1.        ]\n",
            " [1.        ]\n",
            " [1.        ]\n",
            " [1.        ]\n",
            " [1.        ]\n",
            " [1.        ]\n",
            " [1.        ]\n",
            " [1.        ]\n",
            " [1.        ]\n",
            " [1.        ]\n",
            " [1.        ]\n",
            " [1.        ]\n",
            " [1.        ]\n",
            " [1.        ]\n",
            " [1.        ]\n",
            " [1.        ]\n",
            " [1.        ]\n",
            " [1.        ]\n",
            " [1.        ]\n",
            " [1.        ]\n",
            " [1.        ]\n",
            " [1.        ]\n",
            " [1.        ]\n",
            " [1.        ]\n",
            " [1.        ]\n",
            " [1.        ]\n",
            " [1.        ]\n",
            " [0.99994   ]\n",
            " [1.        ]\n",
            " [0.99992263]\n",
            " [1.        ]\n",
            " [1.        ]\n",
            " [1.        ]\n",
            " [1.        ]\n",
            " [1.        ]\n",
            " [1.        ]\n",
            " [1.        ]\n",
            " [1.        ]\n",
            " [1.        ]\n",
            " [0.9998678 ]\n",
            " [1.        ]\n",
            " [1.        ]\n",
            " [0.9979476 ]\n",
            " [1.        ]\n",
            " [1.        ]\n",
            " [1.        ]\n",
            " [1.        ]\n",
            " [1.        ]\n",
            " [1.        ]\n",
            " [1.        ]\n",
            " [1.        ]\n",
            " [1.        ]\n",
            " [1.        ]\n",
            " [1.        ]\n",
            " [0.9999999 ]\n",
            " [1.        ]\n",
            " [1.        ]\n",
            " [1.        ]\n",
            " [1.        ]\n",
            " [1.        ]\n",
            " [1.        ]\n",
            " [1.        ]\n",
            " [1.        ]\n",
            " [1.        ]\n",
            " [1.        ]\n",
            " [0.9999999 ]\n",
            " [1.        ]\n",
            " [1.        ]\n",
            " [1.        ]\n",
            " [1.        ]\n",
            " [1.        ]\n",
            " [1.        ]\n",
            " [1.        ]\n",
            " [1.        ]\n",
            " [1.        ]\n",
            " [1.        ]\n",
            " [1.        ]\n",
            " [1.        ]\n",
            " [1.        ]\n",
            " [1.        ]\n",
            " [0.9999999 ]\n",
            " [1.        ]\n",
            " [1.        ]\n",
            " [1.        ]\n",
            " [0.9999926 ]\n",
            " [1.        ]\n",
            " [1.        ]\n",
            " [1.        ]\n",
            " [1.        ]\n",
            " [1.        ]\n",
            " [1.        ]\n",
            " [1.        ]\n",
            " [1.        ]\n",
            " [1.        ]\n",
            " [1.        ]\n",
            " [1.        ]\n",
            " [1.        ]\n",
            " [1.        ]\n",
            " [1.        ]\n",
            " [1.        ]\n",
            " [1.        ]\n",
            " [1.        ]\n",
            " [1.        ]\n",
            " [1.        ]\n",
            " [1.        ]\n",
            " [1.        ]\n",
            " [1.        ]\n",
            " [1.        ]\n",
            " [1.        ]\n",
            " [1.        ]\n",
            " [1.        ]\n",
            " [1.        ]\n",
            " [1.        ]\n",
            " [1.        ]\n",
            " [1.        ]\n",
            " [1.        ]\n",
            " [1.        ]\n",
            " [1.        ]\n",
            " [1.        ]\n",
            " [1.        ]\n",
            " [1.        ]\n",
            " [1.        ]\n",
            " [1.        ]\n",
            " [1.        ]\n",
            " [1.        ]\n",
            " [1.        ]\n",
            " [1.        ]\n",
            " [1.        ]\n",
            " [1.        ]\n",
            " [1.        ]\n",
            " [1.        ]\n",
            " [1.        ]\n",
            " [1.        ]\n",
            " [1.        ]\n",
            " [1.        ]\n",
            " [1.        ]\n",
            " [1.        ]\n",
            " [1.        ]\n",
            " [1.        ]\n",
            " [1.        ]\n",
            " [1.        ]\n",
            " [1.        ]\n",
            " [1.        ]\n",
            " [0.99999994]\n",
            " [1.        ]\n",
            " [1.        ]\n",
            " [1.        ]\n",
            " [0.999889  ]\n",
            " [1.        ]\n",
            " [1.        ]\n",
            " [1.        ]\n",
            " [1.        ]\n",
            " [1.        ]\n",
            " [1.        ]\n",
            " [1.        ]\n",
            " [1.        ]\n",
            " [1.        ]\n",
            " [1.        ]\n",
            " [1.        ]\n",
            " [1.        ]\n",
            " [1.        ]\n",
            " [1.        ]\n",
            " [1.        ]\n",
            " [1.        ]\n",
            " [1.        ]\n",
            " [1.        ]\n",
            " [1.        ]\n",
            " [1.        ]\n",
            " [1.        ]\n",
            " [1.        ]]\n"
          ]
        }
      ]
    },
    {
      "cell_type": "code",
      "source": [
        "# Round to get the actual predictions\n",
        "# Note : has to be flattened since the targets are size (N,) while the predictions are size (N, 1)\n",
        "import numpy as np\n",
        "P = np.round(P).flatten()\n",
        "print(P)"
      ],
      "metadata": {
        "id": "qo4pohBnvkAQ",
        "colab": {
          "base_uri": "https://localhost:8080/"
        },
        "outputId": "9ace7a34-1f70-47cb-c1b8-e60b0501de1d"
      },
      "execution_count": 19,
      "outputs": [
        {
          "output_type": "stream",
          "name": "stdout",
          "text": [
            "[1. 1. 1. 1. 1. 1. 1. 1. 1. 1. 1. 1. 1. 1. 1. 1. 1. 1. 1. 1. 1. 1. 1. 1.\n",
            " 1. 1. 1. 1. 1. 1. 1. 1. 1. 1. 1. 1. 1. 1. 1. 1. 1. 1. 1. 1. 1. 1. 1. 1.\n",
            " 1. 1. 1. 1. 1. 1. 1. 1. 1. 1. 1. 1. 1. 1. 1. 1. 1. 1. 1. 1. 1. 1. 1. 1.\n",
            " 1. 1. 1. 1. 1. 1. 1. 1. 1. 1. 1. 1. 1. 1. 1. 1. 1. 1. 1. 1. 1. 1. 1. 1.\n",
            " 1. 1. 1. 1. 1. 1. 1. 1. 1. 1. 1. 1. 1. 1. 1. 1. 1. 1. 1. 1. 1. 1. 1. 1.\n",
            " 1. 1. 1. 1. 1. 1. 1. 1. 1. 1. 1. 1. 1. 1. 1. 1. 1. 1. 1. 1. 1. 1. 1. 1.\n",
            " 1. 1. 1. 1. 1. 1. 1. 1. 1. 1. 1. 1. 1. 1. 1. 1. 1. 1. 1. 1. 1. 1. 1. 1.\n",
            " 1. 1. 1. 1. 1. 1. 1. 1. 1. 1. 1. 1. 1. 1. 1. 1. 1. 1. 1. 1.]\n"
          ]
        }
      ]
    },
    {
      "cell_type": "code",
      "source": [
        "# Calculate the accuracy, compre it to evaluate() output\n",
        "print('Manually calculated accuracy:', np.mean(P == y_test))\n",
        "print('Evaluate output:', model.evaluate(X_test,y_test))"
      ],
      "metadata": {
        "colab": {
          "base_uri": "https://localhost:8080/"
        },
        "id": "8FkR5sfoMTI3",
        "outputId": "3517e3d6-1b80-4023-ba33-d25a0799ec13"
      },
      "execution_count": 20,
      "outputs": [
        {
          "output_type": "stream",
          "name": "stdout",
          "text": [
            "manually calculated accuracy: 0.6063829787234043\n",
            "6/6 [==============================] - 0s 2ms/step - loss: 47.4663 - accuracy: 0.6064\n",
            "Evaluate output: [47.46630859375, 0.6063829660415649]\n"
          ]
        }
      ]
    }
  ]
}