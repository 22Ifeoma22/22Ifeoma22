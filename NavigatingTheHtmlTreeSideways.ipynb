{
  "nbformat": 4,
  "nbformat_minor": 0,
  "metadata": {
    "colab": {
      "provenance": [],
      "authorship_tag": "ABX9TyMzATz6FjmC3FohUZQbTrno",
      "include_colab_link": true
    },
    "kernelspec": {
      "name": "python3",
      "display_name": "Python 3"
    },
    "language_info": {
      "name": "python"
    }
  },
  "cells": [
    {
      "cell_type": "markdown",
      "metadata": {
        "id": "view-in-github",
        "colab_type": "text"
      },
      "source": [
        "<a href=\"https://colab.research.google.com/github/22Ifeoma22/22Ifeoma22/blob/main/NavigatingTheHtmlTreeSideways.ipynb\" target=\"_parent\"><img src=\"https://colab.research.google.com/assets/colab-badge.svg\" alt=\"Open In Colab\"/></a>"
      ]
    },
    {
      "cell_type": "code",
      "execution_count": 1,
      "metadata": {
        "id": "OAINFWWK2LXw"
      },
      "outputs": [],
      "source": [
        "import webbrowser\n",
        "from bs4 import BeautifulSoup"
      ]
    },
    {
      "cell_type": "code",
      "source": [
        "with open('/content/sample_data/Tom_Jerry.html') as html_code:\n",
        "  soup = BeautifulSoup(html_code, 'lxml')"
      ],
      "metadata": {
        "id": "vrm-zt824zBQ"
      },
      "execution_count": 3,
      "outputs": []
    },
    {
      "cell_type": "code",
      "source": [
        "soup"
      ],
      "metadata": {
        "colab": {
          "base_uri": "https://localhost:8080/"
        },
        "id": "IhgfvopP5M1D",
        "outputId": "ecba74cb-e2df-4cf3-fa6a-82a725aff0b1"
      },
      "execution_count": 4,
      "outputs": [
        {
          "output_type": "execute_result",
          "data": {
            "text/plain": [
              "<html><body><a><b>Tom</b><i>Jerry</i><c>iconic pair</c></a></body></html>"
            ]
          },
          "metadata": {},
          "execution_count": 4
        }
      ]
    },
    {
      "cell_type": "code",
      "source": [
        "print(soup.prettify())"
      ],
      "metadata": {
        "colab": {
          "base_uri": "https://localhost:8080/"
        },
        "id": "mjpjMVrO5OYG",
        "outputId": "0bbfefc3-9f9c-4511-dbbd-9ecc9ec96df2"
      },
      "execution_count": 7,
      "outputs": [
        {
          "output_type": "stream",
          "name": "stdout",
          "text": [
            "<html>\n",
            " <body>\n",
            "  <a>\n",
            "   <b>\n",
            "    Tom\n",
            "   </b>\n",
            "   <i>\n",
            "    Jerry\n",
            "   </i>\n",
            "   <c>\n",
            "    iconic pair\n",
            "   </c>\n",
            "  </a>\n",
            " </body>\n",
            "</html>\n",
            "\n"
          ]
        }
      ]
    },
    {
      "cell_type": "code",
      "source": [
        "print(soup.a.next_sibling)"
      ],
      "metadata": {
        "colab": {
          "base_uri": "https://localhost:8080/"
        },
        "id": "8CewbBtG5gzG",
        "outputId": "32bab0ca-fc32-497d-e284-cd40c912c4fc"
      },
      "execution_count": 8,
      "outputs": [
        {
          "output_type": "stream",
          "name": "stdout",
          "text": [
            "None\n"
          ]
        }
      ]
    },
    {
      "cell_type": "code",
      "source": [
        "soup.b"
      ],
      "metadata": {
        "colab": {
          "base_uri": "https://localhost:8080/"
        },
        "id": "cNK2WROA5rgR",
        "outputId": "3b73275f-4475-4707-bf77-42fcb65c7c2a"
      },
      "execution_count": 9,
      "outputs": [
        {
          "output_type": "execute_result",
          "data": {
            "text/plain": [
              "<b>Tom</b>"
            ]
          },
          "metadata": {},
          "execution_count": 9
        }
      ]
    },
    {
      "cell_type": "code",
      "source": [
        "soup.b.next_sibling"
      ],
      "metadata": {
        "colab": {
          "base_uri": "https://localhost:8080/"
        },
        "id": "TV5yfb8b5t19",
        "outputId": "9701707c-6fe0-4736-8dc3-29e35535fb41"
      },
      "execution_count": 10,
      "outputs": [
        {
          "output_type": "execute_result",
          "data": {
            "text/plain": [
              "<i>Jerry</i>"
            ]
          },
          "metadata": {},
          "execution_count": 10
        }
      ]
    },
    {
      "cell_type": "code",
      "source": [
        "soup.b.next_sibling.next_sibling"
      ],
      "metadata": {
        "colab": {
          "base_uri": "https://localhost:8080/"
        },
        "id": "A6pQDHq8501Y",
        "outputId": "2d0c1b6c-0bf8-40ed-9676-9e546ae84351"
      },
      "execution_count": 11,
      "outputs": [
        {
          "output_type": "execute_result",
          "data": {
            "text/plain": [
              "<c>iconic pair</c>"
            ]
          },
          "metadata": {},
          "execution_count": 11
        }
      ]
    },
    {
      "cell_type": "code",
      "source": [
        "soup.c"
      ],
      "metadata": {
        "colab": {
          "base_uri": "https://localhost:8080/"
        },
        "id": "2ztx6DDY59d5",
        "outputId": "f636db64-ebd5-45ba-c558-a48236b573ab"
      },
      "execution_count": 12,
      "outputs": [
        {
          "output_type": "execute_result",
          "data": {
            "text/plain": [
              "<c>iconic pair</c>"
            ]
          },
          "metadata": {},
          "execution_count": 12
        }
      ]
    },
    {
      "cell_type": "code",
      "source": [
        "print(soup.c.next_sibling)"
      ],
      "metadata": {
        "colab": {
          "base_uri": "https://localhost:8080/"
        },
        "id": "A1ISFwDb6AWs",
        "outputId": "98988836-0940-4104-977f-5cfbbac49931"
      },
      "execution_count": 13,
      "outputs": [
        {
          "output_type": "stream",
          "name": "stdout",
          "text": [
            "None\n"
          ]
        }
      ]
    },
    {
      "cell_type": "code",
      "source": [
        "soup.b"
      ],
      "metadata": {
        "colab": {
          "base_uri": "https://localhost:8080/"
        },
        "id": "ARVL3rlQ6Hje",
        "outputId": "7ba1fad3-c113-4738-cc1d-88f54c903d67"
      },
      "execution_count": 14,
      "outputs": [
        {
          "output_type": "execute_result",
          "data": {
            "text/plain": [
              "<b>Tom</b>"
            ]
          },
          "metadata": {},
          "execution_count": 14
        }
      ]
    },
    {
      "cell_type": "code",
      "source": [
        "soup.b.next_sibling"
      ],
      "metadata": {
        "colab": {
          "base_uri": "https://localhost:8080/"
        },
        "id": "xa7K-MQs6JzS",
        "outputId": "65308929-dfb9-4933-9196-e61e1e7ae176"
      },
      "execution_count": 15,
      "outputs": [
        {
          "output_type": "execute_result",
          "data": {
            "text/plain": [
              "<i>Jerry</i>"
            ]
          },
          "metadata": {},
          "execution_count": 15
        }
      ]
    },
    {
      "cell_type": "code",
      "source": [
        "for sibling in soup.b.next_siblings:\n",
        "  print(sibling)"
      ],
      "metadata": {
        "colab": {
          "base_uri": "https://localhost:8080/"
        },
        "id": "0ImnyrlQ6Nik",
        "outputId": "5b06155b-d7f3-41fe-a8ee-549a7cf73a67"
      },
      "execution_count": 16,
      "outputs": [
        {
          "output_type": "stream",
          "name": "stdout",
          "text": [
            "<i>Jerry</i>\n",
            "<c>iconic pair</c>\n"
          ]
        }
      ]
    },
    {
      "cell_type": "code",
      "source": [
        "soup.c"
      ],
      "metadata": {
        "colab": {
          "base_uri": "https://localhost:8080/"
        },
        "id": "h0YsX77G6g3Y",
        "outputId": "c9f2ffc4-ab7a-46d8-8ebf-e4ee36cfe3f7"
      },
      "execution_count": 17,
      "outputs": [
        {
          "output_type": "execute_result",
          "data": {
            "text/plain": [
              "<c>iconic pair</c>"
            ]
          },
          "metadata": {},
          "execution_count": 17
        }
      ]
    },
    {
      "cell_type": "code",
      "source": [
        "soup.c.previous_sibling.previous_sibling"
      ],
      "metadata": {
        "colab": {
          "base_uri": "https://localhost:8080/"
        },
        "id": "eLGP6YBI6lcw",
        "outputId": "5e9ae308-2364-4e51-d7aa-f72dff09929c"
      },
      "execution_count": 20,
      "outputs": [
        {
          "output_type": "execute_result",
          "data": {
            "text/plain": [
              "<b>Tom</b>"
            ]
          },
          "metadata": {},
          "execution_count": 20
        }
      ]
    },
    {
      "cell_type": "code",
      "source": [
        "print(soup.c.previous_sibling.previous_sibling.previous_sibling)"
      ],
      "metadata": {
        "colab": {
          "base_uri": "https://localhost:8080/"
        },
        "id": "A60ZcqA367G5",
        "outputId": "1ecd1e7f-2f42-459e-c07b-9927232f6d35"
      },
      "execution_count": 21,
      "outputs": [
        {
          "output_type": "stream",
          "name": "stdout",
          "text": [
            "None\n"
          ]
        }
      ]
    },
    {
      "cell_type": "code",
      "source": [
        "for sibling in soup.c.previous_siblings:\n",
        "  print(sibling)"
      ],
      "metadata": {
        "colab": {
          "base_uri": "https://localhost:8080/"
        },
        "id": "qShdov7W7OeV",
        "outputId": "995ab63c-40b7-4bb4-e857-15144606b751"
      },
      "execution_count": 22,
      "outputs": [
        {
          "output_type": "stream",
          "name": "stdout",
          "text": [
            "<i>Jerry</i>\n",
            "<b>Tom</b>\n"
          ]
        }
      ]
    },
    {
      "cell_type": "code",
      "source": [
        "soup.b"
      ],
      "metadata": {
        "colab": {
          "base_uri": "https://localhost:8080/"
        },
        "id": "Pim5aRB87asH",
        "outputId": "947270ac-bdde-4b2a-c1e6-3ec10c02553e"
      },
      "execution_count": 23,
      "outputs": [
        {
          "output_type": "execute_result",
          "data": {
            "text/plain": [
              "<b>Tom</b>"
            ]
          },
          "metadata": {},
          "execution_count": 23
        }
      ]
    },
    {
      "cell_type": "code",
      "source": [
        "soup.b.next_element"
      ],
      "metadata": {
        "colab": {
          "base_uri": "https://localhost:8080/",
          "height": 35
        },
        "id": "ysWFatQf7fAw",
        "outputId": "3e4d750f-df99-4c0d-a098-2bea4850150b"
      },
      "execution_count": 24,
      "outputs": [
        {
          "output_type": "execute_result",
          "data": {
            "text/plain": [
              "'Tom'"
            ],
            "application/vnd.google.colaboratory.intrinsic+json": {
              "type": "string"
            }
          },
          "metadata": {},
          "execution_count": 24
        }
      ]
    },
    {
      "cell_type": "code",
      "source": [
        "soup.b.next_element.next_element"
      ],
      "metadata": {
        "colab": {
          "base_uri": "https://localhost:8080/"
        },
        "id": "JGRRV8sL7jA3",
        "outputId": "1978a1cb-7227-4eba-fca9-4ac6adb9019c"
      },
      "execution_count": 25,
      "outputs": [
        {
          "output_type": "execute_result",
          "data": {
            "text/plain": [
              "<i>Jerry</i>"
            ]
          },
          "metadata": {},
          "execution_count": 25
        }
      ]
    },
    {
      "cell_type": "code",
      "source": [
        "soup.b.next_sibling"
      ],
      "metadata": {
        "colab": {
          "base_uri": "https://localhost:8080/"
        },
        "id": "fnfPcspC7p4l",
        "outputId": "4e478bc1-0936-4211-e208-b02c010d05dd"
      },
      "execution_count": 26,
      "outputs": [
        {
          "output_type": "execute_result",
          "data": {
            "text/plain": [
              "<i>Jerry</i>"
            ]
          },
          "metadata": {},
          "execution_count": 26
        }
      ]
    },
    {
      "cell_type": "code",
      "source": [
        "print(soup.html.next_element.prettify())"
      ],
      "metadata": {
        "colab": {
          "base_uri": "https://localhost:8080/"
        },
        "id": "XFodu1mT7xBn",
        "outputId": "a01c7c69-d21d-4b7e-ba27-f28d81527cc3"
      },
      "execution_count": 27,
      "outputs": [
        {
          "output_type": "stream",
          "name": "stdout",
          "text": [
            "<body>\n",
            " <a>\n",
            "  <b>\n",
            "   Tom\n",
            "  </b>\n",
            "  <i>\n",
            "   Jerry\n",
            "  </i>\n",
            "  <c>\n",
            "   iconic pair\n",
            "  </c>\n",
            " </a>\n",
            "</body>\n",
            "\n"
          ]
        }
      ]
    },
    {
      "cell_type": "code",
      "source": [
        "print(soup.html.next_element.next_element.prettify())"
      ],
      "metadata": {
        "colab": {
          "base_uri": "https://localhost:8080/"
        },
        "id": "kbwCuoJx78fZ",
        "outputId": "f7f9dd95-ab6f-4337-bb6d-2a2f3db7adab"
      },
      "execution_count": 28,
      "outputs": [
        {
          "output_type": "stream",
          "name": "stdout",
          "text": [
            "<a>\n",
            " <b>\n",
            "  Tom\n",
            " </b>\n",
            " <i>\n",
            "  Jerry\n",
            " </i>\n",
            " <c>\n",
            "  iconic pair\n",
            " </c>\n",
            "</a>\n",
            "\n"
          ]
        }
      ]
    },
    {
      "cell_type": "code",
      "source": [
        "for element in soup.a.next_elements:\n",
        "  print(element)"
      ],
      "metadata": {
        "colab": {
          "base_uri": "https://localhost:8080/"
        },
        "id": "JrgTwg8c8L52",
        "outputId": "138aa9a7-cd9a-4bca-ce6a-5341de6b870e"
      },
      "execution_count": 29,
      "outputs": [
        {
          "output_type": "stream",
          "name": "stdout",
          "text": [
            "<b>Tom</b>\n",
            "Tom\n",
            "<i>Jerry</i>\n",
            "Jerry\n",
            "<c>iconic pair</c>\n",
            "iconic pair\n"
          ]
        }
      ]
    },
    {
      "cell_type": "code",
      "source": [
        "soup.i.previous_element"
      ],
      "metadata": {
        "colab": {
          "base_uri": "https://localhost:8080/",
          "height": 35
        },
        "id": "2vpD7qUm8Tsp",
        "outputId": "1ecc8713-0e2c-4f1f-aa24-959c2a9f0090"
      },
      "execution_count": 30,
      "outputs": [
        {
          "output_type": "execute_result",
          "data": {
            "text/plain": [
              "'Tom'"
            ],
            "application/vnd.google.colaboratory.intrinsic+json": {
              "type": "string"
            }
          },
          "metadata": {},
          "execution_count": 30
        }
      ]
    },
    {
      "cell_type": "code",
      "source": [
        "soup.i.previous_element.previous_element"
      ],
      "metadata": {
        "colab": {
          "base_uri": "https://localhost:8080/"
        },
        "id": "HCcjKooe8fOD",
        "outputId": "329a5b80-5b4b-4bba-fedc-052cd3a32dc9"
      },
      "execution_count": 31,
      "outputs": [
        {
          "output_type": "execute_result",
          "data": {
            "text/plain": [
              "<b>Tom</b>"
            ]
          },
          "metadata": {},
          "execution_count": 31
        }
      ]
    },
    {
      "cell_type": "code",
      "source": [
        "print(soup.b.previous_sibling)"
      ],
      "metadata": {
        "colab": {
          "base_uri": "https://localhost:8080/"
        },
        "id": "btbH0img8q11",
        "outputId": "70eaddcf-ad03-419c-baa2-cd2743a1f0c2"
      },
      "execution_count": 33,
      "outputs": [
        {
          "output_type": "stream",
          "name": "stdout",
          "text": [
            "None\n"
          ]
        }
      ]
    },
    {
      "cell_type": "code",
      "source": [
        "for element in soup.c.previous_elements:\n",
        "  print(element)"
      ],
      "metadata": {
        "colab": {
          "base_uri": "https://localhost:8080/"
        },
        "id": "5WP4bnI082nn",
        "outputId": "e629a3b2-4acb-4a19-f592-6a873dd936c7"
      },
      "execution_count": 34,
      "outputs": [
        {
          "output_type": "stream",
          "name": "stdout",
          "text": [
            "Jerry\n",
            "<i>Jerry</i>\n",
            "Tom\n",
            "<b>Tom</b>\n",
            "<a><b>Tom</b><i>Jerry</i><c>iconic pair</c></a>\n",
            "<body><a><b>Tom</b><i>Jerry</i><c>iconic pair</c></a></body>\n",
            "<html><body><a><b>Tom</b><i>Jerry</i><c>iconic pair</c></a></body></html>\n"
          ]
        }
      ]
    },
    {
      "cell_type": "code",
      "source": [
        "for element in soup.a.previous_elements:\n",
        "  print(element)"
      ],
      "metadata": {
        "colab": {
          "base_uri": "https://localhost:8080/"
        },
        "id": "G7Wwiu7i8-vI",
        "outputId": "2213d36f-3036-478a-dafb-36b963f3b3d7"
      },
      "execution_count": 35,
      "outputs": [
        {
          "output_type": "stream",
          "name": "stdout",
          "text": [
            "<body><a><b>Tom</b><i>Jerry</i><c>iconic pair</c></a></body>\n",
            "<html><body><a><b>Tom</b><i>Jerry</i><c>iconic pair</c></a></body></html>\n"
          ]
        }
      ]
    }
  ]
}