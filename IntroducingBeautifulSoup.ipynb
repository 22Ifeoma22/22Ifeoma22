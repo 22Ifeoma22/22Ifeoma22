{
  "nbformat": 4,
  "nbformat_minor": 0,
  "metadata": {
    "colab": {
      "provenance": [],
      "authorship_tag": "ABX9TyP+E61EPf0U+dH2imrHfN+w",
      "include_colab_link": true
    },
    "kernelspec": {
      "name": "python3",
      "display_name": "Python 3"
    },
    "language_info": {
      "name": "python"
    }
  },
  "cells": [
    {
      "cell_type": "markdown",
      "metadata": {
        "id": "view-in-github",
        "colab_type": "text"
      },
      "source": [
        "<a href=\"https://colab.research.google.com/github/22Ifeoma22/22Ifeoma22/blob/main/IntroducingBeautifulSoup.ipynb\" target=\"_parent\"><img src=\"https://colab.research.google.com/assets/colab-badge.svg\" alt=\"Open In Colab\"/></a>"
      ]
    },
    {
      "cell_type": "code",
      "source": [
        "!pip install beautifulsoup4"
      ],
      "metadata": {
        "colab": {
          "base_uri": "https://localhost:8080/"
        },
        "id": "9WiB3tsKH5h9",
        "outputId": "e6ad9f7e-78d6-4b24-948c-338599306004"
      },
      "execution_count": null,
      "outputs": [
        {
          "output_type": "stream",
          "name": "stdout",
          "text": [
            "Requirement already satisfied: beautifulsoup4 in /usr/local/lib/python3.11/dist-packages (4.13.3)\n",
            "Requirement already satisfied: soupsieve>1.2 in /usr/local/lib/python3.11/dist-packages (from beautifulsoup4) (2.6)\n",
            "Requirement already satisfied: typing-extensions>=4.0.0 in /usr/local/lib/python3.11/dist-packages (from beautifulsoup4) (4.12.2)\n"
          ]
        }
      ]
    },
    {
      "cell_type": "code",
      "source": [
        "!pip install requests"
      ],
      "metadata": {
        "colab": {
          "base_uri": "https://localhost:8080/"
        },
        "id": "YEwi-261H9Me",
        "outputId": "de09892f-2b6f-4361-c7d9-e0bde7805e4f"
      },
      "execution_count": null,
      "outputs": [
        {
          "output_type": "stream",
          "name": "stdout",
          "text": [
            "Requirement already satisfied: requests in /usr/local/lib/python3.11/dist-packages (2.32.3)\n",
            "Requirement already satisfied: charset-normalizer<4,>=2 in /usr/local/lib/python3.11/dist-packages (from requests) (3.4.1)\n",
            "Requirement already satisfied: idna<4,>=2.5 in /usr/local/lib/python3.11/dist-packages (from requests) (3.10)\n",
            "Requirement already satisfied: urllib3<3,>=1.21.1 in /usr/local/lib/python3.11/dist-packages (from requests) (2.3.0)\n",
            "Requirement already satisfied: certifi>=2017.4.17 in /usr/local/lib/python3.11/dist-packages (from requests) (2025.1.31)\n"
          ]
        }
      ]
    },
    {
      "cell_type": "code",
      "source": [
        "!pip install lxml"
      ],
      "metadata": {
        "colab": {
          "base_uri": "https://localhost:8080/"
        },
        "id": "pRlRKz9JIArg",
        "outputId": "932155fb-72a8-43c5-ebb6-1ededefbb5f2"
      },
      "execution_count": null,
      "outputs": [
        {
          "output_type": "stream",
          "name": "stdout",
          "text": [
            "Requirement already satisfied: lxml in /usr/local/lib/python3.11/dist-packages (5.3.1)\n"
          ]
        }
      ]
    },
    {
      "cell_type": "code",
      "source": [
        "!pip install html5lib"
      ],
      "metadata": {
        "colab": {
          "base_uri": "https://localhost:8080/"
        },
        "id": "m-EOi9qPmXzY",
        "outputId": "2719bec2-f991-445a-972d-7daa07e8ee90"
      },
      "execution_count": null,
      "outputs": [
        {
          "output_type": "stream",
          "name": "stdout",
          "text": [
            "Requirement already satisfied: html5lib in /usr/local/lib/python3.11/dist-packages (1.1)\n",
            "Requirement already satisfied: six>=1.9 in /usr/local/lib/python3.11/dist-packages (from html5lib) (1.17.0)\n",
            "Requirement already satisfied: webencodings in /usr/local/lib/python3.11/dist-packages (from html5lib) (0.5.1)\n"
          ]
        }
      ]
    },
    {
      "cell_type": "code",
      "execution_count": 22,
      "metadata": {
        "id": "oAvQ1KEtHeGL"
      },
      "outputs": [],
      "source": [
        "import requests\n",
        "from bs4 import BeautifulSoup\n",
        "from pprint import pprint\n",
        "import re\n",
        "import webbrowser"
      ]
    },
    {
      "cell_type": "code",
      "source": [
        "very_simple_html = \"\"\"\n",
        "\n",
        "      <html>\n",
        "      <head>\n",
        "      <title>\n",
        "       The Dormouse's story\n",
        "       </title>\n",
        "       </head>\n",
        "        <body>\n",
        "        <p class=\"title\">\n",
        "        <b>\n",
        "        The Dormouse's story\n",
        "        </b>\n",
        "       </p>\n",
        "       <p class=\"story\">\n",
        "      Once upon a time there were three little sisters; and their names were:\n",
        "       <a class=\"sister\" href=\"http://example.com/elsie\" class=\"sister\" id=\"link1\">\n",
        "       Elsie\n",
        "       </a>\n",
        "       <a class=\"sister\" href=\"http://example.com/lacie\" class=\"sister\" id=\"link2\">\n",
        "       Lacie\n",
        "       </a>\n",
        "       and\n",
        "       <a class=\"sister\" href=\"http://example.com/tillie\" class=\"sister\" id=\"link3\">\n",
        "       Tillie\n",
        "       </a>\n",
        "       ;\n",
        "\n",
        "    and they lived at the bottom of a well.\n",
        "    </p>\n",
        "    <p class=\"story\">The story continues</p>\n",
        "    </body>\n",
        "    </html>\n",
        "    \"\"\""
      ],
      "metadata": {
        "id": "FHDcRhKlrn0r"
      },
      "execution_count": 52,
      "outputs": []
    },
    {
      "cell_type": "code",
      "source": [
        "soup = BeautifulSoup(very_simple_html)\n",
        "\n",
        "soup"
      ],
      "metadata": {
        "colab": {
          "base_uri": "https://localhost:8080/"
        },
        "id": "Xyb8bn9ZmLbA",
        "outputId": "072720c7-728c-4997-cb90-5ca8a201465b"
      },
      "execution_count": 72,
      "outputs": [
        {
          "output_type": "execute_result",
          "data": {
            "text/plain": [
              "<html>\n",
              "<head>\n",
              "<title>A simple HTML document</title>\n",
              "</head>\n",
              "<body>\n",
              "<p>This is a paragraph.</p>\n",
              "</body>\n",
              "</html>"
            ]
          },
          "metadata": {},
          "execution_count": 72
        }
      ]
    },
    {
      "cell_type": "code",
      "source": [
        "type(soup)"
      ],
      "metadata": {
        "colab": {
          "base_uri": "https://localhost:8080/",
          "height": 221
        },
        "id": "HzhGOruDmrQj",
        "outputId": "e2866b7d-4d5b-4511-8580-efbb29fb3480"
      },
      "execution_count": 54,
      "outputs": [
        {
          "output_type": "execute_result",
          "data": {
            "text/plain": [
              "bs4.BeautifulSoup"
            ],
            "text/html": [
              "<div style=\"max-width:800px; border: 1px solid var(--colab-border-color);\"><style>\n",
              "      pre.function-repr-contents {\n",
              "        overflow-x: auto;\n",
              "        padding: 8px 12px;\n",
              "        max-height: 500px;\n",
              "      }\n",
              "\n",
              "      pre.function-repr-contents.function-repr-contents-collapsed {\n",
              "        cursor: pointer;\n",
              "        max-height: 100px;\n",
              "      }\n",
              "    </style>\n",
              "    <pre style=\"white-space: initial; background:\n",
              "         var(--colab-secondary-surface-color); padding: 8px 12px;\n",
              "         border-bottom: 1px solid var(--colab-border-color);\"><b>bs4.BeautifulSoup</b><br/>def __call__(name: Optional[_StrainableElement]=None, attrs: _StrainableAttributes={}, recursive: bool=True, string: Optional[_StrainableString]=None, limit: Optional[int]=None, _stacklevel: int=2, **kwargs: _StrainableAttribute) -&gt; _QueryResults</pre><pre class=\"function-repr-contents function-repr-contents-collapsed\" style=\"\"><a class=\"filepath\" style=\"display:none\" href=\"#\">/usr/local/lib/python3.11/dist-packages/bs4/__init__.py</a>A data structure representing a parsed HTML or XML document.\n",
              "\n",
              "Most of the methods you&#x27;ll call on a BeautifulSoup object are inherited from\n",
              "PageElement or Tag.\n",
              "\n",
              "Internally, this class defines the basic interface called by the\n",
              "tree builders when converting an HTML/XML document into a data\n",
              "structure. The interface abstracts away the differences between\n",
              "parsers. To write a new tree builder, you&#x27;ll need to understand\n",
              "these methods as a whole.\n",
              "\n",
              "These methods will be called by the BeautifulSoup constructor:\n",
              "  * reset()\n",
              "  * feed(markup)\n",
              "\n",
              "The tree builder may call these methods from its feed() implementation:\n",
              "  * handle_starttag(name, attrs) # See note about return value\n",
              "  * handle_endtag(name)\n",
              "  * handle_data(data) # Appends to the current data node\n",
              "  * endData(containerClass) # Ends the current data node\n",
              "\n",
              "No matter how complicated the underlying parser is, you should be\n",
              "able to build a tree using &#x27;start tag&#x27; events, &#x27;end tag&#x27; events,\n",
              "&#x27;data&#x27; events, and &quot;done with data&quot; events.\n",
              "\n",
              "If you encounter an empty-element tag (aka a self-closing tag,\n",
              "like HTML&#x27;s &lt;br&gt; tag), call handle_starttag and then\n",
              "handle_endtag.</pre>\n",
              "      <script>\n",
              "      if (google.colab.kernel.accessAllowed && google.colab.files && google.colab.files.view) {\n",
              "        for (const element of document.querySelectorAll('.filepath')) {\n",
              "          element.style.display = 'block'\n",
              "          element.onclick = (event) => {\n",
              "            event.preventDefault();\n",
              "            event.stopPropagation();\n",
              "            google.colab.files.view(element.textContent, 133);\n",
              "          };\n",
              "        }\n",
              "      }\n",
              "      for (const element of document.querySelectorAll('.function-repr-contents')) {\n",
              "        element.onclick = (event) => {\n",
              "          event.preventDefault();\n",
              "          event.stopPropagation();\n",
              "          element.classList.toggle('function-repr-contents-collapsed');\n",
              "        };\n",
              "      }\n",
              "      </script>\n",
              "      </div>"
            ]
          },
          "metadata": {},
          "execution_count": 54
        }
      ]
    },
    {
      "cell_type": "code",
      "source": [
        "print(soup.prettify())"
      ],
      "metadata": {
        "colab": {
          "base_uri": "https://localhost:8080/"
        },
        "id": "bPmJsJ9bmuYO",
        "outputId": "f80879de-13b4-4cc3-ecca-2dd8a954a522"
      },
      "execution_count": 55,
      "outputs": [
        {
          "output_type": "stream",
          "name": "stdout",
          "text": [
            "<html>\n",
            " <head>\n",
            "  <title>\n",
            "   The Dormouse's story\n",
            "  </title>\n",
            " </head>\n",
            " <body>\n",
            "  <p class=\"title\">\n",
            "   <b>\n",
            "    The Dormouse's story\n",
            "   </b>\n",
            "  </p>\n",
            "  <p class=\"story\">\n",
            "   Once upon a time there were three little sisters; and their names were:\n",
            "   <a class=\"sister\" href=\"http://example.com/elsie\" id=\"link1\">\n",
            "    Elsie\n",
            "   </a>\n",
            "   <a class=\"sister\" href=\"http://example.com/lacie\" id=\"link2\">\n",
            "    Lacie\n",
            "   </a>\n",
            "   and\n",
            "   <a class=\"sister\" href=\"http://example.com/tillie\" id=\"link3\">\n",
            "    Tillie\n",
            "   </a>\n",
            "   ;\n",
            "    \n",
            "    and they lived at the bottom of a well.\n",
            "  </p>\n",
            "  <p class=\"story\">\n",
            "   The story continues\n",
            "  </p>\n",
            " </body>\n",
            "</html>\n",
            "\n"
          ]
        }
      ]
    },
    {
      "cell_type": "code",
      "source": [
        "soup.html"
      ],
      "metadata": {
        "colab": {
          "base_uri": "https://localhost:8080/"
        },
        "id": "bsr2f4qlmzfP",
        "outputId": "de8b0ed5-13a2-42c9-b966-59d2cd3adbb7"
      },
      "execution_count": 56,
      "outputs": [
        {
          "output_type": "execute_result",
          "data": {
            "text/plain": [
              "<html>\n",
              "<head>\n",
              "<title>\n",
              "       The Dormouse's story\n",
              "       </title>\n",
              "</head>\n",
              "<body>\n",
              "<p class=\"title\">\n",
              "<b>\n",
              "        The Dormouse's story\n",
              "        </b>\n",
              "</p>\n",
              "<p class=\"story\">\n",
              "      Once upon a time there were three little sisters; and their names were:\n",
              "       <a class=\"sister\" href=\"http://example.com/elsie\" id=\"link1\">\n",
              "       Elsie\n",
              "       </a>\n",
              "<a class=\"sister\" href=\"http://example.com/lacie\" id=\"link2\">\n",
              "       Lacie\n",
              "       </a> \n",
              "       and\n",
              "       <a class=\"sister\" href=\"http://example.com/tillie\" id=\"link3\">\n",
              "       Tillie\n",
              "       </a>\n",
              "       ;\n",
              "    \n",
              "    and they lived at the bottom of a well.\n",
              "    </p>\n",
              "<p class=\"story\">The story continues</p>\n",
              "</body>\n",
              "</html>"
            ]
          },
          "metadata": {},
          "execution_count": 56
        }
      ]
    },
    {
      "cell_type": "code",
      "source": [
        "soup.head"
      ],
      "metadata": {
        "colab": {
          "base_uri": "https://localhost:8080/"
        },
        "id": "-JjNHnrEm2jn",
        "outputId": "1db1f25d-1b98-4fd8-8e66-98cafd6fa07a"
      },
      "execution_count": 57,
      "outputs": [
        {
          "output_type": "execute_result",
          "data": {
            "text/plain": [
              "<head>\n",
              "<title>\n",
              "       The Dormouse's story\n",
              "       </title>\n",
              "</head>"
            ]
          },
          "metadata": {},
          "execution_count": 57
        }
      ]
    },
    {
      "cell_type": "code",
      "source": [
        "soup.title"
      ],
      "metadata": {
        "colab": {
          "base_uri": "https://localhost:8080/"
        },
        "id": "YEd27jERm5P2",
        "outputId": "db778b8a-e209-4c2e-ad4e-80308967544f"
      },
      "execution_count": 58,
      "outputs": [
        {
          "output_type": "execute_result",
          "data": {
            "text/plain": [
              "<title>\n",
              "       The Dormouse's story\n",
              "       </title>"
            ]
          },
          "metadata": {},
          "execution_count": 58
        }
      ]
    },
    {
      "cell_type": "code",
      "source": [
        "soup.title.string"
      ],
      "metadata": {
        "colab": {
          "base_uri": "https://localhost:8080/",
          "height": 35
        },
        "id": "o1eGu4J8m7fU",
        "outputId": "f3d7e6f7-9781-4b55-9172-2cc488a43513"
      },
      "execution_count": 59,
      "outputs": [
        {
          "output_type": "execute_result",
          "data": {
            "text/plain": [
              "\"\\n       The Dormouse's story\\n       \""
            ],
            "application/vnd.google.colaboratory.intrinsic+json": {
              "type": "string"
            }
          },
          "metadata": {},
          "execution_count": 59
        }
      ]
    },
    {
      "cell_type": "code",
      "source": [
        "soup.title.name"
      ],
      "metadata": {
        "colab": {
          "base_uri": "https://localhost:8080/",
          "height": 35
        },
        "id": "8FQJrznkm_ok",
        "outputId": "356c77df-625b-4132-8891-8ec050d75aa4"
      },
      "execution_count": 60,
      "outputs": [
        {
          "output_type": "execute_result",
          "data": {
            "text/plain": [
              "'title'"
            ],
            "application/vnd.google.colaboratory.intrinsic+json": {
              "type": "string"
            }
          },
          "metadata": {},
          "execution_count": 60
        }
      ]
    },
    {
      "cell_type": "code",
      "source": [
        "soup.body"
      ],
      "metadata": {
        "id": "eYQfRSe-nEht",
        "colab": {
          "base_uri": "https://localhost:8080/"
        },
        "outputId": "6d29ccee-bd4a-4d72-862a-6ca319ed3768"
      },
      "execution_count": 61,
      "outputs": [
        {
          "output_type": "execute_result",
          "data": {
            "text/plain": [
              "<body>\n",
              "<p class=\"title\">\n",
              "<b>\n",
              "        The Dormouse's story\n",
              "        </b>\n",
              "</p>\n",
              "<p class=\"story\">\n",
              "      Once upon a time there were three little sisters; and their names were:\n",
              "       <a class=\"sister\" href=\"http://example.com/elsie\" id=\"link1\">\n",
              "       Elsie\n",
              "       </a>\n",
              "<a class=\"sister\" href=\"http://example.com/lacie\" id=\"link2\">\n",
              "       Lacie\n",
              "       </a> \n",
              "       and\n",
              "       <a class=\"sister\" href=\"http://example.com/tillie\" id=\"link3\">\n",
              "       Tillie\n",
              "       </a>\n",
              "       ;\n",
              "    \n",
              "    and they lived at the bottom of a well.\n",
              "    </p>\n",
              "<p class=\"story\">The story continues</p>\n",
              "</body>"
            ]
          },
          "metadata": {},
          "execution_count": 61
        }
      ]
    },
    {
      "cell_type": "code",
      "source": [
        "very_simple_html = \"\"\"\n",
        "<html>\n",
        "  <head>\n",
        "    <title>A simple HTML document</title>\n",
        "  </head>\n",
        "  <body>\n",
        "    <p>This is a paragraph.</p>\n",
        "  </body>\n",
        "</html>\n",
        "\"\"\"\n",
        "\n",
        "soup = BeautifulSoup(very_simple_html, 'html.parser')\n",
        "\n",
        "print(soup.body.p)"
      ],
      "metadata": {
        "colab": {
          "base_uri": "https://localhost:8080/"
        },
        "id": "XE8qp3GknZSE",
        "outputId": "3a4166fc-1638-46e8-d192-9fbad564e7c6"
      },
      "execution_count": 73,
      "outputs": [
        {
          "output_type": "stream",
          "name": "stdout",
          "text": [
            "<p>This is a paragraph.</p>\n"
          ]
        }
      ]
    },
    {
      "cell_type": "code",
      "source": [
        "soup.b"
      ],
      "metadata": {
        "id": "A5iOPKgXnkhP"
      },
      "execution_count": 74,
      "outputs": []
    },
    {
      "cell_type": "code",
      "source": [
        "soup.a"
      ],
      "metadata": {
        "id": "tPwXoWEynpAe"
      },
      "execution_count": 75,
      "outputs": []
    },
    {
      "cell_type": "code",
      "source": [
        "if soup.a:\n",
        "  print(soup.a.parent.parent)\n",
        "else:\n",
        "  print(\"No <a> tag found in the HTML\")"
      ],
      "metadata": {
        "colab": {
          "base_uri": "https://localhost:8080/"
        },
        "id": "qtJEXFbsx8BG",
        "outputId": "c95938a4-e1fb-4dea-fa94-4c593fb82b75"
      },
      "execution_count": 76,
      "outputs": [
        {
          "output_type": "stream",
          "name": "stdout",
          "text": [
            "No <a> tag found in the HTML\n"
          ]
        }
      ]
    },
    {
      "cell_type": "code",
      "source": [
        "with open('/content/sample_data/TomJerry_WithImages.html') as html_code:\n",
        "  soup = BeautifulSoup(html_code, 'lxml')"
      ],
      "metadata": {
        "id": "hchNa0DQwb-z"
      },
      "execution_count": 81,
      "outputs": []
    },
    {
      "cell_type": "code",
      "source": [
        "print(soup.prettify)"
      ],
      "metadata": {
        "colab": {
          "base_uri": "https://localhost:8080/"
        },
        "id": "aZTFziac2z-F",
        "outputId": "90e834f2-3a59-4025-fa45-ec464132f3d9"
      },
      "execution_count": 82,
      "outputs": [
        {
          "output_type": "stream",
          "name": "stdout",
          "text": [
            "<bound method Tag.prettify of <html>\n",
            "<head>\n",
            "<title> The story of Tom and Jerry </title>\n",
            "</head>\n",
            "<body class=\"container\">\n",
            "<h1>Tom and Jerry</h1>&gt;\n",
            "    <img alt=\"cartoon_image\" height=\"300\" src=\"TomAndJerry.jpg\" width=\"300\"/>\n",
            "<p class=\"comedy animated series\">\n",
            "        Tom and Jerry is an American animated series of comedy short films created by \n",
            "        <a class=\"creator\" href=\"https://en.wikipedia.org/wiki/William_Hanna\" id=\"link1\">William Hanna</a> and  \n",
            "        <a class=\"creator\" href=\"https://en.wikipedia.org/wiki/Joseph_Barbera\" id=\"link2\">Joseph Barbera</a>. \n",
            "        It centers on a rivalry between the title characters\n",
            "        <a class=\"character\" href=\"https://en.wikipedia.org/wiki/Tom_Cat\" id=\"link3\">Tom</a>, a cat, and \n",
            "        <a class=\"character\" href=\"https://en.wikipedia.org/wiki/Jerry_Mouse\" id=\"link4\">Jerry</a>, a mouse.</p>\n",
            "<div>\n",
            "<img alt=\"creator_image\" height=\"300\" name=\"William_Hanna\" src=\"https://upload.wikimedia.org/wikipedia/commons/d/d2/William_Hanna_1977.jpg\" width=\"300\"/>\n",
            "<img alt=\"creator_image\" height=\"300\" name=\"Joseph_Barbera\" src=\"https://upload.wikimedia.org/wikipedia/commons/6/67/JBarbera.jpg\" width=\"300\"/>\n",
            "<img src=\"https://upload.wikimedia.org/wikipedia/en/2/2f/Jerry_Mouse.png\"/>\n",
            "<img extra-info=\"Tom_Cat\" src=\"https://upload.wikimedia.org/wikipedia/en/f/f6/Tom_Tom_and_Jerry.png\"/>\n",
            "</div>\n",
            "<p class=\"comedy story\">\n",
            "<b>\n",
            "                The series features comic fights between an iconic pair of adversaries, \n",
            "                a house cat (Tom) and a mouse (Jerry). The plots of each short usually center on Tom's \n",
            "                numerous attempts to capture Jerry and the mayhem and destruction that follows. \n",
            "                Tom rarely succeeds in catching Jerry, mainly because of Jerry's cleverness, \n",
            "                cunning abilities, and luck. \n",
            "            </b>\n",
            "</p>\n",
            "<i>Tom and Jerry show is a full length comedy show</i>\n",
            "</body>\n",
            "</html>\n",
            ">\n"
          ]
        }
      ]
    },
    {
      "cell_type": "code",
      "source": [
        "soup.head"
      ],
      "metadata": {
        "colab": {
          "base_uri": "https://localhost:8080/"
        },
        "id": "YymXmaycwb63",
        "outputId": "13fabee4-de48-4e99-f197-4119308e3630"
      },
      "execution_count": 83,
      "outputs": [
        {
          "output_type": "execute_result",
          "data": {
            "text/plain": [
              "<head>\n",
              "<title> The story of Tom and Jerry </title>\n",
              "</head>"
            ]
          },
          "metadata": {},
          "execution_count": 83
        }
      ]
    },
    {
      "cell_type": "code",
      "source": [
        "soup.div"
      ],
      "metadata": {
        "colab": {
          "base_uri": "https://localhost:8080/"
        },
        "id": "QV146PoDwb28",
        "outputId": "8720c1fd-8b29-48ed-c40b-3f211c2d13c9"
      },
      "execution_count": 84,
      "outputs": [
        {
          "output_type": "execute_result",
          "data": {
            "text/plain": [
              "<div>\n",
              "<img alt=\"creator_image\" height=\"300\" name=\"William_Hanna\" src=\"https://upload.wikimedia.org/wikipedia/commons/d/d2/William_Hanna_1977.jpg\" width=\"300\"/>\n",
              "<img alt=\"creator_image\" height=\"300\" name=\"Joseph_Barbera\" src=\"https://upload.wikimedia.org/wikipedia/commons/6/67/JBarbera.jpg\" width=\"300\"/>\n",
              "<img src=\"https://upload.wikimedia.org/wikipedia/en/2/2f/Jerry_Mouse.png\"/>\n",
              "<img extra-info=\"Tom_Cat\" src=\"https://upload.wikimedia.org/wikipedia/en/f/f6/Tom_Tom_and_Jerry.png\"/>\n",
              "</div>"
            ]
          },
          "metadata": {},
          "execution_count": 84
        }
      ]
    },
    {
      "cell_type": "code",
      "source": [
        "soup.i"
      ],
      "metadata": {
        "colab": {
          "base_uri": "https://localhost:8080/"
        },
        "id": "Iw0Bj-IIwbzE",
        "outputId": "9ec92823-5869-46e6-a1a8-0c3018c0faaa"
      },
      "execution_count": 85,
      "outputs": [
        {
          "output_type": "execute_result",
          "data": {
            "text/plain": [
              "<i>Tom and Jerry show is a full length comedy show</i>"
            ]
          },
          "metadata": {},
          "execution_count": 85
        }
      ]
    },
    {
      "cell_type": "code",
      "source": [],
      "metadata": {
        "id": "ZhhlC1cTwbvG"
      },
      "execution_count": null,
      "outputs": []
    },
    {
      "cell_type": "code",
      "source": [],
      "metadata": {
        "id": "vd8qSYQSwbq-"
      },
      "execution_count": null,
      "outputs": []
    },
    {
      "cell_type": "code",
      "source": [],
      "metadata": {
        "id": "hhdIkDRYwbmU"
      },
      "execution_count": null,
      "outputs": []
    },
    {
      "cell_type": "code",
      "source": [
        "from bs4 import BeautifulSoup # Imports the BeautifulSoup class from the bs4 library\n",
        "\n",
        "very_simple_html = \"\"\"\n",
        "<html>\\n\",\n",
        "       <head>\n",
        "       <title>The Dormouse's story</title>\n",
        "       </head>\n",
        "       <body>\n",
        "       <p class=\"title\">\n",
        "       <b>The Dormouse's story</b>\n",
        "       </p>\n",
        "       <p class=\"story\">\n",
        "       Once upon a time there were three little sisters; and their names were:\n",
        "\n",
        "        <a class=\\\"sister\\\" href=\\\"http://example.com/elsie\\\" id=\"link1\">Elsie</a>,\n",
        "        <a class=\\\"sister\\\" href=\\\"http://example.com/lacie\\\" id=\"link2\">Lacie</a> and\n",
        "        <a class=\\\"sister\\\" href=\\\"http://example.com/tillie\\\" id=\"link3\">Tillie</a>;\n",
        "\n",
        "       and they lived at the bottom of a well.\n",
        "       </p>\n",
        "       <p class=\\\"story\\\">The story continues</p>\n",
        "       </body>\n",
        "       </html>\n",
        "\n",
        "\"\"\"\n",
        "\n",
        "soup = BeautifulSoup(very_simple_html, 'html.parser') # Now BeautifulSoup is recognized\n",
        "\n",
        "print(soup.prettify())"
      ],
      "metadata": {
        "colab": {
          "base_uri": "https://localhost:8080/"
        },
        "id": "99l5-D1rl8x8",
        "outputId": "58ee52cb-fc10-44df-a46b-8d5604c35878"
      },
      "execution_count": null,
      "outputs": [
        {
          "output_type": "stream",
          "name": "stdout",
          "text": [
            "<html>\n",
            " <head>\n",
            "  <title>\n",
            "   A simple HTML document\n",
            "  </title>\n",
            " </head>\n",
            "</html>\n",
            "\n"
          ]
        }
      ]
    }
  ]
}