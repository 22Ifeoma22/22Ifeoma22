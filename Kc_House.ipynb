{
  "nbformat": 4,
  "nbformat_minor": 0,
  "metadata": {
    "colab": {
      "provenance": [],
      "authorship_tag": "ABX9TyMyCYB8aKNayg5ov18QSWnG",
      "include_colab_link": true
    },
    "kernelspec": {
      "name": "python3",
      "display_name": "Python 3"
    },
    "language_info": {
      "name": "python"
    }
  },
  "cells": [
    {
      "cell_type": "markdown",
      "metadata": {
        "id": "view-in-github",
        "colab_type": "text"
      },
      "source": [
        "<a href=\"https://colab.research.google.com/github/22Ifeoma22/22Ifeoma22/blob/main/Kc_House.ipynb\" target=\"_parent\"><img src=\"https://colab.research.google.com/assets/colab-badge.svg\" alt=\"Open In Colab\"/></a>"
      ]
    },
    {
      "cell_type": "code",
      "execution_count": null,
      "metadata": {
        "id": "9pHV0ZzfaP0q"
      },
      "outputs": [],
      "source": [
        "# Visualize distributions before and after outlier removal\n",
        "features_to_analyze = ['price', 'sqft_living', 'sqft_lot', 'bedrooms', 'bathrooms']\n",
        "def visualize_distributions(df_original, df_cleaned, features):\n",
        "    plt.figure(figsize=(20, 12))\n",
        "    for i, feature in enumerate(features, 1):\n",
        "        plt.subplot(3, 2, i)\n",
        "        sns.histplot(df_original[feature], kde=True, color='blue', label='Original', alpha=0.6)\n",
        "        sns.histplot(df_cleaned[feature], kde=True, color='orange', label='Without Outliers', alpha=0.6)\n",
        "        plt.title(f\"Distribution of {feature}\")\n",
        "        plt.legend()\n",
        "    plt.tight_layout()\n",
        "    plt.show()\n",
        "\n",
        "visualize_distributions(data, data_no_outliers, features_to_analyze)"
      ]
    },
    {
      "cell_type": "code",
      "source": [
        "import pandas as pd\n",
        "import numpy as np\n",
        "import matplotlib.pyplot as plt\n",
        "import seaborn as sns\n",
        "from sklearn.model_selection import train_test_split\n",
        "from sklearn.ensemble import RandomForestRegressor\n",
        "from sklearn.metrics import mean_squared_error, r2_score"
      ],
      "metadata": {
        "id": "qglfTCabd22n"
      },
      "execution_count": null,
      "outputs": []
    },
    {
      "cell_type": "code",
      "source": [
        "data = pd.read_csv(\"/content/sample_data/kc_house_data.csv\")"
      ],
      "metadata": {
        "id": "t8Kh_QrDdgel"
      },
      "execution_count": null,
      "outputs": []
    },
    {
      "cell_type": "code",
      "source": [
        "#from sklearn.model_selection import train_test_split\n",
        "\n",
        "X = data.drop(columns=['price'])\n",
        "y = data['price']\n",
        "X_train, X_test, y_train, y_test = train_test_split(X, y, test_size=0.2, random_state=42)"
      ],
      "metadata": {
        "id": "0SQEng50ddz6"
      },
      "execution_count": null,
      "outputs": []
    },
    {
      "cell_type": "code",
      "source": [
        "from sklearn.model_selection import GridSearchCV\n",
        "# Random Forest Regressor with RandomizedSearchCV\n",
        "def train_rfr(X_train, y_train):\n",
        "    param_dist = {\n",
        "        'n_estimators': [100, 200],\n",
        "        'max_depth': [10, 20, None],\n",
        "        'min_samples_split': [2, 5],\n",
        "        'min_samples_leaf': [1, 2]\n",
        "    }\n",
        "    random_search = RandomizedSearchCV(RandomForestRegressor(random_state=42),\n",
        "                                       param_distributions=param_dist,\n",
        "                                       n_iter=10,\n",
        "                                       cv=5,\n",
        "                                       scoring='neg_mean_squared_error',\n",
        "                                       random_state=42)\n",
        "    random_search.fit(X_train, y_train)\n",
        "    return random_search.best_estimator_\n",
        "\n",
        "# Train models for both original and cleaned datasets\n",
        "rfr_model = train_rfr(X_train, y_train)\n",
        "rfr_model_no_outliers = train_rfr(X_train_no_outliers, y_train_no_outliers)\n",
        "# Train the Random Forest model with hyperparameter tuning\n",
        "rfr_best_model = train_rfr(X_train, y_train)"
      ],
      "metadata": {
        "colab": {
          "base_uri": "https://localhost:8080/",
          "height": 332
        },
        "id": "XW0lZuhadPUr",
        "outputId": "b7df6606-b586-4493-dad9-b5e24e326a20"
      },
      "execution_count": null,
      "outputs": [
        {
          "output_type": "error",
          "ename": "NameError",
          "evalue": "name 'RandomizedSearchCV' is not defined",
          "traceback": [
            "\u001b[0;31m---------------------------------------------------------------------------\u001b[0m",
            "\u001b[0;31mNameError\u001b[0m                                 Traceback (most recent call last)",
            "\u001b[0;32m<ipython-input-8-edc74554a37d>\u001b[0m in \u001b[0;36m<cell line: 20>\u001b[0;34m()\u001b[0m\n\u001b[1;32m     18\u001b[0m \u001b[0;34m\u001b[0m\u001b[0m\n\u001b[1;32m     19\u001b[0m \u001b[0;31m# Train models for both original and cleaned datasets\u001b[0m\u001b[0;34m\u001b[0m\u001b[0;34m\u001b[0m\u001b[0m\n\u001b[0;32m---> 20\u001b[0;31m \u001b[0mrfr_model\u001b[0m \u001b[0;34m=\u001b[0m \u001b[0mtrain_rfr\u001b[0m\u001b[0;34m(\u001b[0m\u001b[0mX_train\u001b[0m\u001b[0;34m,\u001b[0m \u001b[0my_train\u001b[0m\u001b[0;34m)\u001b[0m\u001b[0;34m\u001b[0m\u001b[0;34m\u001b[0m\u001b[0m\n\u001b[0m\u001b[1;32m     21\u001b[0m \u001b[0mrfr_model_no_outliers\u001b[0m \u001b[0;34m=\u001b[0m \u001b[0mtrain_rfr\u001b[0m\u001b[0;34m(\u001b[0m\u001b[0mX_train_no_outliers\u001b[0m\u001b[0;34m,\u001b[0m \u001b[0my_train_no_outliers\u001b[0m\u001b[0;34m)\u001b[0m\u001b[0;34m\u001b[0m\u001b[0;34m\u001b[0m\u001b[0m\n\u001b[1;32m     22\u001b[0m \u001b[0;31m# Train the Random Forest model with hyperparameter tuning\u001b[0m\u001b[0;34m\u001b[0m\u001b[0;34m\u001b[0m\u001b[0m\n",
            "\u001b[0;32m<ipython-input-8-edc74554a37d>\u001b[0m in \u001b[0;36mtrain_rfr\u001b[0;34m(X_train, y_train)\u001b[0m\n\u001b[1;32m      8\u001b[0m         \u001b[0;34m'min_samples_leaf'\u001b[0m\u001b[0;34m:\u001b[0m \u001b[0;34m[\u001b[0m\u001b[0;36m1\u001b[0m\u001b[0;34m,\u001b[0m \u001b[0;36m2\u001b[0m\u001b[0;34m]\u001b[0m\u001b[0;34m\u001b[0m\u001b[0;34m\u001b[0m\u001b[0m\n\u001b[1;32m      9\u001b[0m     }\n\u001b[0;32m---> 10\u001b[0;31m     random_search = RandomizedSearchCV(RandomForestRegressor(random_state=42), \n\u001b[0m\u001b[1;32m     11\u001b[0m                                        \u001b[0mparam_distributions\u001b[0m\u001b[0;34m=\u001b[0m\u001b[0mparam_dist\u001b[0m\u001b[0;34m,\u001b[0m\u001b[0;34m\u001b[0m\u001b[0;34m\u001b[0m\u001b[0m\n\u001b[1;32m     12\u001b[0m                                        \u001b[0mn_iter\u001b[0m\u001b[0;34m=\u001b[0m\u001b[0;36m10\u001b[0m\u001b[0;34m,\u001b[0m\u001b[0;34m\u001b[0m\u001b[0;34m\u001b[0m\u001b[0m\n",
            "\u001b[0;31mNameError\u001b[0m: name 'RandomizedSearchCV' is not defined"
          ]
        }
      ]
    },
    {
      "cell_type": "code",
      "source": [
        "from sklearn.model_selection import GridSearchCV, RandomizedSearchCV # Import RandomizedSearchCV\n",
        "# Random Forest Regressor with RandomizedSearchCV\n",
        "def train_rfr(X_train, y_train):\n",
        "    param_dist = {\n",
        "        'n_estimators': [100, 200],\n",
        "        'max_depth': [10, 20, None],\n",
        "        'min_samples_split': [2, 5],\n",
        "        'min_samples_leaf': [1, 2]\n",
        "    }\n",
        "    random_search = RandomizedSearchCV(RandomForestRegressor(random_state=42),\n",
        "                                       param_distributions=param_dist,\n",
        "                                       n_iter=10,\n",
        "                                       cv=5,\n",
        "                                       scoring='neg_mean_squared_error',\n",
        "                                       random_state=42)\n",
        "    random_search.fit(X_train, y_train)\n",
        "    return random_search.best_estimator_\n",
        "\n",
        "# Train models for both original and cleaned datasets\n",
        "rfr_model = train_rfr(X_train, y_train)\n",
        "rfr_model_no_outliers = train_rfr(X_train_no_outliers, y_train_no_outliers)\n",
        "# Train the Random Forest model with hyperparameter tuning\n",
        "rfr_best_model = train_rfr(X_train, y_train)\n",
        "from sklearn.model_selection import GridSearchCV\n",
        "# Random Forest Regressor with RandomizedSearchCV\n"
      ],
      "metadata": {
        "colab": {
          "base_uri": "https://localhost:8080/",
          "height": 211
        },
        "id": "GLhG3K9YeGQE",
        "outputId": "7135e81f-2a8f-4062-87a7-34d7aa9b09f6"
      },
      "execution_count": null,
      "outputs": [
        {
          "output_type": "error",
          "ename": "NameError",
          "evalue": "name 'X_train_no_outliers' is not defined",
          "traceback": [
            "\u001b[0;31m---------------------------------------------------------------------------\u001b[0m",
            "\u001b[0;31mNameError\u001b[0m                                 Traceback (most recent call last)",
            "\u001b[0;32m<ipython-input-9-b23158337787>\u001b[0m in \u001b[0;36m<cell line: 21>\u001b[0;34m()\u001b[0m\n\u001b[1;32m     19\u001b[0m \u001b[0;31m# Train models for both original and cleaned datasets\u001b[0m\u001b[0;34m\u001b[0m\u001b[0;34m\u001b[0m\u001b[0m\n\u001b[1;32m     20\u001b[0m \u001b[0mrfr_model\u001b[0m \u001b[0;34m=\u001b[0m \u001b[0mtrain_rfr\u001b[0m\u001b[0;34m(\u001b[0m\u001b[0mX_train\u001b[0m\u001b[0;34m,\u001b[0m \u001b[0my_train\u001b[0m\u001b[0;34m)\u001b[0m\u001b[0;34m\u001b[0m\u001b[0;34m\u001b[0m\u001b[0m\n\u001b[0;32m---> 21\u001b[0;31m \u001b[0mrfr_model_no_outliers\u001b[0m \u001b[0;34m=\u001b[0m \u001b[0mtrain_rfr\u001b[0m\u001b[0;34m(\u001b[0m\u001b[0mX_train_no_outliers\u001b[0m\u001b[0;34m,\u001b[0m \u001b[0my_train_no_outliers\u001b[0m\u001b[0;34m)\u001b[0m\u001b[0;34m\u001b[0m\u001b[0;34m\u001b[0m\u001b[0m\n\u001b[0m\u001b[1;32m     22\u001b[0m \u001b[0;31m# Train the Random Forest model with hyperparameter tuning\u001b[0m\u001b[0;34m\u001b[0m\u001b[0;34m\u001b[0m\u001b[0m\n\u001b[1;32m     23\u001b[0m \u001b[0mrfr_best_model\u001b[0m \u001b[0;34m=\u001b[0m \u001b[0mtrain_rfr\u001b[0m\u001b[0;34m(\u001b[0m\u001b[0mX_train\u001b[0m\u001b[0;34m,\u001b[0m \u001b[0my_train\u001b[0m\u001b[0;34m)\u001b[0m\u001b[0;34m\u001b[0m\u001b[0;34m\u001b[0m\u001b[0m\n",
            "\u001b[0;31mNameError\u001b[0m: name 'X_train_no_outliers' is not defined"
          ]
        }
      ]
    },
    {
      "cell_type": "code",
      "source": [
        "# Train models for both original and cleaned datasets\n",
        "rfr_model = train_rfr(X_train, y_train)\n",
        "rfr_model_no_outliers = train_rfr(X_train_no_outliers, y_train_no_outliers)\n",
        "\n",
        "# Evaluate the Random Forest model\n",
        "rfr_y_pred = rfr_model.predict(X_test)\n",
        "rfr_no_outliers_y_pred = rfr_model_no_outliers.predict(X_test_no_outliers)\n",
        "\n",
        "# Calculate metrics for both models\n",
        "rfr_mse = mean_squared_error(y_test, rfr_y_pred)\n",
        "rfr_rmse = mean_squared_error(y_test, rfr_y_pred, squared=False)\n",
        "rfr_r2 = r2_score(y_test, rfr_y_pred)\n",
        "\n",
        "rfr_no_outliers_mse = mean_squared_error(y_test_no_outliers, rfr_no_outliers_y_pred)\n",
        "rfr_no_outliers_rmse = mean_squared_error(y_test_no_outliers, rfr_no_outliers_y_pred, squared=False)\n",
        "rfr_no_outliers_r2 = r2_score(y_test_no_outliers, rfr_no_outliers_y_pred)\n",
        "\n",
        "print(\"Random Forest Regressor (Original Dataset):\")\n",
        "print(f\"R²: {rfr_r2:.3f}, MSE: {rfr_mse:.2f}, RMSE: {rfr_rmse:.2f}\")\n",
        "\n",
        "print(\"Random Forest Regressor (Cleaned Dataset):\")\n",
        "print(f\"R²: {rfr_no_outliers_r2:.3f}, MSE: {rfr_no_outliers_mse:.2f}, RMSE: {rfr_no_outliers_rmse:.2f}\")"
      ],
      "metadata": {
        "id": "_MqS5teafKCH"
      },
      "execution_count": null,
      "outputs": []
    }
  ]
}