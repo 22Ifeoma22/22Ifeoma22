{
  "cells": [
    {
      "cell_type": "markdown",
      "metadata": {
        "id": "view-in-github",
        "colab_type": "text"
      },
      "source": [
        "<a href=\"https://colab.research.google.com/github/22Ifeoma22/22Ifeoma22/blob/main/Outline.ipynb\" target=\"_parent\"><img src=\"https://colab.research.google.com/assets/colab-badge.svg\" alt=\"Open In Colab\"/></a>"
      ]
    },
    {
      "cell_type": "markdown",
      "metadata": {
        "id": "I6RIfR1z5HqD"
      },
      "source": [
        "# Machine Learning with PyTorch"
      ]
    },
    {
      "cell_type": "markdown",
      "metadata": {
        "id": "2NbZ9Tc05HqD"
      },
      "source": [
        "## Resources\n",
        "\n",
        "This training material is available under a CC BY-NC-SA 4.0 license. You can find it at GitHub [DavidMertz/PyTorch-webinar](https://github.com/DavidMertz/PyTorch-webinar).\n",
        "\n",
        "Before attending this course, please configure the environments you will need. Within the repository, find the file requirements.txt to install software using pip, or the file environment.yml to install software using conda.\n",
        "\n",
        "Please contact me and my training company, [KDM Training](http://kdm.training) for hands-on, instructor-led, onsite or remote, training. Our email is info@kdm.training.\n",
        "\n",
        "\n",
        "### Installing training materials\n",
        "\n",
        "Before attending this course, please configure the environments you will need.  Within the repository, find the file `requirements.txt` to install software using `pip`, or the file `environment.yml` to install software using `conda`.  I.e.:\n",
        "\n",
        "```bash\n",
        "$ conda env create -f environment.yml\n",
        "$ conda activate Pearson-PyTorch\n",
        "(Pearson-PyTorch) $ jupyter notebook Outline.ipynb\n",
        "```\n",
        "\n",
        "Or\n",
        "\n",
        "```bash\n",
        "$ pip install -r requirements.txt\n",
        "$ juypter notebook Outline.ipynb\n",
        "```"
      ]
    },
    {
      "cell_type": "markdown",
      "metadata": {
        "id": "qFKm_mIK5HqE"
      },
      "source": [
        "# Beginning Material"
      ]
    },
    {
      "cell_type": "code",
      "execution_count": 1,
      "metadata": {
        "id": "RPY7Qxt55HqE"
      },
      "outputs": [],
      "source": [
        "from torch import device, cuda\n",
        "if cuda.is_available():\n",
        "    print(cuda.get_device_capability())\n",
        "    print(cuda.get_device_name())"
      ]
    },
    {
      "cell_type": "markdown",
      "metadata": {
        "id": "s15NPjQ15HqF"
      },
      "source": [
        "## What is Machine Learning? What is Deep Learning?\n",
        "\n",
        "* Understand the difference between \"deep learning\" and other ML techniques\n",
        "* Describe the techniques used in machine learning\n",
        "* Understand classification versus regression versus clustering\n",
        "* Perform dimensionality reduction\n",
        "* Explain feature engineering\n",
        "* Utilize feature selection\n",
        "* Distinguish categorical versus ordinal versus continuous variables\n",
        "* Perform one-hot encoding\n",
        "* Types of network layers\n",
        "\n",
        "<div><a href=\"WhatIsML.ipynb\"><img src=\"img/open-notebook.png\" align=\"left\"/></a></div>"
      ]
    },
    {
      "cell_type": "markdown",
      "metadata": {
        "id": "MOJNKTnS5HqF"
      },
      "source": [
        "## Comparing Several Libraries\n",
        "\n",
        "A quick look at performing the same task in:\n",
        "\n",
        "* scikit-learn\n",
        "* Keras (with TensorFlow)\n",
        "* PyTorch.\n",
        "\n",
        "<div><a href=\"Library_Comparison.ipynb\"><img src=\"img/open-notebook.png\" align=\"left\"/></a></div>"
      ]
    },
    {
      "cell_type": "markdown",
      "metadata": {
        "id": "lMQ21Qxn5HqF"
      },
      "source": [
        "## Understanding PyTorch\n",
        "\n",
        "* Tensors and NumPy interfaces\n",
        "* Autograd\n",
        "* Using GPUs with `torch.cuda`\n",
        "* Parallelizing on clusters with `torch.distributed`\n",
        "* Create a neural network with `torch.nn`\n",
        "\n",
        "<div><a href=\"IntroPyTorch.ipynb\"><img src=\"img/open-notebook.png\" align=\"left\"/></a></div>"
      ]
    },
    {
      "cell_type": "markdown",
      "metadata": {
        "id": "Ry9pMmjf5HqF"
      },
      "source": [
        "## Tasks with Networks\n",
        "\n",
        "&nbsp;• A simple feature classifier\n",
        "<a href=\"NetworkExamples_0.ipynb\"><img src=\"img/open-notebook.png\" align=\"left\"/></a>\n",
        "    \n",
        "&nbsp;• An image classifier\n",
        "<a href=\"NetworkExamples_1.ipynb\"><img src=\"img/open-notebook.png\" align=\"left\"/></a>\n",
        "    \n",
        "&nbsp;• A regression prediction\n",
        "<a href=\"NetworkExamples_2.ipynb\"><img src=\"img/open-notebook.png\" align=\"left\"/></a>\n",
        "\n",
        "&nbsp;• Clustering with PyTorch\n",
        "<a href=\"NetworkExamples_3.ipynb\"><img src=\"img/open-notebook.png\" align=\"left\"/></a>\n",
        "\n",
        "&nbsp;•  Generative Adversarial Networks (GAN)\n",
        "<a href=\"NetworkExamples_4.ipynb\"><img src=\"img/open-notebook.png\" align=\"left\"/></a>\n",
        "\n",
        "&nbsp;•  Part of Speech Tagger\n",
        "<a href=\"NetworkExamples_5.ipynb\"><img src=\"img/open-notebook.png\" align=\"left\"/></a>"
      ]
    },
    {
      "cell_type": "markdown",
      "metadata": {
        "id": "_sl3ecES5HqF"
      },
      "source": [
        "## Enhancing an Image Classifier\n",
        "\n",
        "* Starting with `torchvision.models`\n",
        "* Retraining pretrained models\n",
        "* Modifying Network Layers\n",
        "* Understanding Effects of Network Structure\n",
        "\n",
        "<div><a href=\"ImageClassifier.ipynb\"><img src=\"img/open-notebook.png\" align=\"left\"/></a></div>"
      ]
    },
    {
      "cell_type": "markdown",
      "metadata": {
        "id": "3ehp9Pgp5HqF"
      },
      "source": [
        "## Natural Language Processing with AllenNLP\n",
        "\n",
        "* What is AllenNLP?\n",
        "* What is SpaCy?\n",
        "* High Level Interfaces to NLP using PyTorch\n",
        "* Sentiment Analysis\n",
        "* Part-of-Speech Tagging\n",
        "\n",
        "<div><a href=\"AllenNLP_0.ipynb\"><img src=\"img/open-notebook.png\" align=\"left\"/></a></div>"
      ]
    }
  ],
  "metadata": {
    "kernelspec": {
      "display_name": "Python 3",
      "language": "python",
      "name": "python3"
    },
    "language_info": {
      "codemirror_mode": {
        "name": "ipython",
        "version": 3
      },
      "file_extension": ".py",
      "mimetype": "text/x-python",
      "name": "python",
      "nbconvert_exporter": "python",
      "pygments_lexer": "ipython3",
      "version": "3.8.8"
    },
    "colab": {
      "provenance": [],
      "include_colab_link": true
    }
  },
  "nbformat": 4,
  "nbformat_minor": 0
}