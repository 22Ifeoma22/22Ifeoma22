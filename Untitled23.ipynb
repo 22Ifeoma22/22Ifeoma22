{
  "nbformat": 4,
  "nbformat_minor": 0,
  "metadata": {
    "colab": {
      "provenance": [],
      "authorship_tag": "ABX9TyMLRmB3je9TqSCklxacCL49",
      "include_colab_link": true
    },
    "kernelspec": {
      "name": "python3",
      "display_name": "Python 3"
    },
    "language_info": {
      "name": "python"
    }
  },
  "cells": [
    {
      "cell_type": "markdown",
      "metadata": {
        "id": "view-in-github",
        "colab_type": "text"
      },
      "source": [
        "<a href=\"https://colab.research.google.com/github/22Ifeoma22/22Ifeoma22/blob/main/Untitled23.ipynb\" target=\"_parent\"><img src=\"https://colab.research.google.com/assets/colab-badge.svg\" alt=\"Open In Colab\"/></a>"
      ]
    },
    {
      "cell_type": "code",
      "execution_count": 15,
      "metadata": {
        "id": "K0cO2yisEnvg"
      },
      "outputs": [],
      "source": [
        "import tensorflow as tf"
      ]
    },
    {
      "cell_type": "code",
      "source": [
        "# load the data\n",
        "mnist = tf.keras.datasets.mnist\n",
        "(x_train, y_train),(x_test, y_test) = mnist.load_data()\n",
        "x_train,y_train = x_train / 255.0, x_test /255.0\n",
        "print(\"x_train.shape:\" , x_train.shape)"
      ],
      "metadata": {
        "colab": {
          "base_uri": "https://localhost:8080/"
        },
        "id": "8lajWLd0E9pl",
        "outputId": "56198062-b9a8-4873-cdf3-faec07c0c833"
      },
      "execution_count": 16,
      "outputs": [
        {
          "output_type": "stream",
          "name": "stdout",
          "text": [
            "x_train.shape: (60000, 28, 28)\n"
          ]
        }
      ]
    },
    {
      "cell_type": "code",
      "source": [
        "# Build the model\n",
        "model = tf.keras.models.Sequential([\n",
        "    tf.keras.layers.Flatten(input_shape=(28, 28)),\n",
        "    tf.keras.layers.Dense(128, activation='relu'),\n",
        "    tf.keras.layers.Dropout(0.2),\n",
        "    tf.keras.layers.Dense(10, activation='softmax')\n",
        " ])"
      ],
      "metadata": {
        "id": "7rNAgHRGGQ3D"
      },
      "execution_count": 27,
      "outputs": []
    },
    {
      "cell_type": "code",
      "source": [
        "# Compile the model\n",
        "model.compile(optimizer='adam',\n",
        "              loss='sparse_categorical_crossentropy',\n",
        "              metrics=['accuracy'])"
      ],
      "metadata": {
        "id": "tPcAQ8QLIEpf"
      },
      "execution_count": 28,
      "outputs": []
    },
    {
      "cell_type": "code",
      "source": [
        "import tensorflow as tf\n",
        "from tensorflow.keras.models import Sequential\n",
        "from tensorflow.keras.layers import Flatten, Dense, Dropout\n",
        "\n",
        "# Build the model\n",
        "model = Sequential([\n",
        "    Flatten(input_shape=(28, 28)),\n",
        "    Dense(128, activation='relu'),\n",
        "    Dropout(0.2),\n",
        "    Dense(10, activation='softmax')\n",
        "])\n",
        "\n",
        "# Compile the model\n",
        "model.compile(optimizer='adam',\n",
        "              loss='sparse_categorical_crossentropy',\n",
        "              metrics=['accuracy'])\n",
        "\n",
        "# Load the dataset (for example, MNIST)\n",
        "(x_train, y_train), (x_test, y_test) = tf.keras.datasets.mnist.load_data()\n",
        "\n",
        "# Normalize the data\n",
        "x_train, x_test = x_train / 255.0, x_test / 255.0\n",
        "\n",
        "# Train the model\n",
        "r = model.fit(x_train, y_train, validation_data=(x_test, y_test), epochs=10)\n",
        "\n",
        "# View the training history\n",
        "print(r.history)\n"
      ],
      "metadata": {
        "colab": {
          "base_uri": "https://localhost:8080/"
        },
        "id": "m8RYe-e8KuCy",
        "outputId": "f0c6fb80-0202-4d24-f77e-1c357f5f7b44"
      },
      "execution_count": 30,
      "outputs": [
        {
          "metadata": {
            "tags": null
          },
          "name": "stdout",
          "output_type": "stream",
          "text": [
            "Epoch 1/10\n",
            "1875/1875 [==============================] - 9s 4ms/step - loss: 0.2982 - accuracy: 0.9139 - val_loss: 0.1412 - val_accuracy: 0.9572\n",
            "Epoch 2/10\n",
            "1875/1875 [==============================] - 10s 5ms/step - loss: 0.1456 - accuracy: 0.9573 - val_loss: 0.1002 - val_accuracy: 0.9702\n",
            "Epoch 3/10\n",
            "1875/1875 [==============================] - 10s 5ms/step - loss: 0.1086 - accuracy: 0.9676 - val_loss: 0.0860 - val_accuracy: 0.9749\n",
            "Epoch 4/10\n",
            "1875/1875 [==============================] - 8s 4ms/step - loss: 0.0886 - accuracy: 0.9725 - val_loss: 0.0789 - val_accuracy: 0.9760\n",
            "Epoch 5/10\n",
            "1875/1875 [==============================] - 12s 6ms/step - loss: 0.0754 - accuracy: 0.9767 - val_loss: 0.0787 - val_accuracy: 0.9766\n",
            "Epoch 6/10\n",
            "1875/1875 [==============================] - 10s 5ms/step - loss: 0.0650 - accuracy: 0.9789 - val_loss: 0.0746 - val_accuracy: 0.9782\n",
            "Epoch 7/10\n",
            "1875/1875 [==============================] - 9s 5ms/step - loss: 0.0580 - accuracy: 0.9816 - val_loss: 0.0730 - val_accuracy: 0.9797\n",
            "Epoch 8/10\n",
            "1875/1875 [==============================] - 9s 5ms/step - loss: 0.0543 - accuracy: 0.9822 - val_loss: 0.0711 - val_accuracy: 0.9791\n",
            "Epoch 9/10\n",
            "1875/1875 [==============================] - 10s 5ms/step - loss: 0.0482 - accuracy: 0.9843 - val_loss: 0.0680 - val_accuracy: 0.9790\n",
            "Epoch 10/10\n",
            "1875/1875 [==============================] - 8s 4ms/step - loss: 0.0432 - accuracy: 0.9855 - val_loss: 0.0751 - val_accuracy: 0.9768\n",
            "{'loss': [0.29823920130729675, 0.14556185901165009, 0.10858280956745148, 0.08860751241445541, 0.07543514668941498, 0.06498868763446808, 0.05799669027328491, 0.054258931428194046, 0.04819091781973839, 0.04320589825510979], 'accuracy': [0.9139333367347717, 0.9573000073432922, 0.9675833582878113, 0.9724833369255066, 0.9767166376113892, 0.9788833260536194, 0.9816333055496216, 0.9822333455085754, 0.984333336353302, 0.9854833483695984], 'val_loss': [0.14123114943504333, 0.1001729890704155, 0.08596357703208923, 0.07889026403427124, 0.07873210310935974, 0.07460212707519531, 0.07296425849199295, 0.07106132805347443, 0.06801459938287735, 0.07513253390789032], 'val_accuracy': [0.9571999907493591, 0.9702000021934509, 0.9749000072479248, 0.9760000109672546, 0.9765999913215637, 0.9782000184059143, 0.9797000288963318, 0.9790999889373779, 0.9789999723434448, 0.9768000245094299]}\n"
          ]
        }
      ]
    },
    {
      "cell_type": "code",
      "source": [
        "# Plot loss per iteration"
      ],
      "metadata": {
        "id": "I6h0la6LMwcr"
      },
      "execution_count": null,
      "outputs": []
    }
  ]
}