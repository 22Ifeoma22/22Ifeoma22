{
  "cells": [
    {
      "cell_type": "markdown",
      "metadata": {
        "id": "view-in-github",
        "colab_type": "text"
      },
      "source": [
        "<a href=\"https://colab.research.google.com/github/22Ifeoma22/22Ifeoma22/blob/main/demo8_RidgeRegression.ipynb\" target=\"_parent\"><img src=\"https://colab.research.google.com/assets/colab-badge.svg\" alt=\"Open In Colab\"/></a>"
      ]
    },
    {
      "cell_type": "code",
      "execution_count": 1,
      "metadata": {
        "id": "yCT636kBiigE"
      },
      "outputs": [],
      "source": [
        "import numpy as np\n",
        "import matplotlib.pyplot as plt"
      ]
    },
    {
      "cell_type": "markdown",
      "metadata": {
        "id": "wLDg1sAgiigF"
      },
      "source": [
        "#### Creating Dataset\n",
        "A simple dataset using numpy arrays"
      ]
    },
    {
      "cell_type": "code",
      "execution_count": 2,
      "metadata": {
        "id": "QXrF8mNViigG"
      },
      "outputs": [],
      "source": [
        "x_train = np.array ([[4.7], [2.4], [7.5], [7.1], [4.3],\n",
        "                     [7.8], [8.9], [5.2], [4.59], [2.1],\n",
        "                     [8], [5], [7.5], [5], [4],\n",
        "                     [8], [5.2], [4.9], [3], [4.7],\n",
        "                     [4], [4.8], [3.5], [2.1], [4.1]],\n",
        "                    dtype = np.float32)\n",
        "\n",
        "y_train = np.array ([[2.6], [1.6], [3.09], [2.4], [2.4],\n",
        "                     [3.3], [2.6], [1.96], [3.13], [1.76],\n",
        "                     [3.2], [2.1], [1.6], [2.5], [2.2],\n",
        "                     [2.75], [2.4], [1.8], [1], [2],\n",
        "                     [1.6], [2.4], [2.6], [1.5], [3.1]],\n",
        "                    dtype = np.float32)"
      ]
    },
    {
      "cell_type": "markdown",
      "metadata": {
        "id": "4NU757YoiigG"
      },
      "source": [
        "#### View the data\n",
        "There seems to be some relationship which can be plotted between x_train and y_train. A regression line can be drawn to represent the relationship"
      ]
    },
    {
      "cell_type": "code",
      "execution_count": 3,
      "metadata": {
        "colab": {
          "base_uri": "https://localhost:8080/",
          "height": 676
        },
        "id": "VR0tgbSviigH",
        "outputId": "d044332c-1822-4f60-94e9-c90532824fe5"
      },
      "outputs": [
        {
          "output_type": "display_data",
          "data": {
            "text/plain": [
              "<Figure size 800x800 with 1 Axes>"
            ],
            "image/png": "[encoded data removed]"
          },
          "metadata": {}
        }
      ],
      "source": [
        "plt.figure(figsize=(8,8))\n",
        "\n",
        "plt.scatter(x_train, y_train, c='green', s=250, label='Original data')\n",
        "\n",
        "plt.show()"
      ]
    },
    {
      "cell_type": "code",
      "execution_count": 4,
      "metadata": {
        "id": "OQbQsOCkiigH"
      },
      "outputs": [],
      "source": [
        "import torch"
      ]
    },
    {
      "cell_type": "markdown",
      "metadata": {
        "id": "JxOnMRyKiigI"
      },
      "source": [
        "#### Converting data to pytorch tensors\n",
        "By defualt requires_grad = False"
      ]
    },
    {
      "cell_type": "code",
      "execution_count": 5,
      "metadata": {
        "colab": {
          "base_uri": "https://localhost:8080/"
        },
        "id": "S4QwA6BKiigI",
        "outputId": "5da946f7-1159-4257-ea87-a1db51397460"
      },
      "outputs": [
        {
          "output_type": "stream",
          "name": "stdout",
          "text": [
            "requires_grad for X_train:  False\n",
            "requires_grad for Y_train:  False\n"
          ]
        }
      ],
      "source": [
        "X_train = torch.from_numpy(x_train)\n",
        "Y_train = torch.from_numpy(y_train)\n",
        "\n",
        "print('requires_grad for X_train: ', X_train.requires_grad)\n",
        "print('requires_grad for Y_train: ', Y_train.requires_grad)"
      ]
    },
    {
      "cell_type": "markdown",
      "metadata": {
        "id": "nmt8aksdiigI"
      },
      "source": [
        "#### Set the details for our neural network\n",
        "Input, output and hidden layer sizes plus the learning rate"
      ]
    },
    {
      "cell_type": "code",
      "execution_count": 6,
      "metadata": {
        "id": "C5JfMeo4iigI"
      },
      "outputs": [],
      "source": [
        "input_size = 1\n",
        "hidden_size = 1\n",
        "output_size = 1\n",
        "learning_rate = 0.001"
      ]
    },
    {
      "cell_type": "markdown",
      "metadata": {
        "id": "UMiE11ReiigI"
      },
      "source": [
        "#### Create random Tensors for weights and biases.<br>\n",
        "Setting requires_grad=True indicates that we want to compute gradients with respect to these Tensors during the backward pass"
      ]
    },
    {
      "cell_type": "code",
      "execution_count": 7,
      "metadata": {
        "colab": {
          "base_uri": "https://localhost:8080/"
        },
        "id": "llhC9dKsiigI",
        "outputId": "a3bbd59f-e21b-4091-c0f5-3e126167dfba"
      },
      "outputs": [
        {
          "output_type": "execute_result",
          "data": {
            "text/plain": [
              "torch.Size([1, 1])"
            ]
          },
          "metadata": {},
          "execution_count": 7
        }
      ],
      "source": [
        "w1 = torch.rand(input_size,\n",
        "                hidden_size,\n",
        "\n",
        "                requires_grad=True)\n",
        "w1.shape"
      ]
    },
    {
      "cell_type": "code",
      "execution_count": 8,
      "metadata": {
        "colab": {
          "base_uri": "https://localhost:8080/"
        },
        "id": "IuEV1GSXiigI",
        "outputId": "95c0cc04-68cd-4066-abaa-321dae24f372"
      },
      "outputs": [
        {
          "output_type": "execute_result",
          "data": {
            "text/plain": [
              "torch.Size([1, 1])"
            ]
          },
          "metadata": {},
          "execution_count": 8
        }
      ],
      "source": [
        "b1 = torch.rand(hidden_size,\n",
        "                output_size,\n",
        "\n",
        "                requires_grad=True)\n",
        "b1.shape"
      ]
    },
    {
      "cell_type": "code",
      "execution_count": 9,
      "metadata": {
        "colab": {
          "base_uri": "https://localhost:8080/"
        },
        "id": "LuTawAI8iigJ",
        "outputId": "43c60d29-6a9d-4c17-c407-42897e5be1f5"
      },
      "outputs": [
        {
          "output_type": "execute_result",
          "data": {
            "text/plain": [
              "tensor([[0.6669]], requires_grad=True)"
            ]
          },
          "metadata": {},
          "execution_count": 9
        }
      ],
      "source": [
        "w1"
      ]
    },
    {
      "cell_type": "code",
      "execution_count": 10,
      "metadata": {
        "colab": {
          "base_uri": "https://localhost:8080/"
        },
        "id": "fWMQm5faiigJ",
        "outputId": "2bad2ec4-434b-4ee0-8af1-aa3aec780963"
      },
      "outputs": [
        {
          "output_type": "execute_result",
          "data": {
            "text/plain": [
              "tensor([[0.6744]], requires_grad=True)"
            ]
          },
          "metadata": {},
          "execution_count": 10
        }
      ],
      "source": [
        "b1"
      ]
    },
    {
      "cell_type": "code",
      "execution_count": 11,
      "metadata": {
        "id": "PrYyv1rBiigJ"
      },
      "outputs": [],
      "source": [
        "alpha = 0.8"
      ]
    },
    {
      "cell_type": "markdown",
      "metadata": {
        "id": "h553GEgjiigJ"
      },
      "source": [
        "## Training\n",
        "\n",
        "#### Foward Pass:\n",
        "* Predicting Y with input data X\n",
        "* we use y = ax+b as its a regression problem\n",
        "\n",
        "#### Finding Loss:\n",
        "* Finding difference between Y_train and Y_pred by squaring the difference and then summing out, similar to nn.MSELoss and adding a penalty of L2 norm as it is ridge regression\n",
        "\n",
        "\n",
        "#### For the loss_backward() function call:\n",
        "* backward pass will compute the gradient of loss with respect to all Tensors with requires_grad=True.\n",
        "* After this call w1.grad and b1.grad will be Tensors holding the gradient of the loss with respect to w1 and b1 respectively.\n",
        "\n",
        "#### Manually updating the weights\n",
        "* weights have requires_grad=True, but we don't need to track this in autograd. So will wrap it in torch.no_grad\n",
        "* reducing weight with multiple of learning rate and gradient\n",
        "* manually zero the weight gradients after updating weights"
      ]
    },
    {
      "cell_type": "code",
      "execution_count": 12,
      "metadata": {
        "colab": {
          "base_uri": "https://localhost:8080/"
        },
        "id": "Qocjb_HtiigJ",
        "outputId": "43d33f75-6eaf-4356-844c-de0fb13b36d3"
      },
      "outputs": [
        {
          "output_type": "stream",
          "name": "stdout",
          "text": [
            "500 6.149300575256348\n",
            "1000 6.144217491149902\n",
            "1500 6.1442036628723145\n",
            "2000 6.144202709197998\n",
            "2500 6.144202709197998\n",
            "3000 6.144202709197998\n",
            "3500 6.144202709197998\n",
            "4000 6.144202709197998\n",
            "4500 6.144202709197998\n",
            "5000 6.144202709197998\n"
          ]
        }
      ],
      "source": [
        "for iter in range(1, 5001):\n",
        "\n",
        "    y_pred = X_train.mm(w1).add(b1)\n",
        "\n",
        "    ridge_regularization_penalty = (w1*w1)\n",
        "\n",
        "    loss = ((y_pred - Y_train).pow(2).sum()) + (alpha * ridge_regularization_penalty)\n",
        "\n",
        "    if iter % 500 ==0:\n",
        "        print(iter, loss.item())\n",
        "\n",
        "    loss.backward()\n",
        "\n",
        "    with torch.no_grad():\n",
        "        w1 -= learning_rate * w1.grad\n",
        "        b1 -= learning_rate * b1.grad\n",
        "\n",
        "        w1.grad.zero_()\n",
        "        b1.grad.zero_()"
      ]
    },
    {
      "cell_type": "code",
      "execution_count": 13,
      "metadata": {
        "colab": {
          "base_uri": "https://localhost:8080/"
        },
        "id": "Cxoy0SLmiigJ",
        "outputId": "8332c260-953f-49aa-b46e-47eb3df82e38"
      },
      "outputs": [
        {
          "output_type": "stream",
          "name": "stdout",
          "text": [
            "w1:  tensor([[0.1735]], requires_grad=True)\n",
            "b1:  tensor([[1.4123]], requires_grad=True)\n"
          ]
        }
      ],
      "source": [
        "print ('w1: ', w1)\n",
        "print ('b1: ', b1)"
      ]
    },
    {
      "cell_type": "markdown",
      "metadata": {
        "id": "o-PqQzRSiigJ"
      },
      "source": [
        "#### Checking the output"
      ]
    },
    {
      "cell_type": "markdown",
      "metadata": {
        "id": "_-EhMQfhiigK"
      },
      "source": [
        "Converting data into a tensor"
      ]
    },
    {
      "cell_type": "code",
      "execution_count": 14,
      "metadata": {
        "colab": {
          "base_uri": "https://localhost:8080/"
        },
        "id": "MpZ7BZowiigK",
        "outputId": "11aa7133-8145-420f-935f-9b21b6d3e379"
      },
      "outputs": [
        {
          "output_type": "execute_result",
          "data": {
            "text/plain": [
              "tensor([[4.7000],\n",
              "        [2.4000],\n",
              "        [7.5000],\n",
              "        [7.1000],\n",
              "        [4.3000],\n",
              "        [7.8000],\n",
              "        [8.9000],\n",
              "        [5.2000],\n",
              "        [4.5900],\n",
              "        [2.1000],\n",
              "        [8.0000],\n",
              "        [5.0000],\n",
              "        [7.5000],\n",
              "        [5.0000],\n",
              "        [4.0000],\n",
              "        [8.0000],\n",
              "        [5.2000],\n",
              "        [4.9000],\n",
              "        [3.0000],\n",
              "        [4.7000],\n",
              "        [4.0000],\n",
              "        [4.8000],\n",
              "        [3.5000],\n",
              "        [2.1000],\n",
              "        [4.1000]])"
            ]
          },
          "metadata": {},
          "execution_count": 14
        }
      ],
      "source": [
        "x_train_tensor = torch.from_numpy(x_train)\n",
        "x_train_tensor"
      ]
    },
    {
      "cell_type": "markdown",
      "metadata": {
        "id": "cJPSUppOiigK"
      },
      "source": [
        "#### Get the predicted values using the weights\n",
        "Using final weights calculated from our training in order to get the predicted values"
      ]
    },
    {
      "cell_type": "code",
      "execution_count": 15,
      "metadata": {
        "colab": {
          "base_uri": "https://localhost:8080/"
        },
        "id": "86JRIwxAiigK",
        "outputId": "3f404557-2a74-4cb9-a7a3-b36602513366"
      },
      "outputs": [
        {
          "output_type": "execute_result",
          "data": {
            "text/plain": [
              "tensor([[2.2280],\n",
              "        [1.8288],\n",
              "        [2.7139],\n",
              "        [2.6445],\n",
              "        [2.1586],\n",
              "        [2.7660],\n",
              "        [2.9569],\n",
              "        [2.3148],\n",
              "        [2.2089],\n",
              "        [1.7768],\n",
              "        [2.8007],\n",
              "        [2.2801],\n",
              "        [2.7139],\n",
              "        [2.2801],\n",
              "        [2.1065],\n",
              "        [2.8007],\n",
              "        [2.3148],\n",
              "        [2.2627],\n",
              "        [1.9330],\n",
              "        [2.2280],\n",
              "        [2.1065],\n",
              "        [2.2454],\n",
              "        [2.0197],\n",
              "        [1.7768],\n",
              "        [2.1239]], grad_fn=<AddBackward0>)"
            ]
          },
          "metadata": {},
          "execution_count": 15
        }
      ],
      "source": [
        "predicted_in_tensor = X_train.mm(w1).add(b1)\n",
        "predicted_in_tensor"
      ]
    },
    {
      "cell_type": "markdown",
      "metadata": {
        "id": "G6meuTc9iigK"
      },
      "source": [
        "#### Convert the prediction to a numpy array\n",
        "This will be used to plot the regression line in a plot"
      ]
    },
    {
      "cell_type": "code",
      "execution_count": 16,
      "metadata": {
        "colab": {
          "base_uri": "https://localhost:8080/"
        },
        "id": "Efq2qiwCiigK",
        "outputId": "adcc3ef0-fc6a-4ca3-c640-c20334cf4043"
      },
      "outputs": [
        {
          "output_type": "execute_result",
          "data": {
            "text/plain": [
              "array([[2.2280006],\n",
              "       [1.8288374],\n",
              "       [2.7139387],\n",
              "       [2.644519 ],\n",
              "       [2.1585813],\n",
              "       [2.7660036],\n",
              "       [2.9569077],\n",
              "       [2.3147755],\n",
              "       [2.2089105],\n",
              "       [1.7767726],\n",
              "       [2.8007135],\n",
              "       [2.2800655],\n",
              "       [2.7139387],\n",
              "       [2.2800655],\n",
              "       [2.1065164],\n",
              "       [2.8007135],\n",
              "       [2.3147755],\n",
              "       [2.2627106],\n",
              "       [1.932967 ],\n",
              "       [2.2280006],\n",
              "       [2.1065164],\n",
              "       [2.2453558],\n",
              "       [2.0197415],\n",
              "       [1.7767726],\n",
              "       [2.1238713]], dtype=float32)"
            ]
          },
          "metadata": {},
          "execution_count": 16
        }
      ],
      "source": [
        "predicted = predicted_in_tensor.detach().numpy()\n",
        "predicted"
      ]
    },
    {
      "cell_type": "markdown",
      "metadata": {
        "id": "Co3gvNITiigK"
      },
      "source": [
        "#### Plotting\n",
        "Our training has produced a rather accurate regression line"
      ]
    },
    {
      "cell_type": "code",
      "execution_count": 17,
      "metadata": {
        "colab": {
          "base_uri": "https://localhost:8080/",
          "height": 676
        },
        "id": "55dUaHsziigK",
        "outputId": "de19f5df-203d-4d26-db16-e710a8182d7c"
      },
      "outputs": [
        {
          "output_type": "display_data",
          "data": {
            "text/plain": [
              "<Figure size 800x800 with 1 Axes>"
            ],
            "image/png": "[encoded data removed]"
          },
          "metadata": {}
        }
      ],
      "source": [
        "plt.figure(figsize=(8,8))\n",
        "\n",
        "plt.scatter(x_train, y_train, c='green', s=250, label='Original data')\n",
        "\n",
        "plt.plot(x_train, predicted, label = 'Fitted line ')\n",
        "\n",
        "plt.legend()\n",
        "\n",
        "plt.show()"
      ]
    },
    {
      "cell_type": "markdown",
      "metadata": {
        "id": "wgN_LGpiiigK"
      },
      "source": [
        "#### We check the weights and biases with sklearn ridge regression to see if they match the weights and biases calculated by neural network"
      ]
    },
    {
      "cell_type": "code",
      "execution_count": 18,
      "metadata": {
        "id": "dMlrhag1iigK"
      },
      "outputs": [],
      "source": [
        "from sklearn.linear_model import Ridge\n",
        "\n",
        "ridge_model = Ridge()"
      ]
    },
    {
      "cell_type": "code",
      "execution_count": 19,
      "metadata": {
        "id": "9MaaDuWbiigK"
      },
      "outputs": [],
      "source": [
        "ridge_reg = ridge_model.fit(x_train, y_train)"
      ]
    },
    {
      "cell_type": "code",
      "execution_count": 20,
      "metadata": {
        "colab": {
          "base_uri": "https://localhost:8080/"
        },
        "id": "iW8QWwkniigL",
        "outputId": "e03d79f1-bd02-423e-bcfe-b4b31d97c702"
      },
      "outputs": [
        {
          "output_type": "stream",
          "name": "stdout",
          "text": [
            "w1 with sklearn is : [[0.17317088]]\n"
          ]
        }
      ],
      "source": [
        "print(\"w1 with sklearn is :\", ridge_model.coef_)"
      ]
    },
    {
      "cell_type": "code",
      "execution_count": 21,
      "metadata": {
        "colab": {
          "base_uri": "https://localhost:8080/"
        },
        "id": "sgPoQnm_iigL",
        "outputId": "aacf6541-a391-4b0c-cbd8-c87d272d9034"
      },
      "outputs": [
        {
          "output_type": "stream",
          "name": "stdout",
          "text": [
            "b1 with sklearn is : [1.4142637]\n"
          ]
        }
      ],
      "source": [
        "print(\"b1 with sklearn is :\", ridge_model.intercept_)"
      ]
    },
    {
      "cell_type": "code",
      "execution_count": 22,
      "metadata": {
        "colab": {
          "base_uri": "https://localhost:8080/"
        },
        "id": "25r-zmvLiigL",
        "outputId": "c5c53661-f2c2-4f3f-b962-7d9323704aee"
      },
      "outputs": [
        {
          "output_type": "execute_result",
          "data": {
            "text/plain": [
              "array([[2.2281668],\n",
              "       [1.8298738],\n",
              "       [2.7130454],\n",
              "       [2.643777 ],\n",
              "       [2.1588986],\n",
              "       [2.7649965],\n",
              "       [2.9554844],\n",
              "       [2.3147523],\n",
              "       [2.2091181],\n",
              "       [1.7779225],\n",
              "       [2.7996306],\n",
              "       [2.280118 ],\n",
              "       [2.7130454],\n",
              "       [2.280118 ],\n",
              "       [2.1069472],\n",
              "       [2.7996306],\n",
              "       [2.3147523],\n",
              "       [2.2628012],\n",
              "       [1.9337764],\n",
              "       [2.2281668],\n",
              "       [2.1069472],\n",
              "       [2.2454839],\n",
              "       [2.020362 ],\n",
              "       [1.7779225],\n",
              "       [2.1242642]], dtype=float32)"
            ]
          },
          "metadata": {},
          "execution_count": 22
        }
      ],
      "source": [
        "predicted = ridge_reg.predict(x_train)\n",
        "\n",
        "predicted"
      ]
    },
    {
      "cell_type": "code",
      "execution_count": 23,
      "metadata": {
        "colab": {
          "base_uri": "https://localhost:8080/",
          "height": 676
        },
        "id": "jFDbRwd-iigL",
        "outputId": "043ad8b5-6aa6-4d7f-f902-556f8db3bf21"
      },
      "outputs": [
        {
          "output_type": "display_data",
          "data": {
            "text/plain": [
              "<Figure size 800x800 with 1 Axes>"
            ],
            "image/png": "[encoded data removed]"
          },
          "metadata": {}
        }
      ],
      "source": [
        "plt.figure(figsize=(8, 8))\n",
        "\n",
        "plt.scatter(x_train, y_train, c='green', s=250, label='Original data')\n",
        "\n",
        "plt.plot(x_train, predicted, label = 'Fitted line')\n",
        "\n",
        "plt.legend()\n",
        "\n",
        "plt.show()"
      ]
    },
    {
      "cell_type": "code",
      "execution_count": null,
      "metadata": {
        "id": "Ap4_LephiigL"
      },
      "outputs": [],
      "source": []
    }
  ],
  "metadata": {
    "kernelspec": {
      "display_name": "Python 3",
      "language": "python",
      "name": "python3"
    },
    "language_info": {
      "codemirror_mode": {
        "name": "ipython",
        "version": 3
      },
      "file_extension": ".py",
      "mimetype": "text/x-python",
      "name": "python",
      "nbconvert_exporter": "python",
      "pygments_lexer": "ipython3",
      "version": "3.7.1"
    },
    "colab": {
      "provenance": [],
      "include_colab_link": true
    }
  },
  "nbformat": 4,
  "nbformat_minor": 0
}