{
  "nbformat": 4,
  "nbformat_minor": 0,
  "metadata": {
    "colab": {
      "provenance": [],
      "authorship_tag": "ABX9TyMIf8sLeMOIV0QLWvMsjci7",
      "include_colab_link": true
    },
    "kernelspec": {
      "name": "python3",
      "display_name": "Python 3"
    },
    "language_info": {
      "name": "python"
    }
  },
  "cells": [
    {
      "cell_type": "markdown",
      "metadata": {
        "id": "view-in-github",
        "colab_type": "text"
      },
      "source": [
        "<a href=\"https://colab.research.google.com/github/22Ifeoma22/22Ifeoma22/blob/main/MNIST_CLASSIFICATION.ipynb\" target=\"_parent\"><img src=\"https://colab.research.google.com/assets/colab-badge.svg\" alt=\"Open In Colab\"/></a>"
      ]
    },
    {
      "cell_type": "code",
      "execution_count": null,
      "metadata": {
        "id": "zW5Eoab98vDh"
      },
      "outputs": [],
      "source": [
        "from sklearn.datasets import fetch_openml\n",
        "import pandas as pd\n"
      ]
    },
    {
      "cell_type": "code",
      "source": [
        "mnist = fetch_openml('mnist_784', as_frame=False)"
      ],
      "metadata": {
        "colab": {
          "base_uri": "https://localhost:8080/"
        },
        "id": "PmxRvUmv9Fzi",
        "outputId": "f81af6ce-1b66-426c-9888-473d167ad4a3"
      },
      "execution_count": null,
      "outputs": [
        {
          "output_type": "stream",
          "name": "stderr",
          "text": [
            "/usr/local/lib/python3.10/dist-packages/sklearn/datasets/_openml.py:968: FutureWarning: The default value of `parser` will change from `'liac-arff'` to `'auto'` in 1.4. You can set `parser='auto'` to silence this warning. Therefore, an `ImportError` will be raised from 1.4 if the dataset is dense and pandas is not installed. Note that the pandas parser may return different data types. See the Notes Section in fetch_openml's API doc for details.\n",
            "  warn(\n"
          ]
        }
      ]
    },
    {
      "cell_type": "code",
      "source": [
        "X, y= mnist.data,mnist.target\n",
        "X"
      ],
      "metadata": {
        "colab": {
          "base_uri": "https://localhost:8080/"
        },
        "id": "P0CgrJoB9vyC",
        "outputId": "dd9b0219-6d11-4a05-e19e-a8bde35b4d45"
      },
      "execution_count": null,
      "outputs": [
        {
          "output_type": "execute_result",
          "data": {
            "text/plain": [
              "array([[0., 0., 0., ..., 0., 0., 0.],\n",
              "       [0., 0., 0., ..., 0., 0., 0.],\n",
              "       [0., 0., 0., ..., 0., 0., 0.],\n",
              "       ...,\n",
              "       [0., 0., 0., ..., 0., 0., 0.],\n",
              "       [0., 0., 0., ..., 0., 0., 0.],\n",
              "       [0., 0., 0., ..., 0., 0., 0.]])"
            ]
          },
          "metadata": {},
          "execution_count": 8
        }
      ]
    },
    {
      "cell_type": "code",
      "source": [
        "X.shape"
      ],
      "metadata": {
        "colab": {
          "base_uri": "https://localhost:8080/"
        },
        "id": "ne98j8RX-G3y",
        "outputId": "f50b8a97-3edc-4fbf-dc19-2aa24097973a"
      },
      "execution_count": null,
      "outputs": [
        {
          "output_type": "execute_result",
          "data": {
            "text/plain": [
              "(70000, 784)"
            ]
          },
          "metadata": {},
          "execution_count": 9
        }
      ]
    },
    {
      "cell_type": "code",
      "source": [
        "y.shape"
      ],
      "metadata": {
        "colab": {
          "base_uri": "https://localhost:8080/"
        },
        "id": "bTYwBhNE-L9x",
        "outputId": "59956164-b187-4dea-f1a0-b9e89aa7b9b1"
      },
      "execution_count": null,
      "outputs": [
        {
          "output_type": "execute_result",
          "data": {
            "text/plain": [
              "(70000,)"
            ]
          },
          "metadata": {},
          "execution_count": 10
        }
      ]
    },
    {
      "cell_type": "code",
      "source": [
        "import matplotlib.pyplot as plt\n"
      ],
      "metadata": {
        "id": "BNYLNdcjHwrT"
      },
      "execution_count": null,
      "outputs": []
    },
    {
      "cell_type": "code",
      "source": [
        "def plot_digit(image_data):\n",
        "  image = image_data.reshape(28, 28)\n",
        "  plt.imshow(image, cmap=\"binary\")\n",
        "  plt.axis(\"off\")"
      ],
      "metadata": {
        "id": "Gr5aW-GKH3rD"
      },
      "execution_count": null,
      "outputs": []
    },
    {
      "cell_type": "code",
      "source": [
        "some_digit = X[0]\n",
        "plot_digit(some_digit)\n",
        "plt.show()"
      ],
      "metadata": {
        "colab": {
          "base_uri": "https://localhost:8080/",
          "height": 406
        },
        "id": "ND8Klr60IYAM",
        "outputId": "27b3644e-d897-4bed-c587-dc1c4c8c2bd3"
      },
      "execution_count": null,
      "outputs": [
        {
          "output_type": "display_data",
          "data": {
            "text/plain": [
              "<Figure size 640x480 with 1 Axes>"
            ],
            "image/png": "[encoded data removed]"
          },
          "metadata": {}
        }
      ]
    },
    {
      "cell_type": "code",
      "source": [
        "y[0]"
      ],
      "metadata": {
        "colab": {
          "base_uri": "https://localhost:8080/",
          "height": 35
        },
        "id": "zjBQuplbIuHb",
        "outputId": "6c70646e-b449-40ff-95e7-db9ef4c71c5a"
      },
      "execution_count": null,
      "outputs": [
        {
          "output_type": "execute_result",
          "data": {
            "text/plain": [
              "'5'"
            ],
            "application/vnd.google.colaboratory.intrinsic+json": {
              "type": "string"
            }
          },
          "metadata": {},
          "execution_count": 15
        }
      ]
    },
    {
      "cell_type": "code",
      "source": [
        "X_train, X_test, y_train, y_test = X[:60000], X[60000:],X[:60000], X[60000:]"
      ],
      "metadata": {
        "id": "B7kMuMzoI06M"
      },
      "execution_count": null,
      "outputs": []
    },
    {
      "cell_type": "markdown",
      "source": [
        "#Training a Binary Classifier"
      ],
      "metadata": {
        "id": "AlMnWVBIKiG0"
      }
    },
    {
      "cell_type": "code",
      "source": [
        "y_train_5 = (y_train =='5') # True for all ss, False for all other digits\n",
        "y_test_5 = (y_test =='5')"
      ],
      "metadata": {
        "id": "QtMlF_r1JaSM"
      },
      "execution_count": null,
      "outputs": []
    },
    {
      "cell_type": "markdown",
      "source": [
        "# The SGDC is able to handle large dataset efficiently.It deals with training instances independently and suitable for online learning"
      ],
      "metadata": {
        "id": "pM_vNY7nKDn7"
      }
    },
    {
      "cell_type": "code",
      "source": [
        "from sklearn.linear_model import SGDClassifier"
      ],
      "metadata": {
        "id": "oL6a4WZAJ1yU"
      },
      "execution_count": null,
      "outputs": []
    },
    {
      "cell_type": "code",
      "source": [
        "sgd_clf = SGDClassifier()"
      ],
      "metadata": {
        "id": "aPNOyjoQKdQM"
      },
      "execution_count": null,
      "outputs": []
    },
    {
      "cell_type": "code",
      "source": [
        "from sklearn.datasets import fetch_openml\n",
        "from sklearn.model_selection import train_test_split\n",
        "from sklearn.linear_model import SGDClassifier\n",
        "from sklearn.preprocessing import StandardScaler\n",
        "from sklearn.metrics import accuracy_score, classification_report, confusion_matrix\n",
        "import matplotlib.pyplot as plt\n",
        "import seaborn as sns\n",
        "\n",
        "# Load the MNIST dataset\n",
        "mnist = fetch_openml('mnist_784', version=1)\n",
        "\n",
        "# Display the structure of the dataset\n",
        "print(mnist.keys())\n",
        "\n",
        "# Features and target\n",
        "X, y = mnist[\"data\"], mnist[\"target\"]\n",
        "\n",
        "# Convert target to integers\n",
        "y = y.astype(int)\n",
        "\n",
        "# Create a binary target variable for detecting the digit '5'\n",
        "y_binary = (y == 5)\n",
        "\n",
        "# Split the data into training and testing sets\n",
        "X_train, X_test, y_train, y_test = train_test_split(X, y_binary, test_size=0.2, random_state=42)\n",
        "\n",
        "# Scale the data (important for SGD)\n",
        "scaler = StandardScaler()\n",
        "X_train_scaled = scaler.fit_transform(X_train.astype(float))\n",
        "X_test_scaled = scaler.transform(X_test.astype(float))\n",
        "\n",
        "# Initialize the SGDClassifier\n",
        "sgd_clf = SGDClassifier(random_state=42)\n",
        "\n",
        "# Train the classifier\n",
        "sgd_clf.fit(X_train_scaled, y_train)\n",
        "\n",
        "# Predict using the trained classifier\n",
        "y_train_pred = sgd_clf.predict(X_train_scaled)\n",
        "y_test_pred = sgd_clf.predict(X_test_scaled)\n",
        "\n",
        "# Evaluate the classifier\n",
        "print(\"Training accuracy:\", accuracy_score(y_train, y_train_pred))\n",
        "print(\"Testing accuracy:\", accuracy_score(y_test, y_test_pred))\n",
        "\n",
        "print(\"\\nClassification Report (Test Data):\\n\", classification_report(y_test, y_test_pred))\n",
        "print(\"Confusion Matrix (Test Data):\\n\", confusion_matrix(y_test, y_test_pred))\n",
        "\n",
        "# Plotting the confusion matrix\n",
        "sns.heatmap(confusion_matrix(y_test, y_test_pred), annot=True, fmt=\"d\", cmap=\"coolwarm\")\n",
        "plt.xlabel('Predicted')\n",
        "plt.ylabel('Actual')\n",
        "plt.title('Confusion Matrix')\n",
        "plt.show()"
      ],
      "metadata": {
        "colab": {
          "base_uri": "https://localhost:8080/",
          "height": 822
        },
        "id": "epg2Q_5hRAhe",
        "outputId": "8a2a033b-10df-4887-f8be-9f34bdc9166f"
      },
      "execution_count": null,
      "outputs": [
        {
          "output_type": "stream",
          "name": "stderr",
          "text": [
            "/usr/local/lib/python3.10/dist-packages/sklearn/datasets/_openml.py:968: FutureWarning: The default value of `parser` will change from `'liac-arff'` to `'auto'` in 1.4. You can set `parser='auto'` to silence this warning. Therefore, an `ImportError` will be raised from 1.4 if the dataset is dense and pandas is not installed. Note that the pandas parser may return different data types. See the Notes Section in fetch_openml's API doc for details.\n",
            "  warn(\n"
          ]
        },
        {
          "output_type": "stream",
          "name": "stdout",
          "text": [
            "dict_keys(['data', 'target', 'frame', 'categories', 'feature_names', 'target_names', 'DESCR', 'details', 'url'])\n",
            "Training accuracy: 0.9745892857142857\n",
            "Testing accuracy: 0.9697142857142858\n",
            "\n",
            "Classification Report (Test Data):\n",
            "               precision    recall  f1-score   support\n",
            "\n",
            "       False       0.98      0.99      0.98     12727\n",
            "        True       0.88      0.78      0.82      1273\n",
            "\n",
            "    accuracy                           0.97     14000\n",
            "   macro avg       0.93      0.88      0.90     14000\n",
            "weighted avg       0.97      0.97      0.97     14000\n",
            "\n",
            "Confusion Matrix (Test Data):\n",
            " [[12588   139]\n",
            " [  285   988]]\n"
          ]
        },
        {
          "output_type": "display_data",
          "data": {
            "text/plain": [
              "<Figure size 640x480 with 2 Axes>"
            ],
            "image/png": "[encoded data removed]"
          },
          "metadata": {}
        }
      ]
    },
    {
      "cell_type": "code",
      "source": [
        "!pip install mglearn"
      ],
      "metadata": {
        "colab": {
          "base_uri": "https://localhost:8080/"
        },
        "id": "JkXvU_XlSGee",
        "outputId": "ead16cae-3d43-4279-c8e8-06d3b30008c2"
      },
      "execution_count": null,
      "outputs": [
        {
          "output_type": "stream",
          "name": "stdout",
          "text": [
            "Collecting mglearn\n",
            "  Downloading mglearn-0.2.0-py2.py3-none-any.whl (581 kB)\n",
            "\u001b[?25l     \u001b[90m━━━━━━━━━━━━━━━━━━━━━━━━━━━━━━━━━━━━━━━━\u001b[0m \u001b[32m0.0/581.4 kB\u001b[0m \u001b[31m?\u001b[0m eta \u001b[36m-:--:--\u001b[0m\r\u001b[2K     \u001b[91m━━━━━━━━━━━\u001b[0m\u001b[91m╸\u001b[0m\u001b[90m━━━━━━━━━━━━━━━━━━━━━━━━━━━━\u001b[0m \u001b[32m174.1/581.4 kB\u001b[0m \u001b[31m5.2 MB/s\u001b[0m eta \u001b[36m0:00:01\u001b[0m\r\u001b[2K     \u001b[91m━━━━━━━━━━━━━━━━━━━━━━━━━━━━━━━━━━━━━━\u001b[0m\u001b[90m╺\u001b[0m\u001b[90m━\u001b[0m \u001b[32m553.0/581.4 kB\u001b[0m \u001b[31m7.9 MB/s\u001b[0m eta \u001b[36m0:00:01\u001b[0m\r\u001b[2K     \u001b[90m━━━━━━━━━━━━━━━━━━━━━━━━━━━━━━━━━━━━━━━━\u001b[0m \u001b[32m581.4/581.4 kB\u001b[0m \u001b[31m7.0 MB/s\u001b[0m eta \u001b[36m0:00:00\u001b[0m\n",
            "\u001b[?25hRequirement already satisfied: numpy in /usr/local/lib/python3.10/dist-packages (from mglearn) (1.25.2)\n",
            "Requirement already satisfied: matplotlib in /usr/local/lib/python3.10/dist-packages (from mglearn) (3.7.1)\n",
            "Requirement already satisfied: scikit-learn in /usr/local/lib/python3.10/dist-packages (from mglearn) (1.2.2)\n",
            "Requirement already satisfied: pandas in /usr/local/lib/python3.10/dist-packages (from mglearn) (2.0.3)\n",
            "Requirement already satisfied: pillow in /usr/local/lib/python3.10/dist-packages (from mglearn) (9.4.0)\n",
            "Requirement already satisfied: cycler in /usr/local/lib/python3.10/dist-packages (from mglearn) (0.12.1)\n",
            "Requirement already satisfied: imageio in /usr/local/lib/python3.10/dist-packages (from mglearn) (2.31.6)\n",
            "Requirement already satisfied: joblib in /usr/local/lib/python3.10/dist-packages (from mglearn) (1.4.2)\n",
            "Requirement already satisfied: contourpy>=1.0.1 in /usr/local/lib/python3.10/dist-packages (from matplotlib->mglearn) (1.2.1)\n",
            "Requirement already satisfied: fonttools>=4.22.0 in /usr/local/lib/python3.10/dist-packages (from matplotlib->mglearn) (4.51.0)\n",
            "Requirement already satisfied: kiwisolver>=1.0.1 in /usr/local/lib/python3.10/dist-packages (from matplotlib->mglearn) (1.4.5)\n",
            "Requirement already satisfied: packaging>=20.0 in /usr/local/lib/python3.10/dist-packages (from matplotlib->mglearn) (24.0)\n",
            "Requirement already satisfied: pyparsing>=2.3.1 in /usr/local/lib/python3.10/dist-packages (from matplotlib->mglearn) (3.1.2)\n",
            "Requirement already satisfied: python-dateutil>=2.7 in /usr/local/lib/python3.10/dist-packages (from matplotlib->mglearn) (2.8.2)\n",
            "Requirement already satisfied: pytz>=2020.1 in /usr/local/lib/python3.10/dist-packages (from pandas->mglearn) (2023.4)\n",
            "Requirement already satisfied: tzdata>=2022.1 in /usr/local/lib/python3.10/dist-packages (from pandas->mglearn) (2024.1)\n",
            "Requirement already satisfied: scipy>=1.3.2 in /usr/local/lib/python3.10/dist-packages (from scikit-learn->mglearn) (1.11.4)\n",
            "Requirement already satisfied: threadpoolctl>=2.0.0 in /usr/local/lib/python3.10/dist-packages (from scikit-learn->mglearn) (3.5.0)\n",
            "Requirement already satisfied: six>=1.5 in /usr/local/lib/python3.10/dist-packages (from python-dateutil>=2.7->matplotlib->mglearn) (1.16.0)\n",
            "Installing collected packages: mglearn\n",
            "Successfully installed mglearn-0.2.0\n"
          ]
        }
      ]
    },
    {
      "cell_type": "code",
      "source": [
        "from sklearn.model_selection import cross_val_score"
      ],
      "metadata": {
        "id": "Hp0rpA7VSt3Y"
      },
      "execution_count": null,
      "outputs": []
    },
    {
      "cell_type": "code",
      "source": [
        "from sklearn.datasets import fetch_openml\n",
        "from sklearn.linear_model import SGDClassifier\n",
        "from sklearn.preprocessing import StandardScaler\n",
        "from sklearn.model_selection import cross_val_score\n",
        "import numpy as np\n",
        "\n",
        "# Load the MNIST dataset\n",
        "mnist = fetch_openml('mnist_784', version=1)\n",
        "\n",
        "# Features and target\n",
        "X, y = mnist[\"data\"], mnist[\"target\"]\n",
        "\n",
        "# Convert target to integers\n",
        "y = y.astype(int)\n",
        "\n",
        "# Create a binary target variable for detecting the digit '5'\n",
        "y_binary = (y == 5)\n",
        "\n",
        "# Scale the data (important for SGD)\n",
        "scaler = StandardScaler()\n",
        "X_scaled = scaler.fit_transform(X.astype(float))\n",
        "\n",
        "# Initialize the SGDClassifier\n",
        "sgd_clf = SGDClassifier(random_state=42)"
      ],
      "metadata": {
        "colab": {
          "base_uri": "https://localhost:8080/"
        },
        "id": "FqfT3BTvUi6n",
        "outputId": "4c4a68b3-eec2-462d-ad46-cbba8a266bb9"
      },
      "execution_count": null,
      "outputs": [
        {
          "output_type": "stream",
          "name": "stderr",
          "text": [
            "/usr/local/lib/python3.10/dist-packages/sklearn/datasets/_openml.py:968: FutureWarning: The default value of `parser` will change from `'liac-arff'` to `'auto'` in 1.4. You can set `parser='auto'` to silence this warning. Therefore, an `ImportError` will be raised from 1.4 if the dataset is dense and pandas is not installed. Note that the pandas parser may return different data types. See the Notes Section in fetch_openml's API doc for details.\n",
            "  warn(\n"
          ]
        }
      ]
    },
    {
      "cell_type": "code",
      "source": [
        "# Evaluate the classifier using cross-validation\n",
        "cross_val_scores = cross_val_score(sgd_clf, X_scaled, y_binary, cv=5, scoring=\"accuracy\")\n",
        "\n",
        "# Print the cross-validation scores\n",
        "print(\"Cross-validation scores:\", cross_val_scores)\n",
        "print(\"Mean cross-validation score:\", np.mean(cross_val_scores))"
      ],
      "metadata": {
        "colab": {
          "base_uri": "https://localhost:8080/"
        },
        "id": "zUnnZO79TyCB",
        "outputId": "3ae5ace7-b18a-46bb-cc41-f31f8f77a441"
      },
      "execution_count": null,
      "outputs": [
        {
          "output_type": "stream",
          "name": "stdout",
          "text": [
            "Cross-validation scores: [0.973      0.97078571 0.96592857 0.96692857 0.9725    ]\n",
            "Mean cross-validation score: 0.9698285714285714\n"
          ]
        }
      ]
    },
    {
      "cell_type": "code",
      "source": [
        "# Visualize the cross-validation scores using a bar plot\n",
        "plt.figure(figsize=(8, 6))\n",
        "plt.bar(range(1, len(cross_val_scores) + 1), cross_val_scores)\n",
        "plt.xlabel('Fold')\n",
        "plt.ylabel('Accuracy')\n",
        "plt.title('Cross-Validation Accuracy Scores')\n",
        "plt.xticks(range(1, len(cross_val_scores) + 1))\n",
        "plt.ylim(0, 1)\n",
        "plt.show()"
      ],
      "metadata": {
        "colab": {
          "base_uri": "https://localhost:8080/",
          "height": 564
        },
        "id": "Z1aaPXcDXl2v",
        "outputId": "64ea89c7-5d9c-4d72-fd05-9a6b40c52ece"
      },
      "execution_count": null,
      "outputs": [
        {
          "output_type": "display_data",
          "data": {
            "text/plain": [
              "<Figure size 800x600 with 1 Axes>"
            ],
            "image/png": "[encoded data removed]"
          },
          "metadata": {}
        }
      ]
    },
    {
      "cell_type": "code",
      "source": [
        "# Visualize the cross-validation scores using a swarm plot\n",
        "plt.figure(figsize=(8, 6))\n",
        "sns.swarmplot(data=cross_val_scores)\n",
        "plt.xlabel('Fold')\n",
        "plt.ylabel('Accuracy')\n",
        "plt.title('Cross-Validation Accuracy Scores')\n",
        "plt.show()"
      ],
      "metadata": {
        "colab": {
          "base_uri": "https://localhost:8080/",
          "height": 550
        },
        "id": "nct1jSY_cOZp",
        "outputId": "9a27f55a-f067-40ae-8ea6-52ae56a5aa3d"
      },
      "execution_count": null,
      "outputs": [
        {
          "output_type": "display_data",
          "data": {
            "text/plain": [
              "<Figure size 800x600 with 1 Axes>"
            ],
            "image/png": "[encoded data removed]"
          },
          "metadata": {}
        }
      ]
    },
    {
      "cell_type": "code",
      "source": [
        "# Visualize the cross-validation scores using a strip plot\n",
        "plt.figure(figsize=(8, 6))\n",
        "sns.stripplot(data=cross_val_scores, jitter=True)\n",
        "plt.xlabel('Fold')\n",
        "plt.ylabel('Accuracy')\n",
        "plt.title('Cross-Validation Accuracy Scores')\n",
        "plt.show()"
      ],
      "metadata": {
        "colab": {
          "base_uri": "https://localhost:8080/",
          "height": 550
        },
        "id": "MsVeAOZmcbcD",
        "outputId": "1b9a609d-38e6-4356-8437-aa5c87375fb9"
      },
      "execution_count": null,
      "outputs": [
        {
          "output_type": "display_data",
          "data": {
            "text/plain": [
              "<Figure size 800x600 with 1 Axes>"
            ],
            "image/png": "[encoded data removed]"
          },
          "metadata": {}
        }
      ]
    },
    {
      "cell_type": "code",
      "source": [
        "# Visualize the cross-validation scores using a box plot\n",
        "plt.figure(figsize=(8, 6))\n",
        "plt.boxplot(cross_val_scores, vert=False)\n",
        "plt.xlabel('Accuracy')\n",
        "plt.title('Cross-Validation Accuracy Scores')\n",
        "plt.show()"
      ],
      "metadata": {
        "id": "IEaNqE9Zckr8",
        "outputId": "645fdb46-0f59-4c22-b9fc-0a0f7dbba47d",
        "colab": {
          "base_uri": "https://localhost:8080/",
          "height": 564
        }
      },
      "execution_count": null,
      "outputs": [
        {
          "output_type": "display_data",
          "data": {
            "text/plain": [
              "<Figure size 800x600 with 1 Axes>"
            ],
            "image/png": "[encoded data removed]"
          },
          "metadata": {}
        }
      ]
    },
    {
      "cell_type": "code",
      "source": [
        "import seaborn as sns"
      ],
      "metadata": {
        "id": "kh6MGhcuSK5o"
      },
      "execution_count": 2,
      "outputs": []
    },
    {
      "cell_type": "code",
      "source": [
        "import numpy as np\n",
        "from sklearn.datasets import fetch_openml\n",
        "from sklearn.model_selection import train_test_split\n",
        "from sklearn.dummy import DummyClassifier\n",
        "from sklearn.metrics import accuracy_score\n",
        "\n",
        "# Load the MNIST dataset\n",
        "mnist = fetch_openml('mnist_784', version=1, as_frame=False)\n",
        "X, y = mnist.data, mnist.target\n",
        "\n",
        "# Convert the target to integer type\n",
        "y = y.astype(np.int8)\n",
        "\n",
        "# Create a binary target variable for detecting the digit '5'\n",
        "y_binary = (y == 5)\n",
        "\n",
        "# Split the data into training and testing sets\n",
        "X_train, X_test, y_train, y_test = train_test_split(X, y, test_size=0.2, random_state=42)\n",
        "\n",
        "# Create a DummyClassifier with the 'most_frequent' strategy\n",
        "dummy_clf = DummyClassifier(strategy=\"most_frequent\")\n",
        "\n",
        "# Fit the classifier on the training data\n",
        "dummy_clf.fit(X_train, y_train)\n",
        "\n",
        "# Make predictions on the test data\n",
        "y_pred = dummy_clf.predict(X_test)\n",
        "\n",
        "# Evaluate the accuracy\n",
        "accuracy = accuracy_score(y_test, y_pred)\n",
        "print(f'DummyClassifier accuracy (most_frequent): {accuracy:.4f}')\n"
      ],
      "metadata": {
        "colab": {
          "base_uri": "https://localhost:8080/"
        },
        "id": "zCcgGpS3Vl3o",
        "outputId": "a25c9fa1-6876-46be-acdf-599ad698c896"
      },
      "execution_count": 5,
      "outputs": [
        {
          "output_type": "stream",
          "name": "stderr",
          "text": [
            "/usr/local/lib/python3.10/dist-packages/sklearn/datasets/_openml.py:968: FutureWarning: The default value of `parser` will change from `'liac-arff'` to `'auto'` in 1.4. You can set `parser='auto'` to silence this warning. Therefore, an `ImportError` will be raised from 1.4 if the dataset is dense and pandas is not installed. Note that the pandas parser may return different data types. See the Notes Section in fetch_openml's API doc for details.\n",
            "  warn(\n"
          ]
        },
        {
          "output_type": "stream",
          "name": "stdout",
          "text": [
            "DummyClassifier accuracy (most_frequent): 0.1143\n"
          ]
        }
      ]
    },
    {
      "cell_type": "code",
      "source": [
        "import numpy as np\n",
        "from sklearn.datasets import fetch_openml\n",
        "from sklearn.model_selection import train_test_split, cross_val_score\n",
        "from sklearn.dummy import DummyClassifier\n",
        "\n",
        "# Load the MNIST dataset\n",
        "mnist = fetch_openml('mnist_784', version=1, as_frame=False)\n",
        "X, y = mnist.data, mnist.target\n",
        "\n",
        "# Convert the target to integer type\n",
        "y = y.astype(np.int8)\n",
        "\n",
        "# Create a binary target variable for detecting the digit '5'\n",
        "y_binary = (y == 5)\n",
        "\n",
        "\n",
        "# Create a DummyClassifier with the 'most_frequent' strategy\n",
        "dummy_clf = DummyClassifier(strategy=\"most_frequent\")\n",
        "\n",
        "# Perform 5-fold cross-validation\n",
        "scores = cross_val_score(dummy_clf, X, y, cv=5, scoring='accuracy')\n",
        "\n",
        "# Print the cross-validation accuracy scores\n",
        "print(f'Cross-validation accuracy scores: {scores}')\n",
        "print(f'Mean cross-validation accuracy: {scores.mean():.4f}')\n"
      ],
      "metadata": {
        "colab": {
          "base_uri": "https://localhost:8080/"
        },
        "id": "_m92zGnAWYKd",
        "outputId": "4e9a5f55-36a1-4cc1-eb35-f132abb325b0"
      },
      "execution_count": 6,
      "outputs": [
        {
          "output_type": "stream",
          "name": "stderr",
          "text": [
            "/usr/local/lib/python3.10/dist-packages/sklearn/datasets/_openml.py:968: FutureWarning: The default value of `parser` will change from `'liac-arff'` to `'auto'` in 1.4. You can set `parser='auto'` to silence this warning. Therefore, an `ImportError` will be raised from 1.4 if the dataset is dense and pandas is not installed. Note that the pandas parser may return different data types. See the Notes Section in fetch_openml's API doc for details.\n",
            "  warn(\n"
          ]
        },
        {
          "output_type": "stream",
          "name": "stdout",
          "text": [
            "Cross-validation accuracy scores: [0.11257143 0.11257143 0.1125     0.1125     0.1125    ]\n",
            "Mean cross-validation accuracy: 0.1125\n"
          ]
        }
      ]
    },
    {
      "cell_type": "code",
      "source": [
        "y_train_5 =(y_train =='5')\n",
        "y_test_5 = (y_test == '5')"
      ],
      "metadata": {
        "id": "HH4azOKGXjdj"
      },
      "execution_count": 7,
      "outputs": []
    },
    {
      "cell_type": "code",
      "source": [
        "dummy_clf =DummyClassifier()\n",
        "dummy_clf.fit(X_train, y_train_5)\n",
        "print(any(dummy_clf.predict(X_train))) # prints False no 5s detected\n",
        ""
      ],
      "metadata": {
        "colab": {
          "base_uri": "https://localhost:8080/"
        },
        "id": "8rcwh2b_WyYh",
        "outputId": "15642359-5854-4be9-9ac9-982c3536110c"
      },
      "execution_count": 13,
      "outputs": [
        {
          "output_type": "stream",
          "name": "stdout",
          "text": [
            "False\n"
          ]
        }
      ]
    },
    {
      "cell_type": "markdown",
      "source": [
        "#Performance Measures"
      ],
      "metadata": {
        "id": "2Ldp2Zr_dGi8"
      }
    },
    {
      "cell_type": "markdown",
      "source": [
        "#Measuring Accuracy Using Cross Validation"
      ],
      "metadata": {
        "id": "GLRSZUbCc9p7"
      }
    },
    {
      "cell_type": "code",
      "source": [
        "cross_val_score(dummy_clf, X_train, y_train_5, cv=3, scoring='accuracy')"
      ],
      "metadata": {
        "colab": {
          "base_uri": "https://localhost:8080/"
        },
        "id": "qglkTljXZYAp",
        "outputId": "56d9304b-9fb6-47d7-a22d-440d8498a9ac"
      },
      "execution_count": 14,
      "outputs": [
        {
          "output_type": "execute_result",
          "data": {
            "text/plain": [
              "array([1., 1., 1.])"
            ]
          },
          "metadata": {},
          "execution_count": 14
        }
      ]
    },
    {
      "cell_type": "code",
      "source": [
        "import numpy as np\n",
        "from sklearn.datasets import fetch_openml\n",
        "from sklearn.model_selection import train_test_split, cross_val_score\n",
        "from sklearn.linear_model import SGDClassifier\n",
        "\n",
        "# Load the MNIST dataset\n",
        "mnist = fetch_openml('mnist_784', version=1, as_frame=False)\n",
        "X, y = mnist.data, mnist.target\n",
        "\n",
        "# Convert the target to integer type\n",
        "y = y.astype(np.int8)\n",
        "\n",
        "# Create binary target variable for '5'\n",
        "y_5 = (y == 5)\n",
        "\n",
        "# Split the data into training and testing sets\n",
        "X_train, X_test, y_train, y_test = train_test_split(X, y, test_size=0.2, random_state=42)\n",
        "\n",
        "# Create binary target variables for the training and test sets\n",
        "y_train_5 = (y_train == 5)\n",
        "y_test_5 = (y_test == 5)\n",
        "\n",
        "# Instantiate the SGDClassifier\n",
        "sgd_clf = SGDClassifier(random_state=42)\n",
        "\n",
        "# Fit the classifier on the training data\n",
        "sgd_clf.fit(X_train, y_train_5)\n",
        "\n",
        "# Perform 5-fold cross-validation\n",
        "cv_scores = cross_val_score(sgd_clf, X, y_5, cv=5, scoring='accuracy')\n",
        "\n",
        "# Print the cross-validation accuracy scores\n",
        "print(f'Cross-validation accuracy scores: {cv_scores}')\n",
        "print(f'Mean cross-validation accuracy: {cv_scores.mean():.4f}')\n"
      ],
      "metadata": {
        "colab": {
          "base_uri": "https://localhost:8080/"
        },
        "id": "BGz5fX-Jb29z",
        "outputId": "ca5c82af-90df-41d6-958d-5a3f51204c6b"
      },
      "execution_count": 18,
      "outputs": [
        {
          "output_type": "stream",
          "name": "stderr",
          "text": [
            "/usr/local/lib/python3.10/dist-packages/sklearn/datasets/_openml.py:968: FutureWarning: The default value of `parser` will change from `'liac-arff'` to `'auto'` in 1.4. You can set `parser='auto'` to silence this warning. Therefore, an `ImportError` will be raised from 1.4 if the dataset is dense and pandas is not installed. Note that the pandas parser may return different data types. See the Notes Section in fetch_openml's API doc for details.\n",
            "  warn(\n"
          ]
        },
        {
          "output_type": "stream",
          "name": "stdout",
          "text": [
            "Cross-validation accuracy scores: [0.96871429 0.96371429 0.94642857 0.9655     0.95757143]\n",
            "Mean cross-validation accuracy: 0.9604\n"
          ]
        }
      ]
    },
    {
      "cell_type": "code",
      "source": [
        "import numpy as np\n",
        "from sklearn.datasets import fetch_openml\n",
        "from sklearn.model_selection import cross_val_score\n",
        "from sklearn.dummy import DummyClassifier\n",
        "\n",
        "# Load the MNIST dataset\n",
        "mnist = fetch_openml('mnist_784', version=1, as_frame=False)\n",
        "X, y = mnist.data, mnist.target\n",
        "\n",
        "# Convert the target to integer type\n",
        "y = y.astype(np.int8)\n",
        "\n",
        "# Create a DummyClassifier with the 'most_frequent' strategy\n",
        "dummy_clf = DummyClassifier(strategy=\"most_frequent\")\n",
        "\n",
        "# Perform 5-fold cross-validation\n",
        "cv_scores = cross_val_score(dummy_clf, X, y, cv=5, scoring='accuracy')\n",
        "\n",
        "# Print the cross-validation accuracy scores\n",
        "print(f'Cross-validation accuracy scores: {cv_scores}')\n",
        "print(f'Mean cross-validation accuracy: {cv_scores.mean():.4f}')\n"
      ],
      "metadata": {
        "colab": {
          "base_uri": "https://localhost:8080/"
        },
        "id": "wgkpvyqmd47u",
        "outputId": "5ec160b8-8faf-4c02-e537-95b97943cfcb"
      },
      "execution_count": 19,
      "outputs": [
        {
          "output_type": "stream",
          "name": "stderr",
          "text": [
            "/usr/local/lib/python3.10/dist-packages/sklearn/datasets/_openml.py:968: FutureWarning: The default value of `parser` will change from `'liac-arff'` to `'auto'` in 1.4. You can set `parser='auto'` to silence this warning. Therefore, an `ImportError` will be raised from 1.4 if the dataset is dense and pandas is not installed. Note that the pandas parser may return different data types. See the Notes Section in fetch_openml's API doc for details.\n",
            "  warn(\n"
          ]
        },
        {
          "output_type": "stream",
          "name": "stdout",
          "text": [
            "Cross-validation accuracy scores: [0.11257143 0.11257143 0.1125     0.1125     0.1125    ]\n",
            "Mean cross-validation accuracy: 0.1125\n"
          ]
        }
      ]
    },
    {
      "cell_type": "markdown",
      "source": [
        "##This is why accuracy is not the prefered performance measure or classifiers, especially for skewed datasets.The best is to look at the confussion metrics"
      ],
      "metadata": {
        "id": "s3ZoYBcCejiL"
      }
    },
    {
      "cell_type": "code",
      "source": [
        "cross_val_score(dummy_clf, X_train,y_train_5,cv=3,scoring=\"accuracy\")"
      ],
      "metadata": {
        "colab": {
          "base_uri": "https://localhost:8080/"
        },
        "id": "DalCMkFfeJ4y",
        "outputId": "ef0caea1-3707-4822-ed46-80993cf78e49"
      },
      "execution_count": 20,
      "outputs": [
        {
          "output_type": "execute_result",
          "data": {
            "text/plain": [
              "array([0.91000161, 0.91000161, 0.90999679])"
            ]
          },
          "metadata": {},
          "execution_count": 20
        }
      ]
    },
    {
      "cell_type": "markdown",
      "source": [
        "### The StratifiedKFold class performs stratified sampling to produce folds that contains a representative ratio of each class.At each iteration the code creates a clone of classifier, trains that clone on the training folds, and makes predictions on the test fold.Then counts the number of correct predictios and outputs the ratio of correct predictions."
      ],
      "metadata": {
        "id": "iAPJ1t06utfA"
      }
    },
    {
      "cell_type": "code",
      "source": [
        "from sklearn.model_selection import StratifiedKFold\n",
        "from sklearn.base import clone"
      ],
      "metadata": {
        "id": "1PsFx_l4fKcf"
      },
      "execution_count": 21,
      "outputs": []
    },
    {
      "cell_type": "code",
      "source": [
        "skfolds =StratifiedKFold(n_splits=3)\n",
        "\n",
        "for train_index, test_index in skfolds.split(X_train, y_train,y_train_5):\n",
        "\n",
        "    clone_clf = clone(sgd_clf)\n",
        "X_train_folds = X_train[train_index]\n",
        "y_train_folds = y_train_5[train_index]\n",
        "X_test_fold = X_train[test_index]\n",
        "y_test_fold = y_train_5[test_index]\n",
        "\n",
        "clone_clf.fit(X_train_folds, y_train_folds)\n",
        "y_pred = clone_clf.predict(X_test_fold)\n",
        "n_correct = sum(y_pred == y_test_fold)\n",
        "print(n_correct / len(y_pred))"
      ],
      "metadata": {
        "colab": {
          "base_uri": "https://localhost:8080/"
        },
        "id": "CFMC3AkdfY-O",
        "outputId": "191d8003-b4d8-4628-ae50-56b0ab238bf7"
      },
      "execution_count": 25,
      "outputs": [
        {
          "output_type": "stream",
          "name": "stdout",
          "text": [
            "0.9624450873245473\n"
          ]
        }
      ]
    },
    {
      "cell_type": "markdown",
      "source": [
        "#Confusion Matrices"
      ],
      "metadata": {
        "id": "B2QWpaVfvibe"
      }
    },
    {
      "cell_type": "code",
      "source": [
        "from sklearn.model_selection import cross_val_predict"
      ],
      "metadata": {
        "id": "KlK7qgIxzpl7"
      },
      "execution_count": 27,
      "outputs": []
    },
    {
      "cell_type": "markdown",
      "source": [
        "The confusion matrics is to count the number of times instances of class A are classified as class B for all A/B pairs.For example, to know the number of times the classifier confused images of 8s with 0s, you would look at row 8 columns 0 of the confusion matrix.\n"
      ],
      "metadata": {
        "id": "jy7t5txbv2eR"
      }
    },
    {
      "cell_type": "markdown",
      "source": [
        "Just like the cross_val_score() function, cross_val_predict() performs k-fold cross validation but instead of returning the evaluation scores,it returns the predictions made on each test fold,that means you can get a clean prediction from the training set(\"by cean \"1 mean \"Out of shape\": the model makes predictions on data that it never saw during training"
      ],
      "metadata": {
        "id": "w55zdmETz_ou"
      }
    },
    {
      "cell_type": "code",
      "source": [
        "y_train_pred = cross_val_predict(sgd_clf, X_train, y_train_5, cv=3)"
      ],
      "metadata": {
        "id": "Y2paRq5wzS8C"
      },
      "execution_count": 28,
      "outputs": []
    },
    {
      "cell_type": "markdown",
      "source": [
        "Confusion matrix using the confussion_matrix() function"
      ],
      "metadata": {
        "id": "M5bPAbSi1Df8"
      }
    },
    {
      "cell_type": "code",
      "source": [
        "from sklearn.metrics import confusion_matrix"
      ],
      "metadata": {
        "id": "MEN8132z0_BT"
      },
      "execution_count": 30,
      "outputs": []
    },
    {
      "cell_type": "code",
      "source": [
        "cm = confusion_matrix(y_train_5, y_train_pred)"
      ],
      "metadata": {
        "id": "3RWSnDI9vnPH"
      },
      "execution_count": 32,
      "outputs": []
    },
    {
      "cell_type": "code",
      "source": [
        "cm"
      ],
      "metadata": {
        "colab": {
          "base_uri": "https://localhost:8080/"
        },
        "id": "eYPYacegyxNd",
        "outputId": "107fbe74-3572-4f3f-c0f1-fa9e39f6edd7"
      },
      "execution_count": 33,
      "outputs": [
        {
          "output_type": "execute_result",
          "data": {
            "text/plain": [
              "array([[50287,   673],\n",
              "       [ 1180,  3860]])"
            ]
          },
          "metadata": {},
          "execution_count": 33
        }
      ]
    },
    {
      "cell_type": "code",
      "source": [
        "# Plotting the confusion matrix\n",
        "sns.heatmap(confusion_matrix(y_train_5, y_train_pred), annot=True, fmt=\"d\", cmap=\"coolwarm\")\n",
        "plt.xlabel('Predicted')\n",
        "plt.ylabel('Actual')\n",
        "plt.title('Confusion Matrix')\n",
        "plt.show()"
      ],
      "metadata": {
        "colab": {
          "base_uri": "https://localhost:8080/",
          "height": 472
        },
        "id": "9dMF3RR91-y5",
        "outputId": "e3fa3214-6211-43d0-f25b-09feb55af33f"
      },
      "execution_count": 34,
      "outputs": [
        {
          "output_type": "display_data",
          "data": {
            "text/plain": [
              "<Figure size 640x480 with 2 Axes>"
            ],
            "image/png": "[encoded data removed]"
          },
          "metadata": {}
        }
      ]
    },
    {
      "cell_type": "markdown",
      "source": [
        "Each row in a confusion matrix represents an actual class, while each column represents an actual class, while each column represents a predicted class.The first row of this matrix considers non-5 images(the negative class):50287 of them were correctly classified as non 5s(they are called true negatives), while the remaining 673 were wrongly classified as 5s(false positives, also called type 1 errors).\n",
        "The second row considers the images of 5s(the posistive class):1180 were wrongly classified as non-5s(false negatives, also called type 11 errors),\n",
        "while the remaining 3860 were correctly classified as 5s(true positives).\n",
        "A perfect classifier would only have true positives and true negatives, so confussion matrix would have nonzero vlaues only on its main diagonal(top left to bottom right):"
      ],
      "metadata": {
        "id": "i52hZJ1f3V_u"
      }
    },
    {
      "cell_type": "code",
      "source": [
        "y_train_perfect_predictions = y_train_5 # pretend we reach perfection\n",
        "confusion_matrix(y_train_5, y_train_perfect_predictions)"
      ],
      "metadata": {
        "colab": {
          "base_uri": "https://localhost:8080/"
        },
        "id": "8P56Piqb6pAj",
        "outputId": "8b1828b6-8499-4d06-8749-e5bdd1968e57"
      },
      "execution_count": 35,
      "outputs": [
        {
          "output_type": "execute_result",
          "data": {
            "text/plain": [
              "array([[50960,     0],\n",
              "       [    0,  5040]])"
            ]
          },
          "metadata": {},
          "execution_count": 35
        }
      ]
    },
    {
      "cell_type": "code",
      "source": [
        "# Plotting the confusion matrix\n",
        "sns.heatmap(confusion_matrix(y_train_5, y_train_perfect_predictions), annot=True, fmt=\"d\", cmap=\"coolwarm\")\n",
        "plt.xlabel('Predicted')\n",
        "plt.ylabel('Actual')\n",
        "plt.title('Confusion Matrix')\n",
        "plt.show()"
      ],
      "metadata": {
        "colab": {
          "base_uri": "https://localhost:8080/",
          "height": 472
        },
        "id": "HlC0rVzh7J5d",
        "outputId": "c81d1929-f9c7-457d-c2a6-13c90c6debd5"
      },
      "execution_count": 36,
      "outputs": [
        {
          "output_type": "display_data",
          "data": {
            "text/plain": [
              "<Figure size 640x480 with 2 Axes>"
            ],
            "image/png": "[encoded data removed]"
          },
          "metadata": {}
        }
      ]
    },
    {
      "cell_type": "markdown",
      "source": [
        "#Precision and Recall"
      ],
      "metadata": {
        "id": "EbGMrbGX8YZQ"
      }
    },
    {
      "cell_type": "code",
      "source": [
        "from sklearn.metrics import precision_score, recall_score"
      ],
      "metadata": {
        "id": "8OFSBwOU8gCj"
      },
      "execution_count": 37,
      "outputs": []
    },
    {
      "cell_type": "code",
      "source": [
        "precision_score(y_train_5, y_train_pred) # ==3860/(673 +3860)"
      ],
      "metadata": {
        "colab": {
          "base_uri": "https://localhost:8080/"
        },
        "id": "EVHQW6hU9JRz",
        "outputId": "38e10bd8-a03e-4400-cd50-7cc4e973479c"
      },
      "execution_count": 38,
      "outputs": [
        {
          "output_type": "execute_result",
          "data": {
            "text/plain": [
              "0.8515332009706597"
            ]
          },
          "metadata": {},
          "execution_count": 38
        }
      ]
    },
    {
      "cell_type": "code",
      "source": [
        "recall_score(y_train_5,y_train_pred)  # 3860/1180"
      ],
      "metadata": {
        "colab": {
          "base_uri": "https://localhost:8080/"
        },
        "id": "Ba7_8URW99wE",
        "outputId": "11715632-e5e9-4e3a-8523-0eac6826bd3a"
      },
      "execution_count": 39,
      "outputs": [
        {
          "output_type": "execute_result",
          "data": {
            "text/plain": [
              "0.7658730158730159"
            ]
          },
          "metadata": {},
          "execution_count": 39
        }
      ]
    },
    {
      "cell_type": "markdown",
      "source": [
        "#F1 Score"
      ],
      "metadata": {
        "id": "EcNs-o5t-s7Q"
      }
    },
    {
      "cell_type": "markdown",
      "source": [
        "It is convenient to combine precision and recall into a single metrics called F1 score, especially when you need a single metrics to compare two classifiers.\n",
        "The F1 score is the harmonic mean of precision and recall.The classifier will get a high F1 score if both recall and precision are high"
      ],
      "metadata": {
        "id": "moraoO9x-y5O"
      }
    },
    {
      "cell_type": "code",
      "source": [
        "from sklearn.metrics import f1_score"
      ],
      "metadata": {
        "id": "LYh2Yzyl_fsA"
      },
      "execution_count": 40,
      "outputs": []
    },
    {
      "cell_type": "code",
      "source": [
        "f1_score(y_train_5,y_train_pred)"
      ],
      "metadata": {
        "colab": {
          "base_uri": "https://localhost:8080/"
        },
        "id": "RZOpuZ8o_owX",
        "outputId": "ad41cdb7-8d75-4398-ee3c-77e5bbf7ec34"
      },
      "execution_count": 42,
      "outputs": [
        {
          "output_type": "execute_result",
          "data": {
            "text/plain": [
              "0.8064347644416588"
            ]
          },
          "metadata": {},
          "execution_count": 42
        }
      ]
    },
    {
      "cell_type": "markdown",
      "source": [
        "# The precision/ Recall Trade-off"
      ],
      "metadata": {
        "id": "EEtQW9Gk_4rK"
      }
    },
    {
      "cell_type": "markdown",
      "source": [
        "##Precision-Recall Curve: This plot helps visualize the trade-off between precision and recall at different thresholds. By observing the curve, you can select a threshold that balances precision and recall according to your needs.\n",
        "##Threshold Adjustment: The choice of threshold affects the balance between precision and recall. Lowering the threshold increases recall but decreases precision, and vice versa.\n",
        "##This approach provides a comprehensive view of how the classifier performs\n",
        "##and helps in making informed decisions about which metric (precision, recall, or a balance of both) is more important for the given task."
      ],
      "metadata": {
        "id": "2wXMwJccA9oj"
      }
    },
    {
      "cell_type": "code",
      "source": [
        "# Instantiate the SGDClassifier\n",
        "sgd_clf = SGDClassifier(random_state=42)\n",
        "\n",
        "# Fit the classifier on the training data\n",
        "sgd_clf.fit(X_train, y_train)"
      ],
      "metadata": {
        "colab": {
          "base_uri": "https://localhost:8080/",
          "height": 75
        },
        "id": "wlHOKnv-CwTf",
        "outputId": "3b571ac1-c2f4-4061-8b7d-b01af69c5b77"
      },
      "execution_count": 45,
      "outputs": [
        {
          "output_type": "execute_result",
          "data": {
            "text/plain": [
              "SGDClassifier(random_state=42)"
            ],
            "text/html": [
              "<style>#sk-container-id-1 {color: black;background-color: white;}#sk-container-id-1 pre{padding: 0;}#sk-container-id-1 div.sk-toggleable {background-color: white;}#sk-container-id-1 label.sk-toggleable__label {cursor: pointer;display: block;width: 100%;margin-bottom: 0;padding: 0.3em;box-sizing: border-box;text-align: center;}#sk-container-id-1 label.sk-toggleable__label-arrow:before {content: \"▸\";float: left;margin-right: 0.25em;color: #696969;}#sk-container-id-1 label.sk-toggleable__label-arrow:hover:before {color: black;}#sk-container-id-1 div.sk-estimator:hover label.sk-toggleable__label-arrow:before {color: black;}#sk-container-id-1 div.sk-toggleable__content {max-height: 0;max-width: 0;overflow: hidden;text-align: left;background-color: #f0f8ff;}#sk-container-id-1 div.sk-toggleable__content pre {margin: 0.2em;color: black;border-radius: 0.25em;background-color: #f0f8ff;}#sk-container-id-1 input.sk-toggleable__control:checked~div.sk-toggleable__content {max-height: 200px;max-width: 100%;overflow: auto;}#sk-container-id-1 input.sk-toggleable__control:checked~label.sk-toggleable__label-arrow:before {content: \"▾\";}#sk-container-id-1 div.sk-estimator input.sk-toggleable__control:checked~label.sk-toggleable__label {background-color: #d4ebff;}#sk-container-id-1 div.sk-label input.sk-toggleable__control:checked~label.sk-toggleable__label {background-color: #d4ebff;}#sk-container-id-1 input.sk-hidden--visually {border: 0;clip: rect(1px 1px 1px 1px);clip: rect(1px, 1px, 1px, 1px);height: 1px;margin: -1px;overflow: hidden;padding: 0;position: absolute;width: 1px;}#sk-container-id-1 div.sk-estimator {font-family: monospace;background-color: #f0f8ff;border: 1px dotted black;border-radius: 0.25em;box-sizing: border-box;margin-bottom: 0.5em;}#sk-container-id-1 div.sk-estimator:hover {background-color: #d4ebff;}#sk-container-id-1 div.sk-parallel-item::after {content: \"\";width: 100%;border-bottom: 1px solid gray;flex-grow: 1;}#sk-container-id-1 div.sk-label:hover label.sk-toggleable__label {background-color: #d4ebff;}#sk-container-id-1 div.sk-serial::before {content: \"\";position: absolute;border-left: 1px solid gray;box-sizing: border-box;top: 0;bottom: 0;left: 50%;z-index: 0;}#sk-container-id-1 div.sk-serial {display: flex;flex-direction: column;align-items: center;background-color: white;padding-right: 0.2em;padding-left: 0.2em;position: relative;}#sk-container-id-1 div.sk-item {position: relative;z-index: 1;}#sk-container-id-1 div.sk-parallel {display: flex;align-items: stretch;justify-content: center;background-color: white;position: relative;}#sk-container-id-1 div.sk-item::before, #sk-container-id-1 div.sk-parallel-item::before {content: \"\";position: absolute;border-left: 1px solid gray;box-sizing: border-box;top: 0;bottom: 0;left: 50%;z-index: -1;}#sk-container-id-1 div.sk-parallel-item {display: flex;flex-direction: column;z-index: 1;position: relative;background-color: white;}#sk-container-id-1 div.sk-parallel-item:first-child::after {align-self: flex-end;width: 50%;}#sk-container-id-1 div.sk-parallel-item:last-child::after {align-self: flex-start;width: 50%;}#sk-container-id-1 div.sk-parallel-item:only-child::after {width: 0;}#sk-container-id-1 div.sk-dashed-wrapped {border: 1px dashed gray;margin: 0 0.4em 0.5em 0.4em;box-sizing: border-box;padding-bottom: 0.4em;background-color: white;}#sk-container-id-1 div.sk-label label {font-family: monospace;font-weight: bold;display: inline-block;line-height: 1.2em;}#sk-container-id-1 div.sk-label-container {text-align: center;}#sk-container-id-1 div.sk-container {/* jupyter's `normalize.less` sets `[hidden] { display: none; }` but bootstrap.min.css set `[hidden] { display: none !important; }` so we also need the `!important` here to be able to override the default hidden behavior on the sphinx rendered scikit-learn.org. See: https://github.com/scikit-learn/scikit-learn/issues/21755 */display: inline-block !important;position: relative;}#sk-container-id-1 div.sk-text-repr-fallback {display: none;}</style><div id=\"sk-container-id-1\" class=\"sk-top-container\"><div class=\"sk-text-repr-fallback\"><pre>SGDClassifier(random_state=42)</pre><b>In a Jupyter environment, please rerun this cell to show the HTML representation or trust the notebook. <br />On GitHub, the HTML representation is unable to render, please try loading this page with nbviewer.org.</b></div><div class=\"sk-container\" hidden><div class=\"sk-item\"><div class=\"sk-estimator sk-toggleable\"><input class=\"sk-toggleable__control sk-hidden--visually\" id=\"sk-estimator-id-1\" type=\"checkbox\" checked><label for=\"sk-estimator-id-1\" class=\"sk-toggleable__label sk-toggleable__label-arrow\">SGDClassifier</label><div class=\"sk-toggleable__content\"><pre>SGDClassifier(random_state=42)</pre></div></div></div></div></div>"
            ]
          },
          "metadata": {},
          "execution_count": 45
        }
      ]
    },
    {
      "cell_type": "code",
      "source": [
        "# Assuming 'some_digit' is an index of a sample in the test set\n",
        "some_digit = X_test[0]  # Using the first sample in the test set as an example\n",
        "\n",
        "# Predict the decision function score for the sample\n",
        "y_scores = sgd_clf.decision_function([some_digit])\n",
        "print(y_scores)"
      ],
      "metadata": {
        "colab": {
          "base_uri": "https://localhost:8080/"
        },
        "id": "XU2MpxGCDbuy",
        "outputId": "f3c76beb-57eb-4d0a-c3a3-ca0fb0feaa33"
      },
      "execution_count": 46,
      "outputs": [
        {
          "output_type": "stream",
          "name": "stdout",
          "text": [
            "[[-62905.93787222 -62000.75692651  -8408.59470974 -10239.10459104\n",
            "  -42128.79401569  -2187.92138348 -67173.00258241 -32668.07738877\n",
            "    4480.97802564 -11376.7412203 ]]\n"
          ]
        }
      ]
    },
    {
      "cell_type": "code",
      "source": [
        "# Perform 5-fold cross-validation to get precision and recall\n",
        "cv_precision = cross_val_score(sgd_clf, X, y_5, cv=5, scoring='precision')\n",
        "cv_recall = cross_val_score(sgd_clf, X, y_5, cv=5, scoring='recall')\n",
        "\n",
        "print(f'Cross-validated precision: {cv_precision.mean():.4f}')\n",
        "print(f'Cross-validated recall: {cv_recall.mean():.4f}')"
      ],
      "metadata": {
        "colab": {
          "base_uri": "https://localhost:8080/"
        },
        "id": "SqFP9ffNDgU_",
        "outputId": "8c0e985c-bce8-47cc-8165-7119a57eadf0"
      },
      "execution_count": 47,
      "outputs": [
        {
          "output_type": "stream",
          "name": "stdout",
          "text": [
            "Cross-validated precision: 0.7881\n",
            "Cross-validated recall: 0.7988\n"
          ]
        }
      ]
    },
    {
      "cell_type": "markdown",
      "source": [
        "##The SGDClassifier uses a threshold equal to 0, so the preceding code returns the same results as the predict() method(ie, True), Let's raise the threshold:"
      ],
      "metadata": {
        "id": "IH0DnHHKErjJ"
      }
    },
    {
      "cell_type": "code",
      "source": [
        "threshold = 0"
      ],
      "metadata": {
        "id": "3fqAwsNED-5I"
      },
      "execution_count": 48,
      "outputs": []
    },
    {
      "cell_type": "code",
      "source": [
        "y_some_digit_pred = (y_scores > threshold)"
      ],
      "metadata": {
        "id": "vUTtbuFbEVzK"
      },
      "execution_count": 49,
      "outputs": []
    },
    {
      "cell_type": "code",
      "source": [],
      "metadata": {
        "id": "JewC4xpMGQYU"
      },
      "execution_count": null,
      "outputs": []
    },
    {
      "cell_type": "code",
      "source": [
        "threshold = 3000\n",
        "y_some_digit_pred = (y_scores >  threshold)\n",
        "y_some_digit_pred"
      ],
      "metadata": {
        "colab": {
          "base_uri": "https://localhost:8080/"
        },
        "id": "uLglHNV7FVSC",
        "outputId": "4e5d5b7c-fd31-48e4-8462-f6b968a34a51"
      },
      "execution_count": 50,
      "outputs": [
        {
          "output_type": "execute_result",
          "data": {
            "text/plain": [
              "array([[False, False, False, False, False, False, False, False,  True,\n",
              "        False]])"
            ]
          },
          "metadata": {},
          "execution_count": 50
        }
      ]
    },
    {
      "cell_type": "markdown",
      "source": [
        "## How do you decide the threshold to use?\n",
        "First, use the cross_val_predict() function to get the scores of all instances in the training set but this time specify that you want to return decision scores instead of predictions:"
      ],
      "metadata": {
        "id": "xHlo1GzxFy3D"
      }
    },
    {
      "cell_type": "code",
      "source": [
        "y_scores = cross_val_predict(sgd_clf, X_train,y_train_5, cv=3,\n",
        "                             method=\"decision_function\")"
      ],
      "metadata": {
        "id": "PTZLQlExGRVD"
      },
      "execution_count": 51,
      "outputs": []
    },
    {
      "cell_type": "code",
      "source": [
        "from sklearn.metrics import precision_recall_curve"
      ],
      "metadata": {
        "id": "l_BZjemwHKbt"
      },
      "execution_count": 52,
      "outputs": []
    },
    {
      "cell_type": "code",
      "source": [
        "precisions, recalls, thresholds = precision_recall_curve(y_train_5,y_scores)"
      ],
      "metadata": {
        "id": "u-SW2UKJHXQ8"
      },
      "execution_count": 53,
      "outputs": []
    },
    {
      "cell_type": "code",
      "source": [
        "import matplotlib.pyplot as plt"
      ],
      "metadata": {
        "id": "_KBaq_Z8J_Yy"
      },
      "execution_count": 57,
      "outputs": []
    },
    {
      "cell_type": "code",
      "source": [
        "# Plot precision and recall versus the decision threshold\n",
        "plt.plot(thresholds, precisions[:-1], \"b--\", label=\"Precision\", linewidth=2)\n",
        "plt.plot(thresholds, recalls[:-1], \"g-\", label=\"Recall\", linewidth=2)\n",
        "plt.vlines(threshold, 0.1,0,\"k\", \"dotted\", label=\"threshold\")\n",
        "[...] #beautify the figure: add grid,legend,axis,labels, and circles\n",
        "plt.show()"
      ],
      "metadata": {
        "colab": {
          "base_uri": "https://localhost:8080/",
          "height": 430
        },
        "id": "EiTspwZgH5N1",
        "outputId": "eb5090c5-ac28-4c64-ab7f-a81d0ebd577c"
      },
      "execution_count": 58,
      "outputs": [
        {
          "output_type": "display_data",
          "data": {
            "text/plain": [
              "<Figure size 640x480 with 1 Axes>"
            ],
            "image/png": "[encoded data removed]"
          },
          "metadata": {}
        }
      ]
    },
    {
      "cell_type": "markdown",
      "source": [
        "## The precision / recall trade off: images are ranked by their classifier score and those above chosen decision decision threshold are considered positive , the higher the threshold, the lower the recall but ingeneral the higher the precision"
      ],
      "metadata": {
        "id": "vOFlqAbCLK8h"
      }
    },
    {
      "cell_type": "code",
      "source": [
        "\n",
        "\n",
        "# Plot precision and recall versus the decision threshold\n",
        "plt.figure(figsize=(8, 6))\n",
        "plt.plot(thresholds, precisions[:-1], \"b--\", label=\"Precision\")\n",
        "plt.plot(thresholds, recalls[:-1], \"g-\", label=\"Recall\")\n",
        "plt.vlines(threshold, 0.1,0,\"k\", \"dotted\", label=\"threshold\")\n",
        "plt.xlabel(\"Decision Threshold\")\n",
        "plt.ylabel(\"Score\")\n",
        "plt.title(\"Precision and Recall vs. Decision Threshold\")\n",
        "plt.legend(loc=\"best\")\n",
        "plt.grid(True)\n",
        "plt.show()"
      ],
      "metadata": {
        "colab": {
          "base_uri": "https://localhost:8080/",
          "height": 564
        },
        "id": "NPAEuWwiKNEI",
        "outputId": "28b3fa93-0608-4e56-d6e8-2026af900017"
      },
      "execution_count": 60,
      "outputs": [
        {
          "output_type": "display_data",
          "data": {
            "text/plain": [
              "<Figure size 800x600 with 1 Axes>"
            ],
            "image/png": "[encoded data removed]"
          },
          "metadata": {}
        }
      ]
    },
    {
      "cell_type": "code",
      "source": [
        "# Plot the precision-recall curve\n",
        "plt.plot(recalls, precisions, \"b-\", label=\"Precision-Recall Curve\")\n",
        "plt.xlabel(\"Recall\")\n",
        "plt.ylabel(\"Precision\")\n",
        "plt.title(\"Precision versus Recall Curve\")\n",
        "plt.legend(loc=\"best\")\n",
        "plt.grid(True)\n",
        "plt.show()"
      ],
      "metadata": {
        "colab": {
          "base_uri": "https://localhost:8080/",
          "height": 472
        },
        "id": "DhCg2uJqMq3D",
        "outputId": "9ee4db24-d22f-4c3a-a084-362a1200094b"
      },
      "execution_count": 69,
      "outputs": [
        {
          "output_type": "display_data",
          "data": {
            "text/plain": [
              "<Figure size 640x480 with 1 Axes>"
            ],
            "image/png": "[encoded data removed]"
          },
          "metadata": {}
        }
      ]
    },
    {
      "cell_type": "code",
      "source": [
        "idx_for_90_precision = (precisions >= 0.90).argmax()\n",
        "threshold_for_90_precision = thresholds[idx_for_90_precision]\n",
        "threshold_for_90_precision"
      ],
      "metadata": {
        "colab": {
          "base_uri": "https://localhost:8080/"
        },
        "id": "ohuWFipyO-yo",
        "outputId": "5d68428a-22a8-439b-eb99-00a95eaad492"
      },
      "execution_count": 70,
      "outputs": [
        {
          "output_type": "execute_result",
          "data": {
            "text/plain": [
              "1583.5206905024331"
            ]
          },
          "metadata": {},
          "execution_count": 70
        }
      ]
    },
    {
      "cell_type": "markdown",
      "source": [
        "## Instead of calling the classifier predict() method for prediction you can run the code below"
      ],
      "metadata": {
        "id": "jjiJcOIDPvKM"
      }
    },
    {
      "cell_type": "code",
      "source": [
        "y_train_pred_90 = (y_scores >= threshold_for_90_precision)"
      ],
      "metadata": {
        "id": "k84QaxuSP61k"
      },
      "execution_count": 71,
      "outputs": []
    },
    {
      "cell_type": "markdown",
      "source": [
        "##Lets check the precision call"
      ],
      "metadata": {
        "id": "olpccjJDQHkl"
      }
    },
    {
      "cell_type": "code",
      "source": [
        "precision_score(y_train_5,y_train_pred_90)"
      ],
      "metadata": {
        "colab": {
          "base_uri": "https://localhost:8080/"
        },
        "id": "8aKKmxnVQMBE",
        "outputId": "1b25bea0-8cea-4e27-fe29-29054bbe40d6"
      },
      "execution_count": 78,
      "outputs": [
        {
          "output_type": "execute_result",
          "data": {
            "text/plain": [
              "0.9"
            ]
          },
          "metadata": {},
          "execution_count": 78
        }
      ]
    },
    {
      "cell_type": "markdown",
      "source": [
        "##If someone says lets reach a 99% ask at what recall"
      ],
      "metadata": {
        "id": "yZCQshylSLWO"
      }
    },
    {
      "cell_type": "code",
      "source": [
        "\n",
        "\n",
        "# Calculate recall at 90% precision\n",
        "recall_at_90_precision = recall_score(y_train_5, y_train_pred_90)\n",
        "\n",
        "print(f\"Recall at 90% precision: {recall_at_90_precision:.4f}\")"
      ],
      "metadata": {
        "colab": {
          "base_uri": "https://localhost:8080/"
        },
        "id": "gY3Trc6CQ2Md",
        "outputId": "719ca0bc-9646-48fe-e54a-7e1212a966ac"
      },
      "execution_count": 79,
      "outputs": [
        {
          "output_type": "stream",
          "name": "stdout",
          "text": [
            "Recall at 90% precision: 0.6946\n"
          ]
        }
      ]
    }
  ]
}