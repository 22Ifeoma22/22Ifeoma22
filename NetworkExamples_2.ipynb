{
  "cells": [
    {
      "cell_type": "markdown",
      "metadata": {
        "id": "view-in-github",
        "colab_type": "text"
      },
      "source": [
        "<a href=\"https://colab.research.google.com/github/22Ifeoma22/22Ifeoma22/blob/main/NetworkExamples_2.ipynb\" target=\"_parent\"><img src=\"https://colab.research.google.com/assets/colab-badge.svg\" alt=\"Open In Colab\"/></a>"
      ]
    },
    {
      "cell_type": "markdown",
      "metadata": {
        "id": "I3S2E-5Cdg9g"
      },
      "source": [
        "# Machine Learning with PyTorch"
      ]
    },
    {
      "cell_type": "markdown",
      "metadata": {
        "id": "prQ7R0yTdg9h"
      },
      "source": [
        "## Tasks with Networks"
      ]
    },
    {
      "cell_type": "markdown",
      "metadata": {
        "id": "R1fUMRKBdg9i"
      },
      "source": [
        "<font size=\"+1\">A simple feature classifier</font>\n",
        "<a href=\"NetworkExamples_0.ipynb\"><img src=\"img/open-notebook.png\" align=\"right\"/></a>\n",
        "\n",
        "<font size=\"+1\">An image classifier</font>\n",
        "<a href=\"NetworkExamples_1.ipynb\"><img src=\"img/open-notebook.png\" align=\"right\"/></a>\n",
        "\n",
        "<font size=\"+1\"><u><b>A regression prediction</b></u></font>\n",
        "<a href=\"NetworkExamples_2.ipynb\"><img src=\"img/open-notebook.png\" align=\"right\"/></a>\n",
        "\n",
        "<font size=\"+1\">Clustering with PyTorch</font>\n",
        "<a href=\"NetworkExamples_3.ipynb\"><img src=\"img/open-notebook.png\" align=\"right\"/></a>\n",
        "\n",
        "<font size=\"+1\">Generative Adversarial Networks (GAN)</font>\n",
        "<a href=\"NetworkExamples_4.ipynb\"><img src=\"img/open-notebook.png\" align=\"right\"/></a>\n",
        "\n",
        "<font size=\"+1\">Part of Speech Tagger</font>\n",
        "<a href=\"NetworkExamples_5.ipynb\"><img src=\"img/open-notebook.png\" align=\"right\"/></a>"
      ]
    },
    {
      "cell_type": "code",
      "execution_count": 9,
      "metadata": {
        "id": "XyrYPeAadg9j"
      },
      "outputs": [],
      "source": [
        "%matplotlib inline\n",
        "import numpy as np\n",
        "import pandas as pd\n",
        "import matplotlib.pyplot as plt\n",
        "import pandas as pd\n",
        "import torch\n",
        "from sklearn.model_selection import train_test_split\n",
        "\n",
        "# For demonstration, we can use CPU target if CUDA not available\n",
        "device = torch.device('cpu')\n",
        "\n",
        "# Check the status of the GPU (if present)\n",
        "if torch.cuda.is_available():\n",
        "    torch.cuda.memory_allocated()\n",
        "    # *MUCH* faster to run on GPU\n",
        "    device = torch.device('cuda')"
      ]
    },
    {
      "cell_type": "markdown",
      "metadata": {
        "id": "rNkgBVyHdg9k"
      },
      "source": [
        "## A regression prediction\n",
        "\n",
        "In the classification problem I took from my work about predicting garment sizes there was a simplification to try to help our DNN.  Actual sizes are two dimensional, having both a numeric size which measures \"width\" and a descriptor (\"LONG\", \"SHORT\", \"PETITE\" that measures length.  Of course, cloth is flexible, so these things interact somewhat.  In any case, the data provided only utilizes the main size component—a \"number\", although `00` is a special number that is different from `0` in garment sizing.\n",
        "\n",
        "Given only those single number sizes, we can actually put them in a linear order unambiguously.  Framing it that way suggests a regression problem rather than a classification problem.  In the rest of this notebook, we construct a model that is mostly the same as the classifcation we performed before, but is constructed as a regression instead."
      ]
    },
    {
      "cell_type": "code",
      "execution_count": 13,
      "metadata": {
        "colab": {
          "base_uri": "https://localhost:8080/",
          "height": 224
        },
        "id": "DkviiLLhdg9k",
        "outputId": "bfca2c3b-57b9-4c66-e6dd-1fedfe55caea"
      },
      "outputs": [
        {
          "output_type": "stream",
          "name": "stdout",
          "text": [
            "243570\n"
          ]
        },
        {
          "output_type": "execute_result",
          "data": {
            "text/plain": [
              "    age  bra_size_chest  bra_size_cup  height  shoe_size  weight TARGET\n",
              "0  30.0            34.0           5.0    62.0        7.0   128.0      6\n",
              "1  20.0            34.0           3.0    64.0        8.0   145.0      6\n",
              "2  26.0            32.0           4.0    64.0        8.0   148.0      6\n",
              "3  43.0            34.0           5.0    61.0        7.0   145.0      6\n",
              "4  63.0            38.0           3.0    63.0        8.0   130.0      6"
            ],
            "text/html": [
              "\n",
              "  <div id=\"df-43b5e85c-da32-4c5f-a99c-3c0419c8d8f7\" class=\"colab-df-container\">\n",
              "    <div>\n",
              "<style scoped>\n",
              "    .dataframe tbody tr th:only-of-type {\n",
              "        vertical-align: middle;\n",
              "    }\n",
              "\n",
              "    .dataframe tbody tr th {\n",
              "        vertical-align: top;\n",
              "    }\n",
              "\n",
              "    .dataframe thead th {\n",
              "        text-align: right;\n",
              "    }\n",
              "</style>\n",
              "<table border=\"1\" class=\"dataframe\">\n",
              "  <thead>\n",
              "    <tr style=\"text-align: right;\">\n",
              "      <th></th>\n",
              "      <th>age</th>\n",
              "      <th>bra_size_chest</th>\n",
              "      <th>bra_size_cup</th>\n",
              "      <th>height</th>\n",
              "      <th>shoe_size</th>\n",
              "      <th>weight</th>\n",
              "      <th>TARGET</th>\n",
              "    </tr>\n",
              "  </thead>\n",
              "  <tbody>\n",
              "    <tr>\n",
              "      <th>0</th>\n",
              "      <td>30.0</td>\n",
              "      <td>34.0</td>\n",
              "      <td>5.0</td>\n",
              "      <td>62.0</td>\n",
              "      <td>7.0</td>\n",
              "      <td>128.0</td>\n",
              "      <td>6</td>\n",
              "    </tr>\n",
              "    <tr>\n",
              "      <th>1</th>\n",
              "      <td>20.0</td>\n",
              "      <td>34.0</td>\n",
              "      <td>3.0</td>\n",
              "      <td>64.0</td>\n",
              "      <td>8.0</td>\n",
              "      <td>145.0</td>\n",
              "      <td>6</td>\n",
              "    </tr>\n",
              "    <tr>\n",
              "      <th>2</th>\n",
              "      <td>26.0</td>\n",
              "      <td>32.0</td>\n",
              "      <td>4.0</td>\n",
              "      <td>64.0</td>\n",
              "      <td>8.0</td>\n",
              "      <td>148.0</td>\n",
              "      <td>6</td>\n",
              "    </tr>\n",
              "    <tr>\n",
              "      <th>3</th>\n",
              "      <td>43.0</td>\n",
              "      <td>34.0</td>\n",
              "      <td>5.0</td>\n",
              "      <td>61.0</td>\n",
              "      <td>7.0</td>\n",
              "      <td>145.0</td>\n",
              "      <td>6</td>\n",
              "    </tr>\n",
              "    <tr>\n",
              "      <th>4</th>\n",
              "      <td>63.0</td>\n",
              "      <td>38.0</td>\n",
              "      <td>3.0</td>\n",
              "      <td>63.0</td>\n",
              "      <td>8.0</td>\n",
              "      <td>130.0</td>\n",
              "      <td>6</td>\n",
              "    </tr>\n",
              "  </tbody>\n",
              "</table>\n",
              "</div>\n",
              "    <div class=\"colab-df-buttons\">\n",
              "\n",
              "  <div class=\"colab-df-container\">\n",
              "    <button class=\"colab-df-convert\" onclick=\"convertToInteractive('df-43b5e85c-da32-4c5f-a99c-3c0419c8d8f7')\"\n",
              "            title=\"Convert this dataframe to an interactive table.\"\n",
              "            style=\"display:none;\">\n",
              "\n",
              "  <svg xmlns=\"http://www.w3.org/2000/svg\" height=\"24px\" viewBox=\"0 -960 960 960\">\n",
              "    <path d=\"M120-120v-720h720v720H120Zm60-500h600v-160H180v160Zm220 220h160v-160H400v160Zm0 220h160v-160H400v160ZM180-400h160v-160H180v160Zm440 0h160v-160H620v160ZM180-180h160v-160H180v160Zm440 0h160v-160H620v160Z\"/>\n",
              "  </svg>\n",
              "    </button>\n",
              "\n",
              "  <style>\n",
              "    .colab-df-container {\n",
              "      display:flex;\n",
              "      gap: 12px;\n",
              "    }\n",
              "\n",
              "    .colab-df-convert {\n",
              "      background-color: #E8F0FE;\n",
              "      border: none;\n",
              "      border-radius: 50%;\n",
              "      cursor: pointer;\n",
              "      display: none;\n",
              "      fill: #1967D2;\n",
              "      height: 32px;\n",
              "      padding: 0 0 0 0;\n",
              "      width: 32px;\n",
              "    }\n",
              "\n",
              "    .colab-df-convert:hover {\n",
              "      background-color: #E2EBFA;\n",
              "      box-shadow: 0px 1px 2px rgba(60, 64, 67, 0.3), 0px 1px 3px 1px rgba(60, 64, 67, 0.15);\n",
              "      fill: #174EA6;\n",
              "    }\n",
              "\n",
              "    .colab-df-buttons div {\n",
              "      margin-bottom: 4px;\n",
              "    }\n",
              "\n",
              "    [theme=dark] .colab-df-convert {\n",
              "      background-color: #3B4455;\n",
              "      fill: #D2E3FC;\n",
              "    }\n",
              "\n",
              "    [theme=dark] .colab-df-convert:hover {\n",
              "      background-color: #434B5C;\n",
              "      box-shadow: 0px 1px 3px 1px rgba(0, 0, 0, 0.15);\n",
              "      filter: drop-shadow(0px 1px 2px rgba(0, 0, 0, 0.3));\n",
              "      fill: #FFFFFF;\n",
              "    }\n",
              "  </style>\n",
              "\n",
              "    <script>\n",
              "      const buttonEl =\n",
              "        document.querySelector('#df-43b5e85c-da32-4c5f-a99c-3c0419c8d8f7 button.colab-df-convert');\n",
              "      buttonEl.style.display =\n",
              "        google.colab.kernel.accessAllowed ? 'block' : 'none';\n",
              "\n",
              "      async function convertToInteractive(key) {\n",
              "        const element = document.querySelector('#df-43b5e85c-da32-4c5f-a99c-3c0419c8d8f7');\n",
              "        const dataTable =\n",
              "          await google.colab.kernel.invokeFunction('convertToInteractive',\n",
              "                                                    [key], {});\n",
              "        if (!dataTable) return;\n",
              "\n",
              "        const docLinkHtml = 'Like what you see? Visit the ' +\n",
              "          '<a target=\"_blank\" href=https://colab.research.google.com/notebooks/data_table.ipynb>data table notebook</a>'\n",
              "          + ' to learn more about interactive tables.';\n",
              "        element.innerHTML = '';\n",
              "        dataTable['output_type'] = 'display_data';\n",
              "        await google.colab.output.renderOutput(dataTable, element);\n",
              "        const docLink = document.createElement('div');\n",
              "        docLink.innerHTML = docLinkHtml;\n",
              "        element.appendChild(docLink);\n",
              "      }\n",
              "    </script>\n",
              "  </div>\n",
              "\n",
              "\n",
              "<div id=\"df-e2c2b2d5-fc89-4a68-bbb2-99a78cd545ea\">\n",
              "  <button class=\"colab-df-quickchart\" onclick=\"quickchart('df-e2c2b2d5-fc89-4a68-bbb2-99a78cd545ea')\"\n",
              "            title=\"Suggest charts\"\n",
              "            style=\"display:none;\">\n",
              "\n",
              "<svg xmlns=\"http://www.w3.org/2000/svg\" height=\"24px\"viewBox=\"0 0 24 24\"\n",
              "     width=\"24px\">\n",
              "    <g>\n",
              "        <path d=\"M19 3H5c-1.1 0-2 .9-2 2v14c0 1.1.9 2 2 2h14c1.1 0 2-.9 2-2V5c0-1.1-.9-2-2-2zM9 17H7v-7h2v7zm4 0h-2V7h2v10zm4 0h-2v-4h2v4z\"/>\n",
              "    </g>\n",
              "</svg>\n",
              "  </button>\n",
              "\n",
              "<style>\n",
              "  .colab-df-quickchart {\n",
              "      --bg-color: #E8F0FE;\n",
              "      --fill-color: #1967D2;\n",
              "      --hover-bg-color: #E2EBFA;\n",
              "      --hover-fill-color: #174EA6;\n",
              "      --disabled-fill-color: #AAA;\n",
              "      --disabled-bg-color: #DDD;\n",
              "  }\n",
              "\n",
              "  [theme=dark] .colab-df-quickchart {\n",
              "      --bg-color: #3B4455;\n",
              "      --fill-color: #D2E3FC;\n",
              "      --hover-bg-color: #434B5C;\n",
              "      --hover-fill-color: #FFFFFF;\n",
              "      --disabled-bg-color: #3B4455;\n",
              "      --disabled-fill-color: #666;\n",
              "  }\n",
              "\n",
              "  .colab-df-quickchart {\n",
              "    background-color: var(--bg-color);\n",
              "    border: none;\n",
              "    border-radius: 50%;\n",
              "    cursor: pointer;\n",
              "    display: none;\n",
              "    fill: var(--fill-color);\n",
              "    height: 32px;\n",
              "    padding: 0;\n",
              "    width: 32px;\n",
              "  }\n",
              "\n",
              "  .colab-df-quickchart:hover {\n",
              "    background-color: var(--hover-bg-color);\n",
              "    box-shadow: 0 1px 2px rgba(60, 64, 67, 0.3), 0 1px 3px 1px rgba(60, 64, 67, 0.15);\n",
              "    fill: var(--button-hover-fill-color);\n",
              "  }\n",
              "\n",
              "  .colab-df-quickchart-complete:disabled,\n",
              "  .colab-df-quickchart-complete:disabled:hover {\n",
              "    background-color: var(--disabled-bg-color);\n",
              "    fill: var(--disabled-fill-color);\n",
              "    box-shadow: none;\n",
              "  }\n",
              "\n",
              "  .colab-df-spinner {\n",
              "    border: 2px solid var(--fill-color);\n",
              "    border-color: transparent;\n",
              "    border-bottom-color: var(--fill-color);\n",
              "    animation:\n",
              "      spin 1s steps(1) infinite;\n",
              "  }\n",
              "\n",
              "  @keyframes spin {\n",
              "    0% {\n",
              "      border-color: transparent;\n",
              "      border-bottom-color: var(--fill-color);\n",
              "      border-left-color: var(--fill-color);\n",
              "    }\n",
              "    20% {\n",
              "      border-color: transparent;\n",
              "      border-left-color: var(--fill-color);\n",
              "      border-top-color: var(--fill-color);\n",
              "    }\n",
              "    30% {\n",
              "      border-color: transparent;\n",
              "      border-left-color: var(--fill-color);\n",
              "      border-top-color: var(--fill-color);\n",
              "      border-right-color: var(--fill-color);\n",
              "    }\n",
              "    40% {\n",
              "      border-color: transparent;\n",
              "      border-right-color: var(--fill-color);\n",
              "      border-top-color: var(--fill-color);\n",
              "    }\n",
              "    60% {\n",
              "      border-color: transparent;\n",
              "      border-right-color: var(--fill-color);\n",
              "    }\n",
              "    80% {\n",
              "      border-color: transparent;\n",
              "      border-right-color: var(--fill-color);\n",
              "      border-bottom-color: var(--fill-color);\n",
              "    }\n",
              "    90% {\n",
              "      border-color: transparent;\n",
              "      border-bottom-color: var(--fill-color);\n",
              "    }\n",
              "  }\n",
              "</style>\n",
              "\n",
              "  <script>\n",
              "    async function quickchart(key) {\n",
              "      const quickchartButtonEl =\n",
              "        document.querySelector('#' + key + ' button');\n",
              "      quickchartButtonEl.disabled = true;  // To prevent multiple clicks.\n",
              "      quickchartButtonEl.classList.add('colab-df-spinner');\n",
              "      try {\n",
              "        const charts = await google.colab.kernel.invokeFunction(\n",
              "            'suggestCharts', [key], {});\n",
              "      } catch (error) {\n",
              "        console.error('Error during call to suggestCharts:', error);\n",
              "      }\n",
              "      quickchartButtonEl.classList.remove('colab-df-spinner');\n",
              "      quickchartButtonEl.classList.add('colab-df-quickchart-complete');\n",
              "    }\n",
              "    (() => {\n",
              "      let quickchartButtonEl =\n",
              "        document.querySelector('#df-e2c2b2d5-fc89-4a68-bbb2-99a78cd545ea button');\n",
              "      quickchartButtonEl.style.display =\n",
              "        google.colab.kernel.accessAllowed ? 'block' : 'none';\n",
              "    })();\n",
              "  </script>\n",
              "</div>\n",
              "\n",
              "    </div>\n",
              "  </div>\n"
            ],
            "application/vnd.google.colaboratory.intrinsic+json": {
              "type": "dataframe",
              "variable_name": "df"
            }
          },
          "metadata": {},
          "execution_count": 13
        }
      ],
      "source": [
        "df = pd.read_csv(\"/content/garments.csv.gz\", dtype={'TARGET':str})\n",
        "print(len(df))\n",
        "df.head()"
      ]
    },
    {
      "cell_type": "code",
      "source": [
        "!ls /content/sample_data/"
      ],
      "metadata": {
        "colab": {
          "base_uri": "https://localhost:8080/"
        },
        "id": "N6SiXZBjgPyH",
        "outputId": "c9752132-c659-4421-8849-0ba7f60196d7"
      },
      "execution_count": 12,
      "outputs": [
        {
          "output_type": "stream",
          "name": "stdout",
          "text": [
            "anscombe.json\t\t     california_housing_train.csv  mnist_train_small.csv\n",
            "california_housing_test.csv  mnist_test.csv\t\t   README.md\n"
          ]
        }
      ]
    },
    {
      "cell_type": "markdown",
      "metadata": {
        "id": "uWR6DGj0dg9m"
      },
      "source": [
        "### Encoding the target\n",
        "\n",
        "For a regression problem, we do not wish to one-hot-encode the target.  Instead, we will simply convert the linearly ordered sizes to sequential integers.  These are, strictly speaking, ordinal rather than quantitative values, but it does not matter very much for this construction I.e. size `8` is not \"twice as much\" as size `4` in any measure, nor is it so in the integer sequence encoding; `8` is simply *more than* `4` to some degree."
      ]
    },
    {
      "cell_type": "code",
      "execution_count": 14,
      "metadata": {
        "colab": {
          "base_uri": "https://localhost:8080/"
        },
        "id": "lb-VEACOdg9n",
        "outputId": "5ad2424d-9f82-4a49-ff50-b3fb1ed864cd"
      },
      "outputs": [
        {
          "output_type": "execute_result",
          "data": {
            "text/plain": [
              "243565    0\n",
              "243566    7\n",
              "243567    2\n",
              "243568    9\n",
              "243569    4\n",
              "Name: TARGET, dtype: int64"
            ]
          },
          "metadata": {},
          "execution_count": 14
        }
      ],
      "source": [
        "X = df[['age', 'bra_size_chest', 'bra_size_cup', 'height', 'shoe_size', 'weight']]\n",
        "\n",
        "sizes = ['00', '0', '2', '4', '6', '8', '10', '12', '14', '16', '18']\n",
        "size_to_num = dict(zip(sizes, range(len(sizes))))\n",
        "num_to_size = {v:k for (k, v) in size_to_num.items()}\n",
        "\n",
        "y = df.TARGET.map(size_to_num)\n",
        "y.tail()"
      ]
    },
    {
      "cell_type": "markdown",
      "metadata": {
        "id": "e1eaz_qWdg9n"
      },
      "source": [
        "The only real difference in setting up the layer sizes is that the output dimension is one rather than a larger number of one-hot-encoded elements."
      ]
    },
    {
      "cell_type": "code",
      "execution_count": 15,
      "metadata": {
        "colab": {
          "base_uri": "https://localhost:8080/"
        },
        "id": "55GxMF92dg9n",
        "outputId": "81d99cd9-7f03-4be7-f79e-4e81730f30c6"
      },
      "outputs": [
        {
          "output_type": "execute_result",
          "data": {
            "text/plain": [
              "(6, 28, 22, 22, 22, 1)"
            ]
          },
          "metadata": {},
          "execution_count": 15
        }
      ],
      "source": [
        "# The number of input features\n",
        "in_dim = X.shape[1]\n",
        "\n",
        "# The number of \"polynomial features\" of order 2\n",
        "hidden1 = int(in_dim * 2 + (in_dim * (in_dim-1) / 2) + 1)\n",
        "out_dim = 1\n",
        "\n",
        "# The sizes of the \"inference layers\"/\n",
        "hidden2 = hidden3 = hidden4 = 2 * len(y.unique())\n",
        "\n",
        "# Remind ourselves of the layer sizes\n",
        "in_dim, hidden1, hidden2, hidden3, hidden4, out_dim"
      ]
    },
    {
      "cell_type": "markdown",
      "metadata": {
        "id": "tnw2t6_zdg9n"
      },
      "source": [
        "The network we generate will resemble the image below.  Weights are colored arbitrarily in the the below image simply to illustrate the different connection strengths in a trained network; these specific colors/values are randomly selected, not as actually trained below.\n",
        "\n",
        "![Garment Regression Network](img/garment-regressor.png)\n",
        "\n",
        "Drawn with [NN-SVG](http://alexlenail.me/NN-SVG/index.html)"
      ]
    },
    {
      "cell_type": "markdown",
      "metadata": {
        "id": "mwJbgjMUdg9n"
      },
      "source": [
        "### Customizing the training regime\n",
        "\n",
        "For the most part, the code in `do_training()` is the same as we used previously.  However, a lot of trial and error went into tweaking the learning rate decay to be \"pretty good\" for this problem.  Batches and epochs are trained *much* more quickly with this simplified target; but at the same time, it takes many more epochs for loss to reach a stable valley than it did with the classification version."
      ]
    },
    {
      "cell_type": "code",
      "execution_count": 16,
      "metadata": {
        "id": "Z3Ab-E2Sdg9o"
      },
      "outputs": [],
      "source": [
        "def do_training(model, X_train, y_train, optimizer, loss_fn,\n",
        "                epochs=5000, batch_size=5000, early_stop=6):\n",
        "    \"Perform a training regime that includes automatic decay of learning rate\"\n",
        "    loss_history = []\n",
        "    print(\"+++ Beginning %d epochs with batch size %d\" % (epochs, batch_size))\n",
        "    for epoch in range(1, epochs+1):\n",
        "        for start in range(0, len(X_train), batch_size):\n",
        "            # Next batch of training rows\n",
        "            X = X_train[start:start+batch_size]\n",
        "            y = y_train[start:start+batch_size]\n",
        "\n",
        "            # Forward pass: compute predicted Y by passing X to the model.\n",
        "            y_pred = model(X)\n",
        "\n",
        "            # Compute loss.\n",
        "            loss = loss_fn(y_pred, y)\n",
        "\n",
        "            # Before the backward pass, use the optimizer object to zero all of the\n",
        "            # gradients for the variables it will update (which are the learnable\n",
        "            # weights of the model). This is because by default, gradients are\n",
        "            # accumulated in buffers( i.e, not overwritten) whenever .backward()\n",
        "            # is called. Checkout docs of torch.autograd.backward for more details.\n",
        "            optimizer.zero_grad()\n",
        "\n",
        "            # Backward pass: compute gradient of the loss with respect to model\n",
        "            # parameters\n",
        "            loss.backward()\n",
        "\n",
        "            # Calling the step function on an Optimizer makes an update to its\n",
        "            # parameters\n",
        "            optimizer.step()\n",
        "\n",
        "        # Print some progress information each epoch\n",
        "        print(\"Epoch %d; Loss: %0.6f (lr=%0.8f)\" % (\n",
        "               epoch, loss.item(), optimizer.param_groups[0]['lr']))\n",
        "        loss_history.append(loss.item())\n",
        "\n",
        "        # Is this regime currently failing to reduce loss?\n",
        "        ## Run for at least `early_stop` epochs\n",
        "        if len(loss_history) < early_stop:\n",
        "            continue\n",
        "\n",
        "        ## Lower learning rate by 2x if no improvement in loss for multiple epochs\n",
        "        diff = max(loss_history[-early_stop:]) - min(loss_history[-early_stop:])\n",
        "        if  diff/loss_history[-1] < 0.005:\n",
        "            optimizer.param_groups[0]['lr'] /= 2\n",
        "\n",
        "        ## If learning rate is lowered to tiny value, we are not getting anywhere\n",
        "        if optimizer.param_groups[0]['lr'] < 1e-8:\n",
        "            print(\"+++ Discontinuing training regime when loss becomes constant\")\n",
        "            break"
      ]
    },
    {
      "cell_type": "markdown",
      "metadata": {
        "id": "V-g2Inc0dg9o"
      },
      "source": [
        "### Defining the model\n",
        "\n",
        "The only thing different in this model versus that used in the classifier is that the final layer has a single output, and there is no activation function applied to it.  This gives us a regression instead.  Perhaps not the optimal one possible, but at least framed the right way."
      ]
    },
    {
      "cell_type": "code",
      "execution_count": 17,
      "metadata": {
        "id": "0YU_LrIvdg9o"
      },
      "outputs": [],
      "source": [
        "# Create a sequential NN\n",
        "model = torch.nn.Sequential(\n",
        "    # This layer allows \"polynomial features\"\n",
        "    torch.nn.Linear(in_dim, hidden1),\n",
        "    # The activation is treated as a separate layer\n",
        "    torch.nn.ReLU(),\n",
        "\n",
        "    # This layer is \"inference\"\n",
        "    torch.nn.Linear(hidden1, hidden2),\n",
        "    torch.nn.ReLU(),\n",
        "\n",
        "    # A Dropout layer sometimes reduces co-adaptation of neurons\n",
        "    torch.nn.Dropout(p=0.1),\n",
        "\n",
        "    # This layer is \"inference\"\n",
        "    torch.nn.Linear(hidden2, hidden3),\n",
        "    # Often Leaky ReLU eliminates the \"dead neuron\" danger\n",
        "    torch.nn.LeakyReLU(),\n",
        "\n",
        "    # Might try another \"inference\" layer\n",
        "    torch.nn.Linear(hidden3, hidden4),\n",
        "    torch.nn.LeakyReLU(),\n",
        "\n",
        "    # A basic linear layer with one output for the \"continuous\" target\n",
        "    torch.nn.Linear(hidden4, out_dim),\n",
        "    ).to(device)"
      ]
    },
    {
      "cell_type": "markdown",
      "metadata": {
        "id": "RhhpRYN9dg9o"
      },
      "source": [
        "### Split the data, summarize the model"
      ]
    },
    {
      "cell_type": "code",
      "execution_count": 18,
      "metadata": {
        "colab": {
          "base_uri": "https://localhost:8080/"
        },
        "id": "KUHSSl0ndg9o",
        "outputId": "dd553686-1a52-41f6-ef9a-190c88bbdaf7"
      },
      "outputs": [
        {
          "output_type": "stream",
          "name": "stdout",
          "text": [
            "Just the model itself:\n",
            "0 bytes allocated on GPU\n",
            "Add the training and testing data to GPU:\n",
            "0 bytes allocated on GPU\n"
          ]
        }
      ],
      "source": [
        "# Free up the GPU\n",
        "torch.cuda.empty_cache()\n",
        "print(\"Just the model itself:\")\n",
        "print(f\"{torch.cuda.memory_allocated():,} bytes allocated on GPU\")\n",
        "\n",
        "# Split the original data\n",
        "X_train, X_test, y_train, y_test = train_test_split(X, y)\n",
        "\n",
        "# Convert arrays to tensors\n",
        "X_train = torch.from_numpy(X_train.values).float().to(device)\n",
        "X_test  = torch.from_numpy(X_test.values).float().to(device)\n",
        "y_train = torch.from_numpy(y_train.values)[:, np.newaxis].float().to(device)\n",
        "y_test  = torch.from_numpy(y_test.values)[:, np.newaxis].float().to(device)\n",
        "\n",
        "print(\"Add the training and testing data to GPU:\")\n",
        "print(f\"{torch.cuda.memory_allocated():,} bytes allocated on GPU\")"
      ]
    },
    {
      "cell_type": "code",
      "execution_count": 19,
      "metadata": {
        "colab": {
          "base_uri": "https://localhost:8080/"
        },
        "id": "zYRnBp0_dg9o",
        "outputId": "d100e722-7548-4f44-93fa-315376042663"
      },
      "outputs": [
        {
          "output_type": "stream",
          "name": "stdout",
          "text": [
            "----------------------------------------------------------------\n",
            "        Layer (type)               Output Shape         Param #\n",
            "================================================================\n",
            "            Linear-1                [-1, 1, 28]             196\n",
            "              ReLU-2                [-1, 1, 28]               0\n",
            "            Linear-3                [-1, 1, 22]             638\n",
            "              ReLU-4                [-1, 1, 22]               0\n",
            "           Dropout-5                [-1, 1, 22]               0\n",
            "            Linear-6                [-1, 1, 22]             506\n",
            "         LeakyReLU-7                [-1, 1, 22]               0\n",
            "            Linear-8                [-1, 1, 22]             506\n",
            "         LeakyReLU-9                [-1, 1, 22]               0\n",
            "           Linear-10                 [-1, 1, 1]              23\n",
            "================================================================\n",
            "Total params: 1,869\n",
            "Trainable params: 1,869\n",
            "Non-trainable params: 0\n",
            "----------------------------------------------------------------\n",
            "Input size (MB): 0.00\n",
            "Forward/backward pass size (MB): 0.00\n",
            "Params size (MB): 0.01\n",
            "Estimated Total Size (MB): 0.01\n",
            "----------------------------------------------------------------\n"
          ]
        }
      ],
      "source": [
        "from torchsummary import summary\n",
        "summary(model, input_size=(1, X_train.shape[1]))"
      ]
    },
    {
      "cell_type": "markdown",
      "metadata": {
        "id": "ZDzPBiNQdg9o"
      },
      "source": [
        "### Train the model\n",
        "\n",
        "This will run for quite a few epochs.  On a good GPU, each epoch completes very quickly though."
      ]
    },
    {
      "cell_type": "code",
      "execution_count": 22,
      "metadata": {
        "scrolled": false,
        "colab": {
          "base_uri": "https://localhost:8080/"
        },
        "id": "jDmQOBNsdg9o",
        "outputId": "431fb03f-5ce5-4a9b-f25a-8a2b247cd78d"
      },
      "outputs": [
        {
          "output_type": "stream",
          "name": "stdout",
          "text": [
            "+++ Beginning 5000 epochs with batch size 5000\n",
            "Epoch 1; Loss: 0.578110 (lr=0.00010000)\n",
            "Epoch 2; Loss: 0.577866 (lr=0.00010000)\n",
            "Epoch 3; Loss: 0.578635 (lr=0.00010000)\n",
            "Epoch 4; Loss: 0.579027 (lr=0.00010000)\n",
            "Epoch 5; Loss: 0.577929 (lr=0.00010000)\n",
            "Epoch 6; Loss: 0.582254 (lr=0.00010000)\n",
            "Epoch 7; Loss: 0.573296 (lr=0.00010000)\n",
            "Epoch 8; Loss: 0.577189 (lr=0.00010000)\n",
            "Epoch 9; Loss: 0.576598 (lr=0.00010000)\n",
            "Epoch 10; Loss: 0.580184 (lr=0.00010000)\n",
            "Epoch 11; Loss: 0.574216 (lr=0.00010000)\n",
            "Epoch 12; Loss: 0.576439 (lr=0.00010000)\n",
            "Epoch 13; Loss: 0.573768 (lr=0.00010000)\n",
            "Epoch 14; Loss: 0.578697 (lr=0.00010000)\n",
            "Epoch 15; Loss: 0.575357 (lr=0.00010000)\n",
            "Epoch 16; Loss: 0.576500 (lr=0.00010000)\n",
            "Epoch 17; Loss: 0.578274 (lr=0.00010000)\n",
            "Epoch 18; Loss: 0.579428 (lr=0.00010000)\n",
            "Epoch 19; Loss: 0.578272 (lr=0.00010000)\n",
            "Epoch 20; Loss: 0.577308 (lr=0.00010000)\n",
            "Epoch 21; Loss: 0.574858 (lr=0.00010000)\n",
            "Epoch 22; Loss: 0.575854 (lr=0.00010000)\n",
            "Epoch 23; Loss: 0.576675 (lr=0.00010000)\n",
            "Epoch 24; Loss: 0.574986 (lr=0.00010000)\n",
            "Epoch 25; Loss: 0.577493 (lr=0.00010000)\n",
            "Epoch 26; Loss: 0.576771 (lr=0.00005000)\n",
            "Epoch 27; Loss: 0.574857 (lr=0.00002500)\n",
            "Epoch 28; Loss: 0.574806 (lr=0.00001250)\n",
            "Epoch 29; Loss: 0.577076 (lr=0.00000625)\n",
            "Epoch 30; Loss: 0.573727 (lr=0.00000313)\n",
            "Epoch 31; Loss: 0.575356 (lr=0.00000313)\n",
            "Epoch 32; Loss: 0.574402 (lr=0.00000313)\n",
            "Epoch 33; Loss: 0.577289 (lr=0.00000313)\n",
            "Epoch 34; Loss: 0.579744 (lr=0.00000313)\n",
            "Epoch 35; Loss: 0.577388 (lr=0.00000313)\n",
            "Epoch 36; Loss: 0.576973 (lr=0.00000313)\n",
            "Epoch 37; Loss: 0.575558 (lr=0.00000313)\n",
            "Epoch 38; Loss: 0.572547 (lr=0.00000313)\n",
            "Epoch 39; Loss: 0.576025 (lr=0.00000313)\n",
            "Epoch 40; Loss: 0.575620 (lr=0.00000313)\n",
            "Epoch 41; Loss: 0.574368 (lr=0.00000313)\n",
            "Epoch 42; Loss: 0.574666 (lr=0.00000313)\n",
            "Epoch 43; Loss: 0.575335 (lr=0.00000313)\n",
            "Epoch 44; Loss: 0.577332 (lr=0.00000313)\n",
            "Epoch 45; Loss: 0.574259 (lr=0.00000313)\n",
            "Epoch 46; Loss: 0.573920 (lr=0.00000313)\n",
            "Epoch 47; Loss: 0.576248 (lr=0.00000313)\n",
            "Epoch 48; Loss: 0.573475 (lr=0.00000313)\n",
            "Epoch 49; Loss: 0.577644 (lr=0.00000313)\n",
            "Epoch 50; Loss: 0.576303 (lr=0.00000313)\n",
            "Epoch 51; Loss: 0.578052 (lr=0.00000313)\n",
            "Epoch 52; Loss: 0.576154 (lr=0.00000313)\n",
            "Epoch 53; Loss: 0.576741 (lr=0.00000313)\n",
            "Epoch 54; Loss: 0.574738 (lr=0.00000313)\n",
            "Epoch 55; Loss: 0.574951 (lr=0.00000313)\n",
            "Epoch 56; Loss: 0.576572 (lr=0.00000313)\n",
            "Epoch 57; Loss: 0.574020 (lr=0.00000313)\n",
            "Epoch 58; Loss: 0.577461 (lr=0.00000156)\n",
            "Epoch 59; Loss: 0.573850 (lr=0.00000156)\n",
            "Epoch 60; Loss: 0.573370 (lr=0.00000156)\n",
            "Epoch 61; Loss: 0.573616 (lr=0.00000156)\n",
            "Epoch 62; Loss: 0.574068 (lr=0.00000156)\n",
            "Epoch 63; Loss: 0.574660 (lr=0.00000156)\n",
            "Epoch 64; Loss: 0.574941 (lr=0.00000156)\n",
            "Epoch 65; Loss: 0.576310 (lr=0.00000078)\n",
            "Epoch 66; Loss: 0.574246 (lr=0.00000078)\n",
            "Epoch 67; Loss: 0.573584 (lr=0.00000039)\n",
            "Epoch 68; Loss: 0.575496 (lr=0.00000020)\n",
            "Epoch 69; Loss: 0.575948 (lr=0.00000010)\n",
            "Epoch 70; Loss: 0.573494 (lr=0.00000005)\n",
            "Epoch 71; Loss: 0.575001 (lr=0.00000002)\n",
            "Epoch 72; Loss: 0.573717 (lr=0.00000001)\n",
            "+++ Discontinuing training regime when loss becomes constant\n",
            "CPU times: user 17.7 s, sys: 175 ms, total: 17.9 s\n",
            "Wall time: 18 s\n"
          ]
        }
      ],
      "source": [
        "%%time\n",
        "## Now run model (start with high learning rate and decay)\n",
        "\n",
        "loss_fn = torch.nn.SmoothL1Loss()\n",
        "learning_rate = 1e-4\n",
        "optimizer = torch.optim.Adam(model.parameters(), lr=learning_rate)\n",
        "do_training(model, X_train, y_train, optimizer, loss_fn)"
      ]
    },
    {
      "cell_type": "markdown",
      "metadata": {
        "id": "oE_t29uBdg9p"
      },
      "source": [
        "### Visualizing the predictions\n",
        "\n",
        "Our regression approach, we cannot determine any prediction probabilities.  In some ways, this is an advantage because we do not get discontinuities between a \"best guess\" and a \"second guess\" as we saw in the classification approach.  As a domain matter, the second guess should almost surely be \"a little bit smaller\" or a \"a little bit larger\" than the best guess.\n",
        "\n",
        "However, that simplification relies on our prior simplification of the target to ordinal values.  In the two dimensional sizing of the original garments, it is harder to say precisely what \"next largest\" or \"next smallest\" mean.  The visualization below simply makes a large number of predictions, and maps each point with an X-axis of the \"ground truth\" and a Y-axis of the prediction.  The predictions are continuous values, but those could easily be rounded to integers in the mapped range to make an actual garment size prediction.\n",
        "\n",
        "Notice that some predictions are of numeric values greater than 10 (the ordinal encoding of size `18`).  That would be fine with an rounding-to-ordinal rule though.  If the predictions were perfect, all the blue circles would lie on top of the red line.  The actual model is much worse than that.  It seems to do better than the classifier in some ways, but to a lesser degree also under-predicts the largest and smallest sizes, favoring middle sizes.  Moreover, the spread of predictions around the ground truth is not yet especially tight.\n",
        "\n",
        "Do you have ideas for approaches to improve these predictions?"
      ]
    },
    {
      "cell_type": "code",
      "execution_count": 21,
      "metadata": {
        "colab": {
          "base_uri": "https://localhost:8080/",
          "height": 542
        },
        "id": "dNdohoIQdg9p",
        "outputId": "da68e582-f50d-48c6-ead3-cd5d031059f8"
      },
      "outputs": [
        {
          "output_type": "display_data",
          "data": {
            "text/plain": [
              "<Figure size 600x600 with 1 Axes>"
            ],
            "image/png": "[encoded data removed]"
          },
          "metadata": {}
        }
      ],
      "source": [
        "from numpy.random import randint\n",
        "labels = size_to_num.keys()\n",
        "\n",
        "ndxs = randint(0, len(X_test), 10_000)\n",
        "predictions = [p.item() for p in model(X_test[ndxs])]\n",
        "truths = [t.item() for t in y_test[ndxs]]\n",
        "\n",
        "plt.figure(figsize=(6, 6))\n",
        "plt.scatter(truths, predictions, marker='o', alpha=0.1)\n",
        "plt.xticks(range(len(labels)), labels, fontsize=8, rotation='vertical')\n",
        "plt.yticks(range(len(labels)), labels, fontsize=8)\n",
        "plt.xlabel(\"True size\")\n",
        "plt.ylabel(\"Predicted size\")\n",
        "ref = np.linspace(0, 10, 100);\n",
        "plt.plot(ref, ref, color=\"red\");"
      ]
    },
    {
      "cell_type": "markdown",
      "metadata": {
        "id": "iQSLs2Evdg9p"
      },
      "source": [
        "## Next Lesson\n",
        "\n",
        "**Tasks with Networks**: This lesson constructed a basic regression model, with moderately good success in its domain.  Next we will look at unsupervised learning and perform clustering with PyTorch neural networks.\n",
        "\n",
        "<a href=\"NetworkExamples_3.ipynb\"><img src=\"img/open-notebook.png\" align=\"left\"/></a>"
      ]
    }
  ],
  "metadata": {
    "kernelspec": {
      "display_name": "Python 3",
      "language": "python",
      "name": "python3"
    },
    "language_info": {
      "codemirror_mode": {
        "name": "ipython",
        "version": 3
      },
      "file_extension": ".py",
      "mimetype": "text/x-python",
      "name": "python",
      "nbconvert_exporter": "python",
      "pygments_lexer": "ipython3",
      "version": "3.7.10"
    },
    "colab": {
      "provenance": [],
      "include_colab_link": true
    }
  },
  "nbformat": 4,
  "nbformat_minor": 0
}