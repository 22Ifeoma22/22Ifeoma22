{
  "nbformat": 4,
  "nbformat_minor": 0,
  "metadata": {
    "colab": {
      "provenance": [],
      "authorship_tag": "ABX9TyMlolbAIERKbN9oQCQX5JU2",
      "include_colab_link": true
    },
    "kernelspec": {
      "name": "python3",
      "display_name": "Python 3"
    },
    "language_info": {
      "name": "python"
    }
  },
  "cells": [
    {
      "cell_type": "markdown",
      "metadata": {
        "id": "view-in-github",
        "colab_type": "text"
      },
      "source": [
        "<a href=\"https://colab.research.google.com/github/22Ifeoma22/22Ifeoma22/blob/main/NavigatingTheHtmlTreeUpDown.ipynb\" target=\"_parent\"><img src=\"https://colab.research.google.com/assets/colab-badge.svg\" alt=\"Open In Colab\"/></a>"
      ]
    },
    {
      "cell_type": "code",
      "source": [
        "import webbrowser\n",
        "from bs4 import BeautifulSoup"
      ],
      "metadata": {
        "id": "1ujpsYqQCo62"
      },
      "execution_count": 1,
      "outputs": []
    },
    {
      "cell_type": "code",
      "source": [
        "with open('/content/sample_data/TomJerry_Story.html') as html_file:\n",
        "  soup = BeautifulSoup(html_file, 'lxml')"
      ],
      "metadata": {
        "id": "GGNsh8DmDBIx"
      },
      "execution_count": 4,
      "outputs": []
    },
    {
      "cell_type": "code",
      "source": [
        "print(soup.prettify)"
      ],
      "metadata": {
        "colab": {
          "base_uri": "https://localhost:8080/"
        },
        "id": "J_Iy6pahDPpE",
        "outputId": "1bb957c3-27b6-4092-9a89-8414f03ab943"
      },
      "execution_count": null,
      "outputs": [
        {
          "output_type": "stream",
          "name": "stdout",
          "text": [
            "<bound method Tag.prettify of <html>\n",
            "<head>\n",
            "<title> The story of Tom and Jerry </title>\n",
            "</head>\n",
            "<body>\n",
            "<p class=\"title\"><b>Tom and Jerry</b></p>\n",
            "<img alt=\"cartoon_image\" height=\"300\" src=\"TomAndJerry.jpg\" width=\"300\"/>\n",
            "<p class=\"comedy animated series\">\n",
            "        Tom and Jerry is an American animated series of comedy short films created by \n",
            "        <a class=\"creator\" href=\"https://en.wikipedia.org/wiki/William_Hanna\" id=\"link1\">William_Hanna</a> and  \n",
            "        <a class=\"creator\" href=\"https://en.wikipedia.org/wiki/Joseph_Barbera\" id=\"link2\">Joseph Barbera</a>. \n",
            "        It centers on a rivalry between the title characters\n",
            "        <a class=\"character\" href=\"https://en.wikipedia.org/wiki/Tom_Cat\" id=\"link3\">Tom</a>, a cat, and \n",
            "        <a class=\"character\" href=\"https://en.wikipedia.org/wiki/Jerry_Mouse\" id=\"link4\">Jerry</a>, a mouse.</p>\n",
            "<p class=\"comedy story\">\n",
            "            The series features comic fights between an iconic pair of adversaries, \n",
            "            a house cat (Tom) and a mouse (Jerry). The plots of each short usually center on Tom's \n",
            "            numerous attempts to capture Jerry and the mayhem and destruction that follows. \n",
            "            Tom rarely succeeds in catching Jerry, mainly because of Jerry's cleverness, \n",
            "            cunning abilities, and luck. \n",
            "        </p>\n",
            "</body>\n",
            "</html>>\n"
          ]
        }
      ]
    },
    {
      "cell_type": "code",
      "source": [
        "soup.head"
      ],
      "metadata": {
        "colab": {
          "base_uri": "https://localhost:8080/"
        },
        "id": "_EJMZy8ZDZio",
        "outputId": "f9011f0b-9e34-48c4-9b9c-2d54f1f15f2c"
      },
      "execution_count": 5,
      "outputs": [
        {
          "output_type": "execute_result",
          "data": {
            "text/plain": [
              "<head>\n",
              "<title> The story of Tom and Jerry </title>\n",
              "</head>"
            ]
          },
          "metadata": {},
          "execution_count": 5
        }
      ]
    },
    {
      "cell_type": "code",
      "source": [
        "soup.head.title"
      ],
      "metadata": {
        "colab": {
          "base_uri": "https://localhost:8080/"
        },
        "id": "-QZ1PWYjDcos",
        "outputId": "0f830723-de49-4e75-a73e-da5657621d44"
      },
      "execution_count": 6,
      "outputs": [
        {
          "output_type": "execute_result",
          "data": {
            "text/plain": [
              "<title> The story of Tom and Jerry </title>"
            ]
          },
          "metadata": {},
          "execution_count": 6
        }
      ]
    },
    {
      "cell_type": "code",
      "source": [
        "soup.title"
      ],
      "metadata": {
        "colab": {
          "base_uri": "https://localhost:8080/"
        },
        "id": "TqfZC6U3DfSv",
        "outputId": "232e5c6e-716e-4667-dfa8-81894675d91f"
      },
      "execution_count": 7,
      "outputs": [
        {
          "output_type": "execute_result",
          "data": {
            "text/plain": [
              "<title> The story of Tom and Jerry </title>"
            ]
          },
          "metadata": {},
          "execution_count": 7
        }
      ]
    },
    {
      "cell_type": "code",
      "source": [
        "soup.p"
      ],
      "metadata": {
        "colab": {
          "base_uri": "https://localhost:8080/"
        },
        "id": "SzeAQWAvDhmi",
        "outputId": "c31916f9-5746-47b2-d966-f039e505ec4f"
      },
      "execution_count": 8,
      "outputs": [
        {
          "output_type": "execute_result",
          "data": {
            "text/plain": [
              "<p class=\"title\"><b>Tom and Jerry</b></p>"
            ]
          },
          "metadata": {},
          "execution_count": 8
        }
      ]
    },
    {
      "cell_type": "code",
      "source": [
        "soup.p.b"
      ],
      "metadata": {
        "colab": {
          "base_uri": "https://localhost:8080/"
        },
        "id": "RBIPZEPDDjgv",
        "outputId": "83dccfcb-8417-48ac-e7ae-6ce0bdbded5c"
      },
      "execution_count": 9,
      "outputs": [
        {
          "output_type": "execute_result",
          "data": {
            "text/plain": [
              "<b>Tom and Jerry</b>"
            ]
          },
          "metadata": {},
          "execution_count": 9
        }
      ]
    },
    {
      "cell_type": "code",
      "source": [
        "soup.img"
      ],
      "metadata": {
        "colab": {
          "base_uri": "https://localhost:8080/"
        },
        "id": "2xnoOOHNDnVO",
        "outputId": "15027b3a-654f-4072-ce38-e164b40750da"
      },
      "execution_count": 10,
      "outputs": [
        {
          "output_type": "execute_result",
          "data": {
            "text/plain": [
              "<img alt=\"cartoon_image\" height=\"300\" src=\"TomAndJerry.jpg\" width=\"300\"/>"
            ]
          },
          "metadata": {},
          "execution_count": 10
        }
      ]
    },
    {
      "cell_type": "code",
      "source": [
        "soup.contents"
      ],
      "metadata": {
        "colab": {
          "base_uri": "https://localhost:8080/"
        },
        "id": "eFVu-RPdDstF",
        "outputId": "8a586009-e859-49fe-c7e3-65e74133c941"
      },
      "execution_count": 11,
      "outputs": [
        {
          "output_type": "execute_result",
          "data": {
            "text/plain": [
              "[<html>\n",
              " <head>\n",
              " <title> The story of Tom and Jerry </title>\n",
              " </head>\n",
              " <body>\n",
              " <p class=\"title\"><b>Tom and Jerry</b></p>\n",
              " <img alt=\"cartoon_image\" height=\"300\" src=\"TomAndJerry.jpg\" width=\"300\"/>\n",
              " <p class=\"comedy animated series\">\n",
              "         Tom and Jerry is an American animated series of comedy short films created by \n",
              "         <a class=\"creator\" href=\"https://en.wikipedia.org/wiki/William_Hanna\" id=\"link1\">William_Hanna</a> and  \n",
              "         <a class=\"creator\" href=\"https://en.wikipedia.org/wiki/Joseph_Barbera\" id=\"link2\">Joseph Barbera</a>. \n",
              "         It centers on a rivalry between the title characters\n",
              "         <a class=\"character\" href=\"https://en.wikipedia.org/wiki/Tom_Cat\" id=\"link3\">Tom</a>, a cat, and \n",
              "         <a class=\"character\" href=\"https://en.wikipedia.org/wiki/Jerry_Mouse\" id=\"link4\">Jerry</a>, a mouse.</p>\n",
              " <p class=\"comedy story\">\n",
              "             The series features comic fights between an iconic pair of adversaries, \n",
              "             a house cat (Tom) and a mouse (Jerry). The plots of each short usually center on Tom's \n",
              "             numerous attempts to capture Jerry and the mayhem and destruction that follows. \n",
              "             Tom rarely succeeds in catching Jerry, mainly because of Jerry's cleverness, \n",
              "             cunning abilities, and luck. \n",
              "         </p>\n",
              " </body>\n",
              " </html>]"
            ]
          },
          "metadata": {},
          "execution_count": 11
        }
      ]
    },
    {
      "cell_type": "code",
      "source": [
        "len(soup.contents)"
      ],
      "metadata": {
        "colab": {
          "base_uri": "https://localhost:8080/"
        },
        "id": "tdbiAIevD9m9",
        "outputId": "f2ced320-7a8d-491a-c581-19f0efedcf44"
      },
      "execution_count": 12,
      "outputs": [
        {
          "output_type": "execute_result",
          "data": {
            "text/plain": [
              "1"
            ]
          },
          "metadata": {},
          "execution_count": 12
        }
      ]
    },
    {
      "cell_type": "code",
      "source": [
        "soup.contents[0].name"
      ],
      "metadata": {
        "colab": {
          "base_uri": "https://localhost:8080/",
          "height": 35
        },
        "id": "RxKeLyNmEEyn",
        "outputId": "a7ffe889-7e55-4e46-996c-a997594aa9a9"
      },
      "execution_count": 13,
      "outputs": [
        {
          "output_type": "execute_result",
          "data": {
            "text/plain": [
              "'html'"
            ],
            "application/vnd.google.colaboratory.intrinsic+json": {
              "type": "string"
            }
          },
          "metadata": {},
          "execution_count": 13
        }
      ]
    },
    {
      "cell_type": "code",
      "source": [
        "html_tag = soup.html\n",
        "html_tag"
      ],
      "metadata": {
        "colab": {
          "base_uri": "https://localhost:8080/"
        },
        "id": "lEEnQEikEkvS",
        "outputId": "477b479e-ba26-4290-b34f-d14bbc43155d"
      },
      "execution_count": 14,
      "outputs": [
        {
          "output_type": "execute_result",
          "data": {
            "text/plain": [
              "<html>\n",
              "<head>\n",
              "<title> The story of Tom and Jerry </title>\n",
              "</head>\n",
              "<body>\n",
              "<p class=\"title\"><b>Tom and Jerry</b></p>\n",
              "<img alt=\"cartoon_image\" height=\"300\" src=\"TomAndJerry.jpg\" width=\"300\"/>\n",
              "<p class=\"comedy animated series\">\n",
              "        Tom and Jerry is an American animated series of comedy short films created by \n",
              "        <a class=\"creator\" href=\"https://en.wikipedia.org/wiki/William_Hanna\" id=\"link1\">William_Hanna</a> and  \n",
              "        <a class=\"creator\" href=\"https://en.wikipedia.org/wiki/Joseph_Barbera\" id=\"link2\">Joseph Barbera</a>. \n",
              "        It centers on a rivalry between the title characters\n",
              "        <a class=\"character\" href=\"https://en.wikipedia.org/wiki/Tom_Cat\" id=\"link3\">Tom</a>, a cat, and \n",
              "        <a class=\"character\" href=\"https://en.wikipedia.org/wiki/Jerry_Mouse\" id=\"link4\">Jerry</a>, a mouse.</p>\n",
              "<p class=\"comedy story\">\n",
              "            The series features comic fights between an iconic pair of adversaries, \n",
              "            a house cat (Tom) and a mouse (Jerry). The plots of each short usually center on Tom's \n",
              "            numerous attempts to capture Jerry and the mayhem and destruction that follows. \n",
              "            Tom rarely succeeds in catching Jerry, mainly because of Jerry's cleverness, \n",
              "            cunning abilities, and luck. \n",
              "        </p>\n",
              "</body>\n",
              "</html>"
            ]
          },
          "metadata": {},
          "execution_count": 14
        }
      ]
    },
    {
      "cell_type": "code",
      "source": [
        "head_tag = soup.head\n",
        "head_tag"
      ],
      "metadata": {
        "colab": {
          "base_uri": "https://localhost:8080/"
        },
        "id": "gUXSfP2xEJ3g",
        "outputId": "1d96c9bb-cffa-4295-ef0c-27f5e5e02cf3"
      },
      "execution_count": 15,
      "outputs": [
        {
          "output_type": "execute_result",
          "data": {
            "text/plain": [
              "<head>\n",
              "<title> The story of Tom and Jerry </title>\n",
              "</head>"
            ]
          },
          "metadata": {},
          "execution_count": 15
        }
      ]
    },
    {
      "cell_type": "code",
      "source": [
        "head_tag.contents"
      ],
      "metadata": {
        "colab": {
          "base_uri": "https://localhost:8080/"
        },
        "id": "s3_jc9P9E79F",
        "outputId": "930439a7-d444-41aa-d75d-25af9e166ca8"
      },
      "execution_count": 16,
      "outputs": [
        {
          "output_type": "execute_result",
          "data": {
            "text/plain": [
              "['\\n', <title> The story of Tom and Jerry </title>, '\\n']"
            ]
          },
          "metadata": {},
          "execution_count": 16
        }
      ]
    },
    {
      "cell_type": "code",
      "source": [
        "title_tag = head_tag.contents[1]"
      ],
      "metadata": {
        "id": "qC7z07s7FF9E"
      },
      "execution_count": 17,
      "outputs": []
    },
    {
      "cell_type": "code",
      "source": [
        "title_tag"
      ],
      "metadata": {
        "colab": {
          "base_uri": "https://localhost:8080/"
        },
        "id": "d5cOQA_QFSQr",
        "outputId": "5c6bcc9a-fde4-4af9-f678-c1a4a1ba8dd7"
      },
      "execution_count": 18,
      "outputs": [
        {
          "output_type": "execute_result",
          "data": {
            "text/plain": [
              "<title> The story of Tom and Jerry </title>"
            ]
          },
          "metadata": {},
          "execution_count": 18
        }
      ]
    },
    {
      "cell_type": "code",
      "source": [
        "title_tag.contents"
      ],
      "metadata": {
        "colab": {
          "base_uri": "https://localhost:8080/"
        },
        "id": "VvAqjPexFWZz",
        "outputId": "270e8f06-f8cc-485f-9e09-6113bd36c261"
      },
      "execution_count": 19,
      "outputs": [
        {
          "output_type": "execute_result",
          "data": {
            "text/plain": [
              "[' The story of Tom and Jerry ']"
            ]
          },
          "metadata": {},
          "execution_count": 19
        }
      ]
    },
    {
      "cell_type": "code",
      "source": [
        "text = title_tag.contents[0]"
      ],
      "metadata": {
        "id": "biBEIZCEFdcO"
      },
      "execution_count": 20,
      "outputs": []
    },
    {
      "cell_type": "code",
      "source": [
        "text"
      ],
      "metadata": {
        "colab": {
          "base_uri": "https://localhost:8080/",
          "height": 35
        },
        "id": "yOsy_MJQFh_t",
        "outputId": "f73b5634-8f1f-4eee-88d5-9e706cad8335"
      },
      "execution_count": 21,
      "outputs": [
        {
          "output_type": "execute_result",
          "data": {
            "text/plain": [
              "' The story of Tom and Jerry '"
            ],
            "application/vnd.google.colaboratory.intrinsic+json": {
              "type": "string"
            }
          },
          "metadata": {},
          "execution_count": 21
        }
      ]
    },
    {
      "cell_type": "code",
      "source": [
        "head_tag.children"
      ],
      "metadata": {
        "colab": {
          "base_uri": "https://localhost:8080/"
        },
        "id": "2-PjJ6VIFonZ",
        "outputId": "4538e198-8883-4307-de04-ae561db794e7"
      },
      "execution_count": 22,
      "outputs": [
        {
          "output_type": "execute_result",
          "data": {
            "text/plain": [
              "<generator object Tag.children.<locals>.<genexpr> at 0x7fab321ff2a0>"
            ]
          },
          "metadata": {},
          "execution_count": 22
        }
      ]
    },
    {
      "cell_type": "code",
      "source": [
        "for child in head_tag.children:\n",
        "  print(child)"
      ],
      "metadata": {
        "colab": {
          "base_uri": "https://localhost:8080/"
        },
        "id": "ZG4DusxOF4Pr",
        "outputId": "a6c54d9e-eac1-4763-d57b-ec929e921575"
      },
      "execution_count": 23,
      "outputs": [
        {
          "output_type": "stream",
          "name": "stdout",
          "text": [
            "\n",
            "\n",
            "<title> The story of Tom and Jerry </title>\n",
            "\n",
            "\n"
          ]
        }
      ]
    },
    {
      "cell_type": "code",
      "source": [
        "html_tag.children"
      ],
      "metadata": {
        "colab": {
          "base_uri": "https://localhost:8080/"
        },
        "id": "_w_J9rQCIjYn",
        "outputId": "e772b29c-6d10-47c1-e6ea-f0a1e9a50dde"
      },
      "execution_count": 24,
      "outputs": [
        {
          "output_type": "execute_result",
          "data": {
            "text/plain": [
              "<generator object Tag.children.<locals>.<genexpr> at 0x7fab32d90040>"
            ]
          },
          "metadata": {},
          "execution_count": 24
        }
      ]
    },
    {
      "cell_type": "code",
      "source": [
        "for child in html_tag.children:\n",
        "  print(child.name)"
      ],
      "metadata": {
        "colab": {
          "base_uri": "https://localhost:8080/"
        },
        "id": "RkBzPZxhIoy7",
        "outputId": "efe33f46-3c18-4e54-eb0d-ef30b6fa0397"
      },
      "execution_count": 25,
      "outputs": [
        {
          "output_type": "stream",
          "name": "stdout",
          "text": [
            "None\n",
            "head\n",
            "None\n",
            "body\n",
            "None\n"
          ]
        }
      ]
    },
    {
      "cell_type": "code",
      "source": [
        "print(\"Immediate parent\", \"Child\")\n",
        "for child in html_tag.children:\n",
        "  print(html_tag.name, child.name)"
      ],
      "metadata": {
        "colab": {
          "base_uri": "https://localhost:8080/"
        },
        "id": "cwCbBIgAI4gt",
        "outputId": "5d7f471a-da6d-4791-f064-16228a2888ec"
      },
      "execution_count": 26,
      "outputs": [
        {
          "output_type": "stream",
          "name": "stdout",
          "text": [
            "Immediate parent Child\n",
            "html None\n",
            "html head\n",
            "html None\n",
            "html body\n",
            "html None\n"
          ]
        }
      ]
    },
    {
      "cell_type": "code",
      "source": [
        "print(\"Immediate parent\", \"Child\")\n",
        "\n",
        "for child in soup.body.children:\n",
        "  print(child.parent.name, \"\\t\\t\", child.name)"
      ],
      "metadata": {
        "colab": {
          "base_uri": "https://localhost:8080/"
        },
        "id": "Gb02tV9vLt42",
        "outputId": "737ee982-32c1-497a-e198-e99533104518"
      },
      "execution_count": 27,
      "outputs": [
        {
          "output_type": "stream",
          "name": "stdout",
          "text": [
            "Immediate parent Child\n",
            "body \t\t None\n",
            "body \t\t p\n",
            "body \t\t None\n",
            "body \t\t img\n",
            "body \t\t None\n",
            "body \t\t p\n",
            "body \t\t None\n",
            "body \t\t p\n",
            "body \t\t None\n"
          ]
        }
      ]
    },
    {
      "cell_type": "code",
      "source": [
        "for child in html_tag.descendants:\n",
        "  if child.name is not None:\n",
        "    print(child.name)"
      ],
      "metadata": {
        "colab": {
          "base_uri": "https://localhost:8080/"
        },
        "id": "FkxwqhBsh73W",
        "outputId": "a6386c02-20b9-4ea1-cec2-9f19824d29cd"
      },
      "execution_count": 31,
      "outputs": [
        {
          "output_type": "stream",
          "name": "stdout",
          "text": [
            "head\n",
            "title\n",
            "body\n",
            "p\n",
            "b\n",
            "img\n",
            "p\n",
            "a\n",
            "a\n",
            "a\n",
            "a\n",
            "p\n"
          ]
        }
      ]
    },
    {
      "cell_type": "code",
      "source": [
        "print(\"Imediate parents\" , \"Child\")\n",
        "\n",
        "for child in html_tag.descendants:\n",
        "  if child.name is not None:\n",
        "    print(child.parent.name, \"\\t\\t\", child.name)"
      ],
      "metadata": {
        "colab": {
          "base_uri": "https://localhost:8080/"
        },
        "id": "TgIEuaqrigDU",
        "outputId": "9c8758c4-ddbe-499f-9f77-9fa05e446dea"
      },
      "execution_count": 32,
      "outputs": [
        {
          "output_type": "stream",
          "name": "stdout",
          "text": [
            "Imediate parents Child\n",
            "html \t\t head\n",
            "head \t\t title\n",
            "html \t\t body\n",
            "body \t\t p\n",
            "p \t\t b\n",
            "body \t\t img\n",
            "body \t\t p\n",
            "p \t\t a\n",
            "p \t\t a\n",
            "p \t\t a\n",
            "p \t\t a\n",
            "body \t\t p\n"
          ]
        }
      ]
    },
    {
      "cell_type": "code",
      "source": [
        "html_tag"
      ],
      "metadata": {
        "colab": {
          "base_uri": "https://localhost:8080/"
        },
        "id": "SZ7WIGfCjC2-",
        "outputId": "e30fc5c6-45ef-4244-cc20-3b0d9a25a94d"
      },
      "execution_count": 33,
      "outputs": [
        {
          "output_type": "execute_result",
          "data": {
            "text/plain": [
              "<html>\n",
              "<head>\n",
              "<title> The story of Tom and Jerry </title>\n",
              "</head>\n",
              "<body>\n",
              "<p class=\"title\"><b>Tom and Jerry</b></p>\n",
              "<img alt=\"cartoon_image\" height=\"300\" src=\"TomAndJerry.jpg\" width=\"300\"/>\n",
              "<p class=\"comedy animated series\">\n",
              "        Tom and Jerry is an American animated series of comedy short films created by \n",
              "        <a class=\"creator\" href=\"https://en.wikipedia.org/wiki/William_Hanna\" id=\"link1\">William_Hanna</a> and  \n",
              "        <a class=\"creator\" href=\"https://en.wikipedia.org/wiki/Joseph_Barbera\" id=\"link2\">Joseph Barbera</a>. \n",
              "        It centers on a rivalry between the title characters\n",
              "        <a class=\"character\" href=\"https://en.wikipedia.org/wiki/Tom_Cat\" id=\"link3\">Tom</a>, a cat, and \n",
              "        <a class=\"character\" href=\"https://en.wikipedia.org/wiki/Jerry_Mouse\" id=\"link4\">Jerry</a>, a mouse.</p>\n",
              "<p class=\"comedy story\">\n",
              "            The series features comic fights between an iconic pair of adversaries, \n",
              "            a house cat (Tom) and a mouse (Jerry). The plots of each short usually center on Tom's \n",
              "            numerous attempts to capture Jerry and the mayhem and destruction that follows. \n",
              "            Tom rarely succeeds in catching Jerry, mainly because of Jerry's cleverness, \n",
              "            cunning abilities, and luck. \n",
              "        </p>\n",
              "</body>\n",
              "</html>"
            ]
          },
          "metadata": {},
          "execution_count": 33
        }
      ]
    },
    {
      "cell_type": "code",
      "source": [
        "html_tag.string"
      ],
      "metadata": {
        "id": "B1hb1oTdl8Ct"
      },
      "execution_count": 35,
      "outputs": []
    },
    {
      "cell_type": "code",
      "source": [
        "for string in html_tag.strings:\n",
        "  print(string)"
      ],
      "metadata": {
        "colab": {
          "base_uri": "https://localhost:8080/"
        },
        "id": "k47ntIcYmJAN",
        "outputId": "a83983b1-4780-494f-9b1c-4fb4392a9bd0"
      },
      "execution_count": 36,
      "outputs": [
        {
          "output_type": "stream",
          "name": "stdout",
          "text": [
            "\n",
            "\n",
            "\n",
            "\n",
            " The story of Tom and Jerry \n",
            "\n",
            "\n",
            "\n",
            "\n",
            "\n",
            "\n",
            "Tom and Jerry\n",
            "\n",
            "\n",
            "\n",
            "\n",
            "\n",
            "        Tom and Jerry is an American animated series of comedy short films created by \n",
            "        \n",
            "William_Hanna\n",
            " and  \n",
            "        \n",
            "Joseph Barbera\n",
            ". \n",
            "        It centers on a rivalry between the title characters\n",
            "        \n",
            "Tom\n",
            ", a cat, and \n",
            "        \n",
            "Jerry\n",
            ", a mouse.\n",
            "\n",
            "\n",
            "\n",
            "            The series features comic fights between an iconic pair of adversaries, \n",
            "            a house cat (Tom) and a mouse (Jerry). The plots of each short usually center on Tom's \n",
            "            numerous attempts to capture Jerry and the mayhem and destruction that follows. \n",
            "            Tom rarely succeeds in catching Jerry, mainly because of Jerry's cleverness, \n",
            "            cunning abilities, and luck. \n",
            "        \n",
            "\n",
            "\n",
            "\n",
            "\n"
          ]
        }
      ]
    },
    {
      "cell_type": "code",
      "source": [
        "html_tag.stripped_strings"
      ],
      "metadata": {
        "colab": {
          "base_uri": "https://localhost:8080/"
        },
        "id": "LbIyLCfrmSkk",
        "outputId": "021ab5cc-5a4d-4420-e996-49179694ad33"
      },
      "execution_count": 37,
      "outputs": [
        {
          "output_type": "execute_result",
          "data": {
            "text/plain": [
              "<generator object PageElement.stripped_strings at 0x7fab0ad27030>"
            ]
          },
          "metadata": {},
          "execution_count": 37
        }
      ]
    },
    {
      "cell_type": "code",
      "source": [
        "for string in html_tag.stripped_strings:\n",
        "  print(string)"
      ],
      "metadata": {
        "colab": {
          "base_uri": "https://localhost:8080/"
        },
        "id": "2nxPvgi2mftE",
        "outputId": "43098401-cb9a-44a1-f4fb-73b3f0e6b2e3"
      },
      "execution_count": 38,
      "outputs": [
        {
          "output_type": "stream",
          "name": "stdout",
          "text": [
            "The story of Tom and Jerry\n",
            "Tom and Jerry\n",
            "Tom and Jerry is an American animated series of comedy short films created by\n",
            "William_Hanna\n",
            "and\n",
            "Joseph Barbera\n",
            ". \n",
            "        It centers on a rivalry between the title characters\n",
            "Tom\n",
            ", a cat, and\n",
            "Jerry\n",
            ", a mouse.\n",
            "The series features comic fights between an iconic pair of adversaries, \n",
            "            a house cat (Tom) and a mouse (Jerry). The plots of each short usually center on Tom's \n",
            "            numerous attempts to capture Jerry and the mayhem and destruction that follows. \n",
            "            Tom rarely succeeds in catching Jerry, mainly because of Jerry's cleverness, \n",
            "            cunning abilities, and luck.\n"
          ]
        }
      ]
    },
    {
      "cell_type": "code",
      "source": [
        "head_tag"
      ],
      "metadata": {
        "colab": {
          "base_uri": "https://localhost:8080/"
        },
        "id": "GaOry6ETmrLX",
        "outputId": "8d1524a3-070b-4189-c646-63a9d234e9de"
      },
      "execution_count": 39,
      "outputs": [
        {
          "output_type": "execute_result",
          "data": {
            "text/plain": [
              "<head>\n",
              "<title> The story of Tom and Jerry </title>\n",
              "</head>"
            ]
          },
          "metadata": {},
          "execution_count": 39
        }
      ]
    },
    {
      "cell_type": "code",
      "source": [
        "title_tag"
      ],
      "metadata": {
        "colab": {
          "base_uri": "https://localhost:8080/"
        },
        "id": "tRC7-XbsmwE2",
        "outputId": "95d6c794-2a9f-4315-cc0e-de08bf599485"
      },
      "execution_count": 40,
      "outputs": [
        {
          "output_type": "execute_result",
          "data": {
            "text/plain": [
              "<title> The story of Tom and Jerry </title>"
            ]
          },
          "metadata": {},
          "execution_count": 40
        }
      ]
    },
    {
      "cell_type": "code",
      "source": [
        "title_tag.parent"
      ],
      "metadata": {
        "colab": {
          "base_uri": "https://localhost:8080/"
        },
        "id": "m11CIUKxm4UX",
        "outputId": "6fc8d030-873f-45a3-af7b-c0171616312a"
      },
      "execution_count": 41,
      "outputs": [
        {
          "output_type": "execute_result",
          "data": {
            "text/plain": [
              "<head>\n",
              "<title> The story of Tom and Jerry </title>\n",
              "</head>"
            ]
          },
          "metadata": {},
          "execution_count": 41
        }
      ]
    },
    {
      "cell_type": "code",
      "source": [
        "title_tag.string.parent"
      ],
      "metadata": {
        "colab": {
          "base_uri": "https://localhost:8080/"
        },
        "id": "kod-IV9Nnlsk",
        "outputId": "8884ccef-5b92-4dd6-e075-46d2265283fd"
      },
      "execution_count": 42,
      "outputs": [
        {
          "output_type": "execute_result",
          "data": {
            "text/plain": [
              "<title> The story of Tom and Jerry </title>"
            ]
          },
          "metadata": {},
          "execution_count": 42
        }
      ]
    },
    {
      "cell_type": "code",
      "source": [
        "type(html_tag.parent)\n"
      ],
      "metadata": {
        "colab": {
          "base_uri": "https://localhost:8080/",
          "height": 221
        },
        "id": "2_pC7Or9n0MB",
        "outputId": "e03ab3d2-d8f1-48a9-9853-dcc9d29b2512"
      },
      "execution_count": 43,
      "outputs": [
        {
          "output_type": "execute_result",
          "data": {
            "text/plain": [
              "bs4.BeautifulSoup"
            ],
            "text/html": [
              "<div style=\"max-width:800px; border: 1px solid var(--colab-border-color);\"><style>\n",
              "      pre.function-repr-contents {\n",
              "        overflow-x: auto;\n",
              "        padding: 8px 12px;\n",
              "        max-height: 500px;\n",
              "      }\n",
              "\n",
              "      pre.function-repr-contents.function-repr-contents-collapsed {\n",
              "        cursor: pointer;\n",
              "        max-height: 100px;\n",
              "      }\n",
              "    </style>\n",
              "    <pre style=\"white-space: initial; background:\n",
              "         var(--colab-secondary-surface-color); padding: 8px 12px;\n",
              "         border-bottom: 1px solid var(--colab-border-color);\"><b>bs4.BeautifulSoup</b><br/>def __call__(name: Optional[_StrainableElement]=None, attrs: _StrainableAttributes={}, recursive: bool=True, string: Optional[_StrainableString]=None, limit: Optional[int]=None, _stacklevel: int=2, **kwargs: _StrainableAttribute) -&gt; _QueryResults</pre><pre class=\"function-repr-contents function-repr-contents-collapsed\" style=\"\"><a class=\"filepath\" style=\"display:none\" href=\"#\">/usr/local/lib/python3.11/dist-packages/bs4/__init__.py</a>A data structure representing a parsed HTML or XML document.\n",
              "\n",
              "Most of the methods you&#x27;ll call on a BeautifulSoup object are inherited from\n",
              "PageElement or Tag.\n",
              "\n",
              "Internally, this class defines the basic interface called by the\n",
              "tree builders when converting an HTML/XML document into a data\n",
              "structure. The interface abstracts away the differences between\n",
              "parsers. To write a new tree builder, you&#x27;ll need to understand\n",
              "these methods as a whole.\n",
              "\n",
              "These methods will be called by the BeautifulSoup constructor:\n",
              "  * reset()\n",
              "  * feed(markup)\n",
              "\n",
              "The tree builder may call these methods from its feed() implementation:\n",
              "  * handle_starttag(name, attrs) # See note about return value\n",
              "  * handle_endtag(name)\n",
              "  * handle_data(data) # Appends to the current data node\n",
              "  * endData(containerClass) # Ends the current data node\n",
              "\n",
              "No matter how complicated the underlying parser is, you should be\n",
              "able to build a tree using &#x27;start tag&#x27; events, &#x27;end tag&#x27; events,\n",
              "&#x27;data&#x27; events, and &quot;done with data&quot; events.\n",
              "\n",
              "If you encounter an empty-element tag (aka a self-closing tag,\n",
              "like HTML&#x27;s &lt;br&gt; tag), call handle_starttag and then\n",
              "handle_endtag.</pre>\n",
              "      <script>\n",
              "      if (google.colab.kernel.accessAllowed && google.colab.files && google.colab.files.view) {\n",
              "        for (const element of document.querySelectorAll('.filepath')) {\n",
              "          element.style.display = 'block'\n",
              "          element.onclick = (event) => {\n",
              "            event.preventDefault();\n",
              "            event.stopPropagation();\n",
              "            google.colab.files.view(element.textContent, 133);\n",
              "          };\n",
              "        }\n",
              "      }\n",
              "      for (const element of document.querySelectorAll('.function-repr-contents')) {\n",
              "        element.onclick = (event) => {\n",
              "          event.preventDefault();\n",
              "          event.stopPropagation();\n",
              "          element.classList.toggle('function-repr-contents-collapsed');\n",
              "        };\n",
              "      }\n",
              "      </script>\n",
              "      </div>"
            ]
          },
          "metadata": {},
          "execution_count": 43
        }
      ]
    },
    {
      "cell_type": "code",
      "source": [
        "print(soup.parent)"
      ],
      "metadata": {
        "colab": {
          "base_uri": "https://localhost:8080/"
        },
        "id": "pUM3baDen87i",
        "outputId": "e6013fdd-dccd-4976-c089-549f8a1d08c5"
      },
      "execution_count": 44,
      "outputs": [
        {
          "output_type": "stream",
          "name": "stdout",
          "text": [
            "None\n"
          ]
        }
      ]
    }
  ]
}