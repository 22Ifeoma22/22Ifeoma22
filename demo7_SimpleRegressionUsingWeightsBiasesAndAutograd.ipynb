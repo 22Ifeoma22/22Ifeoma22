{
  "cells": [
    {
      "cell_type": "markdown",
      "metadata": {
        "id": "view-in-github",
        "colab_type": "text"
      },
      "source": [
        "<a href=\"https://colab.research.google.com/github/22Ifeoma22/22Ifeoma22/blob/main/demo7_SimpleRegressionUsingWeightsBiasesAndAutograd.ipynb\" target=\"_parent\"><img src=\"https://colab.research.google.com/assets/colab-badge.svg\" alt=\"Open In Colab\"/></a>"
      ]
    },
    {
      "cell_type": "code",
      "execution_count": null,
      "metadata": {
        "id": "fUQHef0XD6ra"
      },
      "outputs": [],
      "source": [
        "import numpy as np\n",
        "import matplotlib.pyplot as plt"
      ]
    },
    {
      "cell_type": "markdown",
      "metadata": {
        "id": "qN-QHnzoD6rc"
      },
      "source": [
        "#### Creating Dataset\n",
        "A simple dataset using numpy arrays"
      ]
    },
    {
      "cell_type": "code",
      "execution_count": null,
      "metadata": {
        "id": "TdDxyWOdD6rd"
      },
      "outputs": [],
      "source": [
        "x_train = np.array ([[4.7], [2.4], [7.5], [7.1], [4.3],\n",
        "                     [7.8], [8.9], [5.2], [4.59], [2.1],\n",
        "                     [8], [5], [7.5], [5], [4],\n",
        "                     [8], [5.2], [4.9], [3], [4.7],\n",
        "                     [4], [4.8], [3.5], [2.1], [4.1]],\n",
        "                    dtype = np.float32)\n",
        "\n",
        "y_train = np.array ([[2.6], [1.6], [3.09], [2.4], [2.4],\n",
        "                     [3.3], [2.6], [1.96], [3.13], [1.76],\n",
        "                     [3.2], [2.1], [1.6], [2.5], [2.2],\n",
        "                     [2.75], [2.4], [1.8], [1], [2],\n",
        "                     [1.6], [2.4], [2.6], [1.5], [3.1]],\n",
        "                    dtype = np.float32)"
      ]
    },
    {
      "cell_type": "markdown",
      "metadata": {
        "id": "A7IssqalD6rd"
      },
      "source": [
        "#### View the data\n",
        "There seems to be some relationship which can be plotted between x_train and y_train. A regression line can be drawn to represent the relationship"
      ]
    },
    {
      "cell_type": "code",
      "execution_count": null,
      "metadata": {
        "colab": {
          "base_uri": "https://localhost:8080/",
          "height": 676
        },
        "id": "_LLXX9BjD6re",
        "outputId": "4c32aa7d-9496-48f4-88ca-729eb52a3271"
      },
      "outputs": [
        {
          "output_type": "display_data",
          "data": {
            "text/plain": [
              "<Figure size 800x800 with 1 Axes>"
            ],
            "image/png": "[encoded data removed]"
          },
          "metadata": {}
        }
      ],
      "source": [
        "plt.figure(figsize=(8,8))\n",
        "\n",
        "plt.scatter(x_train, y_train, c='green', s=250, label='Original data')\n",
        "\n",
        "plt.show()"
      ]
    },
    {
      "cell_type": "code",
      "execution_count": null,
      "metadata": {
        "id": "MNhptZbCD6rf"
      },
      "outputs": [],
      "source": [
        "import torch"
      ]
    },
    {
      "cell_type": "markdown",
      "metadata": {
        "id": "gO3avNpYD6rf"
      },
      "source": [
        "#### Converting data to pytorch tensors"
      ]
    },
    {
      "cell_type": "code",
      "execution_count": null,
      "metadata": {
        "colab": {
          "base_uri": "https://localhost:8080/"
        },
        "id": "AuviToI5D6rf",
        "outputId": "13041ee6-a7d2-47e3-cc9f-5f22f3de0038"
      },
      "outputs": [
        {
          "output_type": "stream",
          "name": "stdout",
          "text": [
            "requires_grad for X_train:  False\n",
            "requires_grad for Y_train:  False\n"
          ]
        }
      ],
      "source": [
        "X_train = torch.from_numpy(x_train)\n",
        "Y_train = torch.from_numpy(y_train)\n",
        "\n",
        "print('requires_grad for X_train: ', X_train.requires_grad)\n",
        "print('requires_grad for Y_train: ', Y_train.requires_grad)"
      ]
    },
    {
      "cell_type": "markdown",
      "metadata": {
        "id": "KeibK_4PD6rg"
      },
      "source": [
        "#### Set the details for our neural network\n",
        "Input, output and hidden layer sizes plus the learning rate"
      ]
    },
    {
      "cell_type": "code",
      "execution_count": null,
      "metadata": {
        "id": "7CSh_FrND6rg"
      },
      "outputs": [],
      "source": [
        "input_size = 1\n",
        "hidden_size = 1\n",
        "output_size = 1\n",
        "learning_rate = 0.001"
      ]
    },
    {
      "cell_type": "markdown",
      "metadata": {
        "id": "lM9vsd5BD6rg"
      },
      "source": [
        "#### Create random Tensors for weights and biases.<br>\n",
        "Setting requires_grad=True indicates that we want to compute gradients with respect to these Tensors during the backward pass"
      ]
    },
    {
      "cell_type": "code",
      "execution_count": null,
      "metadata": {
        "colab": {
          "base_uri": "https://localhost:8080/"
        },
        "id": "lHSzo2vmD6rh",
        "outputId": "3be4422c-83bf-439c-a7e3-222a4bc1edfb"
      },
      "outputs": [
        {
          "output_type": "execute_result",
          "data": {
            "text/plain": [
              "torch.Size([1, 1])"
            ]
          },
          "metadata": {},
          "execution_count": 7
        }
      ],
      "source": [
        "w1 = torch.rand(input_size,\n",
        "                hidden_size,\n",
        "\n",
        "                requires_grad=True)\n",
        "w1.shape"
      ]
    },
    {
      "cell_type": "code",
      "execution_count": null,
      "metadata": {
        "colab": {
          "base_uri": "https://localhost:8080/"
        },
        "id": "U1uEzMTOD6rh",
        "outputId": "f83b8e9b-01ea-43bc-d824-2fa7b76c0254"
      },
      "outputs": [
        {
          "output_type": "execute_result",
          "data": {
            "text/plain": [
              "torch.Size([1, 1])"
            ]
          },
          "metadata": {},
          "execution_count": 8
        }
      ],
      "source": [
        "b1 = torch.rand(hidden_size,\n",
        "                output_size,\n",
        "\n",
        "                requires_grad=True)\n",
        "b1.shape"
      ]
    },
    {
      "cell_type": "code",
      "execution_count": null,
      "metadata": {
        "colab": {
          "base_uri": "https://localhost:8080/"
        },
        "id": "59ySntEmD6rh",
        "outputId": "7a49a843-68af-4b0a-a80e-37e20435b2af"
      },
      "outputs": [
        {
          "output_type": "execute_result",
          "data": {
            "text/plain": [
              "tensor([[0.9537]], requires_grad=True)"
            ]
          },
          "metadata": {},
          "execution_count": 9
        }
      ],
      "source": [
        "w1"
      ]
    },
    {
      "cell_type": "code",
      "execution_count": null,
      "metadata": {
        "colab": {
          "base_uri": "https://localhost:8080/"
        },
        "id": "fyG-Ha13D6rh",
        "outputId": "ffead939-f862-460f-eaed-575e479ffa56"
      },
      "outputs": [
        {
          "output_type": "execute_result",
          "data": {
            "text/plain": [
              "tensor([[0.6669]], requires_grad=True)"
            ]
          },
          "metadata": {},
          "execution_count": 10
        }
      ],
      "source": [
        "b1"
      ]
    },
    {
      "cell_type": "markdown",
      "metadata": {
        "id": "igkc0NMLD6ri"
      },
      "source": [
        "## Training\n",
        "\n",
        "#### Foward Pass:\n",
        "* Predicting Y with input data X\n",
        "* we use y = ax+b  for predictions as it is a linear regression problem\n",
        "\n",
        "#### Finding Loss:\n",
        "* Finding difference between Y_train and Y_pred by squaring the difference and then summing out, similar to nn.MSELoss\n",
        "\n",
        "\n",
        "#### For the loss_backward() function call:\n",
        "* backward pass will compute the gradient of loss with respect to all Tensors with requires_grad=True.\n",
        "* After this call w1.grad and b1.grad will be Tensors holding the gradient of the loss with respect to w1 and b1 respectively.\n",
        "\n",
        "#### Manually updating the weights\n",
        "* weights have requires_grad=True, but we don't need to track this in autograd. So will wrap it in torch.no_grad\n",
        "* reducing weight with multiple of learning rate and gradient\n",
        "* manually zero the weight gradients after updating weights"
      ]
    },
    {
      "cell_type": "code",
      "execution_count": null,
      "metadata": {
        "colab": {
          "base_uri": "https://localhost:8080/"
        },
        "id": "BQye0uFHD6ri",
        "outputId": "b3697523-42c9-4885-e140-ab3fbde980d8"
      },
      "outputs": [
        {
          "output_type": "stream",
          "name": "stdout",
          "text": [
            "100 8.915861129760742\n",
            "200 8.912375450134277\n",
            "300 8.912376403808594\n",
            "400 8.912376403808594\n",
            "500 8.912376403808594\n",
            "600 8.912376403808594\n",
            "700 8.912376403808594\n",
            "800 8.912376403808594\n",
            "900 8.912376403808594\n",
            "1000 8.912376403808594\n",
            "1100 8.912376403808594\n",
            "1200 8.912376403808594\n",
            "1300 8.912376403808594\n",
            "1400 8.912376403808594\n",
            "1500 8.912376403808594\n",
            "1600 8.912376403808594\n",
            "1700 8.912376403808594\n",
            "1800 8.912376403808594\n",
            "1900 8.912376403808594\n",
            "2000 8.912376403808594\n",
            "2100 8.912376403808594\n",
            "2200 8.912376403808594\n",
            "2300 8.912376403808594\n",
            "2400 8.912376403808594\n",
            "2500 8.912376403808594\n",
            "2600 8.912376403808594\n",
            "2700 8.912376403808594\n",
            "2800 8.912376403808594\n",
            "2900 8.912376403808594\n",
            "3000 8.912376403808594\n",
            "3100 8.912376403808594\n",
            "3200 8.912376403808594\n",
            "3300 8.912376403808594\n",
            "3400 8.912376403808594\n",
            "3500 8.912376403808594\n",
            "3600 8.912376403808594\n",
            "3700 8.912376403808594\n",
            "3800 8.912376403808594\n",
            "3900 8.912376403808594\n",
            "4000 8.912376403808594\n"
          ]
        }
      ],
      "source": [
        "for iter in range(1, 4001):\n",
        "\n",
        "    y_pred = X_train.mm(w1).clamp(min=0).add(b1)\n",
        "\n",
        "    loss = (y_pred - Y_train).pow(2).sum()\n",
        "\n",
        "    if iter % 100 ==0:\n",
        "        print(iter, loss.item())\n",
        "\n",
        "    loss.backward()\n",
        "\n",
        "    with torch.no_grad():\n",
        "        w1 -= learning_rate * w1.grad\n",
        "        b1 -= learning_rate * b1.grad\n",
        "        w1.grad.zero_()\n",
        "        b1.grad.zero_()"
      ]
    },
    {
      "cell_type": "code",
      "execution_count": null,
      "metadata": {
        "colab": {
          "base_uri": "https://localhost:8080/"
        },
        "id": "YuF2-uH8D6ri",
        "outputId": "8621becf-edec-4dcc-fac0-661e16d0ccfe"
      },
      "outputs": [
        {
          "output_type": "stream",
          "name": "stdout",
          "text": [
            "w1:  tensor([[-0.0256]], requires_grad=True)\n",
            "b1:  tensor([[2.3036]], requires_grad=True)\n"
          ]
        }
      ],
      "source": [
        "print ('w1: ', w1)\n",
        "print ('b1: ', b1)"
      ]
    },
    {
      "cell_type": "markdown",
      "metadata": {
        "id": "84uRX51pD6rj"
      },
      "source": [
        "#### Checking the output"
      ]
    },
    {
      "cell_type": "markdown",
      "metadata": {
        "id": "8zn4r21-D6rj"
      },
      "source": [
        "Converting data into a tensor"
      ]
    },
    {
      "cell_type": "code",
      "execution_count": null,
      "metadata": {
        "colab": {
          "base_uri": "https://localhost:8080/"
        },
        "id": "PbetpkiPD6rj",
        "outputId": "e4c136c9-9860-48bf-e971-0c743aa1cef7"
      },
      "outputs": [
        {
          "output_type": "execute_result",
          "data": {
            "text/plain": [
              "tensor([[4.7000],\n",
              "        [2.4000],\n",
              "        [7.5000],\n",
              "        [7.1000],\n",
              "        [4.3000],\n",
              "        [7.8000],\n",
              "        [8.9000],\n",
              "        [5.2000],\n",
              "        [4.5900],\n",
              "        [2.1000],\n",
              "        [8.0000],\n",
              "        [5.0000],\n",
              "        [7.5000],\n",
              "        [5.0000],\n",
              "        [4.0000],\n",
              "        [8.0000],\n",
              "        [5.2000],\n",
              "        [4.9000],\n",
              "        [3.0000],\n",
              "        [4.7000],\n",
              "        [4.0000],\n",
              "        [4.8000],\n",
              "        [3.5000],\n",
              "        [2.1000],\n",
              "        [4.1000]])"
            ]
          },
          "metadata": {},
          "execution_count": 13
        }
      ],
      "source": [
        "x_train_tensor = torch.from_numpy(x_train)\n",
        "x_train_tensor"
      ]
    },
    {
      "cell_type": "markdown",
      "metadata": {
        "id": "GABlQeuPD6rk"
      },
      "source": [
        "#### Get the predicted values using the weights\n",
        "Using final weights and biases calculated from our training in order to get the predicted values"
      ]
    },
    {
      "cell_type": "code",
      "execution_count": null,
      "metadata": {
        "colab": {
          "base_uri": "https://localhost:8080/"
        },
        "id": "jOUJXiF9D6rk",
        "outputId": "a0049a21-48c7-40c9-8967-a2c0c58016e9"
      },
      "outputs": [
        {
          "output_type": "execute_result",
          "data": {
            "text/plain": [
              "tensor([[2.3036],\n",
              "        [2.3036],\n",
              "        [2.3036],\n",
              "        [2.3036],\n",
              "        [2.3036],\n",
              "        [2.3036],\n",
              "        [2.3036],\n",
              "        [2.3036],\n",
              "        [2.3036],\n",
              "        [2.3036],\n",
              "        [2.3036],\n",
              "        [2.3036],\n",
              "        [2.3036],\n",
              "        [2.3036],\n",
              "        [2.3036],\n",
              "        [2.3036],\n",
              "        [2.3036],\n",
              "        [2.3036],\n",
              "        [2.3036],\n",
              "        [2.3036],\n",
              "        [2.3036],\n",
              "        [2.3036],\n",
              "        [2.3036],\n",
              "        [2.3036],\n",
              "        [2.3036]], grad_fn=<AddBackward0>)"
            ]
          },
          "metadata": {},
          "execution_count": 14
        }
      ],
      "source": [
        "predicted_in_tensor = x_train_tensor.mm(w1).clamp(min=0).add(b1)\n",
        "predicted_in_tensor"
      ]
    },
    {
      "cell_type": "markdown",
      "metadata": {
        "id": "t24PEdAED6rk"
      },
      "source": [
        "#### Convert the prediction to a numpy array\n",
        "This will be used to plot the regression line in a plot"
      ]
    },
    {
      "cell_type": "code",
      "execution_count": null,
      "metadata": {
        "colab": {
          "base_uri": "https://localhost:8080/"
        },
        "id": "b1G3cgTvD6rl",
        "outputId": "37387468-180a-4c81-8069-d483ec31fb6c"
      },
      "outputs": [
        {
          "output_type": "execute_result",
          "data": {
            "text/plain": [
              "array([[2.3035977],\n",
              "       [2.3035977],\n",
              "       [2.3035977],\n",
              "       [2.3035977],\n",
              "       [2.3035977],\n",
              "       [2.3035977],\n",
              "       [2.3035977],\n",
              "       [2.3035977],\n",
              "       [2.3035977],\n",
              "       [2.3035977],\n",
              "       [2.3035977],\n",
              "       [2.3035977],\n",
              "       [2.3035977],\n",
              "       [2.3035977],\n",
              "       [2.3035977],\n",
              "       [2.3035977],\n",
              "       [2.3035977],\n",
              "       [2.3035977],\n",
              "       [2.3035977],\n",
              "       [2.3035977],\n",
              "       [2.3035977],\n",
              "       [2.3035977],\n",
              "       [2.3035977],\n",
              "       [2.3035977],\n",
              "       [2.3035977]], dtype=float32)"
            ]
          },
          "metadata": {},
          "execution_count": 15
        }
      ],
      "source": [
        "predicted = predicted_in_tensor.detach().numpy()\n",
        "predicted"
      ]
    },
    {
      "cell_type": "markdown",
      "metadata": {
        "id": "QsBB6_7yD6rl"
      },
      "source": [
        "#### Plotting\n",
        "Our training has produced a rather accurate regression line"
      ]
    },
    {
      "cell_type": "code",
      "execution_count": null,
      "metadata": {
        "colab": {
          "base_uri": "https://localhost:8080/",
          "height": 676
        },
        "id": "4QA8mtnwD6rm",
        "outputId": "e0096bbd-579c-49a6-89e2-6a9966a22ce5"
      },
      "outputs": [
        {
          "output_type": "display_data",
          "data": {
            "text/plain": [
              "<Figure size 800x800 with 1 Axes>"
            ],
            "image/png": "[encoded data removed]"
          },
          "metadata": {}
        }
      ],
      "source": [
        "plt.figure(figsize=(8, 8))\n",
        "\n",
        "plt.scatter(x_train, y_train, c='green', s=250, label='Original data')\n",
        "\n",
        "plt.plot(x_train, predicted, label = 'Fitted line')\n",
        "\n",
        "plt.legend()\n",
        "\n",
        "plt.show()"
      ]
    },
    {
      "cell_type": "markdown",
      "metadata": {
        "id": "SPqeK0KsD6rm"
      },
      "source": [
        "#### We check the weights and biases with sklearn linear regression to see if they match the weights and biases calculated by neural network"
      ]
    },
    {
      "cell_type": "code",
      "execution_count": null,
      "metadata": {
        "id": "fPdTp0vjD6rm"
      },
      "outputs": [],
      "source": [
        "import sklearn\n",
        "from sklearn.linear_model import LinearRegression"
      ]
    },
    {
      "cell_type": "code",
      "execution_count": null,
      "metadata": {
        "id": "5haKafLND6rm"
      },
      "outputs": [],
      "source": [
        "reg = LinearRegression().fit(x_train, y_train)"
      ]
    },
    {
      "cell_type": "code",
      "execution_count": null,
      "metadata": {
        "colab": {
          "base_uri": "https://localhost:8080/"
        },
        "id": "Mi6bqAvsD6rn",
        "outputId": "777a7cba-177d-4e8b-a3b0-f6f2f62d2aea"
      },
      "outputs": [
        {
          "output_type": "stream",
          "name": "stdout",
          "text": [
            "w1 with sklearn is : [[0.17507163]]\n"
          ]
        }
      ],
      "source": [
        "print(\"w1 with sklearn is :\", reg.coef_)"
      ]
    },
    {
      "cell_type": "code",
      "execution_count": null,
      "metadata": {
        "colab": {
          "base_uri": "https://localhost:8080/"
        },
        "id": "FBYVjXzND6rn",
        "outputId": "99afb847-f32d-4a3d-ab96-0b89d595edfb"
      },
      "outputs": [
        {
          "output_type": "stream",
          "name": "stdout",
          "text": [
            "b1 with sklearn is : [1.4045022]\n"
          ]
        }
      ],
      "source": [
        "print(\"b1 with sklearn is :\", reg.intercept_)"
      ]
    },
    {
      "cell_type": "code",
      "execution_count": null,
      "metadata": {
        "colab": {
          "base_uri": "https://localhost:8080/"
        },
        "id": "5-A8-L1OD6rn",
        "outputId": "28f669b6-6b1f-49ca-ad0f-9ac81f4fb036"
      },
      "outputs": [
        {
          "output_type": "execute_result",
          "data": {
            "text/plain": [
              "array([[2.2273388],\n",
              "       [1.8246741],\n",
              "       [2.7175393],\n",
              "       [2.6475105],\n",
              "       [2.1573102],\n",
              "       [2.770061 ],\n",
              "       [2.9626396],\n",
              "       [2.3148746],\n",
              "       [2.208081 ],\n",
              "       [1.7721525],\n",
              "       [2.8050752],\n",
              "       [2.2798603],\n",
              "       [2.7175393],\n",
              "       [2.2798603],\n",
              "       [2.1047888],\n",
              "       [2.8050752],\n",
              "       [2.3148746],\n",
              "       [2.2623532],\n",
              "       [1.9297171],\n",
              "       [2.2273388],\n",
              "       [2.1047888],\n",
              "       [2.2448459],\n",
              "       [2.017253 ],\n",
              "       [1.7721525],\n",
              "       [2.1222959]], dtype=float32)"
            ]
          },
          "metadata": {},
          "execution_count": 21
        }
      ],
      "source": [
        "predicted = reg.predict(x_train)\n",
        "\n",
        "predicted"
      ]
    },
    {
      "cell_type": "code",
      "execution_count": null,
      "metadata": {
        "colab": {
          "base_uri": "https://localhost:8080/",
          "height": 676
        },
        "id": "k-Wu5VmJD6ro",
        "outputId": "27e5e852-b763-4150-cad4-6422476bb929"
      },
      "outputs": [
        {
          "output_type": "display_data",
          "data": {
            "text/plain": [
              "<Figure size 800x800 with 1 Axes>"
            ],
            "image/png": "[encoded data removed]"
          },
          "metadata": {}
        }
      ],
      "source": [
        "plt.figure(figsize=(8, 8))\n",
        "\n",
        "plt.scatter(x_train, y_train, c='green', s=250, label='Original data')\n",
        "\n",
        "plt.plot(x_train, predicted, label = 'Fitted line')\n",
        "\n",
        "plt.legend()\n",
        "\n",
        "plt.show()"
      ]
    },
    {
      "cell_type": "code",
      "execution_count": null,
      "metadata": {
        "id": "6Pgt7r7FD6ro"
      },
      "outputs": [],
      "source": []
    },
    {
      "cell_type": "code",
      "execution_count": null,
      "metadata": {
        "id": "KEqoE1k7D6ro"
      },
      "outputs": [],
      "source": []
    },
    {
      "cell_type": "code",
      "execution_count": null,
      "metadata": {
        "id": "KJB0rlLkD6ro"
      },
      "outputs": [],
      "source": []
    }
  ],
  "metadata": {
    "kernelspec": {
      "display_name": "Python 3",
      "language": "python",
      "name": "python3"
    },
    "language_info": {
      "codemirror_mode": {
        "name": "ipython",
        "version": 3
      },
      "file_extension": ".py",
      "mimetype": "text/x-python",
      "name": "python",
      "nbconvert_exporter": "python",
      "pygments_lexer": "ipython3",
      "version": "3.7.1"
    },
    "colab": {
      "provenance": [],
      "include_colab_link": true
    }
  },
  "nbformat": 4,
  "nbformat_minor": 0
}