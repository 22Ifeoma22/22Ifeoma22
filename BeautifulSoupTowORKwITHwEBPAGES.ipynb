{
  "nbformat": 4,
  "nbformat_minor": 0,
  "metadata": {
    "colab": {
      "provenance": [],
      "authorship_tag": "ABX9TyOxi8rv9CWWnP5oMPjLo/8h",
      "include_colab_link": true
    },
    "kernelspec": {
      "name": "python3",
      "display_name": "Python 3"
    },
    "language_info": {
      "name": "python"
    }
  },
  "cells": [
    {
      "cell_type": "markdown",
      "metadata": {
        "id": "view-in-github",
        "colab_type": "text"
      },
      "source": [
        "<a href=\"https://colab.research.google.com/github/22Ifeoma22/22Ifeoma22/blob/main/BeautifulSoupTowORKwITHwEBPAGES.ipynb\" target=\"_parent\"><img src=\"https://colab.research.google.com/assets/colab-badge.svg\" alt=\"Open In Colab\"/></a>"
      ]
    },
    {
      "cell_type": "markdown",
      "source": [
        "## Navigating the Parse Tree"
      ],
      "metadata": {
        "id": "2_MOECcl4TtY"
      }
    },
    {
      "cell_type": "markdown",
      "source": [
        "Navigate usinng tag names\n",
        "Traversing down the parse tree\n",
        "Traversing up the parse tree\n",
        "Child, parent and sibling elements\n",
        "\n",
        "Using filters with tags, attributes,\n",
        "regular expressions and functions\n",
        "\n",
        "Extracting links from web pages"
      ],
      "metadata": {
        "id": "X8PPN0Sb5dGU"
      }
    },
    {
      "cell_type": "code",
      "execution_count": 1,
      "metadata": {
        "id": "oAvQ1KEtHeGL"
      },
      "outputs": [],
      "source": [
        "import requests\n",
        "from bs4 import BeautifulSoup\n",
        "from pprint import pprint\n",
        "import re\n",
        "import webbrowser"
      ]
    },
    {
      "cell_type": "code",
      "source": [
        "webbrowser.open(\"http://www.pythonscraping.com.html\")"
      ],
      "metadata": {
        "colab": {
          "base_uri": "https://localhost:8080/"
        },
        "id": "8fqDAsJM5-Q0",
        "outputId": "e56227f9-88dd-40cd-e9cb-c7ee4b041622"
      },
      "execution_count": 4,
      "outputs": [
        {
          "output_type": "execute_result",
          "data": {
            "text/plain": [
              "False"
            ]
          },
          "metadata": {},
          "execution_count": 4
        }
      ]
    },
    {
      "cell_type": "code",
      "source": [
        "resp = requests.get(\"http://www.pythonscraping.com/pages/page3.html\")\n",
        "\n",
        "html = resp.text\n",
        "\n",
        "html"
      ],
      "metadata": {
        "colab": {
          "base_uri": "https://localhost:8080/",
          "height": 122
        },
        "id": "9PO-RLdP8Hnw",
        "outputId": "9af0be62-6a46-499e-e7b0-ea5e2a1bc54f"
      },
      "execution_count": 6,
      "outputs": [
        {
          "output_type": "execute_result",
          "data": {
            "text/plain": [
              "'<html>\\n<head>\\n<style>\\nimg{\\n\\twidth:75px;\\n}\\ntable{\\n\\twidth:50%;\\n}\\ntd{\\n\\tmargin:10px;\\n\\tpadding:10px;\\n}\\n.wrapper{\\n\\twidth:800px;\\n}\\n.excitingNote{\\n\\tfont-style:italic;\\n\\tfont-weight:bold;\\n}\\n</style>\\n</head>\\n<body>\\n<div id=\"wrapper\">\\n<img src=\"../img/gifts/logo.jpg\" style=\"float:left;\">\\n<h1>Totally Normal Gifts</h1>\\n<div id=\"content\">Here is a collection of totally normal, totally reasonable gifts that your friends are sure to love! Our collection is\\nhand-curated by well-paid, free-range Tibetan monks.<p>\\nWe haven\\'t figured out how to make online shopping carts yet, but you can send us a check to:<br>\\n123 Main St.<br>\\nAbuja, Nigeria\\n</br>We will then send your totally amazing gift, pronto! Please include an extra $5.00 for gift wrapping.</div>\\n<table id=\"giftList\">\\n<tr><th>\\nItem Title\\n</th><th>\\nDescription\\n</th><th>\\nCost\\n</th><th>\\nImage\\n</th></tr>\\n\\n<tr id=\"gift1\" class=\"gift\"><td>\\nVegetable Basket\\n</td><td>\\nThis vegetable basket is the perfect gift for your health conscious (or overweight) friends!\\n<span class=\"excitingNote\">Now with super-colorful bell peppers!</span>\\n</td><td>\\n$15.00\\n</td><td>\\n<img src=\"../img/gifts/img1.jpg\">\\n</td></tr>\\n\\n<tr id=\"gift2\" class=\"gift\"><td>\\nRussian Nesting Dolls\\n</td><td>\\nHand-painted by trained monkeys, these exquisite dolls are priceless! And by \"priceless,\" we mean \"extremely expensive\"! <span class=\"excitingNote\">8 entire dolls per set! Octuple the presents!</span>\\n</td><td>\\n$10,000.52\\n</td><td>\\n<img src=\"../img/gifts/img2.jpg\">\\n</td></tr>\\n\\n<tr id=\"gift3\" class=\"gift\"><td>\\nFish Painting\\n</td><td>\\nIf something seems fishy about this painting, it\\'s because it\\'s a fish! <span class=\"excitingNote\">Also hand-painted by trained monkeys!</span>\\n</td><td>\\n$10,005.00\\n</td><td>\\n<img src=\"../img/gifts/img3.jpg\">\\n</td></tr>\\n\\n<tr id=\"gift4\" class=\"gift\"><td>\\nDead Parrot\\n</td><td>\\nThis is an ex-parrot! <span class=\"excitingNote\">Or maybe he\\'s only resting?</span>\\n</td><td>\\n$0.50\\n</td><td>\\n<img src=\"../img/gifts/img4.jpg\">\\n</td></tr>\\n\\n<tr id=\"gift5\" class=\"gift\"><td>\\nMystery Box\\n</td><td>\\nIf you love suprises, this mystery box is for you! Do not place on light-colored surfaces. May cause oil staining. <span class=\"excitingNote\">Keep your friends guessing!</span>\\n</td><td>\\n$1.50\\n</td><td>\\n<img src=\"../img/gifts/img6.jpg\">\\n</td></tr>\\n</table>\\n</p>\\n<div id=\"footer\">\\n&copy; Totally Normal Gifts, Inc. <br>\\n+234 (617) 863-0736\\n</div>\\n\\n</div>\\n</body>\\n</html>\\n'"
            ],
            "application/vnd.google.colaboratory.intrinsic+json": {
              "type": "string"
            }
          },
          "metadata": {},
          "execution_count": 6
        }
      ]
    },
    {
      "cell_type": "code",
      "source": [
        "soup = BeautifulSoup(html, \"lxml\")\n",
        "\n",
        "soup"
      ],
      "metadata": {
        "colab": {
          "base_uri": "https://localhost:8080/"
        },
        "id": "vxln4GrX8vej",
        "outputId": "ca70c14f-144c-4e1f-9556-6d11b8677899"
      },
      "execution_count": 9,
      "outputs": [
        {
          "output_type": "execute_result",
          "data": {
            "text/plain": [
              "<html>\n",
              "<head>\n",
              "<style>\n",
              "img{\n",
              "\twidth:75px;\n",
              "}\n",
              "table{\n",
              "\twidth:50%;\n",
              "}\n",
              "td{\n",
              "\tmargin:10px;\n",
              "\tpadding:10px;\n",
              "}\n",
              ".wrapper{\n",
              "\twidth:800px;\n",
              "}\n",
              ".excitingNote{\n",
              "\tfont-style:italic;\n",
              "\tfont-weight:bold;\n",
              "}\n",
              "</style>\n",
              "</head>\n",
              "<body>\n",
              "<div id=\"wrapper\">\n",
              "<img src=\"../img/gifts/logo.jpg\" style=\"float:left;\"/>\n",
              "<h1>Totally Normal Gifts</h1>\n",
              "<div id=\"content\">Here is a collection of totally normal, totally reasonable gifts that your friends are sure to love! Our collection is\n",
              "hand-curated by well-paid, free-range Tibetan monks.<p>\n",
              "We haven't figured out how to make online shopping carts yet, but you can send us a check to:<br/>\n",
              "123 Main St.<br/>\n",
              "Abuja, Nigeria\n",
              "We will then send your totally amazing gift, pronto! Please include an extra $5.00 for gift wrapping.</p></div>\n",
              "<table id=\"giftList\">\n",
              "<tr><th>\n",
              "Item Title\n",
              "</th><th>\n",
              "Description\n",
              "</th><th>\n",
              "Cost\n",
              "</th><th>\n",
              "Image\n",
              "</th></tr>\n",
              "<tr class=\"gift\" id=\"gift1\"><td>\n",
              "Vegetable Basket\n",
              "</td><td>\n",
              "This vegetable basket is the perfect gift for your health conscious (or overweight) friends!\n",
              "<span class=\"excitingNote\">Now with super-colorful bell peppers!</span>\n",
              "</td><td>\n",
              "$15.00\n",
              "</td><td>\n",
              "<img src=\"../img/gifts/img1.jpg\"/>\n",
              "</td></tr>\n",
              "<tr class=\"gift\" id=\"gift2\"><td>\n",
              "Russian Nesting Dolls\n",
              "</td><td>\n",
              "Hand-painted by trained monkeys, these exquisite dolls are priceless! And by \"priceless,\" we mean \"extremely expensive\"! <span class=\"excitingNote\">8 entire dolls per set! Octuple the presents!</span>\n",
              "</td><td>\n",
              "$10,000.52\n",
              "</td><td>\n",
              "<img src=\"../img/gifts/img2.jpg\"/>\n",
              "</td></tr>\n",
              "<tr class=\"gift\" id=\"gift3\"><td>\n",
              "Fish Painting\n",
              "</td><td>\n",
              "If something seems fishy about this painting, it's because it's a fish! <span class=\"excitingNote\">Also hand-painted by trained monkeys!</span>\n",
              "</td><td>\n",
              "$10,005.00\n",
              "</td><td>\n",
              "<img src=\"../img/gifts/img3.jpg\"/>\n",
              "</td></tr>\n",
              "<tr class=\"gift\" id=\"gift4\"><td>\n",
              "Dead Parrot\n",
              "</td><td>\n",
              "This is an ex-parrot! <span class=\"excitingNote\">Or maybe he's only resting?</span>\n",
              "</td><td>\n",
              "$0.50\n",
              "</td><td>\n",
              "<img src=\"../img/gifts/img4.jpg\"/>\n",
              "</td></tr>\n",
              "<tr class=\"gift\" id=\"gift5\"><td>\n",
              "Mystery Box\n",
              "</td><td>\n",
              "If you love suprises, this mystery box is for you! Do not place on light-colored surfaces. May cause oil staining. <span class=\"excitingNote\">Keep your friends guessing!</span>\n",
              "</td><td>\n",
              "$1.50\n",
              "</td><td>\n",
              "<img src=\"../img/gifts/img6.jpg\"/>\n",
              "</td></tr>\n",
              "</table>\n",
              "<div id=\"footer\">\n",
              "© Totally Normal Gifts, Inc. <br/>\n",
              "+234 (617) 863-0736\n",
              "</div>\n",
              "</div>\n",
              "</body>\n",
              "</html>"
            ]
          },
          "metadata": {},
          "execution_count": 9
        }
      ]
    },
    {
      "cell_type": "code",
      "source": [
        "print(soup.prettify())"
      ],
      "metadata": {
        "colab": {
          "base_uri": "https://localhost:8080/"
        },
        "id": "qKPMYCV08g4o",
        "outputId": "25357227-451a-4ee0-b666-df6cb5e7ec0e"
      },
      "execution_count": 10,
      "outputs": [
        {
          "output_type": "stream",
          "name": "stdout",
          "text": [
            "<html>\n",
            " <head>\n",
            "  <style>\n",
            "   img{\n",
            "\twidth:75px;\n",
            "}\n",
            "table{\n",
            "\twidth:50%;\n",
            "}\n",
            "td{\n",
            "\tmargin:10px;\n",
            "\tpadding:10px;\n",
            "}\n",
            ".wrapper{\n",
            "\twidth:800px;\n",
            "}\n",
            ".excitingNote{\n",
            "\tfont-style:italic;\n",
            "\tfont-weight:bold;\n",
            "}\n",
            "  </style>\n",
            " </head>\n",
            " <body>\n",
            "  <div id=\"wrapper\">\n",
            "   <img src=\"../img/gifts/logo.jpg\" style=\"float:left;\"/>\n",
            "   <h1>\n",
            "    Totally Normal Gifts\n",
            "   </h1>\n",
            "   <div id=\"content\">\n",
            "    Here is a collection of totally normal, totally reasonable gifts that your friends are sure to love! Our collection is\n",
            "hand-curated by well-paid, free-range Tibetan monks.\n",
            "    <p>\n",
            "     We haven't figured out how to make online shopping carts yet, but you can send us a check to:\n",
            "     <br/>\n",
            "     123 Main St.\n",
            "     <br/>\n",
            "     Abuja, Nigeria\n",
            "We will then send your totally amazing gift, pronto! Please include an extra $5.00 for gift wrapping.\n",
            "    </p>\n",
            "   </div>\n",
            "   <table id=\"giftList\">\n",
            "    <tr>\n",
            "     <th>\n",
            "      Item Title\n",
            "     </th>\n",
            "     <th>\n",
            "      Description\n",
            "     </th>\n",
            "     <th>\n",
            "      Cost\n",
            "     </th>\n",
            "     <th>\n",
            "      Image\n",
            "     </th>\n",
            "    </tr>\n",
            "    <tr class=\"gift\" id=\"gift1\">\n",
            "     <td>\n",
            "      Vegetable Basket\n",
            "     </td>\n",
            "     <td>\n",
            "      This vegetable basket is the perfect gift for your health conscious (or overweight) friends!\n",
            "      <span class=\"excitingNote\">\n",
            "       Now with super-colorful bell peppers!\n",
            "      </span>\n",
            "     </td>\n",
            "     <td>\n",
            "      $15.00\n",
            "     </td>\n",
            "     <td>\n",
            "      <img src=\"../img/gifts/img1.jpg\"/>\n",
            "     </td>\n",
            "    </tr>\n",
            "    <tr class=\"gift\" id=\"gift2\">\n",
            "     <td>\n",
            "      Russian Nesting Dolls\n",
            "     </td>\n",
            "     <td>\n",
            "      Hand-painted by trained monkeys, these exquisite dolls are priceless! And by \"priceless,\" we mean \"extremely expensive\"!\n",
            "      <span class=\"excitingNote\">\n",
            "       8 entire dolls per set! Octuple the presents!\n",
            "      </span>\n",
            "     </td>\n",
            "     <td>\n",
            "      $10,000.52\n",
            "     </td>\n",
            "     <td>\n",
            "      <img src=\"../img/gifts/img2.jpg\"/>\n",
            "     </td>\n",
            "    </tr>\n",
            "    <tr class=\"gift\" id=\"gift3\">\n",
            "     <td>\n",
            "      Fish Painting\n",
            "     </td>\n",
            "     <td>\n",
            "      If something seems fishy about this painting, it's because it's a fish!\n",
            "      <span class=\"excitingNote\">\n",
            "       Also hand-painted by trained monkeys!\n",
            "      </span>\n",
            "     </td>\n",
            "     <td>\n",
            "      $10,005.00\n",
            "     </td>\n",
            "     <td>\n",
            "      <img src=\"../img/gifts/img3.jpg\"/>\n",
            "     </td>\n",
            "    </tr>\n",
            "    <tr class=\"gift\" id=\"gift4\">\n",
            "     <td>\n",
            "      Dead Parrot\n",
            "     </td>\n",
            "     <td>\n",
            "      This is an ex-parrot!\n",
            "      <span class=\"excitingNote\">\n",
            "       Or maybe he's only resting?\n",
            "      </span>\n",
            "     </td>\n",
            "     <td>\n",
            "      $0.50\n",
            "     </td>\n",
            "     <td>\n",
            "      <img src=\"../img/gifts/img4.jpg\"/>\n",
            "     </td>\n",
            "    </tr>\n",
            "    <tr class=\"gift\" id=\"gift5\">\n",
            "     <td>\n",
            "      Mystery Box\n",
            "     </td>\n",
            "     <td>\n",
            "      If you love suprises, this mystery box is for you! Do not place on light-colored surfaces. May cause oil staining.\n",
            "      <span class=\"excitingNote\">\n",
            "       Keep your friends guessing!\n",
            "      </span>\n",
            "     </td>\n",
            "     <td>\n",
            "      $1.50\n",
            "     </td>\n",
            "     <td>\n",
            "      <img src=\"../img/gifts/img6.jpg\"/>\n",
            "     </td>\n",
            "    </tr>\n",
            "   </table>\n",
            "   <div id=\"footer\">\n",
            "    © Totally Normal Gifts, Inc.\n",
            "    <br/>\n",
            "    +234 (617) 863-0736\n",
            "   </div>\n",
            "  </div>\n",
            " </body>\n",
            "</html>\n",
            "\n"
          ]
        }
      ]
    },
    {
      "cell_type": "code",
      "source": [
        "soup.style"
      ],
      "metadata": {
        "colab": {
          "base_uri": "https://localhost:8080/"
        },
        "id": "6VMzHOUs9C8o",
        "outputId": "71b832b9-23b5-448a-948d-ba403cb3337a"
      },
      "execution_count": 11,
      "outputs": [
        {
          "output_type": "execute_result",
          "data": {
            "text/plain": [
              "<style>\n",
              "img{\n",
              "\twidth:75px;\n",
              "}\n",
              "table{\n",
              "\twidth:50%;\n",
              "}\n",
              "td{\n",
              "\tmargin:10px;\n",
              "\tpadding:10px;\n",
              "}\n",
              ".wrapper{\n",
              "\twidth:800px;\n",
              "}\n",
              ".excitingNote{\n",
              "\tfont-style:italic;\n",
              "\tfont-weight:bold;\n",
              "}\n",
              "</style>"
            ]
          },
          "metadata": {},
          "execution_count": 11
        }
      ]
    },
    {
      "cell_type": "markdown",
      "source": [],
      "metadata": {
        "id": "pM00ZXKs5VXj"
      }
    },
    {
      "cell_type": "code",
      "source": [
        "soup.tr"
      ],
      "metadata": {
        "colab": {
          "base_uri": "https://localhost:8080/"
        },
        "id": "z6UKGnmv9GgX",
        "outputId": "90759a42-a70c-4a7e-8423-aabf8f418637"
      },
      "execution_count": 12,
      "outputs": [
        {
          "output_type": "execute_result",
          "data": {
            "text/plain": [
              "<tr><th>\n",
              "Item Title\n",
              "</th><th>\n",
              "Description\n",
              "</th><th>\n",
              "Cost\n",
              "</th><th>\n",
              "Image\n",
              "</th></tr>"
            ]
          },
          "metadata": {},
          "execution_count": 12
        }
      ]
    },
    {
      "cell_type": "code",
      "source": [
        "soup.img"
      ],
      "metadata": {
        "colab": {
          "base_uri": "https://localhost:8080/"
        },
        "id": "xde1G8AI9Jda",
        "outputId": "57ff881d-168c-4518-ec5a-0def62e2d76c"
      },
      "execution_count": 13,
      "outputs": [
        {
          "output_type": "execute_result",
          "data": {
            "text/plain": [
              "<img src=\"../img/gifts/logo.jpg\" style=\"float:left;\"/>"
            ]
          },
          "metadata": {},
          "execution_count": 13
        }
      ]
    },
    {
      "cell_type": "code",
      "source": [
        "soup.find('tr')"
      ],
      "metadata": {
        "colab": {
          "base_uri": "https://localhost:8080/"
        },
        "id": "seQl38Gx9M0s",
        "outputId": "86409a3b-2e3b-4f1c-b26a-3542387f8e91"
      },
      "execution_count": 14,
      "outputs": [
        {
          "output_type": "execute_result",
          "data": {
            "text/plain": [
              "<tr><th>\n",
              "Item Title\n",
              "</th><th>\n",
              "Description\n",
              "</th><th>\n",
              "Cost\n",
              "</th><th>\n",
              "Image\n",
              "</th></tr>"
            ]
          },
          "metadata": {},
          "execution_count": 14
        }
      ]
    },
    {
      "cell_type": "code",
      "source": [
        "rows = soup.find_all('tr')\n",
        "len(rows)\n"
      ],
      "metadata": {
        "colab": {
          "base_uri": "https://localhost:8080/"
        },
        "id": "lKs5y1UY9SFh",
        "outputId": "75b93ae9-9167-441c-e89c-6a31acc546ea"
      },
      "execution_count": 15,
      "outputs": [
        {
          "output_type": "execute_result",
          "data": {
            "text/plain": [
              "6"
            ]
          },
          "metadata": {},
          "execution_count": 15
        }
      ]
    },
    {
      "cell_type": "code",
      "source": [
        "rows[1]"
      ],
      "metadata": {
        "colab": {
          "base_uri": "https://localhost:8080/"
        },
        "id": "lo_Yg8q09hI9",
        "outputId": "4d26aed1-5411-4fa2-afc6-d12393f950f3"
      },
      "execution_count": 17,
      "outputs": [
        {
          "output_type": "execute_result",
          "data": {
            "text/plain": [
              "<tr class=\"gift\" id=\"gift1\"><td>\n",
              "Vegetable Basket\n",
              "</td><td>\n",
              "This vegetable basket is the perfect gift for your health conscious (or overweight) friends!\n",
              "<span class=\"excitingNote\">Now with super-colorful bell peppers!</span>\n",
              "</td><td>\n",
              "$15.00\n",
              "</td><td>\n",
              "<img src=\"../img/gifts/img1.jpg\"/>\n",
              "</td></tr>"
            ]
          },
          "metadata": {},
          "execution_count": 17
        }
      ]
    },
    {
      "cell_type": "code",
      "source": [
        "cells = soup.find_all('td')\n",
        "\n",
        "len(cells)"
      ],
      "metadata": {
        "colab": {
          "base_uri": "https://localhost:8080/"
        },
        "id": "ti6su1Ob9oyv",
        "outputId": "42687064-7144-435c-dde0-941d8e828218"
      },
      "execution_count": 18,
      "outputs": [
        {
          "output_type": "execute_result",
          "data": {
            "text/plain": [
              "20"
            ]
          },
          "metadata": {},
          "execution_count": 18
        }
      ]
    },
    {
      "cell_type": "code",
      "source": [
        "for cell in cells:\n",
        "  print(cell.text)"
      ],
      "metadata": {
        "colab": {
          "base_uri": "https://localhost:8080/"
        },
        "id": "tdYJhyxj90Q4",
        "outputId": "c4228e9d-120e-42c3-8e20-296a85464a7a"
      },
      "execution_count": 19,
      "outputs": [
        {
          "output_type": "stream",
          "name": "stdout",
          "text": [
            "\n",
            "Vegetable Basket\n",
            "\n",
            "\n",
            "This vegetable basket is the perfect gift for your health conscious (or overweight) friends!\n",
            "Now with super-colorful bell peppers!\n",
            "\n",
            "\n",
            "$15.00\n",
            "\n",
            "\n",
            "\n",
            "\n",
            "\n",
            "Russian Nesting Dolls\n",
            "\n",
            "\n",
            "Hand-painted by trained monkeys, these exquisite dolls are priceless! And by \"priceless,\" we mean \"extremely expensive\"! 8 entire dolls per set! Octuple the presents!\n",
            "\n",
            "\n",
            "$10,000.52\n",
            "\n",
            "\n",
            "\n",
            "\n",
            "\n",
            "Fish Painting\n",
            "\n",
            "\n",
            "If something seems fishy about this painting, it's because it's a fish! Also hand-painted by trained monkeys!\n",
            "\n",
            "\n",
            "$10,005.00\n",
            "\n",
            "\n",
            "\n",
            "\n",
            "\n",
            "Dead Parrot\n",
            "\n",
            "\n",
            "This is an ex-parrot! Or maybe he's only resting?\n",
            "\n",
            "\n",
            "$0.50\n",
            "\n",
            "\n",
            "\n",
            "\n",
            "\n",
            "Mystery Box\n",
            "\n",
            "\n",
            "If you love suprises, this mystery box is for you! Do not place on light-colored surfaces. May cause oil staining. Keep your friends guessing!\n",
            "\n",
            "\n",
            "$1.50\n",
            "\n",
            "\n",
            "\n",
            "\n"
          ]
        }
      ]
    },
    {
      "cell_type": "code",
      "source": [
        "for tr in soup.find_all('tr'):\n",
        "  for td in tr.find_all('td'):\n",
        "    print(td.text.strip())"
      ],
      "metadata": {
        "colab": {
          "base_uri": "https://localhost:8080/"
        },
        "id": "LBYGRvxv-Ar6",
        "outputId": "7f5bb3a0-30eb-496d-fe09-070424dcc130"
      },
      "execution_count": 21,
      "outputs": [
        {
          "output_type": "stream",
          "name": "stdout",
          "text": [
            "Vegetable Basket\n",
            "This vegetable basket is the perfect gift for your health conscious (or overweight) friends!\n",
            "Now with super-colorful bell peppers!\n",
            "$15.00\n",
            "\n",
            "Russian Nesting Dolls\n",
            "Hand-painted by trained monkeys, these exquisite dolls are priceless! And by \"priceless,\" we mean \"extremely expensive\"! 8 entire dolls per set! Octuple the presents!\n",
            "$10,000.52\n",
            "\n",
            "Fish Painting\n",
            "If something seems fishy about this painting, it's because it's a fish! Also hand-painted by trained monkeys!\n",
            "$10,005.00\n",
            "\n",
            "Dead Parrot\n",
            "This is an ex-parrot! Or maybe he's only resting?\n",
            "$0.50\n",
            "\n",
            "Mystery Box\n",
            "If you love suprises, this mystery box is for you! Do not place on light-colored surfaces. May cause oil staining. Keep your friends guessing!\n",
            "$1.50\n",
            "\n"
          ]
        }
      ]
    },
    {
      "cell_type": "code",
      "source": [
        "h1_tag = soup.h1\n",
        "h1_tag"
      ],
      "metadata": {
        "colab": {
          "base_uri": "https://localhost:8080/"
        },
        "id": "rWi1p8h_-fk-",
        "outputId": "43bf3879-57c3-45e2-dea1-11d476d57a10"
      },
      "execution_count": 22,
      "outputs": [
        {
          "output_type": "execute_result",
          "data": {
            "text/plain": [
              "<h1>Totally Normal Gifts</h1>"
            ]
          },
          "metadata": {},
          "execution_count": 22
        }
      ]
    },
    {
      "cell_type": "code",
      "source": [
        "h1_tag = soup.find(re.compile(\"^h\\d\"))\n",
        "h1_tag"
      ],
      "metadata": {
        "colab": {
          "base_uri": "https://localhost:8080/"
        },
        "id": "YUdLMU7K-m4h",
        "outputId": "4314ef6a-308a-4f63-e463-5dea5b649712"
      },
      "execution_count": 23,
      "outputs": [
        {
          "output_type": "execute_result",
          "data": {
            "text/plain": [
              "<h1>Totally Normal Gifts</h1>"
            ]
          },
          "metadata": {},
          "execution_count": 23
        }
      ]
    },
    {
      "cell_type": "code",
      "source": [
        "type(h1_tag)\n"
      ],
      "metadata": {
        "colab": {
          "base_uri": "https://localhost:8080/",
          "height": 221
        },
        "id": "ZC7D-SEQ-3_B",
        "outputId": "d670e8a2-9544-4061-bd07-a97930d1f6f8"
      },
      "execution_count": 24,
      "outputs": [
        {
          "output_type": "execute_result",
          "data": {
            "text/plain": [
              "bs4.element.Tag"
            ],
            "text/html": [
              "<div style=\"max-width:800px; border: 1px solid var(--colab-border-color);\"><style>\n",
              "      pre.function-repr-contents {\n",
              "        overflow-x: auto;\n",
              "        padding: 8px 12px;\n",
              "        max-height: 500px;\n",
              "      }\n",
              "\n",
              "      pre.function-repr-contents.function-repr-contents-collapsed {\n",
              "        cursor: pointer;\n",
              "        max-height: 100px;\n",
              "      }\n",
              "    </style>\n",
              "    <pre style=\"white-space: initial; background:\n",
              "         var(--colab-secondary-surface-color); padding: 8px 12px;\n",
              "         border-bottom: 1px solid var(--colab-border-color);\"><b>bs4.element.Tag</b><br/>def __call__(name: Optional[_StrainableElement]=None, attrs: _StrainableAttributes={}, recursive: bool=True, string: Optional[_StrainableString]=None, limit: Optional[int]=None, _stacklevel: int=2, **kwargs: _StrainableAttribute) -&gt; _QueryResults</pre><pre class=\"function-repr-contents function-repr-contents-collapsed\" style=\"\"><a class=\"filepath\" style=\"display:none\" href=\"#\">/usr/local/lib/python3.11/dist-packages/bs4/element.py</a>An HTML or XML tag that is part of a parse tree, along with its\n",
              "attributes, contents, and relationships to other parts of the tree.\n",
              "\n",
              "When Beautiful Soup parses the markup ``&lt;b&gt;penguin&lt;/b&gt;``, it will\n",
              "create a `Tag` object representing the ``&lt;b&gt;`` tag. You can\n",
              "instantiate `Tag` objects directly, but it&#x27;s not necessary unless\n",
              "you&#x27;re adding entirely new markup to a parsed document. Most of\n",
              "the constructor arguments are intended for use by the `TreeBuilder`\n",
              "that&#x27;s parsing a document.\n",
              "\n",
              ":param parser: A `BeautifulSoup` object representing the parse tree this\n",
              "    `Tag` will be part of.\n",
              ":param builder: The `TreeBuilder` being used to build the tree.\n",
              ":param name: The name of the tag.\n",
              ":param namespace: The URI of this tag&#x27;s XML namespace, if any.\n",
              ":param prefix: The prefix for this tag&#x27;s XML namespace, if any.\n",
              ":param attrs: A dictionary of attribute values.\n",
              ":param parent: The `Tag` to use as the parent of this `Tag`. May be\n",
              "   the `BeautifulSoup` object itself.\n",
              ":param previous: The `PageElement` that was parsed immediately before\n",
              "    parsing this tag.\n",
              ":param is_xml: If True, this is an XML tag. Otherwise, this is an\n",
              "    HTML tag.\n",
              ":param sourceline: The line number where this tag was found in its\n",
              "    source document.\n",
              ":param sourcepos: The character position within ``sourceline`` where this\n",
              "    tag was found.\n",
              ":param can_be_empty_element: If True, this tag should be\n",
              "    represented as &lt;tag/&gt;. If False, this tag should be represented\n",
              "    as &lt;tag&gt;&lt;/tag&gt;.\n",
              ":param cdata_list_attributes: A dictionary of attributes whose values should\n",
              "    be parsed as lists of strings if they ever show up on this tag.\n",
              ":param preserve_whitespace_tags: Names of tags whose contents\n",
              "    should have their whitespace preserved if they are encountered inside\n",
              "    this tag.\n",
              ":param interesting_string_types: When iterating over this tag&#x27;s\n",
              "    string contents in methods like `Tag.strings` or\n",
              "    `PageElement.get_text`, these are the types of strings that are\n",
              "    interesting enough to be considered. By default,\n",
              "    `NavigableString` (normal strings) and `CData` (CDATA\n",
              "    sections) are the only interesting string subtypes.\n",
              ":param namespaces: A dictionary mapping currently active\n",
              "    namespace prefixes to URIs, as of the point in the parsing process when\n",
              "    this tag was encountered. This can be used later to\n",
              "    construct CSS selectors.</pre>\n",
              "      <script>\n",
              "      if (google.colab.kernel.accessAllowed && google.colab.files && google.colab.files.view) {\n",
              "        for (const element of document.querySelectorAll('.filepath')) {\n",
              "          element.style.display = 'block'\n",
              "          element.onclick = (event) => {\n",
              "            event.preventDefault();\n",
              "            event.stopPropagation();\n",
              "            google.colab.files.view(element.textContent, 1569);\n",
              "          };\n",
              "        }\n",
              "      }\n",
              "      for (const element of document.querySelectorAll('.function-repr-contents')) {\n",
              "        element.onclick = (event) => {\n",
              "          event.preventDefault();\n",
              "          event.stopPropagation();\n",
              "          element.classList.toggle('function-repr-contents-collapsed');\n",
              "        };\n",
              "      }\n",
              "      </script>\n",
              "      </div>"
            ]
          },
          "metadata": {},
          "execution_count": 24
        }
      ]
    },
    {
      "cell_type": "code",
      "source": [
        "h1_tag.attrs"
      ],
      "metadata": {
        "colab": {
          "base_uri": "https://localhost:8080/"
        },
        "id": "gViB8HZr_DFD",
        "outputId": "86ce18d4-9611-40e8-8405-1993956709e1"
      },
      "execution_count": 25,
      "outputs": [
        {
          "output_type": "execute_result",
          "data": {
            "text/plain": [
              "{}"
            ]
          },
          "metadata": {},
          "execution_count": 25
        }
      ]
    },
    {
      "cell_type": "code",
      "source": [
        "img_tags = soup.find_all(re.compile(\"^im\"))\n",
        "img_tags"
      ],
      "metadata": {
        "colab": {
          "base_uri": "https://localhost:8080/"
        },
        "id": "ku2Y_2-l_Idw",
        "outputId": "d1c9e719-e3ed-4522-96b2-1cf63b3a0a90"
      },
      "execution_count": 26,
      "outputs": [
        {
          "output_type": "execute_result",
          "data": {
            "text/plain": [
              "[<img src=\"../img/gifts/logo.jpg\" style=\"float:left;\"/>,\n",
              " <img src=\"../img/gifts/img1.jpg\"/>,\n",
              " <img src=\"../img/gifts/img2.jpg\"/>,\n",
              " <img src=\"../img/gifts/img3.jpg\"/>,\n",
              " <img src=\"../img/gifts/img4.jpg\"/>,\n",
              " <img src=\"../img/gifts/img6.jpg\"/>]"
            ]
          },
          "metadata": {},
          "execution_count": 26
        }
      ]
    },
    {
      "cell_type": "code",
      "source": [
        "for img_tag in img_tags:\n",
        "  print(img_tag.attrs)"
      ],
      "metadata": {
        "colab": {
          "base_uri": "https://localhost:8080/"
        },
        "id": "Z7sVltmb_eSo",
        "outputId": "0aabd76a-6f9b-4270-af0a-77a221173c2e"
      },
      "execution_count": 27,
      "outputs": [
        {
          "output_type": "stream",
          "name": "stdout",
          "text": [
            "{'src': '../img/gifts/logo.jpg', 'style': 'float:left;'}\n",
            "{'src': '../img/gifts/img1.jpg'}\n",
            "{'src': '../img/gifts/img2.jpg'}\n",
            "{'src': '../img/gifts/img3.jpg'}\n",
            "{'src': '../img/gifts/img4.jpg'}\n",
            "{'src': '../img/gifts/img6.jpg'}\n"
          ]
        }
      ]
    },
    {
      "cell_type": "code",
      "source": [
        "img_tag = img_tags[0]\n",
        "img_tag"
      ],
      "metadata": {
        "colab": {
          "base_uri": "https://localhost:8080/"
        },
        "id": "01mijaW2_okE",
        "outputId": "0454debb-e576-40f4-888e-0b3b5f0a81f4"
      },
      "execution_count": 28,
      "outputs": [
        {
          "output_type": "execute_result",
          "data": {
            "text/plain": [
              "<img src=\"../img/gifts/logo.jpg\" style=\"float:left;\"/>"
            ]
          },
          "metadata": {},
          "execution_count": 28
        }
      ]
    },
    {
      "cell_type": "code",
      "source": [
        "img_tag['src']"
      ],
      "metadata": {
        "colab": {
          "base_uri": "https://localhost:8080/",
          "height": 35
        },
        "id": "dz7p53Q9_45d",
        "outputId": "3bd12879-3c93-406f-bfed-3ba275602b50"
      },
      "execution_count": 30,
      "outputs": [
        {
          "output_type": "execute_result",
          "data": {
            "text/plain": [
              "'../img/gifts/logo.jpg'"
            ],
            "application/vnd.google.colaboratory.intrinsic+json": {
              "type": "string"
            }
          },
          "metadata": {},
          "execution_count": 30
        }
      ]
    },
    {
      "cell_type": "code",
      "source": [
        "img_tag['style']"
      ],
      "metadata": {
        "colab": {
          "base_uri": "https://localhost:8080/",
          "height": 35
        },
        "id": "q-RthFrcACkb",
        "outputId": "be51fe02-da93-4fd8-ecb4-dfe31b177ec5"
      },
      "execution_count": 31,
      "outputs": [
        {
          "output_type": "execute_result",
          "data": {
            "text/plain": [
              "'float:left;'"
            ],
            "application/vnd.google.colaboratory.intrinsic+json": {
              "type": "string"
            }
          },
          "metadata": {},
          "execution_count": 31
        }
      ]
    },
    {
      "cell_type": "code",
      "source": [
        "td_tag = soup.td\n",
        "td_tag"
      ],
      "metadata": {
        "colab": {
          "base_uri": "https://localhost:8080/"
        },
        "id": "BWW0Nhs9AICY",
        "outputId": "3bca5686-2454-41de-96ef-7acb74bef120"
      },
      "execution_count": 32,
      "outputs": [
        {
          "output_type": "execute_result",
          "data": {
            "text/plain": [
              "<td>\n",
              "Vegetable Basket\n",
              "</td>"
            ]
          },
          "metadata": {},
          "execution_count": 32
        }
      ]
    },
    {
      "cell_type": "code",
      "source": [
        "td_tag.string"
      ],
      "metadata": {
        "colab": {
          "base_uri": "https://localhost:8080/",
          "height": 35
        },
        "id": "ofQ6W5JYAQ0n",
        "outputId": "279bdb72-2aa8-48ae-bad9-86eac2f3c104"
      },
      "execution_count": 33,
      "outputs": [
        {
          "output_type": "execute_result",
          "data": {
            "text/plain": [
              "'\\nVegetable Basket\\n'"
            ],
            "application/vnd.google.colaboratory.intrinsic+json": {
              "type": "string"
            }
          },
          "metadata": {},
          "execution_count": 33
        }
      ]
    },
    {
      "cell_type": "code",
      "source": [
        "type(td_tag.string)"
      ],
      "metadata": {
        "colab": {
          "base_uri": "https://localhost:8080/"
        },
        "id": "h2HhVGWhAT4x",
        "outputId": "56238af1-21c5-416e-dbec-718e1e67f31f"
      },
      "execution_count": 34,
      "outputs": [
        {
          "output_type": "execute_result",
          "data": {
            "text/plain": [
              "bs4.element.NavigableString"
            ]
          },
          "metadata": {},
          "execution_count": 34
        }
      ]
    },
    {
      "cell_type": "code",
      "source": [
        "type(td_tag.text)"
      ],
      "metadata": {
        "colab": {
          "base_uri": "https://localhost:8080/"
        },
        "id": "KLWljYbDAZnp",
        "outputId": "2286de75-3e0f-412a-a893-d13ebdef2969"
      },
      "execution_count": 35,
      "outputs": [
        {
          "output_type": "execute_result",
          "data": {
            "text/plain": [
              "str"
            ]
          },
          "metadata": {},
          "execution_count": 35
        }
      ]
    },
    {
      "cell_type": "code",
      "source": [
        "string = str(td_tag.string)\n",
        "string"
      ],
      "metadata": {
        "colab": {
          "base_uri": "https://localhost:8080/",
          "height": 35
        },
        "id": "zYVhKvUpAgF7",
        "outputId": "8bd5be44-8def-4251-c390-2e5dd3a47ee1"
      },
      "execution_count": 36,
      "outputs": [
        {
          "output_type": "execute_result",
          "data": {
            "text/plain": [
              "'\\nVegetable Basket\\n'"
            ],
            "application/vnd.google.colaboratory.intrinsic+json": {
              "type": "string"
            }
          },
          "metadata": {},
          "execution_count": 36
        }
      ]
    },
    {
      "cell_type": "code",
      "source": [
        "type(string)"
      ],
      "metadata": {
        "colab": {
          "base_uri": "https://localhost:8080/"
        },
        "id": "lNah8ej1AoH7",
        "outputId": "4ba41298-400b-478e-ed88-bf1e679acad6"
      },
      "execution_count": 37,
      "outputs": [
        {
          "output_type": "execute_result",
          "data": {
            "text/plain": [
              "str"
            ]
          },
          "metadata": {},
          "execution_count": 37
        }
      ]
    },
    {
      "cell_type": "code",
      "source": [
        "markup = \"<b><!--Hey, this is an html comment!--></b>\"\n",
        "soup = BeautifulSoup(markup)\n",
        "comment = soup.b.string\n",
        "type(comment)"
      ],
      "metadata": {
        "colab": {
          "base_uri": "https://localhost:8080/"
        },
        "id": "PJAjkqcMAtoZ",
        "outputId": "59c1a179-619e-4c81-faff-082a7f54cec0"
      },
      "execution_count": 38,
      "outputs": [
        {
          "output_type": "execute_result",
          "data": {
            "text/plain": [
              "bs4.element.Comment"
            ]
          },
          "metadata": {},
          "execution_count": 38
        }
      ]
    },
    {
      "cell_type": "code",
      "source": [
        "markup = \"\"\"\n",
        "<p class=\"highlight important\">This is something important</p>\n",
        "\"\"\"\n",
        "\n",
        "soup = BeautifulSoup(markup)"
      ],
      "metadata": {
        "id": "dJlMXkU1BPtn"
      },
      "execution_count": 39,
      "outputs": []
    },
    {
      "cell_type": "code",
      "source": [
        "soup.p"
      ],
      "metadata": {
        "colab": {
          "base_uri": "https://localhost:8080/"
        },
        "id": "NFLHhdwjBsKS",
        "outputId": "c512132d-0596-4a3d-d0f2-fea39a29de78"
      },
      "execution_count": 40,
      "outputs": [
        {
          "output_type": "execute_result",
          "data": {
            "text/plain": [
              "<p class=\"highlight important\">This is something important</p>"
            ]
          },
          "metadata": {},
          "execution_count": 40
        }
      ]
    },
    {
      "cell_type": "code",
      "source": [
        "soup.p['class']"
      ],
      "metadata": {
        "colab": {
          "base_uri": "https://localhost:8080/"
        },
        "id": "1Vr6TF7fBvRM",
        "outputId": "2a1a80b7-5902-4420-b3fd-d040c9644d5c"
      },
      "execution_count": 41,
      "outputs": [
        {
          "output_type": "execute_result",
          "data": {
            "text/plain": [
              "['highlight', 'important']"
            ]
          },
          "metadata": {},
          "execution_count": 41
        }
      ]
    },
    {
      "cell_type": "code",
      "source": [
        "soup.p.get_attribute_list('class')"
      ],
      "metadata": {
        "colab": {
          "base_uri": "https://localhost:8080/"
        },
        "id": "SBf6swNUB7vl",
        "outputId": "58e3a1d2-eefa-4435-f5ab-338bc8728ca3"
      },
      "execution_count": 42,
      "outputs": [
        {
          "output_type": "execute_result",
          "data": {
            "text/plain": [
              "['highlight', 'important']"
            ]
          },
          "metadata": {},
          "execution_count": 42
        }
      ]
    },
    {
      "cell_type": "code",
      "source": [],
      "metadata": {
        "id": "OEU9E8sCCHF-"
      },
      "execution_count": null,
      "outputs": []
    }
  ]
}