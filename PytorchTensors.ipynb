{
  "cells": [
    {
      "cell_type": "markdown",
      "metadata": {
        "id": "view-in-github",
        "colab_type": "text"
      },
      "source": [
        "<a href=\"https://colab.research.google.com/github/22Ifeoma22/22Ifeoma22/blob/main/PytorchTensors.ipynb\" target=\"_parent\"><img src=\"https://colab.research.google.com/assets/colab-badge.svg\" alt=\"Open In Colab\"/></a>"
      ]
    },
    {
      "cell_type": "markdown",
      "metadata": {
        "collapsed": true,
        "id": "VpwBKoSyyPmn"
      },
      "source": [
        "Run following command to install pytorch<br>\n",
        "conda install pytorch torchvision -c pytorch -y"
      ]
    },
    {
      "cell_type": "code",
      "execution_count": 12,
      "metadata": {
        "colab": {
          "base_uri": "https://localhost:8080/"
        },
        "id": "xTQhR1L1yPmp",
        "outputId": "53ac319c-6ec2-44d5-a994-cd3f6e8b6af1"
      },
      "outputs": [
        {
          "output_type": "stream",
          "name": "stdout",
          "text": [
            "2.3.0+cu121\n"
          ]
        }
      ],
      "source": [
        "import torch\n",
        "\n",
        "print(torch.__version__)"
      ]
    },
    {
      "cell_type": "markdown",
      "metadata": {
        "id": "vvjQwaJMyPmp"
      },
      "source": [
        "#### Creating Tensors"
      ]
    },
    {
      "cell_type": "markdown",
      "metadata": {
        "id": "TMPtkxb_yPmq"
      },
      "source": [
        "#### A Tensor initialized with a specific array"
      ]
    },
    {
      "cell_type": "code",
      "execution_count": 13,
      "metadata": {
        "colab": {
          "base_uri": "https://localhost:8080/"
        },
        "id": "epYq4AzqyPmq",
        "outputId": "795e1443-cc88-4878-d9f5-8f9447ea7d50"
      },
      "outputs": [
        {
          "output_type": "execute_result",
          "data": {
            "text/plain": [
              "tensor([[1., 2.],\n",
              "        [4., 5.]])"
            ]
          },
          "metadata": {},
          "execution_count": 13
        }
      ],
      "source": [
        "tensor_array = torch.Tensor([[1,2],[4,5]])\n",
        "tensor_array"
      ]
    },
    {
      "cell_type": "markdown",
      "metadata": {
        "id": "WW_EiwGuyPmq"
      },
      "source": [
        "#### An un-initialized Tensor of shape 3X3 allocated space in memory"
      ]
    },
    {
      "cell_type": "code",
      "execution_count": 14,
      "metadata": {
        "collapsed": true,
        "id": "bqFqjjovyPmq"
      },
      "outputs": [],
      "source": [
        "tensor_uninitialized = torch.Tensor(3, 3)"
      ]
    },
    {
      "cell_type": "markdown",
      "metadata": {
        "id": "fXTVKlYYyPmq"
      },
      "source": [
        "#### numel() returns the number of elements in a tensor"
      ]
    },
    {
      "cell_type": "code",
      "execution_count": 15,
      "metadata": {
        "colab": {
          "base_uri": "https://localhost:8080/"
        },
        "id": "qj4rRXFQyPmq",
        "outputId": "d9819d86-0c50-4e59-9cbe-1434b8600fb3"
      },
      "outputs": [
        {
          "output_type": "execute_result",
          "data": {
            "text/plain": [
              "9"
            ]
          },
          "metadata": {},
          "execution_count": 15
        }
      ],
      "source": [
        "torch.numel(tensor_uninitialized)"
      ]
    },
    {
      "cell_type": "markdown",
      "metadata": {
        "id": "ZVziY9QvyPmr"
      },
      "source": [
        "Creating Tensor without initialization sometimes lead to \"RuntimeError: Overflow when unpacking long\" error.<br>\n",
        "Because torch.empty gives uninitialized memory, so we may or may not get a large value from it."
      ]
    },
    {
      "cell_type": "code",
      "execution_count": 16,
      "metadata": {
        "colab": {
          "base_uri": "https://localhost:8080/"
        },
        "id": "1nBqkMsfyPmr",
        "outputId": "0aec73b0-50a3-4f5b-d1b2-8b6687cda7be"
      },
      "outputs": [
        {
          "output_type": "execute_result",
          "data": {
            "text/plain": [
              "tensor([[1.0838e-08, 4.3208e-05, 4.3681e-05],\n",
              "        [1.2961e+16, 2.1707e-18, 7.0952e+22],\n",
              "        [1.7748e+28, 1.8176e+31, 7.2708e+31]])"
            ]
          },
          "metadata": {},
          "execution_count": 16
        }
      ],
      "source": [
        "tensor_uninitialized"
      ]
    },
    {
      "cell_type": "markdown",
      "metadata": {
        "id": "8X-rPmBDyPmr"
      },
      "source": [
        "#### A tensor of size 2x3 initialized with random values"
      ]
    },
    {
      "cell_type": "code",
      "execution_count": 17,
      "metadata": {
        "id": "jYL5zAfvyPmr",
        "outputId": "fb63fba8-925b-4ec0-8860-97abdbfb3bda",
        "colab": {
          "base_uri": "https://localhost:8080/"
        }
      },
      "outputs": [
        {
          "output_type": "execute_result",
          "data": {
            "text/plain": [
              "tensor([[0.8873, 0.3770, 0.6854],\n",
              "        [0.6424, 0.4936, 0.4440]])"
            ]
          },
          "metadata": {},
          "execution_count": 17
        }
      ],
      "source": [
        "tensor_initialized = torch.rand(2, 3)\n",
        "tensor_initialized"
      ]
    },
    {
      "cell_type": "markdown",
      "metadata": {
        "id": "WJgSvtsMyPmr"
      },
      "source": [
        "#### Tensors can be set to have specific data types\n",
        "Here we create one poplulated with random integers"
      ]
    },
    {
      "cell_type": "code",
      "execution_count": 18,
      "metadata": {
        "colab": {
          "base_uri": "https://localhost:8080/"
        },
        "id": "4uZ-VPfSyPmr",
        "outputId": "797d85f3-72bd-47e6-edb5-cda70ac41f94"
      },
      "outputs": [
        {
          "output_type": "execute_result",
          "data": {
            "text/plain": [
              "tensor([[ 0,  0,  0],\n",
              "        [-1,  0,  0],\n",
              "        [ 0,  0,  0],\n",
              "        [ 0,  0, -1],\n",
              "        [ 0,  0,  0]], dtype=torch.int32)"
            ]
          },
          "metadata": {},
          "execution_count": 18
        }
      ],
      "source": [
        "tensor_int = torch.randn(5, 3).type(torch.IntTensor)\n",
        "tensor_int"
      ]
    },
    {
      "cell_type": "markdown",
      "metadata": {
        "id": "_h4OvenZyPms"
      },
      "source": [
        "#### A Tensor of type Long"
      ]
    },
    {
      "cell_type": "code",
      "execution_count": 19,
      "metadata": {
        "id": "p3oa9vpVyPms",
        "outputId": "0f74051c-421d-478e-ed03-431d0db6cc93",
        "colab": {
          "base_uri": "https://localhost:8080/"
        }
      },
      "outputs": [
        {
          "output_type": "execute_result",
          "data": {
            "text/plain": [
              "tensor([1, 2, 3])"
            ]
          },
          "metadata": {},
          "execution_count": 19
        }
      ],
      "source": [
        "tensor_long = torch.LongTensor([1.0, 2.0, 3.0])\n",
        "tensor_long"
      ]
    },
    {
      "cell_type": "markdown",
      "metadata": {
        "id": "0xX9lIfLyPms"
      },
      "source": [
        "#### A tensor of type Byte\n",
        "This holds unsigned int values from 0 to 255. Values outside of that range are expressed relative to 256"
      ]
    },
    {
      "cell_type": "markdown",
      "source": [
        "Hypothesis\n",
        "The error message \"RuntimeError: value cannot be converted to type uint8 without overflow\" indicates that you are trying to create a torch.ByteTensor with values that are outside the valid range for the unsigned 8-bit integer data type. torch.ByteTensor expects values between 0 and 255 (inclusive). The value 261 in your input list exceeds this limit, causing the overflow."
      ],
      "metadata": {
        "id": "mnZjBmXbpVr0"
      }
    },
    {
      "cell_type": "code",
      "source": [
        "tensor_byte = torch.ByteTensor([0, 255, 1, 0]) # Replace 261 and -5 with valid values between 0 and 255\n",
        "print(tensor_byte)"
      ],
      "metadata": {
        "colab": {
          "base_uri": "https://localhost:8080/"
        },
        "id": "IU8ZbXEqpAtL",
        "outputId": "eff40484-648d-4adb-b717-17a3031a5525"
      },
      "execution_count": 22,
      "outputs": [
        {
          "output_type": "stream",
          "name": "stdout",
          "text": [
            "tensor([  0, 255,   1,   0], dtype=torch.uint8)\n"
          ]
        }
      ]
    },
    {
      "cell_type": "markdown",
      "metadata": {
        "id": "1UeWlR-XyPms"
      },
      "source": [
        "#### A tensor of size 10 containing all ones"
      ]
    },
    {
      "cell_type": "code",
      "execution_count": 24,
      "metadata": {
        "id": "Le0kD2hQyPms",
        "outputId": "83aeb0a2-dc17-4924-881a-021020de3d1c",
        "colab": {
          "base_uri": "https://localhost:8080/"
        }
      },
      "outputs": [
        {
          "output_type": "execute_result",
          "data": {
            "text/plain": [
              "tensor([1., 1., 1., 1., 1., 1., 1., 1., 1., 1.])"
            ]
          },
          "metadata": {},
          "execution_count": 24
        }
      ],
      "source": [
        "tensor_ones = torch.ones(10)\n",
        "tensor_ones"
      ]
    },
    {
      "cell_type": "markdown",
      "metadata": {
        "id": "s1--6oPxyPms"
      },
      "source": [
        "#### A tensor of size 10 containing all zeros"
      ]
    },
    {
      "cell_type": "code",
      "execution_count": 25,
      "metadata": {
        "id": "lbzaDC1myPms",
        "outputId": "26afdc8a-d83c-4286-a2cd-e2eb6d029460",
        "colab": {
          "base_uri": "https://localhost:8080/"
        }
      },
      "outputs": [
        {
          "output_type": "execute_result",
          "data": {
            "text/plain": [
              "tensor([0., 0., 0., 0., 0., 0., 0., 0., 0., 0.])"
            ]
          },
          "metadata": {},
          "execution_count": 25
        }
      ],
      "source": [
        "tensor_zeroes = torch.zeros(10)\n",
        "tensor_zeroes"
      ]
    },
    {
      "cell_type": "markdown",
      "metadata": {
        "id": "q0EH1bC7yPmt"
      },
      "source": [
        "#### Create an identity 3x3 tensor"
      ]
    },
    {
      "cell_type": "code",
      "execution_count": 26,
      "metadata": {
        "id": "IkrRE8szyPmt",
        "outputId": "0397d686-58ff-499f-8719-4e6362b793e6",
        "colab": {
          "base_uri": "https://localhost:8080/"
        }
      },
      "outputs": [
        {
          "output_type": "execute_result",
          "data": {
            "text/plain": [
              "tensor([[1., 0., 0.],\n",
              "        [0., 1., 0.],\n",
              "        [0., 0., 1.]])"
            ]
          },
          "metadata": {},
          "execution_count": 26
        }
      ],
      "source": [
        "tensor_eye = torch.eye(3)\n",
        "tensor_eye"
      ]
    },
    {
      "cell_type": "markdown",
      "metadata": {
        "id": "JFKR_qPsyPmt"
      },
      "source": [
        "#### Get the list of indices of non-zero elements in a tensor\n",
        "[ i, j ] index for non-zero elements"
      ]
    },
    {
      "cell_type": "code",
      "execution_count": 27,
      "metadata": {
        "id": "wDDt7p_hyPmt",
        "outputId": "918c53e2-b6e2-4ea6-dd05-1d5e568ce9c1",
        "colab": {
          "base_uri": "https://localhost:8080/"
        }
      },
      "outputs": [
        {
          "output_type": "execute_result",
          "data": {
            "text/plain": [
              "tensor([[0, 0],\n",
              "        [1, 1],\n",
              "        [2, 2]])"
            ]
          },
          "metadata": {},
          "execution_count": 27
        }
      ],
      "source": [
        "non_zero = torch.nonzero(tensor_eye)\n",
        "non_zero"
      ]
    },
    {
      "cell_type": "markdown",
      "metadata": {
        "id": "c4WzGbBmyPmt"
      },
      "source": [
        "#### Use ones_like() with an existing tensor to create a tensor of ones with the same shape as that tensor\n",
        "A tensor with same shape as eye. Fill it with 1."
      ]
    },
    {
      "cell_type": "code",
      "execution_count": 28,
      "metadata": {
        "id": "Jme3zmGJyPmt",
        "outputId": "cdb435d1-5ba1-48de-b8bd-d7110280ea5c",
        "colab": {
          "base_uri": "https://localhost:8080/"
        }
      },
      "outputs": [
        {
          "output_type": "execute_result",
          "data": {
            "text/plain": [
              "tensor([[1., 1., 1.],\n",
              "        [1., 1., 1.],\n",
              "        [1., 1., 1.]])"
            ]
          },
          "metadata": {},
          "execution_count": 28
        }
      ],
      "source": [
        "tensor_ones_shape_eye = torch.ones_like(tensor_eye)\n",
        "tensor_ones_shape_eye"
      ]
    },
    {
      "cell_type": "markdown",
      "metadata": {
        "id": "E1T0lskUyPmt"
      },
      "source": [
        "## Inplace / Out-of-place\n",
        "The first difference is that ALL operations on the tensor that operate in-place on it will have an \"\\_\" postfix. For example, add is the out-of-place version, and add\\_ is the in-place version."
      ]
    },
    {
      "cell_type": "markdown",
      "metadata": {
        "id": "3FuZbZAQyPmu"
      },
      "source": [
        "#### .fill_ is in-place operation and it doesnt have any out-place equivalent"
      ]
    },
    {
      "cell_type": "code",
      "execution_count": 31,
      "metadata": {
        "colab": {
          "base_uri": "https://localhost:8080/"
        },
        "id": "LEI0MXDOyPmu",
        "outputId": "410a651c-882c-4d1d-bddb-5c6f36975d3c"
      },
      "outputs": [
        {
          "output_type": "execute_result",
          "data": {
            "text/plain": [
              "tensor([[3., 3., 3.],\n",
              "        [3., 3., 3.],\n",
              "        [3., 3., 3.]])"
            ]
          },
          "metadata": {},
          "execution_count": 31
        }
      ],
      "source": [
        "initial_tensor = torch.rand(3, 3)\n",
        "\n",
        "initial_tensor.fill_(3)"
      ]
    },
    {
      "cell_type": "markdown",
      "metadata": {
        "id": "6sw9vNPUyPmu"
      },
      "source": [
        "#### The add() method does an out-of-place add operation and returns a new tensor\n",
        "This is assigned to the new_tensor variable"
      ]
    },
    {
      "cell_type": "code",
      "execution_count": 33,
      "metadata": {
        "id": "bWBw--3_yPmu",
        "outputId": "d20536a5-8e53-41b0-b307-e712e20011b5",
        "colab": {
          "base_uri": "https://localhost:8080/"
        }
      },
      "outputs": [
        {
          "output_type": "execute_result",
          "data": {
            "text/plain": [
              "tensor([[7., 7., 7.],\n",
              "        [7., 7., 7.],\n",
              "        [7., 7., 7.]])"
            ]
          },
          "metadata": {},
          "execution_count": 33
        }
      ],
      "source": [
        "new_tensor = initial_tensor.add(4)\n",
        "new_tensor"
      ]
    },
    {
      "cell_type": "markdown",
      "metadata": {
        "id": "-EHQqkvyyPmu"
      },
      "source": [
        "#### The original tensor is unchanged"
      ]
    },
    {
      "cell_type": "code",
      "execution_count": 34,
      "metadata": {
        "id": "3NMpFSdHyPmv",
        "outputId": "62c7508d-2559-41a8-d0c6-30924285737a",
        "colab": {
          "base_uri": "https://localhost:8080/"
        }
      },
      "outputs": [
        {
          "output_type": "execute_result",
          "data": {
            "text/plain": [
              "tensor([[3., 3., 3.],\n",
              "        [3., 3., 3.],\n",
              "        [3., 3., 3.]])"
            ]
          },
          "metadata": {},
          "execution_count": 34
        }
      ],
      "source": [
        "initial_tensor"
      ]
    },
    {
      "cell_type": "markdown",
      "metadata": {
        "id": "CJdCDn1UyPmv"
      },
      "source": [
        "#### The add\\_ method does an in-place add, changing the calling tensor"
      ]
    },
    {
      "cell_type": "code",
      "execution_count": 35,
      "metadata": {
        "id": "q74Qcv9lyPmy",
        "outputId": "9b54145e-adad-48d6-a17f-32ea61332f03",
        "colab": {
          "base_uri": "https://localhost:8080/"
        }
      },
      "outputs": [
        {
          "output_type": "execute_result",
          "data": {
            "text/plain": [
              "tensor([[8., 8., 8.],\n",
              "        [8., 8., 8.],\n",
              "        [8., 8., 8.]])"
            ]
          },
          "metadata": {},
          "execution_count": 35
        }
      ],
      "source": [
        "initial_tensor.add_(5)\n",
        "initial_tensor"
      ]
    },
    {
      "cell_type": "markdown",
      "metadata": {
        "id": "K-iiM92WyPmy"
      },
      "source": [
        "#### The new_tensor was a separate copy and is unaffected"
      ]
    },
    {
      "cell_type": "code",
      "execution_count": 36,
      "metadata": {
        "id": "jS1gSlz5yPmy",
        "outputId": "50de2e82-e04e-4d75-8ac3-bc22ff91aebc",
        "colab": {
          "base_uri": "https://localhost:8080/"
        }
      },
      "outputs": [
        {
          "output_type": "execute_result",
          "data": {
            "text/plain": [
              "tensor([[7., 7., 7.],\n",
              "        [7., 7., 7.],\n",
              "        [7., 7., 7.]])"
            ]
          },
          "metadata": {},
          "execution_count": 36
        }
      ],
      "source": [
        "new_tensor"
      ]
    },
    {
      "cell_type": "code",
      "execution_count": null,
      "metadata": {
        "collapsed": true,
        "id": "A1-60swFyPmy"
      },
      "outputs": [],
      "source": []
    },
    {
      "cell_type": "markdown",
      "metadata": {
        "id": "OyF7AsheyPmz"
      },
      "source": [
        "## Interoperablity between Numpy arrays and Pytorch Tensors"
      ]
    },
    {
      "cell_type": "code",
      "execution_count": 37,
      "metadata": {
        "collapsed": true,
        "id": "POqLK44JyPmz"
      },
      "outputs": [],
      "source": [
        "import numpy as np"
      ]
    },
    {
      "cell_type": "markdown",
      "metadata": {
        "id": "6AzY3hNRyPmz"
      },
      "source": [
        "#### Converting a numpy array to a Tensor"
      ]
    },
    {
      "cell_type": "code",
      "execution_count": 38,
      "metadata": {
        "id": "FLz26FpMyPmz",
        "outputId": "d37eeba7-58b5-41c4-bc3e-addce77c18aa",
        "colab": {
          "base_uri": "https://localhost:8080/"
        }
      },
      "outputs": [
        {
          "output_type": "execute_result",
          "data": {
            "text/plain": [
              "array([1, 2, 3])"
            ]
          },
          "metadata": {},
          "execution_count": 38
        }
      ],
      "source": [
        "numpy_arr = np.array([1, 2, 3])\n",
        "numpy_arr"
      ]
    },
    {
      "cell_type": "code",
      "execution_count": 39,
      "metadata": {
        "id": "7PAm9sziyPmz",
        "outputId": "10aa8ffc-773e-4421-eed0-93b3f7c3ce16",
        "colab": {
          "base_uri": "https://localhost:8080/"
        }
      },
      "outputs": [
        {
          "output_type": "execute_result",
          "data": {
            "text/plain": [
              "tensor([1, 2, 3])"
            ]
          },
          "metadata": {},
          "execution_count": 39
        }
      ],
      "source": [
        "tensor = torch.from_numpy(numpy_arr)\n",
        "tensor"
      ]
    },
    {
      "cell_type": "markdown",
      "metadata": {
        "id": "H4_-lvkpyPmz"
      },
      "source": [
        "#### Converting tensor to numpy arrays"
      ]
    },
    {
      "cell_type": "code",
      "execution_count": 40,
      "metadata": {
        "id": "s6dGI87xyPmz",
        "outputId": "8029ed7d-d689-4512-e802-935b06f1bf4e",
        "colab": {
          "base_uri": "https://localhost:8080/"
        }
      },
      "outputs": [
        {
          "output_type": "execute_result",
          "data": {
            "text/plain": [
              "array([1, 2, 3])"
            ]
          },
          "metadata": {},
          "execution_count": 40
        }
      ],
      "source": [
        "numpy_from_tensor = tensor.numpy()\n",
        "numpy_from_tensor"
      ]
    },
    {
      "cell_type": "markdown",
      "metadata": {
        "id": "dm-7pgV8yPmz"
      },
      "source": [
        "#### The Numpy arrays and Tensor share the same memory\n",
        "The tensor and numpy_from_tensor are shallow copies and share the same memory as the original numpy array. Modifying the original array affects the values of both tensor and numpy_from_tensor"
      ]
    },
    {
      "cell_type": "code",
      "execution_count": 41,
      "metadata": {
        "id": "-iVDBEAxyPmz",
        "outputId": "71f429b9-3c6b-4fb1-a0f9-5ca579a2b9ec",
        "colab": {
          "base_uri": "https://localhost:8080/"
        }
      },
      "outputs": [
        {
          "output_type": "execute_result",
          "data": {
            "text/plain": [
              "array([1, 4, 3])"
            ]
          },
          "metadata": {},
          "execution_count": 41
        }
      ],
      "source": [
        "numpy_arr[1] = 4\n",
        "numpy_arr"
      ]
    },
    {
      "cell_type": "code",
      "execution_count": 42,
      "metadata": {
        "id": "yoXXfHVayPmz",
        "outputId": "1caf9c44-0d88-4978-8bf0-d9b221e97483",
        "colab": {
          "base_uri": "https://localhost:8080/"
        }
      },
      "outputs": [
        {
          "output_type": "execute_result",
          "data": {
            "text/plain": [
              "tensor([1, 4, 3])"
            ]
          },
          "metadata": {},
          "execution_count": 42
        }
      ],
      "source": [
        "tensor"
      ]
    },
    {
      "cell_type": "code",
      "execution_count": 43,
      "metadata": {
        "id": "meoJ2O7DyPm0",
        "outputId": "10a1a943-a8bd-4838-9050-3c3b8e1a21e2",
        "colab": {
          "base_uri": "https://localhost:8080/"
        }
      },
      "outputs": [
        {
          "output_type": "execute_result",
          "data": {
            "text/plain": [
              "array([1, 4, 3])"
            ]
          },
          "metadata": {},
          "execution_count": 43
        }
      ],
      "source": [
        "numpy_from_tensor"
      ]
    },
    {
      "cell_type": "code",
      "execution_count": null,
      "metadata": {
        "collapsed": true,
        "id": "1R6TWP2VyPm0"
      },
      "outputs": [],
      "source": []
    },
    {
      "cell_type": "markdown",
      "metadata": {
        "id": "Cd62m__ayPm0"
      },
      "source": [
        "#### Indexing"
      ]
    },
    {
      "cell_type": "code",
      "execution_count": 44,
      "metadata": {
        "id": "XVe_xn6oyPm0",
        "outputId": "b370e4a5-8d73-4ca9-f21e-4b452c4c12b1",
        "colab": {
          "base_uri": "https://localhost:8080/"
        }
      },
      "outputs": [
        {
          "output_type": "execute_result",
          "data": {
            "text/plain": [
              "tensor([[0.2135, 0.6295, 0.6911],\n",
              "        [0.1712, 0.0298, 0.0689]])"
            ]
          },
          "metadata": {},
          "execution_count": 44
        }
      ],
      "source": [
        "initial_tensor = torch.rand(2, 3)\n",
        "initial_tensor"
      ]
    },
    {
      "cell_type": "markdown",
      "metadata": {
        "id": "VuNQYMAKyPm0"
      },
      "source": [
        "#### Selecting individual elements from the tensor\n",
        "Select the 1st row, 3rd column"
      ]
    },
    {
      "cell_type": "code",
      "execution_count": 45,
      "metadata": {
        "id": "xfEse9mtyPm0",
        "outputId": "7201c43f-1369-4008-a6f4-137eb5d791ff",
        "colab": {
          "base_uri": "https://localhost:8080/"
        }
      },
      "outputs": [
        {
          "output_type": "execute_result",
          "data": {
            "text/plain": [
              "tensor(0.6911)"
            ]
          },
          "metadata": {},
          "execution_count": 45
        }
      ],
      "source": [
        "initial_tensor[0, 2]"
      ]
    },
    {
      "cell_type": "markdown",
      "metadata": {
        "id": "Z3qjjRz-yPm1"
      },
      "source": [
        "#### Slicing\n",
        "Select all rows, and the elements from the 2nd column onwards"
      ]
    },
    {
      "cell_type": "code",
      "execution_count": 46,
      "metadata": {
        "id": "jWy82GD4yPm1",
        "outputId": "f7739c74-4221-491c-b544-f378243477e4",
        "colab": {
          "base_uri": "https://localhost:8080/"
        }
      },
      "outputs": [
        {
          "output_type": "execute_result",
          "data": {
            "text/plain": [
              "tensor([[0.6295, 0.6911],\n",
              "        [0.0298, 0.0689]])"
            ]
          },
          "metadata": {},
          "execution_count": 46
        }
      ],
      "source": [
        "initial_tensor[:,1:]"
      ]
    },
    {
      "cell_type": "code",
      "execution_count": null,
      "metadata": {
        "collapsed": true,
        "id": "S4jIOZ6hyPm1"
      },
      "outputs": [],
      "source": []
    },
    {
      "cell_type": "markdown",
      "metadata": {
        "id": "nrZkjl5oyPm1"
      },
      "source": [
        "#### Resizing"
      ]
    },
    {
      "cell_type": "markdown",
      "metadata": {
        "id": "oMxZ4cHeyPm1"
      },
      "source": [
        ".size() method is used to check shape of the tensor"
      ]
    },
    {
      "cell_type": "code",
      "execution_count": 47,
      "metadata": {
        "id": "dhZVdTFfyPm1",
        "outputId": "2f23bcd3-bf4a-404d-93e4-b0987bb398ba",
        "colab": {
          "base_uri": "https://localhost:8080/"
        }
      },
      "outputs": [
        {
          "output_type": "execute_result",
          "data": {
            "text/plain": [
              "torch.Size([2, 3])"
            ]
          },
          "metadata": {},
          "execution_count": 47
        }
      ],
      "source": [
        "initial_tensor.size()"
      ]
    },
    {
      "cell_type": "markdown",
      "metadata": {
        "id": "0g6CV6PDyPm2"
      },
      "source": [
        "#### .shape returns the shape attribute of the tensor"
      ]
    },
    {
      "cell_type": "code",
      "execution_count": 48,
      "metadata": {
        "id": "kq1yLVjsyPm2",
        "outputId": "3d8a8a1b-59a9-4b9a-ded3-2f564b5db1ec",
        "colab": {
          "base_uri": "https://localhost:8080/"
        }
      },
      "outputs": [
        {
          "output_type": "execute_result",
          "data": {
            "text/plain": [
              "torch.Size([2, 3])"
            ]
          },
          "metadata": {},
          "execution_count": 48
        }
      ],
      "source": [
        "initial_tensor.shape"
      ]
    },
    {
      "cell_type": "markdown",
      "metadata": {
        "id": "LW5H7X2FyPm2"
      },
      "source": [
        "#### The view() methoed\n",
        "This creates a view of the calling tensor in the shape specified in the arguments. Here, we create a 1-D tensor of shape (6,) from our 2D initial_tensor"
      ]
    },
    {
      "cell_type": "code",
      "execution_count": 49,
      "metadata": {
        "id": "cwsF5ZX7yPm2",
        "outputId": "6a6ebc61-bb25-4ff5-e77a-a27e3ac1f6fd",
        "colab": {
          "base_uri": "https://localhost:8080/"
        }
      },
      "outputs": [
        {
          "output_type": "execute_result",
          "data": {
            "text/plain": [
              "torch.Size([6])"
            ]
          },
          "metadata": {},
          "execution_count": 49
        }
      ],
      "source": [
        "resized_tensor = initial_tensor.view(6)\n",
        "resized_tensor.shape"
      ]
    },
    {
      "cell_type": "code",
      "execution_count": 50,
      "metadata": {
        "id": "b1dr7dy6yPm2",
        "outputId": "5ef0ee0a-9608-4222-fabd-b1a43b3da3b8",
        "colab": {
          "base_uri": "https://localhost:8080/"
        }
      },
      "outputs": [
        {
          "output_type": "execute_result",
          "data": {
            "text/plain": [
              "tensor([0.2135, 0.6295, 0.6911, 0.1712, 0.0298, 0.0689])"
            ]
          },
          "metadata": {},
          "execution_count": 50
        }
      ],
      "source": [
        "resized_tensor"
      ]
    },
    {
      "cell_type": "markdown",
      "metadata": {
        "id": "aS7HKWppyPm2"
      },
      "source": [
        "#### view() does not create a deep copy - just a view as the name suggests\n",
        "Modifying the original tensor affects the resized_tensor as they both point to the same space in memory"
      ]
    },
    {
      "cell_type": "code",
      "execution_count": 51,
      "metadata": {
        "id": "9x9m4aUHyPm3",
        "outputId": "5ee86156-dd49-4609-d501-328807e4c35a",
        "colab": {
          "base_uri": "https://localhost:8080/"
        }
      },
      "outputs": [
        {
          "output_type": "execute_result",
          "data": {
            "text/plain": [
              "tensor([0.2135, 0.6295, 0.1111, 0.1712, 0.0298, 0.0689])"
            ]
          },
          "metadata": {},
          "execution_count": 51
        }
      ],
      "source": [
        "initial_tensor[0, 2] = 0.1111\n",
        "resized_tensor"
      ]
    },
    {
      "cell_type": "markdown",
      "metadata": {
        "id": "fthS7sBIyPm3"
      },
      "source": [
        "#### Convert 2x3 tensor to a 3x2 tensor"
      ]
    },
    {
      "cell_type": "code",
      "execution_count": 52,
      "metadata": {
        "id": "4GZnhDYiyPm3",
        "outputId": "bc0b084f-1ab0-48ec-fdd4-2be2da76187c",
        "colab": {
          "base_uri": "https://localhost:8080/"
        }
      },
      "outputs": [
        {
          "output_type": "execute_result",
          "data": {
            "text/plain": [
              "torch.Size([3, 2])"
            ]
          },
          "metadata": {},
          "execution_count": 52
        }
      ],
      "source": [
        "resized_tensor = initial_tensor.view(3, 2)\n",
        "resized_tensor.shape"
      ]
    },
    {
      "cell_type": "code",
      "execution_count": 53,
      "metadata": {
        "id": "MFC_y1-ayPm3",
        "outputId": "262fb0f5-8cd3-44d5-eb6c-4a3dac957644",
        "colab": {
          "base_uri": "https://localhost:8080/"
        }
      },
      "outputs": [
        {
          "output_type": "execute_result",
          "data": {
            "text/plain": [
              "tensor([[0.2135, 0.6295],\n",
              "        [0.1111, 0.1712],\n",
              "        [0.0298, 0.0689]])"
            ]
          },
          "metadata": {},
          "execution_count": 53
        }
      ],
      "source": [
        "resized_tensor"
      ]
    },
    {
      "cell_type": "markdown",
      "metadata": {
        "id": "iY6TnK8HyPm3"
      },
      "source": [
        "#### Use of -1 as a view argument\n",
        "In a situation where you would like one of the dimensions of the tensor to be inferred, the argument for that can be stated as -1. It's actual dimension will be set based on the value of the other dimension.\n",
        "\n",
        "This also applies to multi-dimensional tensors though we only use 2D tensors here"
      ]
    },
    {
      "cell_type": "code",
      "execution_count": 54,
      "metadata": {
        "id": "QloqZ8IGyPm3",
        "outputId": "be329cdc-6ec5-41ef-b6eb-e12cbc4d5391",
        "colab": {
          "base_uri": "https://localhost:8080/"
        }
      },
      "outputs": [
        {
          "output_type": "execute_result",
          "data": {
            "text/plain": [
              "torch.Size([3, 2])"
            ]
          },
          "metadata": {},
          "execution_count": 54
        }
      ],
      "source": [
        "resized_matrix = initial_tensor.view(-1, 2)\n",
        "resized_matrix.shape"
      ]
    },
    {
      "cell_type": "markdown",
      "metadata": {
        "id": "pFfWyPLWyPm4"
      },
      "source": [
        "#### The reshaping must contain valid arguments\n",
        "The view method must have arguments which are factors of the number of elements in the tensor. Specifying values which are not factors will result in an error"
      ]
    },
    {
      "cell_type": "code",
      "execution_count": 62,
      "metadata": {
        "id": "b_MDCskdyPm4"
      },
      "outputs": [],
      "source": [
        "resized_matrix = initial_tensor.view(-1, 3)"
      ]
    },
    {
      "cell_type": "markdown",
      "metadata": {
        "id": "l5KbiYTLyPm4"
      },
      "source": [
        "## Sorting tensors\n",
        "Tensors can be sorted along a specified dimension. If no dimension is specified, the last dimension is picked by default"
      ]
    },
    {
      "cell_type": "code",
      "execution_count": 63,
      "metadata": {
        "id": "6fcBPG_2yPm4",
        "outputId": "8f43a29a-cdb9-4bc9-db38-778a23da1475",
        "colab": {
          "base_uri": "https://localhost:8080/"
        }
      },
      "outputs": [
        {
          "output_type": "execute_result",
          "data": {
            "text/plain": [
              "tensor([[0.2135, 0.6295, 0.1111],\n",
              "        [0.1712, 0.0298, 0.0689]])"
            ]
          },
          "metadata": {},
          "execution_count": 63
        }
      ],
      "source": [
        "initial_tensor"
      ]
    },
    {
      "cell_type": "markdown",
      "metadata": {
        "id": "cyXooZmwyPm4"
      },
      "source": [
        "#### torch.sort() returns two tensors\n",
        "* one original sorted tensor\n",
        "* one with index of elements in sorted order\n",
        "\n",
        "The rows in this tensor will be sorted as they represent the last dimension"
      ]
    },
    {
      "cell_type": "code",
      "execution_count": 64,
      "metadata": {
        "collapsed": true,
        "id": "khejosGPyPm4"
      },
      "outputs": [],
      "source": [
        "sorted_tensor, sorted_indices = torch.sort(initial_tensor)"
      ]
    },
    {
      "cell_type": "code",
      "execution_count": 65,
      "metadata": {
        "id": "9VKa35qNyPm4",
        "outputId": "ef361c9a-565e-4cad-ba7d-9d3f43801002",
        "colab": {
          "base_uri": "https://localhost:8080/"
        }
      },
      "outputs": [
        {
          "output_type": "execute_result",
          "data": {
            "text/plain": [
              "tensor([[0.1111, 0.2135, 0.6295],\n",
              "        [0.0298, 0.0689, 0.1712]])"
            ]
          },
          "metadata": {},
          "execution_count": 65
        }
      ],
      "source": [
        "sorted_tensor"
      ]
    },
    {
      "cell_type": "code",
      "execution_count": 66,
      "metadata": {
        "id": "uOxV0w8SyPm5",
        "outputId": "da7b7ddb-2b40-45cc-9638-51e636bc7efc",
        "colab": {
          "base_uri": "https://localhost:8080/"
        }
      },
      "outputs": [
        {
          "output_type": "execute_result",
          "data": {
            "text/plain": [
              "tensor([[2, 0, 1],\n",
              "        [1, 2, 0]])"
            ]
          },
          "metadata": {},
          "execution_count": 66
        }
      ],
      "source": [
        "sorted_indices"
      ]
    },
    {
      "cell_type": "markdown",
      "metadata": {
        "id": "jSSKdeGHyPm5"
      },
      "source": [
        "#### Specifying a dimension to sort on\n",
        "Here, the tensor is sorted on its columns"
      ]
    },
    {
      "cell_type": "code",
      "execution_count": 67,
      "metadata": {
        "id": "cmdIRHIEyPm5",
        "outputId": "cf40f53e-0ce1-4810-acd3-1b85a054f9e4",
        "colab": {
          "base_uri": "https://localhost:8080/"
        }
      },
      "outputs": [
        {
          "output_type": "execute_result",
          "data": {
            "text/plain": [
              "tensor([[0.1712, 0.0298, 0.0689],\n",
              "        [0.2135, 0.6295, 0.1111]])"
            ]
          },
          "metadata": {},
          "execution_count": 67
        }
      ],
      "source": [
        "sorted_tensor, sorted_indices = torch.sort(initial_tensor, dim=0)\n",
        "sorted_tensor"
      ]
    },
    {
      "cell_type": "code",
      "execution_count": 68,
      "metadata": {
        "id": "mWOE-WVuyPm5",
        "outputId": "0f7b7411-1f1f-4f84-eba0-901037f64768",
        "colab": {
          "base_uri": "https://localhost:8080/"
        }
      },
      "outputs": [
        {
          "output_type": "execute_result",
          "data": {
            "text/plain": [
              "tensor([[1, 1, 1],\n",
              "        [0, 0, 0]])"
            ]
          },
          "metadata": {},
          "execution_count": 68
        }
      ],
      "source": [
        "sorted_indices"
      ]
    },
    {
      "cell_type": "code",
      "execution_count": null,
      "metadata": {
        "collapsed": true,
        "id": "RsGjibiSyPm5"
      },
      "outputs": [],
      "source": []
    },
    {
      "cell_type": "markdown",
      "metadata": {
        "id": "nqVbt9CAyPm5"
      },
      "source": [
        "#### torch.topk() returns two tensors\n",
        "* one with max k elements in the specific dimension (k being the second argument)\n",
        "one with index of elements having max element"
      ]
    },
    {
      "cell_type": "code",
      "execution_count": 69,
      "metadata": {
        "id": "SIl1HnZ4yPm5",
        "outputId": "278f84ca-71b6-413e-c0e4-015689ee0dc6",
        "colab": {
          "base_uri": "https://localhost:8080/"
        }
      },
      "outputs": [
        {
          "output_type": "execute_result",
          "data": {
            "text/plain": [
              "tensor([[0.6295, 0.2135],\n",
              "        [0.1712, 0.0689]])"
            ]
          },
          "metadata": {},
          "execution_count": 69
        }
      ],
      "source": [
        "topk_tensor, topk_indices = torch.topk(initial_tensor, 2)\n",
        "topk_tensor"
      ]
    },
    {
      "cell_type": "code",
      "execution_count": 70,
      "metadata": {
        "id": "ULZhBBvvyPm5",
        "outputId": "623d8f08-0937-4e2f-bcbb-e68c96bfc33d",
        "colab": {
          "base_uri": "https://localhost:8080/"
        }
      },
      "outputs": [
        {
          "output_type": "execute_result",
          "data": {
            "text/plain": [
              "tensor([[1, 0],\n",
              "        [0, 2]])"
            ]
          },
          "metadata": {},
          "execution_count": 70
        }
      ],
      "source": [
        "topk_indices"
      ]
    },
    {
      "cell_type": "code",
      "execution_count": 70,
      "metadata": {
        "collapsed": true,
        "id": "-TNfDdopyPm6"
      },
      "outputs": [],
      "source": []
    },
    {
      "cell_type": "markdown",
      "metadata": {
        "id": "KxSN00qEyPm6"
      },
      "source": [
        "## Math Operations\n",
        "Pytorch supports a number of mathematical operations which can be performed on tensors. We take a look at a few of them here"
      ]
    },
    {
      "cell_type": "markdown",
      "metadata": {
        "id": "HQbTEW9ZyPm6"
      },
      "source": [
        "#### Float tensors"
      ]
    },
    {
      "cell_type": "code",
      "execution_count": 71,
      "metadata": {
        "id": "IvhKTRawyPm6",
        "outputId": "1a94970b-9f93-4e42-8f5e-311331b22330",
        "colab": {
          "base_uri": "https://localhost:8080/"
        }
      },
      "outputs": [
        {
          "output_type": "execute_result",
          "data": {
            "text/plain": [
              "tensor([-1.1000, -2.2000,  3.3000])"
            ]
          },
          "metadata": {},
          "execution_count": 71
        }
      ],
      "source": [
        "tensor_float= torch.FloatTensor([-1.1, -2.2, 3.3])\n",
        "tensor_float"
      ]
    },
    {
      "cell_type": "markdown",
      "metadata": {
        "id": "dHmYtSGZyPm6"
      },
      "source": [
        "#### Absolute values"
      ]
    },
    {
      "cell_type": "code",
      "execution_count": 72,
      "metadata": {
        "id": "X32GrDk1yPm6",
        "outputId": "7b463278-1c5a-4767-a842-55106326cefe",
        "colab": {
          "base_uri": "https://localhost:8080/"
        }
      },
      "outputs": [
        {
          "output_type": "execute_result",
          "data": {
            "text/plain": [
              "tensor([1.1000, 2.2000, 3.3000])"
            ]
          },
          "metadata": {},
          "execution_count": 72
        }
      ],
      "source": [
        "tensor_abs = torch.abs(tensor_float)\n",
        "tensor_abs"
      ]
    },
    {
      "cell_type": "markdown",
      "metadata": {
        "id": "8yNcZZvtyPm6"
      },
      "source": [
        "#### Addition\n",
        "Addition of single value tensors"
      ]
    },
    {
      "cell_type": "code",
      "execution_count": 73,
      "metadata": {
        "id": "ZsKJy8M-yPm6",
        "outputId": "5c06e256-bd97-4fe1-ff9c-0897a589ef73",
        "colab": {
          "base_uri": "https://localhost:8080/"
        }
      },
      "outputs": [
        {
          "output_type": "execute_result",
          "data": {
            "text/plain": [
              "tensor([5.])"
            ]
          },
          "metadata": {},
          "execution_count": 73
        }
      ],
      "source": [
        "float1 = torch.FloatTensor([2])\n",
        "float2 = torch.FloatTensor([3])\n",
        "float1 + float2"
      ]
    },
    {
      "cell_type": "markdown",
      "metadata": {
        "id": "FsE5CPiJyPm6"
      },
      "source": [
        "#### Adding array-like tensors\n",
        "Two tensors of the same shape can be added by summing up the values of elements at the same index locations"
      ]
    },
    {
      "cell_type": "code",
      "execution_count": 74,
      "metadata": {
        "id": "fyV-grFNyPm6",
        "outputId": "d4819646-2cb2-45b3-f11e-b312443d35ba",
        "colab": {
          "base_uri": "https://localhost:8080/"
        }
      },
      "outputs": [
        {
          "output_type": "stream",
          "name": "stdout",
          "text": [
            "tensor([[2.0650, 0.2788, 0.1667],\n",
            "        [0.5195, 1.8929, 0.1567]]) \n",
            " tensor([[0.0769, 0.6372, 0.0696],\n",
            "        [0.7901, 1.9966, 0.2203]])\n"
          ]
        }
      ],
      "source": [
        "rand1 = torch.abs(torch.randn(2, 3))\n",
        "rand2 = torch.abs(torch.randn(2, 3))\n",
        "\n",
        "print(rand1, '\\n', rand2)"
      ]
    },
    {
      "cell_type": "markdown",
      "metadata": {
        "id": "98YwyzYhyPm6"
      },
      "source": [
        "#### Addition using the + operator"
      ]
    },
    {
      "cell_type": "code",
      "execution_count": 75,
      "metadata": {
        "id": "r_ev93_EyPm7",
        "outputId": "2cfeb751-89a1-428d-a3b5-2c3e1fde3ba9",
        "colab": {
          "base_uri": "https://localhost:8080/"
        }
      },
      "outputs": [
        {
          "output_type": "execute_result",
          "data": {
            "text/plain": [
              "tensor([[2.1419, 0.9160, 0.2362],\n",
              "        [1.3096, 3.8895, 0.3770]])"
            ]
          },
          "metadata": {},
          "execution_count": 75
        }
      ],
      "source": [
        "add1 = rand1 + rand2\n",
        "add1"
      ]
    },
    {
      "cell_type": "markdown",
      "metadata": {
        "id": "kDMiUNAByPm7"
      },
      "source": [
        "#### Addition using the add() function"
      ]
    },
    {
      "cell_type": "code",
      "execution_count": 76,
      "metadata": {
        "id": "tQovAFCyyPm7",
        "outputId": "cec37b4a-5ede-49c3-941d-b69defe9f114",
        "colab": {
          "base_uri": "https://localhost:8080/"
        }
      },
      "outputs": [
        {
          "output_type": "execute_result",
          "data": {
            "text/plain": [
              "tensor([[2.1419, 0.9160, 0.2362],\n",
              "        [1.3096, 3.8895, 0.3770]])"
            ]
          },
          "metadata": {},
          "execution_count": 76
        }
      ],
      "source": [
        "add2 = torch.add(rand1, rand2)\n",
        "add2"
      ]
    },
    {
      "cell_type": "markdown",
      "metadata": {
        "id": "QXVwN3epyPm7"
      },
      "source": [
        "#### In-place addition using add_()"
      ]
    },
    {
      "cell_type": "code",
      "execution_count": 77,
      "metadata": {
        "id": "VX_ixQdwyPm7",
        "outputId": "73b8c6f6-5936-4f00-e923-45f3b6e012e2",
        "colab": {
          "base_uri": "https://localhost:8080/"
        }
      },
      "outputs": [
        {
          "output_type": "execute_result",
          "data": {
            "text/plain": [
              "tensor([[2.1419, 0.9160, 0.2362],\n",
              "        [1.3096, 3.8895, 0.3770]])"
            ]
          },
          "metadata": {},
          "execution_count": 77
        }
      ],
      "source": [
        "rand1.add_(rand2)\n",
        "rand1"
      ]
    },
    {
      "cell_type": "markdown",
      "metadata": {
        "id": "0ZTC34myyPm8"
      },
      "source": [
        "#### Adding a scalar value to all tensor elements\n",
        "Using the plus sign"
      ]
    },
    {
      "cell_type": "code",
      "execution_count": 78,
      "metadata": {
        "id": "vCcFEkXryPm8",
        "outputId": "b2a8181e-671a-49d1-c6e7-6c7d11fc7b4b",
        "colab": {
          "base_uri": "https://localhost:8080/"
        }
      },
      "outputs": [
        {
          "output_type": "execute_result",
          "data": {
            "text/plain": [
              "tensor([[12.1419, 10.9160, 10.2362],\n",
              "        [11.3096, 13.8895, 10.3770]])"
            ]
          },
          "metadata": {},
          "execution_count": 78
        }
      ],
      "source": [
        "add_scalar_plus = rand1 + 10\n",
        "add_scalar_plus"
      ]
    },
    {
      "cell_type": "markdown",
      "metadata": {
        "id": "ADaobsM-yPm8"
      },
      "source": [
        "Using the add() function"
      ]
    },
    {
      "cell_type": "code",
      "execution_count": 79,
      "metadata": {
        "id": "zEZMSFASyPm8",
        "outputId": "35730ae2-2ef7-4ae7-c5f5-51c14b133bac",
        "colab": {
          "base_uri": "https://localhost:8080/"
        }
      },
      "outputs": [
        {
          "output_type": "execute_result",
          "data": {
            "text/plain": [
              "tensor([[12.1419, 10.9160, 10.2362],\n",
              "        [11.3096, 13.8895, 10.3770]])"
            ]
          },
          "metadata": {},
          "execution_count": 79
        }
      ],
      "source": [
        "add_scalar = torch.add(rand1, 10)\n",
        "add_scalar"
      ]
    },
    {
      "cell_type": "code",
      "execution_count": 79,
      "metadata": {
        "collapsed": true,
        "id": "qWgbGrxsyPm8"
      },
      "outputs": [],
      "source": []
    },
    {
      "cell_type": "code",
      "execution_count": 80,
      "metadata": {
        "collapsed": true,
        "id": "Q_iqJRG1yPm8"
      },
      "outputs": [],
      "source": [
        "tensor = torch.Tensor([[-1, 0.3, 2],\n",
        "                      [-4, 5, -0.4]\n",
        "                     ])"
      ]
    },
    {
      "cell_type": "markdown",
      "metadata": {
        "id": "d0EiNRBeyPm9"
      },
      "source": [
        "#### Element-wise division\n",
        "The div() and mul() functions can be used to divide and multiply the values in a tensor. Here, we do an element-wise division between two tensors"
      ]
    },
    {
      "cell_type": "code",
      "execution_count": 81,
      "metadata": {
        "id": "TIn2t-UryPm9",
        "outputId": "eb442ee8-1b21-4a45-f10a-c9257ce18ca1",
        "colab": {
          "base_uri": "https://localhost:8080/"
        }
      },
      "outputs": [
        {
          "output_type": "execute_result",
          "data": {
            "text/plain": [
              "tensor([[1.4286, 0.5000, 0.8696],\n",
              "        [1.0811, 0.9434, 4.0000]])"
            ]
          },
          "metadata": {},
          "execution_count": 81
        }
      ],
      "source": [
        "tensor_div = torch.div(tensor, tensor + 0.3)\n",
        "tensor_div"
      ]
    },
    {
      "cell_type": "markdown",
      "metadata": {
        "id": "91r58tDSyPm9"
      },
      "source": [
        "#### Element-wise multiplicaton"
      ]
    },
    {
      "cell_type": "code",
      "execution_count": 82,
      "metadata": {
        "id": "OXglYRnSyPm9",
        "outputId": "abc803d0-c4ab-425d-c88b-2ec9a3a44550",
        "colab": {
          "base_uri": "https://localhost:8080/"
        }
      },
      "outputs": [
        {
          "output_type": "execute_result",
          "data": {
            "text/plain": [
              "tensor([[ 1.0000,  0.0900,  4.0000],\n",
              "        [16.0000, 25.0000,  0.1600]])"
            ]
          },
          "metadata": {},
          "execution_count": 82
        }
      ],
      "source": [
        "tensor_mul = torch.mul(tensor, tensor)\n",
        "tensor_mul"
      ]
    },
    {
      "cell_type": "markdown",
      "metadata": {
        "id": "srF4CvtcyPm9"
      },
      "source": [
        "#### Multiplying with a scalar\n",
        "Both mul() and div() can be used with a scalar to perform a div() or mul() of all elements with a scalar quantity"
      ]
    },
    {
      "cell_type": "code",
      "execution_count": 83,
      "metadata": {
        "id": "nGlVIvRlyPm9",
        "outputId": "a8a075f0-0eeb-4816-84b9-60ea8c290397",
        "colab": {
          "base_uri": "https://localhost:8080/"
        }
      },
      "outputs": [
        {
          "output_type": "execute_result",
          "data": {
            "text/plain": [
              "tensor([[-10.,   3.,  20.],\n",
              "        [-40.,  50.,  -4.]])"
            ]
          },
          "metadata": {},
          "execution_count": 83
        }
      ],
      "source": [
        "tensor_mul = torch.mul(tensor, 10)\n",
        "tensor_mul"
      ]
    },
    {
      "cell_type": "markdown",
      "metadata": {
        "id": "FUiZagwcyPm-"
      },
      "source": [
        "#### Clamp the value of a Tensor\n",
        "There will be occasions where you would like to set upper and lower limits for the values in a tensor. This is where the clamp function is used. The value of an element is set to:\n",
        "* min if if x<sub>i</sub> < min\n",
        "* x<sub>i</sub> if min < x<sub>i</sub> < max\n",
        "* max if x<sub>i</sub> > max"
      ]
    },
    {
      "cell_type": "code",
      "execution_count": 84,
      "metadata": {
        "id": "ldlCFKs3yPm-",
        "outputId": "53852217-9f32-48e3-9ec4-db61cf8993a1",
        "colab": {
          "base_uri": "https://localhost:8080/"
        }
      },
      "outputs": [
        {
          "output_type": "execute_result",
          "data": {
            "text/plain": [
              "tensor([[-0.5000,  0.3000,  0.5000],\n",
              "        [-0.5000,  0.5000, -0.4000]])"
            ]
          },
          "metadata": {},
          "execution_count": 84
        }
      ],
      "source": [
        "tensor_clamp = torch.clamp(tensor, min=-0.5, max=0.5)\n",
        "tensor_clamp"
      ]
    },
    {
      "cell_type": "markdown",
      "metadata": {
        "id": "AkfKl1YwyPm-"
      },
      "source": [
        "#### Transpose with t()"
      ]
    },
    {
      "cell_type": "code",
      "execution_count": null,
      "metadata": {
        "id": "VyFzqyatyPm-"
      },
      "outputs": [],
      "source": [
        "transposed_tensor = tensor.t()\n",
        "transposed_tensor"
      ]
    },
    {
      "cell_type": "code",
      "execution_count": null,
      "metadata": {
        "collapsed": true,
        "id": "qL3Lrl-UyPm-"
      },
      "outputs": [],
      "source": []
    },
    {
      "cell_type": "markdown",
      "metadata": {
        "id": "OUbiRinwyPm-"
      },
      "source": [
        "## Vector Multiplication"
      ]
    },
    {
      "cell_type": "markdown",
      "metadata": {
        "id": "rIPqrY-2yPm_"
      },
      "source": [
        "#### Dot product"
      ]
    },
    {
      "cell_type": "code",
      "execution_count": 85,
      "metadata": {
        "collapsed": true,
        "id": "GUFEq0HcyPm_"
      },
      "outputs": [],
      "source": [
        "t1 = torch.Tensor([4, 2])\n",
        "t2 = torch.Tensor([3, 1])"
      ]
    },
    {
      "cell_type": "code",
      "execution_count": 86,
      "metadata": {
        "id": "0TVqPaayyPm_",
        "outputId": "19276ca5-dea1-424d-cbcc-53deffa13913",
        "colab": {
          "base_uri": "https://localhost:8080/"
        }
      },
      "outputs": [
        {
          "output_type": "execute_result",
          "data": {
            "text/plain": [
              "tensor(14.)"
            ]
          },
          "metadata": {},
          "execution_count": 86
        }
      ],
      "source": [
        "dot_product = torch.dot(t1, t2)\n",
        "dot_product"
      ]
    },
    {
      "cell_type": "markdown",
      "metadata": {
        "id": "Ch3byFa4yPm_"
      },
      "source": [
        "#### Matrix Vector product\n",
        "If mat is a (n×m) tensor, vec is a 1-D tensor of size m, out will be 1-D of size n."
      ]
    },
    {
      "cell_type": "code",
      "execution_count": 87,
      "metadata": {
        "id": "mw-rAF7myPm_"
      },
      "outputs": [],
      "source": [
        "matrix = torch.Tensor([[2, 5, 3],\n",
        "                   [4, 1, 0]\n",
        "                  ])\n",
        "\n",
        "vector = torch.Tensor([3, 5, 0])"
      ]
    },
    {
      "cell_type": "code",
      "execution_count": 88,
      "metadata": {
        "id": "4rlqOy3OyPm_",
        "outputId": "8d706f95-022c-4bb4-d764-148e7d5429f0",
        "colab": {
          "base_uri": "https://localhost:8080/"
        }
      },
      "outputs": [
        {
          "output_type": "execute_result",
          "data": {
            "text/plain": [
              "tensor([31., 17.])"
            ]
          },
          "metadata": {},
          "execution_count": 88
        }
      ],
      "source": [
        "matrix_vector = torch.mv(matrix, vector)\n",
        "matrix_vector"
      ]
    },
    {
      "cell_type": "markdown",
      "metadata": {
        "id": "p-5es43kyPm_"
      },
      "source": [
        "#### Matrix multiplication"
      ]
    },
    {
      "cell_type": "code",
      "execution_count": 89,
      "metadata": {
        "collapsed": true,
        "id": "ykoAuKZSyPnA"
      },
      "outputs": [],
      "source": [
        "another_matrix = torch.Tensor([[1, 3],\n",
        "                               [2, 0],\n",
        "                               [0, 5]\n",
        "                              ])"
      ]
    },
    {
      "cell_type": "code",
      "execution_count": 90,
      "metadata": {
        "id": "Iaiy2ttdyPnA",
        "outputId": "a06b92af-6fe3-4406-8e19-a3e69a254d67",
        "colab": {
          "base_uri": "https://localhost:8080/"
        }
      },
      "outputs": [
        {
          "output_type": "execute_result",
          "data": {
            "text/plain": [
              "tensor([[12., 21.],\n",
              "        [ 6., 12.]])"
            ]
          },
          "metadata": {},
          "execution_count": 90
        }
      ],
      "source": [
        "matrix_mul = torch.mm(matrix, another_matrix)\n",
        "matrix_mul"
      ]
    },
    {
      "cell_type": "code",
      "execution_count": null,
      "metadata": {
        "collapsed": true,
        "id": "mnw1XQnQyPnA"
      },
      "outputs": [],
      "source": []
    },
    {
      "cell_type": "code",
      "execution_count": null,
      "metadata": {
        "collapsed": true,
        "id": "RwxDHIHpyPnA"
      },
      "outputs": [],
      "source": []
    },
    {
      "cell_type": "code",
      "execution_count": null,
      "metadata": {
        "collapsed": true,
        "id": "6Njc_4R_yPnA"
      },
      "outputs": [],
      "source": []
    }
  ],
  "metadata": {
    "kernelspec": {
      "display_name": "Python 3",
      "language": "python",
      "name": "python3"
    },
    "language_info": {
      "codemirror_mode": {
        "name": "ipython",
        "version": 3
      },
      "file_extension": ".py",
      "mimetype": "text/x-python",
      "name": "python",
      "nbconvert_exporter": "python",
      "pygments_lexer": "ipython3",
      "version": "3.6.4"
    },
    "colab": {
      "provenance": [],
      "include_colab_link": true
    }
  },
  "nbformat": 4,
  "nbformat_minor": 0
}