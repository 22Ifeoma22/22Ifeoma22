{
  "cells": [
    {
      "cell_type": "markdown",
      "metadata": {
        "id": "view-in-github",
        "colab_type": "text"
      },
      "source": [
        "<a href=\"https://colab.research.google.com/github/22Ifeoma22/22Ifeoma22/blob/main/05_GradientTape.ipynb\" target=\"_parent\"><img src=\"https://colab.research.google.com/assets/colab-badge.svg\" alt=\"Open In Colab\"/></a>"
      ]
    },
    {
      "cell_type": "markdown",
      "metadata": {
        "id": "RAcQbi0kLQj2"
      },
      "source": [
        "https://www.tensorflow.org/guide/autodiff"
      ]
    },
    {
      "cell_type": "code",
      "execution_count": 1,
      "metadata": {
        "id": "g8AS_96QLQj3"
      },
      "outputs": [],
      "source": [
        "import numpy as np\n",
        "import matplotlib.pyplot as plt\n",
        "\n",
        "import tensorflow as tf"
      ]
    },
    {
      "cell_type": "markdown",
      "metadata": {
        "id": "chKi0NAoLQj4"
      },
      "source": [
        "### Computing gradients\n",
        "\n",
        "To differentiate automatically, TensorFlow needs to remember what operations happen in what order during the forward pass. Then, during the backward pass, TensorFlow traverses this list of operations in reverse order to compute gradients."
      ]
    },
    {
      "cell_type": "code",
      "execution_count": 2,
      "metadata": {
        "id": "STDIVXGGLQj4"
      },
      "outputs": [],
      "source": [
        "x = tf.Variable(4.0)\n",
        "\n",
        "with tf.GradientTape() as tape:\n",
        "    y = x**2"
      ]
    },
    {
      "cell_type": "code",
      "execution_count": 3,
      "metadata": {
        "colab": {
          "base_uri": "https://localhost:8080/"
        },
        "id": "MXTiIPOCLQj4",
        "outputId": "6bd08ae5-66d0-4701-8356-5719b1a4352e"
      },
      "outputs": [
        {
          "output_type": "execute_result",
          "data": {
            "text/plain": [
              "<tf.Tensor: shape=(), dtype=float32, numpy=16.0>"
            ]
          },
          "metadata": {},
          "execution_count": 3
        }
      ],
      "source": [
        "y"
      ]
    },
    {
      "cell_type": "code",
      "execution_count": 4,
      "metadata": {
        "colab": {
          "base_uri": "https://localhost:8080/"
        },
        "id": "gfAsKcVVLQj5",
        "outputId": "65acd574-aa04-4f8c-d757-a376b0746892"
      },
      "outputs": [
        {
          "output_type": "execute_result",
          "data": {
            "text/plain": [
              "<tf.Tensor: shape=(), dtype=float32, numpy=8.0>"
            ]
          },
          "metadata": {},
          "execution_count": 4
        }
      ],
      "source": [
        "dy_dx = tape.gradient(y, x)\n",
        "\n",
        "dy_dx"
      ]
    },
    {
      "cell_type": "code",
      "execution_count": 5,
      "metadata": {
        "colab": {
          "base_uri": "https://localhost:8080/"
        },
        "id": "pZ40d6OQLQj5",
        "outputId": "8ea780f1-ed48-4754-cc7f-730112fe60ed"
      },
      "outputs": [
        {
          "output_type": "execute_result",
          "data": {
            "text/plain": [
              "<tf.Variable 'Variable:0' shape=(4, 2) dtype=float32, numpy=\n",
              "array([[ 1.6781247 ,  1.1388843 ],\n",
              "       [ 0.22586143, -2.206287  ],\n",
              "       [-0.32982063,  1.4358617 ],\n",
              "       [-0.37560588,  1.3389487 ]], dtype=float32)>"
            ]
          },
          "metadata": {},
          "execution_count": 5
        }
      ],
      "source": [
        "w = tf.Variable(tf.random.normal((4, 2)))\n",
        "\n",
        "w"
      ]
    },
    {
      "cell_type": "code",
      "execution_count": 6,
      "metadata": {
        "colab": {
          "base_uri": "https://localhost:8080/"
        },
        "id": "U9X1IS7wLQj5",
        "outputId": "4dc4b75c-5a67-4f24-8988-d4b5139092bd"
      },
      "outputs": [
        {
          "output_type": "execute_result",
          "data": {
            "text/plain": [
              "<tf.Variable 'Variable:0' shape=(2,) dtype=float32, numpy=array([1., 1.], dtype=float32)>"
            ]
          },
          "metadata": {},
          "execution_count": 6
        }
      ],
      "source": [
        "b = tf.Variable(tf.ones(2, dtype=tf.float32))\n",
        "\n",
        "b"
      ]
    },
    {
      "cell_type": "code",
      "execution_count": 7,
      "metadata": {
        "colab": {
          "base_uri": "https://localhost:8080/"
        },
        "id": "s3Nvx5wMLQj6",
        "outputId": "2a330a4c-0e3b-42d5-ca99-0396a1e7a7db"
      },
      "outputs": [
        {
          "output_type": "execute_result",
          "data": {
            "text/plain": [
              "<tf.Variable 'Variable:0' shape=(1, 4) dtype=float32, numpy=array([[10., 20., 30., 40.]], dtype=float32)>"
            ]
          },
          "metadata": {},
          "execution_count": 7
        }
      ],
      "source": [
        "x = tf.Variable([[10., 20., 30., 40.]], dtype=tf.float32)\n",
        "\n",
        "x"
      ]
    },
    {
      "cell_type": "code",
      "execution_count": 10,
      "metadata": {
        "id": "zNCYYH9BLQj6"
      },
      "outputs": [],
      "source": [
        "with tf.GradientTape(persistent=True) as tape:\n",
        "    y = tf.matmul(x, w) + b\n",
        "\n",
        "    loss = tf.reduce_mean(y**2)"
      ]
    },
    {
      "cell_type": "code",
      "execution_count": 11,
      "metadata": {
        "id": "r4FDQTyGLQj6"
      },
      "outputs": [],
      "source": [
        "[dl_dw, dl_db] = tape.gradient(loss, [w, b])"
      ]
    },
    {
      "cell_type": "markdown",
      "metadata": {
        "id": "kSaWZxrBLQj6"
      },
      "source": [
        "The gradient with respect to each source has the shape of the source"
      ]
    },
    {
      "cell_type": "code",
      "execution_count": 12,
      "metadata": {
        "colab": {
          "base_uri": "https://localhost:8080/"
        },
        "id": "qas4mfCVLQj6",
        "outputId": "06839a98-0ea8-4fda-b286-8ae548757551"
      },
      "outputs": [
        {
          "output_type": "execute_result",
          "data": {
            "text/plain": [
              "<tf.Tensor: shape=(4, 2), dtype=float32, numpy=\n",
              "array([[ -26.203785,  648.96906 ],\n",
              "       [ -52.40757 , 1297.9381  ],\n",
              "       [ -78.61136 , 1946.9071  ],\n",
              "       [-104.81514 , 2595.8762  ]], dtype=float32)>"
            ]
          },
          "metadata": {},
          "execution_count": 12
        }
      ],
      "source": [
        "dl_dw"
      ]
    },
    {
      "cell_type": "code",
      "execution_count": 13,
      "metadata": {
        "colab": {
          "base_uri": "https://localhost:8080/"
        },
        "id": "osDnWpeiLQj7",
        "outputId": "4d2522a7-eb62-4f5e-aaf4-37d91f99e3c2"
      },
      "outputs": [
        {
          "output_type": "execute_result",
          "data": {
            "text/plain": [
              "<tf.Tensor: shape=(2,), dtype=float32, numpy=array([-2.6203785, 64.896904 ], dtype=float32)>"
            ]
          },
          "metadata": {},
          "execution_count": 13
        }
      ],
      "source": [
        "dl_db"
      ]
    },
    {
      "cell_type": "code",
      "execution_count": 24,
      "metadata": {
        "id": "JVvd-htDLQj7"
      },
      "outputs": [],
      "source": [
        "layer = tf.keras.layers.Dense(2, activation='relu')\n",
        "\n",
        "x = tf.constant([[10., 20., 30.]])"
      ]
    },
    {
      "cell_type": "code",
      "execution_count": 15,
      "metadata": {
        "id": "JDSiapGFLQj7"
      },
      "outputs": [],
      "source": [
        "with tf.GradientTape() as tape:\n",
        "    y = layer(x)\n",
        "\n",
        "    loss = tf.reduce_sum(y**2)\n",
        "\n",
        "grad = tape.gradient(loss, layer.trainable_variables)"
      ]
    },
    {
      "cell_type": "code",
      "execution_count": 16,
      "metadata": {
        "colab": {
          "base_uri": "https://localhost:8080/"
        },
        "id": "FmaTsEyKLQj7",
        "outputId": "cc6751b5-8823-4cfe-c54c-0af3629ccdde"
      },
      "outputs": [
        {
          "output_type": "execute_result",
          "data": {
            "text/plain": [
              "[<tf.Tensor: shape=(3, 2), dtype=float32, numpy=\n",
              " array([[ 601.47205,    0.     ],\n",
              "        [1202.9441 ,    0.     ],\n",
              "        [1804.4161 ,    0.     ]], dtype=float32)>,\n",
              " <tf.Tensor: shape=(2,), dtype=float32, numpy=array([60.147205,  0.      ], dtype=float32)>]"
            ]
          },
          "metadata": {},
          "execution_count": 16
        }
      ],
      "source": [
        "grad"
      ]
    },
    {
      "cell_type": "code",
      "execution_count": 17,
      "metadata": {
        "colab": {
          "base_uri": "https://localhost:8080/"
        },
        "id": "IsBCxUriLQj7",
        "outputId": "dc161d3d-d11a-4841-94c3-e3600b87621c"
      },
      "outputs": [
        {
          "output_type": "stream",
          "name": "stdout",
          "text": [
            "dense/kernel:0, shape: (3, 2)\n",
            "dense/bias:0, shape: (2,)\n"
          ]
        }
      ],
      "source": [
        "for var, g in zip(layer.trainable_variables, grad):\n",
        "    print(f'{var.name}, shape: {g.shape}')"
      ]
    },
    {
      "cell_type": "markdown",
      "metadata": {
        "id": "Hfv_sOReLQj7"
      },
      "source": [
        "### Gradients are calculated only with respect to trainable variables"
      ]
    },
    {
      "cell_type": "markdown",
      "metadata": {
        "id": "zlQkcrEeLQj7"
      },
      "source": [
        "Trainable variable, the value associated with this will be updated during the training process"
      ]
    },
    {
      "cell_type": "code",
      "execution_count": 25,
      "metadata": {
        "colab": {
          "base_uri": "https://localhost:8080/"
        },
        "id": "3SSNEmcmLQj8",
        "outputId": "6ca26880-d29d-4ddf-f0b4-f1c9b3cbad63"
      },
      "outputs": [
        {
          "output_type": "execute_result",
          "data": {
            "text/plain": [
              "<tf.Variable 'Variable:0' shape=() dtype=float32, numpy=5.0>"
            ]
          },
          "metadata": {},
          "execution_count": 25
        }
      ],
      "source": [
        "x1 = tf.Variable(5.0)\n",
        "\n",
        "x1"
      ]
    },
    {
      "cell_type": "markdown",
      "metadata": {
        "id": "dHL23gQYLQj8"
      },
      "source": [
        "Trainable has been explicitly set to false"
      ]
    },
    {
      "cell_type": "code",
      "execution_count": 26,
      "metadata": {
        "colab": {
          "base_uri": "https://localhost:8080/"
        },
        "id": "EUe39EATLQj8",
        "outputId": "70f68ef6-7baf-46af-bbac-936aaae8663d"
      },
      "outputs": [
        {
          "output_type": "execute_result",
          "data": {
            "text/plain": [
              "<tf.Variable 'Variable:0' shape=() dtype=float32, numpy=5.0>"
            ]
          },
          "metadata": {},
          "execution_count": 26
        }
      ],
      "source": [
        "x2 = tf.Variable(5.0, trainable=False)\n",
        "\n",
        "x2"
      ]
    },
    {
      "cell_type": "markdown",
      "metadata": {
        "id": "47QLox24LQj8"
      },
      "source": [
        "Tensor, not a variable. Gradients are not calculated on Tensors"
      ]
    },
    {
      "cell_type": "code",
      "execution_count": 27,
      "metadata": {
        "colab": {
          "base_uri": "https://localhost:8080/"
        },
        "id": "aYy35F2cLQj8",
        "outputId": "67d439b0-fd02-4cd4-abef-a9817608d4ab"
      },
      "outputs": [
        {
          "output_type": "execute_result",
          "data": {
            "text/plain": [
              "<tf.Tensor: shape=(), dtype=float32, numpy=10.0>"
            ]
          },
          "metadata": {},
          "execution_count": 27
        }
      ],
      "source": [
        "x3 = tf.add(x1, x2)\n",
        "\n",
        "x3"
      ]
    },
    {
      "cell_type": "code",
      "execution_count": 28,
      "metadata": {
        "colab": {
          "base_uri": "https://localhost:8080/"
        },
        "id": "FZfibYk_LQj8",
        "outputId": "3dc6c72d-7a53-4aae-8bff-38dab78139ea"
      },
      "outputs": [
        {
          "output_type": "execute_result",
          "data": {
            "text/plain": [
              "<tf.Tensor: shape=(), dtype=float32, numpy=5.0>"
            ]
          },
          "metadata": {},
          "execution_count": 28
        }
      ],
      "source": [
        "x4 = tf.constant(5.0)\n",
        "\n",
        "x4"
      ]
    },
    {
      "cell_type": "code",
      "execution_count": 29,
      "metadata": {
        "colab": {
          "base_uri": "https://localhost:8080/"
        },
        "id": "COZ0HO1iLQj8",
        "outputId": "eb49e72d-f5d4-4896-dcb6-0febd1eff3f2"
      },
      "outputs": [
        {
          "output_type": "execute_result",
          "data": {
            "text/plain": [
              "[<tf.Tensor: shape=(), dtype=float32, numpy=10.0>, None, None, None]"
            ]
          },
          "metadata": {},
          "execution_count": 29
        }
      ],
      "source": [
        "with tf.GradientTape() as tape:\n",
        "    y = (x1**2) + (x2**2) + (x3**2) + (x4**2)\n",
        "\n",
        "grad = tape.gradient(y, [x1, x2, x3, x4])\n",
        "\n",
        "grad"
      ]
    },
    {
      "cell_type": "markdown",
      "metadata": {
        "id": "HSTLLid3LQj8"
      },
      "source": [
        "### Watch constants to calculate gradients with respect to them\n",
        "\n",
        "tf.GradientTape provides hooks that give the user control over what is or is not watched. To record gradients with respect to a tf.Tensor, you need to call GradientTape.watch(x)"
      ]
    },
    {
      "cell_type": "code",
      "execution_count": 30,
      "metadata": {
        "id": "_EreJLUHLQj9"
      },
      "outputs": [],
      "source": [
        "x1 = tf.constant(5.0)\n",
        "\n",
        "x2 = tf.Variable(3.0)"
      ]
    },
    {
      "cell_type": "code",
      "execution_count": 31,
      "metadata": {
        "id": "NKTlnMw9LQj9"
      },
      "outputs": [],
      "source": [
        "with tf.GradientTape() as tape:\n",
        "    tape.watch(x1)\n",
        "\n",
        "    y = (x1**2) + (x2**2)"
      ]
    },
    {
      "cell_type": "code",
      "execution_count": 32,
      "metadata": {
        "colab": {
          "base_uri": "https://localhost:8080/"
        },
        "id": "4_8b-nq7LQj9",
        "outputId": "501f6be9-aec6-4316-bf40-f917ccf12da2"
      },
      "outputs": [
        {
          "output_type": "execute_result",
          "data": {
            "text/plain": [
              "(<tf.Tensor: shape=(), dtype=float32, numpy=10.0>,\n",
              " <tf.Tensor: shape=(), dtype=float32, numpy=6.0>)"
            ]
          },
          "metadata": {},
          "execution_count": 32
        }
      ],
      "source": [
        "[dy_dx1, dy_dx2] = tape.gradient(y, [x1, x2])\n",
        "\n",
        "dy_dx1, dy_dx2"
      ]
    },
    {
      "cell_type": "code",
      "execution_count": 33,
      "metadata": {
        "id": "MhC4HtVyLQj9"
      },
      "outputs": [],
      "source": [
        "with tf.GradientTape(watch_accessed_variables=False) as tape:\n",
        "    tape.watch(x1)\n",
        "\n",
        "    y = (x1**2) + (x2**2)"
      ]
    },
    {
      "cell_type": "code",
      "execution_count": 34,
      "metadata": {
        "colab": {
          "base_uri": "https://localhost:8080/"
        },
        "id": "5pVO-49TLQj9",
        "outputId": "c55b8e44-c1b3-4870-f308-b352b4b6fe7a"
      },
      "outputs": [
        {
          "output_type": "execute_result",
          "data": {
            "text/plain": [
              "(<tf.Tensor: shape=(), dtype=float32, numpy=10.0>, None)"
            ]
          },
          "metadata": {},
          "execution_count": 34
        }
      ],
      "source": [
        "[dy_dx1, dy_dx2] = tape.gradient(y, [x1, x2])\n",
        "\n",
        "dy_dx1, dy_dx2"
      ]
    },
    {
      "cell_type": "markdown",
      "metadata": {
        "id": "qZby3TWsLQj9"
      },
      "source": [
        "### Gradient tape records operations as they occur\n",
        "\n",
        "Conditionals are naturally handled. The gradient only connects to the variable that was used."
      ]
    },
    {
      "cell_type": "code",
      "execution_count": 35,
      "metadata": {
        "id": "zbR718vVLQj9"
      },
      "outputs": [],
      "source": [
        "x = tf.constant(1.0)\n",
        "x1 = tf.Variable(5.0)\n",
        "x2 = tf.Variable(3.0)"
      ]
    },
    {
      "cell_type": "code",
      "execution_count": 36,
      "metadata": {
        "colab": {
          "base_uri": "https://localhost:8080/"
        },
        "id": "LiiKpIPyLQj-",
        "outputId": "9780b64c-e9c7-44d9-8513-152d785d23f6"
      },
      "outputs": [
        {
          "output_type": "execute_result",
          "data": {
            "text/plain": [
              "(<tf.Tensor: shape=(), dtype=float32, numpy=10.0>, None)"
            ]
          },
          "metadata": {},
          "execution_count": 36
        }
      ],
      "source": [
        "with tf.GradientTape(persistent=True) as tape:\n",
        "    tape.watch(x)\n",
        "\n",
        "    if x > 0.0:\n",
        "        result = x1**2\n",
        "    else:\n",
        "        result = x2**2\n",
        "\n",
        "dx1, dx2 = tape.gradient(result, [x1, x2])\n",
        "\n",
        "dx1, dx2"
      ]
    },
    {
      "cell_type": "code",
      "execution_count": 37,
      "metadata": {
        "id": "YBFqntrzLQj-"
      },
      "outputs": [],
      "source": [
        "x = tf.constant(-1.0)\n",
        "x1 = tf.Variable(5.0)\n",
        "x2 = tf.Variable(3.0)"
      ]
    },
    {
      "cell_type": "code",
      "execution_count": 38,
      "metadata": {
        "colab": {
          "base_uri": "https://localhost:8080/"
        },
        "id": "ERegGzvBLQj-",
        "outputId": "c5eb75d5-f7a1-483c-bfdd-53813eb32cca"
      },
      "outputs": [
        {
          "output_type": "execute_result",
          "data": {
            "text/plain": [
              "(None, <tf.Tensor: shape=(), dtype=float32, numpy=6.0>)"
            ]
          },
          "metadata": {},
          "execution_count": 38
        }
      ],
      "source": [
        "with tf.GradientTape(persistent=True) as tape:\n",
        "    tape.watch(x)\n",
        "\n",
        "    if x > 0.0:\n",
        "        result = x1**2\n",
        "    else:\n",
        "        result = x2**2\n",
        "\n",
        "dx1, dx2 = tape.gradient(result, [x1, x2])\n",
        "\n",
        "dx1, dx2"
      ]
    },
    {
      "cell_type": "code",
      "execution_count": 39,
      "metadata": {
        "colab": {
          "base_uri": "https://localhost:8080/"
        },
        "id": "g34xF5WoLQj-",
        "outputId": "09a944c4-a4d6-4521-a6b0-bb68468c6235"
      },
      "outputs": [
        {
          "output_type": "stream",
          "name": "stdout",
          "text": [
            "None\n"
          ]
        }
      ],
      "source": [
        "x = tf.Variable(2.)\n",
        "y = tf.Variable(3.)\n",
        "\n",
        "with tf.GradientTape() as tape:\n",
        "    z = y * y\n",
        "\n",
        "    dy_dx = tape.gradient(z, x)\n",
        "\n",
        "print(dy_dx)"
      ]
    },
    {
      "cell_type": "code",
      "execution_count": null,
      "metadata": {
        "id": "XmVWg_HELQj_"
      },
      "outputs": [],
      "source": []
    },
    {
      "cell_type": "code",
      "execution_count": null,
      "metadata": {
        "id": "TB-OfqL7LQj_"
      },
      "outputs": [],
      "source": []
    }
  ],
  "metadata": {
    "kernelspec": {
      "display_name": "Python 3",
      "language": "python",
      "name": "python3"
    },
    "language_info": {
      "codemirror_mode": {
        "name": "ipython",
        "version": 3
      },
      "file_extension": ".py",
      "mimetype": "text/x-python",
      "name": "python",
      "nbconvert_exporter": "python",
      "pygments_lexer": "ipython3",
      "version": "3.7.4"
    },
    "colab": {
      "provenance": [],
      "include_colab_link": true
    }
  },
  "nbformat": 4,
  "nbformat_minor": 0
}