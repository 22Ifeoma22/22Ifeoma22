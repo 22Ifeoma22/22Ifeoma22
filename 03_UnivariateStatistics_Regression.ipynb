{
  "cells": [
    {
      "cell_type": "markdown",
      "metadata": {
        "id": "view-in-github",
        "colab_type": "text"
      },
      "source": [
        "<a href=\"https://colab.research.google.com/github/22Ifeoma22/22Ifeoma22/blob/main/03_UnivariateStatistics_Regression.ipynb\" target=\"_parent\"><img src=\"https://colab.research.google.com/assets/colab-badge.svg\" alt=\"Open In Colab\"/></a>"
      ]
    },
    {
      "cell_type": "markdown",
      "metadata": {
        "id": "Q97MRxmWMq4H"
      },
      "source": [
        "## Using statistical tests to select features for building a linear regression model\n",
        "\n",
        "* Statistical tests can be used to select those features that have the strongest relationship with the output variable.\n",
        "\n",
        "* It can be seen as a preprocessing step to an estimator."
      ]
    },
    {
      "cell_type": "code",
      "execution_count": 3,
      "metadata": {
        "id": "TCgYLZqoMq4I"
      },
      "outputs": [],
      "source": [
        "import pandas as pd\n",
        "import pylab\n",
        "import matplotlib.pyplot as plt\n",
        "\n",
        "import statsmodels.api as sm\n",
        "\n",
        "from sklearn.linear_model import LinearRegression\n",
        "\n",
        "from sklearn.model_selection import train_test_split\n",
        "from sklearn.metrics import r2_score"
      ]
    },
    {
      "cell_type": "markdown",
      "metadata": {
        "id": "0w3z8ZF4Mq4I"
      },
      "source": [
        "### Load and preprocess Data"
      ]
    },
    {
      "cell_type": "code",
      "execution_count": 4,
      "metadata": {
        "id": "4dFcYKvuMq4I"
      },
      "outputs": [],
      "source": [
        "housesale_df = pd.read_csv(\"/content/sample_data/housesale.csv\", dtype = 'float')"
      ]
    },
    {
      "cell_type": "code",
      "execution_count": 5,
      "metadata": {
        "colab": {
          "base_uri": "https://localhost:8080/"
        },
        "id": "Q3gpXUZnMq4I",
        "outputId": "aa255622-9d2c-4218-faa6-2b8098dfae30"
      },
      "outputs": [
        {
          "output_type": "execute_result",
          "data": {
            "text/plain": [
              "(21597, 18)"
            ]
          },
          "metadata": {},
          "execution_count": 5
        }
      ],
      "source": [
        "housesale_df.shape"
      ]
    },
    {
      "cell_type": "code",
      "execution_count": 6,
      "metadata": {
        "scrolled": true,
        "colab": {
          "base_uri": "https://localhost:8080/",
          "height": 226
        },
        "id": "tBvBpfb-Mq4I",
        "outputId": "8b29df4c-aa03-4cd1-bb0f-87d47d9a9ddd"
      },
      "outputs": [
        {
          "output_type": "execute_result",
          "data": {
            "text/plain": [
              "      price  bedrooms  bathrooms  sqft_living  sqft_lot  floors  waterfront  \\\n",
              "0  221900.0       3.0       1.00       1180.0    5650.0     1.0         0.0   \n",
              "1  538000.0       3.0       2.25       2570.0    7242.0     2.0         0.0   \n",
              "2  180000.0       2.0       1.00        770.0   10000.0     1.0         0.0   \n",
              "3  604000.0       4.0       3.00       1960.0    5000.0     1.0         0.0   \n",
              "4  510000.0       3.0       2.00       1680.0    8080.0     1.0         0.0   \n",
              "\n",
              "   view  condition  grade  sqft_above  sqft_basement      lat     long  \\\n",
              "0   0.0        3.0    7.0      1180.0            0.0  47.5112 -122.257   \n",
              "1   0.0        3.0    7.0      2170.0          400.0  47.7210 -122.319   \n",
              "2   0.0        3.0    6.0       770.0            0.0  47.7379 -122.233   \n",
              "3   0.0        5.0    7.0      1050.0          910.0  47.5208 -122.393   \n",
              "4   0.0        3.0    8.0      1680.0            0.0  47.6168 -122.045   \n",
              "\n",
              "   sqft_living15  sqft_lot15   age  renovated  \n",
              "0         1340.0      5650.0  63.0        0.0  \n",
              "1         1690.0      7639.0  67.0        1.0  \n",
              "2         2720.0      8062.0  85.0        0.0  \n",
              "3         1360.0      5000.0  53.0        0.0  \n",
              "4         1800.0      7503.0  31.0        0.0  "
            ],
            "text/html": [
              "\n",
              "  <div id=\"df-ce8ed65c-bd70-4046-ae8e-e930c61f73f7\" class=\"colab-df-container\">\n",
              "    <div>\n",
              "<style scoped>\n",
              "    .dataframe tbody tr th:only-of-type {\n",
              "        vertical-align: middle;\n",
              "    }\n",
              "\n",
              "    .dataframe tbody tr th {\n",
              "        vertical-align: top;\n",
              "    }\n",
              "\n",
              "    .dataframe thead th {\n",
              "        text-align: right;\n",
              "    }\n",
              "</style>\n",
              "<table border=\"1\" class=\"dataframe\">\n",
              "  <thead>\n",
              "    <tr style=\"text-align: right;\">\n",
              "      <th></th>\n",
              "      <th>price</th>\n",
              "      <th>bedrooms</th>\n",
              "      <th>bathrooms</th>\n",
              "      <th>sqft_living</th>\n",
              "      <th>sqft_lot</th>\n",
              "      <th>floors</th>\n",
              "      <th>waterfront</th>\n",
              "      <th>view</th>\n",
              "      <th>condition</th>\n",
              "      <th>grade</th>\n",
              "      <th>sqft_above</th>\n",
              "      <th>sqft_basement</th>\n",
              "      <th>lat</th>\n",
              "      <th>long</th>\n",
              "      <th>sqft_living15</th>\n",
              "      <th>sqft_lot15</th>\n",
              "      <th>age</th>\n",
              "      <th>renovated</th>\n",
              "    </tr>\n",
              "  </thead>\n",
              "  <tbody>\n",
              "    <tr>\n",
              "      <th>0</th>\n",
              "      <td>221900.0</td>\n",
              "      <td>3.0</td>\n",
              "      <td>1.00</td>\n",
              "      <td>1180.0</td>\n",
              "      <td>5650.0</td>\n",
              "      <td>1.0</td>\n",
              "      <td>0.0</td>\n",
              "      <td>0.0</td>\n",
              "      <td>3.0</td>\n",
              "      <td>7.0</td>\n",
              "      <td>1180.0</td>\n",
              "      <td>0.0</td>\n",
              "      <td>47.5112</td>\n",
              "      <td>-122.257</td>\n",
              "      <td>1340.0</td>\n",
              "      <td>5650.0</td>\n",
              "      <td>63.0</td>\n",
              "      <td>0.0</td>\n",
              "    </tr>\n",
              "    <tr>\n",
              "      <th>1</th>\n",
              "      <td>538000.0</td>\n",
              "      <td>3.0</td>\n",
              "      <td>2.25</td>\n",
              "      <td>2570.0</td>\n",
              "      <td>7242.0</td>\n",
              "      <td>2.0</td>\n",
              "      <td>0.0</td>\n",
              "      <td>0.0</td>\n",
              "      <td>3.0</td>\n",
              "      <td>7.0</td>\n",
              "      <td>2170.0</td>\n",
              "      <td>400.0</td>\n",
              "      <td>47.7210</td>\n",
              "      <td>-122.319</td>\n",
              "      <td>1690.0</td>\n",
              "      <td>7639.0</td>\n",
              "      <td>67.0</td>\n",
              "      <td>1.0</td>\n",
              "    </tr>\n",
              "    <tr>\n",
              "      <th>2</th>\n",
              "      <td>180000.0</td>\n",
              "      <td>2.0</td>\n",
              "      <td>1.00</td>\n",
              "      <td>770.0</td>\n",
              "      <td>10000.0</td>\n",
              "      <td>1.0</td>\n",
              "      <td>0.0</td>\n",
              "      <td>0.0</td>\n",
              "      <td>3.0</td>\n",
              "      <td>6.0</td>\n",
              "      <td>770.0</td>\n",
              "      <td>0.0</td>\n",
              "      <td>47.7379</td>\n",
              "      <td>-122.233</td>\n",
              "      <td>2720.0</td>\n",
              "      <td>8062.0</td>\n",
              "      <td>85.0</td>\n",
              "      <td>0.0</td>\n",
              "    </tr>\n",
              "    <tr>\n",
              "      <th>3</th>\n",
              "      <td>604000.0</td>\n",
              "      <td>4.0</td>\n",
              "      <td>3.00</td>\n",
              "      <td>1960.0</td>\n",
              "      <td>5000.0</td>\n",
              "      <td>1.0</td>\n",
              "      <td>0.0</td>\n",
              "      <td>0.0</td>\n",
              "      <td>5.0</td>\n",
              "      <td>7.0</td>\n",
              "      <td>1050.0</td>\n",
              "      <td>910.0</td>\n",
              "      <td>47.5208</td>\n",
              "      <td>-122.393</td>\n",
              "      <td>1360.0</td>\n",
              "      <td>5000.0</td>\n",
              "      <td>53.0</td>\n",
              "      <td>0.0</td>\n",
              "    </tr>\n",
              "    <tr>\n",
              "      <th>4</th>\n",
              "      <td>510000.0</td>\n",
              "      <td>3.0</td>\n",
              "      <td>2.00</td>\n",
              "      <td>1680.0</td>\n",
              "      <td>8080.0</td>\n",
              "      <td>1.0</td>\n",
              "      <td>0.0</td>\n",
              "      <td>0.0</td>\n",
              "      <td>3.0</td>\n",
              "      <td>8.0</td>\n",
              "      <td>1680.0</td>\n",
              "      <td>0.0</td>\n",
              "      <td>47.6168</td>\n",
              "      <td>-122.045</td>\n",
              "      <td>1800.0</td>\n",
              "      <td>7503.0</td>\n",
              "      <td>31.0</td>\n",
              "      <td>0.0</td>\n",
              "    </tr>\n",
              "  </tbody>\n",
              "</table>\n",
              "</div>\n",
              "    <div class=\"colab-df-buttons\">\n",
              "\n",
              "  <div class=\"colab-df-container\">\n",
              "    <button class=\"colab-df-convert\" onclick=\"convertToInteractive('df-ce8ed65c-bd70-4046-ae8e-e930c61f73f7')\"\n",
              "            title=\"Convert this dataframe to an interactive table.\"\n",
              "            style=\"display:none;\">\n",
              "\n",
              "  <svg xmlns=\"http://www.w3.org/2000/svg\" height=\"24px\" viewBox=\"0 -960 960 960\">\n",
              "    <path d=\"M120-120v-720h720v720H120Zm60-500h600v-160H180v160Zm220 220h160v-160H400v160Zm0 220h160v-160H400v160ZM180-400h160v-160H180v160Zm440 0h160v-160H620v160ZM180-180h160v-160H180v160Zm440 0h160v-160H620v160Z\"/>\n",
              "  </svg>\n",
              "    </button>\n",
              "\n",
              "  <style>\n",
              "    .colab-df-container {\n",
              "      display:flex;\n",
              "      gap: 12px;\n",
              "    }\n",
              "\n",
              "    .colab-df-convert {\n",
              "      background-color: #E8F0FE;\n",
              "      border: none;\n",
              "      border-radius: 50%;\n",
              "      cursor: pointer;\n",
              "      display: none;\n",
              "      fill: #1967D2;\n",
              "      height: 32px;\n",
              "      padding: 0 0 0 0;\n",
              "      width: 32px;\n",
              "    }\n",
              "\n",
              "    .colab-df-convert:hover {\n",
              "      background-color: #E2EBFA;\n",
              "      box-shadow: 0px 1px 2px rgba(60, 64, 67, 0.3), 0px 1px 3px 1px rgba(60, 64, 67, 0.15);\n",
              "      fill: #174EA6;\n",
              "    }\n",
              "\n",
              "    .colab-df-buttons div {\n",
              "      margin-bottom: 4px;\n",
              "    }\n",
              "\n",
              "    [theme=dark] .colab-df-convert {\n",
              "      background-color: #3B4455;\n",
              "      fill: #D2E3FC;\n",
              "    }\n",
              "\n",
              "    [theme=dark] .colab-df-convert:hover {\n",
              "      background-color: #434B5C;\n",
              "      box-shadow: 0px 1px 3px 1px rgba(0, 0, 0, 0.15);\n",
              "      filter: drop-shadow(0px 1px 2px rgba(0, 0, 0, 0.3));\n",
              "      fill: #FFFFFF;\n",
              "    }\n",
              "  </style>\n",
              "\n",
              "    <script>\n",
              "      const buttonEl =\n",
              "        document.querySelector('#df-ce8ed65c-bd70-4046-ae8e-e930c61f73f7 button.colab-df-convert');\n",
              "      buttonEl.style.display =\n",
              "        google.colab.kernel.accessAllowed ? 'block' : 'none';\n",
              "\n",
              "      async function convertToInteractive(key) {\n",
              "        const element = document.querySelector('#df-ce8ed65c-bd70-4046-ae8e-e930c61f73f7');\n",
              "        const dataTable =\n",
              "          await google.colab.kernel.invokeFunction('convertToInteractive',\n",
              "                                                    [key], {});\n",
              "        if (!dataTable) return;\n",
              "\n",
              "        const docLinkHtml = 'Like what you see? Visit the ' +\n",
              "          '<a target=\"_blank\" href=https://colab.research.google.com/notebooks/data_table.ipynb>data table notebook</a>'\n",
              "          + ' to learn more about interactive tables.';\n",
              "        element.innerHTML = '';\n",
              "        dataTable['output_type'] = 'display_data';\n",
              "        await google.colab.output.renderOutput(dataTable, element);\n",
              "        const docLink = document.createElement('div');\n",
              "        docLink.innerHTML = docLinkHtml;\n",
              "        element.appendChild(docLink);\n",
              "      }\n",
              "    </script>\n",
              "  </div>\n",
              "\n",
              "\n",
              "<div id=\"df-f0460ad3-3839-49cf-bff2-c43f905e6989\">\n",
              "  <button class=\"colab-df-quickchart\" onclick=\"quickchart('df-f0460ad3-3839-49cf-bff2-c43f905e6989')\"\n",
              "            title=\"Suggest charts\"\n",
              "            style=\"display:none;\">\n",
              "\n",
              "<svg xmlns=\"http://www.w3.org/2000/svg\" height=\"24px\"viewBox=\"0 0 24 24\"\n",
              "     width=\"24px\">\n",
              "    <g>\n",
              "        <path d=\"M19 3H5c-1.1 0-2 .9-2 2v14c0 1.1.9 2 2 2h14c1.1 0 2-.9 2-2V5c0-1.1-.9-2-2-2zM9 17H7v-7h2v7zm4 0h-2V7h2v10zm4 0h-2v-4h2v4z\"/>\n",
              "    </g>\n",
              "</svg>\n",
              "  </button>\n",
              "\n",
              "<style>\n",
              "  .colab-df-quickchart {\n",
              "      --bg-color: #E8F0FE;\n",
              "      --fill-color: #1967D2;\n",
              "      --hover-bg-color: #E2EBFA;\n",
              "      --hover-fill-color: #174EA6;\n",
              "      --disabled-fill-color: #AAA;\n",
              "      --disabled-bg-color: #DDD;\n",
              "  }\n",
              "\n",
              "  [theme=dark] .colab-df-quickchart {\n",
              "      --bg-color: #3B4455;\n",
              "      --fill-color: #D2E3FC;\n",
              "      --hover-bg-color: #434B5C;\n",
              "      --hover-fill-color: #FFFFFF;\n",
              "      --disabled-bg-color: #3B4455;\n",
              "      --disabled-fill-color: #666;\n",
              "  }\n",
              "\n",
              "  .colab-df-quickchart {\n",
              "    background-color: var(--bg-color);\n",
              "    border: none;\n",
              "    border-radius: 50%;\n",
              "    cursor: pointer;\n",
              "    display: none;\n",
              "    fill: var(--fill-color);\n",
              "    height: 32px;\n",
              "    padding: 0;\n",
              "    width: 32px;\n",
              "  }\n",
              "\n",
              "  .colab-df-quickchart:hover {\n",
              "    background-color: var(--hover-bg-color);\n",
              "    box-shadow: 0 1px 2px rgba(60, 64, 67, 0.3), 0 1px 3px 1px rgba(60, 64, 67, 0.15);\n",
              "    fill: var(--button-hover-fill-color);\n",
              "  }\n",
              "\n",
              "  .colab-df-quickchart-complete:disabled,\n",
              "  .colab-df-quickchart-complete:disabled:hover {\n",
              "    background-color: var(--disabled-bg-color);\n",
              "    fill: var(--disabled-fill-color);\n",
              "    box-shadow: none;\n",
              "  }\n",
              "\n",
              "  .colab-df-spinner {\n",
              "    border: 2px solid var(--fill-color);\n",
              "    border-color: transparent;\n",
              "    border-bottom-color: var(--fill-color);\n",
              "    animation:\n",
              "      spin 1s steps(1) infinite;\n",
              "  }\n",
              "\n",
              "  @keyframes spin {\n",
              "    0% {\n",
              "      border-color: transparent;\n",
              "      border-bottom-color: var(--fill-color);\n",
              "      border-left-color: var(--fill-color);\n",
              "    }\n",
              "    20% {\n",
              "      border-color: transparent;\n",
              "      border-left-color: var(--fill-color);\n",
              "      border-top-color: var(--fill-color);\n",
              "    }\n",
              "    30% {\n",
              "      border-color: transparent;\n",
              "      border-left-color: var(--fill-color);\n",
              "      border-top-color: var(--fill-color);\n",
              "      border-right-color: var(--fill-color);\n",
              "    }\n",
              "    40% {\n",
              "      border-color: transparent;\n",
              "      border-right-color: var(--fill-color);\n",
              "      border-top-color: var(--fill-color);\n",
              "    }\n",
              "    60% {\n",
              "      border-color: transparent;\n",
              "      border-right-color: var(--fill-color);\n",
              "    }\n",
              "    80% {\n",
              "      border-color: transparent;\n",
              "      border-right-color: var(--fill-color);\n",
              "      border-bottom-color: var(--fill-color);\n",
              "    }\n",
              "    90% {\n",
              "      border-color: transparent;\n",
              "      border-bottom-color: var(--fill-color);\n",
              "    }\n",
              "  }\n",
              "</style>\n",
              "\n",
              "  <script>\n",
              "    async function quickchart(key) {\n",
              "      const quickchartButtonEl =\n",
              "        document.querySelector('#' + key + ' button');\n",
              "      quickchartButtonEl.disabled = true;  // To prevent multiple clicks.\n",
              "      quickchartButtonEl.classList.add('colab-df-spinner');\n",
              "      try {\n",
              "        const charts = await google.colab.kernel.invokeFunction(\n",
              "            'suggestCharts', [key], {});\n",
              "      } catch (error) {\n",
              "        console.error('Error during call to suggestCharts:', error);\n",
              "      }\n",
              "      quickchartButtonEl.classList.remove('colab-df-spinner');\n",
              "      quickchartButtonEl.classList.add('colab-df-quickchart-complete');\n",
              "    }\n",
              "    (() => {\n",
              "      let quickchartButtonEl =\n",
              "        document.querySelector('#df-f0460ad3-3839-49cf-bff2-c43f905e6989 button');\n",
              "      quickchartButtonEl.style.display =\n",
              "        google.colab.kernel.accessAllowed ? 'block' : 'none';\n",
              "    })();\n",
              "  </script>\n",
              "</div>\n",
              "    </div>\n",
              "  </div>\n"
            ],
            "application/vnd.google.colaboratory.intrinsic+json": {
              "type": "dataframe",
              "variable_name": "housesale_df",
              "summary": "{\n  \"name\": \"housesale_df\",\n  \"rows\": 21597,\n  \"fields\": [\n    {\n      \"column\": \"price\",\n      \"properties\": {\n        \"dtype\": \"number\",\n        \"std\": 367368.1401013945,\n        \"min\": 78000.0,\n        \"max\": 7700000.0,\n        \"num_unique_values\": 3622,\n        \"samples\": [\n          294010.0,\n          462500.0,\n          271900.0\n        ],\n        \"semantic_type\": \"\",\n        \"description\": \"\"\n      }\n    },\n    {\n      \"column\": \"bedrooms\",\n      \"properties\": {\n        \"dtype\": \"number\",\n        \"std\": 0.9262988945421479,\n        \"min\": 1.0,\n        \"max\": 33.0,\n        \"num_unique_values\": 12,\n        \"samples\": [\n          10.0,\n          11.0,\n          3.0\n        ],\n        \"semantic_type\": \"\",\n        \"description\": \"\"\n      }\n    },\n    {\n      \"column\": \"bathrooms\",\n      \"properties\": {\n        \"dtype\": \"number\",\n        \"std\": 0.7689842966527209,\n        \"min\": 0.5,\n        \"max\": 8.0,\n        \"num_unique_values\": 29,\n        \"samples\": [\n          6.25,\n          3.75,\n          0.75\n        ],\n        \"semantic_type\": \"\",\n        \"description\": \"\"\n      }\n    },\n    {\n      \"column\": \"sqft_living\",\n      \"properties\": {\n        \"dtype\": \"number\",\n        \"std\": 918.1061250800805,\n        \"min\": 370.0,\n        \"max\": 13540.0,\n        \"num_unique_values\": 1034,\n        \"samples\": [\n          3170.0,\n          4080.0,\n          2216.0\n        ],\n        \"semantic_type\": \"\",\n        \"description\": \"\"\n      }\n    },\n    {\n      \"column\": \"sqft_lot\",\n      \"properties\": {\n        \"dtype\": \"number\",\n        \"std\": 41412.636875502074,\n        \"min\": 520.0,\n        \"max\": 1651359.0,\n        \"num_unique_values\": 9776,\n        \"samples\": [\n          17832.0,\n          14395.0,\n          7963.0\n        ],\n        \"semantic_type\": \"\",\n        \"description\": \"\"\n      }\n    },\n    {\n      \"column\": \"floors\",\n      \"properties\": {\n        \"dtype\": \"number\",\n        \"std\": 0.5396827909775457,\n        \"min\": 1.0,\n        \"max\": 3.5,\n        \"num_unique_values\": 6,\n        \"samples\": [\n          1.0,\n          2.0,\n          3.5\n        ],\n        \"semantic_type\": \"\",\n        \"description\": \"\"\n      }\n    },\n    {\n      \"column\": \"waterfront\",\n      \"properties\": {\n        \"dtype\": \"number\",\n        \"std\": 0.08654899751117487,\n        \"min\": 0.0,\n        \"max\": 1.0,\n        \"num_unique_values\": 2,\n        \"samples\": [\n          1.0,\n          0.0\n        ],\n        \"semantic_type\": \"\",\n        \"description\": \"\"\n      }\n    },\n    {\n      \"column\": \"view\",\n      \"properties\": {\n        \"dtype\": \"number\",\n        \"std\": 0.7663898324642502,\n        \"min\": 0.0,\n        \"max\": 4.0,\n        \"num_unique_values\": 5,\n        \"samples\": [\n          3.0,\n          1.0\n        ],\n        \"semantic_type\": \"\",\n        \"description\": \"\"\n      }\n    },\n    {\n      \"column\": \"condition\",\n      \"properties\": {\n        \"dtype\": \"number\",\n        \"std\": 0.6505456356725546,\n        \"min\": 1.0,\n        \"max\": 5.0,\n        \"num_unique_values\": 5,\n        \"samples\": [\n          5.0,\n          2.0\n        ],\n        \"semantic_type\": \"\",\n        \"description\": \"\"\n      }\n    },\n    {\n      \"column\": \"grade\",\n      \"properties\": {\n        \"dtype\": \"number\",\n        \"std\": 1.1731996637760254,\n        \"min\": 3.0,\n        \"max\": 13.0,\n        \"num_unique_values\": 11,\n        \"samples\": [\n          5.0,\n          7.0\n        ],\n        \"semantic_type\": \"\",\n        \"description\": \"\"\n      }\n    },\n    {\n      \"column\": \"sqft_above\",\n      \"properties\": {\n        \"dtype\": \"number\",\n        \"std\": 827.7597611646754,\n        \"min\": 370.0,\n        \"max\": 9410.0,\n        \"num_unique_values\": 942,\n        \"samples\": [\n          3280.0,\n          5220.0\n        ],\n        \"semantic_type\": \"\",\n        \"description\": \"\"\n      }\n    },\n    {\n      \"column\": \"sqft_basement\",\n      \"properties\": {\n        \"dtype\": \"number\",\n        \"std\": 442.6678004163247,\n        \"min\": 0.0,\n        \"max\": 4820.0,\n        \"num_unique_values\": 306,\n        \"samples\": [\n          1850.0,\n          1260.0\n        ],\n        \"semantic_type\": \"\",\n        \"description\": \"\"\n      }\n    },\n    {\n      \"column\": \"lat\",\n      \"properties\": {\n        \"dtype\": \"number\",\n        \"std\": 0.1385517681730718,\n        \"min\": 47.1559,\n        \"max\": 47.7776,\n        \"num_unique_values\": 5033,\n        \"samples\": [\n          47.2773,\n          47.7109\n        ],\n        \"semantic_type\": \"\",\n        \"description\": \"\"\n      }\n    },\n    {\n      \"column\": \"long\",\n      \"properties\": {\n        \"dtype\": \"number\",\n        \"std\": 0.14072352882947367,\n        \"min\": -122.519,\n        \"max\": -121.315,\n        \"num_unique_values\": 751,\n        \"samples\": [\n          -121.927,\n          -122.405\n        ],\n        \"semantic_type\": \"\",\n        \"description\": \"\"\n      }\n    },\n    {\n      \"column\": \"sqft_living15\",\n      \"properties\": {\n        \"dtype\": \"number\",\n        \"std\": 685.2304719001586,\n        \"min\": 399.0,\n        \"max\": 6210.0,\n        \"num_unique_values\": 777,\n        \"samples\": [\n          4400.0,\n          710.0\n        ],\n        \"semantic_type\": \"\",\n        \"description\": \"\"\n      }\n    },\n    {\n      \"column\": \"sqft_lot15\",\n      \"properties\": {\n        \"dtype\": \"number\",\n        \"std\": 27274.441950386343,\n        \"min\": 651.0,\n        \"max\": 871200.0,\n        \"num_unique_values\": 8682,\n        \"samples\": [\n          6128.0,\n          11520.0\n        ],\n        \"semantic_type\": \"\",\n        \"description\": \"\"\n      }\n    },\n    {\n      \"column\": \"age\",\n      \"properties\": {\n        \"dtype\": \"number\",\n        \"std\": 29.375234132441637,\n        \"min\": 3.0,\n        \"max\": 118.0,\n        \"num_unique_values\": 116,\n        \"samples\": [\n          75.0,\n          31.0\n        ],\n        \"semantic_type\": \"\",\n        \"description\": \"\"\n      }\n    },\n    {\n      \"column\": \"renovated\",\n      \"properties\": {\n        \"dtype\": \"number\",\n        \"std\": 0.2013244356242986,\n        \"min\": 0.0,\n        \"max\": 1.0,\n        \"num_unique_values\": 2,\n        \"samples\": [\n          1.0,\n          0.0\n        ],\n        \"semantic_type\": \"\",\n        \"description\": \"\"\n      }\n    }\n  ]\n}"
            }
          },
          "metadata": {},
          "execution_count": 6
        }
      ],
      "source": [
        "housesale_df.head()"
      ]
    },
    {
      "cell_type": "code",
      "execution_count": 7,
      "metadata": {
        "colab": {
          "base_uri": "https://localhost:8080/"
        },
        "id": "eP8zdVe9Mq4J",
        "outputId": "7bccd097-268e-4929-ba02-f671fbdc9bd2"
      },
      "outputs": [
        {
          "output_type": "execute_result",
          "data": {
            "text/plain": [
              "(21597, 17)"
            ]
          },
          "metadata": {},
          "execution_count": 7
        }
      ],
      "source": [
        "X = housesale_df.drop('price', axis = 1)\n",
        "y = housesale_df['price']\n",
        "\n",
        "X.shape"
      ]
    },
    {
      "cell_type": "markdown",
      "metadata": {
        "id": "MW-5I2sBMq4J"
      },
      "source": [
        "## Feature Selection : f_regression\n",
        "* f_regression : Linear model for testing the individual effect of each of many regressors. Based on ANOVA.\n",
        "\n",
        "* SelectKBest A feature selection method from sklearn that can be used with a suite of different statistical tests to select a specific number of features. Uses f-score computed using ANOVA to select k best features.\n",
        "\n",
        "https://scikit-learn.org/stable/modules/generated/sklearn.feature_selection.f_regression.html#sklearn.feature_selection.f_regression\n",
        "\n",
        "https://scikit-learn.org/stable/modules/generated/sklearn.feature_selection.SelectKBest.html"
      ]
    },
    {
      "cell_type": "code",
      "execution_count": 8,
      "metadata": {
        "id": "7aw9mFY6Mq4J"
      },
      "outputs": [],
      "source": [
        "from sklearn.feature_selection import f_regression, SelectKBest\n",
        "\n",
        "select_features = SelectKBest(f_regression, k = 3)"
      ]
    },
    {
      "cell_type": "code",
      "execution_count": 9,
      "metadata": {
        "id": "eO7q8INRMq4J"
      },
      "outputs": [],
      "source": [
        "X_new = select_features.fit_transform(X, y)"
      ]
    },
    {
      "cell_type": "code",
      "execution_count": 10,
      "metadata": {
        "colab": {
          "base_uri": "https://localhost:8080/"
        },
        "id": "R0IErqcOMq4J",
        "outputId": "89ab3379-3246-4e9b-8ce0-a0df08c6d092"
      },
      "outputs": [
        {
          "output_type": "execute_result",
          "data": {
            "text/plain": [
              "(21597, 3)"
            ]
          },
          "metadata": {},
          "execution_count": 10
        }
      ],
      "source": [
        "X_new.shape"
      ]
    },
    {
      "cell_type": "code",
      "execution_count": 11,
      "metadata": {
        "colab": {
          "base_uri": "https://localhost:8080/",
          "height": 206
        },
        "id": "laaLiCCHMq4J",
        "outputId": "cfb7b6c0-fe25-4566-b57f-cf4b18555e35"
      },
      "outputs": [
        {
          "output_type": "execute_result",
          "data": {
            "text/plain": [
              "        0    1       2\n",
              "0  1180.0  7.0  1180.0\n",
              "1  2570.0  7.0  2170.0\n",
              "2   770.0  6.0   770.0\n",
              "3  1960.0  7.0  1050.0\n",
              "4  1680.0  8.0  1680.0"
            ],
            "text/html": [
              "\n",
              "  <div id=\"df-56646599-38f3-4322-b042-2b68a30d7261\" class=\"colab-df-container\">\n",
              "    <div>\n",
              "<style scoped>\n",
              "    .dataframe tbody tr th:only-of-type {\n",
              "        vertical-align: middle;\n",
              "    }\n",
              "\n",
              "    .dataframe tbody tr th {\n",
              "        vertical-align: top;\n",
              "    }\n",
              "\n",
              "    .dataframe thead th {\n",
              "        text-align: right;\n",
              "    }\n",
              "</style>\n",
              "<table border=\"1\" class=\"dataframe\">\n",
              "  <thead>\n",
              "    <tr style=\"text-align: right;\">\n",
              "      <th></th>\n",
              "      <th>0</th>\n",
              "      <th>1</th>\n",
              "      <th>2</th>\n",
              "    </tr>\n",
              "  </thead>\n",
              "  <tbody>\n",
              "    <tr>\n",
              "      <th>0</th>\n",
              "      <td>1180.0</td>\n",
              "      <td>7.0</td>\n",
              "      <td>1180.0</td>\n",
              "    </tr>\n",
              "    <tr>\n",
              "      <th>1</th>\n",
              "      <td>2570.0</td>\n",
              "      <td>7.0</td>\n",
              "      <td>2170.0</td>\n",
              "    </tr>\n",
              "    <tr>\n",
              "      <th>2</th>\n",
              "      <td>770.0</td>\n",
              "      <td>6.0</td>\n",
              "      <td>770.0</td>\n",
              "    </tr>\n",
              "    <tr>\n",
              "      <th>3</th>\n",
              "      <td>1960.0</td>\n",
              "      <td>7.0</td>\n",
              "      <td>1050.0</td>\n",
              "    </tr>\n",
              "    <tr>\n",
              "      <th>4</th>\n",
              "      <td>1680.0</td>\n",
              "      <td>8.0</td>\n",
              "      <td>1680.0</td>\n",
              "    </tr>\n",
              "  </tbody>\n",
              "</table>\n",
              "</div>\n",
              "    <div class=\"colab-df-buttons\">\n",
              "\n",
              "  <div class=\"colab-df-container\">\n",
              "    <button class=\"colab-df-convert\" onclick=\"convertToInteractive('df-56646599-38f3-4322-b042-2b68a30d7261')\"\n",
              "            title=\"Convert this dataframe to an interactive table.\"\n",
              "            style=\"display:none;\">\n",
              "\n",
              "  <svg xmlns=\"http://www.w3.org/2000/svg\" height=\"24px\" viewBox=\"0 -960 960 960\">\n",
              "    <path d=\"M120-120v-720h720v720H120Zm60-500h600v-160H180v160Zm220 220h160v-160H400v160Zm0 220h160v-160H400v160ZM180-400h160v-160H180v160Zm440 0h160v-160H620v160ZM180-180h160v-160H180v160Zm440 0h160v-160H620v160Z\"/>\n",
              "  </svg>\n",
              "    </button>\n",
              "\n",
              "  <style>\n",
              "    .colab-df-container {\n",
              "      display:flex;\n",
              "      gap: 12px;\n",
              "    }\n",
              "\n",
              "    .colab-df-convert {\n",
              "      background-color: #E8F0FE;\n",
              "      border: none;\n",
              "      border-radius: 50%;\n",
              "      cursor: pointer;\n",
              "      display: none;\n",
              "      fill: #1967D2;\n",
              "      height: 32px;\n",
              "      padding: 0 0 0 0;\n",
              "      width: 32px;\n",
              "    }\n",
              "\n",
              "    .colab-df-convert:hover {\n",
              "      background-color: #E2EBFA;\n",
              "      box-shadow: 0px 1px 2px rgba(60, 64, 67, 0.3), 0px 1px 3px 1px rgba(60, 64, 67, 0.15);\n",
              "      fill: #174EA6;\n",
              "    }\n",
              "\n",
              "    .colab-df-buttons div {\n",
              "      margin-bottom: 4px;\n",
              "    }\n",
              "\n",
              "    [theme=dark] .colab-df-convert {\n",
              "      background-color: #3B4455;\n",
              "      fill: #D2E3FC;\n",
              "    }\n",
              "\n",
              "    [theme=dark] .colab-df-convert:hover {\n",
              "      background-color: #434B5C;\n",
              "      box-shadow: 0px 1px 3px 1px rgba(0, 0, 0, 0.15);\n",
              "      filter: drop-shadow(0px 1px 2px rgba(0, 0, 0, 0.3));\n",
              "      fill: #FFFFFF;\n",
              "    }\n",
              "  </style>\n",
              "\n",
              "    <script>\n",
              "      const buttonEl =\n",
              "        document.querySelector('#df-56646599-38f3-4322-b042-2b68a30d7261 button.colab-df-convert');\n",
              "      buttonEl.style.display =\n",
              "        google.colab.kernel.accessAllowed ? 'block' : 'none';\n",
              "\n",
              "      async function convertToInteractive(key) {\n",
              "        const element = document.querySelector('#df-56646599-38f3-4322-b042-2b68a30d7261');\n",
              "        const dataTable =\n",
              "          await google.colab.kernel.invokeFunction('convertToInteractive',\n",
              "                                                    [key], {});\n",
              "        if (!dataTable) return;\n",
              "\n",
              "        const docLinkHtml = 'Like what you see? Visit the ' +\n",
              "          '<a target=\"_blank\" href=https://colab.research.google.com/notebooks/data_table.ipynb>data table notebook</a>'\n",
              "          + ' to learn more about interactive tables.';\n",
              "        element.innerHTML = '';\n",
              "        dataTable['output_type'] = 'display_data';\n",
              "        await google.colab.output.renderOutput(dataTable, element);\n",
              "        const docLink = document.createElement('div');\n",
              "        docLink.innerHTML = docLinkHtml;\n",
              "        element.appendChild(docLink);\n",
              "      }\n",
              "    </script>\n",
              "  </div>\n",
              "\n",
              "\n",
              "<div id=\"df-a658669b-a0b0-4bbf-b7ce-8c6d5a3edb01\">\n",
              "  <button class=\"colab-df-quickchart\" onclick=\"quickchart('df-a658669b-a0b0-4bbf-b7ce-8c6d5a3edb01')\"\n",
              "            title=\"Suggest charts\"\n",
              "            style=\"display:none;\">\n",
              "\n",
              "<svg xmlns=\"http://www.w3.org/2000/svg\" height=\"24px\"viewBox=\"0 0 24 24\"\n",
              "     width=\"24px\">\n",
              "    <g>\n",
              "        <path d=\"M19 3H5c-1.1 0-2 .9-2 2v14c0 1.1.9 2 2 2h14c1.1 0 2-.9 2-2V5c0-1.1-.9-2-2-2zM9 17H7v-7h2v7zm4 0h-2V7h2v10zm4 0h-2v-4h2v4z\"/>\n",
              "    </g>\n",
              "</svg>\n",
              "  </button>\n",
              "\n",
              "<style>\n",
              "  .colab-df-quickchart {\n",
              "      --bg-color: #E8F0FE;\n",
              "      --fill-color: #1967D2;\n",
              "      --hover-bg-color: #E2EBFA;\n",
              "      --hover-fill-color: #174EA6;\n",
              "      --disabled-fill-color: #AAA;\n",
              "      --disabled-bg-color: #DDD;\n",
              "  }\n",
              "\n",
              "  [theme=dark] .colab-df-quickchart {\n",
              "      --bg-color: #3B4455;\n",
              "      --fill-color: #D2E3FC;\n",
              "      --hover-bg-color: #434B5C;\n",
              "      --hover-fill-color: #FFFFFF;\n",
              "      --disabled-bg-color: #3B4455;\n",
              "      --disabled-fill-color: #666;\n",
              "  }\n",
              "\n",
              "  .colab-df-quickchart {\n",
              "    background-color: var(--bg-color);\n",
              "    border: none;\n",
              "    border-radius: 50%;\n",
              "    cursor: pointer;\n",
              "    display: none;\n",
              "    fill: var(--fill-color);\n",
              "    height: 32px;\n",
              "    padding: 0;\n",
              "    width: 32px;\n",
              "  }\n",
              "\n",
              "  .colab-df-quickchart:hover {\n",
              "    background-color: var(--hover-bg-color);\n",
              "    box-shadow: 0 1px 2px rgba(60, 64, 67, 0.3), 0 1px 3px 1px rgba(60, 64, 67, 0.15);\n",
              "    fill: var(--button-hover-fill-color);\n",
              "  }\n",
              "\n",
              "  .colab-df-quickchart-complete:disabled,\n",
              "  .colab-df-quickchart-complete:disabled:hover {\n",
              "    background-color: var(--disabled-bg-color);\n",
              "    fill: var(--disabled-fill-color);\n",
              "    box-shadow: none;\n",
              "  }\n",
              "\n",
              "  .colab-df-spinner {\n",
              "    border: 2px solid var(--fill-color);\n",
              "    border-color: transparent;\n",
              "    border-bottom-color: var(--fill-color);\n",
              "    animation:\n",
              "      spin 1s steps(1) infinite;\n",
              "  }\n",
              "\n",
              "  @keyframes spin {\n",
              "    0% {\n",
              "      border-color: transparent;\n",
              "      border-bottom-color: var(--fill-color);\n",
              "      border-left-color: var(--fill-color);\n",
              "    }\n",
              "    20% {\n",
              "      border-color: transparent;\n",
              "      border-left-color: var(--fill-color);\n",
              "      border-top-color: var(--fill-color);\n",
              "    }\n",
              "    30% {\n",
              "      border-color: transparent;\n",
              "      border-left-color: var(--fill-color);\n",
              "      border-top-color: var(--fill-color);\n",
              "      border-right-color: var(--fill-color);\n",
              "    }\n",
              "    40% {\n",
              "      border-color: transparent;\n",
              "      border-right-color: var(--fill-color);\n",
              "      border-top-color: var(--fill-color);\n",
              "    }\n",
              "    60% {\n",
              "      border-color: transparent;\n",
              "      border-right-color: var(--fill-color);\n",
              "    }\n",
              "    80% {\n",
              "      border-color: transparent;\n",
              "      border-right-color: var(--fill-color);\n",
              "      border-bottom-color: var(--fill-color);\n",
              "    }\n",
              "    90% {\n",
              "      border-color: transparent;\n",
              "      border-bottom-color: var(--fill-color);\n",
              "    }\n",
              "  }\n",
              "</style>\n",
              "\n",
              "  <script>\n",
              "    async function quickchart(key) {\n",
              "      const quickchartButtonEl =\n",
              "        document.querySelector('#' + key + ' button');\n",
              "      quickchartButtonEl.disabled = true;  // To prevent multiple clicks.\n",
              "      quickchartButtonEl.classList.add('colab-df-spinner');\n",
              "      try {\n",
              "        const charts = await google.colab.kernel.invokeFunction(\n",
              "            'suggestCharts', [key], {});\n",
              "      } catch (error) {\n",
              "        console.error('Error during call to suggestCharts:', error);\n",
              "      }\n",
              "      quickchartButtonEl.classList.remove('colab-df-spinner');\n",
              "      quickchartButtonEl.classList.add('colab-df-quickchart-complete');\n",
              "    }\n",
              "    (() => {\n",
              "      let quickchartButtonEl =\n",
              "        document.querySelector('#df-a658669b-a0b0-4bbf-b7ce-8c6d5a3edb01 button');\n",
              "      quickchartButtonEl.style.display =\n",
              "        google.colab.kernel.accessAllowed ? 'block' : 'none';\n",
              "    })();\n",
              "  </script>\n",
              "</div>\n",
              "    </div>\n",
              "  </div>\n"
            ],
            "application/vnd.google.colaboratory.intrinsic+json": {
              "type": "dataframe",
              "variable_name": "X_new",
              "summary": "{\n  \"name\": \"X_new\",\n  \"rows\": 21597,\n  \"fields\": [\n    {\n      \"column\": 0,\n      \"properties\": {\n        \"dtype\": \"number\",\n        \"std\": 918.1061250800805,\n        \"min\": 370.0,\n        \"max\": 13540.0,\n        \"num_unique_values\": 1034,\n        \"samples\": [\n          3170.0,\n          4080.0,\n          2216.0\n        ],\n        \"semantic_type\": \"\",\n        \"description\": \"\"\n      }\n    },\n    {\n      \"column\": 1,\n      \"properties\": {\n        \"dtype\": \"number\",\n        \"std\": 1.1731996637760254,\n        \"min\": 3.0,\n        \"max\": 13.0,\n        \"num_unique_values\": 11,\n        \"samples\": [\n          5.0,\n          7.0,\n          3.0\n        ],\n        \"semantic_type\": \"\",\n        \"description\": \"\"\n      }\n    },\n    {\n      \"column\": 2,\n      \"properties\": {\n        \"dtype\": \"number\",\n        \"std\": 827.7597611646754,\n        \"min\": 370.0,\n        \"max\": 9410.0,\n        \"num_unique_values\": 942,\n        \"samples\": [\n          3280.0,\n          5220.0,\n          3135.0\n        ],\n        \"semantic_type\": \"\",\n        \"description\": \"\"\n      }\n    }\n  ]\n}"
            }
          },
          "metadata": {},
          "execution_count": 11
        }
      ],
      "source": [
        "X_new = pd.DataFrame(X_new)\n",
        "\n",
        "X_new.head()"
      ]
    },
    {
      "cell_type": "code",
      "execution_count": 12,
      "metadata": {
        "colab": {
          "base_uri": "https://localhost:8080/"
        },
        "id": "KQpvbZ8NMq4J",
        "outputId": "dae5e8b7-c20c-4b59-bc95-fc651f86995e"
      },
      "outputs": [
        {
          "output_type": "execute_result",
          "data": {
            "text/plain": [
              "['sqft_living', 'grade', 'sqft_above']"
            ]
          },
          "metadata": {},
          "execution_count": 12
        }
      ],
      "source": [
        "selected_features = []\n",
        "\n",
        "for i in range(len(X_new.columns)):\n",
        "    for j in range(len(X.columns)):\n",
        "        if(X_new.iloc[:,i].equals( X.iloc[:,j])):\n",
        "            selected_features.append(X.columns[j])\n",
        "\n",
        "selected_features"
      ]
    },
    {
      "cell_type": "code",
      "execution_count": 13,
      "metadata": {
        "colab": {
          "base_uri": "https://localhost:8080/"
        },
        "id": "pwRKFGZeMq4J",
        "outputId": "901dfa87-aa7f-471f-9999-0a69f75906cb"
      },
      "outputs": [
        {
          "output_type": "execute_result",
          "data": {
            "text/plain": [
              "{'age',\n",
              " 'bathrooms',\n",
              " 'bedrooms',\n",
              " 'condition',\n",
              " 'floors',\n",
              " 'lat',\n",
              " 'long',\n",
              " 'renovated',\n",
              " 'sqft_basement',\n",
              " 'sqft_living15',\n",
              " 'sqft_lot',\n",
              " 'sqft_lot15',\n",
              " 'view',\n",
              " 'waterfront'}"
            ]
          },
          "metadata": {},
          "execution_count": 13
        }
      ],
      "source": [
        "rejected_features = set(list(X)) - set(selected_features)\n",
        "\n",
        "rejected_features"
      ]
    },
    {
      "cell_type": "code",
      "execution_count": 14,
      "metadata": {
        "id": "92UQbSekMq4J"
      },
      "outputs": [],
      "source": [
        "x_train, x_test, y_train, y_test = train_test_split(X_new, y, test_size = 0.2)"
      ]
    },
    {
      "cell_type": "code",
      "execution_count": 15,
      "metadata": {
        "colab": {
          "base_uri": "https://localhost:8080/"
        },
        "id": "EXk8LaXxMq4J",
        "outputId": "1e11504f-361e-4b3d-adef-e54105c10e20"
      },
      "outputs": [
        {
          "output_type": "execute_result",
          "data": {
            "text/plain": [
              "((17277, 3), (17277,))"
            ]
          },
          "metadata": {},
          "execution_count": 15
        }
      ],
      "source": [
        "x_train.shape, y_train.shape"
      ]
    },
    {
      "cell_type": "code",
      "execution_count": 16,
      "metadata": {
        "colab": {
          "base_uri": "https://localhost:8080/"
        },
        "id": "kZtEAIgxMq4K",
        "outputId": "873c655e-2043-4fbd-f902-b1390b3de43c"
      },
      "outputs": [
        {
          "output_type": "execute_result",
          "data": {
            "text/plain": [
              "((4320, 3), (4320,))"
            ]
          },
          "metadata": {},
          "execution_count": 16
        }
      ],
      "source": [
        "x_test.shape, y_test.shape"
      ]
    },
    {
      "cell_type": "code",
      "execution_count": 17,
      "metadata": {
        "id": "Id2Se0ETMq4K"
      },
      "outputs": [],
      "source": [
        "model = sm.OLS(y_train, x_train)"
      ]
    },
    {
      "cell_type": "code",
      "execution_count": 18,
      "metadata": {
        "id": "oMzV9OvRMq4K"
      },
      "outputs": [],
      "source": [
        "result = model.fit()"
      ]
    },
    {
      "cell_type": "code",
      "execution_count": 19,
      "metadata": {
        "scrolled": true,
        "colab": {
          "base_uri": "https://localhost:8080/"
        },
        "id": "hcqUi3QtMq4K",
        "outputId": "ce13b89c-7ece-40ce-c4c3-288791f1cee0"
      },
      "outputs": [
        {
          "output_type": "stream",
          "name": "stdout",
          "text": [
            "                                 OLS Regression Results                                \n",
            "=======================================================================================\n",
            "Dep. Variable:                  price   R-squared (uncentered):                   0.839\n",
            "Model:                            OLS   Adj. R-squared (uncentered):              0.839\n",
            "Method:                 Least Squares   F-statistic:                          3.002e+04\n",
            "Date:                Mon, 10 Jun 2024   Prob (F-statistic):                        0.00\n",
            "Time:                        15:56:25   Log-Likelihood:                     -2.4005e+05\n",
            "No. Observations:               17277   AIC:                                  4.801e+05\n",
            "Df Residuals:                   17274   BIC:                                  4.801e+05\n",
            "Df Model:                           3                                                  \n",
            "Covariance Type:            nonrobust                                                  \n",
            "==============================================================================\n",
            "                 coef    std err          t      P>|t|      [0.025      0.975]\n",
            "------------------------------------------------------------------------------\n",
            "0            274.3069      4.633     59.213      0.000     265.227     283.387\n",
            "1           4466.4044    855.292      5.222      0.000    2789.945    6142.864\n",
            "2            -30.5622      5.083     -6.012      0.000     -40.526     -20.598\n",
            "==============================================================================\n",
            "Omnibus:                    13168.699   Durbin-Watson:                   2.002\n",
            "Prob(Omnibus):                  0.000   Jarque-Bera (JB):           581760.077\n",
            "Skew:                           3.252   Prob(JB):                         0.00\n",
            "Kurtosis:                      30.674   Cond. No.                     1.28e+03\n",
            "==============================================================================\n",
            "\n",
            "Notes:\n",
            "[1] R² is computed without centering (uncentered) since the model does not contain a constant.\n",
            "[2] Standard Errors assume that the covariance matrix of the errors is correctly specified.\n",
            "[3] The condition number is large, 1.28e+03. This might indicate that there are\n",
            "strong multicollinearity or other numerical problems.\n"
          ]
        }
      ],
      "source": [
        "print(result.summary())"
      ]
    },
    {
      "cell_type": "code",
      "execution_count": 20,
      "metadata": {
        "id": "j9-UtOQuMq4K"
      },
      "outputs": [],
      "source": [
        "y_pred = result.predict(x_test)"
      ]
    },
    {
      "cell_type": "code",
      "execution_count": 21,
      "metadata": {
        "colab": {
          "base_uri": "https://localhost:8080/",
          "height": 781
        },
        "id": "Y31gnOzLMq4K",
        "outputId": "49e6d4ea-6c60-4448-fdfe-04b7e3f8945c"
      },
      "outputs": [
        {
          "output_type": "display_data",
          "data": {
            "text/plain": [
              "<Figure size 1200x1000 with 1 Axes>"
            ],
            "image/png": "[encoded data removed]"
          },
          "metadata": {}
        }
      ],
      "source": [
        "plt.figure(figsize = (12,10))\n",
        "\n",
        "plt.scatter(y_test.values, y_pred)\n",
        "\n",
        "plt.show()"
      ]
    },
    {
      "cell_type": "markdown",
      "metadata": {
        "id": "VMWZY33LMq4K"
      },
      "source": [
        "# Hyperparameter Tuning"
      ]
    },
    {
      "cell_type": "code",
      "execution_count": 22,
      "metadata": {
        "colab": {
          "base_uri": "https://localhost:8080/"
        },
        "id": "EPMe6zllMq4K",
        "outputId": "d0a8cd02-2ead-4492-a571-23b0e12b4ef7"
      },
      "outputs": [
        {
          "output_type": "execute_result",
          "data": {
            "text/plain": [
              "['bedrooms',\n",
              " 'bathrooms',\n",
              " 'sqft_living',\n",
              " 'sqft_lot',\n",
              " 'floors',\n",
              " 'waterfront',\n",
              " 'view',\n",
              " 'condition',\n",
              " 'grade',\n",
              " 'sqft_above',\n",
              " 'sqft_basement',\n",
              " 'lat',\n",
              " 'long',\n",
              " 'sqft_living15',\n",
              " 'sqft_lot15',\n",
              " 'age',\n",
              " 'renovated']"
            ]
          },
          "metadata": {},
          "execution_count": 22
        }
      ],
      "source": [
        "FEATURES = list(housesale_df.columns[1:18])\n",
        "\n",
        "FEATURES"
      ]
    },
    {
      "cell_type": "code",
      "execution_count": 23,
      "metadata": {
        "id": "3i2dWh4lMq4K"
      },
      "outputs": [],
      "source": [
        "def build_model(regression_fn,\n",
        "                target,\n",
        "                features,\n",
        "                dataset,\n",
        "                preprocess_fn,\n",
        "                *hyperparameters):\n",
        "\n",
        "    X = dataset[features]\n",
        "    Y = dataset[target]\n",
        "\n",
        "    X = preprocess_fn(X, Y, *hyperparameters)\n",
        "\n",
        "    x_train, x_test, y_train, y_test = train_test_split(X, Y, test_size=0.2)\n",
        "\n",
        "    model = regression_fn(x_train, y_train)\n",
        "\n",
        "    y_pred = model.predict(x_test)\n",
        "\n",
        "    return {\n",
        "            'x_train' : x_train,\n",
        "            'x_test'  : x_test,\n",
        "            'y_train' : y_train,\n",
        "            'y_test'  : y_test,\n",
        "            'y_pred'  : y_pred,\n",
        "            'model'   : model\n",
        "           }"
      ]
    },
    {
      "cell_type": "code",
      "execution_count": 24,
      "metadata": {
        "id": "IMsW8gEgMq4K"
      },
      "outputs": [],
      "source": [
        "def compare_results(result_dict):\n",
        "\n",
        "    for key in result_dict:\n",
        "        print('Test : ', key)\n",
        "        print('R-Squared', result_dict[key]['rsquared'])\n",
        "        print('Adjusted R-Squared', result_dict[key]['adj_rsquared'])\n",
        "        print()\n",
        "\n",
        "    n_components = list(range(1, 18))\n",
        "    reg_score = [result_dict[key]['adj_rsquared'] for key in result_dict]\n",
        "\n",
        "    plt.figure(figsize = (12, 10))\n",
        "    plt.plot(n_components, reg_score)\n",
        "\n",
        "    pylab.ylim([0,1])\n",
        "\n",
        "    plt.xlabel('n components')\n",
        "    plt.ylabel('adj_rsquared');"
      ]
    },
    {
      "cell_type": "code",
      "execution_count": 25,
      "metadata": {
        "id": "xNFr7tlAMq4K"
      },
      "outputs": [],
      "source": [
        "def get_model_scores(model_params):\n",
        "\n",
        "    result_dict = {}\n",
        "\n",
        "    for key in model_params:\n",
        "        result_dict[key] = {\n",
        "                            'rsquared' : model_params[key]['model'].rsquared,\n",
        "                            'adj_rsquared': model_params[key]['model'].rsquared_adj\n",
        "                           }\n",
        "\n",
        "    compare_results(result_dict)"
      ]
    },
    {
      "cell_type": "code",
      "execution_count": 26,
      "metadata": {
        "id": "zNNrMCx7Mq4K"
      },
      "outputs": [],
      "source": [
        "def ols_reg(x_train, y_train):\n",
        "\n",
        "    ols = sm.OLS(y_train, x_train)\n",
        "\n",
        "    model = ols.fit()\n",
        "\n",
        "    return model"
      ]
    },
    {
      "cell_type": "code",
      "execution_count": 27,
      "metadata": {
        "id": "xJrfgMYTMq4K"
      },
      "outputs": [],
      "source": [
        "from sklearn.feature_selection import f_regression, SelectKBest\n",
        "\n",
        "def apply_f_regression(x, y, k, add_constant = False):\n",
        "\n",
        "    select_features = SelectKBest(f_regression, k = k)\n",
        "    x_new = select_features.fit_transform(x, y)\n",
        "\n",
        "    if add_constant is True:\n",
        "        x_new = sm.add_constant(x_new)\n",
        "\n",
        "    return pd.DataFrame(x_new)"
      ]
    },
    {
      "cell_type": "code",
      "execution_count": 28,
      "metadata": {
        "id": "3hHoLtHnMq4K"
      },
      "outputs": [],
      "source": [
        "model_params = {}\n",
        "\n",
        "for i in range (1, 18):\n",
        "    model_params['f_regression - k:' + str(i)] = build_model(ols_reg,\n",
        "                                                             'price',\n",
        "                                                              FEATURES,\n",
        "                                                              housesale_df,\n",
        "                                                              apply_f_regression,\n",
        "                                                              i,\n",
        "                                                              True)"
      ]
    },
    {
      "cell_type": "code",
      "execution_count": 29,
      "metadata": {
        "colab": {
          "base_uri": "https://localhost:8080/",
          "height": 1000
        },
        "id": "vXK8sedTMq4K",
        "outputId": "83de700f-5fa3-40a8-8fb6-60a42ee6181e"
      },
      "outputs": [
        {
          "output_type": "stream",
          "name": "stdout",
          "text": [
            "Test :  f_regression - k:1\n",
            "R-Squared 0.487624504045168\n",
            "Adjusted R-Squared 0.48759484410328924\n",
            "\n",
            "Test :  f_regression - k:2\n",
            "R-Squared 0.5348574076185428\n",
            "Adjusted R-Squared 0.5348035529708202\n",
            "\n",
            "Test :  f_regression - k:3\n",
            "R-Squared 0.5445664841398274\n",
            "Adjusted R-Squared 0.5444873837781311\n",
            "\n",
            "Test :  f_regression - k:4\n",
            "R-Squared 0.5414768848043437\n",
            "Adjusted R-Squared 0.5413706960328764\n",
            "\n",
            "Test :  f_regression - k:5\n",
            "R-Squared 0.539866047293642\n",
            "Adjusted R-Squared 0.5397328373021225\n",
            "\n",
            "Test :  f_regression - k:6\n",
            "R-Squared 0.5768268447688087\n",
            "Adjusted R-Squared 0.5766798245643278\n",
            "\n",
            "Test :  f_regression - k:7\n",
            "R-Squared 0.5800933690810136\n",
            "Adjusted R-Squared 0.5799474837431148\n",
            "\n",
            "Test :  f_regression - k:8\n",
            "R-Squared 0.5801736556553645\n",
            "Adjusted R-Squared 0.5800034787829103\n",
            "\n",
            "Test :  f_regression - k:9\n",
            "R-Squared 0.6399480421508738\n",
            "Adjusted R-Squared 0.6397812355917589\n",
            "\n",
            "Test :  f_regression - k:10\n",
            "R-Squared 0.6511386107100079\n",
            "Adjusted R-Squared 0.650956775272259\n",
            "\n",
            "Test :  f_regression - k:11\n",
            "R-Squared 0.6560664100300111\n",
            "Adjusted R-Squared 0.6558672130011856\n",
            "\n",
            "Test :  f_regression - k:12\n",
            "R-Squared 0.66232582855477\n",
            "Adjusted R-Squared 0.6621106871770754\n",
            "\n",
            "Test :  f_regression - k:13\n",
            "R-Squared 0.6639800737547437\n",
            "Adjusted R-Squared 0.6637465103213016\n",
            "\n",
            "Test :  f_regression - k:14\n",
            "R-Squared 0.659944820029824\n",
            "Adjusted R-Squared 0.6596887395490494\n",
            "\n",
            "Test :  f_regression - k:15\n",
            "R-Squared 0.692119764119039\n",
            "Adjusted R-Squared 0.6918700640088354\n",
            "\n",
            "Test :  f_regression - k:16\n",
            "R-Squared 0.698627739965695\n",
            "Adjusted R-Squared 0.6983658441369184\n",
            "\n",
            "Test :  f_regression - k:17\n",
            "R-Squared 0.6989806476258567\n",
            "Adjusted R-Squared 0.6987016030350115\n",
            "\n"
          ]
        },
        {
          "output_type": "display_data",
          "data": {
            "text/plain": [
              "<Figure size 1200x1000 with 1 Axes>"
            ],
            "image/png": "[encoded data removed]"
          },
          "metadata": {}
        }
      ],
      "source": [
        "get_model_scores(model_params)"
      ]
    },
    {
      "cell_type": "markdown",
      "metadata": {
        "id": "DU6KhHSBMq4L"
      },
      "source": [
        "# Sklearn Regression Model"
      ]
    },
    {
      "cell_type": "code",
      "execution_count": 30,
      "metadata": {
        "id": "24_KAhisMq4L"
      },
      "outputs": [],
      "source": [
        "def linear_reg(x_train, y_train):\n",
        "\n",
        "    model = LinearRegression().fit(x_train, y_train)\n",
        "\n",
        "    return model"
      ]
    },
    {
      "cell_type": "code",
      "execution_count": 31,
      "metadata": {
        "id": "xffx4Bq1Mq4L"
      },
      "outputs": [],
      "source": [
        "sklearn_model = {}\n",
        "\n",
        "sklearn_model['f_regression'] = build_model(linear_reg,\n",
        "                                          'price',\n",
        "                                           FEATURES,\n",
        "                                           housesale_df,\n",
        "                                           apply_f_regression,\n",
        "                                           9)"
      ]
    },
    {
      "cell_type": "markdown",
      "metadata": {
        "id": "grxVbZi1Mq4L"
      },
      "source": [
        "### Evaluate Model"
      ]
    },
    {
      "cell_type": "code",
      "execution_count": 32,
      "metadata": {
        "id": "OwVl1MwaMq4L"
      },
      "outputs": [],
      "source": [
        "model   = sklearn_model['f_regression']['model']\n",
        "x_train = sklearn_model['f_regression']['x_train']\n",
        "x_test  = sklearn_model['f_regression']['x_test']\n",
        "y_train = sklearn_model['f_regression']['y_train']\n",
        "y_test  = sklearn_model['f_regression']['y_test']\n",
        "y_pred  = sklearn_model['f_regression']['y_pred']"
      ]
    },
    {
      "cell_type": "code",
      "execution_count": 33,
      "metadata": {
        "scrolled": true,
        "colab": {
          "base_uri": "https://localhost:8080/"
        },
        "id": "RC4p2T9cMq4L",
        "outputId": "e785e2b9-a213-41eb-cb8a-34d821afd46b"
      },
      "outputs": [
        {
          "output_type": "stream",
          "name": "stdout",
          "text": [
            "Training score:  0.6353993748849819\n",
            "Testing score:  0.6585452024253808\n"
          ]
        }
      ],
      "source": [
        "print('Training score: ', model.score(x_train, y_train))\n",
        "print('Testing score: ', r2_score(y_test, y_pred))"
      ]
    },
    {
      "cell_type": "code",
      "execution_count": 34,
      "metadata": {
        "scrolled": true,
        "colab": {
          "base_uri": "https://localhost:8080/",
          "height": 781
        },
        "id": "Gfy8THufMq4L",
        "outputId": "be87a02d-392d-4005-e3d8-4832d3c8a4ae"
      },
      "outputs": [
        {
          "output_type": "display_data",
          "data": {
            "text/plain": [
              "<Figure size 1200x1000 with 1 Axes>"
            ],
            "image/png": "[encoded data removed]"
          },
          "metadata": {}
        }
      ],
      "source": [
        "plt.figure(figsize = (12, 10))\n",
        "\n",
        "plt.scatter(y_test.values, y_pred)\n",
        "\n",
        "plt.show()"
      ]
    },
    {
      "cell_type": "markdown",
      "metadata": {
        "id": "J5T_kCtUMq4L"
      },
      "source": [
        "## Feature Selection : mutual_info_regression\n",
        "*  mutual_info_regression : Estimate mutual information for a continuous target variable.\n",
        "* Mutual information between two random variables is a non-negative value, which measures the dependency between the variables.\n",
        "* It is equal to zero if and only if two random variables are independent, and higher values mean higher dependency.\n",
        "\n",
        "https://scikit-learn.org/stable/modules/generated/sklearn.feature_selection.mutual_info_regression.html#sklearn.feature_selection.mutual_info_regression"
      ]
    },
    {
      "cell_type": "code",
      "execution_count": 35,
      "metadata": {
        "id": "AR9xERcBMq4N"
      },
      "outputs": [],
      "source": [
        "from sklearn.feature_selection import mutual_info_regression\n",
        "\n",
        "def apply_mutual_info_regression(x, y, k, add_constant = False):\n",
        "\n",
        "    select_features = SelectKBest(mutual_info_regression, k = k)\n",
        "    x_new = select_features.fit_transform(x, y)\n",
        "\n",
        "    if add_constant is True:\n",
        "        x_new = sm.add_constant(x_new)\n",
        "\n",
        "    return pd.DataFrame(x_new)"
      ]
    },
    {
      "cell_type": "code",
      "execution_count": 36,
      "metadata": {
        "id": "scWBNnWTMq4N"
      },
      "outputs": [],
      "source": [
        "model_params = {}\n",
        "\n",
        "for i in range (1, 18):\n",
        "    model_params['mutual_info_regression - k:' + str(i)] = build_model(ols_reg,\n",
        "                                                                      'price',\n",
        "                                                                       FEATURES,\n",
        "                                                                       housesale_df,\n",
        "                                                                       apply_mutual_info_regression,\n",
        "                                                                       i,\n",
        "                                                                       True)"
      ]
    },
    {
      "cell_type": "code",
      "execution_count": 37,
      "metadata": {
        "id": "KSybTpsNMq4N",
        "outputId": "f2b3a894-e4e6-4fd1-bccf-774fc9e15187",
        "colab": {
          "base_uri": "https://localhost:8080/",
          "height": 1000
        }
      },
      "outputs": [
        {
          "output_type": "stream",
          "name": "stdout",
          "text": [
            "Test :  mutual_info_regression - k:1\n",
            "R-Squared 0.49549432437496954\n",
            "Adjusted R-Squared 0.4954651199943255\n",
            "\n",
            "Test :  mutual_info_regression - k:2\n",
            "R-Squared 0.5367081283087594\n",
            "Adjusted R-Squared 0.5366544879392223\n",
            "\n",
            "Test :  mutual_info_regression - k:3\n",
            "R-Squared 0.6033585671430733\n",
            "Adjusted R-Squared 0.6032896778766708\n",
            "\n",
            "Test :  mutual_info_regression - k:4\n",
            "R-Squared 0.5980335083264409\n",
            "Adjusted R-Squared 0.597940417429805\n",
            "\n",
            "Test :  mutual_info_regression - k:5\n",
            "R-Squared 0.5964841487294723\n",
            "Adjusted R-Squared 0.5963673298274774\n",
            "\n",
            "Test :  mutual_info_regression - k:6\n",
            "R-Squared 0.6067255805092988\n",
            "Adjusted R-Squared 0.6065889478215777\n",
            "\n",
            "Test :  mutual_info_regression - k:7\n",
            "R-Squared 0.6161732943526712\n",
            "Adjusted R-Squared 0.6160177099563813\n",
            "\n",
            "Test :  mutual_info_regression - k:8\n",
            "R-Squared 0.6223177817293606\n",
            "Adjusted R-Squared 0.6221428073405393\n",
            "\n",
            "Test :  mutual_info_regression - k:9\n",
            "R-Squared 0.6195991171699423\n",
            "Adjusted R-Squared 0.6194008425451973\n",
            "\n",
            "Test :  mutual_info_regression - k:10\n",
            "R-Squared 0.6234385381992614\n",
            "Adjusted R-Squared 0.6232204439899478\n",
            "\n",
            "Test :  mutual_info_regression - k:11\n",
            "R-Squared 0.6571280800224023\n",
            "Adjusted R-Squared 0.6569294978841087\n",
            "\n",
            "Test :  mutual_info_regression - k:12\n",
            "R-Squared 0.6561452622937545\n",
            "Adjusted R-Squared 0.6559261831095802\n",
            "\n",
            "Test :  mutual_info_regression - k:13\n",
            "R-Squared 0.654816643375878\n",
            "Adjusted R-Squared 0.6545767105515332\n",
            "\n",
            "Test :  mutual_info_regression - k:14\n",
            "R-Squared 0.6754267394108989\n",
            "Adjusted R-Squared 0.6751823176772687\n",
            "\n",
            "Test :  mutual_info_regression - k:15\n",
            "R-Squared 0.6996705696124546\n",
            "Adjusted R-Squared 0.6994269934320916\n",
            "\n",
            "Test :  mutual_info_regression - k:16\n",
            "R-Squared 0.6925049720093537\n",
            "Adjusted R-Squared 0.692237755427472\n",
            "\n",
            "Test :  mutual_info_regression - k:17\n",
            "R-Squared 0.6966861142739388\n",
            "Adjusted R-Squared 0.6964049426533352\n",
            "\n"
          ]
        },
        {
          "output_type": "display_data",
          "data": {
            "text/plain": [
              "<Figure size 1200x1000 with 1 Axes>"
            ],
            "image/png": "[encoded data removed]"
          },
          "metadata": {}
        }
      ],
      "source": [
        "get_model_scores(model_params)"
      ]
    },
    {
      "cell_type": "markdown",
      "metadata": {
        "id": "oPFZenDiMq4N"
      },
      "source": [
        "# Sklearn Regression Model"
      ]
    },
    {
      "cell_type": "code",
      "execution_count": 38,
      "metadata": {
        "id": "GEkT23J2Mq4N"
      },
      "outputs": [],
      "source": [
        "sklearn_model = {}\n",
        "\n",
        "sklearn_model['mutual_info_regression'] = build_model(linear_reg,\n",
        "                                                      'price',\n",
        "                                                       FEATURES,\n",
        "                                                       housesale_df,\n",
        "                                                       apply_mutual_info_regression,\n",
        "                                                       4)"
      ]
    },
    {
      "cell_type": "markdown",
      "metadata": {
        "id": "DE5X46aIMq4N"
      },
      "source": [
        "### Evaluate Model"
      ]
    },
    {
      "cell_type": "code",
      "execution_count": 39,
      "metadata": {
        "id": "YG18v579Mq4O"
      },
      "outputs": [],
      "source": [
        "model   = sklearn_model['mutual_info_regression']['model']\n",
        "x_train = sklearn_model['mutual_info_regression']['x_train']\n",
        "x_test  = sklearn_model['mutual_info_regression']['x_test']\n",
        "y_train = sklearn_model['mutual_info_regression']['y_train']\n",
        "y_test  = sklearn_model['mutual_info_regression']['y_test']\n",
        "y_pred  = sklearn_model['mutual_info_regression']['y_pred']"
      ]
    },
    {
      "cell_type": "code",
      "execution_count": 40,
      "metadata": {
        "colab": {
          "base_uri": "https://localhost:8080/"
        },
        "id": "Stu4BfNrMq4O",
        "outputId": "0b012464-7025-489b-92ab-8e9929ccb8ca"
      },
      "outputs": [
        {
          "output_type": "stream",
          "name": "stdout",
          "text": [
            "Training score:  0.5985479540711087\n",
            "Testing score:  0.5905139834475304\n"
          ]
        }
      ],
      "source": [
        "print('Training score: ', model.score(x_train, y_train))\n",
        "print('Testing score: ', r2_score(y_test, y_pred))"
      ]
    },
    {
      "cell_type": "code",
      "execution_count": 41,
      "metadata": {
        "scrolled": true,
        "colab": {
          "base_uri": "https://localhost:8080/",
          "height": 781
        },
        "id": "wwrv-RfgMq4O",
        "outputId": "ba6dcecd-a0ca-476e-b928-c18e4e028bb7"
      },
      "outputs": [
        {
          "output_type": "display_data",
          "data": {
            "text/plain": [
              "<Figure size 1200x1000 with 1 Axes>"
            ],
            "image/png": "[encoded data removed]"
          },
          "metadata": {}
        }
      ],
      "source": [
        "plt.figure(figsize = (12, 10))\n",
        "\n",
        "plt.scatter(y_test.values, y_pred)\n",
        "\n",
        "plt.show()"
      ]
    },
    {
      "cell_type": "code",
      "execution_count": 41,
      "metadata": {
        "id": "lgKFp4AlMq4O"
      },
      "outputs": [],
      "source": []
    }
  ],
  "metadata": {
    "kernelspec": {
      "display_name": "Python 3",
      "language": "python",
      "name": "python3"
    },
    "language_info": {
      "codemirror_mode": {
        "name": "ipython",
        "version": 3
      },
      "file_extension": ".py",
      "mimetype": "text/x-python",
      "name": "python",
      "nbconvert_exporter": "python",
      "pygments_lexer": "ipython3",
      "version": "3.7.1"
    },
    "colab": {
      "provenance": [],
      "include_colab_link": true
    }
  },
  "nbformat": 4,
  "nbformat_minor": 0
}