{
  "cells": [
    {
      "cell_type": "markdown",
      "metadata": {
        "id": "view-in-github",
        "colab_type": "text"
      },
      "source": [
        "<a href=\"https://colab.research.google.com/github/22Ifeoma22/22Ifeoma22/blob/main/NetworkExamples_5.ipynb\" target=\"_parent\"><img src=\"https://colab.research.google.com/assets/colab-badge.svg\" alt=\"Open In Colab\"/></a>"
      ]
    },
    {
      "cell_type": "markdown",
      "metadata": {
        "id": "L6ExJMgctPFW"
      },
      "source": [
        "# Machine Learning with PyTorch"
      ]
    },
    {
      "cell_type": "markdown",
      "metadata": {
        "id": "zobb1Za1tPFX"
      },
      "source": [
        "## Tasks with Networks"
      ]
    },
    {
      "cell_type": "markdown",
      "metadata": {
        "id": "WbXo0uh9tPFX"
      },
      "source": [
        "<font size=\"+1\">A simple feature classifier</font>\n",
        "<a href=\"NetworkExamples_0.ipynb\"><img src=\"img/open-notebook.png\" align=\"right\"/></a>\n",
        "\n",
        "<font size=\"+1\">An image classifier</font>\n",
        "<a href=\"NetworkExamples_1.ipynb\"><img src=\"img/open-notebook.png\" align=\"right\"/></a>\n",
        "\n",
        "<font size=\"+1\">A regression prediction</font>\n",
        "<a href=\"NetworkExamples_2.ipynb\"><img src=\"img/open-notebook.png\" align=\"right\"/></a>\n",
        "\n",
        "<font size=\"+1\">Clustering with PyTorch</font>\n",
        "<a href=\"NetworkExamples_3.ipynb\"><img src=\"img/open-notebook.png\" align=\"right\"/></a>\n",
        "\n",
        "<font size=\"+1\">Generative Adversarial Networks (GAN)</font>\n",
        "<a href=\"NetworkExamples_4.ipynb\"><img src=\"img/open-notebook.png\" align=\"right\"/></a>\n",
        "\n",
        "<font size=\"+1\"><u><b>Part of Speech Tagger</b></u></font>\n",
        "<a href=\"NetworkExamples_5.ipynb\"><img src=\"img/open-notebook.png\" align=\"right\"/></a>"
      ]
    },
    {
      "cell_type": "markdown",
      "metadata": {
        "id": "winoRxXZtPFY"
      },
      "source": [
        "## Part of Speech Tagger\n",
        "\n",
        "In this lesson we create an LSTM-based recurrent neural network to identify parts of speech.  This example is taken very closely from the official [PyTorch tutorial](https://pytorch.org/tutorials/beginner/nlp/sequence_models_tutorial.html#example-an-lstm-for-part-of-speech-tagging) by Robert Guthrie.  Some minor changes are made to the code and new commentary is introduced.\n",
        "\n",
        "The example we will look at here is enhanced and reworked and enhanced in an official AllenNLP tutorial that is also presented in the next chapter.  Comparing the styles of these two notebooks is a useful exercise.  The example here uses a very small toy training set; however, the same network *could* be trained against a robust corpus and produce reasonably good classification."
      ]
    },
    {
      "cell_type": "markdown",
      "metadata": {
        "id": "Qr410dp5tPFY"
      },
      "source": [
        "### Remembering state in a network\n",
        "\n",
        "As was mentioned briefly, the class of network layers called Recurrent Neural Networks are able to remember state within a layer. In the case of an LSTM (Long Short-term Memory) layer, there are extra tensors defining the *hidden state* along with the direct state of the weights for that layer.  The hidden state is able to remember information from arbitrary earlier states.\n",
        "\n",
        "In particular, an LSTM has three additional activation functions for the hidden state.  One activation function (also called a \"gate\") is the *input gate*, the next is the \"forget gate\", the last is the \"output gate.\"  Each of these gates is parameterized differently, and they each take the same inputs as would a fully-connected (linear) layer.  The key difference is that *some but not all* of the current hidden state will contribute to the input gate.\n",
        "\n",
        "Whether a particular neuron is involved in feedback is based simply on the activation of its output gate.  But as well, depending on the parameters to the forget gate and the inputs, that hidden neuron may become free to be retrained on new information.  An illustration at the [A.I. Wiki](https://skymind.ai/wiki/lstm#long) provides a good overview.\n",
        "\n",
        "![LSTM gating](img/gers_lstm.png)"
      ]
    },
    {
      "cell_type": "markdown",
      "metadata": {
        "id": "8SWsMlN8tPFZ"
      },
      "source": [
        "### Definining the network\n",
        "\n",
        "The network we create here is fairly similar to some others.  It is not very deep, as these go, but the LSTM provides a kind of \"depth\" within its one layer by retaining memory in hidden state."
      ]
    },
    {
      "cell_type": "code",
      "execution_count": 2,
      "metadata": {
        "id": "8NX1TKSAtPFZ"
      },
      "outputs": [],
      "source": [
        "import torch\n",
        "import torch.nn as nn\n",
        "import torch.nn.functional as F\n",
        "import torch.optim as optim"
      ]
    },
    {
      "cell_type": "markdown",
      "metadata": {
        "id": "keVDy22atPFZ"
      },
      "source": [
        "We do just a bit of bookkeeping up front.  We need some training data, which here we simply define in a list with sentences and their parts-of-speech.  In a more fleshed out model, the training examples would be much more numerous and probably live in external files or databases, and utilize a standard tagging format.  Here we simply create parallel lists of words and their part-of-speech."
      ]
    },
    {
      "cell_type": "code",
      "execution_count": 3,
      "metadata": {
        "colab": {
          "base_uri": "https://localhost:8080/"
        },
        "id": "19oJ4XUMtPFa",
        "outputId": "a69995e8-1202-4f91-ba9d-ab35fa8e9a23"
      },
      "outputs": [
        {
          "output_type": "stream",
          "name": "stdout",
          "text": [
            "{'the': 0, 'dog': 1, 'ate': 2, 'apple': 3, 'we': 4, 'often': 5, 'pie': 6, 'everybody': 7, 'read': 8, 'that': 9, 'book': 10, 'do': 11, 'not': 12, 'me': 13}\n"
          ]
        }
      ],
      "source": [
        "training_data = [\n",
        "    (\"the dog ate the apple\".split(), [\"DET\", \"NOUN\", \"VERB\", \"DET\", \"NOUN\"]),\n",
        "    (\"we often ate pie\".split(), [\"PRON\", \"PART\", \"VERB\", \"NOUN\"]),\n",
        "    (\"everybody read that book\".split(), [\"NOUN\", \"VERB\", \"DET\", \"NOUN\"]),\n",
        "    (\"do not dog me\".split(), [\"VERB\", \"PART\", \"VERB\", \"PRON\"]),\n",
        "    (\"do not dog the dog\".split(), [\"VERB\", \"PART\", \"VERB\", \"DET\", \"NOUN\"]),\n",
        "    (\"we dog everybody\".split(), [\"PRON\", \"VERB\", \"NOUN\"])\n",
        "]\n",
        "\n",
        "word_to_ix = {}\n",
        "for sent, tags in training_data:\n",
        "    for word in sent:\n",
        "        if word not in word_to_ix:\n",
        "            word_to_ix[word] = len(word_to_ix)\n",
        "\n",
        "print(word_to_ix)"
      ]
    },
    {
      "cell_type": "markdown",
      "metadata": {
        "id": "YVkkdGiTtPFb"
      },
      "source": [
        "We need a a function to encode words as integers and generate tensors based on those.  "
      ]
    },
    {
      "cell_type": "code",
      "execution_count": 4,
      "metadata": {
        "id": "KsYEHT89tPFb"
      },
      "outputs": [],
      "source": [
        "def prepare_sequence(seq, tag_to_ix):\n",
        "    idxs = [tag_to_ix[w] for w in seq]\n",
        "    return torch.tensor(idxs, dtype=torch.long)"
      ]
    },
    {
      "cell_type": "markdown",
      "metadata": {
        "id": "tvLQkm1LtPFb"
      },
      "source": [
        "We also need to give numeric values to the target tags.  In a more robust arrangment, we would probably generate these from the collection of tags actually seen in training data.  For these five parts-of-speech, we simply hard code them.  The order is not significant."
      ]
    },
    {
      "cell_type": "code",
      "execution_count": 5,
      "metadata": {
        "id": "cyJa6r3btPFb"
      },
      "outputs": [],
      "source": [
        "tag_to_ix = {\"DET\": 0, \"NOUN\": 1, \"VERB\": 2, \"PRON\": 3, \"PART\": 4}\n",
        "ix_to_tag = {v:k for (k, v) in tag_to_ix.items()}"
      ]
    },
    {
      "cell_type": "code",
      "execution_count": 6,
      "metadata": {
        "colab": {
          "base_uri": "https://localhost:8080/"
        },
        "id": "xKoru8z-tPFb",
        "outputId": "f7eafa28-41bc-4f3e-b1a4-6341fed50c65"
      },
      "outputs": [
        {
          "output_type": "execute_result",
          "data": {
            "text/plain": [
              "{0: 'DET', 1: 'NOUN', 2: 'VERB', 3: 'PRON', 4: 'PART'}"
            ]
          },
          "metadata": {},
          "execution_count": 6
        }
      ],
      "source": [
        "ix_to_tag"
      ]
    },
    {
      "cell_type": "markdown",
      "metadata": {
        "id": "zPc5rQrDtPFb"
      },
      "source": [
        "### Defining the model\n",
        "\n",
        "This is where the real work happens, but there is surprisingly little of it needed.  We simply initialize with our layers, and create a very simple forward function.  \n",
        "\n",
        "We need to represent words in the vocabulary as vectors/tensors into a less dimensional space than, for example, a one-hot encoding of all the words in the vocabulary.  Each word is mapped to one vector.  Moreover, in this embedding, the transform learns to give words that are used in similar ways comparatively similar vectors, thereby capturing their similarity.\n",
        "\n",
        "In this particular toy example, the original tensor space does not have very many dimensions since it is a small vocabulary.  But we reduce it further for both tractability and potentially to identify distance similarities between words in a more robust training set.\n",
        "\n",
        "An embedding layer is learned jointly with a neural network model."
      ]
    },
    {
      "cell_type": "code",
      "execution_count": 7,
      "metadata": {
        "id": "PoIhK20dtPFb"
      },
      "outputs": [],
      "source": [
        "class LSTMTagger(nn.Module):\n",
        "    def __init__(self, embedding_dim, hidden_dim, vocab_size, tagset_size):\n",
        "        super(LSTMTagger, self).__init__()\n",
        "        self.hidden_dim = hidden_dim\n",
        "\n",
        "        self.word_embeddings = nn.Embedding(vocab_size, embedding_dim)\n",
        "\n",
        "        # The LSTM takes word embeddings as inputs, and outputs hidden states\n",
        "        # with dimensionality hidden_dim.\n",
        "        self.lstm = nn.LSTM(embedding_dim, hidden_dim)\n",
        "\n",
        "        # The linear layer that maps from hidden state space to tag space\n",
        "        self.hidden2tag = nn.Linear(hidden_dim, tagset_size)\n",
        "\n",
        "    def forward(self, sentence):\n",
        "        embeds = self.word_embeddings(sentence)\n",
        "        lstm_out, _ = self.lstm(embeds.view(len(sentence), 1, -1))\n",
        "        tag_space = self.hidden2tag(lstm_out.view(len(sentence), -1))\n",
        "        tag_scores = F.log_softmax(tag_space, dim=1)\n",
        "        return tag_scores"
      ]
    },
    {
      "cell_type": "markdown",
      "metadata": {
        "id": "0B8ti_ahtPFc"
      },
      "source": [
        "### Training the model\n",
        "\n",
        "The training regime is similar to that used in other networks.  We do not worry about some of the fancier steps like decaying learning rate for this toy example.  The below code simply goes through 300 epochs with no early exit or tweaking."
      ]
    },
    {
      "cell_type": "code",
      "execution_count": 8,
      "metadata": {
        "colab": {
          "base_uri": "https://localhost:8080/"
        },
        "id": "QVyZ2wZwtPFc",
        "outputId": "5994728d-7c7b-44af-9434-e814bfa57a42"
      },
      "outputs": [
        {
          "output_type": "stream",
          "name": "stdout",
          "text": [
            "Initial\n",
            "tensor([[-1.2107, -1.3749, -1.7704, -2.0437, -1.9016],\n",
            "        [-1.2281, -1.4160, -1.6639, -2.0703, -1.9043],\n",
            "        [-1.2499, -1.3359, -1.6957, -2.2076, -1.8508],\n",
            "        [-1.1973, -1.4110, -1.6985, -2.1509, -1.8660],\n",
            "        [-1.1888, -1.4384, -1.7194, -2.0072, -1.9341]])\n",
            "CPU times: user 4.66 s, sys: 317 ms, total: 4.98 s\n",
            "Wall time: 6.23 s\n"
          ]
        }
      ],
      "source": [
        "%%time\n",
        "# These will usually on the order of 32 or 64 dimensional for a\n",
        "# real-world vocabulary and training set size\n",
        "EMBEDDING_DIM = 6\n",
        "HIDDEN_DIM = 6\n",
        "\n",
        "model = LSTMTagger(EMBEDDING_DIM, HIDDEN_DIM, len(word_to_ix), len(tag_to_ix))\n",
        "loss_function = nn.NLLLoss()\n",
        "optimizer = optim.SGD(model.parameters(), lr=0.1)\n",
        "\n",
        "# See what the scores are before training\n",
        "# Note that element i,j of the output is the score for tag j for word i.\n",
        "# Here we don't need to train, so the code is wrapped in torch.no_grad()\n",
        "with torch.no_grad():\n",
        "    inputs = prepare_sequence(training_data[0][0], word_to_ix)\n",
        "    tag_scores = model(inputs)\n",
        "    print('Initial')\n",
        "    print(tag_scores)\n",
        "\n",
        "for epoch in range(300):  # again, normally you would NOT do 300 epochs, it is toy data\n",
        "    for sentence, tags in training_data:\n",
        "        # Step 1. Remember that Pytorch accumulates gradients.\n",
        "        # We need to clear them out before each instance\n",
        "        model.zero_grad()\n",
        "\n",
        "        # Step 2. Get our inputs ready for the network, that is, turn them into\n",
        "        # Tensors of word indices.\n",
        "        sentence_in = prepare_sequence(sentence, word_to_ix)\n",
        "        targets = prepare_sequence(tags, tag_to_ix)\n",
        "\n",
        "        # Step 3. Run our forward pass.\n",
        "        tag_scores = model(sentence_in)\n",
        "\n",
        "        # Step 4. Compute the loss, gradients, and update the parameters by\n",
        "        #  calling optimizer.step()\n",
        "        loss = loss_function(tag_scores, targets)\n",
        "        loss.backward()\n",
        "        optimizer.step()"
      ]
    },
    {
      "cell_type": "markdown",
      "metadata": {
        "id": "4gIZldgitPFc"
      },
      "source": [
        "### Making predictions\n",
        "\n",
        "First let us tag some novel sentences.  These sentence, however, do not contain any novel words.  But of significance, the same word `dog` is used as both a noun and verb in the training set, and in both ways in the same sentence in the test set.  The tagger correctly identifies the role of each word. I.e.:\n",
        "\n",
        "* _dog_ (verb): follow someone closely and persistently.\n",
        "* _dog_ (noun): a domesticated carnivorous mammal"
      ]
    },
    {
      "cell_type": "code",
      "execution_count": 9,
      "metadata": {
        "colab": {
          "base_uri": "https://localhost:8080/"
        },
        "id": "etYxSchNtPFc",
        "outputId": "6456820b-9877-4938-9eeb-d862c0045bbb"
      },
      "outputs": [
        {
          "output_type": "stream",
          "name": "stdout",
          "text": [
            "the[DET] dog[NOUN] read[VERB] the[DET] book[NOUN] \n",
            "\n",
            "we[PRON] dog[VERB] the[DET] dog[NOUN] \n",
            "\n"
          ]
        }
      ],
      "source": [
        "test_data = [\n",
        "    \"the dog read the book\".split(),\n",
        "    \"we dog the dog\".split()\n",
        "]\n",
        "\n",
        "with torch.no_grad():\n",
        "    for sentence in test_data:\n",
        "        inputs = prepare_sequence(sentence, word_to_ix)\n",
        "        for word, scores in zip(sentence, model(inputs)):\n",
        "            best = torch.argmax(scores).item()\n",
        "            part = ix_to_tag[best]\n",
        "            print(f\"{word}[{part}]\", end=' ')\n",
        "        print('\\n')"
      ]
    },
    {
      "cell_type": "markdown",
      "metadata": {
        "id": "oL1PdeMjtPFc"
      },
      "source": [
        "Let us also look at the logit predictions word-by-word in one sentence.  The \"winner\" for the part-of-speech for each word is rather strongly preferred, but in principle we could further rank \"probabilities\" based on the output weights."
      ]
    },
    {
      "cell_type": "code",
      "execution_count": 10,
      "metadata": {
        "colab": {
          "base_uri": "https://localhost:8080/",
          "height": 206
        },
        "id": "monC_MQttPFc",
        "outputId": "00870bd6-1785-4a42-a753-1b937f9828f7"
      },
      "outputs": [
        {
          "output_type": "execute_result",
          "data": {
            "text/plain": [
              "           DET      NOUN      VERB       PRON      PART\n",
              "the  -0.022968 -5.911985 -7.533713  -9.249162 -3.944136\n",
              "dog  -5.546175 -0.017568 -4.415218  -7.211486 -7.290667\n",
              "read -3.414853 -1.382752 -0.343624  -6.258547 -5.274189\n",
              "the  -0.021206 -4.014538 -6.580456 -10.048566 -6.501973\n",
              "book -4.155781 -0.031058 -5.679421  -4.668800 -6.161973"
            ],
            "text/html": [
              "\n",
              "  <div id=\"df-09c6b2ab-6c33-4c8b-9f24-a30334223389\" class=\"colab-df-container\">\n",
              "    <div>\n",
              "<style scoped>\n",
              "    .dataframe tbody tr th:only-of-type {\n",
              "        vertical-align: middle;\n",
              "    }\n",
              "\n",
              "    .dataframe tbody tr th {\n",
              "        vertical-align: top;\n",
              "    }\n",
              "\n",
              "    .dataframe thead th {\n",
              "        text-align: right;\n",
              "    }\n",
              "</style>\n",
              "<table border=\"1\" class=\"dataframe\">\n",
              "  <thead>\n",
              "    <tr style=\"text-align: right;\">\n",
              "      <th></th>\n",
              "      <th>DET</th>\n",
              "      <th>NOUN</th>\n",
              "      <th>VERB</th>\n",
              "      <th>PRON</th>\n",
              "      <th>PART</th>\n",
              "    </tr>\n",
              "  </thead>\n",
              "  <tbody>\n",
              "    <tr>\n",
              "      <th>the</th>\n",
              "      <td>-0.022968</td>\n",
              "      <td>-5.911985</td>\n",
              "      <td>-7.533713</td>\n",
              "      <td>-9.249162</td>\n",
              "      <td>-3.944136</td>\n",
              "    </tr>\n",
              "    <tr>\n",
              "      <th>dog</th>\n",
              "      <td>-5.546175</td>\n",
              "      <td>-0.017568</td>\n",
              "      <td>-4.415218</td>\n",
              "      <td>-7.211486</td>\n",
              "      <td>-7.290667</td>\n",
              "    </tr>\n",
              "    <tr>\n",
              "      <th>read</th>\n",
              "      <td>-3.414853</td>\n",
              "      <td>-1.382752</td>\n",
              "      <td>-0.343624</td>\n",
              "      <td>-6.258547</td>\n",
              "      <td>-5.274189</td>\n",
              "    </tr>\n",
              "    <tr>\n",
              "      <th>the</th>\n",
              "      <td>-0.021206</td>\n",
              "      <td>-4.014538</td>\n",
              "      <td>-6.580456</td>\n",
              "      <td>-10.048566</td>\n",
              "      <td>-6.501973</td>\n",
              "    </tr>\n",
              "    <tr>\n",
              "      <th>book</th>\n",
              "      <td>-4.155781</td>\n",
              "      <td>-0.031058</td>\n",
              "      <td>-5.679421</td>\n",
              "      <td>-4.668800</td>\n",
              "      <td>-6.161973</td>\n",
              "    </tr>\n",
              "  </tbody>\n",
              "</table>\n",
              "</div>\n",
              "    <div class=\"colab-df-buttons\">\n",
              "\n",
              "  <div class=\"colab-df-container\">\n",
              "    <button class=\"colab-df-convert\" onclick=\"convertToInteractive('df-09c6b2ab-6c33-4c8b-9f24-a30334223389')\"\n",
              "            title=\"Convert this dataframe to an interactive table.\"\n",
              "            style=\"display:none;\">\n",
              "\n",
              "  <svg xmlns=\"http://www.w3.org/2000/svg\" height=\"24px\" viewBox=\"0 -960 960 960\">\n",
              "    <path d=\"M120-120v-720h720v720H120Zm60-500h600v-160H180v160Zm220 220h160v-160H400v160Zm0 220h160v-160H400v160ZM180-400h160v-160H180v160Zm440 0h160v-160H620v160ZM180-180h160v-160H180v160Zm440 0h160v-160H620v160Z\"/>\n",
              "  </svg>\n",
              "    </button>\n",
              "\n",
              "  <style>\n",
              "    .colab-df-container {\n",
              "      display:flex;\n",
              "      gap: 12px;\n",
              "    }\n",
              "\n",
              "    .colab-df-convert {\n",
              "      background-color: #E8F0FE;\n",
              "      border: none;\n",
              "      border-radius: 50%;\n",
              "      cursor: pointer;\n",
              "      display: none;\n",
              "      fill: #1967D2;\n",
              "      height: 32px;\n",
              "      padding: 0 0 0 0;\n",
              "      width: 32px;\n",
              "    }\n",
              "\n",
              "    .colab-df-convert:hover {\n",
              "      background-color: #E2EBFA;\n",
              "      box-shadow: 0px 1px 2px rgba(60, 64, 67, 0.3), 0px 1px 3px 1px rgba(60, 64, 67, 0.15);\n",
              "      fill: #174EA6;\n",
              "    }\n",
              "\n",
              "    .colab-df-buttons div {\n",
              "      margin-bottom: 4px;\n",
              "    }\n",
              "\n",
              "    [theme=dark] .colab-df-convert {\n",
              "      background-color: #3B4455;\n",
              "      fill: #D2E3FC;\n",
              "    }\n",
              "\n",
              "    [theme=dark] .colab-df-convert:hover {\n",
              "      background-color: #434B5C;\n",
              "      box-shadow: 0px 1px 3px 1px rgba(0, 0, 0, 0.15);\n",
              "      filter: drop-shadow(0px 1px 2px rgba(0, 0, 0, 0.3));\n",
              "      fill: #FFFFFF;\n",
              "    }\n",
              "  </style>\n",
              "\n",
              "    <script>\n",
              "      const buttonEl =\n",
              "        document.querySelector('#df-09c6b2ab-6c33-4c8b-9f24-a30334223389 button.colab-df-convert');\n",
              "      buttonEl.style.display =\n",
              "        google.colab.kernel.accessAllowed ? 'block' : 'none';\n",
              "\n",
              "      async function convertToInteractive(key) {\n",
              "        const element = document.querySelector('#df-09c6b2ab-6c33-4c8b-9f24-a30334223389');\n",
              "        const dataTable =\n",
              "          await google.colab.kernel.invokeFunction('convertToInteractive',\n",
              "                                                    [key], {});\n",
              "        if (!dataTable) return;\n",
              "\n",
              "        const docLinkHtml = 'Like what you see? Visit the ' +\n",
              "          '<a target=\"_blank\" href=https://colab.research.google.com/notebooks/data_table.ipynb>data table notebook</a>'\n",
              "          + ' to learn more about interactive tables.';\n",
              "        element.innerHTML = '';\n",
              "        dataTable['output_type'] = 'display_data';\n",
              "        await google.colab.output.renderOutput(dataTable, element);\n",
              "        const docLink = document.createElement('div');\n",
              "        docLink.innerHTML = docLinkHtml;\n",
              "        element.appendChild(docLink);\n",
              "      }\n",
              "    </script>\n",
              "  </div>\n",
              "\n",
              "\n",
              "<div id=\"df-54539541-6fe5-470b-8665-df57fd784cca\">\n",
              "  <button class=\"colab-df-quickchart\" onclick=\"quickchart('df-54539541-6fe5-470b-8665-df57fd784cca')\"\n",
              "            title=\"Suggest charts\"\n",
              "            style=\"display:none;\">\n",
              "\n",
              "<svg xmlns=\"http://www.w3.org/2000/svg\" height=\"24px\"viewBox=\"0 0 24 24\"\n",
              "     width=\"24px\">\n",
              "    <g>\n",
              "        <path d=\"M19 3H5c-1.1 0-2 .9-2 2v14c0 1.1.9 2 2 2h14c1.1 0 2-.9 2-2V5c0-1.1-.9-2-2-2zM9 17H7v-7h2v7zm4 0h-2V7h2v10zm4 0h-2v-4h2v4z\"/>\n",
              "    </g>\n",
              "</svg>\n",
              "  </button>\n",
              "\n",
              "<style>\n",
              "  .colab-df-quickchart {\n",
              "      --bg-color: #E8F0FE;\n",
              "      --fill-color: #1967D2;\n",
              "      --hover-bg-color: #E2EBFA;\n",
              "      --hover-fill-color: #174EA6;\n",
              "      --disabled-fill-color: #AAA;\n",
              "      --disabled-bg-color: #DDD;\n",
              "  }\n",
              "\n",
              "  [theme=dark] .colab-df-quickchart {\n",
              "      --bg-color: #3B4455;\n",
              "      --fill-color: #D2E3FC;\n",
              "      --hover-bg-color: #434B5C;\n",
              "      --hover-fill-color: #FFFFFF;\n",
              "      --disabled-bg-color: #3B4455;\n",
              "      --disabled-fill-color: #666;\n",
              "  }\n",
              "\n",
              "  .colab-df-quickchart {\n",
              "    background-color: var(--bg-color);\n",
              "    border: none;\n",
              "    border-radius: 50%;\n",
              "    cursor: pointer;\n",
              "    display: none;\n",
              "    fill: var(--fill-color);\n",
              "    height: 32px;\n",
              "    padding: 0;\n",
              "    width: 32px;\n",
              "  }\n",
              "\n",
              "  .colab-df-quickchart:hover {\n",
              "    background-color: var(--hover-bg-color);\n",
              "    box-shadow: 0 1px 2px rgba(60, 64, 67, 0.3), 0 1px 3px 1px rgba(60, 64, 67, 0.15);\n",
              "    fill: var(--button-hover-fill-color);\n",
              "  }\n",
              "\n",
              "  .colab-df-quickchart-complete:disabled,\n",
              "  .colab-df-quickchart-complete:disabled:hover {\n",
              "    background-color: var(--disabled-bg-color);\n",
              "    fill: var(--disabled-fill-color);\n",
              "    box-shadow: none;\n",
              "  }\n",
              "\n",
              "  .colab-df-spinner {\n",
              "    border: 2px solid var(--fill-color);\n",
              "    border-color: transparent;\n",
              "    border-bottom-color: var(--fill-color);\n",
              "    animation:\n",
              "      spin 1s steps(1) infinite;\n",
              "  }\n",
              "\n",
              "  @keyframes spin {\n",
              "    0% {\n",
              "      border-color: transparent;\n",
              "      border-bottom-color: var(--fill-color);\n",
              "      border-left-color: var(--fill-color);\n",
              "    }\n",
              "    20% {\n",
              "      border-color: transparent;\n",
              "      border-left-color: var(--fill-color);\n",
              "      border-top-color: var(--fill-color);\n",
              "    }\n",
              "    30% {\n",
              "      border-color: transparent;\n",
              "      border-left-color: var(--fill-color);\n",
              "      border-top-color: var(--fill-color);\n",
              "      border-right-color: var(--fill-color);\n",
              "    }\n",
              "    40% {\n",
              "      border-color: transparent;\n",
              "      border-right-color: var(--fill-color);\n",
              "      border-top-color: var(--fill-color);\n",
              "    }\n",
              "    60% {\n",
              "      border-color: transparent;\n",
              "      border-right-color: var(--fill-color);\n",
              "    }\n",
              "    80% {\n",
              "      border-color: transparent;\n",
              "      border-right-color: var(--fill-color);\n",
              "      border-bottom-color: var(--fill-color);\n",
              "    }\n",
              "    90% {\n",
              "      border-color: transparent;\n",
              "      border-bottom-color: var(--fill-color);\n",
              "    }\n",
              "  }\n",
              "</style>\n",
              "\n",
              "  <script>\n",
              "    async function quickchart(key) {\n",
              "      const quickchartButtonEl =\n",
              "        document.querySelector('#' + key + ' button');\n",
              "      quickchartButtonEl.disabled = true;  // To prevent multiple clicks.\n",
              "      quickchartButtonEl.classList.add('colab-df-spinner');\n",
              "      try {\n",
              "        const charts = await google.colab.kernel.invokeFunction(\n",
              "            'suggestCharts', [key], {});\n",
              "      } catch (error) {\n",
              "        console.error('Error during call to suggestCharts:', error);\n",
              "      }\n",
              "      quickchartButtonEl.classList.remove('colab-df-spinner');\n",
              "      quickchartButtonEl.classList.add('colab-df-quickchart-complete');\n",
              "    }\n",
              "    (() => {\n",
              "      let quickchartButtonEl =\n",
              "        document.querySelector('#df-54539541-6fe5-470b-8665-df57fd784cca button');\n",
              "      quickchartButtonEl.style.display =\n",
              "        google.colab.kernel.accessAllowed ? 'block' : 'none';\n",
              "    })();\n",
              "  </script>\n",
              "</div>\n",
              "\n",
              "  <div id=\"id_af340a7d-2e1d-4e07-a1b8-f88ccc7c0d80\">\n",
              "    <style>\n",
              "      .colab-df-generate {\n",
              "        background-color: #E8F0FE;\n",
              "        border: none;\n",
              "        border-radius: 50%;\n",
              "        cursor: pointer;\n",
              "        display: none;\n",
              "        fill: #1967D2;\n",
              "        height: 32px;\n",
              "        padding: 0 0 0 0;\n",
              "        width: 32px;\n",
              "      }\n",
              "\n",
              "      .colab-df-generate:hover {\n",
              "        background-color: #E2EBFA;\n",
              "        box-shadow: 0px 1px 2px rgba(60, 64, 67, 0.3), 0px 1px 3px 1px rgba(60, 64, 67, 0.15);\n",
              "        fill: #174EA6;\n",
              "      }\n",
              "\n",
              "      [theme=dark] .colab-df-generate {\n",
              "        background-color: #3B4455;\n",
              "        fill: #D2E3FC;\n",
              "      }\n",
              "\n",
              "      [theme=dark] .colab-df-generate:hover {\n",
              "        background-color: #434B5C;\n",
              "        box-shadow: 0px 1px 3px 1px rgba(0, 0, 0, 0.15);\n",
              "        filter: drop-shadow(0px 1px 2px rgba(0, 0, 0, 0.3));\n",
              "        fill: #FFFFFF;\n",
              "      }\n",
              "    </style>\n",
              "    <button class=\"colab-df-generate\" onclick=\"generateWithVariable('sentence')\"\n",
              "            title=\"Generate code using this dataframe.\"\n",
              "            style=\"display:none;\">\n",
              "\n",
              "  <svg xmlns=\"http://www.w3.org/2000/svg\" height=\"24px\"viewBox=\"0 0 24 24\"\n",
              "       width=\"24px\">\n",
              "    <path d=\"M7,19H8.4L18.45,9,17,7.55,7,17.6ZM5,21V16.75L18.45,3.32a2,2,0,0,1,2.83,0l1.4,1.43a1.91,1.91,0,0,1,.58,1.4,1.91,1.91,0,0,1-.58,1.4L9.25,21ZM18.45,9,17,7.55Zm-12,3A5.31,5.31,0,0,0,4.9,8.1,5.31,5.31,0,0,0,1,6.5,5.31,5.31,0,0,0,4.9,4.9,5.31,5.31,0,0,0,6.5,1,5.31,5.31,0,0,0,8.1,4.9,5.31,5.31,0,0,0,12,6.5,5.46,5.46,0,0,0,6.5,12Z\"/>\n",
              "  </svg>\n",
              "    </button>\n",
              "    <script>\n",
              "      (() => {\n",
              "      const buttonEl =\n",
              "        document.querySelector('#id_af340a7d-2e1d-4e07-a1b8-f88ccc7c0d80 button.colab-df-generate');\n",
              "      buttonEl.style.display =\n",
              "        google.colab.kernel.accessAllowed ? 'block' : 'none';\n",
              "\n",
              "      buttonEl.onclick = () => {\n",
              "        google.colab.notebook.generateWithVariable('sentence');\n",
              "      }\n",
              "      })();\n",
              "    </script>\n",
              "  </div>\n",
              "\n",
              "    </div>\n",
              "  </div>\n"
            ],
            "application/vnd.google.colaboratory.intrinsic+json": {
              "type": "dataframe",
              "variable_name": "sentence",
              "summary": "{\n  \"name\": \"sentence\",\n  \"rows\": 5,\n  \"fields\": [\n    {\n      \"column\": \"DET\",\n      \"properties\": {\n        \"dtype\": \"float32\",\n        \"num_unique_values\": 5,\n        \"samples\": [\n          -5.546175003051758,\n          -4.155780792236328,\n          -3.414853096008301\n        ],\n        \"semantic_type\": \"\",\n        \"description\": \"\"\n      }\n    },\n    {\n      \"column\": \"NOUN\",\n      \"properties\": {\n        \"dtype\": \"float32\",\n        \"num_unique_values\": 5,\n        \"samples\": [\n          -0.017567509785294533,\n          -0.031058067455887794,\n          -1.3827524185180664\n        ],\n        \"semantic_type\": \"\",\n        \"description\": \"\"\n      }\n    },\n    {\n      \"column\": \"VERB\",\n      \"properties\": {\n        \"dtype\": \"float32\",\n        \"num_unique_values\": 5,\n        \"samples\": [\n          -4.415218353271484,\n          -5.6794209480285645,\n          -0.34362393617630005\n        ],\n        \"semantic_type\": \"\",\n        \"description\": \"\"\n      }\n    },\n    {\n      \"column\": \"PRON\",\n      \"properties\": {\n        \"dtype\": \"float32\",\n        \"num_unique_values\": 5,\n        \"samples\": [\n          -7.211485862731934,\n          -4.668800354003906,\n          -6.258547306060791\n        ],\n        \"semantic_type\": \"\",\n        \"description\": \"\"\n      }\n    },\n    {\n      \"column\": \"PART\",\n      \"properties\": {\n        \"dtype\": \"float32\",\n        \"num_unique_values\": 5,\n        \"samples\": [\n          -7.290666580200195,\n          -6.161972522735596,\n          -5.274188995361328\n        ],\n        \"semantic_type\": \"\",\n        \"description\": \"\"\n      }\n    }\n  ]\n}"
            }
          },
          "metadata": {},
          "execution_count": 10
        }
      ],
      "source": [
        "import pandas as pd\n",
        "\n",
        "log_softmax = model(prepare_sequence(test_data[0], word_to_ix))\n",
        "sentence = pd.DataFrame(log_softmax.detach().numpy(), columns=tag_to_ix)\n",
        "sentence.index = test_data[0]\n",
        "sentence"
      ]
    },
    {
      "cell_type": "markdown",
      "metadata": {
        "id": "AgAaxQqZtPFc"
      },
      "source": [
        "## Next Chapter\n",
        "\n",
        "**Natural Language Processing**: This lesson looked at Reinforcement Learning.  In the next chaper we turn to the AllenNLP extension to PyTorch.\n",
        "\n",
        "<a href=\"AllenNLP_0.ipynb\"><img src=\"img/open-notebook.png\" align=\"left\"/></a>"
      ]
    }
  ],
  "metadata": {
    "kernelspec": {
      "display_name": "Python 3",
      "language": "python",
      "name": "python3"
    },
    "language_info": {
      "codemirror_mode": {
        "name": "ipython",
        "version": 3
      },
      "file_extension": ".py",
      "mimetype": "text/x-python",
      "name": "python",
      "nbconvert_exporter": "python",
      "pygments_lexer": "ipython3",
      "version": "3.8.8"
    },
    "colab": {
      "provenance": [],
      "include_colab_link": true
    }
  },
  "nbformat": 4,
  "nbformat_minor": 0
}