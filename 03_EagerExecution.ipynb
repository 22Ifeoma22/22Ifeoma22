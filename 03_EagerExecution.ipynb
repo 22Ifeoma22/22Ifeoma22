{
  "cells": [
    {
      "cell_type": "markdown",
      "metadata": {
        "id": "view-in-github",
        "colab_type": "text"
      },
      "source": [
        "<a href=\"https://colab.research.google.com/github/22Ifeoma22/22Ifeoma22/blob/main/03_EagerExecution.ipynb\" target=\"_parent\"><img src=\"https://colab.research.google.com/assets/colab-badge.svg\" alt=\"Open In Colab\"/></a>"
      ]
    },
    {
      "cell_type": "code",
      "execution_count": null,
      "metadata": {
        "id": "JqIXnNbnnG3i"
      },
      "outputs": [],
      "source": [
        "import tensorflow as tf"
      ]
    },
    {
      "cell_type": "code",
      "execution_count": null,
      "metadata": {
        "id": "rP0jTYaEnG3j",
        "outputId": "061bba4d-7b1d-4cd2-9a0d-9234c893d934"
      },
      "outputs": [
        {
          "data": {
            "text/plain": [
              "True"
            ]
          },
          "execution_count": 10,
          "metadata": {},
          "output_type": "execute_result"
        }
      ],
      "source": [
        "tf.executing_eagerly()"
      ]
    },
    {
      "cell_type": "code",
      "execution_count": null,
      "metadata": {
        "id": "mY7rrOmVnG3j",
        "outputId": "1c4ed954-43bd-4f4c-c677-bcd9eabc59ed"
      },
      "outputs": [
        {
          "data": {
            "text/plain": [
              "<tf.Tensor: shape=(1, 1), dtype=float32, numpy=array([[100.]], dtype=float32)>"
            ]
          },
          "execution_count": 16,
          "metadata": {},
          "output_type": "execute_result"
        }
      ],
      "source": [
        "x = [[10.]]\n",
        "\n",
        "res = tf.matmul(x, x)\n",
        "\n",
        "res"
      ]
    },
    {
      "cell_type": "code",
      "execution_count": null,
      "metadata": {
        "id": "evgXo9J-nG3k",
        "outputId": "b5654104-515c-4f46-8b20-9ecb974c92fd"
      },
      "outputs": [
        {
          "data": {
            "text/plain": [
              "<tf.Tensor: shape=(2, 2), dtype=int32, numpy=\n",
              "array([[10, 20],\n",
              "       [30, 40]], dtype=int32)>"
            ]
          },
          "execution_count": 17,
          "metadata": {},
          "output_type": "execute_result"
        }
      ],
      "source": [
        "a = tf.constant([[10, 20],\n",
        "                 [30, 40]])\n",
        "\n",
        "a"
      ]
    },
    {
      "cell_type": "code",
      "execution_count": null,
      "metadata": {
        "id": "ArBzXw2AnG3k",
        "outputId": "934fbdab-ca0f-497d-ab29-9b794985eefc"
      },
      "outputs": [
        {
          "name": "stdout",
          "output_type": "stream",
          "text": [
            "tf.Tensor(\n",
            "[[12 22]\n",
            " [32 42]], shape=(2, 2), dtype=int32)\n"
          ]
        }
      ],
      "source": [
        "b = tf.add(a, 2)\n",
        "\n",
        "print(b)"
      ]
    },
    {
      "cell_type": "code",
      "execution_count": null,
      "metadata": {
        "id": "VmcSAjUVnG3k",
        "outputId": "6a487e20-af40-4f28-8848-1c343aa85337"
      },
      "outputs": [
        {
          "name": "stdout",
          "output_type": "stream",
          "text": [
            "tf.Tensor(\n",
            "[[200 231]\n",
            " [264 299]], shape=(2, 2), dtype=int32)\n"
          ]
        }
      ],
      "source": [
        "print(a * b)"
      ]
    },
    {
      "cell_type": "code",
      "execution_count": null,
      "metadata": {
        "id": "hrKzSvuBnG3k"
      },
      "outputs": [],
      "source": [
        "m = tf.Variable([4.0, 5.0, 6.0], tf.float32, name='m')\n",
        "\n",
        "c = tf.Variable([1.0, 1.0, 1.0], tf.float32, name='c')"
      ]
    },
    {
      "cell_type": "code",
      "execution_count": null,
      "metadata": {
        "id": "MmZConIknG3k",
        "outputId": "e8f55c3b-4224-41de-d0ae-208b7615b330"
      },
      "outputs": [
        {
          "data": {
            "text/plain": [
              "<tf.Variable 'm:0' shape=(3,) dtype=float32, numpy=array([4., 5., 6.], dtype=float32)>"
            ]
          },
          "execution_count": 20,
          "metadata": {},
          "output_type": "execute_result"
        }
      ],
      "source": [
        "m"
      ]
    },
    {
      "cell_type": "code",
      "execution_count": null,
      "metadata": {
        "id": "gHLZDVkCnG3k",
        "outputId": "430b4b66-908d-4ef4-bb90-78e80bbf186f"
      },
      "outputs": [
        {
          "data": {
            "text/plain": [
              "<tf.Variable 'c:0' shape=(3,) dtype=float32, numpy=array([1., 1., 1.], dtype=float32)>"
            ]
          },
          "execution_count": 21,
          "metadata": {},
          "output_type": "execute_result"
        }
      ],
      "source": [
        "c"
      ]
    },
    {
      "cell_type": "code",
      "execution_count": null,
      "metadata": {
        "id": "NCrsrnounG3k",
        "outputId": "59aa5564-7ab9-4d65-c0a2-c304a42ae71a"
      },
      "outputs": [
        {
          "data": {
            "text/plain": [
              "<tf.Variable 'v:0' shape=(3,) dtype=float32, numpy=array([100., 100., 100.], dtype=float32)>"
            ]
          },
          "execution_count": 22,
          "metadata": {},
          "output_type": "execute_result"
        }
      ],
      "source": [
        "x = tf.Variable([100.0, 100.0, 100.0], tf.float32, name='x')\n",
        "\n",
        "x"
      ]
    },
    {
      "cell_type": "code",
      "execution_count": null,
      "metadata": {
        "id": "wiIySyGFnG3l",
        "outputId": "c2938f89-3fc7-484c-c88e-eac56ccd9cdd"
      },
      "outputs": [
        {
          "data": {
            "text/plain": [
              "<tf.Tensor: shape=(3,), dtype=float32, numpy=array([401., 501., 601.], dtype=float32)>"
            ]
          },
          "execution_count": 23,
          "metadata": {},
          "output_type": "execute_result"
        }
      ],
      "source": [
        "y = m * x + c\n",
        "\n",
        "y"
      ]
    },
    {
      "cell_type": "markdown",
      "metadata": {
        "id": "ZSlDC3bKnG3l"
      },
      "source": [
        "### Dynamic Control Flow"
      ]
    },
    {
      "cell_type": "code",
      "execution_count": null,
      "metadata": {
        "id": "yPnzG-6snG3l"
      },
      "outputs": [],
      "source": [
        "def tensorflow(max_num):\n",
        "\n",
        "    counter = tf.constant(0)\n",
        "    max_num = tf.constant(max_num)\n",
        "\n",
        "    for num in range(0, max_num.numpy() + 1):\n",
        "        num = tf.constant(num)\n",
        "\n",
        "        if int(num % 3) == 0 and int(num % 5) == 0:\n",
        "            print('Divisible by 3 and 5: ', num.numpy())\n",
        "\n",
        "        elif int(num % 3) == 0:\n",
        "            print('Divisible by 3: ', num.numpy())\n",
        "\n",
        "        elif int(num % 5) == 0:\n",
        "            print('Divisible by 5: ', num.numpy())\n",
        "\n",
        "        else:\n",
        "            print(num.numpy())\n",
        "\n",
        "        counter += 1"
      ]
    },
    {
      "cell_type": "code",
      "execution_count": null,
      "metadata": {
        "id": "9SRKcPW_nG3l",
        "outputId": "dcb92c3d-6827-4637-c703-e1578c97139a"
      },
      "outputs": [
        {
          "name": "stdout",
          "output_type": "stream",
          "text": [
            "Divisible by 3 and 5:  0\n",
            "1\n",
            "2\n",
            "Divisible by 3:  3\n",
            "4\n",
            "Divisible by 5:  5\n",
            "Divisible by 3:  6\n",
            "7\n",
            "8\n",
            "Divisible by 3:  9\n",
            "Divisible by 5:  10\n",
            "11\n",
            "Divisible by 3:  12\n",
            "13\n",
            "14\n",
            "Divisible by 3 and 5:  15\n"
          ]
        }
      ],
      "source": [
        "tensorflow(15)"
      ]
    },
    {
      "cell_type": "code",
      "execution_count": null,
      "metadata": {
        "id": "zDn43aXInG3m"
      },
      "outputs": [],
      "source": []
    },
    {
      "cell_type": "code",
      "execution_count": null,
      "metadata": {
        "id": "KRp_thdHnG3m"
      },
      "outputs": [],
      "source": []
    },
    {
      "cell_type": "code",
      "execution_count": null,
      "metadata": {
        "id": "V_2cIn8lnG3m"
      },
      "outputs": [],
      "source": []
    },
    {
      "cell_type": "code",
      "execution_count": null,
      "metadata": {
        "id": "SR6iCWQinG3m"
      },
      "outputs": [],
      "source": []
    },
    {
      "cell_type": "code",
      "execution_count": null,
      "metadata": {
        "id": "CqrSAq5rnG3m"
      },
      "outputs": [],
      "source": []
    },
    {
      "cell_type": "code",
      "execution_count": null,
      "metadata": {
        "id": "Wd1jkPWFnG3m"
      },
      "outputs": [],
      "source": []
    },
    {
      "cell_type": "code",
      "execution_count": null,
      "metadata": {
        "id": "PXlKEjnvnG3m"
      },
      "outputs": [],
      "source": []
    },
    {
      "cell_type": "code",
      "execution_count": null,
      "metadata": {
        "id": "5jSwPQdTnG3m"
      },
      "outputs": [],
      "source": []
    },
    {
      "cell_type": "code",
      "execution_count": null,
      "metadata": {
        "id": "WW71QIhFnG3m"
      },
      "outputs": [],
      "source": []
    },
    {
      "cell_type": "code",
      "execution_count": null,
      "metadata": {
        "id": "9JCvgejnnG3m"
      },
      "outputs": [],
      "source": []
    },
    {
      "cell_type": "code",
      "execution_count": null,
      "metadata": {
        "id": "fNoqp18PnG3m"
      },
      "outputs": [],
      "source": []
    },
    {
      "cell_type": "code",
      "execution_count": null,
      "metadata": {
        "id": "37ugXtzcnG3m"
      },
      "outputs": [],
      "source": []
    },
    {
      "cell_type": "code",
      "execution_count": null,
      "metadata": {
        "id": "_bFAKzZEnG3m"
      },
      "outputs": [],
      "source": []
    },
    {
      "cell_type": "code",
      "execution_count": null,
      "metadata": {
        "id": "6vCgM8jcnG3m"
      },
      "outputs": [],
      "source": []
    }
  ],
  "metadata": {
    "kernelspec": {
      "display_name": "Python 3",
      "language": "python",
      "name": "python3"
    },
    "language_info": {
      "codemirror_mode": {
        "name": "ipython",
        "version": 3
      },
      "file_extension": ".py",
      "mimetype": "text/x-python",
      "name": "python",
      "nbconvert_exporter": "python",
      "pygments_lexer": "ipython3",
      "version": "3.7.4"
    },
    "colab": {
      "provenance": [],
      "include_colab_link": true
    }
  },
  "nbformat": 4,
  "nbformat_minor": 0
}