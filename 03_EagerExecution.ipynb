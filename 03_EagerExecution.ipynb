{
  "cells": [
    {
      "cell_type": "markdown",
      "metadata": {
        "id": "view-in-github",
        "colab_type": "text"
      },
      "source": [
        "<a href=\"https://colab.research.google.com/github/22Ifeoma22/22Ifeoma22/blob/main/03_EagerExecution.ipynb\" target=\"_parent\"><img src=\"https://colab.research.google.com/assets/colab-badge.svg\" alt=\"Open In Colab\"/></a>"
      ]
    },
    {
      "cell_type": "code",
      "execution_count": null,
      "metadata": {
        "id": "U5IVBe0eCwWf"
      },
      "outputs": [],
      "source": [
        "import tensorflow as tf"
      ]
    },
    {
      "cell_type": "code",
      "execution_count": null,
      "metadata": {
        "id": "3nbkApIeCwWh",
        "outputId": "a2a6595a-4354-407d-9829-c33a9febcd56"
      },
      "outputs": [
        {
          "data": {
            "text/plain": [
              "True"
            ]
          },
          "execution_count": 10,
          "metadata": {},
          "output_type": "execute_result"
        }
      ],
      "source": [
        "tf.executing_eagerly()"
      ]
    },
    {
      "cell_type": "code",
      "execution_count": null,
      "metadata": {
        "id": "mcFAp-8sCwWi",
        "outputId": "52f6bcf9-7ac1-4f82-e55b-11eaccf15bd2"
      },
      "outputs": [
        {
          "data": {
            "text/plain": [
              "<tf.Tensor: shape=(1, 1), dtype=float32, numpy=array([[100.]], dtype=float32)>"
            ]
          },
          "execution_count": 16,
          "metadata": {},
          "output_type": "execute_result"
        }
      ],
      "source": [
        "x = [[10.]]\n",
        "\n",
        "res = tf.matmul(x, x)\n",
        "\n",
        "res"
      ]
    },
    {
      "cell_type": "code",
      "execution_count": null,
      "metadata": {
        "id": "5Sg6Ja-sCwWi",
        "outputId": "f9c80f55-5540-45a6-b67e-89c4cece5551"
      },
      "outputs": [
        {
          "data": {
            "text/plain": [
              "<tf.Tensor: shape=(2, 2), dtype=int32, numpy=\n",
              "array([[10, 20],\n",
              "       [30, 40]], dtype=int32)>"
            ]
          },
          "execution_count": 17,
          "metadata": {},
          "output_type": "execute_result"
        }
      ],
      "source": [
        "a = tf.constant([[10, 20],\n",
        "                 [30, 40]])\n",
        "\n",
        "a"
      ]
    },
    {
      "cell_type": "code",
      "execution_count": null,
      "metadata": {
        "id": "uOVkjmmMCwWj",
        "outputId": "c2442909-7ca0-4dbc-fc82-e642842a324d"
      },
      "outputs": [
        {
          "name": "stdout",
          "output_type": "stream",
          "text": [
            "tf.Tensor(\n",
            "[[12 22]\n",
            " [32 42]], shape=(2, 2), dtype=int32)\n"
          ]
        }
      ],
      "source": [
        "b = tf.add(a, 2)\n",
        "\n",
        "print(b)"
      ]
    },
    {
      "cell_type": "code",
      "execution_count": null,
      "metadata": {
        "id": "qk368xaxCwWj",
        "outputId": "874290e2-3f4c-4065-f243-aff2b0845a62"
      },
      "outputs": [
        {
          "name": "stdout",
          "output_type": "stream",
          "text": [
            "tf.Tensor(\n",
            "[[200 231]\n",
            " [264 299]], shape=(2, 2), dtype=int32)\n"
          ]
        }
      ],
      "source": [
        "print(a * b)"
      ]
    },
    {
      "cell_type": "code",
      "execution_count": null,
      "metadata": {
        "id": "y9veeJ8PCwWj"
      },
      "outputs": [],
      "source": [
        "m = tf.Variable([4.0, 5.0, 6.0], tf.float32, name='m')\n",
        "\n",
        "c = tf.Variable([1.0, 1.0, 1.0], tf.float32, name='c')"
      ]
    },
    {
      "cell_type": "code",
      "execution_count": null,
      "metadata": {
        "id": "ROBW3unUCwWk",
        "outputId": "d5d1d07a-80e7-4c4e-a882-0f722c61bf1c"
      },
      "outputs": [
        {
          "data": {
            "text/plain": [
              "<tf.Variable 'm:0' shape=(3,) dtype=float32, numpy=array([4., 5., 6.], dtype=float32)>"
            ]
          },
          "execution_count": 20,
          "metadata": {},
          "output_type": "execute_result"
        }
      ],
      "source": [
        "m"
      ]
    },
    {
      "cell_type": "code",
      "execution_count": null,
      "metadata": {
        "id": "DaEwRG15CwWk",
        "outputId": "1f573a14-94dc-48af-c0f6-74f726969ea5"
      },
      "outputs": [
        {
          "data": {
            "text/plain": [
              "<tf.Variable 'c:0' shape=(3,) dtype=float32, numpy=array([1., 1., 1.], dtype=float32)>"
            ]
          },
          "execution_count": 21,
          "metadata": {},
          "output_type": "execute_result"
        }
      ],
      "source": [
        "c"
      ]
    },
    {
      "cell_type": "code",
      "execution_count": null,
      "metadata": {
        "id": "BmZEG3SNCwWk",
        "outputId": "9f329eb0-3fba-4af1-86eb-8714e10cf915"
      },
      "outputs": [
        {
          "data": {
            "text/plain": [
              "<tf.Variable 'v:0' shape=(3,) dtype=float32, numpy=array([100., 100., 100.], dtype=float32)>"
            ]
          },
          "execution_count": 22,
          "metadata": {},
          "output_type": "execute_result"
        }
      ],
      "source": [
        "x = tf.Variable([100.0, 100.0, 100.0], tf.float32, name='x')\n",
        "\n",
        "x"
      ]
    },
    {
      "cell_type": "code",
      "execution_count": null,
      "metadata": {
        "id": "A1M3AMDPCwWl",
        "outputId": "01429543-2bc7-42f9-be0b-f613d9795263"
      },
      "outputs": [
        {
          "data": {
            "text/plain": [
              "<tf.Tensor: shape=(3,), dtype=float32, numpy=array([401., 501., 601.], dtype=float32)>"
            ]
          },
          "execution_count": 23,
          "metadata": {},
          "output_type": "execute_result"
        }
      ],
      "source": [
        "y = m * x + c\n",
        "\n",
        "y"
      ]
    },
    {
      "cell_type": "markdown",
      "metadata": {
        "id": "OmlJloaqCwWl"
      },
      "source": [
        "### Dynamic Control Flow"
      ]
    },
    {
      "cell_type": "code",
      "execution_count": null,
      "metadata": {
        "id": "Ibk9m6SxCwWm"
      },
      "outputs": [],
      "source": [
        "def tensorflow(max_num):\n",
        "\n",
        "    counter = tf.constant(0)\n",
        "    max_num = tf.constant(max_num)\n",
        "\n",
        "    for num in range(0, max_num.numpy() + 1):\n",
        "        num = tf.constant(num)\n",
        "\n",
        "        if int(num % 3) == 0 and int(num % 5) == 0:\n",
        "            print('Divisible by 3 and 5: ', num.numpy())\n",
        "\n",
        "        elif int(num % 3) == 0:\n",
        "            print('Divisible by 3: ', num.numpy())\n",
        "\n",
        "        elif int(num % 5) == 0:\n",
        "            print('Divisible by 5: ', num.numpy())\n",
        "\n",
        "        else:\n",
        "            print(num.numpy())\n",
        "\n",
        "        counter += 1"
      ]
    },
    {
      "cell_type": "code",
      "execution_count": null,
      "metadata": {
        "id": "lWHOQ4XaCwWm",
        "outputId": "a2b44197-a1ce-4dd5-f7f4-7f6ef489244b"
      },
      "outputs": [
        {
          "name": "stdout",
          "output_type": "stream",
          "text": [
            "Divisible by 3 and 5:  0\n",
            "1\n",
            "2\n",
            "Divisible by 3:  3\n",
            "4\n",
            "Divisible by 5:  5\n",
            "Divisible by 3:  6\n",
            "7\n",
            "8\n",
            "Divisible by 3:  9\n",
            "Divisible by 5:  10\n",
            "11\n",
            "Divisible by 3:  12\n",
            "13\n",
            "14\n",
            "Divisible by 3 and 5:  15\n"
          ]
        }
      ],
      "source": [
        "tensorflow(15)"
      ]
    },
    {
      "cell_type": "code",
      "execution_count": null,
      "metadata": {
        "id": "Zvh80yMhCwWm"
      },
      "outputs": [],
      "source": []
    },
    {
      "cell_type": "code",
      "execution_count": null,
      "metadata": {
        "id": "fbL6TrHhCwWn"
      },
      "outputs": [],
      "source": []
    },
    {
      "cell_type": "code",
      "execution_count": null,
      "metadata": {
        "id": "AuHFRbpBCwWn"
      },
      "outputs": [],
      "source": []
    },
    {
      "cell_type": "code",
      "execution_count": null,
      "metadata": {
        "id": "un8LKzYwCwWn"
      },
      "outputs": [],
      "source": []
    },
    {
      "cell_type": "code",
      "execution_count": null,
      "metadata": {
        "id": "oSYy1gF7CwWn"
      },
      "outputs": [],
      "source": []
    },
    {
      "cell_type": "code",
      "execution_count": null,
      "metadata": {
        "id": "AiGsKV44CwWn"
      },
      "outputs": [],
      "source": []
    },
    {
      "cell_type": "code",
      "execution_count": null,
      "metadata": {
        "id": "VTMQVYf9CwWn"
      },
      "outputs": [],
      "source": []
    },
    {
      "cell_type": "code",
      "execution_count": null,
      "metadata": {
        "id": "cN7XRbm3CwWn"
      },
      "outputs": [],
      "source": []
    },
    {
      "cell_type": "code",
      "execution_count": null,
      "metadata": {
        "id": "B7lUprRcCwWn"
      },
      "outputs": [],
      "source": []
    },
    {
      "cell_type": "code",
      "execution_count": null,
      "metadata": {
        "id": "5kWfseDYCwWn"
      },
      "outputs": [],
      "source": []
    },
    {
      "cell_type": "code",
      "execution_count": null,
      "metadata": {
        "id": "givFT2N6CwWo"
      },
      "outputs": [],
      "source": []
    },
    {
      "cell_type": "code",
      "execution_count": null,
      "metadata": {
        "id": "3I4nHxhPCwWo"
      },
      "outputs": [],
      "source": []
    },
    {
      "cell_type": "code",
      "execution_count": null,
      "metadata": {
        "id": "FUGXFx_ICwWo"
      },
      "outputs": [],
      "source": []
    },
    {
      "cell_type": "code",
      "execution_count": null,
      "metadata": {
        "id": "B64qCFHMCwWo"
      },
      "outputs": [],
      "source": []
    }
  ],
  "metadata": {
    "kernelspec": {
      "display_name": "Python 3",
      "language": "python",
      "name": "python3"
    },
    "language_info": {
      "codemirror_mode": {
        "name": "ipython",
        "version": 3
      },
      "file_extension": ".py",
      "mimetype": "text/x-python",
      "name": "python",
      "nbconvert_exporter": "python",
      "pygments_lexer": "ipython3",
      "version": "3.7.4"
    },
    "colab": {
      "provenance": [],
      "include_colab_link": true
    }
  },
  "nbformat": 4,
  "nbformat_minor": 0
}