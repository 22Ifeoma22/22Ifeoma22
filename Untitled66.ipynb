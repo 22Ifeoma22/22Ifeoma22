{
  "nbformat": 4,
  "nbformat_minor": 0,
  "metadata": {
    "colab": {
      "provenance": [],
      "authorship_tag": "ABX9TyMjXlU4hafGM+hmRmQ+r33P",
      "include_colab_link": true
    },
    "kernelspec": {
      "name": "python3",
      "display_name": "Python 3"
    },
    "language_info": {
      "name": "python"
    }
  },
  "cells": [
    {
      "cell_type": "markdown",
      "metadata": {
        "id": "view-in-github",
        "colab_type": "text"
      },
      "source": [
        "<a href=\"https://colab.research.google.com/github/22Ifeoma22/22Ifeoma22/blob/main/Untitled66.ipynb\" target=\"_parent\"><img src=\"https://colab.research.google.com/assets/colab-badge.svg\" alt=\"Open In Colab\"/></a>"
      ]
    },
    {
      "cell_type": "code",
      "execution_count": 3,
      "metadata": {
        "id": "kKwU_omz9RdT"
      },
      "outputs": [],
      "source": [
        "import re\n",
        "from bs4 import BeautifulSoup\n",
        "import requests"
      ]
    },
    {
      "cell_type": "code",
      "source": [
        "with open('/content/sample_data/ThreeApplesStory.html') as html_code:\n",
        "  soup = BeautifulSoup(html_code, 'html.parser')"
      ],
      "metadata": {
        "id": "vrm-zt824zBQ"
      },
      "execution_count": 6,
      "outputs": []
    },
    {
      "cell_type": "code",
      "source": [
        "soup.find('a')"
      ],
      "metadata": {
        "colab": {
          "base_uri": "https://localhost:8080/"
        },
        "id": "1pyA9fvo-mNN",
        "outputId": "3b28a349-9766-495f-f650-a6e1051e9fb6"
      },
      "execution_count": 7,
      "outputs": [
        {
          "output_type": "execute_result",
          "data": {
            "text/plain": [
              "<a class=\"apple\" href=\"https://www.alimentarium.org/en/knowledge/eve-and-forbidden-fruit\" id=\"link1\">Eve's apple</a>"
            ]
          },
          "metadata": {},
          "execution_count": 7
        }
      ]
    },
    {
      "cell_type": "code",
      "source": [
        "soup.findAll('a')"
      ],
      "metadata": {
        "colab": {
          "base_uri": "https://localhost:8080/"
        },
        "id": "pkwP2Ekt-zwM",
        "outputId": "894fa3e8-a402-47b0-99d9-0d28de256736"
      },
      "execution_count": 8,
      "outputs": [
        {
          "output_type": "stream",
          "name": "stderr",
          "text": [
            "<ipython-input-8-de472d017aa2>:1: DeprecationWarning: Call to deprecated method findAll. (Replaced by find_all) -- Deprecated since version 4.0.0.\n",
            "  soup.findAll('a')\n"
          ]
        },
        {
          "output_type": "execute_result",
          "data": {
            "text/plain": [
              "[<a class=\"apple\" href=\"https://www.alimentarium.org/en/knowledge/eve-and-forbidden-fruit\" id=\"link1\">Eve's apple</a>,\n",
              " <a class=\"apple\" href=\"https://en.wikipedia.org/wiki/Newton%27s_Apple\" id=\"link2\">Newton's apple</a>,\n",
              " <a class=\"apple\" href=\"https://en.wikipedia.org/wiki/Apple_Store\" id=\"link3\">Steve Jobs' Apple</a>,\n",
              " <a class=\"3_Apples\" href=\"https://www.speakingtree.in/blog/three-apples-that-changed-the-world\" id=\"link4\">Here</a>]"
            ]
          },
          "metadata": {},
          "execution_count": 8
        }
      ]
    },
    {
      "cell_type": "code",
      "source": [
        "soup.find_all('title')"
      ],
      "metadata": {
        "colab": {
          "base_uri": "https://localhost:8080/"
        },
        "id": "ymVB-M1D-5U7",
        "outputId": "48f6908a-8979-4f00-da89-39fbea3c5dd7"
      },
      "execution_count": 9,
      "outputs": [
        {
          "output_type": "execute_result",
          "data": {
            "text/plain": [
              "[<title>Three Apples</title>]"
            ]
          },
          "metadata": {},
          "execution_count": 9
        }
      ]
    },
    {
      "cell_type": "code",
      "source": [
        "soup.find(re.compile(\"^p\"))"
      ],
      "metadata": {
        "colab": {
          "base_uri": "https://localhost:8080/"
        },
        "id": "bVKDmHO1-9mT",
        "outputId": "430a64b4-1df3-4606-9cdd-1d63d017826d"
      },
      "execution_count": 10,
      "outputs": [
        {
          "output_type": "execute_result",
          "data": {
            "text/plain": [
              "<p class=\"title\"><b>The three Apples that changed the world</b></p>"
            ]
          },
          "metadata": {},
          "execution_count": 10
        }
      ]
    },
    {
      "cell_type": "code",
      "source": [
        "for tag in soup.find_all(re.compile(\"^p\")):\n",
        "  print(tag.name)"
      ],
      "metadata": {
        "colab": {
          "base_uri": "https://localhost:8080/"
        },
        "id": "PXkcFNLC_OcN",
        "outputId": "c8805e75-b004-4261-b6ee-99792ab5a343"
      },
      "execution_count": 11,
      "outputs": [
        {
          "output_type": "stream",
          "name": "stdout",
          "text": [
            "p\n",
            "p\n",
            "p\n"
          ]
        }
      ]
    },
    {
      "cell_type": "code",
      "source": [
        "soup.find_all(src = 'Apples.jpg')"
      ],
      "metadata": {
        "colab": {
          "base_uri": "https://localhost:8080/"
        },
        "id": "bubUKWBsAK_w",
        "outputId": "c51ed808-5033-4cba-85b2-efce6202c26d"
      },
      "execution_count": 12,
      "outputs": [
        {
          "output_type": "execute_result",
          "data": {
            "text/plain": [
              "[<img alt=\"Image of apples\" src=\"Apples.jpg\"/>]"
            ]
          },
          "metadata": {},
          "execution_count": 12
        }
      ]
    },
    {
      "cell_type": "code",
      "source": [
        "soup.find_all(alt = 'Image of apples')"
      ],
      "metadata": {
        "colab": {
          "base_uri": "https://localhost:8080/"
        },
        "id": "U8T8wl4UA5lx",
        "outputId": "ccf42c6c-40ea-4f7d-942c-bcc4553b9a2b"
      },
      "execution_count": 13,
      "outputs": [
        {
          "output_type": "execute_result",
          "data": {
            "text/plain": [
              "[<img alt=\"Image of apples\" src=\"Apples.jpg\"/>]"
            ]
          },
          "metadata": {},
          "execution_count": 13
        }
      ]
    },
    {
      "cell_type": "code",
      "source": [
        "soup.find_all(class_ = 'apple')"
      ],
      "metadata": {
        "colab": {
          "base_uri": "https://localhost:8080/"
        },
        "id": "dm1_7xoYBFwr",
        "outputId": "eaea6844-9668-4275-be55-6e87ab0ec730"
      },
      "execution_count": 14,
      "outputs": [
        {
          "output_type": "execute_result",
          "data": {
            "text/plain": [
              "[<a class=\"apple\" href=\"https://www.alimentarium.org/en/knowledge/eve-and-forbidden-fruit\" id=\"link1\">Eve's apple</a>,\n",
              " <a class=\"apple\" href=\"https://en.wikipedia.org/wiki/Newton%27s_Apple\" id=\"link2\">Newton's apple</a>,\n",
              " <a class=\"apple\" href=\"https://en.wikipedia.org/wiki/Apple_Store\" id=\"link3\">Steve Jobs' Apple</a>,\n",
              " <i class=\"apple\">We may have rarely observed these many facets of this remarkably insignificant fruit</i>]"
            ]
          },
          "metadata": {},
          "execution_count": 14
        }
      ]
    },
    {
      "cell_type": "code",
      "source": [
        "soup.find_all(href = True)"
      ],
      "metadata": {
        "colab": {
          "base_uri": "https://localhost:8080/"
        },
        "id": "dMstek-NBYdo",
        "outputId": "e3e630bf-857e-464e-b00a-0346cf5b1a2d"
      },
      "execution_count": 15,
      "outputs": [
        {
          "output_type": "execute_result",
          "data": {
            "text/plain": [
              "[<a class=\"apple\" href=\"https://www.alimentarium.org/en/knowledge/eve-and-forbidden-fruit\" id=\"link1\">Eve's apple</a>,\n",
              " <a class=\"apple\" href=\"https://en.wikipedia.org/wiki/Newton%27s_Apple\" id=\"link2\">Newton's apple</a>,\n",
              " <a class=\"apple\" href=\"https://en.wikipedia.org/wiki/Apple_Store\" id=\"link3\">Steve Jobs' Apple</a>,\n",
              " <a class=\"3_Apples\" href=\"https://www.speakingtree.in/blog/three-apples-that-changed-the-world\" id=\"link4\">Here</a>]"
            ]
          },
          "metadata": {},
          "execution_count": 15
        }
      ]
    },
    {
      "cell_type": "code",
      "source": [
        "soup.find_all(class_ = re.compile('^app'))"
      ],
      "metadata": {
        "colab": {
          "base_uri": "https://localhost:8080/"
        },
        "id": "m7iIaDwEBhug",
        "outputId": "18f2f08e-3071-4a01-eca8-82ebb14682f4"
      },
      "execution_count": 16,
      "outputs": [
        {
          "output_type": "execute_result",
          "data": {
            "text/plain": [
              "[<a class=\"apple\" href=\"https://www.alimentarium.org/en/knowledge/eve-and-forbidden-fruit\" id=\"link1\">Eve's apple</a>,\n",
              " <a class=\"apple\" href=\"https://en.wikipedia.org/wiki/Newton%27s_Apple\" id=\"link2\">Newton's apple</a>,\n",
              " <a class=\"apple\" href=\"https://en.wikipedia.org/wiki/Apple_Store\" id=\"link3\">Steve Jobs' Apple</a>,\n",
              " <i class=\"apple\">We may have rarely observed these many facets of this remarkably insignificant fruit</i>]"
            ]
          },
          "metadata": {},
          "execution_count": 16
        }
      ]
    },
    {
      "cell_type": "code",
      "source": [
        "soup.find_all('a', attrs = {'class': re.compile('^app')})"
      ],
      "metadata": {
        "colab": {
          "base_uri": "https://localhost:8080/"
        },
        "id": "9A4essnmBwUM",
        "outputId": "886435df-b561-4b14-a204-ebbacd94cdf8"
      },
      "execution_count": 17,
      "outputs": [
        {
          "output_type": "execute_result",
          "data": {
            "text/plain": [
              "[<a class=\"apple\" href=\"https://www.alimentarium.org/en/knowledge/eve-and-forbidden-fruit\" id=\"link1\">Eve's apple</a>,\n",
              " <a class=\"apple\" href=\"https://en.wikipedia.org/wiki/Newton%27s_Apple\" id=\"link2\">Newton's apple</a>,\n",
              " <a class=\"apple\" href=\"https://en.wikipedia.org/wiki/Apple_Store\" id=\"link3\">Steve Jobs' Apple</a>]"
            ]
          },
          "metadata": {},
          "execution_count": 17
        }
      ]
    },
    {
      "cell_type": "code",
      "source": [
        "soup.find_all(attrs  = {'class' : re.compile('^app')})"
      ],
      "metadata": {
        "colab": {
          "base_uri": "https://localhost:8080/"
        },
        "id": "AhYDogchB_t4",
        "outputId": "e123e583-79c7-44df-d2ff-6e3fd575bf8d"
      },
      "execution_count": 18,
      "outputs": [
        {
          "output_type": "execute_result",
          "data": {
            "text/plain": [
              "[<a class=\"apple\" href=\"https://www.alimentarium.org/en/knowledge/eve-and-forbidden-fruit\" id=\"link1\">Eve's apple</a>,\n",
              " <a class=\"apple\" href=\"https://en.wikipedia.org/wiki/Newton%27s_Apple\" id=\"link2\">Newton's apple</a>,\n",
              " <a class=\"apple\" href=\"https://en.wikipedia.org/wiki/Apple_Store\" id=\"link3\">Steve Jobs' Apple</a>,\n",
              " <i class=\"apple\">We may have rarely observed these many facets of this remarkably insignificant fruit</i>]"
            ]
          },
          "metadata": {},
          "execution_count": 18
        }
      ]
    },
    {
      "cell_type": "code",
      "source": [
        "soup.find_all(attrs = {'class' : re.compile('^app'), 'href' : True})"
      ],
      "metadata": {
        "colab": {
          "base_uri": "https://localhost:8080/"
        },
        "id": "21UBLrUyClA-",
        "outputId": "6580dc75-366b-4f65-b913-bff3bd5e26d4"
      },
      "execution_count": 19,
      "outputs": [
        {
          "output_type": "execute_result",
          "data": {
            "text/plain": [
              "[<a class=\"apple\" href=\"https://www.alimentarium.org/en/knowledge/eve-and-forbidden-fruit\" id=\"link1\">Eve's apple</a>,\n",
              " <a class=\"apple\" href=\"https://en.wikipedia.org/wiki/Newton%27s_Apple\" id=\"link2\">Newton's apple</a>,\n",
              " <a class=\"apple\" href=\"https://en.wikipedia.org/wiki/Apple_Store\" id=\"link3\">Steve Jobs' Apple</a>]"
            ]
          },
          "metadata": {},
          "execution_count": 19
        }
      ]
    },
    {
      "cell_type": "code",
      "source": [
        "for tag in soup.find_all(id = re.compile(\"\\d\")):\n",
        "   print(tag)"
      ],
      "metadata": {
        "colab": {
          "base_uri": "https://localhost:8080/"
        },
        "id": "acYbzdLQC7S1",
        "outputId": "0f5f633f-58c6-4dfa-dd82-18b4b58778f4"
      },
      "execution_count": 20,
      "outputs": [
        {
          "output_type": "stream",
          "name": "stdout",
          "text": [
            "<a class=\"apple\" href=\"https://www.alimentarium.org/en/knowledge/eve-and-forbidden-fruit\" id=\"link1\">Eve's apple</a>\n",
            "<a class=\"apple\" href=\"https://en.wikipedia.org/wiki/Newton%27s_Apple\" id=\"link2\">Newton's apple</a>\n",
            "<a class=\"apple\" href=\"https://en.wikipedia.org/wiki/Apple_Store\" id=\"link3\">Steve Jobs' Apple</a>\n",
            "<a class=\"3_Apples\" href=\"https://www.speakingtree.in/blog/three-apples-that-changed-the-world\" id=\"link4\">Here</a>\n"
          ]
        }
      ]
    },
    {
      "cell_type": "code",
      "source": [
        "for tag in soup.find_all(href = re.compile(\"wikipedia\")):\n",
        "  print(tag)"
      ],
      "metadata": {
        "colab": {
          "base_uri": "https://localhost:8080/"
        },
        "id": "t6Shcy6cDK7g",
        "outputId": "953095bf-126d-487e-c3ae-e97a394d788b"
      },
      "execution_count": 27,
      "outputs": [
        {
          "output_type": "stream",
          "name": "stdout",
          "text": [
            "<a class=\"apple\" href=\"https://en.wikipedia.org/wiki/Newton%27s_Apple\" id=\"link2\">Newton's apple</a>\n",
            "<a class=\"apple\" href=\"https://en.wikipedia.org/wiki/Apple_Store\" id=\"link3\">Steve Jobs' Apple</a>\n"
          ]
        }
      ]
    },
    {
      "cell_type": "code",
      "source": [
        "soup.find_all(['title', 'img'])"
      ],
      "metadata": {
        "colab": {
          "base_uri": "https://localhost:8080/"
        },
        "id": "7F__0pKVD3SQ",
        "outputId": "8d2082ec-e6da-4efd-86d7-76fc88b0943b"
      },
      "execution_count": 28,
      "outputs": [
        {
          "output_type": "execute_result",
          "data": {
            "text/plain": [
              "[<title>Three Apples</title>, <img alt=\"Image of apples\" src=\"Apples.jpg\"/>]"
            ]
          },
          "metadata": {},
          "execution_count": 28
        }
      ]
    },
    {
      "cell_type": "code",
      "source": [
        "def has_src_but_no_href(tag):\n",
        "  return tag.has_attr('src') and not tag.has_attr('href')"
      ],
      "metadata": {
        "id": "KvW2T5zvEyU9"
      },
      "execution_count": 29,
      "outputs": []
    },
    {
      "cell_type": "code",
      "source": [
        "soup.find_all(has_src_but_no_href)"
      ],
      "metadata": {
        "colab": {
          "base_uri": "https://localhost:8080/"
        },
        "id": "hQ5lZeGxFFm5",
        "outputId": "6124546f-bc22-4191-9a86-d6e894f4e9f1"
      },
      "execution_count": 30,
      "outputs": [
        {
          "output_type": "execute_result",
          "data": {
            "text/plain": [
              "[<img alt=\"Image of apples\" src=\"Apples.jpg\"/>]"
            ]
          },
          "metadata": {},
          "execution_count": 30
        }
      ]
    },
    {
      "cell_type": "code",
      "source": [
        "def has_href_but_no_src(tag):\n",
        "  return tag.has_attr('href') and not tag.has_attr('src')"
      ],
      "metadata": {
        "id": "4HIt-PYjFTYY"
      },
      "execution_count": 31,
      "outputs": []
    },
    {
      "cell_type": "code",
      "source": [
        "soup.find_all(has_href_but_no_src)"
      ],
      "metadata": {
        "colab": {
          "base_uri": "https://localhost:8080/"
        },
        "id": "eaH0ZoTfFevi",
        "outputId": "e05c69af-39c2-45df-c46d-568b33ef575b"
      },
      "execution_count": 32,
      "outputs": [
        {
          "output_type": "execute_result",
          "data": {
            "text/plain": [
              "[<a class=\"apple\" href=\"https://www.alimentarium.org/en/knowledge/eve-and-forbidden-fruit\" id=\"link1\">Eve's apple</a>,\n",
              " <a class=\"apple\" href=\"https://en.wikipedia.org/wiki/Newton%27s_Apple\" id=\"link2\">Newton's apple</a>,\n",
              " <a class=\"apple\" href=\"https://en.wikipedia.org/wiki/Apple_Store\" id=\"link3\">Steve Jobs' Apple</a>,\n",
              " <a class=\"3_Apples\" href=\"https://www.speakingtree.in/blog/three-apples-that-changed-the-world\" id=\"link4\">Here</a>]"
            ]
          },
          "metadata": {},
          "execution_count": 32
        }
      ]
    },
    {
      "cell_type": "code",
      "source": [
        "def eve_apple(href):\n",
        "  return href and re.compile(\"eve\").search(href)"
      ],
      "metadata": {
        "id": "copjs9lCFsT8"
      },
      "execution_count": 33,
      "outputs": []
    },
    {
      "cell_type": "code",
      "source": [
        "soup.find_all(href = eve_apple)"
      ],
      "metadata": {
        "colab": {
          "base_uri": "https://localhost:8080/"
        },
        "id": "CewMpBEHF5Si",
        "outputId": "82dea79a-0c8a-4d5c-ec35-c98aa7406e62"
      },
      "execution_count": 34,
      "outputs": [
        {
          "output_type": "execute_result",
          "data": {
            "text/plain": [
              "[<a class=\"apple\" href=\"https://www.alimentarium.org/en/knowledge/eve-and-forbidden-fruit\" id=\"link1\">Eve's apple</a>]"
            ]
          },
          "metadata": {},
          "execution_count": 34
        }
      ]
    },
    {
      "cell_type": "code",
      "source": [
        "def no_wikipedia_link(href):\n",
        "  return href and not re.compile(\"wiki\").search(href)"
      ],
      "metadata": {
        "id": "Fsqb9WoQGZKp"
      },
      "execution_count": 35,
      "outputs": []
    },
    {
      "cell_type": "code",
      "source": [
        "soup.find_all(href = no_wikipedia_link)"
      ],
      "metadata": {
        "colab": {
          "base_uri": "https://localhost:8080/"
        },
        "id": "ySU5nhJ3GiLR",
        "outputId": "c77f697e-39ac-4195-81bc-6e83bf78f25b"
      },
      "execution_count": 36,
      "outputs": [
        {
          "output_type": "execute_result",
          "data": {
            "text/plain": [
              "[<a class=\"apple\" href=\"https://www.alimentarium.org/en/knowledge/eve-and-forbidden-fruit\" id=\"link1\">Eve's apple</a>,\n",
              " <a class=\"3_Apples\" href=\"https://www.speakingtree.in/blog/three-apples-that-changed-the-world\" id=\"link4\">Here</a>]"
            ]
          },
          "metadata": {},
          "execution_count": 36
        }
      ]
    }
  ]
}